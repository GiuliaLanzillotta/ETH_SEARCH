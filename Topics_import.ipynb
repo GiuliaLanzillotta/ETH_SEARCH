{
 "cells": [
  {
   "cell_type": "code",
   "execution_count": 1,
   "metadata": {},
   "outputs": [],
   "source": [
    "import tomotopy as tp\n",
    "import pandas as pd\n",
    "import numpy as np\n",
    "import sys\n",
    "import nltk\n",
    "from nltk import word_tokenize, RegexpTokenizer,PunktSentenceTokenizer, sent_tokenize\n",
    "from nltk.stem import PorterStemmer\n",
    "from nltk.stem import WordNetLemmatizer\n",
    "from nltk.corpus import stopwords\n",
    "import gensim\n",
    "import gensim.corpora as corpora\n",
    "from gensim.utils import simple_preprocess\n",
    "from gensim.models import CoherenceModel\n",
    "import re"
   ]
  },
  {
   "cell_type": "markdown",
   "metadata": {},
   "source": [
    "### 1. Load the model and the abstracts file "
   ]
  },
  {
   "cell_type": "code",
   "execution_count": 4,
   "metadata": {},
   "outputs": [],
   "source": [
    "model = tp.LDAModel.load(\"lda_model150.bin\")"
   ]
  },
  {
   "cell_type": "code",
   "execution_count": 3,
   "metadata": {},
   "outputs": [],
   "source": [
    "data = pd.read_csv(\"abstracts_eng.csv\")\n",
    "collection = list(data['abstract'])"
   ]
  },
  {
   "cell_type": "code",
   "execution_count": 5,
   "metadata": {},
   "outputs": [
    {
     "data": {
      "text/html": [
       "<div>\n",
       "<style scoped>\n",
       "    .dataframe tbody tr th:only-of-type {\n",
       "        vertical-align: middle;\n",
       "    }\n",
       "\n",
       "    .dataframe tbody tr th {\n",
       "        vertical-align: top;\n",
       "    }\n",
       "\n",
       "    .dataframe thead th {\n",
       "        text-align: right;\n",
       "    }\n",
       "</style>\n",
       "<table border=\"1\" class=\"dataframe\">\n",
       "  <thead>\n",
       "    <tr style=\"text-align: right;\">\n",
       "      <th></th>\n",
       "      <th>abstract</th>\n",
       "      <th>id</th>\n",
       "      <th>title</th>\n",
       "    </tr>\n",
       "  </thead>\n",
       "  <tbody>\n",
       "    <tr>\n",
       "      <th>0</th>\n",
       "      <td>The goal of this note is to introduce new clas...</td>\n",
       "      <td>188444.0</td>\n",
       "      <td>Asymptotic versions for operators and operator...</td>\n",
       "    </tr>\n",
       "    <tr>\n",
       "      <th>1</th>\n",
       "      <td>We will review a Lemma published by Ran Raz in...</td>\n",
       "      <td>188623.0</td>\n",
       "      <td>Some remarks on a lemma of Ran Raz</td>\n",
       "    </tr>\n",
       "    <tr>\n",
       "      <th>2</th>\n",
       "      <td>An analysis of a 15th century Hebrew translati...</td>\n",
       "      <td>192001.0</td>\n",
       "      <td>Mordekhai Finzi’s Translation of Maestro Dardi...</td>\n",
       "    </tr>\n",
       "  </tbody>\n",
       "</table>\n",
       "</div>"
      ],
      "text/plain": [
       "                                            abstract        id  \\\n",
       "0  The goal of this note is to introduce new clas...  188444.0   \n",
       "1  We will review a Lemma published by Ran Raz in...  188623.0   \n",
       "2  An analysis of a 15th century Hebrew translati...  192001.0   \n",
       "\n",
       "                                               title  \n",
       "0  Asymptotic versions for operators and operator...  \n",
       "1                 Some remarks on a lemma of Ran Raz  \n",
       "2  Mordekhai Finzi’s Translation of Maestro Dardi...  "
      ]
     },
     "execution_count": 5,
     "metadata": {},
     "output_type": "execute_result"
    }
   ],
   "source": [
    "data.head(3)"
   ]
  },
  {
   "cell_type": "code",
   "execution_count": 10,
   "metadata": {},
   "outputs": [],
   "source": [
    "# Example collection\n",
    "toy_collection = ['hello hi I am a Data Science STUDENT here with Giulia and Andreas!U.S.A, United States of AMerica dixterochlomaterine hreoihso my dog ran away yesterday?! I will fly, to space tomorrow...',\n",
    "                  'space tomorrow space tomorrow if the dog ran away fly to space',\n",
    "                  ' fly to space  with my dog ran away']"
   ]
  },
  {
   "cell_type": "markdown",
   "metadata": {},
   "source": [
    "### 2. Pre-process the text"
   ]
  },
  {
   "cell_type": "markdown",
   "metadata": {},
   "source": [
    "The pre-processing comprises 2 steps: \n",
    "- tokenisation, stopwords-removal, stemming (optional), lemmatizing(optional)\n",
    "- ngrams modeling (bigrams & trigrams supported)\n",
    "\n",
    "Note: the first step is only dependent on a single input document, while ngrams modeling depends on the whole collection"
   ]
  },
  {
   "cell_type": "code",
   "execution_count": 6,
   "metadata": {},
   "outputs": [],
   "source": [
    "# Step 1\n",
    "word_stemmer = PorterStemmer()\n",
    "lemmatiser = WordNetLemmatizer()\n",
    "stop_words = stopwords.words('english')\n",
    "def normalisation(document, stemming = True, lemmatising = True, min_word_len = 3):\n",
    "    tokens = gensim.utils.simple_preprocess(str(document), deacc=True, max_len = sys.maxsize)\n",
    "    cleaned = [word for word in tokens if word not in stop_words]\n",
    "    if stemming:\n",
    "        cleaned = [word_stemmer.stem(word) for word in cleaned]\n",
    "    if lemmatising:\n",
    "        cleaned = [lemmatiser.lemmatize(word) for word in cleaned]\n",
    "    cleaned = [word for word in cleaned if (min_word_len<=len(word))]\n",
    "    return cleaned"
   ]
  },
  {
   "cell_type": "code",
   "execution_count": 7,
   "metadata": {},
   "outputs": [],
   "source": [
    "# Step 2\n",
    "def ngram(cleaned_docs, do_trigram = True, min_count_bigram = 5, threshold_bigram = 50, min_count_trigram = 5, threshold_trigram=50):\n",
    "    #Bigrams\n",
    "    bigram = gensim.models.Phrases(cleaned_docs, min_count= min_count_bigram, threshold=threshold_bigram) \n",
    "    bigram_mod = gensim.models.phrases.Phraser(bigram)\n",
    "    output = [bigram_mod[doc] for doc in cleaned_docs]\n",
    "    #Trigrams\n",
    "    if do_trigram:\n",
    "        trigram = gensim.models.Phrases(output, min_count= min_count_trigram, threshold=threshold_trigram) \n",
    "        trigram_mod = gensim.models.phrases.Phraser(trigram)\n",
    "        output = [trigram_mod[doc] for doc in output]\n",
    "    return output"
   ]
  },
  {
   "cell_type": "code",
   "execution_count": 11,
   "metadata": {
    "scrolled": true
   },
   "outputs": [],
   "source": [
    "# try out on toy collection\n",
    "toy_normalised = [normalisation(text, lemmatising = True, stemming = True, min_word_len = -1) for text in toy_collection]"
   ]
  },
  {
   "cell_type": "code",
   "execution_count": 9,
   "metadata": {},
   "outputs": [],
   "source": [
    "# run on true collection\n",
    "normalised = [normalisation(doc) for doc in collection]"
   ]
  },
  {
   "cell_type": "markdown",
   "metadata": {},
   "source": [
    "### 3. Extract topics for each document \n"
   ]
  },
  {
   "cell_type": "code",
   "execution_count": 24,
   "metadata": {
    "scrolled": true
   },
   "outputs": [],
   "source": [
    "def get_top_topics(document, model, min_score=0.8):\n",
    "    \"\"\" \n",
    "    Extracting top n topics for each document. \n",
    "    Selects the n most likely topics whose p(topic|document) sum to min_score.\n",
    "    \"\"\"\n",
    "    # inserting the document in the model\n",
    "    new_doc = model.make_doc(document)\n",
    "    _,_ = model.infer(new_doc)\n",
    "    # ordering from most probable topic to least one \n",
    "    dist = new_doc.get_topic_dist()\n",
    "    indices = np.flip(np.argsort(dist))\n",
    "    score = 0\n",
    "    indices_kept = []\n",
    "    probs_kept = []\n",
    "    for index in indices:\n",
    "        if score > min_score: break\n",
    "        score += dist[index]\n",
    "        indices_kept.append(index)\n",
    "        probs_kept.append(dist[index])\n",
    "    return list(zip(indices_kept, probs_kept))"
   ]
  },
  {
   "cell_type": "code",
   "execution_count": 27,
   "metadata": {},
   "outputs": [
    {
     "data": {
      "text/plain": [
       "[(11, 0.252124), (18, 0.13604221), (73, 0.1304265)]"
      ]
     },
     "execution_count": 27,
     "metadata": {},
     "output_type": "execute_result"
    }
   ],
   "source": [
    "# trying on toy collection\n",
    "get_top_topics(toy_normalised[0], model, 0.5)"
   ]
  },
  {
   "cell_type": "code",
   "execution_count": 28,
   "metadata": {},
   "outputs": [],
   "source": [
    "# extracting topics for the original collection\n",
    "docs2topics = [get_top_topics(doc, model) for doc in normalised]"
   ]
  },
  {
   "cell_type": "code",
   "execution_count": 29,
   "metadata": {},
   "outputs": [],
   "source": [
    "# enriching original dataframe with the topics list x document \n",
    "# Note: the following command will only work if the order of documents is the same for the collection and the docs-topics list\n",
    "enriched = data\n",
    "enriched[\"topics\"] = docs2topics"
   ]
  },
  {
   "cell_type": "code",
   "execution_count": 30,
   "metadata": {},
   "outputs": [
    {
     "data": {
      "text/html": [
       "<div>\n",
       "<style scoped>\n",
       "    .dataframe tbody tr th:only-of-type {\n",
       "        vertical-align: middle;\n",
       "    }\n",
       "\n",
       "    .dataframe tbody tr th {\n",
       "        vertical-align: top;\n",
       "    }\n",
       "\n",
       "    .dataframe thead th {\n",
       "        text-align: right;\n",
       "    }\n",
       "</style>\n",
       "<table border=\"1\" class=\"dataframe\">\n",
       "  <thead>\n",
       "    <tr style=\"text-align: right;\">\n",
       "      <th></th>\n",
       "      <th>abstract</th>\n",
       "      <th>id</th>\n",
       "      <th>title</th>\n",
       "      <th>topics</th>\n",
       "    </tr>\n",
       "  </thead>\n",
       "  <tbody>\n",
       "    <tr>\n",
       "      <th>0</th>\n",
       "      <td>The goal of this note is to introduce new clas...</td>\n",
       "      <td>188444.0</td>\n",
       "      <td>Asymptotic versions for operators and operator...</td>\n",
       "      <td>[(105, 0.48136905), (92, 0.2269906), (62, 0.09...</td>\n",
       "    </tr>\n",
       "    <tr>\n",
       "      <th>1</th>\n",
       "      <td>We will review a Lemma published by Ran Raz in...</td>\n",
       "      <td>188623.0</td>\n",
       "      <td>Some remarks on a lemma of Ran Raz</td>\n",
       "      <td>[(105, 0.501014), (44, 0.14082292), (13, 0.111...</td>\n",
       "    </tr>\n",
       "    <tr>\n",
       "      <th>2</th>\n",
       "      <td>An analysis of a 15th century Hebrew translati...</td>\n",
       "      <td>192001.0</td>\n",
       "      <td>Mordekhai Finzi’s Translation of Maestro Dardi...</td>\n",
       "      <td>[(101, 0.2754092), (112, 0.27519676), (105, 0....</td>\n",
       "    </tr>\n",
       "  </tbody>\n",
       "</table>\n",
       "</div>"
      ],
      "text/plain": [
       "                                            abstract        id  \\\n",
       "0  The goal of this note is to introduce new clas...  188444.0   \n",
       "1  We will review a Lemma published by Ran Raz in...  188623.0   \n",
       "2  An analysis of a 15th century Hebrew translati...  192001.0   \n",
       "\n",
       "                                               title  \\\n",
       "0  Asymptotic versions for operators and operator...   \n",
       "1                 Some remarks on a lemma of Ran Raz   \n",
       "2  Mordekhai Finzi’s Translation of Maestro Dardi...   \n",
       "\n",
       "                                              topics  \n",
       "0  [(105, 0.48136905), (92, 0.2269906), (62, 0.09...  \n",
       "1  [(105, 0.501014), (44, 0.14082292), (13, 0.111...  \n",
       "2  [(101, 0.2754092), (112, 0.27519676), (105, 0....  "
      ]
     },
     "execution_count": 30,
     "metadata": {},
     "output_type": "execute_result"
    }
   ],
   "source": [
    "enriched.head(3)"
   ]
  },
  {
   "cell_type": "code",
   "execution_count": 33,
   "metadata": {},
   "outputs": [],
   "source": [
    "# exploding the dataframe (one row for each document-topic pair)\n",
    "enriched=enriched.explode(\"topics\")\n",
    "enriched.columns = [\"abstract\",\"publication_id\",\"publication_title\",\"topic\"]"
   ]
  },
  {
   "cell_type": "code",
   "execution_count": 34,
   "metadata": {},
   "outputs": [
    {
     "data": {
      "text/html": [
       "<div>\n",
       "<style scoped>\n",
       "    .dataframe tbody tr th:only-of-type {\n",
       "        vertical-align: middle;\n",
       "    }\n",
       "\n",
       "    .dataframe tbody tr th {\n",
       "        vertical-align: top;\n",
       "    }\n",
       "\n",
       "    .dataframe thead th {\n",
       "        text-align: right;\n",
       "    }\n",
       "</style>\n",
       "<table border=\"1\" class=\"dataframe\">\n",
       "  <thead>\n",
       "    <tr style=\"text-align: right;\">\n",
       "      <th></th>\n",
       "      <th>abstract</th>\n",
       "      <th>publication_id</th>\n",
       "      <th>publication_title</th>\n",
       "      <th>topic</th>\n",
       "    </tr>\n",
       "  </thead>\n",
       "  <tbody>\n",
       "    <tr>\n",
       "      <th>0</th>\n",
       "      <td>The goal of this note is to introduce new clas...</td>\n",
       "      <td>188444.0</td>\n",
       "      <td>Asymptotic versions for operators and operator...</td>\n",
       "      <td>(105, 0.48136905)</td>\n",
       "    </tr>\n",
       "    <tr>\n",
       "      <th>0</th>\n",
       "      <td>The goal of this note is to introduce new clas...</td>\n",
       "      <td>188444.0</td>\n",
       "      <td>Asymptotic versions for operators and operator...</td>\n",
       "      <td>(92, 0.2269906)</td>\n",
       "    </tr>\n",
       "    <tr>\n",
       "      <th>0</th>\n",
       "      <td>The goal of this note is to introduce new clas...</td>\n",
       "      <td>188444.0</td>\n",
       "      <td>Asymptotic versions for operators and operator...</td>\n",
       "      <td>(62, 0.096369736)</td>\n",
       "    </tr>\n",
       "  </tbody>\n",
       "</table>\n",
       "</div>"
      ],
      "text/plain": [
       "                                            abstract  publication_id  \\\n",
       "0  The goal of this note is to introduce new clas...        188444.0   \n",
       "0  The goal of this note is to introduce new clas...        188444.0   \n",
       "0  The goal of this note is to introduce new clas...        188444.0   \n",
       "\n",
       "                                   publication_title              topic  \n",
       "0  Asymptotic versions for operators and operator...  (105, 0.48136905)  \n",
       "0  Asymptotic versions for operators and operator...    (92, 0.2269906)  \n",
       "0  Asymptotic versions for operators and operator...  (62, 0.096369736)  "
      ]
     },
     "execution_count": 34,
     "metadata": {},
     "output_type": "execute_result"
    }
   ],
   "source": [
    "enriched.head(3)"
   ]
  },
  {
   "cell_type": "code",
   "execution_count": 37,
   "metadata": {},
   "outputs": [
    {
     "data": {
      "text/html": [
       "<div>\n",
       "<style scoped>\n",
       "    .dataframe tbody tr th:only-of-type {\n",
       "        vertical-align: middle;\n",
       "    }\n",
       "\n",
       "    .dataframe tbody tr th {\n",
       "        vertical-align: top;\n",
       "    }\n",
       "\n",
       "    .dataframe thead th {\n",
       "        text-align: right;\n",
       "    }\n",
       "</style>\n",
       "<table border=\"1\" class=\"dataframe\">\n",
       "  <thead>\n",
       "    <tr style=\"text-align: right;\">\n",
       "      <th></th>\n",
       "      <th>abstract</th>\n",
       "      <th>publication_id</th>\n",
       "      <th>publication_title</th>\n",
       "      <th>topic</th>\n",
       "      <th>topic_id</th>\n",
       "      <th>topic_probability</th>\n",
       "    </tr>\n",
       "  </thead>\n",
       "  <tbody>\n",
       "    <tr>\n",
       "      <th>0</th>\n",
       "      <td>The goal of this note is to introduce new clas...</td>\n",
       "      <td>188444.0</td>\n",
       "      <td>Asymptotic versions for operators and operator...</td>\n",
       "      <td>(105, 0.48136905)</td>\n",
       "      <td>105</td>\n",
       "      <td>0.481369</td>\n",
       "    </tr>\n",
       "    <tr>\n",
       "      <th>0</th>\n",
       "      <td>The goal of this note is to introduce new clas...</td>\n",
       "      <td>188444.0</td>\n",
       "      <td>Asymptotic versions for operators and operator...</td>\n",
       "      <td>(92, 0.2269906)</td>\n",
       "      <td>92</td>\n",
       "      <td>0.226991</td>\n",
       "    </tr>\n",
       "    <tr>\n",
       "      <th>0</th>\n",
       "      <td>The goal of this note is to introduce new clas...</td>\n",
       "      <td>188444.0</td>\n",
       "      <td>Asymptotic versions for operators and operator...</td>\n",
       "      <td>(62, 0.096369736)</td>\n",
       "      <td>62</td>\n",
       "      <td>0.096370</td>\n",
       "    </tr>\n",
       "    <tr>\n",
       "      <th>1</th>\n",
       "      <td>We will review a Lemma published by Ran Raz in...</td>\n",
       "      <td>188623.0</td>\n",
       "      <td>Some remarks on a lemma of Ran Raz</td>\n",
       "      <td>(105, 0.501014)</td>\n",
       "      <td>105</td>\n",
       "      <td>0.501014</td>\n",
       "    </tr>\n",
       "    <tr>\n",
       "      <th>1</th>\n",
       "      <td>We will review a Lemma published by Ran Raz in...</td>\n",
       "      <td>188623.0</td>\n",
       "      <td>Some remarks on a lemma of Ran Raz</td>\n",
       "      <td>(44, 0.14082292)</td>\n",
       "      <td>44</td>\n",
       "      <td>0.140823</td>\n",
       "    </tr>\n",
       "  </tbody>\n",
       "</table>\n",
       "</div>"
      ],
      "text/plain": [
       "                                            abstract  publication_id  \\\n",
       "0  The goal of this note is to introduce new clas...        188444.0   \n",
       "0  The goal of this note is to introduce new clas...        188444.0   \n",
       "0  The goal of this note is to introduce new clas...        188444.0   \n",
       "1  We will review a Lemma published by Ran Raz in...        188623.0   \n",
       "1  We will review a Lemma published by Ran Raz in...        188623.0   \n",
       "\n",
       "                                   publication_title              topic  \\\n",
       "0  Asymptotic versions for operators and operator...  (105, 0.48136905)   \n",
       "0  Asymptotic versions for operators and operator...    (92, 0.2269906)   \n",
       "0  Asymptotic versions for operators and operator...  (62, 0.096369736)   \n",
       "1                 Some remarks on a lemma of Ran Raz    (105, 0.501014)   \n",
       "1                 Some remarks on a lemma of Ran Raz   (44, 0.14082292)   \n",
       "\n",
       "   topic_id  topic_probability  \n",
       "0       105           0.481369  \n",
       "0        92           0.226991  \n",
       "0        62           0.096370  \n",
       "1       105           0.501014  \n",
       "1        44           0.140823  "
      ]
     },
     "execution_count": 37,
     "metadata": {},
     "output_type": "execute_result"
    }
   ],
   "source": [
    "# separate topic id and probability\n",
    "\n",
    "enriched[[\"topic_id\",\"topic_probability\"]] = pd.DataFrame(enriched[\"topic\"].tolist(), \n",
    "                                                          index=enriched.index)\n",
    "enriched.head()"
   ]
  },
  {
   "cell_type": "code",
   "execution_count": 39,
   "metadata": {},
   "outputs": [
    {
     "data": {
      "text/html": [
       "<div>\n",
       "<style scoped>\n",
       "    .dataframe tbody tr th:only-of-type {\n",
       "        vertical-align: middle;\n",
       "    }\n",
       "\n",
       "    .dataframe tbody tr th {\n",
       "        vertical-align: top;\n",
       "    }\n",
       "\n",
       "    .dataframe thead th {\n",
       "        text-align: right;\n",
       "    }\n",
       "</style>\n",
       "<table border=\"1\" class=\"dataframe\">\n",
       "  <thead>\n",
       "    <tr style=\"text-align: right;\">\n",
       "      <th></th>\n",
       "      <th>abstract</th>\n",
       "      <th>publication_id</th>\n",
       "      <th>publication_title</th>\n",
       "      <th>topic_id</th>\n",
       "      <th>topic_probability</th>\n",
       "    </tr>\n",
       "  </thead>\n",
       "  <tbody>\n",
       "    <tr>\n",
       "      <th>0</th>\n",
       "      <td>The goal of this note is to introduce new clas...</td>\n",
       "      <td>188444.0</td>\n",
       "      <td>Asymptotic versions for operators and operator...</td>\n",
       "      <td>105</td>\n",
       "      <td>0.481369</td>\n",
       "    </tr>\n",
       "    <tr>\n",
       "      <th>0</th>\n",
       "      <td>The goal of this note is to introduce new clas...</td>\n",
       "      <td>188444.0</td>\n",
       "      <td>Asymptotic versions for operators and operator...</td>\n",
       "      <td>92</td>\n",
       "      <td>0.226991</td>\n",
       "    </tr>\n",
       "    <tr>\n",
       "      <th>0</th>\n",
       "      <td>The goal of this note is to introduce new clas...</td>\n",
       "      <td>188444.0</td>\n",
       "      <td>Asymptotic versions for operators and operator...</td>\n",
       "      <td>62</td>\n",
       "      <td>0.096370</td>\n",
       "    </tr>\n",
       "  </tbody>\n",
       "</table>\n",
       "</div>"
      ],
      "text/plain": [
       "                                            abstract  publication_id  \\\n",
       "0  The goal of this note is to introduce new clas...        188444.0   \n",
       "0  The goal of this note is to introduce new clas...        188444.0   \n",
       "0  The goal of this note is to introduce new clas...        188444.0   \n",
       "\n",
       "                                   publication_title  topic_id  \\\n",
       "0  Asymptotic versions for operators and operator...       105   \n",
       "0  Asymptotic versions for operators and operator...        92   \n",
       "0  Asymptotic versions for operators and operator...        62   \n",
       "\n",
       "   topic_probability  \n",
       "0           0.481369  \n",
       "0           0.226991  \n",
       "0           0.096370  "
      ]
     },
     "execution_count": 39,
     "metadata": {},
     "output_type": "execute_result"
    }
   ],
   "source": [
    "enriched = enriched.drop([\"topic\"], axis = 1)\n",
    "enriched.head(3)"
   ]
  },
  {
   "cell_type": "code",
   "execution_count": 52,
   "metadata": {},
   "outputs": [],
   "source": [
    "# issue: quotes need to be escaped in neo4j\n",
    "# the following function helps us avoid errors when importing\n",
    "\n",
    "def add_quote(abstract):\n",
    "    if isinstance(abstract, str):\n",
    "        abstract = abstract.replace('\\\\\"', '\"\"')\n",
    "        return abstract.replace('\"', '\"\"')\n",
    "\n",
    "enriched[\"abstract\"] = enriched[\"abstract\"].apply(add_quote)"
   ]
  },
  {
   "cell_type": "code",
   "execution_count": 53,
   "metadata": {},
   "outputs": [],
   "source": [
    "# save to .csv \n",
    "file_name=\"abstract+topic.csv\"\n",
    "enriched.to_csv(file_name,index=False)"
   ]
  },
  {
   "cell_type": "markdown",
   "metadata": {},
   "source": [
    "### 4. Extract words for each topic"
   ]
  },
  {
   "cell_type": "code",
   "execution_count": 45,
   "metadata": {},
   "outputs": [],
   "source": [
    "def get_top_words(topic, model, min_score=0.8):\n",
    "    \"\"\"\n",
    "    Extracting top n words for each document. \n",
    "    Selects the n most likely words whose p(word|topic) sum to min_score.\n",
    "    \"\"\"\n",
    "    dist = model.get_topic_word_dist(topic)\n",
    "    indices = np.flip(np.argsort(dist))\n",
    "    score = 0\n",
    "    word_kept = []\n",
    "    word_prob_kept = []\n",
    "    for index in indices:\n",
    "        if score > min_score: break\n",
    "        score += dist[index]\n",
    "        word_kept.append(model.used_vocabs[index])\n",
    "        word_prob_kept.append(dist[index])\n",
    "    return list(zip(word_kept, word_prob_kept))"
   ]
  },
  {
   "cell_type": "code",
   "execution_count": 46,
   "metadata": {
    "scrolled": true
   },
   "outputs": [
    {
     "data": {
      "text/plain": [
       "[('tc', 0.048273724),\n",
       " ('spectrum', 0.043341003),\n",
       " ('peak', 0.025371805),\n",
       " ('ce', 0.020791419),\n",
       " ('ab', 0.014801687),\n",
       " ('spectral', 0.0105736405),\n",
       " ('band', 0.010221303),\n",
       " ('deriv', 0.009164291),\n",
       " ('sa', 0.008811954),\n",
       " ('transit', 0.0070502684),\n",
       " ('experi', 0.0070502684),\n",
       " ('signal', 0.006697931),\n",
       " ('inclus', 0.006697931),\n",
       " ('cen', 0.006697931),\n",
       " ('atc', 0.006697931),\n",
       " ('pin', 0.006697931),\n",
       " ('nm', 0.006345594),\n",
       " ('specif_heat', 0.006345594)]"
      ]
     },
     "execution_count": 46,
     "metadata": {},
     "output_type": "execute_result"
    }
   ],
   "source": [
    "# trying it out\n",
    "get_top_words(2, model, 0.25)"
   ]
  },
  {
   "cell_type": "code",
   "execution_count": 47,
   "metadata": {},
   "outputs": [],
   "source": [
    "num_topics = 150"
   ]
  },
  {
   "cell_type": "code",
   "execution_count": 48,
   "metadata": {},
   "outputs": [],
   "source": [
    "topics2words = [get_top_words(i, model, min_score=0.25) for i in range(num_topics)]"
   ]
  },
  {
   "cell_type": "code",
   "execution_count": 49,
   "metadata": {},
   "outputs": [],
   "source": [
    "# creating new topic dataframe\n",
    "topics_df = pd.DataFrame({\"TopicID\":range(num_topics),\"TopicWords\":topics2words})"
   ]
  },
  {
   "cell_type": "code",
   "execution_count": 50,
   "metadata": {},
   "outputs": [
    {
     "data": {
      "text/html": [
       "<div>\n",
       "<style scoped>\n",
       "    .dataframe tbody tr th:only-of-type {\n",
       "        vertical-align: middle;\n",
       "    }\n",
       "\n",
       "    .dataframe tbody tr th {\n",
       "        vertical-align: top;\n",
       "    }\n",
       "\n",
       "    .dataframe thead th {\n",
       "        text-align: right;\n",
       "    }\n",
       "</style>\n",
       "<table border=\"1\" class=\"dataframe\">\n",
       "  <thead>\n",
       "    <tr style=\"text-align: right;\">\n",
       "      <th></th>\n",
       "      <th>TopicID</th>\n",
       "      <th>TopicWords</th>\n",
       "    </tr>\n",
       "  </thead>\n",
       "  <tbody>\n",
       "    <tr>\n",
       "      <th>0</th>\n",
       "      <td>0</td>\n",
       "      <td>[(flow, 0.06010573), (fluid, 0.017224967), (tr...</td>\n",
       "    </tr>\n",
       "    <tr>\n",
       "      <th>1</th>\n",
       "      <td>1</td>\n",
       "      <td>[(frequenc, 0.05785778), (nois, 0.028391361), ...</td>\n",
       "    </tr>\n",
       "    <tr>\n",
       "      <th>2</th>\n",
       "      <td>2</td>\n",
       "      <td>[(tc, 0.048273724), (spectrum, 0.043341003), (...</td>\n",
       "    </tr>\n",
       "  </tbody>\n",
       "</table>\n",
       "</div>"
      ],
      "text/plain": [
       "   TopicID                                         TopicWords\n",
       "0        0  [(flow, 0.06010573), (fluid, 0.017224967), (tr...\n",
       "1        1  [(frequenc, 0.05785778), (nois, 0.028391361), ...\n",
       "2        2  [(tc, 0.048273724), (spectrum, 0.043341003), (..."
      ]
     },
     "execution_count": 50,
     "metadata": {},
     "output_type": "execute_result"
    }
   ],
   "source": [
    "topics_df.head(3)"
   ]
  },
  {
   "cell_type": "code",
   "execution_count": 51,
   "metadata": {},
   "outputs": [],
   "source": [
    "# save to .csv \n",
    "file_name=\"topics.csv\"\n",
    "topics_df.to_csv(file_name,index=False)"
   ]
  },
  {
   "cell_type": "markdown",
   "metadata": {},
   "source": [
    "### Export to Neo4j"
   ]
  },
  {
   "cell_type": "markdown",
   "metadata": {},
   "source": [
    "Topic nodes: \n",
    "- TopicID (long)\n",
    "- Words (list(str)) \n",
    "<br>\n",
    "<br>\n",
    "\n",
    "        #Adding abstracts to existing publications\n",
    "        #LOAD CSV WITH HEADERS FROM \"file:///abstract+topic.csv\" AS line\n",
    "        #WITH line WHERE line.publication_id IS NOT NULL\n",
    "        #MATCH (publication:Publication {title: line.publication_title})\n",
    "        #SET publication.abstract = line.abstract\n",
    "        \n",
    "        #Defining the topic nodes\n",
    "        CREATE CONSTRAINT ON (c:Topic) ASSERT c.ID IS UNIQUE;\n",
    "        \n",
    "        #Loading the topic nodes \n",
    "        LOAD CSV WITH HEADERS FROM \"file:///topics.csv\" AS line\n",
    "        WITH line where line.TopicID IS NOT NULL\n",
    "        MERGE (t: Topic {ID: line.TopicID})\n",
    "        SET t.words= line.TopicWords;\n",
    "        \n",
    "        #Loading document<->topic relationships\n",
    "        LOAD CSV WITH HEADERS FROM \"file:///abstract+topic.csv\" AS line\n",
    "        MATCH (p:Publication {title: line.publication_title}),\n",
    "               (t:Topic {ID:line.topic_id})\n",
    "        MERGE (p)-[r:IS_ABOUT {weight: round(1000 * toFloat(line.topic_probability)) / 1000}]->(t);\n",
    "        "
   ]
  },
  {
   "cell_type": "markdown",
   "metadata": {},
   "source": [
    "### 5. Visualizations"
   ]
  },
  {
   "cell_type": "markdown",
   "metadata": {},
   "source": [
    "Here we use the docs2topics and topics2words data extracted before to get nice visualisations of our collection "
   ]
  },
  {
   "cell_type": "code",
   "execution_count": 46,
   "metadata": {},
   "outputs": [
    {
     "data": {
      "text/html": [
       "<div>\n",
       "<style scoped>\n",
       "    .dataframe tbody tr th:only-of-type {\n",
       "        vertical-align: middle;\n",
       "    }\n",
       "\n",
       "    .dataframe tbody tr th {\n",
       "        vertical-align: top;\n",
       "    }\n",
       "\n",
       "    .dataframe thead th {\n",
       "        text-align: right;\n",
       "    }\n",
       "</style>\n",
       "<table border=\"1\" class=\"dataframe\">\n",
       "  <thead>\n",
       "    <tr style=\"text-align: right;\">\n",
       "      <th></th>\n",
       "      <th>TopicID</th>\n",
       "      <th>TopicWords</th>\n",
       "    </tr>\n",
       "  </thead>\n",
       "  <tbody>\n",
       "    <tr>\n",
       "      <th>0</th>\n",
       "      <td>0</td>\n",
       "      <td>['flow', 'fluid', 'transport', 'pressur', 'vel...</td>\n",
       "    </tr>\n",
       "    <tr>\n",
       "      <th>1</th>\n",
       "      <td>1</td>\n",
       "      <td>['frequenc', 'nois', 'signal', 'oscil', 'pul',...</td>\n",
       "    </tr>\n",
       "    <tr>\n",
       "      <th>2</th>\n",
       "      <td>2</td>\n",
       "      <td>['tc', 'spectrum', 'peak', 'ce', 'ab', 'spectr...</td>\n",
       "    </tr>\n",
       "    <tr>\n",
       "      <th>3</th>\n",
       "      <td>3</td>\n",
       "      <td>['integr', 'comput', 'loop', 'order', 'correct...</td>\n",
       "    </tr>\n",
       "    <tr>\n",
       "      <th>4</th>\n",
       "      <td>4</td>\n",
       "      <td>['channel', 'capac', 'receiv', 'sourc', 'input...</td>\n",
       "    </tr>\n",
       "  </tbody>\n",
       "</table>\n",
       "</div>"
      ],
      "text/plain": [
       "   TopicID                                         TopicWords\n",
       "0        0  ['flow', 'fluid', 'transport', 'pressur', 'vel...\n",
       "1        1  ['frequenc', 'nois', 'signal', 'oscil', 'pul',...\n",
       "2        2  ['tc', 'spectrum', 'peak', 'ce', 'ab', 'spectr...\n",
       "3        3  ['integr', 'comput', 'loop', 'order', 'correct...\n",
       "4        4  ['channel', 'capac', 'receiv', 'sourc', 'input..."
      ]
     },
     "execution_count": 46,
     "metadata": {},
     "output_type": "execute_result"
    }
   ],
   "source": [
    "topic_df = pd.read_csv(\"topics.csv\")\n",
    "topic_df.head()"
   ]
  },
  {
   "cell_type": "code",
   "execution_count": 71,
   "metadata": {},
   "outputs": [],
   "source": [
    "def process_topic(ls):\n",
    "    return ls.strip(\"][\").replace(\"'\",\"\").split(', ')"
   ]
  },
  {
   "cell_type": "code",
   "execution_count": 74,
   "metadata": {},
   "outputs": [],
   "source": [
    "topics2words = list(topic_df[\"TopicWords\"].apply(process_topic))"
   ]
  },
  {
   "cell_type": "code",
   "execution_count": 40,
   "metadata": {},
   "outputs": [],
   "source": [
    "# topic sparsity measure of our documents\n",
    "docs2num_topics = [len(ts) for ts in docs2topics]"
   ]
  },
  {
   "cell_type": "code",
   "execution_count": 57,
   "metadata": {},
   "outputs": [
    {
     "data": {
      "image/png": "[encoded data removed]",
      "text/plain": [
       "<Figure size 432x288 with 1 Axes>"
      ]
     },
     "metadata": {
      "needs_background": "light"
     },
     "output_type": "display_data"
    }
   ],
   "source": [
    "import matplotlib.pyplot as plt\n",
    "h = plt.hist(docs2num_topics, bins=15, range=(0,10))\n",
    "plt.show(h)"
   ]
  },
  {
   "cell_type": "code",
   "execution_count": 58,
   "metadata": {},
   "outputs": [
    {
     "data": {
      "image/png": "[encoded data removed]",
      "text/plain": [
       "<Figure size 432x288 with 1 Axes>"
      ]
     },
     "metadata": {
      "needs_background": "light"
     },
     "output_type": "display_data"
    }
   ],
   "source": [
    "h = plt.hist(docs2num_topics, bins=10, range=(0,10), density=True, cumulative=True)\n",
    "plt.show(h)"
   ]
  },
  {
   "cell_type": "code",
   "execution_count": 77,
   "metadata": {},
   "outputs": [],
   "source": [
    "# word sparsity measure of our topics\n",
    "topics2num_words = [len(ts) for ts in topics2words]"
   ]
  },
  {
   "cell_type": "code",
   "execution_count": 78,
   "metadata": {},
   "outputs": [
    {
     "data": {
      "text/plain": [
       "{2,\n",
       " 3,\n",
       " 5,\n",
       " 7,\n",
       " 8,\n",
       " 10,\n",
       " 11,\n",
       " 12,\n",
       " 13,\n",
       " 14,\n",
       " 15,\n",
       " 16,\n",
       " 17,\n",
       " 18,\n",
       " 19,\n",
       " 20,\n",
       " 21,\n",
       " 22,\n",
       " 23,\n",
       " 24,\n",
       " 25,\n",
       " 26,\n",
       " 27,\n",
       " 28,\n",
       " 29,\n",
       " 30,\n",
       " 31,\n",
       " 32,\n",
       " 33,\n",
       " 34,\n",
       " 35,\n",
       " 36,\n",
       " 37,\n",
       " 38,\n",
       " 39,\n",
       " 40,\n",
       " 41,\n",
       " 42,\n",
       " 43,\n",
       " 44,\n",
       " 45}"
      ]
     },
     "execution_count": 78,
     "metadata": {},
     "output_type": "execute_result"
    }
   ],
   "source": [
    "set(topics2num_words)"
   ]
  },
  {
   "cell_type": "code",
   "execution_count": 80,
   "metadata": {},
   "outputs": [
    {
     "data": {
      "image/png": "[encoded data removed]",
      "text/plain": [
       "<Figure size 432x288 with 1 Axes>"
      ]
     },
     "metadata": {
      "needs_background": "light"
     },
     "output_type": "display_data"
    }
   ],
   "source": [
    "import matplotlib.pyplot as plt\n",
    "h2 = plt.hist(topics2num_words, density = True)\n",
    "plt.show(h2)"
   ]
  },
  {
   "cell_type": "code",
   "execution_count": 81,
   "metadata": {},
   "outputs": [
    {
     "data": {
      "image/png": "[encoded data removed]",
      "text/plain": [
       "<Figure size 432x288 with 1 Axes>"
      ]
     },
     "metadata": {
      "needs_background": "light"
     },
     "output_type": "display_data"
    }
   ],
   "source": [
    "h3 = plt.hist(topics2num_words, density=True, cumulative=True)\n",
    "plt.show(h3)"
   ]
  },
  {
   "cell_type": "code",
   "execution_count": null,
   "metadata": {},
   "outputs": [],
   "source": []
  }
 ],
 "metadata": {
  "kernelspec": {
   "display_name": "Python 3",
   "language": "python",
   "name": "python3"
  },
  "language_info": {
   "codemirror_mode": {
    "name": "ipython",
    "version": 3
   },
   "file_extension": ".py",
   "mimetype": "text/x-python",
   "name": "python",
   "nbconvert_exporter": "python",
   "pygments_lexer": "ipython3",
   "version": "3.7.6"
  }
 },
 "nbformat": 4,
 "nbformat_minor": 2
}
