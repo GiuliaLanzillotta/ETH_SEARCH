{
 "cells": [
  {
   "cell_type": "code",
   "execution_count": 1,
   "metadata": {},
   "outputs": [],
   "source": [
    "import tomotopy as tp\n",
    "import pandas as pd\n",
    "import numpy as np\n",
    "import sys\n",
    "import nltk\n",
    "import pickle\n",
    "import random\n",
    "from nltk import word_tokenize, RegexpTokenizer,PunktSentenceTokenizer, sent_tokenize\n",
    "from nltk.stem import PorterStemmer\n",
    "from nltk.stem import WordNetLemmatizer\n",
    "from nltk.corpus import stopwords\n",
    "import gensim\n",
    "import gensim.corpora as corpora\n",
    "from gensim.utils import simple_preprocess\n",
    "from gensim.models import CoherenceModel\n",
    "import re"
   ]
  },
  {
   "cell_type": "markdown",
   "metadata": {},
   "source": [
    "### 1. Load the model and the abstracts file "
   ]
  },
  {
   "cell_type": "code",
   "execution_count": 2,
   "metadata": {},
   "outputs": [],
   "source": [
    "models = []\n",
    "names = ['LDAbatch1.bin','LDAbatch2.bin','LDAbatch3.bin','LDAbatch4.bin']\n",
    "for name in names:\n",
    "    models.append(tp.LDAModel.load(name))"
   ]
  },
  {
   "cell_type": "code",
   "execution_count": 56,
   "metadata": {},
   "outputs": [],
   "source": [
    "normalised = pickle.load(open( \"collection_cleaned.p\", \"rb\" ))"
   ]
  },
  {
   "cell_type": "code",
   "execution_count": 58,
   "metadata": {},
   "outputs": [],
   "source": [
    "SEED = 11\n",
    "random.seed(SEED)\n",
    "random.shuffle(normalised)"
   ]
  },
  {
   "cell_type": "markdown",
   "metadata": {},
   "source": [
    "### 3. Extract topics for each document \n"
   ]
  },
  {
   "cell_type": "code",
   "execution_count": 7,
   "metadata": {
    "scrolled": true
   },
   "outputs": [],
   "source": [
    "def get_top_topics(document, model, min_score=0.8):\n",
    "    \"\"\" \n",
    "    Extracting top n topics for each document. \n",
    "    Selects the n most likely topics whose p(topic|document) sum to min_score.\n",
    "    \"\"\"\n",
    "    # inserting the document in the model\n",
    "    new_doc = model.make_doc(document)\n",
    "    _,_ = model.infer(new_doc)\n",
    "    # ordering from most probable topic to least one \n",
    "    dist = new_doc.get_topic_dist()\n",
    "    indices = np.flip(np.argsort(dist))\n",
    "    score = 0\n",
    "    indices_kept = []\n",
    "    probs_kept = []\n",
    "    for index in indices:\n",
    "        if score > min_score: break\n",
    "        score += dist[index]\n",
    "        indices_kept.append(index)\n",
    "        probs_kept.append(dist[index])\n",
    "    return list(zip(indices_kept, probs_kept))"
   ]
  },
  {
   "cell_type": "code",
   "execution_count": 8,
   "metadata": {},
   "outputs": [
    {
     "name": "stdout",
     "output_type": "stream",
     "text": [
      "Working on batch 0\n",
      "Working on batch 1\n",
      "Working on batch 2\n",
      "Working on batch 3\n"
     ]
    }
   ],
   "source": [
    "docs2topics = []\n",
    "num_batches = 4\n",
    "batches = np.array_split(normalised, num_batches)\n",
    "\n",
    "for i,model in enumerate(models):\n",
    "    print(\"Working on batch \"+str(i))\n",
    "    batch = batches[i].tolist()\n",
    "    docs2topics.append([get_top_topics(doc, model) for doc in batch])"
   ]
  },
  {
   "cell_type": "code",
   "execution_count": 9,
   "metadata": {},
   "outputs": [
    {
     "data": {
      "text/plain": [
       "20494"
      ]
     },
     "execution_count": 9,
     "metadata": {},
     "output_type": "execute_result"
    }
   ],
   "source": [
    "docs2topics_flat = [item for sublist in docs2topics for item in sublist]\n",
    "len(docs2topics_flat)"
   ]
  },
  {
   "cell_type": "code",
   "execution_count": 10,
   "metadata": {},
   "outputs": [],
   "source": [
    "def get_batch_indices(batches):\n",
    "    res = []\n",
    "    for i,batch in enumerate(batches):\n",
    "        res += [i]*len(batch)\n",
    "    return res\n",
    "batch_indices = get_batch_indices(batches)"
   ]
  },
  {
   "cell_type": "code",
   "execution_count": 11,
   "metadata": {},
   "outputs": [
    {
     "name": "stdout",
     "output_type": "stream",
     "text": [
      "0\n",
      "1\n",
      "2\n",
      "3\n"
     ]
    }
   ],
   "source": [
    "print(batch_indices[1000])\n",
    "print(batch_indices[6000])\n",
    "print(batch_indices[11000])\n",
    "print(batch_indices[16000])"
   ]
  },
  {
   "cell_type": "code",
   "execution_count": 12,
   "metadata": {},
   "outputs": [
    {
     "data": {
      "text/plain": [
       "20494"
      ]
     },
     "execution_count": 12,
     "metadata": {},
     "output_type": "execute_result"
    }
   ],
   "source": [
    "len(batch_indices)"
   ]
  },
  {
   "cell_type": "code",
   "execution_count": 67,
   "metadata": {},
   "outputs": [],
   "source": [
    "data = pd.read_csv(\"abstracts_eng.csv\")"
   ]
  },
  {
   "cell_type": "code",
   "execution_count": 68,
   "metadata": {},
   "outputs": [
    {
     "data": {
      "text/html": [
       "<div>\n",
       "<style scoped>\n",
       "    .dataframe tbody tr th:only-of-type {\n",
       "        vertical-align: middle;\n",
       "    }\n",
       "\n",
       "    .dataframe tbody tr th {\n",
       "        vertical-align: top;\n",
       "    }\n",
       "\n",
       "    .dataframe thead th {\n",
       "        text-align: right;\n",
       "    }\n",
       "</style>\n",
       "<table border=\"1\" class=\"dataframe\">\n",
       "  <thead>\n",
       "    <tr style=\"text-align: right;\">\n",
       "      <th></th>\n",
       "      <th>abstract</th>\n",
       "      <th>id</th>\n",
       "      <th>title</th>\n",
       "    </tr>\n",
       "  </thead>\n",
       "  <tbody>\n",
       "    <tr>\n",
       "      <th>0</th>\n",
       "      <td>The goal of this note is to introduce new clas...</td>\n",
       "      <td>188444.0</td>\n",
       "      <td>Asymptotic versions for operators and operator...</td>\n",
       "    </tr>\n",
       "    <tr>\n",
       "      <th>1</th>\n",
       "      <td>We will review a Lemma published by Ran Raz in...</td>\n",
       "      <td>188623.0</td>\n",
       "      <td>Some remarks on a lemma of Ran Raz</td>\n",
       "    </tr>\n",
       "    <tr>\n",
       "      <th>2</th>\n",
       "      <td>China’s growing influence in Europe has the po...</td>\n",
       "      <td>346708.0</td>\n",
       "      <td>China as a Stress Test for Europe’s Coherence</td>\n",
       "    </tr>\n",
       "    <tr>\n",
       "      <th>3</th>\n",
       "      <td>Nowhere is China's Belt and Road Initiative (B...</td>\n",
       "      <td>346709.0</td>\n",
       "      <td>On the Belt, on the Road: China’s Pivot to Eur...</td>\n",
       "    </tr>\n",
       "    <tr>\n",
       "      <th>4</th>\n",
       "      <td>Passenger transit modes typical of the urban s...</td>\n",
       "      <td>187461.0</td>\n",
       "      <td>Applications and Future Developments: Modellin...</td>\n",
       "    </tr>\n",
       "  </tbody>\n",
       "</table>\n",
       "</div>"
      ],
      "text/plain": [
       "                                            abstract        id  \\\n",
       "0  The goal of this note is to introduce new clas...  188444.0   \n",
       "1  We will review a Lemma published by Ran Raz in...  188623.0   \n",
       "2  China’s growing influence in Europe has the po...  346708.0   \n",
       "3  Nowhere is China's Belt and Road Initiative (B...  346709.0   \n",
       "4  Passenger transit modes typical of the urban s...  187461.0   \n",
       "\n",
       "                                               title  \n",
       "0  Asymptotic versions for operators and operator...  \n",
       "1                 Some remarks on a lemma of Ran Raz  \n",
       "2      China as a Stress Test for Europe’s Coherence  \n",
       "3  On the Belt, on the Road: China’s Pivot to Eur...  \n",
       "4  Applications and Future Developments: Modellin...  "
      ]
     },
     "execution_count": 68,
     "metadata": {},
     "output_type": "execute_result"
    }
   ],
   "source": [
    "data.head()"
   ]
  },
  {
   "cell_type": "code",
   "execution_count": 69,
   "metadata": {},
   "outputs": [],
   "source": [
    "# Before merging the two files we need to match them \n",
    "# Here we're going to build the list of indices of the \"normalised\" collection with respect to \n",
    "# the \"data\" collection \n",
    "random.seed(SEED)\n",
    "indices = list(range(0,len(normalised)))\n",
    "random.shuffle(indices)"
   ]
  },
  {
   "cell_type": "code",
   "execution_count": 70,
   "metadata": {},
   "outputs": [
    {
     "data": {
      "text/plain": [
       "'Introduction  A common drawback of many anticancer therapies is non-specificity in action of killing. We investigated the potential of ultra-low intensity and frequency pulsed electromagnetic fields (PEMFs) to kill breast cancer cells. Our criteria to accept this technology as a potentially valid th'"
      ]
     },
     "execution_count": 70,
     "metadata": {},
     "output_type": "execute_result"
    }
   ],
   "source": [
    "data.iloc[indices[0]][\"abstract\"][0:300]"
   ]
  },
  {
   "cell_type": "code",
   "execution_count": 71,
   "metadata": {},
   "outputs": [
    {
     "data": {
      "text/plain": [
       "'introduct common drawback mani anticanc therapi non specif action kill investig potenti ultra low intens frequenc pul electromagnet field pemf kill breast cancer cell criterion accept technolog potenti valid therapeut approach cytotox breast cancer cell design field prove innocu healthi cell class would expo pemf clinic treatment method mcf breast cancer cell normal counterpart mcf cell expo pemf cytotox indic measur order design pemf paradigm best kill breast cancer cell pemf paramet test frequenc rang hz intens rang mt mt exposur durat rang minut per day three day determin optimum paramet select cancer cell kill result observ discret window vulner'"
      ]
     },
     "execution_count": 71,
     "metadata": {},
     "output_type": "execute_result"
    }
   ],
   "source": [
    "\" \".join(normalised[0][0:100])"
   ]
  },
  {
   "cell_type": "code",
   "execution_count": 72,
   "metadata": {},
   "outputs": [
    {
     "name": "stderr",
     "output_type": "stream",
     "text": [
      "/Users/andreasopedal/opt/anaconda3/lib/python3.7/site-packages/ipykernel_launcher.py:2: SettingWithCopyWarning: \n",
      "A value is trying to be set on a copy of a slice from a DataFrame.\n",
      "Try using .loc[row_indexer,col_indexer] = value instead\n",
      "\n",
      "See the caveats in the documentation: https://pandas.pydata.org/pandas-docs/stable/user_guide/indexing.html#returning-a-view-versus-a-copy\n",
      "  \n",
      "/Users/andreasopedal/opt/anaconda3/lib/python3.7/site-packages/ipykernel_launcher.py:3: SettingWithCopyWarning: \n",
      "A value is trying to be set on a copy of a slice from a DataFrame.\n",
      "Try using .loc[row_indexer,col_indexer] = value instead\n",
      "\n",
      "See the caveats in the documentation: https://pandas.pydata.org/pandas-docs/stable/user_guide/indexing.html#returning-a-view-versus-a-copy\n",
      "  This is separate from the ipykernel package so we can avoid doing imports until\n"
     ]
    }
   ],
   "source": [
    "enriched = data.iloc[indices]\n",
    "enriched[\"topics\"] = docs2topics_flat\n",
    "enriched[\"batchID\"] = batch_indices\n"
   ]
  },
  {
   "cell_type": "code",
   "execution_count": 73,
   "metadata": {},
   "outputs": [
    {
     "data": {
      "text/html": [
       "<div>\n",
       "<style scoped>\n",
       "    .dataframe tbody tr th:only-of-type {\n",
       "        vertical-align: middle;\n",
       "    }\n",
       "\n",
       "    .dataframe tbody tr th {\n",
       "        vertical-align: top;\n",
       "    }\n",
       "\n",
       "    .dataframe thead th {\n",
       "        text-align: right;\n",
       "    }\n",
       "</style>\n",
       "<table border=\"1\" class=\"dataframe\">\n",
       "  <thead>\n",
       "    <tr style=\"text-align: right;\">\n",
       "      <th></th>\n",
       "      <th>abstract</th>\n",
       "      <th>id</th>\n",
       "      <th>title</th>\n",
       "      <th>topics</th>\n",
       "      <th>batchID</th>\n",
       "    </tr>\n",
       "  </thead>\n",
       "  <tbody>\n",
       "    <tr>\n",
       "      <th>15476</th>\n",
       "      <td>Introduction  A common drawback of many antica...</td>\n",
       "      <td>252060.0</td>\n",
       "      <td>Low Intensity and Frequency Pulsed Electromagn...</td>\n",
       "      <td>[(72, 0.13636331), (27, 0.102346666), (44, 0.0...</td>\n",
       "      <td>0</td>\n",
       "    </tr>\n",
       "    <tr>\n",
       "      <th>9676</th>\n",
       "      <td>A global pigment database consisting of 37103 ...</td>\n",
       "      <td>311911.0</td>\n",
       "      <td>The MAREDAT global database of high performanc...</td>\n",
       "      <td>[(25, 0.19064094), (112, 0.095547974), (38, 0....</td>\n",
       "      <td>0</td>\n",
       "    </tr>\n",
       "    <tr>\n",
       "      <th>3395</th>\n",
       "      <td>The transition metal dipnictides TaAs2, TaSb2,...</td>\n",
       "      <td>287331.0</td>\n",
       "      <td>Hidden Weyl points in centrosymmetric paramagn...</td>\n",
       "      <td>[(116, 0.13356043), (108, 0.10108282), (55, 0....</td>\n",
       "      <td>0</td>\n",
       "    </tr>\n",
       "  </tbody>\n",
       "</table>\n",
       "</div>"
      ],
      "text/plain": [
       "                                                abstract        id  \\\n",
       "15476  Introduction  A common drawback of many antica...  252060.0   \n",
       "9676   A global pigment database consisting of 37103 ...  311911.0   \n",
       "3395   The transition metal dipnictides TaAs2, TaSb2,...  287331.0   \n",
       "\n",
       "                                                   title  \\\n",
       "15476  Low Intensity and Frequency Pulsed Electromagn...   \n",
       "9676   The MAREDAT global database of high performanc...   \n",
       "3395   Hidden Weyl points in centrosymmetric paramagn...   \n",
       "\n",
       "                                                  topics  batchID  \n",
       "15476  [(72, 0.13636331), (27, 0.102346666), (44, 0.0...        0  \n",
       "9676   [(25, 0.19064094), (112, 0.095547974), (38, 0....        0  \n",
       "3395   [(116, 0.13356043), (108, 0.10108282), (55, 0....        0  "
      ]
     },
     "execution_count": 73,
     "metadata": {},
     "output_type": "execute_result"
    }
   ],
   "source": [
    "enriched.head(3)"
   ]
  },
  {
   "cell_type": "code",
   "execution_count": 74,
   "metadata": {},
   "outputs": [],
   "source": [
    "# exploding the dataframe (one row for each document-topic pair)\n",
    "enriched=enriched.explode(\"topics\")\n",
    "enriched.columns = [\"abstract\",\"publication_id\",\"publication_title\",\"topic\",\"batch_id\"]"
   ]
  },
  {
   "cell_type": "code",
   "execution_count": 75,
   "metadata": {},
   "outputs": [
    {
     "data": {
      "text/html": [
       "<div>\n",
       "<style scoped>\n",
       "    .dataframe tbody tr th:only-of-type {\n",
       "        vertical-align: middle;\n",
       "    }\n",
       "\n",
       "    .dataframe tbody tr th {\n",
       "        vertical-align: top;\n",
       "    }\n",
       "\n",
       "    .dataframe thead th {\n",
       "        text-align: right;\n",
       "    }\n",
       "</style>\n",
       "<table border=\"1\" class=\"dataframe\">\n",
       "  <thead>\n",
       "    <tr style=\"text-align: right;\">\n",
       "      <th></th>\n",
       "      <th>abstract</th>\n",
       "      <th>publication_id</th>\n",
       "      <th>publication_title</th>\n",
       "      <th>topic</th>\n",
       "      <th>batch_id</th>\n",
       "    </tr>\n",
       "  </thead>\n",
       "  <tbody>\n",
       "    <tr>\n",
       "      <th>15476</th>\n",
       "      <td>Introduction  A common drawback of many antica...</td>\n",
       "      <td>252060.0</td>\n",
       "      <td>Low Intensity and Frequency Pulsed Electromagn...</td>\n",
       "      <td>(72, 0.13636331)</td>\n",
       "      <td>0</td>\n",
       "    </tr>\n",
       "    <tr>\n",
       "      <th>15476</th>\n",
       "      <td>Introduction  A common drawback of many antica...</td>\n",
       "      <td>252060.0</td>\n",
       "      <td>Low Intensity and Frequency Pulsed Electromagn...</td>\n",
       "      <td>(27, 0.102346666)</td>\n",
       "      <td>0</td>\n",
       "    </tr>\n",
       "    <tr>\n",
       "      <th>15476</th>\n",
       "      <td>Introduction  A common drawback of many antica...</td>\n",
       "      <td>252060.0</td>\n",
       "      <td>Low Intensity and Frequency Pulsed Electromagn...</td>\n",
       "      <td>(44, 0.09340515)</td>\n",
       "      <td>0</td>\n",
       "    </tr>\n",
       "  </tbody>\n",
       "</table>\n",
       "</div>"
      ],
      "text/plain": [
       "                                                abstract  publication_id  \\\n",
       "15476  Introduction  A common drawback of many antica...        252060.0   \n",
       "15476  Introduction  A common drawback of many antica...        252060.0   \n",
       "15476  Introduction  A common drawback of many antica...        252060.0   \n",
       "\n",
       "                                       publication_title              topic  \\\n",
       "15476  Low Intensity and Frequency Pulsed Electromagn...   (72, 0.13636331)   \n",
       "15476  Low Intensity and Frequency Pulsed Electromagn...  (27, 0.102346666)   \n",
       "15476  Low Intensity and Frequency Pulsed Electromagn...   (44, 0.09340515)   \n",
       "\n",
       "       batch_id  \n",
       "15476         0  \n",
       "15476         0  \n",
       "15476         0  "
      ]
     },
     "execution_count": 75,
     "metadata": {},
     "output_type": "execute_result"
    }
   ],
   "source": [
    "enriched.head(3)"
   ]
  },
  {
   "cell_type": "code",
   "execution_count": 76,
   "metadata": {},
   "outputs": [
    {
     "data": {
      "text/html": [
       "<div>\n",
       "<style scoped>\n",
       "    .dataframe tbody tr th:only-of-type {\n",
       "        vertical-align: middle;\n",
       "    }\n",
       "\n",
       "    .dataframe tbody tr th {\n",
       "        vertical-align: top;\n",
       "    }\n",
       "\n",
       "    .dataframe thead th {\n",
       "        text-align: right;\n",
       "    }\n",
       "</style>\n",
       "<table border=\"1\" class=\"dataframe\">\n",
       "  <thead>\n",
       "    <tr style=\"text-align: right;\">\n",
       "      <th></th>\n",
       "      <th>abstract</th>\n",
       "      <th>publication_id</th>\n",
       "      <th>publication_title</th>\n",
       "      <th>topic</th>\n",
       "      <th>batch_id</th>\n",
       "      <th>topic_id</th>\n",
       "      <th>topic_probability</th>\n",
       "    </tr>\n",
       "  </thead>\n",
       "  <tbody>\n",
       "    <tr>\n",
       "      <th>15476</th>\n",
       "      <td>Introduction  A common drawback of many antica...</td>\n",
       "      <td>252060.0</td>\n",
       "      <td>Low Intensity and Frequency Pulsed Electromagn...</td>\n",
       "      <td>(72, 0.13636331)</td>\n",
       "      <td>0</td>\n",
       "      <td>72</td>\n",
       "      <td>0.136363</td>\n",
       "    </tr>\n",
       "    <tr>\n",
       "      <th>15476</th>\n",
       "      <td>Introduction  A common drawback of many antica...</td>\n",
       "      <td>252060.0</td>\n",
       "      <td>Low Intensity and Frequency Pulsed Electromagn...</td>\n",
       "      <td>(27, 0.102346666)</td>\n",
       "      <td>0</td>\n",
       "      <td>27</td>\n",
       "      <td>0.102347</td>\n",
       "    </tr>\n",
       "    <tr>\n",
       "      <th>15476</th>\n",
       "      <td>Introduction  A common drawback of many antica...</td>\n",
       "      <td>252060.0</td>\n",
       "      <td>Low Intensity and Frequency Pulsed Electromagn...</td>\n",
       "      <td>(44, 0.09340515)</td>\n",
       "      <td>0</td>\n",
       "      <td>44</td>\n",
       "      <td>0.093405</td>\n",
       "    </tr>\n",
       "    <tr>\n",
       "      <th>15476</th>\n",
       "      <td>Introduction  A common drawback of many antica...</td>\n",
       "      <td>252060.0</td>\n",
       "      <td>Low Intensity and Frequency Pulsed Electromagn...</td>\n",
       "      <td>(50, 0.085035846)</td>\n",
       "      <td>0</td>\n",
       "      <td>50</td>\n",
       "      <td>0.085036</td>\n",
       "    </tr>\n",
       "    <tr>\n",
       "      <th>15476</th>\n",
       "      <td>Introduction  A common drawback of many antica...</td>\n",
       "      <td>252060.0</td>\n",
       "      <td>Low Intensity and Frequency Pulsed Electromagn...</td>\n",
       "      <td>(87, 0.077362314)</td>\n",
       "      <td>0</td>\n",
       "      <td>87</td>\n",
       "      <td>0.077362</td>\n",
       "    </tr>\n",
       "  </tbody>\n",
       "</table>\n",
       "</div>"
      ],
      "text/plain": [
       "                                                abstract  publication_id  \\\n",
       "15476  Introduction  A common drawback of many antica...        252060.0   \n",
       "15476  Introduction  A common drawback of many antica...        252060.0   \n",
       "15476  Introduction  A common drawback of many antica...        252060.0   \n",
       "15476  Introduction  A common drawback of many antica...        252060.0   \n",
       "15476  Introduction  A common drawback of many antica...        252060.0   \n",
       "\n",
       "                                       publication_title              topic  \\\n",
       "15476  Low Intensity and Frequency Pulsed Electromagn...   (72, 0.13636331)   \n",
       "15476  Low Intensity and Frequency Pulsed Electromagn...  (27, 0.102346666)   \n",
       "15476  Low Intensity and Frequency Pulsed Electromagn...   (44, 0.09340515)   \n",
       "15476  Low Intensity and Frequency Pulsed Electromagn...  (50, 0.085035846)   \n",
       "15476  Low Intensity and Frequency Pulsed Electromagn...  (87, 0.077362314)   \n",
       "\n",
       "       batch_id  topic_id  topic_probability  \n",
       "15476         0        72           0.136363  \n",
       "15476         0        27           0.102347  \n",
       "15476         0        44           0.093405  \n",
       "15476         0        50           0.085036  \n",
       "15476         0        87           0.077362  "
      ]
     },
     "execution_count": 76,
     "metadata": {},
     "output_type": "execute_result"
    }
   ],
   "source": [
    "# separate topic id and probability\n",
    "\n",
    "enriched[[\"topic_id\",\"topic_probability\"]] = pd.DataFrame(enriched[\"topic\"].tolist(), \n",
    "                                                          index=enriched.index)\n",
    "enriched.head()"
   ]
  },
  {
   "cell_type": "code",
   "execution_count": 77,
   "metadata": {},
   "outputs": [
    {
     "data": {
      "text/html": [
       "<div>\n",
       "<style scoped>\n",
       "    .dataframe tbody tr th:only-of-type {\n",
       "        vertical-align: middle;\n",
       "    }\n",
       "\n",
       "    .dataframe tbody tr th {\n",
       "        vertical-align: top;\n",
       "    }\n",
       "\n",
       "    .dataframe thead th {\n",
       "        text-align: right;\n",
       "    }\n",
       "</style>\n",
       "<table border=\"1\" class=\"dataframe\">\n",
       "  <thead>\n",
       "    <tr style=\"text-align: right;\">\n",
       "      <th></th>\n",
       "      <th>abstract</th>\n",
       "      <th>publication_id</th>\n",
       "      <th>publication_title</th>\n",
       "      <th>batch_id</th>\n",
       "      <th>topic_id</th>\n",
       "      <th>topic_probability</th>\n",
       "    </tr>\n",
       "  </thead>\n",
       "  <tbody>\n",
       "    <tr>\n",
       "      <th>15476</th>\n",
       "      <td>Introduction  A common drawback of many antica...</td>\n",
       "      <td>252060.0</td>\n",
       "      <td>Low Intensity and Frequency Pulsed Electromagn...</td>\n",
       "      <td>0</td>\n",
       "      <td>72</td>\n",
       "      <td>0.136363</td>\n",
       "    </tr>\n",
       "    <tr>\n",
       "      <th>15476</th>\n",
       "      <td>Introduction  A common drawback of many antica...</td>\n",
       "      <td>252060.0</td>\n",
       "      <td>Low Intensity and Frequency Pulsed Electromagn...</td>\n",
       "      <td>0</td>\n",
       "      <td>27</td>\n",
       "      <td>0.102347</td>\n",
       "    </tr>\n",
       "    <tr>\n",
       "      <th>15476</th>\n",
       "      <td>Introduction  A common drawback of many antica...</td>\n",
       "      <td>252060.0</td>\n",
       "      <td>Low Intensity and Frequency Pulsed Electromagn...</td>\n",
       "      <td>0</td>\n",
       "      <td>44</td>\n",
       "      <td>0.093405</td>\n",
       "    </tr>\n",
       "  </tbody>\n",
       "</table>\n",
       "</div>"
      ],
      "text/plain": [
       "                                                abstract  publication_id  \\\n",
       "15476  Introduction  A common drawback of many antica...        252060.0   \n",
       "15476  Introduction  A common drawback of many antica...        252060.0   \n",
       "15476  Introduction  A common drawback of many antica...        252060.0   \n",
       "\n",
       "                                       publication_title  batch_id  topic_id  \\\n",
       "15476  Low Intensity and Frequency Pulsed Electromagn...         0        72   \n",
       "15476  Low Intensity and Frequency Pulsed Electromagn...         0        27   \n",
       "15476  Low Intensity and Frequency Pulsed Electromagn...         0        44   \n",
       "\n",
       "       topic_probability  \n",
       "15476           0.136363  \n",
       "15476           0.102347  \n",
       "15476           0.093405  "
      ]
     },
     "execution_count": 77,
     "metadata": {},
     "output_type": "execute_result"
    }
   ],
   "source": [
    "enriched = enriched.drop([\"topic\"], axis = 1)\n",
    "enriched.head(3)"
   ]
  },
  {
   "cell_type": "code",
   "execution_count": 78,
   "metadata": {},
   "outputs": [],
   "source": [
    "# issue: quotes need to be escaped in neo4j\n",
    "# the following function helps us avoid errors when importing\n",
    "\n",
    "def add_quote(abstract):\n",
    "    if isinstance(abstract, str):\n",
    "        abstract = abstract.replace('\\\\\"', '\"\"')\n",
    "        return abstract.replace('\"', '\"\"')\n",
    "\n",
    "enriched[\"abstract\"] = enriched[\"abstract\"].apply(add_quote)"
   ]
  },
  {
   "cell_type": "code",
   "execution_count": 105,
   "metadata": {},
   "outputs": [],
   "source": [
    "# save to .csv \n",
    "file_name=\"abstract+topic.csv\"\n",
    "enriched.to_csv(file_name,index=False)"
   ]
  },
  {
   "cell_type": "markdown",
   "metadata": {},
   "source": [
    "### 4. Extract words for each topic"
   ]
  },
  {
   "cell_type": "code",
   "execution_count": 79,
   "metadata": {},
   "outputs": [],
   "source": [
    "def get_top_words(topic, model, min_score=0.8):\n",
    "    \"\"\"\n",
    "    Extracting top n words for each document. \n",
    "    Selects the n most likely words whose p(word|topic) sum to min_score.\n",
    "    \"\"\"\n",
    "    dist = model.get_topic_word_dist(topic)\n",
    "    indices = np.flip(np.argsort(dist))\n",
    "    score = 0\n",
    "    word_kept = []\n",
    "    word_prob_kept = []\n",
    "    for index in indices:\n",
    "        if score > min_score: break\n",
    "        score += dist[index]\n",
    "        word_kept.append(model.used_vocabs[index])\n",
    "        word_prob_kept.append(dist[index])\n",
    "    return list(zip(word_kept, word_prob_kept))"
   ]
  },
  {
   "cell_type": "code",
   "execution_count": 80,
   "metadata": {
    "scrolled": true
   },
   "outputs": [],
   "source": [
    "# trying it out\n",
    "#get_top_words(2, model, 0.25)"
   ]
  },
  {
   "cell_type": "code",
   "execution_count": 81,
   "metadata": {},
   "outputs": [],
   "source": [
    "num_topics = 125"
   ]
  },
  {
   "cell_type": "code",
   "execution_count": 82,
   "metadata": {},
   "outputs": [
    {
     "name": "stdout",
     "output_type": "stream",
     "text": [
      "Working on batch 0\n",
      "Working on batch 1\n",
      "Working on batch 2\n",
      "Working on batch 3\n"
     ]
    }
   ],
   "source": [
    "topics2words = []\n",
    "for i,model in enumerate(models): # note: preserving the order is extremely important here \n",
    "    print(\"Working on batch \"+str(i))\n",
    "    topics2words += [get_top_words(i, model, min_score=0.25) for i in range(num_topics)]"
   ]
  },
  {
   "cell_type": "code",
   "execution_count": 83,
   "metadata": {},
   "outputs": [
    {
     "data": {
      "text/plain": [
       "500"
      ]
     },
     "execution_count": 83,
     "metadata": {},
     "output_type": "execute_result"
    }
   ],
   "source": [
    "len(topics2words)"
   ]
  },
  {
   "cell_type": "code",
   "execution_count": 84,
   "metadata": {},
   "outputs": [
    {
     "data": {
      "text/plain": [
       "500"
      ]
     },
     "execution_count": 84,
     "metadata": {},
     "output_type": "execute_result"
    }
   ],
   "source": [
    "topic_ids = list(range(num_topics))*4\n",
    "len(topic_ids)"
   ]
  },
  {
   "cell_type": "code",
   "execution_count": 85,
   "metadata": {},
   "outputs": [
    {
     "data": {
      "text/plain": [
       "500"
      ]
     },
     "execution_count": 85,
     "metadata": {},
     "output_type": "execute_result"
    }
   ],
   "source": [
    "topics_batch_indices = [0]*125+[1]*125+[2]*125+[3]*125\n",
    "len(topics_batch_indices)"
   ]
  },
  {
   "cell_type": "code",
   "execution_count": 86,
   "metadata": {},
   "outputs": [],
   "source": [
    "# creating new topic dataframe\n",
    "topics_df = pd.DataFrame({\"TopicID\":topic_ids,\"BatchID\":topics_batch_indices,\"TopicWords\":topics2words})"
   ]
  },
  {
   "cell_type": "code",
   "execution_count": 87,
   "metadata": {},
   "outputs": [
    {
     "data": {
      "text/html": [
       "<div>\n",
       "<style scoped>\n",
       "    .dataframe tbody tr th:only-of-type {\n",
       "        vertical-align: middle;\n",
       "    }\n",
       "\n",
       "    .dataframe tbody tr th {\n",
       "        vertical-align: top;\n",
       "    }\n",
       "\n",
       "    .dataframe thead th {\n",
       "        text-align: right;\n",
       "    }\n",
       "</style>\n",
       "<table border=\"1\" class=\"dataframe\">\n",
       "  <thead>\n",
       "    <tr style=\"text-align: right;\">\n",
       "      <th></th>\n",
       "      <th>TopicID</th>\n",
       "      <th>BatchID</th>\n",
       "      <th>TopicWords</th>\n",
       "    </tr>\n",
       "  </thead>\n",
       "  <tbody>\n",
       "    <tr>\n",
       "      <th>0</th>\n",
       "      <td>0</td>\n",
       "      <td>0</td>\n",
       "      <td>[(lca, 0.026345199), (multi, 0.024031073), (sp...</td>\n",
       "    </tr>\n",
       "    <tr>\n",
       "      <th>1</th>\n",
       "      <td>1</td>\n",
       "      <td>0</td>\n",
       "      <td>[(plan, 0.023429058), (methodolog, 0.017115565...</td>\n",
       "    </tr>\n",
       "    <tr>\n",
       "      <th>2</th>\n",
       "      <td>2</td>\n",
       "      <td>0</td>\n",
       "      <td>[(hospit, 0.053965636), (sb, 0.03744605), (spl...</td>\n",
       "    </tr>\n",
       "  </tbody>\n",
       "</table>\n",
       "</div>"
      ],
      "text/plain": [
       "   TopicID  BatchID                                         TopicWords\n",
       "0        0        0  [(lca, 0.026345199), (multi, 0.024031073), (sp...\n",
       "1        1        0  [(plan, 0.023429058), (methodolog, 0.017115565...\n",
       "2        2        0  [(hospit, 0.053965636), (sb, 0.03744605), (spl..."
      ]
     },
     "execution_count": 87,
     "metadata": {},
     "output_type": "execute_result"
    }
   ],
   "source": [
    "topics_df.head(3)"
   ]
  },
  {
   "cell_type": "code",
   "execution_count": 91,
   "metadata": {
    "scrolled": true
   },
   "outputs": [],
   "source": [
    "topics_exploded = topics_df.explode(\"TopicWords\")"
   ]
  },
  {
   "cell_type": "code",
   "execution_count": 92,
   "metadata": {
    "scrolled": true
   },
   "outputs": [
    {
     "data": {
      "text/html": [
       "<div>\n",
       "<style scoped>\n",
       "    .dataframe tbody tr th:only-of-type {\n",
       "        vertical-align: middle;\n",
       "    }\n",
       "\n",
       "    .dataframe tbody tr th {\n",
       "        vertical-align: top;\n",
       "    }\n",
       "\n",
       "    .dataframe thead th {\n",
       "        text-align: right;\n",
       "    }\n",
       "</style>\n",
       "<table border=\"1\" class=\"dataframe\">\n",
       "  <thead>\n",
       "    <tr style=\"text-align: right;\">\n",
       "      <th></th>\n",
       "      <th>TopicID</th>\n",
       "      <th>BatchID</th>\n",
       "      <th>TopicWords</th>\n",
       "    </tr>\n",
       "  </thead>\n",
       "  <tbody>\n",
       "    <tr>\n",
       "      <th>0</th>\n",
       "      <td>0</td>\n",
       "      <td>0</td>\n",
       "      <td>(lca, 0.026345199)</td>\n",
       "    </tr>\n",
       "    <tr>\n",
       "      <th>0</th>\n",
       "      <td>0</td>\n",
       "      <td>0</td>\n",
       "      <td>(multi, 0.024031073)</td>\n",
       "    </tr>\n",
       "    <tr>\n",
       "      <th>0</th>\n",
       "      <td>0</td>\n",
       "      <td>0</td>\n",
       "      <td>(spar, 0.021150842)</td>\n",
       "    </tr>\n",
       "    <tr>\n",
       "      <th>0</th>\n",
       "      <td>0</td>\n",
       "      <td>0</td>\n",
       "      <td>(convex, 0.020347305)</td>\n",
       "    </tr>\n",
       "    <tr>\n",
       "      <th>0</th>\n",
       "      <td>0</td>\n",
       "      <td>0</td>\n",
       "      <td>(environment, 0.02008556)</td>\n",
       "    </tr>\n",
       "  </tbody>\n",
       "</table>\n",
       "</div>"
      ],
      "text/plain": [
       "   TopicID  BatchID                 TopicWords\n",
       "0        0        0         (lca, 0.026345199)\n",
       "0        0        0       (multi, 0.024031073)\n",
       "0        0        0        (spar, 0.021150842)\n",
       "0        0        0      (convex, 0.020347305)\n",
       "0        0        0  (environment, 0.02008556)"
      ]
     },
     "execution_count": 92,
     "metadata": {},
     "output_type": "execute_result"
    }
   ],
   "source": [
    "topics_exploded.head()"
   ]
  },
  {
   "cell_type": "code",
   "execution_count": 93,
   "metadata": {
    "scrolled": true
   },
   "outputs": [
    {
     "data": {
      "text/html": [
       "<div>\n",
       "<style scoped>\n",
       "    .dataframe tbody tr th:only-of-type {\n",
       "        vertical-align: middle;\n",
       "    }\n",
       "\n",
       "    .dataframe tbody tr th {\n",
       "        vertical-align: top;\n",
       "    }\n",
       "\n",
       "    .dataframe thead th {\n",
       "        text-align: right;\n",
       "    }\n",
       "</style>\n",
       "<table border=\"1\" class=\"dataframe\">\n",
       "  <thead>\n",
       "    <tr style=\"text-align: right;\">\n",
       "      <th></th>\n",
       "      <th>TopicID</th>\n",
       "      <th>BatchID</th>\n",
       "      <th>TopicWords</th>\n",
       "      <th>word</th>\n",
       "      <th>word_probability</th>\n",
       "    </tr>\n",
       "  </thead>\n",
       "  <tbody>\n",
       "    <tr>\n",
       "      <th>0</th>\n",
       "      <td>0</td>\n",
       "      <td>0</td>\n",
       "      <td>(lca, 0.026345199)</td>\n",
       "      <td>lca</td>\n",
       "      <td>0.026345</td>\n",
       "    </tr>\n",
       "    <tr>\n",
       "      <th>0</th>\n",
       "      <td>0</td>\n",
       "      <td>0</td>\n",
       "      <td>(multi, 0.024031073)</td>\n",
       "      <td>multi</td>\n",
       "      <td>0.024031</td>\n",
       "    </tr>\n",
       "    <tr>\n",
       "      <th>0</th>\n",
       "      <td>0</td>\n",
       "      <td>0</td>\n",
       "      <td>(spar, 0.021150842)</td>\n",
       "      <td>spar</td>\n",
       "      <td>0.021151</td>\n",
       "    </tr>\n",
       "    <tr>\n",
       "      <th>0</th>\n",
       "      <td>0</td>\n",
       "      <td>0</td>\n",
       "      <td>(convex, 0.020347305)</td>\n",
       "      <td>convex</td>\n",
       "      <td>0.020347</td>\n",
       "    </tr>\n",
       "    <tr>\n",
       "      <th>0</th>\n",
       "      <td>0</td>\n",
       "      <td>0</td>\n",
       "      <td>(environment, 0.02008556)</td>\n",
       "      <td>environment</td>\n",
       "      <td>0.020086</td>\n",
       "    </tr>\n",
       "  </tbody>\n",
       "</table>\n",
       "</div>"
      ],
      "text/plain": [
       "   TopicID  BatchID                 TopicWords         word  word_probability\n",
       "0        0        0         (lca, 0.026345199)          lca          0.026345\n",
       "0        0        0       (multi, 0.024031073)        multi          0.024031\n",
       "0        0        0        (spar, 0.021150842)         spar          0.021151\n",
       "0        0        0      (convex, 0.020347305)       convex          0.020347\n",
       "0        0        0  (environment, 0.02008556)  environment          0.020086"
      ]
     },
     "execution_count": 93,
     "metadata": {},
     "output_type": "execute_result"
    }
   ],
   "source": [
    "topics_exploded[[\"word\",\"word_probability\"]] = pd.DataFrame(topics_exploded[\"TopicWords\"].tolist(), \n",
    "                                                          index=topics_exploded.index)\n",
    "topics_exploded.head()"
   ]
  },
  {
   "cell_type": "code",
   "execution_count": 100,
   "metadata": {},
   "outputs": [
    {
     "data": {
      "text/html": [
       "<div>\n",
       "<style scoped>\n",
       "    .dataframe tbody tr th:only-of-type {\n",
       "        vertical-align: middle;\n",
       "    }\n",
       "\n",
       "    .dataframe tbody tr th {\n",
       "        vertical-align: top;\n",
       "    }\n",
       "\n",
       "    .dataframe thead th {\n",
       "        text-align: right;\n",
       "    }\n",
       "</style>\n",
       "<table border=\"1\" class=\"dataframe\">\n",
       "  <thead>\n",
       "    <tr style=\"text-align: right;\">\n",
       "      <th></th>\n",
       "      <th>TopicID</th>\n",
       "      <th>BatchID</th>\n",
       "      <th>word</th>\n",
       "      <th>word_probability</th>\n",
       "    </tr>\n",
       "  </thead>\n",
       "  <tbody>\n",
       "    <tr>\n",
       "      <th>0</th>\n",
       "      <td>0</td>\n",
       "      <td>0</td>\n",
       "      <td>lca</td>\n",
       "      <td>0.026345</td>\n",
       "    </tr>\n",
       "    <tr>\n",
       "      <th>0</th>\n",
       "      <td>0</td>\n",
       "      <td>0</td>\n",
       "      <td>multi</td>\n",
       "      <td>0.024031</td>\n",
       "    </tr>\n",
       "    <tr>\n",
       "      <th>0</th>\n",
       "      <td>0</td>\n",
       "      <td>0</td>\n",
       "      <td>spar</td>\n",
       "      <td>0.021151</td>\n",
       "    </tr>\n",
       "  </tbody>\n",
       "</table>\n",
       "</div>"
      ],
      "text/plain": [
       "   TopicID  BatchID   word  word_probability\n",
       "0        0        0    lca          0.026345\n",
       "0        0        0  multi          0.024031\n",
       "0        0        0   spar          0.021151"
      ]
     },
     "execution_count": 100,
     "metadata": {},
     "output_type": "execute_result"
    }
   ],
   "source": [
    "topics_exploded = topics_exploded.drop([\"TopicWords\"], axis = 1)\n",
    "topics_exploded.head(3)"
   ]
  },
  {
   "cell_type": "code",
   "execution_count": 102,
   "metadata": {},
   "outputs": [],
   "source": [
    "# save to .csv \n",
    "file_name=\"topics.csv\"\n",
    "topics_df.to_csv(file_name,index=False)"
   ]
  },
  {
   "cell_type": "code",
   "execution_count": 104,
   "metadata": {},
   "outputs": [],
   "source": [
    "# save words to .csv\n",
    "file_name = \"words.csv\"\n",
    "topics_exploded.to_csv(file_name, index=False)"
   ]
  },
  {
   "cell_type": "code",
   "execution_count": 20,
   "metadata": {},
   "outputs": [],
   "source": [
    "# save to .json\n",
    "# note: this one we have to save to json in order to save the list format \n",
    "file_name=\"topics.json\"\n",
    "topics_df.to_json(file_name, orient = \"records\")"
   ]
  },
  {
   "cell_type": "markdown",
   "metadata": {},
   "source": [
    "### Export to Neo4j"
   ]
  },
  {
   "cell_type": "markdown",
   "metadata": {},
   "source": [
    "Topic nodes: \n",
    "- TopicID (long)\n",
    "- Words (list(str)) \n",
    "<br>\n",
    "<br>\n",
    "\n",
    "        #Adding abstracts to existing publications\n",
    "        #LOAD CSV WITH HEADERS FROM \"file:///abstract+topic.csv\" AS line\n",
    "        #WITH line WHERE line.publication_id IS NOT NULL\n",
    "        #MATCH (publication:Publication {title: line.publication_title})\n",
    "        #SET publication.abstract = line.abstract;\n",
    "        \n",
    "        #Defining the topic nodes\n",
    "        CREATE CONSTRAINT ON (t:Topic) ASSERT (t.ID, t.batchID) IS NODE KEY;\n",
    "        \n",
    "        #Loading the topic nodes from CSV\n",
    "        LOAD CSV WITH HEADERS FROM \"file:///topics.csv\" AS line\n",
    "        WITH line where line.TopicID IS NOT NULL\n",
    "        MERGE (t: Topic {ID: line.TopicID, batchID: line.BatchID})\n",
    "        SET t.words= line.TopicWords;\n",
    "        \n",
    "        #Loading the topic nodes from JSON\n",
    "        CALL apoc.load.json(\"file:///topics.json\")\n",
    "        YIELD value\n",
    "        MERGE (t:Topic {ID: value.TopicID, batchID: value.BatchID})\n",
    "        SET t.words = value.TopicWords;\n",
    "\n",
    "        #Loading document<->topic relationships\n",
    "        LOAD CSV WITH HEADERS FROM \"file:///abstract+topic.csv\" AS line\n",
    "        MATCH (p:Publication {title: line.publication_title}),\n",
    "               (t:Topic {ID:line.topic_id, batchID: line.batch_id})\n",
    "        MERGE (p)-[r:IS_ABOUT {weight: round(1000 * toFloat(line.topic_probability)) / 1000}]->(t);\n",
    "        \n",
    "        #Constraint on word nodes being unique\n",
    "        CREATE CONSTRAINT ON (c:Word) ASSERT c.name IS UNIQUE;\n",
    "        \n",
    "        #Loading the word nodes from CSV\n",
    "        LOAD CSV WITH HEADERS FROM \"file:///words.csv\" AS line\n",
    "        WITH line where line.word IS NOT NULL\n",
    "        MERGE (w: Word{name: line.word});\n",
    "        \n",
    "        #Loading word<->topic relationships\n",
    "        LOAD CSV WITH HEADERS FROM \"file:///words.csv\" AS line\n",
    "        MATCH (t: Topic {ID: line.TopicID, batchID: line.BatchID}),\n",
    "                (w: Word {name: line.word})\n",
    "        MERGE (w)-[r:IS_IN {weight: round(1000 * toFloat(line.word_probability)) / 1000}]->(t);"
   ]
  },
  {
   "cell_type": "markdown",
   "metadata": {},
   "source": [
    "### 5. Visualizations"
   ]
  },
  {
   "cell_type": "markdown",
   "metadata": {},
   "source": [
    "Here we use the docs2topics and topics2words data extracted before to get nice visualisations of our collection "
   ]
  },
  {
   "cell_type": "code",
   "execution_count": 46,
   "metadata": {},
   "outputs": [
    {
     "data": {
      "text/html": [
       "<div>\n",
       "<style scoped>\n",
       "    .dataframe tbody tr th:only-of-type {\n",
       "        vertical-align: middle;\n",
       "    }\n",
       "\n",
       "    .dataframe tbody tr th {\n",
       "        vertical-align: top;\n",
       "    }\n",
       "\n",
       "    .dataframe thead th {\n",
       "        text-align: right;\n",
       "    }\n",
       "</style>\n",
       "<table border=\"1\" class=\"dataframe\">\n",
       "  <thead>\n",
       "    <tr style=\"text-align: right;\">\n",
       "      <th></th>\n",
       "      <th>TopicID</th>\n",
       "      <th>TopicWords</th>\n",
       "    </tr>\n",
       "  </thead>\n",
       "  <tbody>\n",
       "    <tr>\n",
       "      <th>0</th>\n",
       "      <td>0</td>\n",
       "      <td>['flow', 'fluid', 'transport', 'pressur', 'vel...</td>\n",
       "    </tr>\n",
       "    <tr>\n",
       "      <th>1</th>\n",
       "      <td>1</td>\n",
       "      <td>['frequenc', 'nois', 'signal', 'oscil', 'pul',...</td>\n",
       "    </tr>\n",
       "    <tr>\n",
       "      <th>2</th>\n",
       "      <td>2</td>\n",
       "      <td>['tc', 'spectrum', 'peak', 'ce', 'ab', 'spectr...</td>\n",
       "    </tr>\n",
       "    <tr>\n",
       "      <th>3</th>\n",
       "      <td>3</td>\n",
       "      <td>['integr', 'comput', 'loop', 'order', 'correct...</td>\n",
       "    </tr>\n",
       "    <tr>\n",
       "      <th>4</th>\n",
       "      <td>4</td>\n",
       "      <td>['channel', 'capac', 'receiv', 'sourc', 'input...</td>\n",
       "    </tr>\n",
       "  </tbody>\n",
       "</table>\n",
       "</div>"
      ],
      "text/plain": [
       "   TopicID                                         TopicWords\n",
       "0        0  ['flow', 'fluid', 'transport', 'pressur', 'vel...\n",
       "1        1  ['frequenc', 'nois', 'signal', 'oscil', 'pul',...\n",
       "2        2  ['tc', 'spectrum', 'peak', 'ce', 'ab', 'spectr...\n",
       "3        3  ['integr', 'comput', 'loop', 'order', 'correct...\n",
       "4        4  ['channel', 'capac', 'receiv', 'sourc', 'input..."
      ]
     },
     "execution_count": 46,
     "metadata": {},
     "output_type": "execute_result"
    }
   ],
   "source": [
    "topic_df = pd.read_csv(\"topics.csv\")\n",
    "topic_df.head()"
   ]
  },
  {
   "cell_type": "code",
   "execution_count": 71,
   "metadata": {},
   "outputs": [],
   "source": [
    "def process_topic(ls):\n",
    "    return ls.strip(\"][\").replace(\"'\",\"\").split(', ')"
   ]
  },
  {
   "cell_type": "code",
   "execution_count": 74,
   "metadata": {},
   "outputs": [],
   "source": [
    "topics2words = list(topic_df[\"TopicWords\"].apply(process_topic))"
   ]
  },
  {
   "cell_type": "code",
   "execution_count": 40,
   "metadata": {},
   "outputs": [],
   "source": [
    "# topic sparsity measure of our documents\n",
    "docs2num_topics = [len(ts) for ts in docs2topics]"
   ]
  },
  {
   "cell_type": "code",
   "execution_count": 57,
   "metadata": {},
   "outputs": [
    {
     "data": {
      "image/png": "[encoded data removed]",
      "text/plain": [
       "<Figure size 432x288 with 1 Axes>"
      ]
     },
     "metadata": {
      "needs_background": "light"
     },
     "output_type": "display_data"
    }
   ],
   "source": [
    "import matplotlib.pyplot as plt\n",
    "h = plt.hist(docs2num_topics, bins=15, range=(0,10))\n",
    "plt.show(h)"
   ]
  },
  {
   "cell_type": "code",
   "execution_count": 58,
   "metadata": {},
   "outputs": [
    {
     "data": {
      "image/png": "[encoded data removed]",
      "text/plain": [
       "<Figure size 432x288 with 1 Axes>"
      ]
     },
     "metadata": {
      "needs_background": "light"
     },
     "output_type": "display_data"
    }
   ],
   "source": [
    "h = plt.hist(docs2num_topics, bins=10, range=(0,10), density=True, cumulative=True)\n",
    "plt.show(h)"
   ]
  },
  {
   "cell_type": "code",
   "execution_count": 77,
   "metadata": {},
   "outputs": [],
   "source": [
    "# word sparsity measure of our topics\n",
    "topics2num_words = [len(ts) for ts in topics2words]"
   ]
  },
  {
   "cell_type": "code",
   "execution_count": 78,
   "metadata": {},
   "outputs": [
    {
     "data": {
      "text/plain": [
       "{2,\n",
       " 3,\n",
       " 5,\n",
       " 7,\n",
       " 8,\n",
       " 10,\n",
       " 11,\n",
       " 12,\n",
       " 13,\n",
       " 14,\n",
       " 15,\n",
       " 16,\n",
       " 17,\n",
       " 18,\n",
       " 19,\n",
       " 20,\n",
       " 21,\n",
       " 22,\n",
       " 23,\n",
       " 24,\n",
       " 25,\n",
       " 26,\n",
       " 27,\n",
       " 28,\n",
       " 29,\n",
       " 30,\n",
       " 31,\n",
       " 32,\n",
       " 33,\n",
       " 34,\n",
       " 35,\n",
       " 36,\n",
       " 37,\n",
       " 38,\n",
       " 39,\n",
       " 40,\n",
       " 41,\n",
       " 42,\n",
       " 43,\n",
       " 44,\n",
       " 45}"
      ]
     },
     "execution_count": 78,
     "metadata": {},
     "output_type": "execute_result"
    }
   ],
   "source": [
    "set(topics2num_words)"
   ]
  },
  {
   "cell_type": "code",
   "execution_count": 80,
   "metadata": {},
   "outputs": [
    {
     "data": {
      "image/png": "[encoded data removed]",
      "text/plain": [
       "<Figure size 432x288 with 1 Axes>"
      ]
     },
     "metadata": {
      "needs_background": "light"
     },
     "output_type": "display_data"
    }
   ],
   "source": [
    "import matplotlib.pyplot as plt\n",
    "h2 = plt.hist(topics2num_words, density = True)\n",
    "plt.show(h2)"
   ]
  },
  {
   "cell_type": "code",
   "execution_count": 81,
   "metadata": {},
   "outputs": [
    {
     "data": {
      "image/png": "[encoded data removed]",
      "text/plain": [
       "<Figure size 432x288 with 1 Axes>"
      ]
     },
     "metadata": {
      "needs_background": "light"
     },
     "output_type": "display_data"
    }
   ],
   "source": [
    "h3 = plt.hist(topics2num_words, density=True, cumulative=True)\n",
    "plt.show(h3)"
   ]
  },
  {
   "cell_type": "code",
   "execution_count": null,
   "metadata": {},
   "outputs": [],
   "source": []
  }
 ],
 "metadata": {
  "kernelspec": {
   "display_name": "Python 3",
   "language": "python",
   "name": "python3"
  },
  "language_info": {
   "codemirror_mode": {
    "name": "ipython",
    "version": 3
   },
   "file_extension": ".py",
   "mimetype": "text/x-python",
   "name": "python",
   "nbconvert_exporter": "python",
   "pygments_lexer": "ipython3",
   "version": "3.7.6"
  }
 },
 "nbformat": 4,
 "nbformat_minor": 2
}
