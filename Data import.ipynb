{
 "cells": [
  {
   "cell_type": "markdown",
   "metadata": {},
   "source": [
    "# Extraction and insertion\n",
    "\n",
    "In this notebook there will be only the **final, necessary** code for the data extraction (cleaning/filtering/merging) and data import."
   ]
  },
  {
   "cell_type": "code",
   "execution_count": 12,
   "metadata": {},
   "outputs": [],
   "source": [
    "import pandas as pd\n",
    "import os \n",
    "import numpy as np"
   ]
  },
  {
   "cell_type": "markdown",
   "metadata": {},
   "source": [
    "## Extraction"
   ]
  },
  {
   "cell_type": "code",
   "execution_count": 3,
   "metadata": {},
   "outputs": [
    {
     "name": "stderr",
     "output_type": "stream",
     "text": [
      "c:\\users\\giulia\\appdata\\local\\programs\\python\\python37\\lib\\site-packages\\IPython\\core\\interactiveshell.py:3058: DtypeWarning: Columns (20,37,40,41) have mixed types. Specify dtype option on import or set low_memory=False.\n",
      "  interactivity=interactivity, compiler=compiler, result=result)\n"
     ]
    }
   ],
   "source": [
    "rcp = pd.read_csv(\"ResearchCollectionPublications2008_2018.tsv\", sep=\"\\t\", header=0, encoding=\"latin-1\") #utf8 not working..."
   ]
  },
  {
   "cell_type": "markdown",
   "metadata": {},
   "source": [
    "### 1. Filtering "
   ]
  },
  {
   "cell_type": "code",
   "execution_count": 4,
   "metadata": {},
   "outputs": [],
   "source": [
    "# 1. type of publication only limited to: Journal Article, Conference Paper, Other Conference Item, Book Chapter\n",
    "rcp_tf = rcp.loc[(rcp[\"DC_TYPE\"] == \"Journal Article\")|\n",
    "                (rcp[\"DC_TYPE\"] == \"Conference Paper\")|\n",
    "                (rcp[\"DC_TYPE\"] ==\"Other Conference Item\")|\n",
    "                (rcp[\"DC_TYPE\"] ==\"Book Chapter\"),:]"
   ]
  },
  {
   "cell_type": "code",
   "execution_count": 5,
   "metadata": {},
   "outputs": [],
   "source": [
    "#2. projecting into [id, author, date, title, type, journal title]\n",
    "rcp_ff = rcp_tf[[\"RC_ID\",\"DC_CONTRIBUTOR_AUTHOR\",\"DC_DATE_ISSUED\",\"DC_TITLE\",\"DC_TYPE\",\"ETHZ_JOURNAL_TITLE\"]]"
   ]
  },
  {
   "cell_type": "code",
   "execution_count": null,
   "metadata": {},
   "outputs": [],
   "source": [
    "#TODO: change column names to more readable names"
   ]
  },
  {
   "cell_type": "code",
   "execution_count": null,
   "metadata": {},
   "outputs": [],
   "source": []
  },
  {
   "cell_type": "markdown",
   "metadata": {},
   "source": [
    "### 2. Cleaning"
   ]
  },
  {
   "cell_type": "code",
   "execution_count": null,
   "metadata": {},
   "outputs": [],
   "source": [
    "# 1. Cleaning the names "
   ]
  },
  {
   "cell_type": "code",
   "execution_count": 18,
   "metadata": {},
   "outputs": [],
   "source": [
    "def separate_names(names):\n",
    "    \"\"\" Separes a string of names of the form name1||name2||name3||... into a list of names.\"\"\"\n",
    "    # Also: does pandas DataFrame support list of strings as fields? \n",
    "    # Andreas: Yes\n",
    "    if isinstance(names, str):\n",
    "        return names.split(\"||\")"
   ]
  },
  {
   "cell_type": "code",
   "execution_count": 19,
   "metadata": {},
   "outputs": [
    {
     "name": "stdout",
     "output_type": "stream",
     "text": [
      "Check that we don't have more missing values:  98367\n"
     ]
    },
    {
     "name": "stderr",
     "output_type": "stream",
     "text": [
      "c:\\users\\giulia\\appdata\\local\\programs\\python\\python37\\lib\\site-packages\\ipykernel_launcher.py:2: SettingWithCopyWarning: \n",
      "A value is trying to be set on a copy of a slice from a DataFrame.\n",
      "Try using .loc[row_indexer,col_indexer] = value instead\n",
      "\n",
      "See the caveats in the documentation: http://pandas.pydata.org/pandas-docs/stable/user_guide/indexing.html#returning-a-view-versus-a-copy\n",
      "  \n"
     ]
    },
    {
     "data": {
      "text/html": [
       "<div>\n",
       "<style scoped>\n",
       "    .dataframe tbody tr th:only-of-type {\n",
       "        vertical-align: middle;\n",
       "    }\n",
       "\n",
       "    .dataframe tbody tr th {\n",
       "        vertical-align: top;\n",
       "    }\n",
       "\n",
       "    .dataframe thead th {\n",
       "        text-align: right;\n",
       "    }\n",
       "</style>\n",
       "<table border=\"1\" class=\"dataframe\">\n",
       "  <thead>\n",
       "    <tr style=\"text-align: right;\">\n",
       "      <th></th>\n",
       "      <th>RC_ID</th>\n",
       "      <th>DC_CONTRIBUTOR_AUTHOR</th>\n",
       "      <th>DC_DATE_ISSUED</th>\n",
       "      <th>DC_TITLE</th>\n",
       "      <th>DC_TYPE</th>\n",
       "      <th>ETHZ_JOURNAL_TITLE</th>\n",
       "    </tr>\n",
       "  </thead>\n",
       "  <tbody>\n",
       "    <tr>\n",
       "      <th>97</th>\n",
       "      <td>3379</td>\n",
       "      <td>None</td>\n",
       "      <td>2008</td>\n",
       "      <td>Adenovirus-mediated transduction of auto- and ...</td>\n",
       "      <td>Book Chapter</td>\n",
       "      <td>Methods in Molecular Biology</td>\n",
       "    </tr>\n",
       "    <tr>\n",
       "      <th>98</th>\n",
       "      <td>15103</td>\n",
       "      <td>None</td>\n",
       "      <td>2008</td>\n",
       "      <td>From refugee to reintegration crisis?</td>\n",
       "      <td>Book Chapter</td>\n",
       "      <td>L'Afrique des grands lacs</td>\n",
       "    </tr>\n",
       "    <tr>\n",
       "      <th>99</th>\n",
       "      <td>158533</td>\n",
       "      <td>None</td>\n",
       "      <td>2008</td>\n",
       "      <td>Social Studies of Scientific Imaging and Visua...</td>\n",
       "      <td>Book Chapter</td>\n",
       "      <td>NaN</td>\n",
       "    </tr>\n",
       "    <tr>\n",
       "      <th>100</th>\n",
       "      <td>14698</td>\n",
       "      <td>None</td>\n",
       "      <td>2008</td>\n",
       "      <td>Die Baustelle</td>\n",
       "      <td>Book Chapter</td>\n",
       "      <td>NaN</td>\n",
       "    </tr>\n",
       "    <tr>\n",
       "      <th>101</th>\n",
       "      <td>8255</td>\n",
       "      <td>None</td>\n",
       "      <td>2008</td>\n",
       "      <td>Research and development in mountain glaciers</td>\n",
       "      <td>Book Chapter</td>\n",
       "      <td>NaN</td>\n",
       "    </tr>\n",
       "  </tbody>\n",
       "</table>\n",
       "</div>"
      ],
      "text/plain": [
       "      RC_ID DC_CONTRIBUTOR_AUTHOR DC_DATE_ISSUED  \\\n",
       "97     3379                  None           2008   \n",
       "98    15103                  None           2008   \n",
       "99   158533                  None           2008   \n",
       "100   14698                  None           2008   \n",
       "101    8255                  None           2008   \n",
       "\n",
       "                                              DC_TITLE       DC_TYPE  \\\n",
       "97   Adenovirus-mediated transduction of auto- and ...  Book Chapter   \n",
       "98               From refugee to reintegration crisis?  Book Chapter   \n",
       "99   Social Studies of Scientific Imaging and Visua...  Book Chapter   \n",
       "100                                      Die Baustelle  Book Chapter   \n",
       "101      Research and development in mountain glaciers  Book Chapter   \n",
       "\n",
       "               ETHZ_JOURNAL_TITLE  \n",
       "97   Methods in Molecular Biology  \n",
       "98      L'Afrique des grands lacs  \n",
       "99                            NaN  \n",
       "100                           NaN  \n",
       "101                           NaN  "
      ]
     },
     "execution_count": 19,
     "metadata": {},
     "output_type": "execute_result"
    }
   ],
   "source": [
    "author_array = rcp_ff[\"DC_CONTRIBUTOR_AUTHOR\"].apply(separate_names)\n",
    "rcp_ff[\"DC_CONTRIBUTOR_AUTHOR\"] = author_array\n",
    "print(\"Check that we don't have more missing values: \", author_array.shape[0] - np.count_nonzero(author_array))\n",
    "rcp_ff.head()"
   ]
  },
  {
   "cell_type": "code",
   "execution_count": null,
   "metadata": {},
   "outputs": [],
   "source": [
    "rcp_ff_e = rcp_ff.explode(\"DC_CONTRIBUTOR_AUTHOR\")"
   ]
  },
  {
   "cell_type": "code",
   "execution_count": null,
   "metadata": {},
   "outputs": [],
   "source": [
    "# 2. Cleaning the dates (same formatting)"
   ]
  },
  {
   "cell_type": "code",
   "execution_count": null,
   "metadata": {},
   "outputs": [],
   "source": [
    "def clean_date(date):\n",
    "    \"Get the dates into a single format (YYYY)\"\n",
    "    pass"
   ]
  },
  {
   "cell_type": "code",
   "execution_count": null,
   "metadata": {},
   "outputs": [],
   "source": [
    "..."
   ]
  },
  {
   "cell_type": "markdown",
   "metadata": {},
   "source": [
    "### 3. Merging"
   ]
  },
  {
   "cell_type": "code",
   "execution_count": 20,
   "metadata": {},
   "outputs": [],
   "source": [
    "pl = pd.read_excel(\"ETH Professor list.xlsx\")"
   ]
  },
  {
   "cell_type": "code",
   "execution_count": null,
   "metadata": {},
   "outputs": [],
   "source": [
    "pl[\"Professor\"] = pl[\"Name\"] + \", \" + pl[\"First name\"]\n",
    "# TODO : delete name and firstname columns here to declutter the dataframe"
   ]
  },
  {
   "cell_type": "code",
   "execution_count": null,
   "metadata": {},
   "outputs": [],
   "source": [
    "rc_m = pl_f.merge(rcp_ff_e,how=\"outer\",left_on=\"Professor\",right_on=\"DC_CONTRIBUTOR_AUTHOR\")\n",
    "rc_m.head()"
   ]
  },
  {
   "cell_type": "code",
   "execution_count": null,
   "metadata": {},
   "outputs": [],
   "source": []
  },
  {
   "cell_type": "markdown",
   "metadata": {},
   "source": [
    "## Import"
   ]
  },
  {
   "cell_type": "code",
   "execution_count": null,
   "metadata": {},
   "outputs": [],
   "source": []
  }
 ],
 "metadata": {
  "kernelspec": {
   "display_name": "Python 3",
   "language": "python",
   "name": "python3"
  },
  "language_info": {
   "codemirror_mode": {
    "name": "ipython",
    "version": 3
   },
   "file_extension": ".py",
   "mimetype": "text/x-python",
   "name": "python",
   "nbconvert_exporter": "python",
   "pygments_lexer": "ipython3",
   "version": "3.7.5"
  }
 },
 "nbformat": 4,
 "nbformat_minor": 2
}
