{
 "cells": [
  {
   "cell_type": "markdown",
   "metadata": {},
   "source": [
    "# Extraction and insertion\n",
    "\n",
    "In this notebook there will be only the **final, necessary** code for the data extraction (cleaning/filtering/merging) and data import."
   ]
  },
  {
   "cell_type": "code",
   "execution_count": 25,
   "metadata": {},
   "outputs": [],
   "source": [
    "import pandas as pd\n",
    "import os \n",
    "import numpy as np\n",
    "import re"
   ]
  },
  {
   "cell_type": "markdown",
   "metadata": {},
   "source": [
    "## Extraction"
   ]
  },
  {
   "cell_type": "code",
   "execution_count": 49,
   "metadata": {
    "scrolled": true
   },
   "outputs": [],
   "source": [
    "rcp = pd.read_csv(\"ResearchCollectionPublications2008_2018.tsv\", sep=\"\\t\", header=0, encoding=\"latin-1\") #utf8 not working..."
   ]
  },
  {
   "cell_type": "markdown",
   "metadata": {},
   "source": [
    "### 1. Filtering "
   ]
  },
  {
   "cell_type": "code",
   "execution_count": 27,
   "metadata": {},
   "outputs": [],
   "source": [
    "# 1. type of publication only limited to: Journal Article, Conference Paper, Other Conference Item, Book Chapter\n",
    "rcp_tf = rcp.loc[(rcp[\"DC_TYPE\"] == \"Journal Article\")|\n",
    "                (rcp[\"DC_TYPE\"] == \"Conference Paper\")|\n",
    "                (rcp[\"DC_TYPE\"] ==\"Other Conference Item\")|\n",
    "                (rcp[\"DC_TYPE\"] ==\"Book Chapter\"),:]"
   ]
  },
  {
   "cell_type": "code",
   "execution_count": 28,
   "metadata": {},
   "outputs": [],
   "source": [
    "#2. projecting into [id, author, date, title, type, journal title]\n",
    "rcp_ff = rcp_tf[[\"RC_ID\",\"DC_CONTRIBUTOR_AUTHOR\",\"DC_DATE_ISSUED\",\"DC_TITLE\",\"DC_TYPE\",\"ETHZ_JOURNAL_TITLE\"]]"
   ]
  },
  {
   "cell_type": "code",
   "execution_count": 29,
   "metadata": {},
   "outputs": [
    {
     "data": {
      "text/html": [
       "<div>\n",
       "<style scoped>\n",
       "    .dataframe tbody tr th:only-of-type {\n",
       "        vertical-align: middle;\n",
       "    }\n",
       "\n",
       "    .dataframe tbody tr th {\n",
       "        vertical-align: top;\n",
       "    }\n",
       "\n",
       "    .dataframe thead th {\n",
       "        text-align: right;\n",
       "    }\n",
       "</style>\n",
       "<table border=\"1\" class=\"dataframe\">\n",
       "  <thead>\n",
       "    <tr style=\"text-align: right;\">\n",
       "      <th></th>\n",
       "      <th>RC_ID</th>\n",
       "      <th>DC_CONTRIBUTOR_AUTHOR</th>\n",
       "      <th>DC_DATE_ISSUED</th>\n",
       "      <th>DC_TITLE</th>\n",
       "      <th>DC_TYPE</th>\n",
       "      <th>ETHZ_JOURNAL_TITLE</th>\n",
       "    </tr>\n",
       "  </thead>\n",
       "  <tbody>\n",
       "    <tr>\n",
       "      <th>97</th>\n",
       "      <td>3379</td>\n",
       "      <td>Gonzalez-Nicolini, Valeria||Fussenegger, Martin</td>\n",
       "      <td>2008</td>\n",
       "      <td>Adenovirus-mediated transduction of auto- and ...</td>\n",
       "      <td>Book Chapter</td>\n",
       "      <td>Methods in Molecular Biology</td>\n",
       "    </tr>\n",
       "    <tr>\n",
       "      <th>98</th>\n",
       "      <td>15103</td>\n",
       "      <td>Vorrath, Judith</td>\n",
       "      <td>2008</td>\n",
       "      <td>From refugee to reintegration crisis?</td>\n",
       "      <td>Book Chapter</td>\n",
       "      <td>L'Afrique des grands lacs</td>\n",
       "    </tr>\n",
       "    <tr>\n",
       "      <th>99</th>\n",
       "      <td>158533</td>\n",
       "      <td>Burri, Regula Valérie||Dumit, Joseph</td>\n",
       "      <td>2008</td>\n",
       "      <td>Social Studies of Scientific Imaging and Visua...</td>\n",
       "      <td>Book Chapter</td>\n",
       "      <td>NaN</td>\n",
       "    </tr>\n",
       "    <tr>\n",
       "      <th>100</th>\n",
       "      <td>14698</td>\n",
       "      <td>Glaser, Marie A.</td>\n",
       "      <td>2008</td>\n",
       "      <td>Die Baustelle</td>\n",
       "      <td>Book Chapter</td>\n",
       "      <td>NaN</td>\n",
       "    </tr>\n",
       "    <tr>\n",
       "      <th>101</th>\n",
       "      <td>8255</td>\n",
       "      <td>Knubel, Denis||Greenwood, Greg||Wiegandt, Ellen</td>\n",
       "      <td>2008</td>\n",
       "      <td>Research and development in mountain glaciers</td>\n",
       "      <td>Book Chapter</td>\n",
       "      <td>NaN</td>\n",
       "    </tr>\n",
       "  </tbody>\n",
       "</table>\n",
       "</div>"
      ],
      "text/plain": [
       "      RC_ID                            DC_CONTRIBUTOR_AUTHOR DC_DATE_ISSUED  \\\n",
       "97     3379  Gonzalez-Nicolini, Valeria||Fussenegger, Martin           2008   \n",
       "98    15103                                  Vorrath, Judith           2008   \n",
       "99   158533             Burri, Regula Valérie||Dumit, Joseph           2008   \n",
       "100   14698                                 Glaser, Marie A.           2008   \n",
       "101    8255  Knubel, Denis||Greenwood, Greg||Wiegandt, Ellen           2008   \n",
       "\n",
       "                                              DC_TITLE       DC_TYPE  \\\n",
       "97   Adenovirus-mediated transduction of auto- and ...  Book Chapter   \n",
       "98               From refugee to reintegration crisis?  Book Chapter   \n",
       "99   Social Studies of Scientific Imaging and Visua...  Book Chapter   \n",
       "100                                      Die Baustelle  Book Chapter   \n",
       "101      Research and development in mountain glaciers  Book Chapter   \n",
       "\n",
       "               ETHZ_JOURNAL_TITLE  \n",
       "97   Methods in Molecular Biology  \n",
       "98      L'Afrique des grands lacs  \n",
       "99                            NaN  \n",
       "100                           NaN  \n",
       "101                           NaN  "
      ]
     },
     "execution_count": 29,
     "metadata": {},
     "output_type": "execute_result"
    }
   ],
   "source": [
    "rcp_ff.head()"
   ]
  },
  {
   "cell_type": "code",
   "execution_count": 30,
   "metadata": {},
   "outputs": [
    {
     "data": {
      "text/html": [
       "<div>\n",
       "<style scoped>\n",
       "    .dataframe tbody tr th:only-of-type {\n",
       "        vertical-align: middle;\n",
       "    }\n",
       "\n",
       "    .dataframe tbody tr th {\n",
       "        vertical-align: top;\n",
       "    }\n",
       "\n",
       "    .dataframe thead th {\n",
       "        text-align: right;\n",
       "    }\n",
       "</style>\n",
       "<table border=\"1\" class=\"dataframe\">\n",
       "  <thead>\n",
       "    <tr style=\"text-align: right;\">\n",
       "      <th></th>\n",
       "      <th>id</th>\n",
       "      <th>author</th>\n",
       "      <th>publication date</th>\n",
       "      <th>title</th>\n",
       "      <th>publication type</th>\n",
       "      <th>journal</th>\n",
       "    </tr>\n",
       "  </thead>\n",
       "  <tbody>\n",
       "    <tr>\n",
       "      <th>97</th>\n",
       "      <td>3379</td>\n",
       "      <td>Gonzalez-Nicolini, Valeria||Fussenegger, Martin</td>\n",
       "      <td>2008</td>\n",
       "      <td>Adenovirus-mediated transduction of auto- and ...</td>\n",
       "      <td>Book Chapter</td>\n",
       "      <td>Methods in Molecular Biology</td>\n",
       "    </tr>\n",
       "    <tr>\n",
       "      <th>98</th>\n",
       "      <td>15103</td>\n",
       "      <td>Vorrath, Judith</td>\n",
       "      <td>2008</td>\n",
       "      <td>From refugee to reintegration crisis?</td>\n",
       "      <td>Book Chapter</td>\n",
       "      <td>L'Afrique des grands lacs</td>\n",
       "    </tr>\n",
       "    <tr>\n",
       "      <th>99</th>\n",
       "      <td>158533</td>\n",
       "      <td>Burri, Regula Valérie||Dumit, Joseph</td>\n",
       "      <td>2008</td>\n",
       "      <td>Social Studies of Scientific Imaging and Visua...</td>\n",
       "      <td>Book Chapter</td>\n",
       "      <td>NaN</td>\n",
       "    </tr>\n",
       "    <tr>\n",
       "      <th>100</th>\n",
       "      <td>14698</td>\n",
       "      <td>Glaser, Marie A.</td>\n",
       "      <td>2008</td>\n",
       "      <td>Die Baustelle</td>\n",
       "      <td>Book Chapter</td>\n",
       "      <td>NaN</td>\n",
       "    </tr>\n",
       "    <tr>\n",
       "      <th>101</th>\n",
       "      <td>8255</td>\n",
       "      <td>Knubel, Denis||Greenwood, Greg||Wiegandt, Ellen</td>\n",
       "      <td>2008</td>\n",
       "      <td>Research and development in mountain glaciers</td>\n",
       "      <td>Book Chapter</td>\n",
       "      <td>NaN</td>\n",
       "    </tr>\n",
       "  </tbody>\n",
       "</table>\n",
       "</div>"
      ],
      "text/plain": [
       "         id                                           author publication date  \\\n",
       "97     3379  Gonzalez-Nicolini, Valeria||Fussenegger, Martin             2008   \n",
       "98    15103                                  Vorrath, Judith             2008   \n",
       "99   158533             Burri, Regula Valérie||Dumit, Joseph             2008   \n",
       "100   14698                                 Glaser, Marie A.             2008   \n",
       "101    8255  Knubel, Denis||Greenwood, Greg||Wiegandt, Ellen             2008   \n",
       "\n",
       "                                                 title publication type  \\\n",
       "97   Adenovirus-mediated transduction of auto- and ...     Book Chapter   \n",
       "98               From refugee to reintegration crisis?     Book Chapter   \n",
       "99   Social Studies of Scientific Imaging and Visua...     Book Chapter   \n",
       "100                                      Die Baustelle     Book Chapter   \n",
       "101      Research and development in mountain glaciers     Book Chapter   \n",
       "\n",
       "                          journal  \n",
       "97   Methods in Molecular Biology  \n",
       "98      L'Afrique des grands lacs  \n",
       "99                            NaN  \n",
       "100                           NaN  \n",
       "101                           NaN  "
      ]
     },
     "execution_count": 30,
     "metadata": {},
     "output_type": "execute_result"
    }
   ],
   "source": [
    "#3. changing column names ro more readable ones\n",
    "rcp_ff = rcp_ff.rename({\"RC_ID\": \"id\", \"DC_CONTRIBUTOR_AUTHOR\": \"author\", \"DC_DATE_ISSUED\": \"publication date\",\n",
    "                       \"DC_TITLE\": \"title\", \"DC_TYPE\": \"publication type\", \"ETHZ_JOURNAL_TITLE\": \"journal\"}, \n",
    "              axis = 1)\n",
    "rcp_ff.head()\n"
   ]
  },
  {
   "cell_type": "markdown",
   "metadata": {},
   "source": [
    "### 2. Cleaning"
   ]
  },
  {
   "cell_type": "code",
   "execution_count": 31,
   "metadata": {},
   "outputs": [],
   "source": [
    "# 1. Cleaning the names "
   ]
  },
  {
   "cell_type": "code",
   "execution_count": 32,
   "metadata": {},
   "outputs": [],
   "source": [
    "def separate_names(names):\n",
    "    \"\"\" Separes a string of names of the form name1||name2||name3||... into a list of names.\"\"\"\n",
    "    # Also: does pandas DataFrame support list of strings as fields? \n",
    "    # Andreas: Yes\n",
    "    if isinstance(names, str):\n",
    "        return names.split(\"||\")"
   ]
  },
  {
   "cell_type": "code",
   "execution_count": 33,
   "metadata": {},
   "outputs": [
    {
     "name": "stdout",
     "output_type": "stream",
     "text": [
      "Check that we don't have more missing values:  8\n"
     ]
    },
    {
     "data": {
      "text/html": [
       "<div>\n",
       "<style scoped>\n",
       "    .dataframe tbody tr th:only-of-type {\n",
       "        vertical-align: middle;\n",
       "    }\n",
       "\n",
       "    .dataframe tbody tr th {\n",
       "        vertical-align: top;\n",
       "    }\n",
       "\n",
       "    .dataframe thead th {\n",
       "        text-align: right;\n",
       "    }\n",
       "</style>\n",
       "<table border=\"1\" class=\"dataframe\">\n",
       "  <thead>\n",
       "    <tr style=\"text-align: right;\">\n",
       "      <th></th>\n",
       "      <th>id</th>\n",
       "      <th>author</th>\n",
       "      <th>publication date</th>\n",
       "      <th>title</th>\n",
       "      <th>publication type</th>\n",
       "      <th>journal</th>\n",
       "    </tr>\n",
       "  </thead>\n",
       "  <tbody>\n",
       "    <tr>\n",
       "      <th>97</th>\n",
       "      <td>3379</td>\n",
       "      <td>[Gonzalez-Nicolini, Valeria, Fussenegger, Martin]</td>\n",
       "      <td>2008</td>\n",
       "      <td>Adenovirus-mediated transduction of auto- and ...</td>\n",
       "      <td>Book Chapter</td>\n",
       "      <td>Methods in Molecular Biology</td>\n",
       "    </tr>\n",
       "    <tr>\n",
       "      <th>98</th>\n",
       "      <td>15103</td>\n",
       "      <td>[Vorrath, Judith]</td>\n",
       "      <td>2008</td>\n",
       "      <td>From refugee to reintegration crisis?</td>\n",
       "      <td>Book Chapter</td>\n",
       "      <td>L'Afrique des grands lacs</td>\n",
       "    </tr>\n",
       "    <tr>\n",
       "      <th>99</th>\n",
       "      <td>158533</td>\n",
       "      <td>[Burri, Regula Valérie, Dumit, Joseph]</td>\n",
       "      <td>2008</td>\n",
       "      <td>Social Studies of Scientific Imaging and Visua...</td>\n",
       "      <td>Book Chapter</td>\n",
       "      <td>NaN</td>\n",
       "    </tr>\n",
       "    <tr>\n",
       "      <th>100</th>\n",
       "      <td>14698</td>\n",
       "      <td>[Glaser, Marie A.]</td>\n",
       "      <td>2008</td>\n",
       "      <td>Die Baustelle</td>\n",
       "      <td>Book Chapter</td>\n",
       "      <td>NaN</td>\n",
       "    </tr>\n",
       "    <tr>\n",
       "      <th>101</th>\n",
       "      <td>8255</td>\n",
       "      <td>[Knubel, Denis, Greenwood, Greg, Wiegandt, Ellen]</td>\n",
       "      <td>2008</td>\n",
       "      <td>Research and development in mountain glaciers</td>\n",
       "      <td>Book Chapter</td>\n",
       "      <td>NaN</td>\n",
       "    </tr>\n",
       "  </tbody>\n",
       "</table>\n",
       "</div>"
      ],
      "text/plain": [
       "         id                                             author  \\\n",
       "97     3379  [Gonzalez-Nicolini, Valeria, Fussenegger, Martin]   \n",
       "98    15103                                  [Vorrath, Judith]   \n",
       "99   158533             [Burri, Regula Valérie, Dumit, Joseph]   \n",
       "100   14698                                 [Glaser, Marie A.]   \n",
       "101    8255  [Knubel, Denis, Greenwood, Greg, Wiegandt, Ellen]   \n",
       "\n",
       "    publication date                                              title  \\\n",
       "97              2008  Adenovirus-mediated transduction of auto- and ...   \n",
       "98              2008              From refugee to reintegration crisis?   \n",
       "99              2008  Social Studies of Scientific Imaging and Visua...   \n",
       "100             2008                                      Die Baustelle   \n",
       "101             2008      Research and development in mountain glaciers   \n",
       "\n",
       "    publication type                       journal  \n",
       "97      Book Chapter  Methods in Molecular Biology  \n",
       "98      Book Chapter     L'Afrique des grands lacs  \n",
       "99      Book Chapter                           NaN  \n",
       "100     Book Chapter                           NaN  \n",
       "101     Book Chapter                           NaN  "
      ]
     },
     "execution_count": 33,
     "metadata": {},
     "output_type": "execute_result"
    }
   ],
   "source": [
    "author_array = rcp_ff[\"author\"].apply(separate_names)\n",
    "rcp_ff[\"author\"] = author_array\n",
    "print(\"Check that we don't have more missing values: \", author_array.shape[0] - np.count_nonzero(author_array))\n",
    "rcp_ff.head()"
   ]
  },
  {
   "cell_type": "code",
   "execution_count": 34,
   "metadata": {},
   "outputs": [
    {
     "name": "stdout",
     "output_type": "stream",
     "text": [
      "(98367, 6) (521431, 6)\n"
     ]
    }
   ],
   "source": [
    "rcp_ff_e = rcp_ff.explode(\"author\")\n",
    "print(rcp_ff.shape, rcp_ff_e.shape)"
   ]
  },
  {
   "cell_type": "code",
   "execution_count": 35,
   "metadata": {},
   "outputs": [
    {
     "data": {
      "text/html": [
       "<div>\n",
       "<style scoped>\n",
       "    .dataframe tbody tr th:only-of-type {\n",
       "        vertical-align: middle;\n",
       "    }\n",
       "\n",
       "    .dataframe tbody tr th {\n",
       "        vertical-align: top;\n",
       "    }\n",
       "\n",
       "    .dataframe thead th {\n",
       "        text-align: right;\n",
       "    }\n",
       "</style>\n",
       "<table border=\"1\" class=\"dataframe\">\n",
       "  <thead>\n",
       "    <tr style=\"text-align: right;\">\n",
       "      <th></th>\n",
       "      <th>id</th>\n",
       "      <th>author</th>\n",
       "      <th>publication date</th>\n",
       "      <th>title</th>\n",
       "      <th>publication type</th>\n",
       "      <th>journal</th>\n",
       "    </tr>\n",
       "  </thead>\n",
       "  <tbody>\n",
       "    <tr>\n",
       "      <th>97</th>\n",
       "      <td>3379</td>\n",
       "      <td>Gonzalez-Nicolini, Valeria</td>\n",
       "      <td>2008</td>\n",
       "      <td>Adenovirus-mediated transduction of auto- and ...</td>\n",
       "      <td>Book Chapter</td>\n",
       "      <td>Methods in Molecular Biology</td>\n",
       "    </tr>\n",
       "    <tr>\n",
       "      <th>97</th>\n",
       "      <td>3379</td>\n",
       "      <td>Fussenegger, Martin</td>\n",
       "      <td>2008</td>\n",
       "      <td>Adenovirus-mediated transduction of auto- and ...</td>\n",
       "      <td>Book Chapter</td>\n",
       "      <td>Methods in Molecular Biology</td>\n",
       "    </tr>\n",
       "    <tr>\n",
       "      <th>98</th>\n",
       "      <td>15103</td>\n",
       "      <td>Vorrath, Judith</td>\n",
       "      <td>2008</td>\n",
       "      <td>From refugee to reintegration crisis?</td>\n",
       "      <td>Book Chapter</td>\n",
       "      <td>L'Afrique des grands lacs</td>\n",
       "    </tr>\n",
       "    <tr>\n",
       "      <th>99</th>\n",
       "      <td>158533</td>\n",
       "      <td>Burri, Regula Valérie</td>\n",
       "      <td>2008</td>\n",
       "      <td>Social Studies of Scientific Imaging and Visua...</td>\n",
       "      <td>Book Chapter</td>\n",
       "      <td>NaN</td>\n",
       "    </tr>\n",
       "    <tr>\n",
       "      <th>99</th>\n",
       "      <td>158533</td>\n",
       "      <td>Dumit, Joseph</td>\n",
       "      <td>2008</td>\n",
       "      <td>Social Studies of Scientific Imaging and Visua...</td>\n",
       "      <td>Book Chapter</td>\n",
       "      <td>NaN</td>\n",
       "    </tr>\n",
       "  </tbody>\n",
       "</table>\n",
       "</div>"
      ],
      "text/plain": [
       "        id                      author publication date  \\\n",
       "97    3379  Gonzalez-Nicolini, Valeria             2008   \n",
       "97    3379         Fussenegger, Martin             2008   \n",
       "98   15103             Vorrath, Judith             2008   \n",
       "99  158533       Burri, Regula Valérie             2008   \n",
       "99  158533               Dumit, Joseph             2008   \n",
       "\n",
       "                                                title publication type  \\\n",
       "97  Adenovirus-mediated transduction of auto- and ...     Book Chapter   \n",
       "97  Adenovirus-mediated transduction of auto- and ...     Book Chapter   \n",
       "98              From refugee to reintegration crisis?     Book Chapter   \n",
       "99  Social Studies of Scientific Imaging and Visua...     Book Chapter   \n",
       "99  Social Studies of Scientific Imaging and Visua...     Book Chapter   \n",
       "\n",
       "                         journal  \n",
       "97  Methods in Molecular Biology  \n",
       "97  Methods in Molecular Biology  \n",
       "98     L'Afrique des grands lacs  \n",
       "99                           NaN  \n",
       "99                           NaN  "
      ]
     },
     "execution_count": 35,
     "metadata": {},
     "output_type": "execute_result"
    }
   ],
   "source": [
    "rcp_ff_e.head()"
   ]
  },
  {
   "cell_type": "code",
   "execution_count": 36,
   "metadata": {},
   "outputs": [],
   "source": [
    "# 2. Cleaning the dates (same formatting)"
   ]
  },
  {
   "cell_type": "code",
   "execution_count": 37,
   "metadata": {},
   "outputs": [],
   "source": [
    "def date_to_year(date):\n",
    "    \"Get the dates into a single format (YYYY)\"\n",
    "    if isinstance(date, str):\n",
    "        return re.findall(\"[\\d]{4}\",date)[0]\n",
    "\n",
    "def date_to_year_and_month(date):\n",
    "    \"Get dates into format YYYY-MM\"\n",
    "    # if needed later\n",
    "    if isinstance(date, str):\n",
    "        if len(re.findall(\"[\\d]{4}[-][\\d]{2}\",date)) > 0:\n",
    "            return re.findall(\"[\\d]{4}[-][\\d]{2}\",date)[0]\n",
    "        else:\n",
    "            return str(date)"
   ]
  },
  {
   "cell_type": "code",
   "execution_count": 38,
   "metadata": {
    "scrolled": true
   },
   "outputs": [
    {
     "name": "stdout",
     "output_type": "stream",
     "text": [
      "Missing values before:  0\n",
      "Missing values after:  8\n"
     ]
    },
    {
     "data": {
      "text/html": [
       "<div>\n",
       "<style scoped>\n",
       "    .dataframe tbody tr th:only-of-type {\n",
       "        vertical-align: middle;\n",
       "    }\n",
       "\n",
       "    .dataframe tbody tr th {\n",
       "        vertical-align: top;\n",
       "    }\n",
       "\n",
       "    .dataframe thead th {\n",
       "        text-align: right;\n",
       "    }\n",
       "</style>\n",
       "<table border=\"1\" class=\"dataframe\">\n",
       "  <thead>\n",
       "    <tr style=\"text-align: right;\">\n",
       "      <th></th>\n",
       "      <th>id</th>\n",
       "      <th>author</th>\n",
       "      <th>publication date</th>\n",
       "      <th>title</th>\n",
       "      <th>publication type</th>\n",
       "      <th>journal</th>\n",
       "    </tr>\n",
       "  </thead>\n",
       "  <tbody>\n",
       "    <tr>\n",
       "      <th>97</th>\n",
       "      <td>3379</td>\n",
       "      <td>Gonzalez-Nicolini, Valeria</td>\n",
       "      <td>2008</td>\n",
       "      <td>Adenovirus-mediated transduction of auto- and ...</td>\n",
       "      <td>Book Chapter</td>\n",
       "      <td>Methods in Molecular Biology</td>\n",
       "    </tr>\n",
       "    <tr>\n",
       "      <th>97</th>\n",
       "      <td>3379</td>\n",
       "      <td>Fussenegger, Martin</td>\n",
       "      <td>2008</td>\n",
       "      <td>Adenovirus-mediated transduction of auto- and ...</td>\n",
       "      <td>Book Chapter</td>\n",
       "      <td>Methods in Molecular Biology</td>\n",
       "    </tr>\n",
       "    <tr>\n",
       "      <th>98</th>\n",
       "      <td>15103</td>\n",
       "      <td>Vorrath, Judith</td>\n",
       "      <td>2008</td>\n",
       "      <td>From refugee to reintegration crisis?</td>\n",
       "      <td>Book Chapter</td>\n",
       "      <td>L'Afrique des grands lacs</td>\n",
       "    </tr>\n",
       "    <tr>\n",
       "      <th>99</th>\n",
       "      <td>158533</td>\n",
       "      <td>Burri, Regula Valérie</td>\n",
       "      <td>2008</td>\n",
       "      <td>Social Studies of Scientific Imaging and Visua...</td>\n",
       "      <td>Book Chapter</td>\n",
       "      <td>NaN</td>\n",
       "    </tr>\n",
       "    <tr>\n",
       "      <th>99</th>\n",
       "      <td>158533</td>\n",
       "      <td>Dumit, Joseph</td>\n",
       "      <td>2008</td>\n",
       "      <td>Social Studies of Scientific Imaging and Visua...</td>\n",
       "      <td>Book Chapter</td>\n",
       "      <td>NaN</td>\n",
       "    </tr>\n",
       "  </tbody>\n",
       "</table>\n",
       "</div>"
      ],
      "text/plain": [
       "        id                      author publication date  \\\n",
       "97    3379  Gonzalez-Nicolini, Valeria             2008   \n",
       "97    3379         Fussenegger, Martin             2008   \n",
       "98   15103             Vorrath, Judith             2008   \n",
       "99  158533       Burri, Regula Valérie             2008   \n",
       "99  158533               Dumit, Joseph             2008   \n",
       "\n",
       "                                                title publication type  \\\n",
       "97  Adenovirus-mediated transduction of auto- and ...     Book Chapter   \n",
       "97  Adenovirus-mediated transduction of auto- and ...     Book Chapter   \n",
       "98              From refugee to reintegration crisis?     Book Chapter   \n",
       "99  Social Studies of Scientific Imaging and Visua...     Book Chapter   \n",
       "99  Social Studies of Scientific Imaging and Visua...     Book Chapter   \n",
       "\n",
       "                         journal  \n",
       "97  Methods in Molecular Biology  \n",
       "97  Methods in Molecular Biology  \n",
       "98     L'Afrique des grands lacs  \n",
       "99                           NaN  \n",
       "99                           NaN  "
      ]
     },
     "execution_count": 38,
     "metadata": {},
     "output_type": "execute_result"
    }
   ],
   "source": [
    "print(\"Missing values before: \", rcp_ff_e[\"publication date\"].shape[0] - np.count_nonzero(rcp_ff_e[\"publication date\"]))\n",
    "date_array = rcp_ff_e[\"publication date\"].apply(date_to_year)\n",
    "rcp_ff_e[\"publication date\"] = date_array\n",
    "print(\"Missing values after: \", author_array.shape[0] - np.count_nonzero(author_array))\n",
    "rcp_ff_e.head()"
   ]
  },
  {
   "cell_type": "markdown",
   "metadata": {},
   "source": [
    "### 3. Merging"
   ]
  },
  {
   "cell_type": "markdown",
   "metadata": {},
   "source": [
    "#### 3.1 Organisations data"
   ]
  },
  {
   "cell_type": "code",
   "execution_count": 39,
   "metadata": {},
   "outputs": [],
   "source": [
    "pl = pd.read_excel(\"ETH Professor list.xlsx\")"
   ]
  },
  {
   "cell_type": "code",
   "execution_count": 40,
   "metadata": {},
   "outputs": [
    {
     "data": {
      "text/html": [
       "<div>\n",
       "<style scoped>\n",
       "    .dataframe tbody tr th:only-of-type {\n",
       "        vertical-align: middle;\n",
       "    }\n",
       "\n",
       "    .dataframe tbody tr th {\n",
       "        vertical-align: top;\n",
       "    }\n",
       "\n",
       "    .dataframe thead th {\n",
       "        text-align: right;\n",
       "    }\n",
       "</style>\n",
       "<table border=\"1\" class=\"dataframe\">\n",
       "  <thead>\n",
       "    <tr style=\"text-align: right;\">\n",
       "      <th></th>\n",
       "      <th>Professor</th>\n",
       "      <th>Org. unit code</th>\n",
       "      <th>Organisation</th>\n",
       "    </tr>\n",
       "  </thead>\n",
       "  <tbody>\n",
       "    <tr>\n",
       "      <th>0</th>\n",
       "      <td>Abhari, Reza S.</td>\n",
       "      <td>2627</td>\n",
       "      <td>Institute of Energy Technology (former)</td>\n",
       "    </tr>\n",
       "    <tr>\n",
       "      <th>1</th>\n",
       "      <td>Acciaio, Beatrice</td>\n",
       "      <td>9727</td>\n",
       "      <td>Acciaio, Beatrice</td>\n",
       "    </tr>\n",
       "    <tr>\n",
       "      <th>2</th>\n",
       "      <td>Ackermann, Martin</td>\n",
       "      <td>3743</td>\n",
       "      <td>Ackermann, Martin</td>\n",
       "    </tr>\n",
       "    <tr>\n",
       "      <th>3</th>\n",
       "      <td>Ackermann, Martin</td>\n",
       "      <td>2721</td>\n",
       "      <td>Inst. Biogeochem. and Pollutant Dynamics</td>\n",
       "    </tr>\n",
       "    <tr>\n",
       "      <th>4</th>\n",
       "      <td>Adey, Bryan T.</td>\n",
       "      <td>2604</td>\n",
       "      <td>Inst. Construction&amp;Infrastructure Manag.</td>\n",
       "    </tr>\n",
       "  </tbody>\n",
       "</table>\n",
       "</div>"
      ],
      "text/plain": [
       "           Professor  Org. unit code                              Organisation\n",
       "0    Abhari, Reza S.            2627   Institute of Energy Technology (former)\n",
       "1  Acciaio, Beatrice            9727                         Acciaio, Beatrice\n",
       "2  Ackermann, Martin            3743                         Ackermann, Martin\n",
       "3  Ackermann, Martin            2721  Inst. Biogeochem. and Pollutant Dynamics\n",
       "4     Adey, Bryan T.            2604  Inst. Construction&Infrastructure Manag."
      ]
     },
     "execution_count": 40,
     "metadata": {},
     "output_type": "execute_result"
    }
   ],
   "source": [
    "# create professor column and keep only the relevant columns\n",
    "pl[\"Professor\"] = pl[\"Name\"] + \", \" + pl[\"First name\"]\n",
    "pl = pl[[\"Professor\", \"Org. unit code\", \"Organisation\"]]\n",
    "pl.head()"
   ]
  },
  {
   "cell_type": "code",
   "execution_count": 96,
   "metadata": {},
   "outputs": [
    {
     "data": {
      "text/html": [
       "<div>\n",
       "<style scoped>\n",
       "    .dataframe tbody tr th:only-of-type {\n",
       "        vertical-align: middle;\n",
       "    }\n",
       "\n",
       "    .dataframe tbody tr th {\n",
       "        vertical-align: top;\n",
       "    }\n",
       "\n",
       "    .dataframe thead th {\n",
       "        text-align: right;\n",
       "    }\n",
       "</style>\n",
       "<table border=\"1\" class=\"dataframe\">\n",
       "  <thead>\n",
       "    <tr style=\"text-align: right;\">\n",
       "      <th></th>\n",
       "      <th>Professor</th>\n",
       "      <th>Org. unit code</th>\n",
       "      <th>Organisation</th>\n",
       "      <th>id</th>\n",
       "      <th>author</th>\n",
       "      <th>publication date</th>\n",
       "      <th>title</th>\n",
       "      <th>publication type</th>\n",
       "      <th>journal</th>\n",
       "    </tr>\n",
       "  </thead>\n",
       "  <tbody>\n",
       "    <tr>\n",
       "      <th>0</th>\n",
       "      <td>Abhari, Reza S.</td>\n",
       "      <td>2627.0</td>\n",
       "      <td>Institute of Energy Technology (former)</td>\n",
       "      <td>253873.0</td>\n",
       "      <td>Abhari, Reza S.</td>\n",
       "      <td>2008</td>\n",
       "      <td>The Dynamics of the Vorticity Field in a Low S...</td>\n",
       "      <td>Other Conference Item</td>\n",
       "      <td>NaN</td>\n",
       "    </tr>\n",
       "    <tr>\n",
       "      <th>1</th>\n",
       "      <td>Abhari, Reza S.</td>\n",
       "      <td>2627.0</td>\n",
       "      <td>Institute of Energy Technology (former)</td>\n",
       "      <td>13706.0</td>\n",
       "      <td>Abhari, Reza S.</td>\n",
       "      <td>2008</td>\n",
       "      <td>Aerothermal Performance of Streamwise and Comp...</td>\n",
       "      <td>Conference Paper</td>\n",
       "      <td>NaN</td>\n",
       "    </tr>\n",
       "    <tr>\n",
       "      <th>2</th>\n",
       "      <td>Abhari, Reza S.</td>\n",
       "      <td>2627.0</td>\n",
       "      <td>Institute of Energy Technology (former)</td>\n",
       "      <td>16637.0</td>\n",
       "      <td>Abhari, Reza S.</td>\n",
       "      <td>2008</td>\n",
       "      <td>Unsteady CFD Investigation on Inlet Distortion...</td>\n",
       "      <td>Conference Paper</td>\n",
       "      <td>Proceedings of the ASME Turbo Expo</td>\n",
       "    </tr>\n",
       "  </tbody>\n",
       "</table>\n",
       "</div>"
      ],
      "text/plain": [
       "         Professor  Org. unit code                             Organisation  \\\n",
       "0  Abhari, Reza S.          2627.0  Institute of Energy Technology (former)   \n",
       "1  Abhari, Reza S.          2627.0  Institute of Energy Technology (former)   \n",
       "2  Abhari, Reza S.          2627.0  Institute of Energy Technology (former)   \n",
       "\n",
       "         id           author publication date  \\\n",
       "0  253873.0  Abhari, Reza S.             2008   \n",
       "1   13706.0  Abhari, Reza S.             2008   \n",
       "2   16637.0  Abhari, Reza S.             2008   \n",
       "\n",
       "                                               title       publication type  \\\n",
       "0  The Dynamics of the Vorticity Field in a Low S...  Other Conference Item   \n",
       "1  Aerothermal Performance of Streamwise and Comp...       Conference Paper   \n",
       "2  Unsteady CFD Investigation on Inlet Distortion...       Conference Paper   \n",
       "\n",
       "                              journal  \n",
       "0                                 NaN  \n",
       "1                                 NaN  \n",
       "2  Proceedings of the ASME Turbo Expo  "
      ]
     },
     "execution_count": 96,
     "metadata": {},
     "output_type": "execute_result"
    }
   ],
   "source": [
    "rc_m = pl.merge(rcp_ff_e,how=\"outer\",left_on=\"Professor\",right_on=\"author\")\n",
    "rc_m.head(3)"
   ]
  },
  {
   "cell_type": "code",
   "execution_count": 81,
   "metadata": {},
   "outputs": [
    {
     "data": {
      "text/plain": [
       "(527256, 9)"
      ]
     },
     "execution_count": 81,
     "metadata": {},
     "output_type": "execute_result"
    }
   ],
   "source": [
    "rc_m.shape"
   ]
  },
  {
   "cell_type": "code",
   "execution_count": 82,
   "metadata": {},
   "outputs": [
    {
     "data": {
      "text/plain": [
       "(521431, 6)"
      ]
     },
     "execution_count": 82,
     "metadata": {},
     "output_type": "execute_result"
    }
   ],
   "source": [
    "rcp_ff_e.shape"
   ]
  },
  {
   "cell_type": "markdown",
   "metadata": {},
   "source": [
    "#### 3.2 Research areas data"
   ]
  },
  {
   "cell_type": "code",
   "execution_count": 50,
   "metadata": {},
   "outputs": [],
   "source": [
    "ar = pd.read_excel(\"areas.xls\")"
   ]
  },
  {
   "cell_type": "code",
   "execution_count": 51,
   "metadata": {},
   "outputs": [
    {
     "data": {
      "text/html": [
       "<div>\n",
       "<style scoped>\n",
       "    .dataframe tbody tr th:only-of-type {\n",
       "        vertical-align: middle;\n",
       "    }\n",
       "\n",
       "    .dataframe tbody tr th {\n",
       "        vertical-align: top;\n",
       "    }\n",
       "\n",
       "    .dataframe thead th {\n",
       "        text-align: right;\n",
       "    }\n",
       "</style>\n",
       "<table border=\"1\" class=\"dataframe\">\n",
       "  <thead>\n",
       "    <tr style=\"text-align: right;\">\n",
       "      <th></th>\n",
       "      <th>ANREDE</th>\n",
       "      <th>FAMNAME</th>\n",
       "      <th>VORNAME</th>\n",
       "      <th>DEPARTEMENT_NAME</th>\n",
       "      <th>DEPARTEMENT_LEITZAHL</th>\n",
       "      <th>FORSCHUNGSGEBIET_E</th>\n",
       "      <th>HOMEPAGE</th>\n",
       "    </tr>\n",
       "  </thead>\n",
       "  <tbody>\n",
       "    <tr>\n",
       "      <th>0</th>\n",
       "      <td>Herr</td>\n",
       "      <td>Avermaete</td>\n",
       "      <td>Tom</td>\n",
       "      <td>Architektur</td>\n",
       "      <td>2100</td>\n",
       "      <td>NaN</td>\n",
       "      <td>NaN</td>\n",
       "    </tr>\n",
       "    <tr>\n",
       "      <th>1</th>\n",
       "      <td>Herr</td>\n",
       "      <td>Block</td>\n",
       "      <td>Philippe Camille Vincent</td>\n",
       "      <td>Architektur</td>\n",
       "      <td>2100</td>\n",
       "      <td>&lt;p&gt;Philippe Block is a structural engineer and...</td>\n",
       "      <td>http://block.arch.ethz.ch</td>\n",
       "    </tr>\n",
       "    <tr>\n",
       "      <th>2</th>\n",
       "      <td>Herr</td>\n",
       "      <td>Brandlhuber</td>\n",
       "      <td>Arno Hans</td>\n",
       "      <td>Architektur</td>\n",
       "      <td>2100</td>\n",
       "      <td>NaN</td>\n",
       "      <td>NaN</td>\n",
       "    </tr>\n",
       "  </tbody>\n",
       "</table>\n",
       "</div>"
      ],
      "text/plain": [
       "  ANREDE      FAMNAME                   VORNAME DEPARTEMENT_NAME  \\\n",
       "0   Herr    Avermaete                       Tom      Architektur   \n",
       "1   Herr        Block  Philippe Camille Vincent      Architektur   \n",
       "2   Herr  Brandlhuber                 Arno Hans      Architektur   \n",
       "\n",
       "   DEPARTEMENT_LEITZAHL                                 FORSCHUNGSGEBIET_E  \\\n",
       "0                  2100                                                NaN   \n",
       "1                  2100  <p>Philippe Block is a structural engineer and...   \n",
       "2                  2100                                                NaN   \n",
       "\n",
       "                    HOMEPAGE  \n",
       "0                        NaN  \n",
       "1  http://block.arch.ethz.ch  \n",
       "2                        NaN  "
      ]
     },
     "execution_count": 51,
     "metadata": {},
     "output_type": "execute_result"
    }
   ],
   "source": [
    "ar.head(3)"
   ]
  },
  {
   "cell_type": "code",
   "execution_count": 66,
   "metadata": {},
   "outputs": [
    {
     "data": {
      "text/plain": [
       "(564, 8)"
      ]
     },
     "execution_count": 66,
     "metadata": {},
     "output_type": "execute_result"
    }
   ],
   "source": [
    "ar.shape\n",
    "# Only 564 researchers ... \n",
    "# Hypothesis of work: select the 'most complete' subset"
   ]
  },
  {
   "cell_type": "code",
   "execution_count": 55,
   "metadata": {},
   "outputs": [],
   "source": [
    "# small adjustment \n",
    "ar.loc[ar[\"ANREDE\"]==\"Herr\",[\"ANREDE\"]] = \"M\"\n",
    "ar.loc[ar[\"ANREDE\"]==\"Frau\",[\"ANREDE\"]] = \"F\""
   ]
  },
  {
   "cell_type": "code",
   "execution_count": 57,
   "metadata": {},
   "outputs": [],
   "source": [
    "# producing single name column \n",
    "ar[\"Name\"] = ar[\"FAMNAME\"] + \", \" + ar[\"VORNAME\"]"
   ]
  },
  {
   "cell_type": "code",
   "execution_count": null,
   "metadata": {},
   "outputs": [],
   "source": [
    "# Should we translate the department names? \n",
    "# (Check how they're represented in other files)"
   ]
  },
  {
   "cell_type": "code",
   "execution_count": 69,
   "metadata": {},
   "outputs": [],
   "source": [
    "# projecting into interesting columns \n",
    "# Should we keep the \"FORSCHUNGSGEBIET_E\" column? 396 values are NaN (circa 70%)\n",
    "# same goes for the Homepage (btw 60-70% NaN)\n",
    "ar_p = ar[[\"ANREDE\",\"DEPARTEMENT_NAME\",\"DEPARTEMENT_LEITZAHL\",\"FORSCHUNGSGEBIET_E\",\"HOMEPAGE\",\"Name\"]]"
   ]
  },
  {
   "cell_type": "code",
   "execution_count": 70,
   "metadata": {},
   "outputs": [
    {
     "data": {
      "text/html": [
       "<div>\n",
       "<style scoped>\n",
       "    .dataframe tbody tr th:only-of-type {\n",
       "        vertical-align: middle;\n",
       "    }\n",
       "\n",
       "    .dataframe tbody tr th {\n",
       "        vertical-align: top;\n",
       "    }\n",
       "\n",
       "    .dataframe thead th {\n",
       "        text-align: right;\n",
       "    }\n",
       "</style>\n",
       "<table border=\"1\" class=\"dataframe\">\n",
       "  <thead>\n",
       "    <tr style=\"text-align: right;\">\n",
       "      <th></th>\n",
       "      <th>gender</th>\n",
       "      <th>department_name</th>\n",
       "      <th>department_code</th>\n",
       "      <th>description</th>\n",
       "      <th>webpage</th>\n",
       "      <th>name</th>\n",
       "    </tr>\n",
       "  </thead>\n",
       "  <tbody>\n",
       "    <tr>\n",
       "      <th>0</th>\n",
       "      <td>M</td>\n",
       "      <td>Architektur</td>\n",
       "      <td>2100</td>\n",
       "      <td>NaN</td>\n",
       "      <td>NaN</td>\n",
       "      <td>Avermaete, Tom</td>\n",
       "    </tr>\n",
       "    <tr>\n",
       "      <th>1</th>\n",
       "      <td>M</td>\n",
       "      <td>Architektur</td>\n",
       "      <td>2100</td>\n",
       "      <td>&lt;p&gt;Philippe Block is a structural engineer and...</td>\n",
       "      <td>http://block.arch.ethz.ch</td>\n",
       "      <td>Block, Philippe Camille Vincent</td>\n",
       "    </tr>\n",
       "    <tr>\n",
       "      <th>2</th>\n",
       "      <td>M</td>\n",
       "      <td>Architektur</td>\n",
       "      <td>2100</td>\n",
       "      <td>NaN</td>\n",
       "      <td>NaN</td>\n",
       "      <td>Brandlhuber, Arno Hans</td>\n",
       "    </tr>\n",
       "  </tbody>\n",
       "</table>\n",
       "</div>"
      ],
      "text/plain": [
       "  gender department_name  department_code  \\\n",
       "0      M     Architektur             2100   \n",
       "1      M     Architektur             2100   \n",
       "2      M     Architektur             2100   \n",
       "\n",
       "                                         description  \\\n",
       "0                                                NaN   \n",
       "1  <p>Philippe Block is a structural engineer and...   \n",
       "2                                                NaN   \n",
       "\n",
       "                     webpage                             name  \n",
       "0                        NaN                   Avermaete, Tom  \n",
       "1  http://block.arch.ethz.ch  Block, Philippe Camille Vincent  \n",
       "2                        NaN           Brandlhuber, Arno Hans  "
      ]
     },
     "execution_count": 70,
     "metadata": {},
     "output_type": "execute_result"
    }
   ],
   "source": [
    "# Renaming the columns \n",
    "ar_p.columns = [\"gender\",\"department_name\",\"department_code\",\"description\",\"webpage\",\"name\"]\n",
    "ar_p.head(3)"
   ]
  },
  {
   "cell_type": "code",
   "execution_count": 97,
   "metadata": {},
   "outputs": [
    {
     "data": {
      "text/html": [
       "<div>\n",
       "<style scoped>\n",
       "    .dataframe tbody tr th:only-of-type {\n",
       "        vertical-align: middle;\n",
       "    }\n",
       "\n",
       "    .dataframe tbody tr th {\n",
       "        vertical-align: top;\n",
       "    }\n",
       "\n",
       "    .dataframe thead th {\n",
       "        text-align: right;\n",
       "    }\n",
       "</style>\n",
       "<table border=\"1\" class=\"dataframe\">\n",
       "  <thead>\n",
       "    <tr style=\"text-align: right;\">\n",
       "      <th></th>\n",
       "      <th>gender</th>\n",
       "      <th>department_name</th>\n",
       "      <th>department_code</th>\n",
       "      <th>description</th>\n",
       "      <th>webpage</th>\n",
       "      <th>name</th>\n",
       "      <th>Professor</th>\n",
       "      <th>Org. unit code</th>\n",
       "      <th>Organisation</th>\n",
       "      <th>id</th>\n",
       "      <th>author</th>\n",
       "      <th>publication date</th>\n",
       "      <th>title</th>\n",
       "      <th>publication type</th>\n",
       "      <th>journal</th>\n",
       "    </tr>\n",
       "  </thead>\n",
       "  <tbody>\n",
       "    <tr>\n",
       "      <th>0</th>\n",
       "      <td>M</td>\n",
       "      <td>Architektur</td>\n",
       "      <td>2100.0</td>\n",
       "      <td>NaN</td>\n",
       "      <td>NaN</td>\n",
       "      <td>Avermaete, Tom</td>\n",
       "      <td>Avermaete, Tom</td>\n",
       "      <td>9643.0</td>\n",
       "      <td>Avermaete, Tom</td>\n",
       "      <td>284605.0</td>\n",
       "      <td>Avermaete, Tom</td>\n",
       "      <td>2017</td>\n",
       "      <td>Death of the Author, Center and Meta-Theory: E...</td>\n",
       "      <td>Book Chapter</td>\n",
       "      <td>NaN</td>\n",
       "    </tr>\n",
       "    <tr>\n",
       "      <th>1</th>\n",
       "      <td>M</td>\n",
       "      <td>Architektur</td>\n",
       "      <td>2100.0</td>\n",
       "      <td>NaN</td>\n",
       "      <td>NaN</td>\n",
       "      <td>Avermaete, Tom</td>\n",
       "      <td>Avermaete, Tom</td>\n",
       "      <td>9643.0</td>\n",
       "      <td>Avermaete, Tom</td>\n",
       "      <td>288639.0</td>\n",
       "      <td>Avermaete, Tom</td>\n",
       "      <td>2018</td>\n",
       "      <td>Balcony</td>\n",
       "      <td>Book Chapter</td>\n",
       "      <td>NaN</td>\n",
       "    </tr>\n",
       "    <tr>\n",
       "      <th>2</th>\n",
       "      <td>M</td>\n",
       "      <td>Architektur</td>\n",
       "      <td>2100.0</td>\n",
       "      <td>NaN</td>\n",
       "      <td>NaN</td>\n",
       "      <td>Avermaete, Tom</td>\n",
       "      <td>Avermaete, Tom</td>\n",
       "      <td>9643.0</td>\n",
       "      <td>Avermaete, Tom</td>\n",
       "      <td>284909.0</td>\n",
       "      <td>Avermaete, Tom</td>\n",
       "      <td>2018</td>\n",
       "      <td>The View from the Grid</td>\n",
       "      <td>Book Chapter</td>\n",
       "      <td>NaN</td>\n",
       "    </tr>\n",
       "  </tbody>\n",
       "</table>\n",
       "</div>"
      ],
      "text/plain": [
       "  gender department_name  department_code description webpage            name  \\\n",
       "0      M     Architektur           2100.0         NaN     NaN  Avermaete, Tom   \n",
       "1      M     Architektur           2100.0         NaN     NaN  Avermaete, Tom   \n",
       "2      M     Architektur           2100.0         NaN     NaN  Avermaete, Tom   \n",
       "\n",
       "        Professor  Org. unit code    Organisation        id          author  \\\n",
       "0  Avermaete, Tom          9643.0  Avermaete, Tom  284605.0  Avermaete, Tom   \n",
       "1  Avermaete, Tom          9643.0  Avermaete, Tom  288639.0  Avermaete, Tom   \n",
       "2  Avermaete, Tom          9643.0  Avermaete, Tom  284909.0  Avermaete, Tom   \n",
       "\n",
       "  publication date                                              title  \\\n",
       "0             2017  Death of the Author, Center and Meta-Theory: E...   \n",
       "1             2018                                            Balcony   \n",
       "2             2018                             The View from the Grid   \n",
       "\n",
       "  publication type journal  \n",
       "0     Book Chapter     NaN  \n",
       "1     Book Chapter     NaN  \n",
       "2     Book Chapter     NaN  "
      ]
     },
     "execution_count": 97,
     "metadata": {},
     "output_type": "execute_result"
    }
   ],
   "source": [
    "# finally merging\n",
    "rc_m = ar_p.merge(rc_m,how=\"outer\",left_on=\"name\",right_on=\"author\")\n",
    "rc_m.head(3)"
   ]
  },
  {
   "cell_type": "code",
   "execution_count": 79,
   "metadata": {},
   "outputs": [
    {
     "data": {
      "text/plain": [
       "(527498, 15)"
      ]
     },
     "execution_count": 79,
     "metadata": {},
     "output_type": "execute_result"
    }
   ],
   "source": [
    "rc_m.shape\n",
    "# we gained about 250 researchers from the outer join ... "
   ]
  },
  {
   "cell_type": "markdown",
   "metadata": {},
   "source": [
    "#### 3.3 Selection"
   ]
  },
  {
   "cell_type": "code",
   "execution_count": 176,
   "metadata": {},
   "outputs": [
    {
     "data": {
      "text/plain": [
       "department_name\n",
       "Maschinenbau und Verfahrenstechnik            3985\n",
       "Physik                                        3945\n",
       "Informationstechnologie und Elektrotechnik    3108\n",
       "Chemie und Angewandte Biowissenschaften       2841\n",
       "Umweltsystemwissenschaften                    2783\n",
       "Bau, Umwelt und Geomatik                      2466\n",
       "Gesundheitswissenschaften und Technologie     1951\n",
       "Management, Technologie und Ökonomie          1354\n",
       "Biologie                                      1336\n",
       "Informatik                                    1106\n",
       "Geistes-, Sozial- und Staatswissenschaften    1080\n",
       "Biosysteme                                    1002\n",
       "Mathematik                                     860\n",
       "Erdwissenschaften                              654\n",
       "Materialwissenschaft                           506\n",
       "Architektur                                    348\n",
       "dtype: int64"
      ]
     },
     "execution_count": 176,
     "metadata": {},
     "output_type": "execute_result"
    }
   ],
   "source": [
    "rc_m.groupby(\"department_name\").size().sort_values(ascending=False)"
   ]
  },
  {
   "cell_type": "code",
   "execution_count": 154,
   "metadata": {},
   "outputs": [],
   "source": [
    "titlexdep = pd.DataFrame(rc_m[[\"department_code\",\"title\"]].groupby(\"title\").count())"
   ]
  },
  {
   "cell_type": "code",
   "execution_count": 159,
   "metadata": {},
   "outputs": [],
   "source": [
    "titlexdep= titlexdep.reset_index()"
   ]
  },
  {
   "cell_type": "code",
   "execution_count": 160,
   "metadata": {},
   "outputs": [],
   "source": [
    "titlexdep.columns = [\"title\",\"num_dept\"]"
   ]
  },
  {
   "cell_type": "code",
   "execution_count": 166,
   "metadata": {},
   "outputs": [],
   "source": [
    "temp_df = titlexdep.merge(rc_m,how=\"right\",left_on=\"title\",right_on=\"title\")"
   ]
  },
  {
   "cell_type": "code",
   "execution_count": 174,
   "metadata": {},
   "outputs": [
    {
     "data": {
      "text/html": [
       "<div>\n",
       "<style scoped>\n",
       "    .dataframe tbody tr th:only-of-type {\n",
       "        vertical-align: middle;\n",
       "    }\n",
       "\n",
       "    .dataframe tbody tr th {\n",
       "        vertical-align: top;\n",
       "    }\n",
       "\n",
       "    .dataframe thead th {\n",
       "        text-align: right;\n",
       "    }\n",
       "</style>\n",
       "<table border=\"1\" class=\"dataframe\">\n",
       "  <thead>\n",
       "    <tr style=\"text-align: right;\">\n",
       "      <th></th>\n",
       "      <th>num_dept</th>\n",
       "    </tr>\n",
       "    <tr>\n",
       "      <th>department_name</th>\n",
       "      <th></th>\n",
       "    </tr>\n",
       "  </thead>\n",
       "  <tbody>\n",
       "    <tr>\n",
       "      <th>Physik</th>\n",
       "      <td>2.414907</td>\n",
       "    </tr>\n",
       "    <tr>\n",
       "      <th>Geistes-, Sozial- und Staatswissenschaften</th>\n",
       "      <td>2.015858</td>\n",
       "    </tr>\n",
       "    <tr>\n",
       "      <th>Materialwissenschaft</th>\n",
       "      <td>1.686747</td>\n",
       "    </tr>\n",
       "    <tr>\n",
       "      <th>Erdwissenschaften</th>\n",
       "      <td>1.588509</td>\n",
       "    </tr>\n",
       "    <tr>\n",
       "      <th>Maschinenbau und Verfahrenstechnik</th>\n",
       "      <td>1.492692</td>\n",
       "    </tr>\n",
       "    <tr>\n",
       "      <th>Umweltsystemwissenschaften</th>\n",
       "      <td>1.410591</td>\n",
       "    </tr>\n",
       "    <tr>\n",
       "      <th>Biosysteme</th>\n",
       "      <td>1.383065</td>\n",
       "    </tr>\n",
       "    <tr>\n",
       "      <th>Mathematik</th>\n",
       "      <td>1.328588</td>\n",
       "    </tr>\n",
       "    <tr>\n",
       "      <th>Gesundheitswissenschaften und Technologie</th>\n",
       "      <td>1.317994</td>\n",
       "    </tr>\n",
       "    <tr>\n",
       "      <th>Bau, Umwelt und Geomatik</th>\n",
       "      <td>1.316714</td>\n",
       "    </tr>\n",
       "    <tr>\n",
       "      <th>Management, Technologie und Ökonomie</th>\n",
       "      <td>1.312779</td>\n",
       "    </tr>\n",
       "    <tr>\n",
       "      <th>Biologie</th>\n",
       "      <td>1.260968</td>\n",
       "    </tr>\n",
       "    <tr>\n",
       "      <th>Informatik</th>\n",
       "      <td>1.144169</td>\n",
       "    </tr>\n",
       "    <tr>\n",
       "      <th>Architektur</th>\n",
       "      <td>1.142415</td>\n",
       "    </tr>\n",
       "    <tr>\n",
       "      <th>Informationstechnologie und Elektrotechnik</th>\n",
       "      <td>1.105943</td>\n",
       "    </tr>\n",
       "    <tr>\n",
       "      <th>Chemie und Angewandte Biowissenschaften</th>\n",
       "      <td>1.089685</td>\n",
       "    </tr>\n",
       "  </tbody>\n",
       "</table>\n",
       "</div>"
      ],
      "text/plain": [
       "                                            num_dept\n",
       "department_name                                     \n",
       "Physik                                      2.414907\n",
       "Geistes-, Sozial- und Staatswissenschaften  2.015858\n",
       "Materialwissenschaft                        1.686747\n",
       "Erdwissenschaften                           1.588509\n",
       "Maschinenbau und Verfahrenstechnik          1.492692\n",
       "Umweltsystemwissenschaften                  1.410591\n",
       "Biosysteme                                  1.383065\n",
       "Mathematik                                  1.328588\n",
       "Gesundheitswissenschaften und Technologie   1.317994\n",
       "Bau, Umwelt und Geomatik                    1.316714\n",
       "Management, Technologie und Ökonomie        1.312779\n",
       "Biologie                                    1.260968\n",
       "Informatik                                  1.144169\n",
       "Architektur                                 1.142415\n",
       "Informationstechnologie und Elektrotechnik  1.105943\n",
       "Chemie und Angewandte Biowissenschaften     1.089685"
      ]
     },
     "execution_count": 174,
     "metadata": {},
     "output_type": "execute_result"
    }
   ],
   "source": [
    "temp_df[[\"department_name\",\"num_dept\"]].groupby(\"department_name\").mean().sort_values(by=\"num_dept\",ascending=False)"
   ]
  },
  {
   "cell_type": "code",
   "execution_count": 165,
   "metadata": {},
   "outputs": [
    {
     "data": {
      "text/plain": [
       "gender              498173\n",
       "department_name     498173\n",
       "department_code     498173\n",
       "description         516561\n",
       "webpage             514630\n",
       "name                498173\n",
       "Professor           479872\n",
       "Org. unit code      479872\n",
       "Organisation        479872\n",
       "id                     360\n",
       "author                 368\n",
       "publication date      1593\n",
       "title                  360\n",
       "publication type       360\n",
       "journal              83200\n",
       "is_professor             0\n",
       "dtype: int64"
      ]
     },
     "execution_count": 165,
     "metadata": {},
     "output_type": "execute_result"
    }
   ],
   "source": [
    "rc_m.isnull().sum(axis=0)"
   ]
  },
  {
   "cell_type": "markdown",
   "metadata": {},
   "source": [
    "#### 3.4 Final processing "
   ]
  },
  {
   "cell_type": "code",
   "execution_count": 98,
   "metadata": {
    "scrolled": false
   },
   "outputs": [
    {
     "data": {
      "text/html": [
       "<div>\n",
       "<style scoped>\n",
       "    .dataframe tbody tr th:only-of-type {\n",
       "        vertical-align: middle;\n",
       "    }\n",
       "\n",
       "    .dataframe tbody tr th {\n",
       "        vertical-align: top;\n",
       "    }\n",
       "\n",
       "    .dataframe thead th {\n",
       "        text-align: right;\n",
       "    }\n",
       "</style>\n",
       "<table border=\"1\" class=\"dataframe\">\n",
       "  <thead>\n",
       "    <tr style=\"text-align: right;\">\n",
       "      <th></th>\n",
       "      <th>gender</th>\n",
       "      <th>department_name</th>\n",
       "      <th>department_code</th>\n",
       "      <th>description</th>\n",
       "      <th>webpage</th>\n",
       "      <th>name</th>\n",
       "      <th>Professor</th>\n",
       "      <th>Org. unit code</th>\n",
       "      <th>Organisation</th>\n",
       "      <th>id</th>\n",
       "      <th>author</th>\n",
       "      <th>publication date</th>\n",
       "      <th>title</th>\n",
       "      <th>publication type</th>\n",
       "      <th>journal</th>\n",
       "      <th>is_professor</th>\n",
       "    </tr>\n",
       "  </thead>\n",
       "  <tbody>\n",
       "    <tr>\n",
       "      <th>0</th>\n",
       "      <td>M</td>\n",
       "      <td>Architektur</td>\n",
       "      <td>2100.0</td>\n",
       "      <td>NaN</td>\n",
       "      <td>NaN</td>\n",
       "      <td>Avermaete, Tom</td>\n",
       "      <td>Avermaete, Tom</td>\n",
       "      <td>9643.0</td>\n",
       "      <td>Avermaete, Tom</td>\n",
       "      <td>284605.0</td>\n",
       "      <td>Avermaete, Tom</td>\n",
       "      <td>2017</td>\n",
       "      <td>Death of the Author, Center and Meta-Theory: E...</td>\n",
       "      <td>Book Chapter</td>\n",
       "      <td>NaN</td>\n",
       "      <td>True</td>\n",
       "    </tr>\n",
       "    <tr>\n",
       "      <th>1</th>\n",
       "      <td>M</td>\n",
       "      <td>Architektur</td>\n",
       "      <td>2100.0</td>\n",
       "      <td>NaN</td>\n",
       "      <td>NaN</td>\n",
       "      <td>Avermaete, Tom</td>\n",
       "      <td>Avermaete, Tom</td>\n",
       "      <td>9643.0</td>\n",
       "      <td>Avermaete, Tom</td>\n",
       "      <td>288639.0</td>\n",
       "      <td>Avermaete, Tom</td>\n",
       "      <td>2018</td>\n",
       "      <td>Balcony</td>\n",
       "      <td>Book Chapter</td>\n",
       "      <td>NaN</td>\n",
       "      <td>True</td>\n",
       "    </tr>\n",
       "    <tr>\n",
       "      <th>2</th>\n",
       "      <td>M</td>\n",
       "      <td>Architektur</td>\n",
       "      <td>2100.0</td>\n",
       "      <td>NaN</td>\n",
       "      <td>NaN</td>\n",
       "      <td>Avermaete, Tom</td>\n",
       "      <td>Avermaete, Tom</td>\n",
       "      <td>9643.0</td>\n",
       "      <td>Avermaete, Tom</td>\n",
       "      <td>284909.0</td>\n",
       "      <td>Avermaete, Tom</td>\n",
       "      <td>2018</td>\n",
       "      <td>The View from the Grid</td>\n",
       "      <td>Book Chapter</td>\n",
       "      <td>NaN</td>\n",
       "      <td>True</td>\n",
       "    </tr>\n",
       "  </tbody>\n",
       "</table>\n",
       "</div>"
      ],
      "text/plain": [
       "  gender department_name  department_code description webpage            name  \\\n",
       "0      M     Architektur           2100.0         NaN     NaN  Avermaete, Tom   \n",
       "1      M     Architektur           2100.0         NaN     NaN  Avermaete, Tom   \n",
       "2      M     Architektur           2100.0         NaN     NaN  Avermaete, Tom   \n",
       "\n",
       "        Professor  Org. unit code    Organisation        id          author  \\\n",
       "0  Avermaete, Tom          9643.0  Avermaete, Tom  284605.0  Avermaete, Tom   \n",
       "1  Avermaete, Tom          9643.0  Avermaete, Tom  288639.0  Avermaete, Tom   \n",
       "2  Avermaete, Tom          9643.0  Avermaete, Tom  284909.0  Avermaete, Tom   \n",
       "\n",
       "  publication date                                              title  \\\n",
       "0             2017  Death of the Author, Center and Meta-Theory: E...   \n",
       "1             2018                                            Balcony   \n",
       "2             2018                             The View from the Grid   \n",
       "\n",
       "  publication type journal  is_professor  \n",
       "0     Book Chapter     NaN          True  \n",
       "1     Book Chapter     NaN          True  \n",
       "2     Book Chapter     NaN          True  "
      ]
     },
     "execution_count": 98,
     "metadata": {},
     "output_type": "execute_result"
    }
   ],
   "source": [
    "# creating boolean column to signal if the author is a professor \n",
    "rc_m[\"is_professor\"] = rc_m[\"author\"]==rc_m[\"Professor\"]\n",
    "rc_m.head(3)"
   ]
  },
  {
   "cell_type": "code",
   "execution_count": null,
   "metadata": {},
   "outputs": [],
   "source": [
    "# drop the excessive columns"
   ]
  },
  {
   "cell_type": "code",
   "execution_count": 43,
   "metadata": {
    "scrolled": false
   },
   "outputs": [
    {
     "data": {
      "text/html": [
       "<div>\n",
       "<style scoped>\n",
       "    .dataframe tbody tr th:only-of-type {\n",
       "        vertical-align: middle;\n",
       "    }\n",
       "\n",
       "    .dataframe tbody tr th {\n",
       "        vertical-align: top;\n",
       "    }\n",
       "\n",
       "    .dataframe thead th {\n",
       "        text-align: right;\n",
       "    }\n",
       "</style>\n",
       "<table border=\"1\" class=\"dataframe\">\n",
       "  <thead>\n",
       "    <tr style=\"text-align: right;\">\n",
       "      <th></th>\n",
       "      <th>organisation_code</th>\n",
       "      <th>organisation_name</th>\n",
       "      <th>publication_id</th>\n",
       "      <th>person_name</th>\n",
       "      <th>publication_date</th>\n",
       "      <th>publication_title</th>\n",
       "      <th>publication_type</th>\n",
       "      <th>publication_journal</th>\n",
       "      <th>person_is_professor</th>\n",
       "    </tr>\n",
       "  </thead>\n",
       "  <tbody>\n",
       "    <tr>\n",
       "      <th>0</th>\n",
       "      <td>2627.0</td>\n",
       "      <td>Institute of Energy Technology (former)</td>\n",
       "      <td>253873.0</td>\n",
       "      <td>Abhari, Reza S.</td>\n",
       "      <td>2008</td>\n",
       "      <td>The Dynamics of the Vorticity Field in a Low S...</td>\n",
       "      <td>Other Conference Item</td>\n",
       "      <td>NaN</td>\n",
       "      <td>True</td>\n",
       "    </tr>\n",
       "    <tr>\n",
       "      <th>1</th>\n",
       "      <td>2627.0</td>\n",
       "      <td>Institute of Energy Technology (former)</td>\n",
       "      <td>13706.0</td>\n",
       "      <td>Abhari, Reza S.</td>\n",
       "      <td>2008</td>\n",
       "      <td>Aerothermal Performance of Streamwise and Comp...</td>\n",
       "      <td>Conference Paper</td>\n",
       "      <td>NaN</td>\n",
       "      <td>True</td>\n",
       "    </tr>\n",
       "    <tr>\n",
       "      <th>2</th>\n",
       "      <td>2627.0</td>\n",
       "      <td>Institute of Energy Technology (former)</td>\n",
       "      <td>16637.0</td>\n",
       "      <td>Abhari, Reza S.</td>\n",
       "      <td>2008</td>\n",
       "      <td>Unsteady CFD Investigation on Inlet Distortion...</td>\n",
       "      <td>Conference Paper</td>\n",
       "      <td>Proceedings of the ASME Turbo Expo</td>\n",
       "      <td>True</td>\n",
       "    </tr>\n",
       "  </tbody>\n",
       "</table>\n",
       "</div>"
      ],
      "text/plain": [
       "   organisation_code                        organisation_name  publication_id  \\\n",
       "0             2627.0  Institute of Energy Technology (former)        253873.0   \n",
       "1             2627.0  Institute of Energy Technology (former)         13706.0   \n",
       "2             2627.0  Institute of Energy Technology (former)         16637.0   \n",
       "\n",
       "       person_name publication_date  \\\n",
       "0  Abhari, Reza S.             2008   \n",
       "1  Abhari, Reza S.             2008   \n",
       "2  Abhari, Reza S.             2008   \n",
       "\n",
       "                                   publication_title       publication_type  \\\n",
       "0  The Dynamics of the Vorticity Field in a Low S...  Other Conference Item   \n",
       "1  Aerothermal Performance of Streamwise and Comp...       Conference Paper   \n",
       "2  Unsteady CFD Investigation on Inlet Distortion...       Conference Paper   \n",
       "\n",
       "                  publication_journal  person_is_professor  \n",
       "0                                 NaN                 True  \n",
       "1                                 NaN                 True  \n",
       "2  Proceedings of the ASME Turbo Expo                 True  "
      ]
     },
     "execution_count": 43,
     "metadata": {},
     "output_type": "execute_result"
    }
   ],
   "source": [
    "rc_m.columns = [\"organisation_code\",\"organisation_name\",\"publication_id\",\n",
    "                \"person_name\",\"publication_date\",\"publication_title\",\"publication_type\",\n",
    "                \"publication_journal\", \"person_is_professor\"]\n",
    "rc_m.head(3)"
   ]
  },
  {
   "cell_type": "code",
   "execution_count": null,
   "metadata": {},
   "outputs": [],
   "source": []
  },
  {
   "cell_type": "markdown",
   "metadata": {},
   "source": [
    "#### Wierd missing values"
   ]
  },
  {
   "cell_type": "code",
   "execution_count": 44,
   "metadata": {},
   "outputs": [
    {
     "data": {
      "text/plain": [
       "126"
      ]
     },
     "execution_count": 44,
     "metadata": {},
     "output_type": "execute_result"
    }
   ],
   "source": [
    "# TODO : look into the null names \n",
    "# - where does this come from? \n",
    "sum(rc_m[\"person_name\"].isnull())\n",
    "# My suspicion is that 118/126 missing authors correspond to \n",
    "# 'organisation' rows that survived the outer join (meaning that \n",
    "# those are organisations which are not linked to any publication), \n",
    "# while we actually have only 8 missing authors "
   ]
  },
  {
   "cell_type": "code",
   "execution_count": 45,
   "metadata": {},
   "outputs": [],
   "source": [
    "# This mistery is solved: 118 entries have null publication values \n",
    "# because of the outer join -> it's entries about organisations which do \n",
    "# not have any publications associated! \n",
    "\n",
    "# sum(rc_m[\"publication_type\"].isnull())\n",
    "# sum(rc_m[\"publication_id\"].isnull()) \n",
    "# sum(rc_m[\"publication_title\"].isnull())"
   ]
  },
  {
   "cell_type": "code",
   "execution_count": 46,
   "metadata": {},
   "outputs": [
    {
     "data": {
      "text/plain": [
       "1351"
      ]
     },
     "execution_count": 46,
     "metadata": {},
     "output_type": "execute_result"
    }
   ],
   "source": [
    "# this is the most plausible- but still we should check the information\n",
    "# was missing in the original file as well\n",
    "sum(rc_m[\"publication_date\"].isnull())"
   ]
  },
  {
   "cell_type": "markdown",
   "metadata": {},
   "source": [
    "## Import/export :):"
   ]
  },
  {
   "cell_type": "code",
   "execution_count": 47,
   "metadata": {},
   "outputs": [],
   "source": [
    "rc_m.to_csv(\"metadata_final.csv\", index=False)\n",
    "rc_m.to_json(\"metadata_final.json\", orient = \"records\")"
   ]
  },
  {
   "cell_type": "markdown",
   "metadata": {},
   "source": [
    "### Neo4j import details\n",
    "\n",
    "The following nodes will be created: \n",
    "- **person** [name, professor]\n",
    "- **publication** [id, title, date, type, journal]\n",
    "- **organisation** [name, code]\n",
    "\n",
    "\n",
    "--- \n",
    "\n",
    "\n",
    "**The commands**\n",
    "\n",
    "    \n",
    "To load the csv you first have to <u>copy it into your Neo4j base directory</u>. More info [here](https://neo4j.com/docs/cypher-manual/current/clauses/load-csv/#load-csv-import-data-from-a-csv-file). I did the following: \n",
    "\n",
    "```cp .\\metadata_final.csv C:/Users/Giulia/.Neo4jDesktop/neo4jDatabases/database-befe90d3-7991-457e-9671-62c55c830654/installation-3.5.12/import```\n",
    "\n",
    "<u>Constraints first</u>\n",
    "\n",
    "The constraints are here to make sure we don't create duplicate nodes.\n",
    "\n",
    "    CREATE CONSTRAINT ON (c:Person) ASSERT c.name IS UNIQUE;\n",
    "    CREATE CONSTRAINT ON (c:Organisation) ASSERT c.name IS UNIQUE;\n",
    "    CREATE CONSTRAINT ON (c:Publication) ASSERT c.title IS UNIQUE;\n",
    "\n",
    " \n",
    "Now we'll <u>load the data</u> in a very lightweight manner: \n",
    "\n",
    "1) person nodes <br>\n",
    "```\n",
    "    LOAD CSV WITH HEADERS FROM \"file:///metadata_final.csv\" AS line\n",
    "    WITH line WHERE line.person_name IS NOT NULL\n",
    "    MERGE (person:Person {name:line.person_name, is_professor:line.person_is_professor});\n",
    "```\n",
    "        > Added 176604 labels, created 176604 nodes, set 353208 properties, completed after 8880 ms.\n",
    "\n",
    "2) publication nodes (this might take a while) <br>\n",
    "       \n",
    "        LOAD CSV WITH HEADERS FROM \"file:///metadata_final.csv\" AS line\n",
    "        WITH line where line.publication_id IS NOT NULL\n",
    "        MERGE (publication: Publication {title: line.publication_title})\n",
    "        SET publication.id= line.publication_id,            \n",
    "            publication.journal=line.publication_journal, \n",
    "            publication.type=line.publication_type, \n",
    "            publication.date=date(line.publication_date);\n",
    "\n",
    "        > Added 96014 labels, created 96014 nodes, set 2121683 properties, completed after 9349 ms.\n",
    "        \n",
    "3) organisation nodes <br> \n",
    "    \n",
    "        LOAD CSV WITH HEADERS FROM \"file:///metadata_final.csv\" AS line\n",
    "        WITH line where line.organisation_code IS NOT NULL\n",
    "        MERGE (organisation:Organisation {name:line.organisation_name, \n",
    "                                          code:line.organisation_code});\n",
    "                                          \n",
    "        > Added 383 labels, created 383 nodes, set 766 properties, completed after 1822 ms.                          \n",
    "            \n",
    "        \n",
    "4) finally all the edges <br> \n",
    "        \n",
    "        LOAD CSV WITH HEADERS FROM \"file:///metadata_final.csv\" AS line\n",
    "        MATCH (person:Person {name:line.person_name}), \n",
    "               (publication:Publication {id:line.publication_id})\n",
    "        MERGE (person)-[:PUBLISHED]->(publication)\n",
    "        MERGE (publication)-[:AUTHOR]->(person);\n",
    "        \n",
    "        LOAD CSV WITH HEADERS FROM \"file:///metadata_final.csv\" AS line\n",
    "        MATCH (person:Person {name:line.person_name}),\n",
    "               (organisation:Organisation {code:line.organisation_code})\n",
    "        MERGE (person)-[:BELONGS_TO]->(organisation)\n",
    "        MERGE (organisation)-[:CONTAINS]->(person);\n",
    "        \n",
    "Note: in case you did something wrong and you want to erase the network here's the query: \n",
    "\n",
    "        MATCH (n)\n",
    "        DETACH DELETE n;\n",
    "\n",
    "    \n"
   ]
  },
  {
   "cell_type": "code",
   "execution_count": 48,
   "metadata": {},
   "outputs": [],
   "source": [
    "# question: is it correct to say that the title is a unique identifier of the paper? \n",
    "# same goes for organisation/author names"
   ]
  },
  {
   "cell_type": "code",
   "execution_count": null,
   "metadata": {},
   "outputs": [],
   "source": []
  }
 ],
 "metadata": {
  "kernelspec": {
   "display_name": "Python 3",
   "language": "python",
   "name": "python3"
  },
  "language_info": {
   "codemirror_mode": {
    "name": "ipython",
    "version": 3
   },
   "file_extension": ".py",
   "mimetype": "text/x-python",
   "name": "python",
   "nbconvert_exporter": "python",
   "pygments_lexer": "ipython3",
   "version": "3.7.5"
  }
 },
 "nbformat": 4,
 "nbformat_minor": 2
}
