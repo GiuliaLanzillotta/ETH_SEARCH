{
 "cells": [
  {
   "cell_type": "code",
   "execution_count": 1,
   "metadata": {},
   "outputs": [],
   "source": [
    "import os \n",
    "import csv\n",
    "import pandas as pd\n",
    "import numpy as np"
   ]
  },
  {
   "cell_type": "markdown",
   "metadata": {},
   "source": [
    "The goal of this notebook is to explore the content of the listed below files, **identifying in which input fields the useful information lies, pinpointing the connections btw the files, and to merge all the data into a structure** which is ready to be fed into the graph."
   ]
  },
  {
   "cell_type": "code",
   "execution_count": 2,
   "metadata": {
    "scrolled": true
   },
   "outputs": [
    {
     "name": "stdout",
     "output_type": "stream",
     "text": [
      ".gitignore\n",
      "D-ARCH.xlsx\n",
      "Data exploration.ipynb\n",
      "Data import.ipynb\n",
      "Data Overview.docx\n",
      "ETH Professor list.xlsx\n",
      "Maurer_Hansruedi_2020-10-08_16_28_49.doc\n",
      "README.md\n",
      "ResearchCollection.xlsx\n",
      "ResearchCollectionPublications2008_2018.tsv\n"
     ]
    }
   ],
   "source": [
    "#Available data - files\n",
    "files = [f for f in os.listdir('.') if os.path.isfile(f)]\n",
    "for f in files: print(f)"
   ]
  },
  {
   "cell_type": "markdown",
   "metadata": {},
   "source": [
    "# ResearchCollectionPublications2008_2018.tsv"
   ]
  },
  {
   "cell_type": "code",
   "execution_count": 3,
   "metadata": {
    "scrolled": true
   },
   "outputs": [
    {
     "name": "stderr",
     "output_type": "stream",
     "text": [
      "C:\\Users\\danie\\Anaconda3\\lib\\site-packages\\IPython\\core\\interactiveshell.py:3058: DtypeWarning: Columns (20,37,40,41) have mixed types. Specify dtype option on import or set low_memory=False.\n",
      "  interactivity=interactivity, compiler=compiler, result=result)\n"
     ]
    }
   ],
   "source": [
    "rcp = pd.read_csv(\"ResearchCollectionPublications2008_2018.tsv\", sep=\"\\t\", header=0, encoding=\"latin-1\") #utf8 not working..."
   ]
  },
  {
   "cell_type": "code",
   "execution_count": 4,
   "metadata": {},
   "outputs": [
    {
     "data": {
      "text/html": [
       "<div>\n",
       "<style scoped>\n",
       "    .dataframe tbody tr th:only-of-type {\n",
       "        vertical-align: middle;\n",
       "    }\n",
       "\n",
       "    .dataframe tbody tr th {\n",
       "        vertical-align: top;\n",
       "    }\n",
       "\n",
       "    .dataframe thead th {\n",
       "        text-align: right;\n",
       "    }\n",
       "</style>\n",
       "<table border=\"1\" class=\"dataframe\">\n",
       "  <thead>\n",
       "    <tr style=\"text-align: right;\">\n",
       "      <th></th>\n",
       "      <th>RC_ID</th>\n",
       "      <th>COLLECTION</th>\n",
       "      <th>DC_CONTRIBUTOR_AUTHOR</th>\n",
       "      <th>DC_CONTRIBUTOR_EDITOR</th>\n",
       "      <th>DC_DATE_ISSUED</th>\n",
       "      <th>DC_DATE_PUBLISHED</th>\n",
       "      <th>DC_IDENTIFIER_DOI</th>\n",
       "      <th>DC_IDENTIFIER_ISBN</th>\n",
       "      <th>DC_IDENTIFIER_ISSN</th>\n",
       "      <th>DC_IDENTIFIER_OTHER</th>\n",
       "      <th>...</th>\n",
       "      <th>ETHZ_GRANT</th>\n",
       "      <th>ETHZ_GRANT_FUNDERDOI</th>\n",
       "      <th>ETHZ_GRANT_FUNDERNAME</th>\n",
       "      <th>ETHZ_GRANT_PROGRAM</th>\n",
       "      <th>ETHZ_IDENTIFIER_DISS</th>\n",
       "      <th>ETHZ_IDENTIFIER_PUBMED</th>\n",
       "      <th>DC_IDENTIFIER_WOS</th>\n",
       "      <th>ETHZ_IDENTIFIER_ORCIDWORKCODE</th>\n",
       "      <th>DC_CONTRIBUTOR_OTHER</th>\n",
       "      <th>ETHZ_IDENTIFIER_ARXIV</th>\n",
       "    </tr>\n",
       "  </thead>\n",
       "  <tbody>\n",
       "    <tr>\n",
       "      <td>0</td>\n",
       "      <td>241217</td>\n",
       "      <td>NaN</td>\n",
       "      <td>Renner, Renato</td>\n",
       "      <td>Kao, Ming-Yang</td>\n",
       "      <td>2008</td>\n",
       "      <td>NaN</td>\n",
       "      <td>NaN</td>\n",
       "      <td>978-0-387-30770-1</td>\n",
       "      <td>NaN</td>\n",
       "      <td>NaN</td>\n",
       "      <td>...</td>\n",
       "      <td>NaN</td>\n",
       "      <td>NaN</td>\n",
       "      <td>NaN</td>\n",
       "      <td>NaN</td>\n",
       "      <td>NaN</td>\n",
       "      <td>NaN</td>\n",
       "      <td>NaN</td>\n",
       "      <td>NaN</td>\n",
       "      <td>NaN</td>\n",
       "      <td>NaN</td>\n",
       "    </tr>\n",
       "    <tr>\n",
       "      <td>1</td>\n",
       "      <td>11574</td>\n",
       "      <td>NaN</td>\n",
       "      <td>Diekmann, Andreas||Jann, Ben</td>\n",
       "      <td>Farzin, Sina||Jordan, Stefan</td>\n",
       "      <td>2008</td>\n",
       "      <td>NaN</td>\n",
       "      <td>NaN</td>\n",
       "      <td>978-3-15-010661-7</td>\n",
       "      <td>NaN</td>\n",
       "      <td>NaN</td>\n",
       "      <td>...</td>\n",
       "      <td>NaN</td>\n",
       "      <td>NaN</td>\n",
       "      <td>NaN</td>\n",
       "      <td>NaN</td>\n",
       "      <td>NaN</td>\n",
       "      <td>NaN</td>\n",
       "      <td>NaN</td>\n",
       "      <td>NaN</td>\n",
       "      <td>NaN</td>\n",
       "      <td>NaN</td>\n",
       "    </tr>\n",
       "    <tr>\n",
       "      <td>2</td>\n",
       "      <td>202843</td>\n",
       "      <td>20.500.11850/13</td>\n",
       "      <td>NaN</td>\n",
       "      <td>Glaser, Marie A.</td>\n",
       "      <td>2008</td>\n",
       "      <td>NaN</td>\n",
       "      <td>NaN</td>\n",
       "      <td>978-3-0377-8111-1</td>\n",
       "      <td>NaN</td>\n",
       "      <td>NaN</td>\n",
       "      <td>...</td>\n",
       "      <td>NaN</td>\n",
       "      <td>NaN</td>\n",
       "      <td>NaN</td>\n",
       "      <td>NaN</td>\n",
       "      <td>NaN</td>\n",
       "      <td>NaN</td>\n",
       "      <td>NaN</td>\n",
       "      <td>NaN</td>\n",
       "      <td>NaN</td>\n",
       "      <td>NaN</td>\n",
       "    </tr>\n",
       "    <tr>\n",
       "      <td>3</td>\n",
       "      <td>4209</td>\n",
       "      <td>NaN</td>\n",
       "      <td>Becchi, Antonio||Ducic, Sandra||Oechslin, Wern...</td>\n",
       "      <td>Stiftung Bibliothek Werner Oechslin</td>\n",
       "      <td>2008</td>\n",
       "      <td>NaN</td>\n",
       "      <td>NaN</td>\n",
       "      <td>3-85676-231-0||978-3-85676-231-5</td>\n",
       "      <td>NaN</td>\n",
       "      <td>NaN</td>\n",
       "      <td>...</td>\n",
       "      <td>NaN</td>\n",
       "      <td>NaN</td>\n",
       "      <td>NaN</td>\n",
       "      <td>NaN</td>\n",
       "      <td>NaN</td>\n",
       "      <td>NaN</td>\n",
       "      <td>NaN</td>\n",
       "      <td>NaN</td>\n",
       "      <td>NaN</td>\n",
       "      <td>NaN</td>\n",
       "    </tr>\n",
       "    <tr>\n",
       "      <td>4</td>\n",
       "      <td>203598</td>\n",
       "      <td>20.500.11850/13</td>\n",
       "      <td>NaN</td>\n",
       "      <td>Cramm, Wolf-Jürgen||Keil, Geert</td>\n",
       "      <td>2008</td>\n",
       "      <td>NaN</td>\n",
       "      <td>NaN</td>\n",
       "      <td>978-3-9388-0845-0</td>\n",
       "      <td>NaN</td>\n",
       "      <td>NaN</td>\n",
       "      <td>...</td>\n",
       "      <td>NaN</td>\n",
       "      <td>NaN</td>\n",
       "      <td>NaN</td>\n",
       "      <td>NaN</td>\n",
       "      <td>NaN</td>\n",
       "      <td>NaN</td>\n",
       "      <td>NaN</td>\n",
       "      <td>NaN</td>\n",
       "      <td>NaN</td>\n",
       "      <td>NaN</td>\n",
       "    </tr>\n",
       "    <tr>\n",
       "      <td>5</td>\n",
       "      <td>11776</td>\n",
       "      <td>NaN</td>\n",
       "      <td>Mateo, Josep L.</td>\n",
       "      <td>Wenona, Cao</td>\n",
       "      <td>2008</td>\n",
       "      <td>NaN</td>\n",
       "      <td>NaN</td>\n",
       "      <td>978-7-5083-5690-7||7-50835-690-X</td>\n",
       "      <td>NaN</td>\n",
       "      <td>NaN</td>\n",
       "      <td>...</td>\n",
       "      <td>NaN</td>\n",
       "      <td>NaN</td>\n",
       "      <td>NaN</td>\n",
       "      <td>NaN</td>\n",
       "      <td>NaN</td>\n",
       "      <td>NaN</td>\n",
       "      <td>NaN</td>\n",
       "      <td>NaN</td>\n",
       "      <td>NaN</td>\n",
       "      <td>NaN</td>\n",
       "    </tr>\n",
       "    <tr>\n",
       "      <td>6</td>\n",
       "      <td>176670</td>\n",
       "      <td>20.500.11850/13</td>\n",
       "      <td>NaN</td>\n",
       "      <td>Fischer-Tiné, Harald||Gehrmann, Susanne</td>\n",
       "      <td>2008</td>\n",
       "      <td>NaN</td>\n",
       "      <td>NaN</td>\n",
       "      <td>978-0-415-96239-1</td>\n",
       "      <td>NaN</td>\n",
       "      <td>NaN</td>\n",
       "      <td>...</td>\n",
       "      <td>NaN</td>\n",
       "      <td>NaN</td>\n",
       "      <td>NaN</td>\n",
       "      <td>NaN</td>\n",
       "      <td>NaN</td>\n",
       "      <td>NaN</td>\n",
       "      <td>NaN</td>\n",
       "      <td>NaN</td>\n",
       "      <td>NaN</td>\n",
       "      <td>NaN</td>\n",
       "    </tr>\n",
       "    <tr>\n",
       "      <td>7</td>\n",
       "      <td>247615</td>\n",
       "      <td>NaN</td>\n",
       "      <td>Wenger, Andreas||Mauer, Victor||Trachsler, Dan...</td>\n",
       "      <td>Wenger, Andreas||Mauer, Victor||Trachsler, Daniel</td>\n",
       "      <td>2008</td>\n",
       "      <td>NaN</td>\n",
       "      <td>10.3929/ethz-b-000015099</td>\n",
       "      <td>NaN</td>\n",
       "      <td>1024-0608</td>\n",
       "      <td>NaN</td>\n",
       "      <td>...</td>\n",
       "      <td>NaN</td>\n",
       "      <td>NaN</td>\n",
       "      <td>NaN</td>\n",
       "      <td>NaN</td>\n",
       "      <td>NaN</td>\n",
       "      <td>NaN</td>\n",
       "      <td>NaN</td>\n",
       "      <td>NaN</td>\n",
       "      <td>NaN</td>\n",
       "      <td>NaN</td>\n",
       "    </tr>\n",
       "    <tr>\n",
       "      <td>8</td>\n",
       "      <td>248649</td>\n",
       "      <td>NaN</td>\n",
       "      <td>Frisch, Max</td>\n",
       "      <td>de Vin, Daniel||Obschlager, Walter</td>\n",
       "      <td>2008</td>\n",
       "      <td>NaN</td>\n",
       "      <td>NaN</td>\n",
       "      <td>978-3-518-41999-1</td>\n",
       "      <td>NaN</td>\n",
       "      <td>NaN</td>\n",
       "      <td>...</td>\n",
       "      <td>NaN</td>\n",
       "      <td>NaN</td>\n",
       "      <td>NaN</td>\n",
       "      <td>NaN</td>\n",
       "      <td>NaN</td>\n",
       "      <td>NaN</td>\n",
       "      <td>NaN</td>\n",
       "      <td>NaN</td>\n",
       "      <td>NaN</td>\n",
       "      <td>NaN</td>\n",
       "    </tr>\n",
       "    <tr>\n",
       "      <td>9</td>\n",
       "      <td>197388</td>\n",
       "      <td>NaN</td>\n",
       "      <td>NaN</td>\n",
       "      <td>Selin, Helaine</td>\n",
       "      <td>2008</td>\n",
       "      <td>NaN</td>\n",
       "      <td>NaN</td>\n",
       "      <td>1-4020-4559-X||978-1-4020-4559-2</td>\n",
       "      <td>NaN</td>\n",
       "      <td>NaN</td>\n",
       "      <td>...</td>\n",
       "      <td>NaN</td>\n",
       "      <td>NaN</td>\n",
       "      <td>NaN</td>\n",
       "      <td>NaN</td>\n",
       "      <td>NaN</td>\n",
       "      <td>NaN</td>\n",
       "      <td>NaN</td>\n",
       "      <td>NaN</td>\n",
       "      <td>NaN</td>\n",
       "      <td>NaN</td>\n",
       "    </tr>\n",
       "  </tbody>\n",
       "</table>\n",
       "<p>10 rows × 42 columns</p>\n",
       "</div>"
      ],
      "text/plain": [
       "    RC_ID       COLLECTION                              DC_CONTRIBUTOR_AUTHOR  \\\n",
       "0  241217              NaN                                     Renner, Renato   \n",
       "1   11574              NaN                       Diekmann, Andreas||Jann, Ben   \n",
       "2  202843  20.500.11850/13                                                NaN   \n",
       "3    4209              NaN  Becchi, Antonio||Ducic, Sandra||Oechslin, Wern...   \n",
       "4  203598  20.500.11850/13                                                NaN   \n",
       "5   11776              NaN                                    Mateo, Josep L.   \n",
       "6  176670  20.500.11850/13                                                NaN   \n",
       "7  247615              NaN  Wenger, Andreas||Mauer, Victor||Trachsler, Dan...   \n",
       "8  248649              NaN                                        Frisch, Max   \n",
       "9  197388              NaN                                                NaN   \n",
       "\n",
       "                               DC_CONTRIBUTOR_EDITOR DC_DATE_ISSUED  \\\n",
       "0                                     Kao, Ming-Yang           2008   \n",
       "1                       Farzin, Sina||Jordan, Stefan           2008   \n",
       "2                                   Glaser, Marie A.           2008   \n",
       "3                Stiftung Bibliothek Werner Oechslin           2008   \n",
       "4                    Cramm, Wolf-Jürgen||Keil, Geert           2008   \n",
       "5                                        Wenona, Cao           2008   \n",
       "6            Fischer-Tiné, Harald||Gehrmann, Susanne           2008   \n",
       "7  Wenger, Andreas||Mauer, Victor||Trachsler, Daniel           2008   \n",
       "8                 de Vin, Daniel||Obschlager, Walter           2008   \n",
       "9                                     Selin, Helaine           2008   \n",
       "\n",
       "  DC_DATE_PUBLISHED         DC_IDENTIFIER_DOI  \\\n",
       "0               NaN                       NaN   \n",
       "1               NaN                       NaN   \n",
       "2               NaN                       NaN   \n",
       "3               NaN                       NaN   \n",
       "4               NaN                       NaN   \n",
       "5               NaN                       NaN   \n",
       "6               NaN                       NaN   \n",
       "7               NaN  10.3929/ethz-b-000015099   \n",
       "8               NaN                       NaN   \n",
       "9               NaN                       NaN   \n",
       "\n",
       "                 DC_IDENTIFIER_ISBN DC_IDENTIFIER_ISSN DC_IDENTIFIER_OTHER  \\\n",
       "0                 978-0-387-30770-1                NaN                 NaN   \n",
       "1                 978-3-15-010661-7                NaN                 NaN   \n",
       "2                 978-3-0377-8111-1                NaN                 NaN   \n",
       "3  3-85676-231-0||978-3-85676-231-5                NaN                 NaN   \n",
       "4                 978-3-9388-0845-0                NaN                 NaN   \n",
       "5  978-7-5083-5690-7||7-50835-690-X                NaN                 NaN   \n",
       "6                 978-0-415-96239-1                NaN                 NaN   \n",
       "7                               NaN          1024-0608                 NaN   \n",
       "8                 978-3-518-41999-1                NaN                 NaN   \n",
       "9  1-4020-4559-X||978-1-4020-4559-2                NaN                 NaN   \n",
       "\n",
       "   ... ETHZ_GRANT ETHZ_GRANT_FUNDERDOI ETHZ_GRANT_FUNDERNAME  \\\n",
       "0  ...        NaN                  NaN                   NaN   \n",
       "1  ...        NaN                  NaN                   NaN   \n",
       "2  ...        NaN                  NaN                   NaN   \n",
       "3  ...        NaN                  NaN                   NaN   \n",
       "4  ...        NaN                  NaN                   NaN   \n",
       "5  ...        NaN                  NaN                   NaN   \n",
       "6  ...        NaN                  NaN                   NaN   \n",
       "7  ...        NaN                  NaN                   NaN   \n",
       "8  ...        NaN                  NaN                   NaN   \n",
       "9  ...        NaN                  NaN                   NaN   \n",
       "\n",
       "  ETHZ_GRANT_PROGRAM ETHZ_IDENTIFIER_DISS ETHZ_IDENTIFIER_PUBMED  \\\n",
       "0                NaN                  NaN                    NaN   \n",
       "1                NaN                  NaN                    NaN   \n",
       "2                NaN                  NaN                    NaN   \n",
       "3                NaN                  NaN                    NaN   \n",
       "4                NaN                  NaN                    NaN   \n",
       "5                NaN                  NaN                    NaN   \n",
       "6                NaN                  NaN                    NaN   \n",
       "7                NaN                  NaN                    NaN   \n",
       "8                NaN                  NaN                    NaN   \n",
       "9                NaN                  NaN                    NaN   \n",
       "\n",
       "  DC_IDENTIFIER_WOS ETHZ_IDENTIFIER_ORCIDWORKCODE DC_CONTRIBUTOR_OTHER  \\\n",
       "0               NaN                           NaN                  NaN   \n",
       "1               NaN                           NaN                  NaN   \n",
       "2               NaN                           NaN                  NaN   \n",
       "3               NaN                           NaN                  NaN   \n",
       "4               NaN                           NaN                  NaN   \n",
       "5               NaN                           NaN                  NaN   \n",
       "6               NaN                           NaN                  NaN   \n",
       "7               NaN                           NaN                  NaN   \n",
       "8               NaN                           NaN                  NaN   \n",
       "9               NaN                           NaN                  NaN   \n",
       "\n",
       "  ETHZ_IDENTIFIER_ARXIV  \n",
       "0                   NaN  \n",
       "1                   NaN  \n",
       "2                   NaN  \n",
       "3                   NaN  \n",
       "4                   NaN  \n",
       "5                   NaN  \n",
       "6                   NaN  \n",
       "7                   NaN  \n",
       "8                   NaN  \n",
       "9                   NaN  \n",
       "\n",
       "[10 rows x 42 columns]"
      ]
     },
     "execution_count": 4,
     "metadata": {},
     "output_type": "execute_result"
    }
   ],
   "source": [
    "rcp.head(10)"
   ]
  },
  {
   "cell_type": "code",
   "execution_count": 5,
   "metadata": {},
   "outputs": [],
   "source": [
    "rcp_tf= rcp.loc[(rcp[\"DC_TYPE\"] == \"Journal Article\")|(rcp[\"DC_TYPE\"] == \"Conference Paper\")|\n",
    "        (rcp[\"DC_TYPE\"] ==\"Other Conference Item\")|\n",
    "        (rcp[\"DC_TYPE\"] ==\"Book Chapter\"),:]"
   ]
  },
  {
   "cell_type": "code",
   "execution_count": 6,
   "metadata": {},
   "outputs": [
    {
     "data": {
      "text/plain": [
       "RC_ID                              int64\n",
       "COLLECTION                        object\n",
       "DC_CONTRIBUTOR_AUTHOR             object\n",
       "DC_CONTRIBUTOR_EDITOR             object\n",
       "DC_DATE_ISSUED                    object\n",
       "DC_DATE_PUBLISHED                 object\n",
       "DC_IDENTIFIER_DOI                 object\n",
       "DC_IDENTIFIER_ISBN                object\n",
       "DC_IDENTIFIER_ISSN                object\n",
       "DC_IDENTIFIER_OTHER               object\n",
       "DC_IDENTIFIER_URI                 object\n",
       "DC_TITLE                          object\n",
       "DC_TITLE_ALTERNATIVE              object\n",
       "DC_TYPE                           object\n",
       "ETHZ_AVAILABILITY                 object\n",
       "ETHZ_BOOK_TITLE                   object\n",
       "ETHZ_ETH                          object\n",
       "ETHZ_EVENT                        object\n",
       "ETHZ_EVENT_DATE                   object\n",
       "ETHZ_EVENT_LOCATION               object\n",
       "ETHZ_IDENTIFIER_SCOPUS            object\n",
       "ETHZ_IDENTIFIER_URL               object\n",
       "ETHZ_IDENTIFIER_WOS               object\n",
       "ETHZ_JOURNAL_ABBREVIATED          object\n",
       "ETHZ_JOURNAL_ISSUE                object\n",
       "ETHZ_JOURNAL_TITLE                object\n",
       "ETHZ_JOURNAL_VOLUME               object\n",
       "ETHZ_LEITZAHLIDENTIFIERS_CERT     object\n",
       "ETHZ_PAGES_END                    object\n",
       "ETHZ_PAGES_START                  object\n",
       "ETHZ_PUBLICATION_PLACE            object\n",
       "ETHZ_TITLE_SUBTITLE               object\n",
       "ETHZ_GRANT                        object\n",
       "ETHZ_GRANT_FUNDERDOI              object\n",
       "ETHZ_GRANT_FUNDERNAME             object\n",
       "ETHZ_GRANT_PROGRAM                object\n",
       "ETHZ_IDENTIFIER_DISS             float64\n",
       "ETHZ_IDENTIFIER_PUBMED            object\n",
       "DC_IDENTIFIER_WOS                float64\n",
       "ETHZ_IDENTIFIER_ORCIDWORKCODE    float64\n",
       "DC_CONTRIBUTOR_OTHER              object\n",
       "ETHZ_IDENTIFIER_ARXIV             object\n",
       "dtype: object"
      ]
     },
     "execution_count": 6,
     "metadata": {},
     "output_type": "execute_result"
    }
   ],
   "source": [
    "# do we also need to convert types?\n",
    "rcp.dtypes"
   ]
  },
  {
   "cell_type": "code",
   "execution_count": 7,
   "metadata": {},
   "outputs": [
    {
     "data": {
      "text/plain": [
       "98165"
      ]
     },
     "execution_count": 7,
     "metadata": {},
     "output_type": "execute_result"
    }
   ],
   "source": [
    "rcp_tf[\"DC_DATE_ISSUED\"].str.match(pat=\".*\").sum()"
   ]
  },
  {
   "cell_type": "code",
   "execution_count": 8,
   "metadata": {},
   "outputs": [],
   "source": [
    "#force types on dataframe"
   ]
  },
  {
   "cell_type": "code",
   "execution_count": 9,
   "metadata": {},
   "outputs": [
    {
     "data": {
      "text/plain": [
       "13344"
      ]
     },
     "execution_count": 9,
     "metadata": {},
     "output_type": "execute_result"
    }
   ],
   "source": [
    "len(set(rcp[\"ETHZ_JOURNAL_TITLE\"]))"
   ]
  },
  {
   "cell_type": "code",
   "execution_count": 10,
   "metadata": {},
   "outputs": [],
   "source": [
    "import matplotlib as mpl \n",
    "import matplotlib.pyplot as plt"
   ]
  },
  {
   "cell_type": "code",
   "execution_count": 11,
   "metadata": {},
   "outputs": [],
   "source": [
    "journals = rcp_tf.loc[(rcp_tf[\"DC_TYPE\"]==\"Journal Article\"),:].groupby(\"ETHZ_JOURNAL_TITLE\")[\"RC_ID\"].count().sort_values(ascending=False)"
   ]
  },
  {
   "cell_type": "code",
   "execution_count": 12,
   "metadata": {},
   "outputs": [
    {
     "data": {
      "text/plain": [
       "ETHZ_JOURNAL_TITLE\n",
       "Physical Review B                                                                  1074\n",
       "Physical Review Letters                                                             859\n",
       "PLoS ONE                                                                            785\n",
       "Environmental Science & Technology                                                  606\n",
       "The Astrophysical Journal                                                           554\n",
       "Journal of High Energy Physics                                                      536\n",
       "Scientific Reports                                                                  486\n",
       "Proceedings of the National Academy of Sciences of the United States of America     480\n",
       "Monthly Notices of the Royal Astronomical Society                                   435\n",
       "Nature Communications                                                               434\n",
       "Angewandte Chemie. International Edition                                            430\n",
       "Astronomy & Astrophysics                                                            391\n",
       "Applied Physics Letters                                                             356\n",
       "Geophysical Research Letters                                                        348\n",
       "Atmospheric Chemistry and Physics                                                   337\n",
       "Physical Review D                                                                   304\n",
       "Journal of the American Chemical Society                                            299\n",
       "Physical Review E                                                                   292\n",
       "Geophysical Journal International                                                   280\n",
       "Earth and Planetary Science Letters                                                 275\n",
       "Langmuir                                                                            274\n",
       "Nature                                                                              273\n",
       "Science                                                                             272\n",
       "Optics Express                                                                      262\n",
       "Geochimica et Cosmochimica Acta                                                     257\n",
       "Physical Chemistry Chemical Physics                                                 238\n",
       "Chemistry - A European Journal                                                      235\n",
       "Physics Letters B                                                                   235\n",
       "The Journal of Chemical Physics                                                     232\n",
       "Physical Review A                                                                   206\n",
       "Chimia                                                                              200\n",
       "Water Resources Research                                                            199\n",
       "The European Physical Journal C                                                     187\n",
       "Journal of Geophysical Research. Atmospheres                                        184\n",
       "Nano Letters                                                                        177\n",
       "Journal of Applied Physics                                                          172\n",
       "The Journal of Biological Chemistry                                                 167\n",
       "Journal of Physical Chemistry C                                                     163\n",
       "Chemical Communications                                                             163\n",
       "Water Research                                                                      162\n",
       "New Journal of Physics                                                              161\n",
       "Analytical Chemistry                                                                154\n",
       "Biogeosciences                                                                      153\n",
       "Journal of Geophysical Research. Solid Earth                                        153\n",
       "Soft Matter                                                                         148\n",
       "ACS Nano                                                                            136\n",
       "KOF Analysen                                                                        130\n",
       "PLoS Computational Biology                                                          128\n",
       "ACS Applied Materials and Interfaces                                                125\n",
       "Magnetic Resonance in Medicine                                                      124\n",
       "Name: RC_ID, dtype: int64"
      ]
     },
     "execution_count": 12,
     "metadata": {},
     "output_type": "execute_result"
    }
   ],
   "source": [
    "journals[:50]"
   ]
  },
  {
   "cell_type": "code",
   "execution_count": 13,
   "metadata": {},
   "outputs": [
    {
     "data": {
      "text/html": [
       "<div>\n",
       "<style scoped>\n",
       "    .dataframe tbody tr th:only-of-type {\n",
       "        vertical-align: middle;\n",
       "    }\n",
       "\n",
       "    .dataframe tbody tr th {\n",
       "        vertical-align: top;\n",
       "    }\n",
       "\n",
       "    .dataframe thead th {\n",
       "        text-align: right;\n",
       "    }\n",
       "</style>\n",
       "<table border=\"1\" class=\"dataframe\">\n",
       "  <thead>\n",
       "    <tr style=\"text-align: right;\">\n",
       "      <th></th>\n",
       "      <th>RC_ID</th>\n",
       "      <th>ETHZ_JOURNAL_TITLE</th>\n",
       "    </tr>\n",
       "    <tr>\n",
       "      <th>ETHZ_PUBLICATION_PLACE</th>\n",
       "      <th></th>\n",
       "      <th></th>\n",
       "    </tr>\n",
       "  </thead>\n",
       "  <tbody>\n",
       "    <tr>\n",
       "      <td>Amsterdam</td>\n",
       "      <td>10449</td>\n",
       "      <td>10332</td>\n",
       "    </tr>\n",
       "    <tr>\n",
       "      <td>Berlin</td>\n",
       "      <td>5186</td>\n",
       "      <td>4655</td>\n",
       "    </tr>\n",
       "    <tr>\n",
       "      <td>Washington, DC</td>\n",
       "      <td>5115</td>\n",
       "      <td>4892</td>\n",
       "    </tr>\n",
       "    <tr>\n",
       "      <td>London</td>\n",
       "      <td>4922</td>\n",
       "      <td>4651</td>\n",
       "    </tr>\n",
       "    <tr>\n",
       "      <td>Piscataway, NJ</td>\n",
       "      <td>4306</td>\n",
       "      <td>389</td>\n",
       "    </tr>\n",
       "    <tr>\n",
       "      <td>...</td>\n",
       "      <td>...</td>\n",
       "      <td>...</td>\n",
       "    </tr>\n",
       "    <tr>\n",
       "      <td>Northampton</td>\n",
       "      <td>1</td>\n",
       "      <td>1</td>\n",
       "    </tr>\n",
       "    <tr>\n",
       "      <td>North-Holland</td>\n",
       "      <td>1</td>\n",
       "      <td>1</td>\n",
       "    </tr>\n",
       "    <tr>\n",
       "      <td>North Carolina, USA</td>\n",
       "      <td>1</td>\n",
       "      <td>1</td>\n",
       "    </tr>\n",
       "    <tr>\n",
       "      <td>Norrköping</td>\n",
       "      <td>1</td>\n",
       "      <td>0</td>\n",
       "    </tr>\n",
       "    <tr>\n",
       "      <td>0xford</td>\n",
       "      <td>1</td>\n",
       "      <td>1</td>\n",
       "    </tr>\n",
       "  </tbody>\n",
       "</table>\n",
       "<p>2896 rows × 2 columns</p>\n",
       "</div>"
      ],
      "text/plain": [
       "                        RC_ID  ETHZ_JOURNAL_TITLE\n",
       "ETHZ_PUBLICATION_PLACE                           \n",
       "Amsterdam               10449               10332\n",
       "Berlin                   5186                4655\n",
       "Washington, DC           5115                4892\n",
       "London                   4922                4651\n",
       "Piscataway, NJ           4306                 389\n",
       "...                       ...                 ...\n",
       "Northampton                 1                   1\n",
       "North-Holland               1                   1\n",
       "North Carolina, USA         1                   1\n",
       "Norrköping                  1                   0\n",
       "0xford                      1                   1\n",
       "\n",
       "[2896 rows x 2 columns]"
      ]
     },
     "execution_count": 13,
     "metadata": {},
     "output_type": "execute_result"
    }
   ],
   "source": [
    "rcp_tf.groupby(\"ETHZ_PUBLICATION_PLACE\")[\"RC_ID\",\"ETHZ_JOURNAL_TITLE\"].count().sort_values(by=\"RC_ID\",ascending=False)"
   ]
  },
  {
   "cell_type": "code",
   "execution_count": 14,
   "metadata": {},
   "outputs": [
    {
     "ename": "NameError",
     "evalue": "name 'rcp_ff' is not defined",
     "output_type": "error",
     "traceback": [
      "\u001b[1;31m---------------------------------------------------------------------------\u001b[0m",
      "\u001b[1;31mNameError\u001b[0m                                 Traceback (most recent call last)",
      "\u001b[1;32m<ipython-input-14-9fdeb8345228>\u001b[0m in \u001b[0;36m<module>\u001b[1;34m\u001b[0m\n\u001b[1;32m----> 1\u001b[1;33m \u001b[0mrcp_ff\u001b[0m\u001b[1;33m.\u001b[0m\u001b[0mloc\u001b[0m\u001b[1;33m[\u001b[0m\u001b[1;33m(\u001b[0m\u001b[0mrcp_ff\u001b[0m\u001b[1;33m[\u001b[0m\u001b[1;34m\"DC_DATE_ISSUED\"\u001b[0m\u001b[1;33m]\u001b[0m\u001b[1;33m.\u001b[0m\u001b[0mstr\u001b[0m\u001b[1;33m.\u001b[0m\u001b[0mmatch\u001b[0m\u001b[1;33m(\u001b[0m\u001b[0mpat\u001b[0m\u001b[1;33m=\u001b[0m\u001b[1;34m\"^[0-9]{4}$\"\u001b[0m\u001b[1;33m)\u001b[0m\u001b[1;33m==\u001b[0m\u001b[1;32mTrue\u001b[0m\u001b[1;33m)\u001b[0m\u001b[1;33m,\u001b[0m\u001b[1;33m:\u001b[0m\u001b[1;33m]\u001b[0m\u001b[1;33m[\u001b[0m\u001b[1;34m\"DC_DATE_ISSUED\"\u001b[0m\u001b[1;33m]\u001b[0m\u001b[1;33m\u001b[0m\u001b[1;33m\u001b[0m\u001b[0m\n\u001b[0m",
      "\u001b[1;31mNameError\u001b[0m: name 'rcp_ff' is not defined"
     ]
    }
   ],
   "source": [
    "rcp_ff.loc[(rcp_ff[\"DC_DATE_ISSUED\"].str.match(pat=\"^[0-9]{4}$\")==True),:][\"DC_DATE_ISSUED\"]"
   ]
  },
  {
   "cell_type": "code",
   "execution_count": 43,
   "metadata": {
    "scrolled": false
   },
   "outputs": [
    {
     "data": {
      "text/plain": [
       "RC_ID                                 0\n",
       "COLLECTION                       100328\n",
       "DC_CONTRIBUTOR_AUTHOR               879\n",
       "DC_CONTRIBUTOR_EDITOR             98340\n",
       "DC_DATE_ISSUED                      213\n",
       "DC_DATE_PUBLISHED                 91510\n",
       "DC_IDENTIFIER_DOI                 97804\n",
       "DC_IDENTIFIER_ISBN                90800\n",
       "DC_IDENTIFIER_ISSN                49248\n",
       "DC_IDENTIFIER_OTHER               35152\n",
       "DC_IDENTIFIER_URI                     5\n",
       "DC_TITLE                              0\n",
       "DC_TITLE_ALTERNATIVE             110582\n",
       "DC_TYPE                               0\n",
       "ETHZ_AVAILABILITY                    14\n",
       "ETHZ_BOOK_TITLE                   89151\n",
       "ETHZ_ETH                              0\n",
       "ETHZ_EVENT                        79389\n",
       "ETHZ_EVENT_DATE                   79476\n",
       "ETHZ_EVENT_LOCATION               81407\n",
       "ETHZ_IDENTIFIER_SCOPUS            82704\n",
       "ETHZ_IDENTIFIER_URL              107909\n",
       "ETHZ_IDENTIFIER_WOS               52280\n",
       "ETHZ_JOURNAL_ABBREVIATED          61435\n",
       "ETHZ_JOURNAL_ISSUE                51935\n",
       "ETHZ_JOURNAL_TITLE                26960\n",
       "ETHZ_JOURNAL_VOLUME               30683\n",
       "Org. unit code                    39549\n",
       "ETHZ_PAGES_END                    35665\n",
       "ETHZ_PAGES_START                  18828\n",
       "ETHZ_PUBLICATION_PLACE             8536\n",
       "ETHZ_TITLE_SUBTITLE               95277\n",
       "ETHZ_GRANT                       108456\n",
       "ETHZ_GRANT_FUNDERDOI             108456\n",
       "ETHZ_GRANT_FUNDERNAME            108456\n",
       "ETHZ_GRANT_PROGRAM               109251\n",
       "ETHZ_IDENTIFIER_DISS             110933\n",
       "ETHZ_IDENTIFIER_PUBMED           110892\n",
       "DC_IDENTIFIER_WOS                110934\n",
       "ETHZ_IDENTIFIER_ORCIDWORKCODE    110879\n",
       "DC_CONTRIBUTOR_OTHER             110914\n",
       "ETHZ_IDENTIFIER_ARXIV            110904\n",
       "dtype: int64"
      ]
     },
     "execution_count": 43,
     "metadata": {},
     "output_type": "execute_result"
    }
   ],
   "source": [
    "# nulls for columns\n",
    "rcp.isnull().sum(axis=0)"
   ]
  },
  {
   "cell_type": "code",
   "execution_count": 44,
   "metadata": {},
   "outputs": [
    {
     "data": {
      "text/plain": [
       "Index(['RC_ID', 'COLLECTION', 'DC_CONTRIBUTOR_AUTHOR', 'DC_CONTRIBUTOR_EDITOR',\n",
       "       'DC_DATE_ISSUED', 'DC_DATE_PUBLISHED', 'DC_IDENTIFIER_DOI',\n",
       "       'DC_IDENTIFIER_ISBN', 'DC_IDENTIFIER_ISSN', 'DC_IDENTIFIER_OTHER',\n",
       "       'DC_IDENTIFIER_URI', 'DC_TITLE', 'DC_TITLE_ALTERNATIVE', 'DC_TYPE',\n",
       "       'ETHZ_AVAILABILITY', 'ETHZ_BOOK_TITLE', 'ETHZ_ETH', 'ETHZ_EVENT',\n",
       "       'ETHZ_EVENT_DATE', 'ETHZ_EVENT_LOCATION', 'ETHZ_IDENTIFIER_SCOPUS',\n",
       "       'ETHZ_IDENTIFIER_URL', 'ETHZ_IDENTIFIER_WOS',\n",
       "       'ETHZ_JOURNAL_ABBREVIATED', 'ETHZ_JOURNAL_ISSUE', 'ETHZ_JOURNAL_TITLE',\n",
       "       'ETHZ_JOURNAL_VOLUME', 'Org. unit code', 'ETHZ_PAGES_END',\n",
       "       'ETHZ_PAGES_START', 'ETHZ_PUBLICATION_PLACE', 'ETHZ_TITLE_SUBTITLE',\n",
       "       'ETHZ_GRANT', 'ETHZ_GRANT_FUNDERDOI', 'ETHZ_GRANT_FUNDERNAME',\n",
       "       'ETHZ_GRANT_PROGRAM', 'ETHZ_IDENTIFIER_DISS', 'ETHZ_IDENTIFIER_PUBMED',\n",
       "       'DC_IDENTIFIER_WOS', 'ETHZ_IDENTIFIER_ORCIDWORKCODE',\n",
       "       'DC_CONTRIBUTOR_OTHER', 'ETHZ_IDENTIFIER_ARXIV'],\n",
       "      dtype='object')"
      ]
     },
     "execution_count": 44,
     "metadata": {},
     "output_type": "execute_result"
    }
   ],
   "source": [
    "rcp.columns"
   ]
  },
  {
   "cell_type": "markdown",
   "metadata": {},
   "source": [
    "## Cleaning \n",
    "\n",
    "**What information should be extracted?**\n",
    "\n",
    "- authors names from \"DC_CONTRIBUTOR_AUTHOR\"\n",
    "- editors names from \"DC_CONTRIBUTOR_EDITOR\" (ideally same function used for the above step) \n",
    "- date from \"DC_DATE_ISSUED\"\n",
    "- title from \"DC_TITLE\"\n",
    "- type of publication : Journal Article, Conference Paper, Other Conference Item,Book Chapter\n",
    "- journal of publication from ETHZ_JOURNAL_TITLE (filtered)\n",
    "- publication database from \"ETHZ_IDENTIFIER_ARXIV\" and similar\n",
    "\n",
    "\n",
    "- ...\n",
    "\n",
    "**Doubts/Observations**\n",
    "- (Should be tested) Author field is Nan AND Collection field is filled - what does this represent? \n",
    "- Conference Poster may not have abstracts\n",
    "\n",
    "- ..."
   ]
  },
  {
   "cell_type": "markdown",
   "metadata": {},
   "source": [
    "## Filtering\n",
    "-  'Journal Article' with \n",
    "-  'Journal Article' and conference papers \n",
    "-  Threshold filtering of journal titles\n",
    "\n",
    "Postprocessing:\n",
    "- convert date issued to single format (year) "
   ]
  },
  {
   "cell_type": "code",
   "execution_count": 46,
   "metadata": {},
   "outputs": [
    {
     "data": {
      "text/html": [
       "<div>\n",
       "<style scoped>\n",
       "    .dataframe tbody tr th:only-of-type {\n",
       "        vertical-align: middle;\n",
       "    }\n",
       "\n",
       "    .dataframe tbody tr th {\n",
       "        vertical-align: top;\n",
       "    }\n",
       "\n",
       "    .dataframe thead th {\n",
       "        text-align: right;\n",
       "    }\n",
       "</style>\n",
       "<table border=\"1\" class=\"dataframe\">\n",
       "  <thead>\n",
       "    <tr style=\"text-align: right;\">\n",
       "      <th></th>\n",
       "      <th>RC_ID</th>\n",
       "      <th>DC_CONTRIBUTOR_AUTHOR</th>\n",
       "      <th>DC_DATE_ISSUED</th>\n",
       "      <th>DC_TITLE</th>\n",
       "      <th>DC_TYPE</th>\n",
       "      <th>ETHZ_JOURNAL_TITLE</th>\n",
       "    </tr>\n",
       "  </thead>\n",
       "  <tbody>\n",
       "    <tr>\n",
       "      <td>97</td>\n",
       "      <td>3379</td>\n",
       "      <td>Gonzalez-Nicolini, Valeria||Fussenegger, Martin</td>\n",
       "      <td>2008</td>\n",
       "      <td>Adenovirus-mediated transduction of auto- and ...</td>\n",
       "      <td>Book Chapter</td>\n",
       "      <td>Methods in Molecular Biology</td>\n",
       "    </tr>\n",
       "    <tr>\n",
       "      <td>98</td>\n",
       "      <td>15103</td>\n",
       "      <td>Vorrath, Judith</td>\n",
       "      <td>2008</td>\n",
       "      <td>From refugee to reintegration crisis?</td>\n",
       "      <td>Book Chapter</td>\n",
       "      <td>L'Afrique des grands lacs</td>\n",
       "    </tr>\n",
       "    <tr>\n",
       "      <td>99</td>\n",
       "      <td>158533</td>\n",
       "      <td>Burri, Regula Valérie||Dumit, Joseph</td>\n",
       "      <td>2008</td>\n",
       "      <td>Social Studies of Scientific Imaging and Visua...</td>\n",
       "      <td>Book Chapter</td>\n",
       "      <td>NaN</td>\n",
       "    </tr>\n",
       "    <tr>\n",
       "      <td>100</td>\n",
       "      <td>14698</td>\n",
       "      <td>Glaser, Marie A.</td>\n",
       "      <td>2008</td>\n",
       "      <td>Die Baustelle</td>\n",
       "      <td>Book Chapter</td>\n",
       "      <td>NaN</td>\n",
       "    </tr>\n",
       "    <tr>\n",
       "      <td>101</td>\n",
       "      <td>8255</td>\n",
       "      <td>Knubel, Denis||Greenwood, Greg||Wiegandt, Ellen</td>\n",
       "      <td>2008</td>\n",
       "      <td>Research and development in mountain glaciers</td>\n",
       "      <td>Book Chapter</td>\n",
       "      <td>NaN</td>\n",
       "    </tr>\n",
       "  </tbody>\n",
       "</table>\n",
       "</div>"
      ],
      "text/plain": [
       "      RC_ID                            DC_CONTRIBUTOR_AUTHOR DC_DATE_ISSUED  \\\n",
       "97     3379  Gonzalez-Nicolini, Valeria||Fussenegger, Martin           2008   \n",
       "98    15103                                  Vorrath, Judith           2008   \n",
       "99   158533             Burri, Regula Valérie||Dumit, Joseph           2008   \n",
       "100   14698                                 Glaser, Marie A.           2008   \n",
       "101    8255  Knubel, Denis||Greenwood, Greg||Wiegandt, Ellen           2008   \n",
       "\n",
       "                                              DC_TITLE       DC_TYPE  \\\n",
       "97   Adenovirus-mediated transduction of auto- and ...  Book Chapter   \n",
       "98               From refugee to reintegration crisis?  Book Chapter   \n",
       "99   Social Studies of Scientific Imaging and Visua...  Book Chapter   \n",
       "100                                      Die Baustelle  Book Chapter   \n",
       "101      Research and development in mountain glaciers  Book Chapter   \n",
       "\n",
       "               ETHZ_JOURNAL_TITLE  \n",
       "97   Methods in Molecular Biology  \n",
       "98      L'Afrique des grands lacs  \n",
       "99                            NaN  \n",
       "100                           NaN  \n",
       "101                           NaN  "
      ]
     },
     "execution_count": 46,
     "metadata": {},
     "output_type": "execute_result"
    }
   ],
   "source": [
    "rcp_ff = rcp_tf[[\"RC_ID\",\"DC_CONTRIBUTOR_AUTHOR\",\"DC_DATE_ISSUED\",\"DC_TITLE\",\"DC_TYPE\",\"ETHZ_JOURNAL_TITLE\"]]\n",
    "rcp_ff.head()"
   ]
  },
  {
   "cell_type": "markdown",
   "metadata": {},
   "source": [
    "### Cleaning utils \n",
    "Here the code to clean this mess"
   ]
  },
  {
   "cell_type": "code",
   "execution_count": 47,
   "metadata": {},
   "outputs": [],
   "source": [
    "def separate_names(names):\n",
    "    \"\"\" Separes a string of names of the form name1||name2||name3||... into a list of names.\"\"\"\n",
    "    # Also: does pandas DataFrame support list of strings as fields? \n",
    "    # Andreas: Yes\n",
    "    if isinstance(names, str):\n",
    "        return names.split(\"||\")"
   ]
  },
  {
   "cell_type": "code",
   "execution_count": 48,
   "metadata": {},
   "outputs": [
    {
     "name": "stdout",
     "output_type": "stream",
     "text": [
      "Check that we don't have more missing values:  110935\n",
      "Check that we don't have more missing values:  110935\n"
     ]
    },
    {
     "data": {
      "text/html": [
       "<div>\n",
       "<style scoped>\n",
       "    .dataframe tbody tr th:only-of-type {\n",
       "        vertical-align: middle;\n",
       "    }\n",
       "\n",
       "    .dataframe tbody tr th {\n",
       "        vertical-align: top;\n",
       "    }\n",
       "\n",
       "    .dataframe thead th {\n",
       "        text-align: right;\n",
       "    }\n",
       "</style>\n",
       "<table border=\"1\" class=\"dataframe\">\n",
       "  <thead>\n",
       "    <tr style=\"text-align: right;\">\n",
       "      <th></th>\n",
       "      <th>RC_ID</th>\n",
       "      <th>COLLECTION</th>\n",
       "      <th>DC_CONTRIBUTOR_AUTHOR</th>\n",
       "      <th>DC_CONTRIBUTOR_EDITOR</th>\n",
       "      <th>DC_DATE_ISSUED</th>\n",
       "      <th>DC_DATE_PUBLISHED</th>\n",
       "      <th>DC_IDENTIFIER_DOI</th>\n",
       "      <th>DC_IDENTIFIER_ISBN</th>\n",
       "      <th>DC_IDENTIFIER_ISSN</th>\n",
       "      <th>DC_IDENTIFIER_OTHER</th>\n",
       "      <th>...</th>\n",
       "      <th>ETHZ_GRANT</th>\n",
       "      <th>ETHZ_GRANT_FUNDERDOI</th>\n",
       "      <th>ETHZ_GRANT_FUNDERNAME</th>\n",
       "      <th>ETHZ_GRANT_PROGRAM</th>\n",
       "      <th>ETHZ_IDENTIFIER_DISS</th>\n",
       "      <th>ETHZ_IDENTIFIER_PUBMED</th>\n",
       "      <th>DC_IDENTIFIER_WOS</th>\n",
       "      <th>ETHZ_IDENTIFIER_ORCIDWORKCODE</th>\n",
       "      <th>DC_CONTRIBUTOR_OTHER</th>\n",
       "      <th>ETHZ_IDENTIFIER_ARXIV</th>\n",
       "    </tr>\n",
       "  </thead>\n",
       "  <tbody>\n",
       "    <tr>\n",
       "      <td>0</td>\n",
       "      <td>241217</td>\n",
       "      <td>NaN</td>\n",
       "      <td>None</td>\n",
       "      <td>None</td>\n",
       "      <td>2008</td>\n",
       "      <td>NaN</td>\n",
       "      <td>NaN</td>\n",
       "      <td>978-0-387-30770-1</td>\n",
       "      <td>NaN</td>\n",
       "      <td>NaN</td>\n",
       "      <td>...</td>\n",
       "      <td>NaN</td>\n",
       "      <td>NaN</td>\n",
       "      <td>NaN</td>\n",
       "      <td>NaN</td>\n",
       "      <td>NaN</td>\n",
       "      <td>NaN</td>\n",
       "      <td>NaN</td>\n",
       "      <td>NaN</td>\n",
       "      <td>NaN</td>\n",
       "      <td>NaN</td>\n",
       "    </tr>\n",
       "    <tr>\n",
       "      <td>1</td>\n",
       "      <td>11574</td>\n",
       "      <td>NaN</td>\n",
       "      <td>None</td>\n",
       "      <td>None</td>\n",
       "      <td>2008</td>\n",
       "      <td>NaN</td>\n",
       "      <td>NaN</td>\n",
       "      <td>978-3-15-010661-7</td>\n",
       "      <td>NaN</td>\n",
       "      <td>NaN</td>\n",
       "      <td>...</td>\n",
       "      <td>NaN</td>\n",
       "      <td>NaN</td>\n",
       "      <td>NaN</td>\n",
       "      <td>NaN</td>\n",
       "      <td>NaN</td>\n",
       "      <td>NaN</td>\n",
       "      <td>NaN</td>\n",
       "      <td>NaN</td>\n",
       "      <td>NaN</td>\n",
       "      <td>NaN</td>\n",
       "    </tr>\n",
       "    <tr>\n",
       "      <td>2</td>\n",
       "      <td>202843</td>\n",
       "      <td>20.500.11850/13</td>\n",
       "      <td>None</td>\n",
       "      <td>None</td>\n",
       "      <td>2008</td>\n",
       "      <td>NaN</td>\n",
       "      <td>NaN</td>\n",
       "      <td>978-3-0377-8111-1</td>\n",
       "      <td>NaN</td>\n",
       "      <td>NaN</td>\n",
       "      <td>...</td>\n",
       "      <td>NaN</td>\n",
       "      <td>NaN</td>\n",
       "      <td>NaN</td>\n",
       "      <td>NaN</td>\n",
       "      <td>NaN</td>\n",
       "      <td>NaN</td>\n",
       "      <td>NaN</td>\n",
       "      <td>NaN</td>\n",
       "      <td>NaN</td>\n",
       "      <td>NaN</td>\n",
       "    </tr>\n",
       "    <tr>\n",
       "      <td>3</td>\n",
       "      <td>4209</td>\n",
       "      <td>NaN</td>\n",
       "      <td>None</td>\n",
       "      <td>None</td>\n",
       "      <td>2008</td>\n",
       "      <td>NaN</td>\n",
       "      <td>NaN</td>\n",
       "      <td>3-85676-231-0||978-3-85676-231-5</td>\n",
       "      <td>NaN</td>\n",
       "      <td>NaN</td>\n",
       "      <td>...</td>\n",
       "      <td>NaN</td>\n",
       "      <td>NaN</td>\n",
       "      <td>NaN</td>\n",
       "      <td>NaN</td>\n",
       "      <td>NaN</td>\n",
       "      <td>NaN</td>\n",
       "      <td>NaN</td>\n",
       "      <td>NaN</td>\n",
       "      <td>NaN</td>\n",
       "      <td>NaN</td>\n",
       "    </tr>\n",
       "    <tr>\n",
       "      <td>4</td>\n",
       "      <td>203598</td>\n",
       "      <td>20.500.11850/13</td>\n",
       "      <td>None</td>\n",
       "      <td>None</td>\n",
       "      <td>2008</td>\n",
       "      <td>NaN</td>\n",
       "      <td>NaN</td>\n",
       "      <td>978-3-9388-0845-0</td>\n",
       "      <td>NaN</td>\n",
       "      <td>NaN</td>\n",
       "      <td>...</td>\n",
       "      <td>NaN</td>\n",
       "      <td>NaN</td>\n",
       "      <td>NaN</td>\n",
       "      <td>NaN</td>\n",
       "      <td>NaN</td>\n",
       "      <td>NaN</td>\n",
       "      <td>NaN</td>\n",
       "      <td>NaN</td>\n",
       "      <td>NaN</td>\n",
       "      <td>NaN</td>\n",
       "    </tr>\n",
       "  </tbody>\n",
       "</table>\n",
       "<p>5 rows × 42 columns</p>\n",
       "</div>"
      ],
      "text/plain": [
       "    RC_ID       COLLECTION DC_CONTRIBUTOR_AUTHOR DC_CONTRIBUTOR_EDITOR  \\\n",
       "0  241217              NaN                  None                  None   \n",
       "1   11574              NaN                  None                  None   \n",
       "2  202843  20.500.11850/13                  None                  None   \n",
       "3    4209              NaN                  None                  None   \n",
       "4  203598  20.500.11850/13                  None                  None   \n",
       "\n",
       "  DC_DATE_ISSUED DC_DATE_PUBLISHED DC_IDENTIFIER_DOI  \\\n",
       "0           2008               NaN               NaN   \n",
       "1           2008               NaN               NaN   \n",
       "2           2008               NaN               NaN   \n",
       "3           2008               NaN               NaN   \n",
       "4           2008               NaN               NaN   \n",
       "\n",
       "                 DC_IDENTIFIER_ISBN DC_IDENTIFIER_ISSN DC_IDENTIFIER_OTHER  \\\n",
       "0                 978-0-387-30770-1                NaN                 NaN   \n",
       "1                 978-3-15-010661-7                NaN                 NaN   \n",
       "2                 978-3-0377-8111-1                NaN                 NaN   \n",
       "3  3-85676-231-0||978-3-85676-231-5                NaN                 NaN   \n",
       "4                 978-3-9388-0845-0                NaN                 NaN   \n",
       "\n",
       "   ... ETHZ_GRANT ETHZ_GRANT_FUNDERDOI ETHZ_GRANT_FUNDERNAME  \\\n",
       "0  ...        NaN                  NaN                   NaN   \n",
       "1  ...        NaN                  NaN                   NaN   \n",
       "2  ...        NaN                  NaN                   NaN   \n",
       "3  ...        NaN                  NaN                   NaN   \n",
       "4  ...        NaN                  NaN                   NaN   \n",
       "\n",
       "  ETHZ_GRANT_PROGRAM ETHZ_IDENTIFIER_DISS ETHZ_IDENTIFIER_PUBMED  \\\n",
       "0                NaN                  NaN                    NaN   \n",
       "1                NaN                  NaN                    NaN   \n",
       "2                NaN                  NaN                    NaN   \n",
       "3                NaN                  NaN                    NaN   \n",
       "4                NaN                  NaN                    NaN   \n",
       "\n",
       "  DC_IDENTIFIER_WOS ETHZ_IDENTIFIER_ORCIDWORKCODE DC_CONTRIBUTOR_OTHER  \\\n",
       "0               NaN                           NaN                  NaN   \n",
       "1               NaN                           NaN                  NaN   \n",
       "2               NaN                           NaN                  NaN   \n",
       "3               NaN                           NaN                  NaN   \n",
       "4               NaN                           NaN                  NaN   \n",
       "\n",
       "  ETHZ_IDENTIFIER_ARXIV  \n",
       "0                   NaN  \n",
       "1                   NaN  \n",
       "2                   NaN  \n",
       "3                   NaN  \n",
       "4                   NaN  \n",
       "\n",
       "[5 rows x 42 columns]"
      ]
     },
     "execution_count": 48,
     "metadata": {},
     "output_type": "execute_result"
    }
   ],
   "source": [
    "# name fields to lists\n",
    "\n",
    "author_array = rcp.loc[:,\"DC_CONTRIBUTOR_AUTHOR\"].apply(separate_names)\n",
    "print(\"Check that we don't have more missing values: \", author_array.shape[0] - np.count_nonzero(author_array))\n",
    "editor_array = rcp.loc[:,\"DC_CONTRIBUTOR_EDITOR\"].apply(separate_names)\n",
    "print(\"Check that we don't have more missing values: \", editor_array.shape[0] - np.count_nonzero(editor_array))\n",
    "rcp[\"DC_CONTRIBUTOR_AUTHOR\"] = author_array\n",
    "rcp[\"DC_CONTRIBUTOR_EDITOR\"] = editor_array\n",
    "rcp.head()"
   ]
  },
  {
   "cell_type": "code",
   "execution_count": 49,
   "metadata": {
    "scrolled": false
   },
   "outputs": [
    {
     "name": "stderr",
     "output_type": "stream",
     "text": [
      "C:\\Users\\danie\\Anaconda3\\lib\\site-packages\\ipykernel_launcher.py:2: SettingWithCopyWarning: \n",
      "A value is trying to be set on a copy of a slice from a DataFrame.\n",
      "Try using .loc[row_indexer,col_indexer] = value instead\n",
      "\n",
      "See the caveats in the documentation: http://pandas.pydata.org/pandas-docs/stable/user_guide/indexing.html#returning-a-view-versus-a-copy\n",
      "  \n"
     ]
    },
    {
     "data": {
      "text/html": [
       "<div>\n",
       "<style scoped>\n",
       "    .dataframe tbody tr th:only-of-type {\n",
       "        vertical-align: middle;\n",
       "    }\n",
       "\n",
       "    .dataframe tbody tr th {\n",
       "        vertical-align: top;\n",
       "    }\n",
       "\n",
       "    .dataframe thead th {\n",
       "        text-align: right;\n",
       "    }\n",
       "</style>\n",
       "<table border=\"1\" class=\"dataframe\">\n",
       "  <thead>\n",
       "    <tr style=\"text-align: right;\">\n",
       "      <th></th>\n",
       "      <th>RC_ID</th>\n",
       "      <th>DC_CONTRIBUTOR_AUTHOR</th>\n",
       "      <th>DC_DATE_ISSUED</th>\n",
       "      <th>DC_TITLE</th>\n",
       "      <th>DC_TYPE</th>\n",
       "      <th>ETHZ_JOURNAL_TITLE</th>\n",
       "    </tr>\n",
       "  </thead>\n",
       "  <tbody>\n",
       "    <tr>\n",
       "      <td>97</td>\n",
       "      <td>3379</td>\n",
       "      <td>[Gonzalez-Nicolini, Valeria, Fussenegger, Martin]</td>\n",
       "      <td>2008</td>\n",
       "      <td>Adenovirus-mediated transduction of auto- and ...</td>\n",
       "      <td>Book Chapter</td>\n",
       "      <td>Methods in Molecular Biology</td>\n",
       "    </tr>\n",
       "    <tr>\n",
       "      <td>98</td>\n",
       "      <td>15103</td>\n",
       "      <td>[Vorrath, Judith]</td>\n",
       "      <td>2008</td>\n",
       "      <td>From refugee to reintegration crisis?</td>\n",
       "      <td>Book Chapter</td>\n",
       "      <td>L'Afrique des grands lacs</td>\n",
       "    </tr>\n",
       "    <tr>\n",
       "      <td>99</td>\n",
       "      <td>158533</td>\n",
       "      <td>[Burri, Regula Valérie, Dumit, Joseph]</td>\n",
       "      <td>2008</td>\n",
       "      <td>Social Studies of Scientific Imaging and Visua...</td>\n",
       "      <td>Book Chapter</td>\n",
       "      <td>NaN</td>\n",
       "    </tr>\n",
       "    <tr>\n",
       "      <td>100</td>\n",
       "      <td>14698</td>\n",
       "      <td>[Glaser, Marie A.]</td>\n",
       "      <td>2008</td>\n",
       "      <td>Die Baustelle</td>\n",
       "      <td>Book Chapter</td>\n",
       "      <td>NaN</td>\n",
       "    </tr>\n",
       "    <tr>\n",
       "      <td>101</td>\n",
       "      <td>8255</td>\n",
       "      <td>[Knubel, Denis, Greenwood, Greg, Wiegandt, Ellen]</td>\n",
       "      <td>2008</td>\n",
       "      <td>Research and development in mountain glaciers</td>\n",
       "      <td>Book Chapter</td>\n",
       "      <td>NaN</td>\n",
       "    </tr>\n",
       "  </tbody>\n",
       "</table>\n",
       "</div>"
      ],
      "text/plain": [
       "      RC_ID                              DC_CONTRIBUTOR_AUTHOR DC_DATE_ISSUED  \\\n",
       "97     3379  [Gonzalez-Nicolini, Valeria, Fussenegger, Martin]           2008   \n",
       "98    15103                                  [Vorrath, Judith]           2008   \n",
       "99   158533             [Burri, Regula Valérie, Dumit, Joseph]           2008   \n",
       "100   14698                                 [Glaser, Marie A.]           2008   \n",
       "101    8255  [Knubel, Denis, Greenwood, Greg, Wiegandt, Ellen]           2008   \n",
       "\n",
       "                                              DC_TITLE       DC_TYPE  \\\n",
       "97   Adenovirus-mediated transduction of auto- and ...  Book Chapter   \n",
       "98               From refugee to reintegration crisis?  Book Chapter   \n",
       "99   Social Studies of Scientific Imaging and Visua...  Book Chapter   \n",
       "100                                      Die Baustelle  Book Chapter   \n",
       "101      Research and development in mountain glaciers  Book Chapter   \n",
       "\n",
       "               ETHZ_JOURNAL_TITLE  \n",
       "97   Methods in Molecular Biology  \n",
       "98      L'Afrique des grands lacs  \n",
       "99                            NaN  \n",
       "100                           NaN  \n",
       "101                           NaN  "
      ]
     },
     "execution_count": 49,
     "metadata": {},
     "output_type": "execute_result"
    }
   ],
   "source": [
    "author_array = rcp_ff.loc[:,\"DC_CONTRIBUTOR_AUTHOR\"].apply(separate_names)\n",
    "rcp_ff[\"DC_CONTRIBUTOR_AUTHOR\"] = author_array\n",
    "rcp_ff.head()"
   ]
  },
  {
   "cell_type": "code",
   "execution_count": 50,
   "metadata": {},
   "outputs": [],
   "source": [
    "def clean_date(date):\n",
    "    \"Get the dates into a single format (YYYY)\"\n",
    "    pass"
   ]
  },
  {
   "cell_type": "code",
   "execution_count": 51,
   "metadata": {},
   "outputs": [],
   "source": [
    "rcp_ff_e = rcp_ff.explode(\"DC_CONTRIBUTOR_AUTHOR\")"
   ]
  },
  {
   "cell_type": "code",
   "execution_count": 52,
   "metadata": {},
   "outputs": [
    {
     "data": {
      "text/html": [
       "<div>\n",
       "<style scoped>\n",
       "    .dataframe tbody tr th:only-of-type {\n",
       "        vertical-align: middle;\n",
       "    }\n",
       "\n",
       "    .dataframe tbody tr th {\n",
       "        vertical-align: top;\n",
       "    }\n",
       "\n",
       "    .dataframe thead th {\n",
       "        text-align: right;\n",
       "    }\n",
       "</style>\n",
       "<table border=\"1\" class=\"dataframe\">\n",
       "  <thead>\n",
       "    <tr style=\"text-align: right;\">\n",
       "      <th></th>\n",
       "      <th>RC_ID</th>\n",
       "      <th>DC_CONTRIBUTOR_AUTHOR</th>\n",
       "      <th>DC_DATE_ISSUED</th>\n",
       "      <th>DC_TITLE</th>\n",
       "      <th>DC_TYPE</th>\n",
       "      <th>ETHZ_JOURNAL_TITLE</th>\n",
       "    </tr>\n",
       "  </thead>\n",
       "  <tbody>\n",
       "    <tr>\n",
       "      <td>97</td>\n",
       "      <td>3379</td>\n",
       "      <td>Gonzalez-Nicolini, Valeria</td>\n",
       "      <td>2008</td>\n",
       "      <td>Adenovirus-mediated transduction of auto- and ...</td>\n",
       "      <td>Book Chapter</td>\n",
       "      <td>Methods in Molecular Biology</td>\n",
       "    </tr>\n",
       "    <tr>\n",
       "      <td>97</td>\n",
       "      <td>3379</td>\n",
       "      <td>Fussenegger, Martin</td>\n",
       "      <td>2008</td>\n",
       "      <td>Adenovirus-mediated transduction of auto- and ...</td>\n",
       "      <td>Book Chapter</td>\n",
       "      <td>Methods in Molecular Biology</td>\n",
       "    </tr>\n",
       "    <tr>\n",
       "      <td>98</td>\n",
       "      <td>15103</td>\n",
       "      <td>Vorrath, Judith</td>\n",
       "      <td>2008</td>\n",
       "      <td>From refugee to reintegration crisis?</td>\n",
       "      <td>Book Chapter</td>\n",
       "      <td>L'Afrique des grands lacs</td>\n",
       "    </tr>\n",
       "    <tr>\n",
       "      <td>99</td>\n",
       "      <td>158533</td>\n",
       "      <td>Burri, Regula Valérie</td>\n",
       "      <td>2008</td>\n",
       "      <td>Social Studies of Scientific Imaging and Visua...</td>\n",
       "      <td>Book Chapter</td>\n",
       "      <td>NaN</td>\n",
       "    </tr>\n",
       "    <tr>\n",
       "      <td>99</td>\n",
       "      <td>158533</td>\n",
       "      <td>Dumit, Joseph</td>\n",
       "      <td>2008</td>\n",
       "      <td>Social Studies of Scientific Imaging and Visua...</td>\n",
       "      <td>Book Chapter</td>\n",
       "      <td>NaN</td>\n",
       "    </tr>\n",
       "  </tbody>\n",
       "</table>\n",
       "</div>"
      ],
      "text/plain": [
       "     RC_ID       DC_CONTRIBUTOR_AUTHOR DC_DATE_ISSUED  \\\n",
       "97    3379  Gonzalez-Nicolini, Valeria           2008   \n",
       "97    3379         Fussenegger, Martin           2008   \n",
       "98   15103             Vorrath, Judith           2008   \n",
       "99  158533       Burri, Regula Valérie           2008   \n",
       "99  158533               Dumit, Joseph           2008   \n",
       "\n",
       "                                             DC_TITLE       DC_TYPE  \\\n",
       "97  Adenovirus-mediated transduction of auto- and ...  Book Chapter   \n",
       "97  Adenovirus-mediated transduction of auto- and ...  Book Chapter   \n",
       "98              From refugee to reintegration crisis?  Book Chapter   \n",
       "99  Social Studies of Scientific Imaging and Visua...  Book Chapter   \n",
       "99  Social Studies of Scientific Imaging and Visua...  Book Chapter   \n",
       "\n",
       "              ETHZ_JOURNAL_TITLE  \n",
       "97  Methods in Molecular Biology  \n",
       "97  Methods in Molecular Biology  \n",
       "98     L'Afrique des grands lacs  \n",
       "99                           NaN  \n",
       "99                           NaN  "
      ]
     },
     "execution_count": 52,
     "metadata": {},
     "output_type": "execute_result"
    }
   ],
   "source": [
    "rcp_ff_e.head()"
   ]
  },
  {
   "cell_type": "markdown",
   "metadata": {},
   "source": [
    "# D-ARCH.xlsx"
   ]
  },
  {
   "cell_type": "code",
   "execution_count": 53,
   "metadata": {},
   "outputs": [
    {
     "name": "stderr",
     "output_type": "stream",
     "text": [
      "Python was not found but can be installed from the Microsoft Store: https://go.microsoft.com/fwlink?linkID=2082640\n"
     ]
    }
   ],
   "source": [
    "#necessary requirement for xlsx files \n",
    "!python3 -m pip install xlrd"
   ]
  },
  {
   "cell_type": "code",
   "execution_count": 54,
   "metadata": {},
   "outputs": [],
   "source": [
    "da = pd.read_excel(\"D-ARCH.xlsx\")"
   ]
  },
  {
   "cell_type": "code",
   "execution_count": 55,
   "metadata": {},
   "outputs": [
    {
     "data": {
      "text/html": [
       "<div>\n",
       "<style scoped>\n",
       "    .dataframe tbody tr th:only-of-type {\n",
       "        vertical-align: middle;\n",
       "    }\n",
       "\n",
       "    .dataframe tbody tr th {\n",
       "        vertical-align: top;\n",
       "    }\n",
       "\n",
       "    .dataframe thead th {\n",
       "        text-align: right;\n",
       "    }\n",
       "</style>\n",
       "<table border=\"1\" class=\"dataframe\">\n",
       "  <thead>\n",
       "    <tr style=\"text-align: right;\">\n",
       "      <th></th>\n",
       "      <th>DEPARTMENT</th>\n",
       "      <th>RESEARCHER</th>\n",
       "      <th>TIMESTAMP</th>\n",
       "      <th>RESEARCH_OVERVIEW</th>\n",
       "    </tr>\n",
       "  </thead>\n",
       "  <tbody>\n",
       "    <tr>\n",
       "      <td>0</td>\n",
       "      <td>Architecture</td>\n",
       "      <td>Tom_Avermaete</td>\n",
       "      <td>2020-10-08 15:32:09</td>\n",
       "      <td>Title: Information for Professor Tom.Avermaete...</td>\n",
       "    </tr>\n",
       "    <tr>\n",
       "      <td>1</td>\n",
       "      <td>Architecture</td>\n",
       "      <td>Philippe_Block</td>\n",
       "      <td>2020-10-08 15:32:17</td>\n",
       "      <td>Title: Information for Professor Philippe.Bloc...</td>\n",
       "    </tr>\n",
       "    <tr>\n",
       "      <td>2</td>\n",
       "      <td>Architecture</td>\n",
       "      <td>A._Caminada</td>\n",
       "      <td>2020-10-08 15:33:28</td>\n",
       "      <td>Title: Information for Professor A..Caminada f...</td>\n",
       "    </tr>\n",
       "    <tr>\n",
       "      <td>3</td>\n",
       "      <td>Architecture</td>\n",
       "      <td>Caruso_Adam</td>\n",
       "      <td>2020-10-08 15:33:29</td>\n",
       "      <td>Title: Information for Professor Caruso.Adam f...</td>\n",
       "    </tr>\n",
       "    <tr>\n",
       "      <td>4</td>\n",
       "      <td>Architecture</td>\n",
       "      <td>François_Charbonnet</td>\n",
       "      <td>2020-10-08 15:33:31</td>\n",
       "      <td>Title: Information for Professor François.Char...</td>\n",
       "    </tr>\n",
       "  </tbody>\n",
       "</table>\n",
       "</div>"
      ],
      "text/plain": [
       "     DEPARTMENT           RESEARCHER            TIMESTAMP  \\\n",
       "0  Architecture        Tom_Avermaete  2020-10-08 15:32:09   \n",
       "1  Architecture       Philippe_Block  2020-10-08 15:32:17   \n",
       "2  Architecture          A._Caminada  2020-10-08 15:33:28   \n",
       "3  Architecture          Caruso_Adam  2020-10-08 15:33:29   \n",
       "4  Architecture  François_Charbonnet  2020-10-08 15:33:31   \n",
       "\n",
       "                                   RESEARCH_OVERVIEW  \n",
       "0  Title: Information for Professor Tom.Avermaete...  \n",
       "1  Title: Information for Professor Philippe.Bloc...  \n",
       "2  Title: Information for Professor A..Caminada f...  \n",
       "3  Title: Information for Professor Caruso.Adam f...  \n",
       "4  Title: Information for Professor François.Char...  "
      ]
     },
     "execution_count": 55,
     "metadata": {},
     "output_type": "execute_result"
    }
   ],
   "source": [
    "da.head()"
   ]
  },
  {
   "cell_type": "code",
   "execution_count": 56,
   "metadata": {},
   "outputs": [
    {
     "data": {
      "text/plain": [
       "'Title: Information for Professor Tom.Avermaete from\\nDepartment Architecture'"
      ]
     },
     "execution_count": 56,
     "metadata": {},
     "output_type": "execute_result"
    }
   ],
   "source": [
    "da.iloc[0][\"RESEARCH_OVERVIEW\"]"
   ]
  },
  {
   "cell_type": "code",
   "execution_count": 57,
   "metadata": {},
   "outputs": [
    {
     "data": {
      "text/plain": [
       "DEPARTMENT           0\n",
       "RESEARCHER           0\n",
       "TIMESTAMP            0\n",
       "RESEARCH_OVERVIEW    0\n",
       "dtype: int64"
      ]
     },
     "execution_count": 57,
     "metadata": {},
     "output_type": "execute_result"
    }
   ],
   "source": [
    "# nulls for columns\n",
    "da.isnull().sum(axis=0)"
   ]
  },
  {
   "cell_type": "markdown",
   "metadata": {},
   "source": [
    "**Complete file**"
   ]
  },
  {
   "cell_type": "markdown",
   "metadata": {},
   "source": [
    "This file should be connected to the main one (Research Collection) through the professor name.<br>\n",
    "Integrates research overview info."
   ]
  },
  {
   "cell_type": "code",
   "execution_count": 58,
   "metadata": {},
   "outputs": [],
   "source": [
    "# check whether the professors' names here and the authors' names there match"
   ]
  },
  {
   "cell_type": "markdown",
   "metadata": {},
   "source": [
    "# ETH Professor list.xlsx"
   ]
  },
  {
   "cell_type": "code",
   "execution_count": 59,
   "metadata": {},
   "outputs": [],
   "source": [
    "pl = pd.read_excel(\"ETH Professor list.xlsx\")"
   ]
  },
  {
   "cell_type": "code",
   "execution_count": 60,
   "metadata": {},
   "outputs": [
    {
     "data": {
      "text/html": [
       "<div>\n",
       "<style scoped>\n",
       "    .dataframe tbody tr th:only-of-type {\n",
       "        vertical-align: middle;\n",
       "    }\n",
       "\n",
       "    .dataframe tbody tr th {\n",
       "        vertical-align: top;\n",
       "    }\n",
       "\n",
       "    .dataframe thead th {\n",
       "        text-align: right;\n",
       "    }\n",
       "</style>\n",
       "<table border=\"1\" class=\"dataframe\">\n",
       "  <thead>\n",
       "    <tr style=\"text-align: right;\">\n",
       "      <th></th>\n",
       "      <th>Title</th>\n",
       "      <th>Name</th>\n",
       "      <th>First name</th>\n",
       "      <th>Org. unit code</th>\n",
       "      <th>Organisation</th>\n",
       "    </tr>\n",
       "  </thead>\n",
       "  <tbody>\n",
       "    <tr>\n",
       "      <td>0</td>\n",
       "      <td>Prof. Dr.</td>\n",
       "      <td>Abhari</td>\n",
       "      <td>Reza S.</td>\n",
       "      <td>2627</td>\n",
       "      <td>Institute of Energy Technology (former)</td>\n",
       "    </tr>\n",
       "    <tr>\n",
       "      <td>1</td>\n",
       "      <td>Prof. Dr.</td>\n",
       "      <td>Acciaio</td>\n",
       "      <td>Beatrice</td>\n",
       "      <td>9727</td>\n",
       "      <td>Acciaio, Beatrice</td>\n",
       "    </tr>\n",
       "    <tr>\n",
       "      <td>2</td>\n",
       "      <td>Prof. Dr.</td>\n",
       "      <td>Ackermann</td>\n",
       "      <td>Martin</td>\n",
       "      <td>3743</td>\n",
       "      <td>Ackermann, Martin</td>\n",
       "    </tr>\n",
       "    <tr>\n",
       "      <td>3</td>\n",
       "      <td>Prof. Dr.</td>\n",
       "      <td>Ackermann</td>\n",
       "      <td>Martin</td>\n",
       "      <td>2721</td>\n",
       "      <td>Inst. Biogeochem. and Pollutant Dynamics</td>\n",
       "    </tr>\n",
       "    <tr>\n",
       "      <td>4</td>\n",
       "      <td>Prof. Dr.</td>\n",
       "      <td>Adey</td>\n",
       "      <td>Bryan T.</td>\n",
       "      <td>2604</td>\n",
       "      <td>Inst. Construction&amp;Infrastructure Manag.</td>\n",
       "    </tr>\n",
       "  </tbody>\n",
       "</table>\n",
       "</div>"
      ],
      "text/plain": [
       "       Title       Name First name  Org. unit code  \\\n",
       "0  Prof. Dr.     Abhari    Reza S.            2627   \n",
       "1  Prof. Dr.    Acciaio   Beatrice            9727   \n",
       "2  Prof. Dr.  Ackermann     Martin            3743   \n",
       "3  Prof. Dr.  Ackermann     Martin            2721   \n",
       "4  Prof. Dr.       Adey   Bryan T.            2604   \n",
       "\n",
       "                               Organisation  \n",
       "0   Institute of Energy Technology (former)  \n",
       "1                         Acciaio, Beatrice  \n",
       "2                         Ackermann, Martin  \n",
       "3  Inst. Biogeochem. and Pollutant Dynamics  \n",
       "4  Inst. Construction&Infrastructure Manag.  "
      ]
     },
     "execution_count": 60,
     "metadata": {},
     "output_type": "execute_result"
    }
   ],
   "source": [
    "pl.head()"
   ]
  },
  {
   "cell_type": "code",
   "execution_count": 61,
   "metadata": {},
   "outputs": [
    {
     "data": {
      "text/plain": [
       "Title             0\n",
       "Name              0\n",
       "First name        0\n",
       "Org. unit code    0\n",
       "Organisation      0\n",
       "dtype: int64"
      ]
     },
     "execution_count": 61,
     "metadata": {},
     "output_type": "execute_result"
    }
   ],
   "source": [
    "# nulls for columns\n",
    "pl.isnull().sum(axis=0)"
   ]
  },
  {
   "cell_type": "markdown",
   "metadata": {},
   "source": [
    "**Complete file**"
   ]
  },
  {
   "cell_type": "markdown",
   "metadata": {},
   "source": [
    "Again this file matches the research collection through the professors' name. <br>\n",
    "Integrates organisation info."
   ]
  },
  {
   "cell_type": "code",
   "execution_count": 62,
   "metadata": {},
   "outputs": [
    {
     "data": {
      "text/html": [
       "<div>\n",
       "<style scoped>\n",
       "    .dataframe tbody tr th:only-of-type {\n",
       "        vertical-align: middle;\n",
       "    }\n",
       "\n",
       "    .dataframe tbody tr th {\n",
       "        vertical-align: top;\n",
       "    }\n",
       "\n",
       "    .dataframe thead th {\n",
       "        text-align: right;\n",
       "    }\n",
       "</style>\n",
       "<table border=\"1\" class=\"dataframe\">\n",
       "  <thead>\n",
       "    <tr style=\"text-align: right;\">\n",
       "      <th></th>\n",
       "      <th>Title</th>\n",
       "      <th>Name</th>\n",
       "      <th>First name</th>\n",
       "      <th>Org. unit code</th>\n",
       "      <th>Organisation</th>\n",
       "      <th>Professor</th>\n",
       "    </tr>\n",
       "  </thead>\n",
       "  <tbody>\n",
       "    <tr>\n",
       "      <td>0</td>\n",
       "      <td>Prof. Dr.</td>\n",
       "      <td>Abhari</td>\n",
       "      <td>Reza S.</td>\n",
       "      <td>2627</td>\n",
       "      <td>Institute of Energy Technology (former)</td>\n",
       "      <td>Abhari, Reza S.</td>\n",
       "    </tr>\n",
       "    <tr>\n",
       "      <td>1</td>\n",
       "      <td>Prof. Dr.</td>\n",
       "      <td>Acciaio</td>\n",
       "      <td>Beatrice</td>\n",
       "      <td>9727</td>\n",
       "      <td>Acciaio, Beatrice</td>\n",
       "      <td>Acciaio, Beatrice</td>\n",
       "    </tr>\n",
       "    <tr>\n",
       "      <td>2</td>\n",
       "      <td>Prof. Dr.</td>\n",
       "      <td>Ackermann</td>\n",
       "      <td>Martin</td>\n",
       "      <td>3743</td>\n",
       "      <td>Ackermann, Martin</td>\n",
       "      <td>Ackermann, Martin</td>\n",
       "    </tr>\n",
       "    <tr>\n",
       "      <td>3</td>\n",
       "      <td>Prof. Dr.</td>\n",
       "      <td>Ackermann</td>\n",
       "      <td>Martin</td>\n",
       "      <td>2721</td>\n",
       "      <td>Inst. Biogeochem. and Pollutant Dynamics</td>\n",
       "      <td>Ackermann, Martin</td>\n",
       "    </tr>\n",
       "    <tr>\n",
       "      <td>4</td>\n",
       "      <td>Prof. Dr.</td>\n",
       "      <td>Adey</td>\n",
       "      <td>Bryan T.</td>\n",
       "      <td>2604</td>\n",
       "      <td>Inst. Construction&amp;Infrastructure Manag.</td>\n",
       "      <td>Adey, Bryan T.</td>\n",
       "    </tr>\n",
       "  </tbody>\n",
       "</table>\n",
       "</div>"
      ],
      "text/plain": [
       "       Title       Name First name  Org. unit code  \\\n",
       "0  Prof. Dr.     Abhari    Reza S.            2627   \n",
       "1  Prof. Dr.    Acciaio   Beatrice            9727   \n",
       "2  Prof. Dr.  Ackermann     Martin            3743   \n",
       "3  Prof. Dr.  Ackermann     Martin            2721   \n",
       "4  Prof. Dr.       Adey   Bryan T.            2604   \n",
       "\n",
       "                               Organisation          Professor  \n",
       "0   Institute of Energy Technology (former)    Abhari, Reza S.  \n",
       "1                         Acciaio, Beatrice  Acciaio, Beatrice  \n",
       "2                         Ackermann, Martin  Ackermann, Martin  \n",
       "3  Inst. Biogeochem. and Pollutant Dynamics  Ackermann, Martin  \n",
       "4  Inst. Construction&Infrastructure Manag.     Adey, Bryan T.  "
      ]
     },
     "execution_count": 62,
     "metadata": {},
     "output_type": "execute_result"
    }
   ],
   "source": [
    "pl[\"Professor\"] = pl[\"Name\"] + \", \" + pl[\"First name\"]\n",
    "pl.head()"
   ]
  },
  {
   "cell_type": "code",
   "execution_count": 63,
   "metadata": {},
   "outputs": [
    {
     "data": {
      "text/html": [
       "<div>\n",
       "<style scoped>\n",
       "    .dataframe tbody tr th:only-of-type {\n",
       "        vertical-align: middle;\n",
       "    }\n",
       "\n",
       "    .dataframe tbody tr th {\n",
       "        vertical-align: top;\n",
       "    }\n",
       "\n",
       "    .dataframe thead th {\n",
       "        text-align: right;\n",
       "    }\n",
       "</style>\n",
       "<table border=\"1\" class=\"dataframe\">\n",
       "  <thead>\n",
       "    <tr style=\"text-align: right;\">\n",
       "      <th></th>\n",
       "      <th>Title</th>\n",
       "      <th>Name</th>\n",
       "      <th>First name</th>\n",
       "      <th>Org. unit code</th>\n",
       "      <th>Organisation</th>\n",
       "      <th>Professor</th>\n",
       "    </tr>\n",
       "  </thead>\n",
       "  <tbody>\n",
       "    <tr>\n",
       "      <td>79</td>\n",
       "      <td>Prof. Dr.</td>\n",
       "      <td>Buhmann</td>\n",
       "      <td>Joachim M.</td>\n",
       "      <td>2661</td>\n",
       "      <td>Institute for Machine Learning</td>\n",
       "      <td>Buhmann, Joachim M.</td>\n",
       "    </tr>\n",
       "  </tbody>\n",
       "</table>\n",
       "</div>"
      ],
      "text/plain": [
       "        Title     Name  First name  Org. unit code  \\\n",
       "79  Prof. Dr.  Buhmann  Joachim M.            2661   \n",
       "\n",
       "                      Organisation            Professor  \n",
       "79  Institute for Machine Learning  Buhmann, Joachim M.  "
      ]
     },
     "execution_count": 63,
     "metadata": {},
     "output_type": "execute_result"
    }
   ],
   "source": [
    "# check a few examples\n",
    "\n",
    "#pl.loc[(pl[\"Professor\"]==\"Renner, Renato\"),:] # matches with rcp\n",
    "#pl.loc[(pl[\"Professor\"]==\"Diekmann, Andreas\"),:]\n",
    "#pl.loc[(pl[\"Name\"]==\"Diekmann\"),:] # this guy is an ETH professor but is missing in pl\n",
    "#pl.loc[(pl[\"Professor\"]==\"Mateo, Josep L.\"),:] \n",
    "#pl.loc[(pl[\"Name\"]==\"Mateo\"),:]  # same with this guy\n",
    "#pl.loc[(pl[\"Professor\"]==\"Wenger, Andreas\"),:] # matches with rcp\n",
    "#pl.loc[(pl[\"Professor\"]==\"Krause, Andreas\"),:] # CS represent\n",
    "pl.loc[(pl[\"Professor\"]==\"Buhmann, Joachim M.\"),:]"
   ]
  },
  {
   "cell_type": "markdown",
   "metadata": {},
   "source": [
    "Notice that the Organisation data is not homogeneous. Example: Krause is IML and Hofmann is dept. CS"
   ]
  },
  {
   "cell_type": "code",
   "execution_count": 64,
   "metadata": {},
   "outputs": [],
   "source": [
    "rcp.rename(columns={\"ETHZ_LEITZAHLIDENTIFIERS_CERT\":\"Org. unit code\"}, inplace=True)"
   ]
  },
  {
   "cell_type": "code",
   "execution_count": 65,
   "metadata": {},
   "outputs": [
    {
     "data": {
      "text/plain": [
       "Index(['RC_ID', 'COLLECTION', 'DC_CONTRIBUTOR_AUTHOR', 'DC_CONTRIBUTOR_EDITOR',\n",
       "       'DC_DATE_ISSUED', 'DC_DATE_PUBLISHED', 'DC_IDENTIFIER_DOI',\n",
       "       'DC_IDENTIFIER_ISBN', 'DC_IDENTIFIER_ISSN', 'DC_IDENTIFIER_OTHER',\n",
       "       'DC_IDENTIFIER_URI', 'DC_TITLE', 'DC_TITLE_ALTERNATIVE', 'DC_TYPE',\n",
       "       'ETHZ_AVAILABILITY', 'ETHZ_BOOK_TITLE', 'ETHZ_ETH', 'ETHZ_EVENT',\n",
       "       'ETHZ_EVENT_DATE', 'ETHZ_EVENT_LOCATION', 'ETHZ_IDENTIFIER_SCOPUS',\n",
       "       'ETHZ_IDENTIFIER_URL', 'ETHZ_IDENTIFIER_WOS',\n",
       "       'ETHZ_JOURNAL_ABBREVIATED', 'ETHZ_JOURNAL_ISSUE', 'ETHZ_JOURNAL_TITLE',\n",
       "       'ETHZ_JOURNAL_VOLUME', 'Org. unit code', 'ETHZ_PAGES_END',\n",
       "       'ETHZ_PAGES_START', 'ETHZ_PUBLICATION_PLACE', 'ETHZ_TITLE_SUBTITLE',\n",
       "       'ETHZ_GRANT', 'ETHZ_GRANT_FUNDERDOI', 'ETHZ_GRANT_FUNDERNAME',\n",
       "       'ETHZ_GRANT_PROGRAM', 'ETHZ_IDENTIFIER_DISS', 'ETHZ_IDENTIFIER_PUBMED',\n",
       "       'DC_IDENTIFIER_WOS', 'ETHZ_IDENTIFIER_ORCIDWORKCODE',\n",
       "       'DC_CONTRIBUTOR_OTHER', 'ETHZ_IDENTIFIER_ARXIV'],\n",
       "      dtype='object')"
      ]
     },
     "execution_count": 65,
     "metadata": {},
     "output_type": "execute_result"
    }
   ],
   "source": [
    "rcp.columns"
   ]
  },
  {
   "cell_type": "code",
   "execution_count": 66,
   "metadata": {},
   "outputs": [
    {
     "ename": "AttributeError",
     "evalue": "Can only use .str accessor with string values!",
     "output_type": "error",
     "traceback": [
      "\u001b[1;31m---------------------------------------------------------------------------\u001b[0m",
      "\u001b[1;31mAttributeError\u001b[0m                            Traceback (most recent call last)",
      "\u001b[1;32m<ipython-input-66-95b1343012f6>\u001b[0m in \u001b[0;36m<module>\u001b[1;34m\u001b[0m\n\u001b[1;32m----> 1\u001b[1;33m \u001b[0mrcp\u001b[0m\u001b[1;33m[\u001b[0m\u001b[1;34m\"Org. unit code\"\u001b[0m\u001b[1;33m]\u001b[0m\u001b[1;33m.\u001b[0m\u001b[0mstr\u001b[0m\u001b[1;33m.\u001b[0m\u001b[0mmatch\u001b[0m\u001b[1;33m(\u001b[0m\u001b[0mpat\u001b[0m\u001b[1;33m=\u001b[0m\u001b[1;34m\"^[0-9]{5}$\"\u001b[0m\u001b[1;33m)\u001b[0m\u001b[1;33m==\u001b[0m\u001b[1;32mTrue\u001b[0m\u001b[1;33m\u001b[0m\u001b[1;33m\u001b[0m\u001b[0m\n\u001b[0m",
      "\u001b[1;32m~\\Anaconda3\\lib\\site-packages\\pandas\\core\\generic.py\u001b[0m in \u001b[0;36m__getattr__\u001b[1;34m(self, name)\u001b[0m\n\u001b[0;32m   5173\u001b[0m             \u001b[1;32mor\u001b[0m \u001b[0mname\u001b[0m \u001b[1;32min\u001b[0m \u001b[0mself\u001b[0m\u001b[1;33m.\u001b[0m\u001b[0m_accessors\u001b[0m\u001b[1;33m\u001b[0m\u001b[1;33m\u001b[0m\u001b[0m\n\u001b[0;32m   5174\u001b[0m         ):\n\u001b[1;32m-> 5175\u001b[1;33m             \u001b[1;32mreturn\u001b[0m \u001b[0mobject\u001b[0m\u001b[1;33m.\u001b[0m\u001b[0m__getattribute__\u001b[0m\u001b[1;33m(\u001b[0m\u001b[0mself\u001b[0m\u001b[1;33m,\u001b[0m \u001b[0mname\u001b[0m\u001b[1;33m)\u001b[0m\u001b[1;33m\u001b[0m\u001b[1;33m\u001b[0m\u001b[0m\n\u001b[0m\u001b[0;32m   5176\u001b[0m         \u001b[1;32melse\u001b[0m\u001b[1;33m:\u001b[0m\u001b[1;33m\u001b[0m\u001b[1;33m\u001b[0m\u001b[0m\n\u001b[0;32m   5177\u001b[0m             \u001b[1;32mif\u001b[0m \u001b[0mself\u001b[0m\u001b[1;33m.\u001b[0m\u001b[0m_info_axis\u001b[0m\u001b[1;33m.\u001b[0m\u001b[0m_can_hold_identifiers_and_holds_name\u001b[0m\u001b[1;33m(\u001b[0m\u001b[0mname\u001b[0m\u001b[1;33m)\u001b[0m\u001b[1;33m:\u001b[0m\u001b[1;33m\u001b[0m\u001b[1;33m\u001b[0m\u001b[0m\n",
      "\u001b[1;32m~\\Anaconda3\\lib\\site-packages\\pandas\\core\\accessor.py\u001b[0m in \u001b[0;36m__get__\u001b[1;34m(self, obj, cls)\u001b[0m\n\u001b[0;32m    173\u001b[0m             \u001b[1;31m# we're accessing the attribute of the class, i.e., Dataset.geo\u001b[0m\u001b[1;33m\u001b[0m\u001b[1;33m\u001b[0m\u001b[1;33m\u001b[0m\u001b[0m\n\u001b[0;32m    174\u001b[0m             \u001b[1;32mreturn\u001b[0m \u001b[0mself\u001b[0m\u001b[1;33m.\u001b[0m\u001b[0m_accessor\u001b[0m\u001b[1;33m\u001b[0m\u001b[1;33m\u001b[0m\u001b[0m\n\u001b[1;32m--> 175\u001b[1;33m         \u001b[0maccessor_obj\u001b[0m \u001b[1;33m=\u001b[0m \u001b[0mself\u001b[0m\u001b[1;33m.\u001b[0m\u001b[0m_accessor\u001b[0m\u001b[1;33m(\u001b[0m\u001b[0mobj\u001b[0m\u001b[1;33m)\u001b[0m\u001b[1;33m\u001b[0m\u001b[1;33m\u001b[0m\u001b[0m\n\u001b[0m\u001b[0;32m    176\u001b[0m         \u001b[1;31m# Replace the property with the accessor object. Inspired by:\u001b[0m\u001b[1;33m\u001b[0m\u001b[1;33m\u001b[0m\u001b[1;33m\u001b[0m\u001b[0m\n\u001b[0;32m    177\u001b[0m         \u001b[1;31m# http://www.pydanny.com/cached-property.html\u001b[0m\u001b[1;33m\u001b[0m\u001b[1;33m\u001b[0m\u001b[1;33m\u001b[0m\u001b[0m\n",
      "\u001b[1;32m~\\Anaconda3\\lib\\site-packages\\pandas\\core\\strings.py\u001b[0m in \u001b[0;36m__init__\u001b[1;34m(self, data)\u001b[0m\n\u001b[0;32m   1915\u001b[0m \u001b[1;33m\u001b[0m\u001b[0m\n\u001b[0;32m   1916\u001b[0m     \u001b[1;32mdef\u001b[0m \u001b[0m__init__\u001b[0m\u001b[1;33m(\u001b[0m\u001b[0mself\u001b[0m\u001b[1;33m,\u001b[0m \u001b[0mdata\u001b[0m\u001b[1;33m)\u001b[0m\u001b[1;33m:\u001b[0m\u001b[1;33m\u001b[0m\u001b[1;33m\u001b[0m\u001b[0m\n\u001b[1;32m-> 1917\u001b[1;33m         \u001b[0mself\u001b[0m\u001b[1;33m.\u001b[0m\u001b[0m_inferred_dtype\u001b[0m \u001b[1;33m=\u001b[0m \u001b[0mself\u001b[0m\u001b[1;33m.\u001b[0m\u001b[0m_validate\u001b[0m\u001b[1;33m(\u001b[0m\u001b[0mdata\u001b[0m\u001b[1;33m)\u001b[0m\u001b[1;33m\u001b[0m\u001b[1;33m\u001b[0m\u001b[0m\n\u001b[0m\u001b[0;32m   1918\u001b[0m         \u001b[0mself\u001b[0m\u001b[1;33m.\u001b[0m\u001b[0m_is_categorical\u001b[0m \u001b[1;33m=\u001b[0m \u001b[0mis_categorical_dtype\u001b[0m\u001b[1;33m(\u001b[0m\u001b[0mdata\u001b[0m\u001b[1;33m)\u001b[0m\u001b[1;33m\u001b[0m\u001b[1;33m\u001b[0m\u001b[0m\n\u001b[0;32m   1919\u001b[0m \u001b[1;33m\u001b[0m\u001b[0m\n",
      "\u001b[1;32m~\\Anaconda3\\lib\\site-packages\\pandas\\core\\strings.py\u001b[0m in \u001b[0;36m_validate\u001b[1;34m(data)\u001b[0m\n\u001b[0;32m   1965\u001b[0m \u001b[1;33m\u001b[0m\u001b[0m\n\u001b[0;32m   1966\u001b[0m         \u001b[1;32mif\u001b[0m \u001b[0minferred_dtype\u001b[0m \u001b[1;32mnot\u001b[0m \u001b[1;32min\u001b[0m \u001b[0mallowed_types\u001b[0m\u001b[1;33m:\u001b[0m\u001b[1;33m\u001b[0m\u001b[1;33m\u001b[0m\u001b[0m\n\u001b[1;32m-> 1967\u001b[1;33m             \u001b[1;32mraise\u001b[0m \u001b[0mAttributeError\u001b[0m\u001b[1;33m(\u001b[0m\u001b[1;34m\"Can only use .str accessor with string \"\u001b[0m \u001b[1;34m\"values!\"\u001b[0m\u001b[1;33m)\u001b[0m\u001b[1;33m\u001b[0m\u001b[1;33m\u001b[0m\u001b[0m\n\u001b[0m\u001b[0;32m   1968\u001b[0m         \u001b[1;32mreturn\u001b[0m \u001b[0minferred_dtype\u001b[0m\u001b[1;33m\u001b[0m\u001b[1;33m\u001b[0m\u001b[0m\n\u001b[0;32m   1969\u001b[0m \u001b[1;33m\u001b[0m\u001b[0m\n",
      "\u001b[1;31mAttributeError\u001b[0m: Can only use .str accessor with string values!"
     ]
    }
   ],
   "source": [
    "rcp[\"Org. unit code\"].str.match(pat=\"^[0-9]{5}$\")==True"
   ]
  },
  {
   "cell_type": "code",
   "execution_count": 67,
   "metadata": {},
   "outputs": [
    {
     "ename": "AttributeError",
     "evalue": "Can only use .str accessor with string values!",
     "output_type": "error",
     "traceback": [
      "\u001b[1;31m---------------------------------------------------------------------------\u001b[0m",
      "\u001b[1;31mAttributeError\u001b[0m                            Traceback (most recent call last)",
      "\u001b[1;32m<ipython-input-67-35ab119edb2a>\u001b[0m in \u001b[0;36m<module>\u001b[1;34m\u001b[0m\n\u001b[1;32m----> 1\u001b[1;33m \u001b[0mrcp\u001b[0m\u001b[1;33m[\u001b[0m\u001b[1;34m\"Org. unit code\"\u001b[0m\u001b[1;33m]\u001b[0m \u001b[1;33m=\u001b[0m \u001b[0mrcp\u001b[0m\u001b[1;33m.\u001b[0m\u001b[0mloc\u001b[0m\u001b[1;33m[\u001b[0m\u001b[1;33m(\u001b[0m\u001b[0mrcp\u001b[0m\u001b[1;33m[\u001b[0m\u001b[1;34m\"Org. unit code\"\u001b[0m\u001b[1;33m]\u001b[0m\u001b[1;33m.\u001b[0m\u001b[0mstr\u001b[0m\u001b[1;33m.\u001b[0m\u001b[0mmatch\u001b[0m\u001b[1;33m(\u001b[0m\u001b[0mpat\u001b[0m\u001b[1;33m=\u001b[0m\u001b[1;34m\"^[0-9]{5}$\"\u001b[0m\u001b[1;33m)\u001b[0m\u001b[1;33m==\u001b[0m\u001b[1;32mTrue\u001b[0m\u001b[1;33m)\u001b[0m\u001b[1;33m,\u001b[0m\u001b[1;34m\"Org. unit code\"\u001b[0m\u001b[1;33m]\u001b[0m\u001b[1;33m.\u001b[0m\u001b[0mapply\u001b[0m\u001b[1;33m(\u001b[0m\u001b[1;32mlambda\u001b[0m \u001b[0mn\u001b[0m\u001b[1;33m:\u001b[0m \u001b[0mint\u001b[0m\u001b[1;33m(\u001b[0m\u001b[0mn\u001b[0m\u001b[1;33m)\u001b[0m\u001b[1;33m)\u001b[0m\u001b[1;33m\u001b[0m\u001b[1;33m\u001b[0m\u001b[0m\n\u001b[0m",
      "\u001b[1;32m~\\Anaconda3\\lib\\site-packages\\pandas\\core\\generic.py\u001b[0m in \u001b[0;36m__getattr__\u001b[1;34m(self, name)\u001b[0m\n\u001b[0;32m   5173\u001b[0m             \u001b[1;32mor\u001b[0m \u001b[0mname\u001b[0m \u001b[1;32min\u001b[0m \u001b[0mself\u001b[0m\u001b[1;33m.\u001b[0m\u001b[0m_accessors\u001b[0m\u001b[1;33m\u001b[0m\u001b[1;33m\u001b[0m\u001b[0m\n\u001b[0;32m   5174\u001b[0m         ):\n\u001b[1;32m-> 5175\u001b[1;33m             \u001b[1;32mreturn\u001b[0m \u001b[0mobject\u001b[0m\u001b[1;33m.\u001b[0m\u001b[0m__getattribute__\u001b[0m\u001b[1;33m(\u001b[0m\u001b[0mself\u001b[0m\u001b[1;33m,\u001b[0m \u001b[0mname\u001b[0m\u001b[1;33m)\u001b[0m\u001b[1;33m\u001b[0m\u001b[1;33m\u001b[0m\u001b[0m\n\u001b[0m\u001b[0;32m   5176\u001b[0m         \u001b[1;32melse\u001b[0m\u001b[1;33m:\u001b[0m\u001b[1;33m\u001b[0m\u001b[1;33m\u001b[0m\u001b[0m\n\u001b[0;32m   5177\u001b[0m             \u001b[1;32mif\u001b[0m \u001b[0mself\u001b[0m\u001b[1;33m.\u001b[0m\u001b[0m_info_axis\u001b[0m\u001b[1;33m.\u001b[0m\u001b[0m_can_hold_identifiers_and_holds_name\u001b[0m\u001b[1;33m(\u001b[0m\u001b[0mname\u001b[0m\u001b[1;33m)\u001b[0m\u001b[1;33m:\u001b[0m\u001b[1;33m\u001b[0m\u001b[1;33m\u001b[0m\u001b[0m\n",
      "\u001b[1;32m~\\Anaconda3\\lib\\site-packages\\pandas\\core\\accessor.py\u001b[0m in \u001b[0;36m__get__\u001b[1;34m(self, obj, cls)\u001b[0m\n\u001b[0;32m    173\u001b[0m             \u001b[1;31m# we're accessing the attribute of the class, i.e., Dataset.geo\u001b[0m\u001b[1;33m\u001b[0m\u001b[1;33m\u001b[0m\u001b[1;33m\u001b[0m\u001b[0m\n\u001b[0;32m    174\u001b[0m             \u001b[1;32mreturn\u001b[0m \u001b[0mself\u001b[0m\u001b[1;33m.\u001b[0m\u001b[0m_accessor\u001b[0m\u001b[1;33m\u001b[0m\u001b[1;33m\u001b[0m\u001b[0m\n\u001b[1;32m--> 175\u001b[1;33m         \u001b[0maccessor_obj\u001b[0m \u001b[1;33m=\u001b[0m \u001b[0mself\u001b[0m\u001b[1;33m.\u001b[0m\u001b[0m_accessor\u001b[0m\u001b[1;33m(\u001b[0m\u001b[0mobj\u001b[0m\u001b[1;33m)\u001b[0m\u001b[1;33m\u001b[0m\u001b[1;33m\u001b[0m\u001b[0m\n\u001b[0m\u001b[0;32m    176\u001b[0m         \u001b[1;31m# Replace the property with the accessor object. Inspired by:\u001b[0m\u001b[1;33m\u001b[0m\u001b[1;33m\u001b[0m\u001b[1;33m\u001b[0m\u001b[0m\n\u001b[0;32m    177\u001b[0m         \u001b[1;31m# http://www.pydanny.com/cached-property.html\u001b[0m\u001b[1;33m\u001b[0m\u001b[1;33m\u001b[0m\u001b[1;33m\u001b[0m\u001b[0m\n",
      "\u001b[1;32m~\\Anaconda3\\lib\\site-packages\\pandas\\core\\strings.py\u001b[0m in \u001b[0;36m__init__\u001b[1;34m(self, data)\u001b[0m\n\u001b[0;32m   1915\u001b[0m \u001b[1;33m\u001b[0m\u001b[0m\n\u001b[0;32m   1916\u001b[0m     \u001b[1;32mdef\u001b[0m \u001b[0m__init__\u001b[0m\u001b[1;33m(\u001b[0m\u001b[0mself\u001b[0m\u001b[1;33m,\u001b[0m \u001b[0mdata\u001b[0m\u001b[1;33m)\u001b[0m\u001b[1;33m:\u001b[0m\u001b[1;33m\u001b[0m\u001b[1;33m\u001b[0m\u001b[0m\n\u001b[1;32m-> 1917\u001b[1;33m         \u001b[0mself\u001b[0m\u001b[1;33m.\u001b[0m\u001b[0m_inferred_dtype\u001b[0m \u001b[1;33m=\u001b[0m \u001b[0mself\u001b[0m\u001b[1;33m.\u001b[0m\u001b[0m_validate\u001b[0m\u001b[1;33m(\u001b[0m\u001b[0mdata\u001b[0m\u001b[1;33m)\u001b[0m\u001b[1;33m\u001b[0m\u001b[1;33m\u001b[0m\u001b[0m\n\u001b[0m\u001b[0;32m   1918\u001b[0m         \u001b[0mself\u001b[0m\u001b[1;33m.\u001b[0m\u001b[0m_is_categorical\u001b[0m \u001b[1;33m=\u001b[0m \u001b[0mis_categorical_dtype\u001b[0m\u001b[1;33m(\u001b[0m\u001b[0mdata\u001b[0m\u001b[1;33m)\u001b[0m\u001b[1;33m\u001b[0m\u001b[1;33m\u001b[0m\u001b[0m\n\u001b[0;32m   1919\u001b[0m \u001b[1;33m\u001b[0m\u001b[0m\n",
      "\u001b[1;32m~\\Anaconda3\\lib\\site-packages\\pandas\\core\\strings.py\u001b[0m in \u001b[0;36m_validate\u001b[1;34m(data)\u001b[0m\n\u001b[0;32m   1965\u001b[0m \u001b[1;33m\u001b[0m\u001b[0m\n\u001b[0;32m   1966\u001b[0m         \u001b[1;32mif\u001b[0m \u001b[0minferred_dtype\u001b[0m \u001b[1;32mnot\u001b[0m \u001b[1;32min\u001b[0m \u001b[0mallowed_types\u001b[0m\u001b[1;33m:\u001b[0m\u001b[1;33m\u001b[0m\u001b[1;33m\u001b[0m\u001b[0m\n\u001b[1;32m-> 1967\u001b[1;33m             \u001b[1;32mraise\u001b[0m \u001b[0mAttributeError\u001b[0m\u001b[1;33m(\u001b[0m\u001b[1;34m\"Can only use .str accessor with string \"\u001b[0m \u001b[1;34m\"values!\"\u001b[0m\u001b[1;33m)\u001b[0m\u001b[1;33m\u001b[0m\u001b[1;33m\u001b[0m\u001b[0m\n\u001b[0m\u001b[0;32m   1968\u001b[0m         \u001b[1;32mreturn\u001b[0m \u001b[0minferred_dtype\u001b[0m\u001b[1;33m\u001b[0m\u001b[1;33m\u001b[0m\u001b[0m\n\u001b[0;32m   1969\u001b[0m \u001b[1;33m\u001b[0m\u001b[0m\n",
      "\u001b[1;31mAttributeError\u001b[0m: Can only use .str accessor with string values!"
     ]
    }
   ],
   "source": [
    "rcp[\"Org. unit code\"] = rcp.loc[(rcp[\"Org. unit code\"].str.match(pat=\"^[0-9]{5}$\")==True),\"Org. unit code\"].apply(lambda n: int(n))"
   ]
  },
  {
   "cell_type": "code",
   "execution_count": 68,
   "metadata": {},
   "outputs": [],
   "source": [
    "rcp_pl = pd.merge(pl, rcp, on='Org. unit code')"
   ]
  },
  {
   "cell_type": "code",
   "execution_count": 69,
   "metadata": {},
   "outputs": [
    {
     "data": {
      "text/html": [
       "<div>\n",
       "<style scoped>\n",
       "    .dataframe tbody tr th:only-of-type {\n",
       "        vertical-align: middle;\n",
       "    }\n",
       "\n",
       "    .dataframe tbody tr th {\n",
       "        vertical-align: top;\n",
       "    }\n",
       "\n",
       "    .dataframe thead th {\n",
       "        text-align: right;\n",
       "    }\n",
       "</style>\n",
       "<table border=\"1\" class=\"dataframe\">\n",
       "  <thead>\n",
       "    <tr style=\"text-align: right;\">\n",
       "      <th></th>\n",
       "      <th>Title</th>\n",
       "      <th>Name</th>\n",
       "      <th>First name</th>\n",
       "      <th>Org. unit code</th>\n",
       "      <th>Organisation</th>\n",
       "      <th>Professor</th>\n",
       "      <th>RC_ID</th>\n",
       "      <th>COLLECTION</th>\n",
       "      <th>DC_CONTRIBUTOR_AUTHOR</th>\n",
       "      <th>DC_CONTRIBUTOR_EDITOR</th>\n",
       "      <th>...</th>\n",
       "      <th>ETHZ_GRANT</th>\n",
       "      <th>ETHZ_GRANT_FUNDERDOI</th>\n",
       "      <th>ETHZ_GRANT_FUNDERNAME</th>\n",
       "      <th>ETHZ_GRANT_PROGRAM</th>\n",
       "      <th>ETHZ_IDENTIFIER_DISS</th>\n",
       "      <th>ETHZ_IDENTIFIER_PUBMED</th>\n",
       "      <th>DC_IDENTIFIER_WOS</th>\n",
       "      <th>ETHZ_IDENTIFIER_ORCIDWORKCODE</th>\n",
       "      <th>DC_CONTRIBUTOR_OTHER</th>\n",
       "      <th>ETHZ_IDENTIFIER_ARXIV</th>\n",
       "    </tr>\n",
       "  </thead>\n",
       "  <tbody>\n",
       "  </tbody>\n",
       "</table>\n",
       "<p>0 rows × 47 columns</p>\n",
       "</div>"
      ],
      "text/plain": [
       "Empty DataFrame\n",
       "Columns: [Title, Name, First name, Org. unit code, Organisation, Professor, RC_ID, COLLECTION, DC_CONTRIBUTOR_AUTHOR, DC_CONTRIBUTOR_EDITOR, DC_DATE_ISSUED, DC_DATE_PUBLISHED, DC_IDENTIFIER_DOI, DC_IDENTIFIER_ISBN, DC_IDENTIFIER_ISSN, DC_IDENTIFIER_OTHER, DC_IDENTIFIER_URI, DC_TITLE, DC_TITLE_ALTERNATIVE, DC_TYPE, ETHZ_AVAILABILITY, ETHZ_BOOK_TITLE, ETHZ_ETH, ETHZ_EVENT, ETHZ_EVENT_DATE, ETHZ_EVENT_LOCATION, ETHZ_IDENTIFIER_SCOPUS, ETHZ_IDENTIFIER_URL, ETHZ_IDENTIFIER_WOS, ETHZ_JOURNAL_ABBREVIATED, ETHZ_JOURNAL_ISSUE, ETHZ_JOURNAL_TITLE, ETHZ_JOURNAL_VOLUME, ETHZ_PAGES_END, ETHZ_PAGES_START, ETHZ_PUBLICATION_PLACE, ETHZ_TITLE_SUBTITLE, ETHZ_GRANT, ETHZ_GRANT_FUNDERDOI, ETHZ_GRANT_FUNDERNAME, ETHZ_GRANT_PROGRAM, ETHZ_IDENTIFIER_DISS, ETHZ_IDENTIFIER_PUBMED, DC_IDENTIFIER_WOS, ETHZ_IDENTIFIER_ORCIDWORKCODE, DC_CONTRIBUTOR_OTHER, ETHZ_IDENTIFIER_ARXIV]\n",
       "Index: []\n",
       "\n",
       "[0 rows x 47 columns]"
      ]
     },
     "execution_count": 69,
     "metadata": {},
     "output_type": "execute_result"
    }
   ],
   "source": [
    "rcp_pl.loc[(rcp_pl[\"Organisation\"]==\"Institute for Machine Learning\"),:]"
   ]
  },
  {
   "cell_type": "markdown",
   "metadata": {},
   "source": [
    "### Merging rcp and pl on professors' names"
   ]
  },
  {
   "cell_type": "code",
   "execution_count": 70,
   "metadata": {},
   "outputs": [],
   "source": [
    "# filtering pl\n",
    "pl_f = pl[[\"Organisation\",\"Professor\",\"Org. unit code\"]]"
   ]
  },
  {
   "cell_type": "code",
   "execution_count": 71,
   "metadata": {},
   "outputs": [],
   "source": [
    "rc_m = pl_f.merge(rcp_ff_e,how=\"outer\",left_on=\"Professor\",right_on=\"DC_CONTRIBUTOR_AUTHOR\")"
   ]
  },
  {
   "cell_type": "code",
   "execution_count": 72,
   "metadata": {
    "scrolled": false
   },
   "outputs": [
    {
     "data": {
      "text/html": [
       "<div>\n",
       "<style scoped>\n",
       "    .dataframe tbody tr th:only-of-type {\n",
       "        vertical-align: middle;\n",
       "    }\n",
       "\n",
       "    .dataframe tbody tr th {\n",
       "        vertical-align: top;\n",
       "    }\n",
       "\n",
       "    .dataframe thead th {\n",
       "        text-align: right;\n",
       "    }\n",
       "</style>\n",
       "<table border=\"1\" class=\"dataframe\">\n",
       "  <thead>\n",
       "    <tr style=\"text-align: right;\">\n",
       "      <th></th>\n",
       "      <th>Organisation</th>\n",
       "      <th>Professor</th>\n",
       "      <th>Org. unit code</th>\n",
       "      <th>RC_ID</th>\n",
       "      <th>DC_CONTRIBUTOR_AUTHOR</th>\n",
       "      <th>DC_DATE_ISSUED</th>\n",
       "      <th>DC_TITLE</th>\n",
       "      <th>DC_TYPE</th>\n",
       "      <th>ETHZ_JOURNAL_TITLE</th>\n",
       "    </tr>\n",
       "  </thead>\n",
       "  <tbody>\n",
       "    <tr>\n",
       "      <td>0</td>\n",
       "      <td>Institute of Energy Technology (former)</td>\n",
       "      <td>Abhari, Reza S.</td>\n",
       "      <td>2627.0</td>\n",
       "      <td>253873.0</td>\n",
       "      <td>Abhari, Reza S.</td>\n",
       "      <td>2008</td>\n",
       "      <td>The Dynamics of the Vorticity Field in a Low S...</td>\n",
       "      <td>Other Conference Item</td>\n",
       "      <td>NaN</td>\n",
       "    </tr>\n",
       "    <tr>\n",
       "      <td>1</td>\n",
       "      <td>Institute of Energy Technology (former)</td>\n",
       "      <td>Abhari, Reza S.</td>\n",
       "      <td>2627.0</td>\n",
       "      <td>13706.0</td>\n",
       "      <td>Abhari, Reza S.</td>\n",
       "      <td>2008</td>\n",
       "      <td>Aerothermal Performance of Streamwise and Comp...</td>\n",
       "      <td>Conference Paper</td>\n",
       "      <td>NaN</td>\n",
       "    </tr>\n",
       "    <tr>\n",
       "      <td>2</td>\n",
       "      <td>Institute of Energy Technology (former)</td>\n",
       "      <td>Abhari, Reza S.</td>\n",
       "      <td>2627.0</td>\n",
       "      <td>16637.0</td>\n",
       "      <td>Abhari, Reza S.</td>\n",
       "      <td>2008</td>\n",
       "      <td>Unsteady CFD Investigation on Inlet Distortion...</td>\n",
       "      <td>Conference Paper</td>\n",
       "      <td>Proceedings of the ASME Turbo Expo</td>\n",
       "    </tr>\n",
       "    <tr>\n",
       "      <td>3</td>\n",
       "      <td>Institute of Energy Technology (former)</td>\n",
       "      <td>Abhari, Reza S.</td>\n",
       "      <td>2627.0</td>\n",
       "      <td>13724.0</td>\n",
       "      <td>Abhari, Reza S.</td>\n",
       "      <td>2008</td>\n",
       "      <td>Improving efficiency of a high work turbine us...</td>\n",
       "      <td>Conference Paper</td>\n",
       "      <td>NaN</td>\n",
       "    </tr>\n",
       "    <tr>\n",
       "      <td>4</td>\n",
       "      <td>Institute of Energy Technology (former)</td>\n",
       "      <td>Abhari, Reza S.</td>\n",
       "      <td>2627.0</td>\n",
       "      <td>13723.0</td>\n",
       "      <td>Abhari, Reza S.</td>\n",
       "      <td>2008</td>\n",
       "      <td>An Improved Feature-Based Jet Model for Modeli...</td>\n",
       "      <td>Conference Paper</td>\n",
       "      <td>NaN</td>\n",
       "    </tr>\n",
       "  </tbody>\n",
       "</table>\n",
       "</div>"
      ],
      "text/plain": [
       "                              Organisation        Professor  Org. unit code  \\\n",
       "0  Institute of Energy Technology (former)  Abhari, Reza S.          2627.0   \n",
       "1  Institute of Energy Technology (former)  Abhari, Reza S.          2627.0   \n",
       "2  Institute of Energy Technology (former)  Abhari, Reza S.          2627.0   \n",
       "3  Institute of Energy Technology (former)  Abhari, Reza S.          2627.0   \n",
       "4  Institute of Energy Technology (former)  Abhari, Reza S.          2627.0   \n",
       "\n",
       "      RC_ID DC_CONTRIBUTOR_AUTHOR DC_DATE_ISSUED  \\\n",
       "0  253873.0       Abhari, Reza S.           2008   \n",
       "1   13706.0       Abhari, Reza S.           2008   \n",
       "2   16637.0       Abhari, Reza S.           2008   \n",
       "3   13724.0       Abhari, Reza S.           2008   \n",
       "4   13723.0       Abhari, Reza S.           2008   \n",
       "\n",
       "                                            DC_TITLE                DC_TYPE  \\\n",
       "0  The Dynamics of the Vorticity Field in a Low S...  Other Conference Item   \n",
       "1  Aerothermal Performance of Streamwise and Comp...       Conference Paper   \n",
       "2  Unsteady CFD Investigation on Inlet Distortion...       Conference Paper   \n",
       "3  Improving efficiency of a high work turbine us...       Conference Paper   \n",
       "4  An Improved Feature-Based Jet Model for Modeli...       Conference Paper   \n",
       "\n",
       "                   ETHZ_JOURNAL_TITLE  \n",
       "0                                 NaN  \n",
       "1                                 NaN  \n",
       "2  Proceedings of the ASME Turbo Expo  \n",
       "3                                 NaN  \n",
       "4                                 NaN  "
      ]
     },
     "execution_count": 72,
     "metadata": {},
     "output_type": "execute_result"
    }
   ],
   "source": [
    "rc_m.head()"
   ]
  },
  {
   "cell_type": "code",
   "execution_count": 131,
   "metadata": {},
   "outputs": [
    {
     "name": "stdout",
     "output_type": "stream",
     "text": [
      "                       ETHZ_JOURNAL_TITLE  DC_TITLE  DC_CONTRIBUTOR_AUTHOR\n",
      "154                   ACM SIGPLAN Notices       106                    106\n",
      "167          ACM Transactions on Graphics       711                    711\n",
      "187  ACS Applied Materials and Interfaces       808                    808\n",
      "191                         ACS Catalysis       494                    494\n",
      "193                  ACS Chemical Biology       209                    209\n",
      "number of rows with publication in journals with more than 100 ETH entries: 682\n"
     ]
    }
   ],
   "source": [
    "rc_m_count = pd.DataFrame(rc_m[['ETHZ_JOURNAL_TITLE', 'DC_TITLE', 'DC_CONTRIBUTOR_AUTHOR']].groupby('ETHZ_JOURNAL_TITLE').count())\n",
    "rc_m_df = rc_m_count.reset_index()\n",
    "rc_m_reduced = rc_m_df.loc[rc_m_df['DC_TITLE'] > 100,:]\n",
    "print(rc_m_reduced.head())\n",
    "print('number of rows with publication in journals with more than 100 ETH entries:',len(rc_m_reduced))"
   ]
  },
  {
   "cell_type": "code",
   "execution_count": 82,
   "metadata": {},
   "outputs": [],
   "source": [
    "rc_m_reduced.to_csv('publications.csv',index = False)"
   ]
  },
  {
   "cell_type": "markdown",
   "metadata": {},
   "source": [
    "- find a way to import into neo4j (probably dumping into json -> organising into a dictionary)\n",
    "- visualizations "
   ]
  },
  {
   "cell_type": "markdown",
   "metadata": {},
   "source": [
    "## Visualisation - not super useful right now but could be useful if we narrow down on area of research"
   ]
  },
  {
   "cell_type": "code",
   "execution_count": 53,
   "metadata": {
    "scrolled": true
   },
   "outputs": [
    {
     "name": "stdout",
     "output_type": "stream",
     "text": [
      "<class 'pandas.core.frame.DataFrame'>\n",
      "Int64Index: 527256 entries, 0 to 527255\n",
      "Data columns (total 9 columns):\n",
      "Organisation             47626 non-null object\n",
      "Professor                47626 non-null object\n",
      "Org. unit code           47626 non-null float64\n",
      "RC_ID                    527138 non-null float64\n",
      "DC_CONTRIBUTOR_AUTHOR    527130 non-null object\n",
      "DC_DATE_ISSUED           525905 non-null object\n",
      "DC_TITLE                 527138 non-null object\n",
      "DC_TYPE                  527138 non-null object\n",
      "ETHZ_JOURNAL_TITLE       444298 non-null object\n",
      "dtypes: float64(2), object(7)\n",
      "memory usage: 40.2+ MB\n"
     ]
    }
   ],
   "source": [
    "rc_m.info() # 47626 entries"
   ]
  },
  {
   "cell_type": "code",
   "execution_count": 67,
   "metadata": {},
   "outputs": [
    {
     "data": {
      "text/plain": [
       "11881"
      ]
     },
     "execution_count": 67,
     "metadata": {},
     "output_type": "execute_result"
    }
   ],
   "source": [
    "#Check number of unique journals\n",
    "len(rc_m.ETHZ_JOURNAL_TITLE.unique()) # 11881 unique journals"
   ]
  },
  {
   "cell_type": "code",
   "execution_count": 79,
   "metadata": {
    "scrolled": false
   },
   "outputs": [],
   "source": [
    "rc_mp = rc_m[rc_m.groupby('ETHZ_JOURNAL_TITLE').ETHZ_JOURNAL_TITLE.transform('count')>100].copy() "
   ]
  },
  {
   "cell_type": "code",
   "execution_count": 80,
   "metadata": {
    "scrolled": true
   },
   "outputs": [
    {
     "data": {
      "text/plain": [
       "682"
      ]
     },
     "execution_count": 80,
     "metadata": {},
     "output_type": "execute_result"
    }
   ],
   "source": [
    "len(rc_mp.groupby(\"ETHZ_JOURNAL_TITLE\")[\"RC_ID\"].count().sort_values(ascending=False))"
   ]
  },
  {
   "cell_type": "code",
   "execution_count": 127,
   "metadata": {},
   "outputs": [
    {
     "data": {
      "text/plain": [
       "ETHZ_JOURNAL_TITLE\n",
       "Astronomy & Astrophysics                             AxesSubplot(0.125,0.125;0.775x0.755)\n",
       "Journal of High Energy Physics                       AxesSubplot(0.125,0.125;0.775x0.755)\n",
       "Monthly Notices of the Royal Astronomical Society    AxesSubplot(0.125,0.125;0.775x0.755)\n",
       "PLoS ONE                                             AxesSubplot(0.125,0.125;0.775x0.755)\n",
       "Physical Review B                                    AxesSubplot(0.125,0.125;0.775x0.755)\n",
       "Physical Review D                                    AxesSubplot(0.125,0.125;0.775x0.755)\n",
       "Physical Review Letters                              AxesSubplot(0.125,0.125;0.775x0.755)\n",
       "Physics Letters B                                    AxesSubplot(0.125,0.125;0.775x0.755)\n",
       "The Astrophysical Journal                            AxesSubplot(0.125,0.125;0.775x0.755)\n",
       "Name: RC_ID, dtype: object"
      ]
     },
     "execution_count": 127,
     "metadata": {},
     "output_type": "execute_result"
    },
    {
     "data": {
      "image/png": "[encoded data removed]",
      "text/plain": [
       "<Figure size 432x288 with 1 Axes>"
      ]
     },
     "metadata": {
      "needs_background": "light"
     },
     "output_type": "display_data"
    }
   ],
   "source": [
    "rc_mp.groupby(\"ETHZ_JOURNAL_TITLE\")[\"RC_ID\"].plot.bar()"
   ]
  },
  {
   "cell_type": "markdown",
   "metadata": {},
   "source": [
    "# ResearchCollection.xlsx\n"
   ]
  },
  {
   "cell_type": "code",
   "execution_count": 54,
   "metadata": {},
   "outputs": [],
   "source": [
    "rc = pd.read_excel(\"ResearchCollection.xlsx\")"
   ]
  },
  {
   "cell_type": "code",
   "execution_count": 55,
   "metadata": {},
   "outputs": [
    {
     "data": {
      "text/html": [
       "<div>\n",
       "<style scoped>\n",
       "    .dataframe tbody tr th:only-of-type {\n",
       "        vertical-align: middle;\n",
       "    }\n",
       "\n",
       "    .dataframe tbody tr th {\n",
       "        vertical-align: top;\n",
       "    }\n",
       "\n",
       "    .dataframe thead th {\n",
       "        text-align: right;\n",
       "    }\n",
       "</style>\n",
       "<table border=\"1\" class=\"dataframe\">\n",
       "  <thead>\n",
       "    <tr style=\"text-align: right;\">\n",
       "      <th></th>\n",
       "      <th>NAME</th>\n",
       "      <th>SHORTNAME</th>\n",
       "      <th>TIMESTAMP</th>\n",
       "      <th>RESEARCH_OVERVIEW</th>\n",
       "      <th>DEPARTMENT_RESEARCH_WEBSITE</th>\n",
       "    </tr>\n",
       "  </thead>\n",
       "  <tbody>\n",
       "    <tr>\n",
       "      <td>0</td>\n",
       "      <td>Architecture</td>\n",
       "      <td>D-ARCH</td>\n",
       "      <td>2020-05-08 17:50:35</td>\n",
       "      <td>D-ARCH_2020-05-08_17_50_35</td>\n",
       "      <td>https://arch.ethz.ch/en/forschung.html</td>\n",
       "    </tr>\n",
       "    <tr>\n",
       "      <td>1</td>\n",
       "      <td>Civil, Environmental and Geomatic Engineering</td>\n",
       "      <td>D-BAUG</td>\n",
       "      <td>2020-10-08 15:38:04</td>\n",
       "      <td>D-BAUG_2020-10-08_15_38_04</td>\n",
       "      <td>https://baug.ethz.ch/en/research.html</td>\n",
       "    </tr>\n",
       "    <tr>\n",
       "      <td>2</td>\n",
       "      <td>Biosystems Science and Engineering</td>\n",
       "      <td>D-BSSE</td>\n",
       "      <td>2020-10-08 15:38:04</td>\n",
       "      <td>D-BSSE_2020-10-08_15_38_04</td>\n",
       "      <td>https://bsse.ethz.ch/research.html</td>\n",
       "    </tr>\n",
       "    <tr>\n",
       "      <td>3</td>\n",
       "      <td>Computer Science</td>\n",
       "      <td>D-INFK</td>\n",
       "      <td>2020-10-08 15:42:40</td>\n",
       "      <td>D-INFK_2020-10-08_15_42_40</td>\n",
       "      <td>https://inf.ethz.ch/research.html</td>\n",
       "    </tr>\n",
       "    <tr>\n",
       "      <td>4</td>\n",
       "      <td>Information Technology and Electrical Engineering</td>\n",
       "      <td>D-ITET</td>\n",
       "      <td>2020-10-08 15:42:40</td>\n",
       "      <td>D-ITET_2020-10-08_15_42_40</td>\n",
       "      <td>https://ee.ethz.ch/research.html</td>\n",
       "    </tr>\n",
       "  </tbody>\n",
       "</table>\n",
       "</div>"
      ],
      "text/plain": [
       "                                                NAME SHORTNAME  \\\n",
       "0                                       Architecture    D-ARCH   \n",
       "1      Civil, Environmental and Geomatic Engineering    D-BAUG   \n",
       "2                 Biosystems Science and Engineering    D-BSSE   \n",
       "3                                   Computer Science    D-INFK   \n",
       "4  Information Technology and Electrical Engineering    D-ITET   \n",
       "\n",
       "             TIMESTAMP           RESEARCH_OVERVIEW  \\\n",
       "0  2020-05-08 17:50:35  D-ARCH_2020-05-08_17_50_35   \n",
       "1  2020-10-08 15:38:04  D-BAUG_2020-10-08_15_38_04   \n",
       "2  2020-10-08 15:38:04  D-BSSE_2020-10-08_15_38_04   \n",
       "3  2020-10-08 15:42:40  D-INFK_2020-10-08_15_42_40   \n",
       "4  2020-10-08 15:42:40  D-ITET_2020-10-08_15_42_40   \n",
       "\n",
       "              DEPARTMENT_RESEARCH_WEBSITE  \n",
       "0  https://arch.ethz.ch/en/forschung.html  \n",
       "1   https://baug.ethz.ch/en/research.html  \n",
       "2      https://bsse.ethz.ch/research.html  \n",
       "3       https://inf.ethz.ch/research.html  \n",
       "4        https://ee.ethz.ch/research.html  "
      ]
     },
     "execution_count": 55,
     "metadata": {},
     "output_type": "execute_result"
    }
   ],
   "source": [
    "rc.head()"
   ]
  },
  {
   "cell_type": "code",
   "execution_count": 56,
   "metadata": {},
   "outputs": [
    {
     "data": {
      "text/plain": [
       "NAME                           0\n",
       "SHORTNAME                      0\n",
       "TIMESTAMP                      0\n",
       "RESEARCH_OVERVIEW              0\n",
       "DEPARTMENT_RESEARCH_WEBSITE    0\n",
       "dtype: int64"
      ]
     },
     "execution_count": 56,
     "metadata": {},
     "output_type": "execute_result"
    }
   ],
   "source": [
    "# nulls for columns\n",
    "rc.isnull().sum(axis=0)"
   ]
  },
  {
   "cell_type": "markdown",
   "metadata": {},
   "source": [
    "## Exploring sub-selection options\n",
    "\n",
    "#### This is code that is dumped from Data import"
   ]
  },
  {
   "cell_type": "code",
   "execution_count": null,
   "metadata": {},
   "outputs": [],
   "source": [
    "rc_m.groupby(\"department_name\").size().sort_values(ascending=False)"
   ]
  },
  {
   "cell_type": "code",
   "execution_count": null,
   "metadata": {},
   "outputs": [],
   "source": [
    "titlexdep = pd.DataFrame(rc_m[[\"department_code\",\"title\"]].groupby(\"title\").count())"
   ]
  },
  {
   "cell_type": "code",
   "execution_count": null,
   "metadata": {},
   "outputs": [],
   "source": [
    "titlexdep= titlexdep.reset_index()"
   ]
  },
  {
   "cell_type": "code",
   "execution_count": null,
   "metadata": {},
   "outputs": [],
   "source": [
    "titlexdep.columns = [\"title\",\"num_dept\"]"
   ]
  },
  {
   "cell_type": "code",
   "execution_count": null,
   "metadata": {},
   "outputs": [],
   "source": [
    "temp_df = titlexdep.merge(rc_m,how=\"right\",left_on=\"title\",right_on=\"title\")"
   ]
  },
  {
   "cell_type": "code",
   "execution_count": null,
   "metadata": {},
   "outputs": [],
   "source": [
    "temp_df[[\"department_name\",\"num_dept\"]].groupby(\"department_name\").mean().sort_values(by=\"num_dept\",ascending=False)"
   ]
  },
  {
   "cell_type": "code",
   "execution_count": null,
   "metadata": {},
   "outputs": [],
   "source": [
    "rc_m.isnull().sum(axis=0)"
   ]
  },
  {
   "cell_type": "markdown",
   "metadata": {},
   "source": [
    "**Complete file**"
   ]
  },
  {
   "cell_type": "markdown",
   "metadata": {},
   "source": [
    "This file matches the D-ARCH file through the departments' name. <br>\n",
    "Integrates departments info and websites links.\n",
    "\n",
    "Andreas: Is this data needed at this point?"
   ]
  },
  {
   "cell_type": "markdown",
   "metadata": {},
   "source": [
    "--- \n",
    "\n",
    "# Creating a final structure\n",
    "\n",
    "(In my opinion) the best final data structure is a dictionary (aka a tree) - can be dumped into a json file - which is easy to load into a neo4j graph. <br>\n",
    "In this section all the code to save the selected and integrated data into a dictionary.\n",
    "\n",
    "Andreas: Yes good idea. But we could also just directly dump a dataframe into a json right? Since pandas supports nested structures. "
   ]
  },
  {
   "cell_type": "markdown",
   "metadata": {},
   "source": [
    "TODO:\n",
    "* Write a function that joins authors in rcp with professors in pl\n",
    "* Select relevant fields in first stage of the graph building and put in dataframe or dictionary\n",
    "* Export as json"
   ]
  },
  {
   "cell_type": "code",
   "execution_count": null,
   "metadata": {},
   "outputs": [],
   "source": []
  },
  {
   "cell_type": "code",
   "execution_count": null,
   "metadata": {},
   "outputs": [],
   "source": []
  }
 ],
 "metadata": {
  "kernelspec": {
   "display_name": "Python 3",
   "language": "python",
   "name": "python3"
  },
  "language_info": {
   "codemirror_mode": {
    "name": "ipython",
    "version": 3
   },
   "file_extension": ".py",
   "mimetype": "text/x-python",
   "name": "python",
   "nbconvert_exporter": "python",
   "pygments_lexer": "ipython3",
   "version": "3.7.6"
  }
 },
 "nbformat": 4,
 "nbformat_minor": 2
}
