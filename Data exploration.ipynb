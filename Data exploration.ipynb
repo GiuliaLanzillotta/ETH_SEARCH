{
 "cells": [
  {
   "cell_type": "code",
   "execution_count": 1,
   "metadata": {},
   "outputs": [],
   "source": [
    "import os \n",
    "import csv\n",
    "import pandas as pd"
   ]
  },
  {
   "cell_type": "markdown",
   "metadata": {},
   "source": [
    "The goal of this notebook is to explore the content of the listed below files, **identifying in which input fields the useful information lies, pinpointing the connections btw the files, and to merge all the data into a structure** which is ready to be fed into the graph."
   ]
  },
  {
   "cell_type": "code",
   "execution_count": 2,
   "metadata": {},
   "outputs": [
    {
     "name": "stdout",
     "output_type": "stream",
     "text": [
      "1.0.0\n",
      "D-ARCH.xlsx\n",
      "Data exploration.ipynb\n",
      "Data Overview.docx\n",
      "DSL_2020_Project_Data_Agreement.pdf\n",
      "ETH Professor list.xlsx\n",
      "Exercise12_GraphDatabases.ipynb\n",
      "Maurer_Hansruedi_2020-10-08_16_28_49.doc\n",
      "RCP2.csv\n",
      "ResearchCollection.xlsx\n",
      "ResearchCollectionPublications2008_2018.tsv\n",
      "~$ta Overview.docx\n"
     ]
    }
   ],
   "source": [
    "#Available data - files\n",
    "files = [f for f in os.listdir('.') if os.path.isfile(f)]\n",
    "for f in files: print(f)"
   ]
  },
  {
   "cell_type": "markdown",
   "metadata": {},
   "source": [
    "# ResearchCollectionPublications2008_2018.tsv"
   ]
  },
  {
   "cell_type": "code",
   "execution_count": 2,
   "metadata": {},
   "outputs": [
    {
     "name": "stderr",
     "output_type": "stream",
     "text": [
      "c:\\users\\giulia\\appdata\\local\\programs\\python\\python37\\lib\\site-packages\\IPython\\core\\interactiveshell.py:3058: DtypeWarning: Columns (20,37,40,41) have mixed types. Specify dtype option on import or set low_memory=False.\n",
      "  interactivity=interactivity, compiler=compiler, result=result)\n"
     ]
    }
   ],
   "source": [
    "rcp = pd.read_csv(\"ResearchCollectionPublications2008_2018.tsv\", sep=\"\\t\", header=0, encoding=\"latin-1\") #utf8 not working..."
   ]
  },
  {
   "cell_type": "code",
   "execution_count": 12,
   "metadata": {},
   "outputs": [
    {
     "data": {
      "text/html": [
       "<div>\n",
       "<style scoped>\n",
       "    .dataframe tbody tr th:only-of-type {\n",
       "        vertical-align: middle;\n",
       "    }\n",
       "\n",
       "    .dataframe tbody tr th {\n",
       "        vertical-align: top;\n",
       "    }\n",
       "\n",
       "    .dataframe thead th {\n",
       "        text-align: right;\n",
       "    }\n",
       "</style>\n",
       "<table border=\"1\" class=\"dataframe\">\n",
       "  <thead>\n",
       "    <tr style=\"text-align: right;\">\n",
       "      <th></th>\n",
       "      <th>RC_ID</th>\n",
       "      <th>COLLECTION</th>\n",
       "      <th>DC_CONTRIBUTOR_AUTHOR</th>\n",
       "      <th>DC_CONTRIBUTOR_EDITOR</th>\n",
       "      <th>DC_DATE_ISSUED</th>\n",
       "      <th>DC_DATE_PUBLISHED</th>\n",
       "      <th>DC_IDENTIFIER_DOI</th>\n",
       "      <th>DC_IDENTIFIER_ISBN</th>\n",
       "      <th>DC_IDENTIFIER_ISSN</th>\n",
       "      <th>DC_IDENTIFIER_OTHER</th>\n",
       "      <th>...</th>\n",
       "      <th>ETHZ_GRANT</th>\n",
       "      <th>ETHZ_GRANT_FUNDERDOI</th>\n",
       "      <th>ETHZ_GRANT_FUNDERNAME</th>\n",
       "      <th>ETHZ_GRANT_PROGRAM</th>\n",
       "      <th>ETHZ_IDENTIFIER_DISS</th>\n",
       "      <th>ETHZ_IDENTIFIER_PUBMED</th>\n",
       "      <th>DC_IDENTIFIER_WOS</th>\n",
       "      <th>ETHZ_IDENTIFIER_ORCIDWORKCODE</th>\n",
       "      <th>DC_CONTRIBUTOR_OTHER</th>\n",
       "      <th>ETHZ_IDENTIFIER_ARXIV</th>\n",
       "    </tr>\n",
       "  </thead>\n",
       "  <tbody>\n",
       "    <tr>\n",
       "      <th>0</th>\n",
       "      <td>241217</td>\n",
       "      <td>NaN</td>\n",
       "      <td>Renner, Renato</td>\n",
       "      <td>Kao, Ming-Yang</td>\n",
       "      <td>2008</td>\n",
       "      <td>NaN</td>\n",
       "      <td>NaN</td>\n",
       "      <td>978-0-387-30770-1</td>\n",
       "      <td>NaN</td>\n",
       "      <td>NaN</td>\n",
       "      <td>...</td>\n",
       "      <td>NaN</td>\n",
       "      <td>NaN</td>\n",
       "      <td>NaN</td>\n",
       "      <td>NaN</td>\n",
       "      <td>NaN</td>\n",
       "      <td>NaN</td>\n",
       "      <td>NaN</td>\n",
       "      <td>NaN</td>\n",
       "      <td>NaN</td>\n",
       "      <td>NaN</td>\n",
       "    </tr>\n",
       "    <tr>\n",
       "      <th>1</th>\n",
       "      <td>11574</td>\n",
       "      <td>NaN</td>\n",
       "      <td>Diekmann, Andreas||Jann, Ben</td>\n",
       "      <td>Farzin, Sina||Jordan, Stefan</td>\n",
       "      <td>2008</td>\n",
       "      <td>NaN</td>\n",
       "      <td>NaN</td>\n",
       "      <td>978-3-15-010661-7</td>\n",
       "      <td>NaN</td>\n",
       "      <td>NaN</td>\n",
       "      <td>...</td>\n",
       "      <td>NaN</td>\n",
       "      <td>NaN</td>\n",
       "      <td>NaN</td>\n",
       "      <td>NaN</td>\n",
       "      <td>NaN</td>\n",
       "      <td>NaN</td>\n",
       "      <td>NaN</td>\n",
       "      <td>NaN</td>\n",
       "      <td>NaN</td>\n",
       "      <td>NaN</td>\n",
       "    </tr>\n",
       "    <tr>\n",
       "      <th>2</th>\n",
       "      <td>202843</td>\n",
       "      <td>20.500.11850/13</td>\n",
       "      <td>NaN</td>\n",
       "      <td>Glaser, Marie A.</td>\n",
       "      <td>2008</td>\n",
       "      <td>NaN</td>\n",
       "      <td>NaN</td>\n",
       "      <td>978-3-0377-8111-1</td>\n",
       "      <td>NaN</td>\n",
       "      <td>NaN</td>\n",
       "      <td>...</td>\n",
       "      <td>NaN</td>\n",
       "      <td>NaN</td>\n",
       "      <td>NaN</td>\n",
       "      <td>NaN</td>\n",
       "      <td>NaN</td>\n",
       "      <td>NaN</td>\n",
       "      <td>NaN</td>\n",
       "      <td>NaN</td>\n",
       "      <td>NaN</td>\n",
       "      <td>NaN</td>\n",
       "    </tr>\n",
       "    <tr>\n",
       "      <th>3</th>\n",
       "      <td>4209</td>\n",
       "      <td>NaN</td>\n",
       "      <td>Becchi, Antonio||Ducic, Sandra||Oechslin, Wern...</td>\n",
       "      <td>Stiftung Bibliothek Werner Oechslin</td>\n",
       "      <td>2008</td>\n",
       "      <td>NaN</td>\n",
       "      <td>NaN</td>\n",
       "      <td>3-85676-231-0||978-3-85676-231-5</td>\n",
       "      <td>NaN</td>\n",
       "      <td>NaN</td>\n",
       "      <td>...</td>\n",
       "      <td>NaN</td>\n",
       "      <td>NaN</td>\n",
       "      <td>NaN</td>\n",
       "      <td>NaN</td>\n",
       "      <td>NaN</td>\n",
       "      <td>NaN</td>\n",
       "      <td>NaN</td>\n",
       "      <td>NaN</td>\n",
       "      <td>NaN</td>\n",
       "      <td>NaN</td>\n",
       "    </tr>\n",
       "    <tr>\n",
       "      <th>4</th>\n",
       "      <td>203598</td>\n",
       "      <td>20.500.11850/13</td>\n",
       "      <td>NaN</td>\n",
       "      <td>Cramm, Wolf-Jürgen||Keil, Geert</td>\n",
       "      <td>2008</td>\n",
       "      <td>NaN</td>\n",
       "      <td>NaN</td>\n",
       "      <td>978-3-9388-0845-0</td>\n",
       "      <td>NaN</td>\n",
       "      <td>NaN</td>\n",
       "      <td>...</td>\n",
       "      <td>NaN</td>\n",
       "      <td>NaN</td>\n",
       "      <td>NaN</td>\n",
       "      <td>NaN</td>\n",
       "      <td>NaN</td>\n",
       "      <td>NaN</td>\n",
       "      <td>NaN</td>\n",
       "      <td>NaN</td>\n",
       "      <td>NaN</td>\n",
       "      <td>NaN</td>\n",
       "    </tr>\n",
       "  </tbody>\n",
       "</table>\n",
       "<p>5 rows × 42 columns</p>\n",
       "</div>"
      ],
      "text/plain": [
       "    RC_ID       COLLECTION                              DC_CONTRIBUTOR_AUTHOR  \\\n",
       "0  241217              NaN                                     Renner, Renato   \n",
       "1   11574              NaN                       Diekmann, Andreas||Jann, Ben   \n",
       "2  202843  20.500.11850/13                                                NaN   \n",
       "3    4209              NaN  Becchi, Antonio||Ducic, Sandra||Oechslin, Wern...   \n",
       "4  203598  20.500.11850/13                                                NaN   \n",
       "\n",
       "                 DC_CONTRIBUTOR_EDITOR DC_DATE_ISSUED DC_DATE_PUBLISHED  \\\n",
       "0                       Kao, Ming-Yang           2008               NaN   \n",
       "1         Farzin, Sina||Jordan, Stefan           2008               NaN   \n",
       "2                     Glaser, Marie A.           2008               NaN   \n",
       "3  Stiftung Bibliothek Werner Oechslin           2008               NaN   \n",
       "4      Cramm, Wolf-Jürgen||Keil, Geert           2008               NaN   \n",
       "\n",
       "  DC_IDENTIFIER_DOI                DC_IDENTIFIER_ISBN DC_IDENTIFIER_ISSN  \\\n",
       "0               NaN                 978-0-387-30770-1                NaN   \n",
       "1               NaN                 978-3-15-010661-7                NaN   \n",
       "2               NaN                 978-3-0377-8111-1                NaN   \n",
       "3               NaN  3-85676-231-0||978-3-85676-231-5                NaN   \n",
       "4               NaN                 978-3-9388-0845-0                NaN   \n",
       "\n",
       "  DC_IDENTIFIER_OTHER  ... ETHZ_GRANT ETHZ_GRANT_FUNDERDOI  \\\n",
       "0                 NaN  ...        NaN                  NaN   \n",
       "1                 NaN  ...        NaN                  NaN   \n",
       "2                 NaN  ...        NaN                  NaN   \n",
       "3                 NaN  ...        NaN                  NaN   \n",
       "4                 NaN  ...        NaN                  NaN   \n",
       "\n",
       "  ETHZ_GRANT_FUNDERNAME ETHZ_GRANT_PROGRAM ETHZ_IDENTIFIER_DISS  \\\n",
       "0                   NaN                NaN                  NaN   \n",
       "1                   NaN                NaN                  NaN   \n",
       "2                   NaN                NaN                  NaN   \n",
       "3                   NaN                NaN                  NaN   \n",
       "4                   NaN                NaN                  NaN   \n",
       "\n",
       "  ETHZ_IDENTIFIER_PUBMED DC_IDENTIFIER_WOS ETHZ_IDENTIFIER_ORCIDWORKCODE  \\\n",
       "0                    NaN               NaN                           NaN   \n",
       "1                    NaN               NaN                           NaN   \n",
       "2                    NaN               NaN                           NaN   \n",
       "3                    NaN               NaN                           NaN   \n",
       "4                    NaN               NaN                           NaN   \n",
       "\n",
       "  DC_CONTRIBUTOR_OTHER ETHZ_IDENTIFIER_ARXIV  \n",
       "0                  NaN                   NaN  \n",
       "1                  NaN                   NaN  \n",
       "2                  NaN                   NaN  \n",
       "3                  NaN                   NaN  \n",
       "4                  NaN                   NaN  \n",
       "\n",
       "[5 rows x 42 columns]"
      ]
     },
     "execution_count": 12,
     "metadata": {},
     "output_type": "execute_result"
    }
   ],
   "source": [
    "rcp.head()"
   ]
  },
  {
   "cell_type": "code",
   "execution_count": 13,
   "metadata": {},
   "outputs": [
    {
     "data": {
      "text/plain": [
       "Index(['RC_ID', 'COLLECTION', 'DC_CONTRIBUTOR_AUTHOR', 'DC_CONTRIBUTOR_EDITOR',\n",
       "       'DC_DATE_ISSUED', 'DC_DATE_PUBLISHED', 'DC_IDENTIFIER_DOI',\n",
       "       'DC_IDENTIFIER_ISBN', 'DC_IDENTIFIER_ISSN', 'DC_IDENTIFIER_OTHER',\n",
       "       'DC_IDENTIFIER_URI', 'DC_TITLE', 'DC_TITLE_ALTERNATIVE', 'DC_TYPE',\n",
       "       'ETHZ_AVAILABILITY', 'ETHZ_BOOK_TITLE', 'ETHZ_ETH', 'ETHZ_EVENT',\n",
       "       'ETHZ_EVENT_DATE', 'ETHZ_EVENT_LOCATION', 'ETHZ_IDENTIFIER_SCOPUS',\n",
       "       'ETHZ_IDENTIFIER_URL', 'ETHZ_IDENTIFIER_WOS',\n",
       "       'ETHZ_JOURNAL_ABBREVIATED', 'ETHZ_JOURNAL_ISSUE', 'ETHZ_JOURNAL_TITLE',\n",
       "       'ETHZ_JOURNAL_VOLUME', 'ETHZ_LEITZAHLIDENTIFIERS_CERT',\n",
       "       'ETHZ_PAGES_END', 'ETHZ_PAGES_START', 'ETHZ_PUBLICATION_PLACE',\n",
       "       'ETHZ_TITLE_SUBTITLE', 'ETHZ_GRANT', 'ETHZ_GRANT_FUNDERDOI',\n",
       "       'ETHZ_GRANT_FUNDERNAME', 'ETHZ_GRANT_PROGRAM', 'ETHZ_IDENTIFIER_DISS',\n",
       "       'ETHZ_IDENTIFIER_PUBMED', 'DC_IDENTIFIER_WOS',\n",
       "       'ETHZ_IDENTIFIER_ORCIDWORKCODE', 'DC_CONTRIBUTOR_OTHER',\n",
       "       'ETHZ_IDENTIFIER_ARXIV'],\n",
       "      dtype='object')"
      ]
     },
     "execution_count": 13,
     "metadata": {},
     "output_type": "execute_result"
    }
   ],
   "source": [
    "rcp.columns"
   ]
  },
  {
   "cell_type": "code",
   "execution_count": 31,
   "metadata": {},
   "outputs": [
    {
     "data": {
      "text/plain": [
       "RC_ID                                 0\n",
       "COLLECTION                       100328\n",
       "DC_CONTRIBUTOR_AUTHOR               879\n",
       "DC_CONTRIBUTOR_EDITOR             98340\n",
       "DC_DATE_ISSUED                      213\n",
       "DC_DATE_PUBLISHED                 91510\n",
       "DC_IDENTIFIER_DOI                 97804\n",
       "DC_IDENTIFIER_ISBN                90800\n",
       "DC_IDENTIFIER_ISSN                49248\n",
       "DC_IDENTIFIER_OTHER               35152\n",
       "DC_IDENTIFIER_URI                     5\n",
       "DC_TITLE                              0\n",
       "DC_TITLE_ALTERNATIVE             110582\n",
       "DC_TYPE                               0\n",
       "ETHZ_AVAILABILITY                    14\n",
       "ETHZ_BOOK_TITLE                   89151\n",
       "ETHZ_ETH                              0\n",
       "ETHZ_EVENT                        79389\n",
       "ETHZ_EVENT_DATE                   79476\n",
       "ETHZ_EVENT_LOCATION               81407\n",
       "ETHZ_IDENTIFIER_SCOPUS            82704\n",
       "ETHZ_IDENTIFIER_URL              107909\n",
       "ETHZ_IDENTIFIER_WOS               52280\n",
       "ETHZ_JOURNAL_ABBREVIATED          61435\n",
       "ETHZ_JOURNAL_ISSUE                51935\n",
       "ETHZ_JOURNAL_TITLE                26960\n",
       "ETHZ_JOURNAL_VOLUME               30683\n",
       "ETHZ_LEITZAHLIDENTIFIERS_CERT     30206\n",
       "ETHZ_PAGES_END                    35665\n",
       "ETHZ_PAGES_START                  18828\n",
       "ETHZ_PUBLICATION_PLACE             8536\n",
       "ETHZ_TITLE_SUBTITLE               95277\n",
       "ETHZ_GRANT                       108456\n",
       "ETHZ_GRANT_FUNDERDOI             108456\n",
       "ETHZ_GRANT_FUNDERNAME            108456\n",
       "ETHZ_GRANT_PROGRAM               109251\n",
       "ETHZ_IDENTIFIER_DISS             110933\n",
       "ETHZ_IDENTIFIER_PUBMED           110892\n",
       "DC_IDENTIFIER_WOS                110934\n",
       "ETHZ_IDENTIFIER_ORCIDWORKCODE    110879\n",
       "DC_CONTRIBUTOR_OTHER             110914\n",
       "ETHZ_IDENTIFIER_ARXIV            110904\n",
       "dtype: int64"
      ]
     },
     "execution_count": 31,
     "metadata": {},
     "output_type": "execute_result"
    }
   ],
   "source": [
    "# nulls for columns\n",
    "rcp.isnull().sum(axis=0)"
   ]
  },
  {
   "cell_type": "markdown",
   "metadata": {},
   "source": [
    "## Cleaning \n",
    "\n",
    "**What information should be extracted?**\n",
    "\n",
    "- authors names from \"DC_CONTRIBUTOR_AUTHOR\"\n",
    "- editors names from \"DC_CONTRIBUTOR_EDITOR\" (ideally same function used for the above step) \n",
    "- date from \"DC_DATE_ISSUED\" OR \"DC_DATE_PUBLISHED\"\n",
    "- title from \"DC_TITLE\" OR \"ETHZ_BOOK_TITLE\" \n",
    "- type of publication \n",
    "- place from \"ETHZ_PUBLICATION_PLACE\"\n",
    "- journal of publication indirectly from \"ETHZ_IDENTIFIER_ARXIV\" and similar\n",
    "- ETHZ journal information?\n",
    "- ...\n",
    "\n",
    "**Doubts/Observations**\n",
    "- (Should be tested) Author field is Nan AND Collection field is filled - what does this represent? \n",
    "- ..."
   ]
  },
  {
   "cell_type": "markdown",
   "metadata": {},
   "source": [
    "# D-ARCH.xlsx"
   ]
  },
  {
   "cell_type": "code",
   "execution_count": 11,
   "metadata": {},
   "outputs": [
    {
     "name": "stdout",
     "output_type": "stream",
     "text": [
      "Requirement already satisfied: xlrd in c:\\users\\giulia\\appdata\\local\\packages\\pythonsoftwarefoundation.python.3.8_qbz5n2kfra8p0\\localcache\\local-packages\\python38\\site-packages (1.2.0)\n"
     ]
    }
   ],
   "source": [
    "#necessary requirement for xlsx files \n",
    "!python3 -m pip install xlrd"
   ]
  },
  {
   "cell_type": "code",
   "execution_count": 12,
   "metadata": {},
   "outputs": [],
   "source": [
    "da = pd.read_excel(\"D-ARCH.xlsx\")"
   ]
  },
  {
   "cell_type": "code",
   "execution_count": 13,
   "metadata": {},
   "outputs": [
    {
     "data": {
      "text/html": [
       "<div>\n",
       "<style scoped>\n",
       "    .dataframe tbody tr th:only-of-type {\n",
       "        vertical-align: middle;\n",
       "    }\n",
       "\n",
       "    .dataframe tbody tr th {\n",
       "        vertical-align: top;\n",
       "    }\n",
       "\n",
       "    .dataframe thead th {\n",
       "        text-align: right;\n",
       "    }\n",
       "</style>\n",
       "<table border=\"1\" class=\"dataframe\">\n",
       "  <thead>\n",
       "    <tr style=\"text-align: right;\">\n",
       "      <th></th>\n",
       "      <th>DEPARTMENT</th>\n",
       "      <th>RESEARCHER</th>\n",
       "      <th>TIMESTAMP</th>\n",
       "      <th>RESEARCH_OVERVIEW</th>\n",
       "    </tr>\n",
       "  </thead>\n",
       "  <tbody>\n",
       "    <tr>\n",
       "      <th>0</th>\n",
       "      <td>Architecture</td>\n",
       "      <td>Tom_Avermaete</td>\n",
       "      <td>2020-10-08 15:32:09</td>\n",
       "      <td>Title: Information for Professor Tom.Avermaete...</td>\n",
       "    </tr>\n",
       "    <tr>\n",
       "      <th>1</th>\n",
       "      <td>Architecture</td>\n",
       "      <td>Philippe_Block</td>\n",
       "      <td>2020-10-08 15:32:17</td>\n",
       "      <td>Title: Information for Professor Philippe.Bloc...</td>\n",
       "    </tr>\n",
       "    <tr>\n",
       "      <th>2</th>\n",
       "      <td>Architecture</td>\n",
       "      <td>A._Caminada</td>\n",
       "      <td>2020-10-08 15:33:28</td>\n",
       "      <td>Title: Information for Professor A..Caminada f...</td>\n",
       "    </tr>\n",
       "    <tr>\n",
       "      <th>3</th>\n",
       "      <td>Architecture</td>\n",
       "      <td>Caruso_Adam</td>\n",
       "      <td>2020-10-08 15:33:29</td>\n",
       "      <td>Title: Information for Professor Caruso.Adam f...</td>\n",
       "    </tr>\n",
       "    <tr>\n",
       "      <th>4</th>\n",
       "      <td>Architecture</td>\n",
       "      <td>François_Charbonnet</td>\n",
       "      <td>2020-10-08 15:33:31</td>\n",
       "      <td>Title: Information for Professor François.Char...</td>\n",
       "    </tr>\n",
       "  </tbody>\n",
       "</table>\n",
       "</div>"
      ],
      "text/plain": [
       "     DEPARTMENT           RESEARCHER            TIMESTAMP  \\\n",
       "0  Architecture        Tom_Avermaete  2020-10-08 15:32:09   \n",
       "1  Architecture       Philippe_Block  2020-10-08 15:32:17   \n",
       "2  Architecture          A._Caminada  2020-10-08 15:33:28   \n",
       "3  Architecture          Caruso_Adam  2020-10-08 15:33:29   \n",
       "4  Architecture  François_Charbonnet  2020-10-08 15:33:31   \n",
       "\n",
       "                                   RESEARCH_OVERVIEW  \n",
       "0  Title: Information for Professor Tom.Avermaete...  \n",
       "1  Title: Information for Professor Philippe.Bloc...  \n",
       "2  Title: Information for Professor A..Caminada f...  \n",
       "3  Title: Information for Professor Caruso.Adam f...  \n",
       "4  Title: Information for Professor François.Char...  "
      ]
     },
     "execution_count": 13,
     "metadata": {},
     "output_type": "execute_result"
    }
   ],
   "source": [
    "da.head()"
   ]
  },
  {
   "cell_type": "code",
   "execution_count": 15,
   "metadata": {},
   "outputs": [
    {
     "data": {
      "text/plain": [
       "DEPARTMENT           0\n",
       "RESEARCHER           0\n",
       "TIMESTAMP            0\n",
       "RESEARCH_OVERVIEW    0\n",
       "dtype: int64"
      ]
     },
     "execution_count": 15,
     "metadata": {},
     "output_type": "execute_result"
    }
   ],
   "source": [
    "# nulls for columns\n",
    "da.isnull().sum(axis=0)"
   ]
  },
  {
   "cell_type": "markdown",
   "metadata": {},
   "source": [
    "**Complete file**"
   ]
  },
  {
   "cell_type": "markdown",
   "metadata": {},
   "source": [
    "# ETH Professor list.xlsx"
   ]
  },
  {
   "cell_type": "code",
   "execution_count": 16,
   "metadata": {},
   "outputs": [],
   "source": [
    "pl = pd.read_excel(\"ETH Professor list.xlsx\")"
   ]
  },
  {
   "cell_type": "code",
   "execution_count": 17,
   "metadata": {},
   "outputs": [
    {
     "data": {
      "text/html": [
       "<div>\n",
       "<style scoped>\n",
       "    .dataframe tbody tr th:only-of-type {\n",
       "        vertical-align: middle;\n",
       "    }\n",
       "\n",
       "    .dataframe tbody tr th {\n",
       "        vertical-align: top;\n",
       "    }\n",
       "\n",
       "    .dataframe thead th {\n",
       "        text-align: right;\n",
       "    }\n",
       "</style>\n",
       "<table border=\"1\" class=\"dataframe\">\n",
       "  <thead>\n",
       "    <tr style=\"text-align: right;\">\n",
       "      <th></th>\n",
       "      <th>Title</th>\n",
       "      <th>Name</th>\n",
       "      <th>First name</th>\n",
       "      <th>Org. unit code</th>\n",
       "      <th>Organisation</th>\n",
       "    </tr>\n",
       "  </thead>\n",
       "  <tbody>\n",
       "    <tr>\n",
       "      <th>0</th>\n",
       "      <td>Prof. Dr.</td>\n",
       "      <td>Abhari</td>\n",
       "      <td>Reza S.</td>\n",
       "      <td>2627</td>\n",
       "      <td>Institute of Energy Technology (former)</td>\n",
       "    </tr>\n",
       "    <tr>\n",
       "      <th>1</th>\n",
       "      <td>Prof. Dr.</td>\n",
       "      <td>Acciaio</td>\n",
       "      <td>Beatrice</td>\n",
       "      <td>9727</td>\n",
       "      <td>Acciaio, Beatrice</td>\n",
       "    </tr>\n",
       "    <tr>\n",
       "      <th>2</th>\n",
       "      <td>Prof. Dr.</td>\n",
       "      <td>Ackermann</td>\n",
       "      <td>Martin</td>\n",
       "      <td>3743</td>\n",
       "      <td>Ackermann, Martin</td>\n",
       "    </tr>\n",
       "    <tr>\n",
       "      <th>3</th>\n",
       "      <td>Prof. Dr.</td>\n",
       "      <td>Ackermann</td>\n",
       "      <td>Martin</td>\n",
       "      <td>2721</td>\n",
       "      <td>Inst. Biogeochem. and Pollutant Dynamics</td>\n",
       "    </tr>\n",
       "    <tr>\n",
       "      <th>4</th>\n",
       "      <td>Prof. Dr.</td>\n",
       "      <td>Adey</td>\n",
       "      <td>Bryan T.</td>\n",
       "      <td>2604</td>\n",
       "      <td>Inst. Construction&amp;Infrastructure Manag.</td>\n",
       "    </tr>\n",
       "  </tbody>\n",
       "</table>\n",
       "</div>"
      ],
      "text/plain": [
       "       Title       Name First name  Org. unit code  \\\n",
       "0  Prof. Dr.     Abhari    Reza S.            2627   \n",
       "1  Prof. Dr.    Acciaio   Beatrice            9727   \n",
       "2  Prof. Dr.  Ackermann     Martin            3743   \n",
       "3  Prof. Dr.  Ackermann     Martin            2721   \n",
       "4  Prof. Dr.       Adey   Bryan T.            2604   \n",
       "\n",
       "                               Organisation  \n",
       "0   Institute of Energy Technology (former)  \n",
       "1                         Acciaio, Beatrice  \n",
       "2                         Ackermann, Martin  \n",
       "3  Inst. Biogeochem. and Pollutant Dynamics  \n",
       "4  Inst. Construction&Infrastructure Manag.  "
      ]
     },
     "execution_count": 17,
     "metadata": {},
     "output_type": "execute_result"
    }
   ],
   "source": [
    "pl.head()"
   ]
  },
  {
   "cell_type": "code",
   "execution_count": 19,
   "metadata": {},
   "outputs": [
    {
     "data": {
      "text/plain": [
       "Title             0\n",
       "Name              0\n",
       "First name        0\n",
       "Org. unit code    0\n",
       "Organisation      0\n",
       "dtype: int64"
      ]
     },
     "execution_count": 19,
     "metadata": {},
     "output_type": "execute_result"
    }
   ],
   "source": [
    "# nulls for columns\n",
    "pl.isnull().sum(axis=0)"
   ]
  },
  {
   "cell_type": "markdown",
   "metadata": {},
   "source": [
    "**Complete file**"
   ]
  },
  {
   "cell_type": "markdown",
   "metadata": {},
   "source": [
    "# ResearchCollection.xlsx\n"
   ]
  },
  {
   "cell_type": "code",
   "execution_count": 21,
   "metadata": {},
   "outputs": [],
   "source": [
    "rc = pd.read_excel(\"ResearchCollection.xlsx\")"
   ]
  },
  {
   "cell_type": "code",
   "execution_count": 22,
   "metadata": {},
   "outputs": [
    {
     "data": {
      "text/html": [
       "<div>\n",
       "<style scoped>\n",
       "    .dataframe tbody tr th:only-of-type {\n",
       "        vertical-align: middle;\n",
       "    }\n",
       "\n",
       "    .dataframe tbody tr th {\n",
       "        vertical-align: top;\n",
       "    }\n",
       "\n",
       "    .dataframe thead th {\n",
       "        text-align: right;\n",
       "    }\n",
       "</style>\n",
       "<table border=\"1\" class=\"dataframe\">\n",
       "  <thead>\n",
       "    <tr style=\"text-align: right;\">\n",
       "      <th></th>\n",
       "      <th>NAME</th>\n",
       "      <th>SHORTNAME</th>\n",
       "      <th>TIMESTAMP</th>\n",
       "      <th>RESEARCH_OVERVIEW</th>\n",
       "      <th>DEPARTMENT_RESEARCH_WEBSITE</th>\n",
       "    </tr>\n",
       "  </thead>\n",
       "  <tbody>\n",
       "    <tr>\n",
       "      <th>0</th>\n",
       "      <td>Architecture</td>\n",
       "      <td>D-ARCH</td>\n",
       "      <td>2020-05-08 17:50:35</td>\n",
       "      <td>D-ARCH_2020-05-08_17_50_35</td>\n",
       "      <td>https://arch.ethz.ch/en/forschung.html</td>\n",
       "    </tr>\n",
       "    <tr>\n",
       "      <th>1</th>\n",
       "      <td>Civil, Environmental and Geomatic Engineering</td>\n",
       "      <td>D-BAUG</td>\n",
       "      <td>2020-10-08 15:38:04</td>\n",
       "      <td>D-BAUG_2020-10-08_15_38_04</td>\n",
       "      <td>https://baug.ethz.ch/en/research.html</td>\n",
       "    </tr>\n",
       "    <tr>\n",
       "      <th>2</th>\n",
       "      <td>Biosystems Science and Engineering</td>\n",
       "      <td>D-BSSE</td>\n",
       "      <td>2020-10-08 15:38:04</td>\n",
       "      <td>D-BSSE_2020-10-08_15_38_04</td>\n",
       "      <td>https://bsse.ethz.ch/research.html</td>\n",
       "    </tr>\n",
       "    <tr>\n",
       "      <th>3</th>\n",
       "      <td>Computer Science</td>\n",
       "      <td>D-INFK</td>\n",
       "      <td>2020-10-08 15:42:40</td>\n",
       "      <td>D-INFK_2020-10-08_15_42_40</td>\n",
       "      <td>https://inf.ethz.ch/research.html</td>\n",
       "    </tr>\n",
       "    <tr>\n",
       "      <th>4</th>\n",
       "      <td>Information Technology and Electrical Engineering</td>\n",
       "      <td>D-ITET</td>\n",
       "      <td>2020-10-08 15:42:40</td>\n",
       "      <td>D-ITET_2020-10-08_15_42_40</td>\n",
       "      <td>https://ee.ethz.ch/research.html</td>\n",
       "    </tr>\n",
       "  </tbody>\n",
       "</table>\n",
       "</div>"
      ],
      "text/plain": [
       "                                                NAME SHORTNAME  \\\n",
       "0                                       Architecture    D-ARCH   \n",
       "1      Civil, Environmental and Geomatic Engineering    D-BAUG   \n",
       "2                 Biosystems Science and Engineering    D-BSSE   \n",
       "3                                   Computer Science    D-INFK   \n",
       "4  Information Technology and Electrical Engineering    D-ITET   \n",
       "\n",
       "             TIMESTAMP           RESEARCH_OVERVIEW  \\\n",
       "0  2020-05-08 17:50:35  D-ARCH_2020-05-08_17_50_35   \n",
       "1  2020-10-08 15:38:04  D-BAUG_2020-10-08_15_38_04   \n",
       "2  2020-10-08 15:38:04  D-BSSE_2020-10-08_15_38_04   \n",
       "3  2020-10-08 15:42:40  D-INFK_2020-10-08_15_42_40   \n",
       "4  2020-10-08 15:42:40  D-ITET_2020-10-08_15_42_40   \n",
       "\n",
       "              DEPARTMENT_RESEARCH_WEBSITE  \n",
       "0  https://arch.ethz.ch/en/forschung.html  \n",
       "1   https://baug.ethz.ch/en/research.html  \n",
       "2      https://bsse.ethz.ch/research.html  \n",
       "3       https://inf.ethz.ch/research.html  \n",
       "4        https://ee.ethz.ch/research.html  "
      ]
     },
     "execution_count": 22,
     "metadata": {},
     "output_type": "execute_result"
    }
   ],
   "source": [
    "rc.head()"
   ]
  },
  {
   "cell_type": "code",
   "execution_count": 23,
   "metadata": {},
   "outputs": [
    {
     "data": {
      "text/plain": [
       "NAME                           0\n",
       "SHORTNAME                      0\n",
       "TIMESTAMP                      0\n",
       "RESEARCH_OVERVIEW              0\n",
       "DEPARTMENT_RESEARCH_WEBSITE    0\n",
       "dtype: int64"
      ]
     },
     "execution_count": 23,
     "metadata": {},
     "output_type": "execute_result"
    }
   ],
   "source": [
    "# nulls for columns\n",
    "rc.isnull().sum(axis=0)"
   ]
  },
  {
   "cell_type": "markdown",
   "metadata": {},
   "source": [
    "**Complete file**"
   ]
  },
  {
   "cell_type": "markdown",
   "metadata": {},
   "source": [
    "--- "
   ]
  },
  {
   "cell_type": "code",
   "execution_count": null,
   "metadata": {},
   "outputs": [],
   "source": []
  }
 ],
 "metadata": {
  "kernelspec": {
   "display_name": "Python 3",
   "language": "python",
   "name": "python3"
  },
  "language_info": {
   "codemirror_mode": {
    "name": "ipython",
    "version": 3
   },
   "file_extension": ".py",
   "mimetype": "text/x-python",
   "name": "python",
   "nbconvert_exporter": "python",
   "pygments_lexer": "ipython3",
   "version": "3.7.5"
  }
 },
 "nbformat": 4,
 "nbformat_minor": 2
}
