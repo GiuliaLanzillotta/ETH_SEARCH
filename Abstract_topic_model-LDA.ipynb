{
 "cells": [
  {
   "cell_type": "markdown",
   "metadata": {},
   "source": [
    "# Topic modeling on abstracts"
   ]
  },
  {
   "cell_type": "markdown",
   "metadata": {},
   "source": [
    "## 1. Preprocessing"
   ]
  },
  {
   "cell_type": "code",
   "execution_count": 1,
   "metadata": {},
   "outputs": [],
   "source": [
    "import pandas as pd\n",
    "import os \n",
    "import numpy as np\n",
    "import re\n",
    "import random"
   ]
  },
  {
   "cell_type": "code",
   "execution_count": 2,
   "metadata": {},
   "outputs": [],
   "source": [
    "import nltk\n",
    "from nltk import word_tokenize, RegexpTokenizer,PunktSentenceTokenizer, sent_tokenize\n",
    "from nltk.stem import PorterStemmer\n",
    "from nltk.stem import WordNetLemmatizer\n",
    "from nltk.corpus import stopwords\n",
    "#nltk.download('stopwords')"
   ]
  },
  {
   "cell_type": "code",
   "execution_count": null,
   "metadata": {},
   "outputs": [],
   "source": [
    "#!pip install gensim"
   ]
  },
  {
   "cell_type": "code",
   "execution_count": 3,
   "metadata": {},
   "outputs": [],
   "source": [
    "import gensim\n",
    "import gensim.corpora as corpora\n",
    "from gensim.utils import simple_preprocess\n",
    "from gensim.models import CoherenceModel"
   ]
  },
  {
   "cell_type": "markdown",
   "metadata": {},
   "source": [
    "### 1.1 Load the data "
   ]
  },
  {
   "cell_type": "code",
   "execution_count": 4,
   "metadata": {
    "scrolled": true
   },
   "outputs": [],
   "source": [
    "#abstracts = pd.read_csv(\"abstracts.csv\")\n",
    "abstracts = pd.read_csv(\"abstracts_eng.csv\")"
   ]
  },
  {
   "cell_type": "code",
   "execution_count": 5,
   "metadata": {
    "scrolled": true
   },
   "outputs": [
    {
     "data": {
      "text/html": [
       "<div>\n",
       "<style scoped>\n",
       "    .dataframe tbody tr th:only-of-type {\n",
       "        vertical-align: middle;\n",
       "    }\n",
       "\n",
       "    .dataframe tbody tr th {\n",
       "        vertical-align: top;\n",
       "    }\n",
       "\n",
       "    .dataframe thead th {\n",
       "        text-align: right;\n",
       "    }\n",
       "</style>\n",
       "<table border=\"1\" class=\"dataframe\">\n",
       "  <thead>\n",
       "    <tr style=\"text-align: right;\">\n",
       "      <th></th>\n",
       "      <th>abstract</th>\n",
       "      <th>id</th>\n",
       "    </tr>\n",
       "  </thead>\n",
       "  <tbody>\n",
       "    <tr>\n",
       "      <td>0</td>\n",
       "      <td>The goal of this note is to introduce new clas...</td>\n",
       "      <td>188444.0</td>\n",
       "    </tr>\n",
       "    <tr>\n",
       "      <td>1</td>\n",
       "      <td>We will review a Lemma published by Ran Raz in...</td>\n",
       "      <td>188623.0</td>\n",
       "    </tr>\n",
       "    <tr>\n",
       "      <td>2</td>\n",
       "      <td>China’s growing influence in Europe has the po...</td>\n",
       "      <td>346708.0</td>\n",
       "    </tr>\n",
       "    <tr>\n",
       "      <td>3</td>\n",
       "      <td>Nowhere is China's Belt and Road Initiative (B...</td>\n",
       "      <td>346709.0</td>\n",
       "    </tr>\n",
       "    <tr>\n",
       "      <td>4</td>\n",
       "      <td>Passenger transit modes typical of the urban s...</td>\n",
       "      <td>187461.0</td>\n",
       "    </tr>\n",
       "  </tbody>\n",
       "</table>\n",
       "</div>"
      ],
      "text/plain": [
       "                                            abstract        id\n",
       "0  The goal of this note is to introduce new clas...  188444.0\n",
       "1  We will review a Lemma published by Ran Raz in...  188623.0\n",
       "2  China’s growing influence in Europe has the po...  346708.0\n",
       "3  Nowhere is China's Belt and Road Initiative (B...  346709.0\n",
       "4  Passenger transit modes typical of the urban s...  187461.0"
      ]
     },
     "execution_count": 5,
     "metadata": {},
     "output_type": "execute_result"
    }
   ],
   "source": [
    "abstracts.head()"
   ]
  },
  {
   "cell_type": "code",
   "execution_count": 6,
   "metadata": {},
   "outputs": [],
   "source": [
    "abs_list = list(abstracts['abstract'])"
   ]
  },
  {
   "cell_type": "code",
   "execution_count": 7,
   "metadata": {},
   "outputs": [
    {
     "data": {
      "text/plain": [
       "20494"
      ]
     },
     "execution_count": 7,
     "metadata": {},
     "output_type": "execute_result"
    }
   ],
   "source": [
    "len(abs_list)"
   ]
  },
  {
   "cell_type": "markdown",
   "metadata": {},
   "source": [
    "**21421** abstracts in total  \n",
    "**20494** abstracts in english"
   ]
  },
  {
   "cell_type": "markdown",
   "metadata": {},
   "source": [
    "### 1.2 Step 1 \n",
    "- tokenization \n",
    "- punctuation removal \n",
    "- lowercasing"
   ]
  },
  {
   "cell_type": "code",
   "execution_count": 8,
   "metadata": {},
   "outputs": [
    {
     "name": "stdout",
     "output_type": "stream",
     "text": [
      "3855522 tokens created\n"
     ]
    }
   ],
   "source": [
    "tokenised = []\n",
    "count = 0\n",
    "for abstract in abs_list:\n",
    "    raw = abstract\n",
    "    tokens = gensim.utils.simple_preprocess(str(raw), deacc=True)\n",
    "    tokenised.append(tokens)\n",
    "    count += len(tokens)\n",
    "print(str(count)+\" tokens created\")"
   ]
  },
  {
   "cell_type": "code",
   "execution_count": 9,
   "metadata": {},
   "outputs": [
    {
     "data": {
      "text/plain": [
       "71429"
      ]
     },
     "execution_count": 9,
     "metadata": {},
     "output_type": "execute_result"
    }
   ],
   "source": [
    "c = []\n",
    "for doc in tokenised: \n",
    "    c+=doc\n",
    "len(set(c))"
   ]
  },
  {
   "cell_type": "markdown",
   "metadata": {},
   "source": [
    "So we have **83831** / **71429** (de/en) unique words in the beginning"
   ]
  },
  {
   "cell_type": "markdown",
   "metadata": {},
   "source": [
    "### 1.3 Step 2 \n",
    "- removing stopwords \n",
    "- (removing other words based on different strategies - like word length thresholding) "
   ]
  },
  {
   "cell_type": "code",
   "execution_count": 10,
   "metadata": {},
   "outputs": [],
   "source": [
    "stop_words = stopwords.words('english')\n",
    "cleaned = [[word for word in doc if word not in stop_words] for doc in tokenised]"
   ]
  },
  {
   "cell_type": "code",
   "execution_count": 11,
   "metadata": {},
   "outputs": [],
   "source": [
    "# Consider extending the stopwords ...\n",
    "# stop_words.extend(['from', 'subject', 're', 'edu', 'use'])"
   ]
  },
  {
   "cell_type": "code",
   "execution_count": 12,
   "metadata": {},
   "outputs": [],
   "source": [
    "# Consider removing words with less than [x] characters "
   ]
  },
  {
   "cell_type": "code",
   "execution_count": 13,
   "metadata": {},
   "outputs": [
    {
     "data": {
      "text/plain": [
       "71293"
      ]
     },
     "execution_count": 13,
     "metadata": {},
     "output_type": "execute_result"
    }
   ],
   "source": [
    "c = []\n",
    "for doc in cleaned: \n",
    "    c+=doc\n",
    "len(set(c))"
   ]
  },
  {
   "cell_type": "markdown",
   "metadata": {},
   "source": [
    "Now after stopwords removal we have **83695** / **71293** terms (136 less)"
   ]
  },
  {
   "cell_type": "markdown",
   "metadata": {},
   "source": [
    "### 1.4 Step 3 \n",
    "- stemming \n",
    "- lemmatizing "
   ]
  },
  {
   "cell_type": "code",
   "execution_count": 14,
   "metadata": {},
   "outputs": [],
   "source": [
    "#nltk.download('wordnet')"
   ]
  },
  {
   "cell_type": "code",
   "execution_count": 15,
   "metadata": {},
   "outputs": [],
   "source": [
    "word_stemmer = PorterStemmer()\n",
    "lemmatiser = WordNetLemmatizer()\n",
    "lemmatized = [[lemmatiser.lemmatize(word_stemmer.stem(word)) for word in doc] for doc in cleaned]"
   ]
  },
  {
   "cell_type": "code",
   "execution_count": 16,
   "metadata": {},
   "outputs": [
    {
     "data": {
      "text/plain": [
       "71293"
      ]
     },
     "execution_count": 16,
     "metadata": {},
     "output_type": "execute_result"
    }
   ],
   "source": [
    "c = []\n",
    "for doc in cleaned: \n",
    "    c+=doc\n",
    "len(set(c))"
   ]
  },
  {
   "cell_type": "markdown",
   "metadata": {},
   "source": [
    "And after stemming and lemmatization we have **61182** / **50948** terms (22,513 less)"
   ]
  },
  {
   "cell_type": "markdown",
   "metadata": {},
   "source": [
    "# Daniel: slightly different approach\n"
   ]
  },
  {
   "cell_type": "markdown",
   "metadata": {},
   "source": [
    "What I wanted to do is a bigram model where all words are grouped in two as shown below. I wanted to vectorise this and feed it into LDA to get more specific topics. This seems overcomplicated and potentially wrong the more I do it so I do not think it works."
   ]
  },
  {
   "cell_type": "code",
   "execution_count": 29,
   "metadata": {},
   "outputs": [
    {
     "name": "stdout",
     "output_type": "stream",
     "text": [
      "['goal', 'note', 'introduc', 'new', 'class', 'oper', 'ideal', 'moreov', 'new', 'way', 'construct', 'class', 'applic', 'oper', 'asymptot', 'structur', 'recent', 'introduc', 'maurey', 'milman', 'tomczak', 'jaegermann', 'op', 'th', 'adv', 'appl']\n"
     ]
    }
   ],
   "source": [
    "print(lemmatized[0])"
   ]
  },
  {
   "cell_type": "code",
   "execution_count": 19,
   "metadata": {},
   "outputs": [
    {
     "name": "stdout",
     "output_type": "stream",
     "text": [
      "last two decad electr distribut sector wit wave regulatori reform aim improv effici incent regul regul scheme use benchmark name measur compani effici reward accordingli reliabl effici estim crucial effect implement incent mechan main problem face regul choic among sever legitim benchmark model usual produc differ result brief overview benchmark methodolog paper summar method use regul practic sever oecd countri benchmark practic rel widespread repeat observ similar compani time name panel data allow better understand unobserv firm specif factor disentangl effici estim focus parametr cost frontier model paper present two altern approach could use improv reliabl benchmark method base recent empir evid draw recommend regulatori practic power distribut network\n"
     ]
    }
   ],
   "source": [
    "#See what an abstract looks like after preprocessing\n",
    "abstract_clean = []\n",
    "for i in range(len(lemmatized)):\n",
    "    b=(' '.join(word for word in lemmatized[i]))\n",
    "    abstract_clean.append(b)\n",
    "print(abstract_clean[23])"
   ]
  },
  {
   "cell_type": "code",
   "execution_count": 86,
   "metadata": {},
   "outputs": [],
   "source": [
    "bigram = []\n",
    "for tokens in range(0,len(lemmatized)):\n",
    "    bg = nltk.bigrams(lemmatized[tokens])\n",
    "    bigram.append(bg)"
   ]
  },
  {
   "cell_type": "code",
   "execution_count": 87,
   "metadata": {},
   "outputs": [],
   "source": [
    "bigrm =[]\n",
    "for bigs in range(0,len(bigram)):\n",
    "    separated = list(map(' '.join, bigram[bigs]))\n",
    "    bigrm.append(separated)"
   ]
  },
  {
   "cell_type": "code",
   "execution_count": 88,
   "metadata": {
    "scrolled": false
   },
   "outputs": [
    {
     "data": {
      "text/plain": [
       "['china grow',\n",
       " 'grow influenc',\n",
       " 'influenc europ',\n",
       " 'europ potenti',\n",
       " 'potenti creat',\n",
       " 'creat new',\n",
       " 'new geo',\n",
       " 'geo econom',\n",
       " 'econom divid',\n",
       " 'divid purchas',\n",
       " 'purchas critic',\n",
       " 'critic infrastructur',\n",
       " 'infrastructur success',\n",
       " 'success promot',\n",
       " 'promot nation',\n",
       " 'nation high',\n",
       " 'high tech',\n",
       " 'tech giant',\n",
       " 'giant hold',\n",
       " 'hold long',\n",
       " 'long term',\n",
       " 'term secur',\n",
       " 'secur implic',\n",
       " 'implic europ',\n",
       " 'europ world',\n",
       " 'world order',\n",
       " 'order alway',\n",
       " 'alway europ',\n",
       " 'europ first',\n",
       " 'first vex',\n",
       " 'vex challeng',\n",
       " 'challeng find',\n",
       " 'find uniti',\n",
       " 'uniti promot',\n",
       " 'promot coher',\n",
       " 'coher across',\n",
       " 'across contin',\n",
       " 'contin eu',\n",
       " 'eu implement',\n",
       " 'implement activist',\n",
       " 'activist industri',\n",
       " 'industri polici',\n",
       " 'polici boost',\n",
       " 'boost high',\n",
       " 'high tech',\n",
       " 'tech competit',\n",
       " 'competit advantag',\n",
       " 'advantag take',\n",
       " 'take necessari',\n",
       " 'necessari measur',\n",
       " 'measur prevent',\n",
       " 'prevent grow',\n",
       " 'grow econom',\n",
       " 'econom depend',\n",
       " 'depend china',\n",
       " 'china china',\n",
       " 'china wachsend',\n",
       " 'wachsend einfluss',\n",
       " 'einfluss europa',\n",
       " 'europa hat',\n",
       " 'hat da',\n",
       " 'da potenzi',\n",
       " 'potenzi neue',\n",
       " 'neue geo',\n",
       " 'geo okonomisch',\n",
       " 'okonomisch graben',\n",
       " 'graben zu',\n",
       " 'zu schaffen',\n",
       " 'schaffen der',\n",
       " 'der kauf',\n",
       " 'kauf kritisch',\n",
       " 'kritisch infrastrukturen',\n",
       " 'infrastrukturen und',\n",
       " 'und die',\n",
       " 'die erfolgreich',\n",
       " 'erfolgreich forderung',\n",
       " 'forderung national',\n",
       " 'national high',\n",
       " 'high tech',\n",
       " 'tech giganten',\n",
       " 'giganten haben',\n",
       " 'haben langfristig',\n",
       " 'langfristig auswirkungen',\n",
       " 'auswirkungen auf',\n",
       " 'auf die',\n",
       " 'die sicherheit',\n",
       " 'sicherheit europa',\n",
       " 'europa und',\n",
       " 'und die',\n",
       " 'die weltordnung',\n",
       " 'weltordnung wie',\n",
       " 'wie immer',\n",
       " 'immer besteht',\n",
       " 'besteht die',\n",
       " 'die erst',\n",
       " 'erst und',\n",
       " 'und muhsamst',\n",
       " 'muhsamst herausforderung',\n",
       " 'herausforderung fur',\n",
       " 'fur europa',\n",
       " 'europa darin',\n",
       " 'darin einheitlich',\n",
       " 'einheitlich aufzutreten',\n",
       " 'aufzutreten um',\n",
       " 'um die',\n",
       " 'die koharenz',\n",
       " 'koharenz auf',\n",
       " 'auf dem',\n",
       " 'dem gesamten',\n",
       " 'gesamten kontin',\n",
       " 'kontin zu',\n",
       " 'zu fordern',\n",
       " 'fordern wird',\n",
       " 'wird die',\n",
       " 'die eu',\n",
       " 'eu ein',\n",
       " 'ein aktivistisch',\n",
       " 'aktivistisch umsetzen',\n",
       " 'umsetzen mussen',\n",
       " 'mussen um',\n",
       " 'um ihren',\n",
       " 'ihren eigenen',\n",
       " 'eigenen im',\n",
       " 'im zu',\n",
       " 'zu starken',\n",
       " 'starken zudem',\n",
       " 'zudem wird',\n",
       " 'wird sie',\n",
       " 'sie all',\n",
       " 'all notwendigen',\n",
       " 'notwendigen massnahmen',\n",
       " 'massnahmen ergreifen',\n",
       " 'ergreifen mussen',\n",
       " 'mussen um',\n",
       " 'um ein',\n",
       " 'ein wachsend',\n",
       " 'wachsend wirtschaftlich',\n",
       " 'wirtschaftlich abhangigkeit',\n",
       " 'abhangigkeit von',\n",
       " 'von china',\n",
       " 'china zu',\n",
       " 'zu verhindern']"
      ]
     },
     "execution_count": 88,
     "metadata": {},
     "output_type": "execute_result"
    }
   ],
   "source": [
    "bigrm[2]"
   ]
  },
  {
   "cell_type": "code",
   "execution_count": 95,
   "metadata": {},
   "outputs": [],
   "source": [
    "bigram = gensim.models.Phrases(lemmatized, min_count=3, threshold=50) \n",
    "bigram_mod = gensim.models.phrases.Phraser(bigram)\n",
    "bigramed = [bigram_mod[doc] for doc in lemmatized]"
   ]
  },
  {
   "cell_type": "code",
   "execution_count": 97,
   "metadata": {
    "scrolled": true
   },
   "outputs": [
    {
     "data": {
      "text/plain": [
       "['nowher',\n",
       " 'china',\n",
       " 'belt_road',\n",
       " 'initi_bri',\n",
       " 'evid',\n",
       " 'eurasia',\n",
       " 'span',\n",
       " 'central_asia',\n",
       " 'eastern_europ',\n",
       " 'china',\n",
       " 'transform',\n",
       " 'space',\n",
       " 'physic',\n",
       " 'infrastructur',\n",
       " 'also',\n",
       " 'polit',\n",
       " 'societ',\n",
       " 'engag',\n",
       " 'china',\n",
       " 'econom',\n",
       " 'clout',\n",
       " 'bri',\n",
       " 'land',\n",
       " 'base',\n",
       " 'compon',\n",
       " 'belt',\n",
       " 'alreadi',\n",
       " 'yield',\n",
       " 'consider',\n",
       " 'leverag',\n",
       " 'may',\n",
       " 'allow',\n",
       " 'beij',\n",
       " 'signific',\n",
       " 'leeway',\n",
       " 'shape',\n",
       " 'region',\n",
       " 'futur',\n",
       " 'ass',\n",
       " 'china',\n",
       " 'conduct',\n",
       " 'ground',\n",
       " 'help',\n",
       " 'reveal',\n",
       " 'true',\n",
       " 'intent',\n",
       " 'effect',\n",
       " 'transform',\n",
       " 'wrought',\n",
       " 'nirgendwo',\n",
       " 'ist',\n",
       " 'china',\n",
       " 'belt_road',\n",
       " 'initi_bri',\n",
       " 'al',\n",
       " 'eurasien',\n",
       " 'da',\n",
       " 'sich',\n",
       " 'von',\n",
       " 'zentralasien',\n",
       " 'bi',\n",
       " 'nach',\n",
       " 'osteuropa',\n",
       " 'erstreckt',\n",
       " 'china',\n",
       " 'verandert',\n",
       " 'diesen',\n",
       " 'raum',\n",
       " 'durch',\n",
       " 'physisch',\n",
       " 'infrastruktur',\n",
       " 'aber_auch',\n",
       " 'durch',\n",
       " 'politisch',\n",
       " 'und',\n",
       " 'engag',\n",
       " 'china',\n",
       " 'gewicht',\n",
       " 'und_die',\n",
       " 'landgestutzt',\n",
       " 'komponent',\n",
       " 'der',\n",
       " 'bri',\n",
       " 'der',\n",
       " 'belt',\n",
       " 'haben',\n",
       " 'bereit',\n",
       " 'ein_betrachtlich',\n",
       " 'hebelwirkung',\n",
       " 'entfaltet',\n",
       " 'und',\n",
       " 'konnten',\n",
       " 'peke',\n",
       " 'erheblichen',\n",
       " 'spielraum',\n",
       " 'bei_der',\n",
       " 'gestaltung',\n",
       " 'der_zukunft',\n",
       " 'der',\n",
       " 'region',\n",
       " 'geben',\n",
       " 'aber',\n",
       " 'nur',\n",
       " 'ein',\n",
       " 'bewertung',\n",
       " 'von',\n",
       " 'china',\n",
       " 'verhalten',\n",
       " 'vor',\n",
       " 'ort',\n",
       " 'wird',\n",
       " 'dazu',\n",
       " 'beitragen',\n",
       " 'sein',\n",
       " 'wahren',\n",
       " 'absichten',\n",
       " 'und_die',\n",
       " 'auswirkungen_der',\n",
       " 'von',\n",
       " 'ihm',\n",
       " 'herbeigefuhrten',\n",
       " 'transform',\n",
       " 'zu',\n",
       " 'enthullen']"
      ]
     },
     "execution_count": 97,
     "metadata": {},
     "output_type": "execute_result"
    }
   ],
   "source": [
    "bigramed[3]"
   ]
  },
  {
   "cell_type": "code",
   "execution_count": 98,
   "metadata": {},
   "outputs": [],
   "source": [
    "dictionary = corpora.Dictionary(bigramed)\n",
    "corpus = [dictionary.doc2bow(text) for text in bigramed]"
   ]
  },
  {
   "cell_type": "code",
   "execution_count": 99,
   "metadata": {},
   "outputs": [],
   "source": [
    "lda_model = gensim.models.ldamodel.LdaModel(corpus=corpus,\n",
    "                                           id2word=dictionary,\n",
    "                                           num_topics=30, \n",
    "                                           random_state=100,\n",
    "                                           update_every=1,\n",
    "                                           chunksize=100,\n",
    "                                           passes=10,\n",
    "                                           alpha='auto',\n",
    "                                           per_word_topics=True)"
   ]
  },
  {
   "cell_type": "code",
   "execution_count": null,
   "metadata": {},
   "outputs": [],
   "source": [
    "from pprint import pprint\n",
    "import pyLDAvis\n",
    "import pyLDAvis.gensim"
   ]
  },
  {
   "cell_type": "code",
   "execution_count": 104,
   "metadata": {},
   "outputs": [
    {
     "name": "stdout",
     "output_type": "stream",
     "text": [
      "[(25,\n",
      "  '0.122*\"matter\" + 0.079*\"surprisingli\" + 0.062*\"ci\" + 0.037*\"prime\" + '\n",
      "  '0.035*\"appar\" + 0.000*\"su_su\" + 0.000*\"stormvex\" + 0.000*\"spl\" + '\n",
      "  '0.000*\"iwc\" + 0.000*\"ifrac\"'),\n",
      " (12,\n",
      "  '0.276*\"trade\" + 0.091*\"magnet\" + 0.063*\"partner\" + 0.050*\"cours\" + '\n",
      "  '0.040*\"sum\" + 0.036*\"enough\" + 0.015*\"front\" + 0.015*\"illumin\" + '\n",
      "  '0.009*\"assur\" + 0.000*\"jaw\"'),\n",
      " (19,\n",
      "  '0.177*\"univers\" + 0.068*\"prospect\" + 0.062*\"mortal\" + 0.047*\"gradual\" + '\n",
      "  '0.041*\"obstacl\" + 0.031*\"align\" + 0.030*\"muscl\" + 0.026*\"eventu\" + '\n",
      "  '0.018*\"conjunct\" + 0.015*\"interconnect\"'),\n",
      " (29,\n",
      "  '0.236*\"govern\" + 0.172*\"polit\" + 0.071*\"eu\" + 0.066*\"domest\" + '\n",
      "  '0.065*\"europ\" + 0.022*\"melt\" + 0.022*\"art\" + 0.022*\"european_union\" + '\n",
      "  '0.008*\"giant\" + 0.008*\"uniti\"'),\n",
      " (28,\n",
      "  '0.148*\"regim\" + 0.110*\"von\" + 0.095*\"track\" + 0.076*\"earlier\" + '\n",
      "  '0.064*\"trajectori\" + 0.053*\"motor\" + 0.030*\"uncertain\" + 0.009*\"salient\" + '\n",
      "  '0.007*\"usa\" + 0.004*\"univers_hospit\"'),\n",
      " (8,\n",
      "  '0.145*\"cluster\" + 0.085*\"place\" + 0.059*\"migrat\" + 0.057*\"al\" + '\n",
      "  '0.054*\"engag\" + 0.048*\"statu\" + 0.044*\"student\" + 0.043*\"trace\" + '\n",
      "  '0.036*\"negoti\" + 0.036*\"see\"'),\n",
      " (0,\n",
      "  '0.187*\"industri\" + 0.119*\"subject\" + 0.090*\"protect\" + 0.054*\"except\" + '\n",
      "  '0.045*\"purchas\" + 0.036*\"argument\" + 0.029*\"station\" + 0.026*\"renew\" + '\n",
      "  '0.017*\"arm\" + 0.017*\"anisotrop\"'),\n",
      " (24,\n",
      "  '0.098*\"differenti\" + 0.085*\"light\" + 0.081*\"fulli\" + 0.065*\"spectrum\" + '\n",
      "  '0.061*\"wave\" + 0.061*\"label\" + 0.048*\"im\" + 0.048*\"setup\" + '\n",
      "  '0.044*\"quantiti\" + 0.038*\"scope\"'),\n",
      " (15,\n",
      "  '0.288*\"rate\" + 0.135*\"commun\" + 0.096*\"der\" + 0.092*\"die\" + 0.085*\"und\" + '\n",
      "  '0.062*\"financi\" + 0.030*\"zero\" + 0.029*\"perceiv\" + 0.019*\"news\" + '\n",
      "  '0.011*\"go\"'),\n",
      " (5,\n",
      "  '0.196*\"size\" + 0.140*\"neg\" + 0.103*\"secur\" + 0.066*\"document\" + '\n",
      "  '0.061*\"seri\" + 0.045*\"fund\" + 0.037*\"digit\" + 0.034*\"crisi\" + 0.025*\"cloud\" '\n",
      "  '+ 0.022*\"miss\"'),\n",
      " (6,\n",
      "  '0.103*\"economi\" + 0.086*\"institut\" + 0.071*\"consum\" + 0.067*\"sequenc\" + '\n",
      "  '0.065*\"map\" + 0.035*\"famili\" + 0.033*\"whole\" + 0.027*\"return\" + '\n",
      "  '0.025*\"exposur\" + 0.024*\"offici\"'),\n",
      " (16,\n",
      "  '0.113*\"year\" + 0.065*\"phase\" + 0.058*\"strong\" + 0.056*\"independ\" + '\n",
      "  '0.052*\"transit\" + 0.038*\"balanc\" + 0.037*\"extract\" + 0.036*\"european\" + '\n",
      "  '0.035*\"stabil\" + 0.031*\"node\"'),\n",
      " (23,\n",
      "  '0.194*\"network\" + 0.179*\"function\" + 0.053*\"program\" + 0.051*\"train\" + '\n",
      "  '0.050*\"equilibrium\" + 0.045*\"traffic\" + 0.036*\"learn\" + 0.035*\"task\" + '\n",
      "  '0.035*\"via\" + 0.033*\"restrict\"'),\n",
      " (17,\n",
      "  '0.179*\"product\" + 0.163*\"firm\" + 0.097*\"theori\" + 0.060*\"scheme\" + '\n",
      "  '0.038*\"format\" + 0.029*\"compani\" + 0.027*\"version\" + 0.025*\"game\" + '\n",
      "  '0.019*\"weak\" + 0.018*\"promis\"'),\n",
      " (2,\n",
      "  '0.103*\"group\" + 0.079*\"associ\" + 0.064*\"target\" + 0.055*\"regul\" + '\n",
      "  '0.036*\"origin\" + 0.036*\"patient\" + 0.030*\"health\" + 0.028*\"progress\" + '\n",
      "  '0.026*\"diseas\" + 0.025*\"ii\"'),\n",
      " (14,\n",
      "  '0.076*\"cost\" + 0.073*\"problem\" + 0.063*\"effici\" + 0.060*\"optim\" + '\n",
      "  '0.055*\"comput\" + 0.051*\"algorithm\" + 0.045*\"oper\" + 0.044*\"solut\" + '\n",
      "  '0.043*\"space\" + 0.038*\"approxim\"'),\n",
      " (9,\n",
      "  '0.059*\"chang\" + 0.046*\"observ\" + 0.040*\"indic\" + 0.034*\"region\" + '\n",
      "  '0.032*\"period\" + 0.029*\"global\" + 0.028*\"social\" + 0.025*\"individu\" + '\n",
      "  '0.024*\"popul\" + 0.022*\"pattern\"'),\n",
      " (13,\n",
      "  '0.037*\"effect\" + 0.028*\"level\" + 0.025*\"find\" + 0.025*\"increas\" + '\n",
      "  '0.024*\"countri\" + 0.020*\"polici\" + 0.019*\"impact\" + 0.019*\"import\" + '\n",
      "  '0.017*\"research\" + 0.015*\"survey\"'),\n",
      " (27,\n",
      "  '0.026*\"show\" + 0.020*\"structur\" + 0.017*\"high\" + 0.017*\"state\" + '\n",
      "  '0.016*\"condit\" + 0.015*\"investig\" + 0.014*\"depend\" + 0.014*\"control\" + '\n",
      "  '0.013*\"determin\" + 0.013*\"experi\"'),\n",
      " (20,\n",
      "  '0.030*\"model\" + 0.028*\"use\" + 0.020*\"data\" + 0.015*\"base\" + 0.015*\"result\" '\n",
      "  '+ 0.013*\"paper\" + 0.012*\"differ\" + 0.012*\"time\" + 0.012*\"studi\" + '\n",
      "  '0.011*\"gener\"')]\n"
     ]
    }
   ],
   "source": [
    "# Printing the Keywords in topics\n",
    "pprint(lda_model.print_topics())\n",
    "doc_lda = lda_model[corpus]"
   ]
  },
  {
   "cell_type": "code",
   "execution_count": 105,
   "metadata": {
    "scrolled": false
   },
   "outputs": [
    {
     "name": "stderr",
     "output_type": "stream",
     "text": [
      "C:\\Users\\danie\\Anaconda3\\lib\\site-packages\\pyLDAvis\\_prepare.py:257: FutureWarning: Sorting because non-concatenation axis is not aligned. A future version\n",
      "of pandas will change to not sort by default.\n",
      "\n",
      "To accept the future behavior, pass 'sort=False'.\n",
      "\n",
      "To retain the current behavior and silence the warning, pass 'sort=True'.\n",
      "\n",
      "  return pd.concat([default_term_info] + list(topic_dfs))\n"
     ]
    },
    {
     "data": {
      "text/html": [
       "\n",
       "<link rel=\"stylesheet\" type=\"text/css\" href=\"https://cdn.rawgit.com/bmabey/pyLDAvis/files/ldavis.v1.0.0.css\">\n",
       "\n",
       "\n",
       "<div id=\"ldavis_el474821266180174805391765043\"></div>\n",
       "<script type=\"text/javascript\">\n",
       "\n",
       "var ldavis_el474821266180174805391765043_data = {\"mdsDat\": {\"x\": [0.35912780915315107, 0.34670673464622587, 0.32472702987516205, 0.2181889125189576, 0.14469675295171716, 0.06942499039173783, 0.05258920675108816, 0.0325714648322862, 0.06316454421895798, 0.006521234064015382, -0.02219646736533586, -0.09318158755916613, -0.031061248269673946, -0.07779214902093179, -0.047207692143264056, -0.050701100235763435, 0.004139745514997435, -0.051020250406008764, -0.015255319966888706, -0.07527053165950522, -0.06945151464678799, -0.049196959798076666, -0.09640286214192284, -0.10841205407003453, -0.09989174475491537, -0.14308611716682756, -0.11009061403866921, -0.15675944222095115, -0.14290691674385214, -0.18197385270972155], \"y\": [-0.16979144552702818, -0.17705129740157724, -0.11837101967736585, 0.12934415071155972, 0.2615095878984602, 0.11572724673613488, 0.12767858798539486, 0.0934990987903466, 0.1473201248496903, 0.055510182012525375, 0.02156079039621748, -0.03767803465605069, 0.01237092657472044, -0.02723481119355666, -0.002901987207294356, -0.006159619659033675, 0.03287061882630004, -0.0063299034230877285, 0.029374349519659795, -0.025460119614013704, -0.02114001910441669, -0.004716028269271108, -0.03908843898495357, -0.04574750031849161, -0.04110101631404647, -0.06071817701394989, -0.04658824923695985, -0.06500663272328681, -0.06065493840388196, -0.07102642557274214], \"topics\": [1, 2, 3, 4, 5, 6, 7, 8, 9, 10, 11, 12, 13, 14, 15, 16, 17, 18, 19, 20, 21, 22, 23, 24, 25, 26, 27, 28, 29, 30], \"cluster\": [1, 1, 1, 1, 1, 1, 1, 1, 1, 1, 1, 1, 1, 1, 1, 1, 1, 1, 1, 1, 1, 1, 1, 1, 1, 1, 1, 1, 1, 1], \"Freq\": [39.95018768310547, 19.561975479125977, 13.02454662322998, 5.69184684753418, 2.841352939605713, 2.308595895767212, 1.6301078796386719, 1.5310007333755493, 1.4977525472640991, 0.9781555533409119, 0.9291698336601257, 0.9178762435913086, 0.8630508780479431, 0.746288537979126, 0.7424174547195435, 0.7275732159614563, 0.7194690704345703, 0.7053430080413818, 0.6494958996772766, 0.621310293674469, 0.6170544028282166, 0.6023434400558472, 0.5117656588554382, 0.38295793533325195, 0.34383299946784973, 0.24485136568546295, 0.2089892327785492, 0.18351176381111145, 0.17917288839817047, 0.08800571411848068]}, \"tinfo\": {\"Category\": [\"Default\", \"Default\", \"Default\", \"Default\", \"Default\", \"Default\", \"Default\", \"Default\", \"Default\", \"Default\", \"Default\", \"Default\", \"Default\", \"Default\", \"Default\", \"Default\", \"Default\", \"Default\", \"Default\", \"Default\", \"Default\", \"Default\", \"Default\", \"Default\", \"Default\", \"Default\", \"Default\", \"Default\", \"Default\", \"Default\", \"Topic1\", \"Topic1\", \"Topic1\", \"Topic1\", \"Topic1\", \"Topic1\", \"Topic1\", \"Topic1\", \"Topic1\", \"Topic1\", \"Topic1\", \"Topic1\", \"Topic1\", \"Topic1\", \"Topic1\", \"Topic1\", \"Topic1\", \"Topic1\", \"Topic1\", \"Topic1\", \"Topic1\", \"Topic1\", \"Topic1\", \"Topic1\", \"Topic1\", \"Topic1\", \"Topic1\", \"Topic1\", \"Topic1\", \"Topic1\", \"Topic1\", \"Topic1\", \"Topic1\", \"Topic1\", \"Topic1\", \"Topic1\", \"Topic1\", \"Topic1\", \"Topic1\", \"Topic1\", \"Topic1\", \"Topic1\", \"Topic1\", \"Topic1\", \"Topic2\", \"Topic2\", \"Topic2\", \"Topic2\", \"Topic2\", \"Topic2\", \"Topic2\", \"Topic2\", \"Topic2\", \"Topic2\", \"Topic2\", \"Topic2\", \"Topic2\", \"Topic2\", \"Topic2\", \"Topic2\", \"Topic2\", \"Topic2\", \"Topic2\", \"Topic2\", \"Topic2\", \"Topic2\", \"Topic2\", \"Topic2\", \"Topic2\", \"Topic2\", \"Topic2\", \"Topic2\", \"Topic2\", \"Topic2\", \"Topic2\", \"Topic2\", \"Topic2\", \"Topic2\", \"Topic2\", \"Topic2\", \"Topic2\", \"Topic2\", \"Topic2\", \"Topic2\", \"Topic2\", \"Topic2\", \"Topic2\", \"Topic3\", \"Topic3\", \"Topic3\", \"Topic3\", \"Topic3\", \"Topic3\", \"Topic3\", \"Topic3\", \"Topic3\", \"Topic3\", \"Topic3\", \"Topic3\", \"Topic3\", \"Topic3\", \"Topic3\", \"Topic3\", \"Topic3\", \"Topic3\", \"Topic3\", \"Topic3\", \"Topic3\", \"Topic3\", \"Topic3\", \"Topic3\", \"Topic3\", \"Topic3\", \"Topic3\", \"Topic3\", \"Topic3\", \"Topic3\", \"Topic3\", \"Topic3\", \"Topic3\", \"Topic3\", \"Topic3\", \"Topic3\", \"Topic3\", \"Topic3\", \"Topic3\", \"Topic3\", \"Topic3\", \"Topic3\", \"Topic3\", \"Topic3\", \"Topic3\", \"Topic3\", \"Topic4\", \"Topic4\", \"Topic4\", \"Topic4\", \"Topic4\", \"Topic4\", \"Topic4\", \"Topic4\", \"Topic4\", \"Topic4\", \"Topic4\", \"Topic4\", \"Topic4\", \"Topic4\", \"Topic4\", \"Topic4\", \"Topic4\", \"Topic4\", \"Topic4\", \"Topic4\", \"Topic4\", \"Topic4\", \"Topic4\", \"Topic4\", \"Topic4\", \"Topic4\", \"Topic4\", \"Topic4\", \"Topic4\", \"Topic4\", \"Topic4\", \"Topic4\", \"Topic4\", \"Topic4\", \"Topic4\", \"Topic4\", \"Topic4\", \"Topic4\", \"Topic4\", \"Topic4\", \"Topic4\", \"Topic4\", \"Topic4\", \"Topic5\", \"Topic5\", \"Topic5\", \"Topic5\", \"Topic5\", \"Topic5\", \"Topic5\", \"Topic5\", \"Topic5\", \"Topic5\", \"Topic5\", \"Topic5\", \"Topic5\", \"Topic5\", \"Topic5\", \"Topic5\", \"Topic5\", \"Topic5\", \"Topic5\", \"Topic5\", \"Topic5\", \"Topic5\", \"Topic5\", \"Topic5\", \"Topic5\", \"Topic5\", \"Topic5\", \"Topic5\", \"Topic5\", \"Topic5\", \"Topic5\", \"Topic5\", \"Topic5\", \"Topic6\", \"Topic6\", \"Topic6\", \"Topic6\", \"Topic6\", \"Topic6\", \"Topic6\", \"Topic6\", \"Topic6\", \"Topic6\", \"Topic6\", \"Topic6\", \"Topic6\", \"Topic6\", \"Topic6\", \"Topic6\", \"Topic6\", \"Topic6\", \"Topic6\", \"Topic6\", \"Topic6\", \"Topic6\", \"Topic6\", \"Topic6\", \"Topic6\", \"Topic6\", \"Topic6\", \"Topic6\", \"Topic6\", \"Topic6\", \"Topic6\", \"Topic6\", \"Topic7\", \"Topic7\", \"Topic7\", \"Topic7\", \"Topic7\", \"Topic7\", \"Topic7\", \"Topic7\", \"Topic7\", \"Topic7\", \"Topic7\", \"Topic7\", \"Topic7\", \"Topic7\", \"Topic7\", \"Topic7\", \"Topic7\", \"Topic7\", \"Topic7\", \"Topic7\", \"Topic7\", \"Topic7\", \"Topic7\", \"Topic7\", \"Topic7\", \"Topic7\", \"Topic7\", \"Topic7\", \"Topic7\", \"Topic7\", \"Topic7\", \"Topic7\", \"Topic7\", \"Topic8\", \"Topic8\", \"Topic8\", \"Topic8\", \"Topic8\", \"Topic8\", \"Topic8\", \"Topic8\", \"Topic8\", \"Topic8\", \"Topic8\", \"Topic8\", \"Topic8\", \"Topic8\", \"Topic8\", \"Topic8\", \"Topic8\", \"Topic8\", \"Topic8\", \"Topic8\", \"Topic8\", \"Topic8\", \"Topic8\", \"Topic8\", \"Topic8\", \"Topic8\", \"Topic8\", \"Topic8\", \"Topic8\", \"Topic8\", \"Topic9\", \"Topic9\", \"Topic9\", \"Topic9\", \"Topic9\", \"Topic9\", \"Topic9\", \"Topic9\", \"Topic9\", \"Topic9\", \"Topic9\", \"Topic9\", \"Topic9\", \"Topic9\", \"Topic9\", \"Topic9\", \"Topic9\", \"Topic9\", \"Topic9\", \"Topic9\", \"Topic9\", \"Topic9\", \"Topic9\", \"Topic9\", \"Topic9\", \"Topic9\", \"Topic9\", \"Topic9\", \"Topic9\", \"Topic9\", \"Topic10\", \"Topic10\", \"Topic10\", \"Topic10\", \"Topic10\", \"Topic10\", \"Topic10\", \"Topic10\", \"Topic10\", \"Topic10\", \"Topic10\", \"Topic10\", \"Topic10\", \"Topic10\", \"Topic10\", \"Topic10\", \"Topic10\", \"Topic10\", \"Topic10\", \"Topic10\", \"Topic10\", \"Topic10\", \"Topic10\", \"Topic10\", \"Topic10\", \"Topic10\", \"Topic10\", \"Topic10\", \"Topic10\", \"Topic10\", \"Topic11\", \"Topic11\", \"Topic11\", \"Topic11\", \"Topic11\", \"Topic11\", \"Topic11\", \"Topic11\", \"Topic11\", \"Topic11\", \"Topic11\", \"Topic11\", \"Topic11\", \"Topic11\", \"Topic11\", \"Topic11\", \"Topic11\", \"Topic11\", \"Topic11\", \"Topic11\", \"Topic11\", \"Topic11\", \"Topic11\", \"Topic11\", \"Topic11\", \"Topic11\", \"Topic11\", \"Topic11\", \"Topic11\", \"Topic11\", \"Topic11\", \"Topic11\", \"Topic11\", \"Topic11\", \"Topic12\", \"Topic12\", \"Topic12\", \"Topic12\", \"Topic12\", \"Topic12\", \"Topic12\", \"Topic12\", \"Topic12\", \"Topic12\", \"Topic12\", \"Topic12\", \"Topic12\", \"Topic12\", \"Topic12\", \"Topic12\", \"Topic12\", \"Topic12\", \"Topic12\", \"Topic12\", \"Topic12\", \"Topic12\", \"Topic12\", \"Topic12\", \"Topic12\", \"Topic12\", \"Topic12\", \"Topic12\", \"Topic12\", \"Topic12\", \"Topic12\", \"Topic12\", \"Topic12\", \"Topic12\", \"Topic12\", \"Topic12\", \"Topic12\", \"Topic12\", \"Topic12\", \"Topic12\", \"Topic12\", \"Topic12\", \"Topic12\", \"Topic12\", \"Topic12\", \"Topic12\", \"Topic12\", \"Topic12\", \"Topic12\", \"Topic12\", \"Topic13\", \"Topic13\", \"Topic13\", \"Topic13\", \"Topic13\", \"Topic13\", \"Topic13\", \"Topic13\", \"Topic13\", \"Topic13\", \"Topic13\", \"Topic13\", \"Topic13\", \"Topic13\", \"Topic13\", \"Topic13\", \"Topic13\", \"Topic13\", \"Topic13\", \"Topic13\", \"Topic13\", \"Topic13\", \"Topic13\", \"Topic13\", \"Topic13\", \"Topic13\", \"Topic13\", \"Topic13\", \"Topic13\", \"Topic13\", \"Topic13\", \"Topic13\", \"Topic13\", \"Topic13\", \"Topic13\", \"Topic13\", \"Topic13\", \"Topic13\", \"Topic13\", \"Topic13\", \"Topic14\", \"Topic14\", \"Topic14\", \"Topic14\", \"Topic14\", \"Topic14\", \"Topic14\", \"Topic14\", \"Topic14\", \"Topic14\", \"Topic14\", \"Topic14\", \"Topic14\", \"Topic14\", \"Topic14\", \"Topic14\", \"Topic14\", \"Topic14\", \"Topic14\", \"Topic14\", \"Topic14\", \"Topic14\", \"Topic14\", \"Topic14\", \"Topic14\", \"Topic14\", \"Topic14\", \"Topic14\", \"Topic14\", \"Topic14\", \"Topic15\", \"Topic15\", \"Topic15\", \"Topic15\", \"Topic15\", \"Topic15\", \"Topic15\", \"Topic15\", \"Topic15\", \"Topic15\", \"Topic15\", \"Topic15\", \"Topic15\", \"Topic15\", \"Topic15\", \"Topic15\", \"Topic15\", \"Topic15\", \"Topic15\", \"Topic15\", \"Topic15\", \"Topic15\", \"Topic15\", \"Topic15\", \"Topic15\", \"Topic15\", \"Topic15\", \"Topic15\", \"Topic15\", \"Topic15\", \"Topic15\", \"Topic15\", \"Topic15\", \"Topic15\", \"Topic15\", \"Topic15\", \"Topic15\", \"Topic15\", \"Topic15\", \"Topic15\", \"Topic15\", \"Topic15\", \"Topic15\", \"Topic15\", \"Topic15\", \"Topic15\", \"Topic15\", \"Topic16\", \"Topic16\", \"Topic16\", \"Topic16\", \"Topic16\", \"Topic16\", \"Topic16\", \"Topic16\", \"Topic16\", \"Topic16\", \"Topic16\", \"Topic16\", \"Topic16\", \"Topic16\", \"Topic16\", \"Topic16\", \"Topic16\", \"Topic16\", \"Topic16\", \"Topic16\", \"Topic16\", \"Topic16\", \"Topic16\", \"Topic16\", \"Topic16\", \"Topic16\", \"Topic16\", \"Topic16\", \"Topic16\", \"Topic16\", \"Topic17\", \"Topic17\", \"Topic17\", \"Topic17\", \"Topic17\", \"Topic17\", \"Topic17\", \"Topic17\", \"Topic17\", \"Topic17\", \"Topic17\", \"Topic17\", \"Topic17\", \"Topic17\", \"Topic17\", \"Topic17\", \"Topic17\", \"Topic17\", \"Topic17\", \"Topic17\", \"Topic17\", \"Topic17\", \"Topic17\", \"Topic17\", \"Topic17\", \"Topic17\", \"Topic17\", \"Topic17\", \"Topic17\", \"Topic17\", \"Topic17\", \"Topic17\", \"Topic17\", \"Topic17\", \"Topic17\", \"Topic17\", \"Topic17\", \"Topic17\", \"Topic18\", \"Topic18\", \"Topic18\", \"Topic18\", \"Topic18\", \"Topic18\", \"Topic18\", \"Topic18\", \"Topic18\", \"Topic18\", \"Topic18\", \"Topic18\", \"Topic18\", \"Topic18\", \"Topic18\", \"Topic18\", \"Topic18\", \"Topic18\", \"Topic18\", \"Topic18\", \"Topic18\", \"Topic18\", \"Topic18\", \"Topic18\", \"Topic18\", \"Topic18\", \"Topic18\", \"Topic18\", \"Topic18\", \"Topic18\", \"Topic18\", \"Topic18\", \"Topic18\", \"Topic18\", \"Topic18\", \"Topic18\", \"Topic18\", \"Topic18\", \"Topic18\", \"Topic19\", \"Topic19\", \"Topic19\", \"Topic19\", \"Topic19\", \"Topic19\", \"Topic19\", \"Topic19\", \"Topic19\", \"Topic19\", \"Topic19\", \"Topic19\", \"Topic19\", \"Topic19\", \"Topic19\", \"Topic19\", \"Topic19\", \"Topic19\", \"Topic19\", \"Topic19\", \"Topic19\", \"Topic19\", \"Topic19\", \"Topic19\", \"Topic19\", \"Topic19\", \"Topic19\", \"Topic19\", \"Topic19\", \"Topic19\", \"Topic19\", \"Topic19\", \"Topic19\", \"Topic19\", \"Topic19\", \"Topic19\", \"Topic19\", \"Topic19\", \"Topic19\", \"Topic19\", \"Topic19\", \"Topic19\", \"Topic19\", \"Topic19\", \"Topic19\", \"Topic19\", \"Topic19\", \"Topic19\", \"Topic19\", \"Topic19\", \"Topic20\", \"Topic20\", \"Topic20\", \"Topic20\", \"Topic20\", \"Topic20\", \"Topic20\", \"Topic20\", \"Topic20\", \"Topic20\", \"Topic20\", \"Topic20\", \"Topic20\", \"Topic20\", \"Topic20\", \"Topic20\", \"Topic20\", \"Topic20\", \"Topic20\", \"Topic20\", \"Topic20\", \"Topic20\", \"Topic20\", \"Topic20\", \"Topic20\", \"Topic20\", \"Topic20\", \"Topic20\", \"Topic20\", \"Topic20\", \"Topic21\", \"Topic21\", \"Topic21\", \"Topic21\", \"Topic21\", \"Topic21\", \"Topic21\", \"Topic21\", \"Topic21\", \"Topic21\", \"Topic21\", \"Topic21\", \"Topic21\", \"Topic21\", \"Topic21\", \"Topic21\", \"Topic21\", \"Topic21\", \"Topic21\", \"Topic21\", \"Topic21\", \"Topic21\", \"Topic21\", \"Topic21\", \"Topic21\", \"Topic21\", \"Topic21\", \"Topic21\", \"Topic21\", \"Topic21\", \"Topic21\", \"Topic21\", \"Topic21\", \"Topic21\", \"Topic21\", \"Topic21\", \"Topic21\", \"Topic21\", \"Topic21\", \"Topic21\", \"Topic21\", \"Topic22\", \"Topic22\", \"Topic22\", \"Topic22\", \"Topic22\", \"Topic22\", \"Topic22\", \"Topic22\", \"Topic22\", \"Topic22\", \"Topic22\", \"Topic22\", \"Topic22\", \"Topic22\", \"Topic22\", \"Topic22\", \"Topic22\", \"Topic22\", \"Topic22\", \"Topic22\", \"Topic22\", \"Topic22\", \"Topic22\", \"Topic22\", \"Topic22\", \"Topic22\", \"Topic22\", \"Topic22\", \"Topic22\", \"Topic22\", \"Topic22\", \"Topic22\", \"Topic22\", \"Topic22\", \"Topic22\", \"Topic22\", \"Topic22\", \"Topic22\", \"Topic22\", \"Topic22\", \"Topic22\", \"Topic23\", \"Topic23\", \"Topic23\", \"Topic23\", \"Topic23\", \"Topic23\", \"Topic23\", \"Topic23\", \"Topic23\", \"Topic23\", \"Topic23\", \"Topic23\", \"Topic23\", \"Topic23\", \"Topic23\", \"Topic23\", \"Topic23\", \"Topic23\", \"Topic23\", \"Topic23\", \"Topic23\", \"Topic23\", \"Topic23\", \"Topic23\", \"Topic23\", \"Topic23\", \"Topic23\", \"Topic23\", \"Topic23\", \"Topic23\", \"Topic23\", \"Topic23\", \"Topic23\", \"Topic23\", \"Topic23\", \"Topic23\", \"Topic23\", \"Topic23\", \"Topic23\", \"Topic23\", \"Topic23\", \"Topic24\", \"Topic24\", \"Topic24\", \"Topic24\", \"Topic24\", \"Topic24\", \"Topic24\", \"Topic24\", \"Topic24\", \"Topic24\", \"Topic24\", \"Topic24\", \"Topic24\", \"Topic24\", \"Topic24\", \"Topic24\", \"Topic24\", \"Topic24\", \"Topic24\", \"Topic24\", \"Topic24\", \"Topic24\", \"Topic24\", \"Topic24\", \"Topic24\", \"Topic24\", \"Topic24\", \"Topic24\", \"Topic24\", \"Topic24\", \"Topic24\", \"Topic24\", \"Topic24\", \"Topic24\", \"Topic24\", \"Topic24\", \"Topic24\", \"Topic24\", \"Topic24\", \"Topic24\", \"Topic24\", \"Topic25\", \"Topic25\", \"Topic25\", \"Topic25\", \"Topic25\", \"Topic25\", \"Topic25\", \"Topic25\", \"Topic25\", \"Topic25\", \"Topic25\", \"Topic25\", \"Topic25\", \"Topic25\", \"Topic25\", \"Topic25\", \"Topic25\", \"Topic25\", \"Topic25\", \"Topic25\", \"Topic25\", \"Topic25\", \"Topic25\", \"Topic25\", \"Topic25\", \"Topic25\", \"Topic25\", \"Topic25\", \"Topic25\", \"Topic25\", \"Topic25\", \"Topic25\", \"Topic25\", \"Topic25\", \"Topic25\", \"Topic25\", \"Topic25\", \"Topic25\", \"Topic25\", \"Topic25\", \"Topic25\", \"Topic25\", \"Topic26\", \"Topic26\", \"Topic26\", \"Topic26\", \"Topic26\", \"Topic26\", \"Topic26\", \"Topic26\", \"Topic26\", \"Topic26\", \"Topic26\", \"Topic26\", \"Topic26\", \"Topic26\", \"Topic26\", \"Topic26\", \"Topic26\", \"Topic26\", \"Topic26\", \"Topic26\", \"Topic26\", \"Topic26\", \"Topic26\", \"Topic26\", \"Topic26\", \"Topic26\", \"Topic26\", \"Topic26\", \"Topic26\", \"Topic26\", \"Topic26\", \"Topic26\", \"Topic26\", \"Topic26\", \"Topic26\", \"Topic26\", \"Topic26\", \"Topic26\", \"Topic26\", \"Topic26\", \"Topic26\", \"Topic26\", \"Topic26\", \"Topic26\", \"Topic26\", \"Topic26\", \"Topic26\", \"Topic26\", \"Topic26\", \"Topic26\", \"Topic27\", \"Topic27\", \"Topic27\", \"Topic27\", \"Topic27\", \"Topic27\", \"Topic27\", \"Topic27\", \"Topic27\", \"Topic27\", \"Topic27\", \"Topic27\", \"Topic27\", \"Topic27\", \"Topic27\", \"Topic27\", \"Topic27\", \"Topic27\", \"Topic27\", \"Topic27\", \"Topic27\", \"Topic27\", \"Topic27\", \"Topic27\", \"Topic27\", \"Topic27\", \"Topic27\", \"Topic27\", \"Topic27\", \"Topic27\", \"Topic27\", \"Topic27\", \"Topic27\", \"Topic27\", \"Topic27\", \"Topic27\", \"Topic27\", \"Topic27\", \"Topic27\", \"Topic27\", \"Topic27\", \"Topic27\", \"Topic27\", \"Topic27\", \"Topic27\", \"Topic27\", \"Topic27\", \"Topic27\", \"Topic28\", \"Topic28\", \"Topic28\", \"Topic28\", \"Topic28\", \"Topic28\", \"Topic28\", \"Topic28\", \"Topic28\", \"Topic28\", \"Topic28\", \"Topic28\", \"Topic28\", \"Topic28\", \"Topic28\", \"Topic28\", \"Topic28\", \"Topic28\", \"Topic28\", \"Topic28\", \"Topic28\", \"Topic28\", \"Topic28\", \"Topic28\", \"Topic28\", \"Topic28\", \"Topic28\", \"Topic28\", \"Topic28\", \"Topic28\", \"Topic28\", \"Topic28\", \"Topic28\", \"Topic28\", \"Topic28\", \"Topic28\", \"Topic28\", \"Topic28\", \"Topic28\", \"Topic28\", \"Topic28\", \"Topic28\", \"Topic28\", \"Topic28\", \"Topic28\", \"Topic28\", \"Topic28\", \"Topic28\", \"Topic29\", \"Topic29\", \"Topic29\", \"Topic29\", \"Topic29\", \"Topic29\", \"Topic29\", \"Topic29\", \"Topic29\", \"Topic29\", \"Topic29\", \"Topic29\", \"Topic29\", \"Topic29\", \"Topic29\", \"Topic29\", \"Topic29\", \"Topic29\", \"Topic29\", \"Topic29\", \"Topic29\", \"Topic29\", \"Topic29\", \"Topic29\", \"Topic29\", \"Topic29\", \"Topic29\", \"Topic29\", \"Topic29\", \"Topic29\", \"Topic29\", \"Topic29\", \"Topic29\", \"Topic29\", \"Topic29\", \"Topic29\", \"Topic29\", \"Topic29\", \"Topic29\", \"Topic29\", \"Topic29\", \"Topic29\", \"Topic29\", \"Topic29\", \"Topic29\", \"Topic29\", \"Topic29\", \"Topic29\", \"Topic29\", \"Topic29\", \"Topic29\", \"Topic30\", \"Topic30\", \"Topic30\", \"Topic30\", \"Topic30\", \"Topic30\", \"Topic30\", \"Topic30\", \"Topic30\", \"Topic30\", \"Topic30\", \"Topic30\", \"Topic30\", \"Topic30\", \"Topic30\", \"Topic30\", \"Topic30\", \"Topic30\", \"Topic30\", \"Topic30\", \"Topic30\", \"Topic30\", \"Topic30\", \"Topic30\", \"Topic30\", \"Topic30\", \"Topic30\", \"Topic30\", \"Topic30\", \"Topic30\", \"Topic30\", \"Topic30\", \"Topic30\", \"Topic30\", \"Topic30\", \"Topic30\", \"Topic30\", \"Topic30\", \"Topic30\", \"Topic30\", \"Topic30\", \"Topic30\", \"Topic30\", \"Topic30\", \"Topic30\", \"Topic30\", \"Topic30\", \"Topic30\", \"Topic30\", \"Topic30\", \"Topic30\", \"Topic30\", \"Topic30\", \"Topic30\"], \"Freq\": [8565.0, 7385.0, 6827.0, 6253.0, 28187.0, 5711.0, 26149.0, 4668.0, 8436.0, 4380.0, 14412.0, 4474.0, 5578.0, 4095.0, 3814.0, 14253.0, 5045.0, 3764.0, 6175.0, 3562.0, 4873.0, 8638.0, 4052.0, 18488.0, 4270.0, 5841.0, 3325.0, 7633.0, 3229.0, 7617.0, 28186.029296875, 18486.921875, 14183.60546875, 12498.591796875, 10710.8740234375, 9123.244140625, 8866.5361328125, 8527.8095703125, 8192.7900390625, 8166.50634765625, 8119.10546875, 7591.2705078125, 7260.3740234375, 7253.8193359375, 7138.19677734375, 6970.00537109375, 5764.19384765625, 5637.17138671875, 5629.93896484375, 5477.8515625, 5093.93408203125, 4763.6181640625, 4674.32421875, 4510.64990234375, 4244.7646484375, 4154.1787109375, 4148.4794921875, 4121.34912109375, 4118.0419921875, 4110.7275390625, 26125.166015625, 11442.44140625, 5975.27197265625, 8081.13671875, 4859.0966796875, 5243.80419921875, 4896.5615234375, 11445.0283203125, 13993.7001953125, 10967.3857421875, 7903.01513671875, 7303.603515625, 6508.4951171875, 6176.93798828125, 9028.251953125, 7981.7705078125, 7872.64697265625, 7457.2724609375, 6758.5703125, 6504.10400390625, 6485.5234375, 5740.7958984375, 5673.783203125, 4957.14697265625, 4829.32958984375, 4653.71923828125, 4497.60888671875, 4275.279296875, 4252.54296875, 4193.8720703125, 4076.257080078125, 3913.379150390625, 3597.448974609375, 3504.747314453125, 3437.03857421875, 3370.826416015625, 3368.6728515625, 3121.423095703125, 2785.267578125, 2610.876708984375, 2582.2021484375, 2326.149169921875, 2293.552978515625, 2267.257080078125, 4290.9609375, 5747.7861328125, 5326.7451171875, 4895.912109375, 3455.79150390625, 12055.6875, 5120.279296875, 5201.74365234375, 3810.90869140625, 4021.5322265625, 4352.7177734375, 3653.863525390625, 3794.508056640625, 7293.1494140625, 5951.73876953125, 5857.22607421875, 4642.84033203125, 4588.26123046875, 4376.51220703125, 4346.1875, 3816.232177734375, 3767.436279296875, 3591.524169921875, 2933.685791015625, 2929.41796875, 2911.732421875, 2697.965087890625, 2690.3720703125, 2610.012939453125, 2591.706298828125, 2588.91064453125, 2540.7978515625, 2519.730224609375, 2317.2607421875, 2314.067138671875, 2312.0771484375, 2215.814697265625, 2146.431396484375, 2057.9765625, 1979.4217529296875, 1968.1865234375, 1928.3116455078125, 1868.638671875, 7602.44677734375, 8586.5859375, 7536.4912109375, 5690.48681640625, 2708.39306640625, 2776.63623046875, 5318.74462890625, 11212.72265625, 2431.044189453125, 3394.357421875, 3328.08203125, 2897.931640625, 4095.4169921875, 2984.373779296875, 2692.298828125, 2892.54833984375, 4490.732421875, 4312.63818359375, 3801.853271484375, 3669.543212890625, 3174.472900390625, 2911.24951171875, 2855.026611328125, 2649.473388671875, 2565.37353515625, 2471.7177734375, 2358.601318359375, 1954.998291015625, 1644.9801025390625, 1584.099609375, 1351.8499755859375, 1302.5006103515625, 1286.1893310546875, 1239.3968505859375, 1190.3568115234375, 1181.4564208984375, 1171.0067138671875, 1116.352294921875, 1024.6195068359375, 916.2606201171875, 913.6239624023438, 893.4801025390625, 784.673583984375, 742.1134033203125, 734.5963745117188, 729.5176391601562, 6111.2509765625, 2900.204345703125, 2552.114501953125, 2724.202880859375, 7902.9853515625, 5292.53515625, 2717.009765625, 3332.602783203125, 2311.8544921875, 1648.1678466796875, 2076.46826171875, 1506.113525390625, 1275.7493896484375, 5044.3701171875, 4871.9599609375, 4152.234375, 4008.68701171875, 3624.12353515625, 3381.35986328125, 3000.589111328125, 2915.492919921875, 2506.174072265625, 2824.546142578125, 1886.467041015625, 1823.5201416015625, 1583.0733642578125, 1570.425048828125, 1349.5831298828125, 1228.7972412109375, 1080.7939453125, 900.3110961914062, 872.431396484375, 793.6890869140625, 781.6355590820312, 769.7879028320312, 647.6337890625, 560.3986206054688, 547.7716064453125, 541.624267578125, 541.3617553710938, 436.39862060546875, 411.0628356933594, 408.68316650390625, 528.0550537109375, 1581.716552734375, 644.7764282226562, 5576.875, 4268.67138671875, 3463.877685546875, 2966.892822265625, 1939.643310546875, 1923.301513671875, 1612.1671142578125, 1496.426513671875, 1419.6456298828125, 1355.6287841796875, 1344.8021240234375, 1310.66943359375, 1282.4647216796875, 1240.72607421875, 1173.7672119140625, 1060.4619140625, 1056.7445068359375, 1040.644287109375, 957.1503295898438, 933.855224609375, 855.2342529296875, 796.3325805664062, 787.4848022460938, 771.5304565429688, 705.9771728515625, 691.8096923828125, 631.8397827148438, 589.37890625, 457.38787841796875, 455.50054931640625, 808.5401611328125, 462.83306884765625, 7384.375, 6826.03271484375, 2027.554931640625, 1929.8828125, 1919.6104736328125, 1721.39404296875, 1364.894287109375, 1329.531494140625, 1325.58056640625, 1264.4105224609375, 892.624267578125, 800.2362670898438, 778.1775512695312, 746.259765625, 696.0673828125, 578.7232055664062, 521.2706909179688, 421.05487060546875, 412.940673828125, 377.16363525390625, 356.17999267578125, 296.2181091308594, 286.2629089355469, 257.2314453125, 164.00839233398438, 112.5987548828125, 45.53281784057617, 36.78940963745117, 0.052864979952573776, 0.052864979952573776, 2.4477479457855225, 0.052864979952573776, 0.052864979952573776, 4051.58837890625, 2330.695068359375, 2081.35546875, 2010.4940185546875, 1872.898681640625, 1371.689697265625, 1333.6719970703125, 1273.8973388671875, 1252.739013671875, 1121.4722900390625, 1054.9000244140625, 982.7169189453125, 954.2361450195312, 652.8334350585938, 638.0975952148438, 587.764892578125, 555.2001953125, 512.5692749023438, 471.2906188964844, 464.8168640136719, 449.8636169433594, 417.1603698730469, 401.05596923828125, 391.0221862792969, 380.46429443359375, 344.9746398925781, 344.81591796875, 333.2709045410156, 329.1236267089844, 294.8572998046875, 6252.0771484375, 5709.83056640625, 3384.878173828125, 2106.38037109375, 1315.1368408203125, 1027.5992431640625, 950.7095947265625, 861.267578125, 650.5005493164062, 626.0029296875, 538.9840698242188, 475.98248291015625, 468.2658996582031, 468.30621337890625, 437.51068115234375, 434.33685302734375, 414.4858703613281, 413.8106994628906, 400.20404052734375, 366.7773132324219, 325.5798645019531, 312.3361511230469, 310.3523864746094, 286.6455993652344, 280.3051452636719, 224.46612548828125, 220.0527801513672, 219.79954528808594, 200.4217529296875, 192.08177185058594, 2365.606201171875, 1956.5225830078125, 1627.8992919921875, 1528.5155029296875, 1488.9478759765625, 804.6624145507812, 745.9349975585938, 624.59814453125, 575.0426635742188, 544.00146484375, 505.5730285644531, 453.65655517578125, 395.3384094238281, 357.7257385253906, 340.4739074707031, 338.4477844238281, 337.10272216796875, 317.3990478515625, 313.3772888183594, 296.3050231933594, 262.3282165527344, 234.8450469970703, 233.09056091308594, 233.0371856689453, 228.37545776367188, 224.75640869140625, 213.92088317871094, 212.2194366455078, 202.75900268554688, 196.26927185058594, 8564.0380859375, 1770.2991943359375, 998.003662109375, 959.224853515625, 850.8707275390625, 717.30419921875, 675.8112182617188, 574.6385498046875, 451.0458068847656, 409.55218505859375, 340.8266296386719, 265.1461181640625, 258.3555908203125, 239.03758239746094, 210.2440948486328, 206.3334197998047, 162.61073303222656, 153.81642150878906, 140.06802368164062, 118.02130126953125, 107.71361541748047, 100.07487487792969, 85.22537231445312, 79.78229522705078, 33.99951171875, 29.231346130371094, 0.05262387916445732, 0.05262387916445732, 0.05262387916445732, 0.05262387916445732, 0.05262387916445732, 0.05262387916445732, 0.05262387916445732, 0.05262387916445732, 3762.96923828125, 3324.513427734375, 3227.740478515625, 1131.008056640625, 1088.001708984375, 959.2747802734375, 905.1213989257812, 514.565673828125, 247.75486755371094, 246.09422302246094, 236.0771026611328, 161.76376342773438, 141.0350341796875, 9.01113510131836, 0.08963291347026825, 0.08963291347026825, 0.08963291347026825, 0.08963291347026825, 0.08963291347026825, 0.08963291347026825, 0.08963291347026825, 0.08963291347026825, 0.08963291347026825, 0.08963291347026825, 0.08963291347026825, 0.08963291347026825, 0.08963291347026825, 0.08963291347026825, 0.08963291347026825, 0.08963291347026825, 14.4262113571167, 0.08963291347026825, 0.08963291347026825, 0.08963291347026825, 0.08963291347026825, 0.08963291347026825, 0.08963291347026825, 0.08963291347026825, 0.08963291347026825, 0.08963291347026825, 0.08963291347026825, 0.08963291347026825, 0.08963291347026825, 0.08963291347026825, 0.08963291347026825, 0.08963291347026825, 0.08963291347026825, 0.08963291347026825, 0.08963291347026825, 0.08963291347026825, 4472.869140625, 4094.295166015625, 1554.7852783203125, 1497.90576171875, 915.48681640625, 726.1026000976562, 631.1573486328125, 488.4078063964844, 469.80615234375, 326.5455017089844, 287.418701171875, 234.24557495117188, 229.0614013671875, 215.79672241210938, 202.80104064941406, 182.93089294433594, 162.00404357910156, 108.5346908569336, 90.76121520996094, 88.43199157714844, 0.05222728103399277, 0.05222728103399277, 0.05222728103399277, 0.05222728103399277, 0.05222728103399277, 0.05222728103399277, 0.05222728103399277, 0.05222728103399277, 0.05222728103399277, 0.05222728103399277, 0.05222728103399277, 0.05222728103399277, 0.05222728103399277, 0.05222728103399277, 0.05222728103399277, 0.05222728103399277, 0.05222728103399277, 0.05222728103399277, 0.05222728103399277, 0.05222728103399277, 2247.00732421875, 1900.631591796875, 685.2991943359375, 635.7236328125, 586.8803100585938, 577.5945434570312, 568.6401977539062, 519.1231079101562, 516.3497924804688, 466.7838439941406, 420.97637939453125, 410.5884704589844, 387.7153625488281, 375.4253845214844, 373.65301513671875, 347.9270324707031, 336.41748046875, 278.8934631347656, 269.2520751953125, 258.3203430175781, 232.6941375732422, 223.39346313476562, 192.7056427001953, 156.44436645507812, 144.74937438964844, 123.55016326904297, 84.38882446289062, 69.61674499511719, 68.59090423583984, 61.23628616333008, 3561.5498046875, 2029.575927734375, 1943.007080078125, 1841.616455078125, 1347.83447265625, 1291.8192138671875, 518.3703002929688, 464.0929260253906, 348.18377685546875, 344.224365234375, 249.03460693359375, 180.38050842285156, 132.54782104492188, 0.05069717392325401, 0.05069717392325401, 0.05069717392325401, 0.05069717392325401, 0.05069717392325401, 0.05069717392325401, 0.05069717392325401, 0.05069717392325401, 0.05069717392325401, 0.05069717392325401, 0.05069717392325401, 0.05069717392325401, 0.05069717392325401, 0.05069717392325401, 0.05069717392325401, 0.05069717392325401, 0.05069717392325401, 0.05069717392325401, 0.05069717392325401, 0.05069717392325401, 0.05069717392325401, 0.05069717392325401, 0.05069717392325401, 0.05069717392325401, 0.05069717392325401, 0.05069717392325401, 0.05069717392325401, 0.05069717392325401, 0.05069717392325401, 0.05069717392325401, 0.05069717392325401, 0.05069717392325401, 0.05069717392325401, 0.05069717392325401, 1462.4591064453125, 1247.0177001953125, 942.106689453125, 851.144287109375, 835.178955078125, 829.9927978515625, 599.5302734375, 588.5661010742188, 503.4585266113281, 490.0240783691406, 478.67083740234375, 412.6238098144531, 402.4364929199219, 379.5545349121094, 370.3549499511719, 347.3547058105469, 341.770263671875, 338.1036682128906, 307.8908386230469, 272.74896240234375, 268.9176025390625, 262.22125244140625, 235.62232971191406, 233.32327270507812, 162.1187744140625, 152.25674438476562, 149.3268280029297, 116.6038818359375, 100.55817413330078, 89.47522735595703, 4667.5732421875, 2774.3671875, 1607.4486083984375, 1258.409423828125, 1029.954345703125, 432.1053466796875, 404.9512939453125, 303.9280090332031, 250.37135314941406, 237.6659698486328, 224.2154998779297, 198.94015502929688, 154.4116973876953, 106.53461456298828, 100.0611572265625, 78.96312713623047, 60.96477508544922, 43.25714874267578, 16.97763442993164, 613.7477416992188, 28.142627716064453, 93.386962890625, 0.03479749709367752, 0.03479749709367752, 0.03479749709367752, 0.03479749709367752, 0.03479749709367752, 0.03479749709367752, 0.03479749709367752, 0.03479749709367752, 3.751877546310425, 0.03479749709367752, 0.03479749709367752, 0.03479749709367752, 0.03479749709367752, 0.03479749709367752, 0.03479749709367752, 0.03479749709367752, 1608.7408447265625, 1591.7132568359375, 1532.178955078125, 1403.5189208984375, 1235.75341796875, 1112.7847900390625, 746.3114013671875, 667.0531005859375, 547.9310913085938, 533.57080078125, 495.730224609375, 494.701904296875, 287.4537048339844, 263.6695556640625, 173.7071075439453, 168.2235107421875, 167.81578063964844, 153.0572052001953, 116.17479705810547, 114.2197036743164, 47.63931655883789, 0.04945442080497742, 0.04945442080497742, 0.04945442080497742, 0.04945442080497742, 0.04945442080497742, 0.04945442080497742, 0.04945442080497742, 0.04945442080497742, 0.04945442080497742, 0.04945442080497742, 0.04945442080497742, 0.04945442080497742, 0.04945442080497742, 0.04945442080497742, 0.04945442080497742, 0.04945442080497742, 0.04945442080497742, 0.04945442080497742, 4379.52197265625, 2057.203369140625, 1459.8375244140625, 1401.622802734375, 1290.669677734375, 944.97607421875, 461.7657775878906, 437.3798828125, 281.0495910644531, 174.5985870361328, 67.14656066894531, 31.613128662109375, 25.822223663330078, 23.65188980102539, 0.03507405146956444, 0.03507404774427414, 0.03507404774427414, 0.03507404774427414, 0.03507404774427414, 0.03507404774427414, 0.03507404774427414, 0.03507404774427414, 0.03507404774427414, 0.03507404774427414, 0.03507404774427414, 0.03507404774427414, 0.03507404774427414, 0.03507404774427414, 0.03507404774427414, 0.03507404774427414, 0.03507404774427414, 0.03507404774427414, 0.03507404774427414, 0.03507404774427414, 0.03507404774427414, 0.03507404774427414, 0.03507404774427414, 0.03507404774427414, 0.03507404774427414, 0.03507404774427414, 0.03507404774427414, 0.03507404774427414, 0.03507404774427414, 0.03507404774427414, 0.03507404774427414, 0.03507404774427414, 0.03507404774427414, 0.03507404774427414, 0.03507404774427414, 0.03507404774427414, 904.89111328125, 825.48876953125, 750.416748046875, 737.04296875, 645.5460205078125, 499.9568176269531, 486.374267578125, 480.76715087890625, 478.0372314453125, 470.3600769042969, 464.54840087890625, 454.89862060546875, 443.9048767089844, 393.5558776855469, 347.57757568359375, 345.84979248046875, 340.687744140625, 301.4902648925781, 283.38751220703125, 278.56219482421875, 270.52410888671875, 260.18365478515625, 255.91188049316406, 222.45651245117188, 221.6585235595703, 87.00006866455078, 39.62752151489258, 13.169567108154297, 11.857526779174805, 7.17858362197876, 3812.732177734375, 2209.088134765625, 1480.87841796875, 1099.3358154296875, 696.8792724609375, 296.6820983886719, 270.85833740234375, 233.3053436279297, 214.78988647460938, 193.0386962890625, 182.85861206054688, 172.2646026611328, 163.70628356933594, 124.84373474121094, 67.15542602539062, 54.48298263549805, 50.7773323059082, 43.56327438354492, 9.586731910705566, 0.049793533980846405, 0.049793533980846405, 0.049793533980846405, 0.049793533980846405, 0.049793533980846405, 0.049793533980846405, 0.049793533980846405, 0.049793533980846405, 0.049793533980846405, 0.049793533980846405, 0.049793533980846405, 0.049793533980846405, 0.049793533980846405, 0.049793533980846405, 0.049793533980846405, 0.049793533980846405, 0.049793533980846405, 0.049793533980846405, 0.049793533980846405, 0.049793533980846405, 0.049793533980846405, 0.049793533980846405, 2762.412109375, 1977.4337158203125, 1455.596435546875, 926.4965209960938, 852.4087524414062, 627.20751953125, 519.9408569335938, 485.5731201171875, 353.3743896484375, 310.7790222167969, 253.40927124023438, 228.97894287109375, 192.32144165039062, 150.05221557617188, 110.45775604248047, 97.2206802368164, 93.5858154296875, 91.46086883544922, 40.78852462768555, 0.04168663173913956, 0.04168663173913956, 0.04168663173913956, 0.04168663173913956, 0.04168663173913956, 0.04168663173913956, 0.04168663173913956, 0.04168663173913956, 0.04168663173913956, 0.04168663173913956, 0.04168663173913956, 0.04168663173913956, 0.04168663173913956, 0.04168663173913956, 0.04168663173913956, 0.04168663173913956, 0.04168663173913956, 0.04168663173913956, 0.04168663173913956, 0.04168663173913956, 0.04168663173913956, 0.04168663173913956, 1168.0455322265625, 1012.0057983398438, 972.7821655273438, 782.1436157226562, 729.4365234375, 724.4061889648438, 575.8182983398438, 569.7047729492188, 523.5296630859375, 452.5527038574219, 257.387451171875, 213.1289825439453, 207.43238830566406, 170.95738220214844, 141.86224365234375, 127.71731567382812, 100.38829803466797, 50.9167594909668, 50.097503662109375, 0.051177721470594406, 0.051177721470594406, 0.051177721470594406, 0.051177721470594406, 0.051177721470594406, 0.051177721470594406, 0.051177721470594406, 0.051177721470594406, 0.051177721470594406, 0.051177721470594406, 0.051177721470594406, 0.051177721470594406, 0.051177721470594406, 0.051177721470594406, 0.051177721470594406, 0.051177721470594406, 0.051177721470594406, 0.051177721470594406, 0.051177721470594406, 0.051177721470594406, 0.051177721470594406, 0.051177721470594406, 1675.2313232421875, 1063.4183349609375, 807.276123046875, 479.8354187011719, 401.6553039550781, 323.6700744628906, 257.0923156738281, 235.31024169921875, 153.3389892578125, 149.8491668701172, 130.3523406982422, 112.851318359375, 103.02315521240234, 96.81959533691406, 96.09566497802734, 95.12725067138672, 66.73297119140625, 61.339988708496094, 46.8238410949707, 0.04240942373871803, 0.04240942373871803, 0.04240942373871803, 0.04240942373871803, 0.04240942373871803, 0.04240942373871803, 0.04240942373871803, 0.04240942373871803, 0.04240942373871803, 0.04240942373871803, 0.04240942373871803, 0.04240942373871803, 0.04240942373871803, 0.04240942373871803, 0.04240942373871803, 0.04240942373871803, 0.04240942373871803, 0.04240942373871803, 0.04240942373871803, 0.04240942373871803, 0.04240942373871803, 0.04240942373871803, 1167.6802978515625, 682.3770751953125, 474.0237121582031, 459.7313232421875, 435.81829833984375, 385.9854431152344, 353.6690368652344, 343.8363037109375, 286.8132019042969, 285.5351867675781, 246.8424072265625, 211.15773010253906, 124.01960754394531, 119.01496124267578, 108.43026733398438, 104.41661071777344, 70.35527801513672, 10.253944396972656, 0.03540770709514618, 0.03540770709514618, 0.03540770709514618, 0.03540770709514618, 0.03540770709514618, 0.03540770709514618, 0.03540770709514618, 0.03540770709514618, 0.03540770709514618, 0.03540770709514618, 0.03540770709514618, 0.03540770709514618, 0.03540770709514618, 0.03540770709514618, 0.03540770709514618, 0.03540770709514618, 0.03540770709514618, 0.03540770709514618, 0.03540770709514618, 0.03540770709514618, 0.03540770709514618, 0.03540770709514618, 0.03540770709514618, 0.03540770709514618, 846.4261474609375, 628.8726806640625, 543.520263671875, 432.3720703125, 367.8797607421875, 300.9024658203125, 174.4002685546875, 52.47006607055664, 37.477909088134766, 23.86049461364746, 0.037810929119586945, 0.037810929119586945, 0.037810929119586945, 0.037810929119586945, 0.037810929119586945, 0.037810929119586945, 0.037810929119586945, 0.037810929119586945, 0.037810929119586945, 0.037810929119586945, 0.037810929119586945, 0.037810929119586945, 0.037810929119586945, 0.037810929119586945, 0.037810929119586945, 0.037810929119586945, 0.037810929119586945, 0.037810929119586945, 0.037810929119586945, 0.037810929119586945, 0.037810929119586945, 0.037810929119586945, 0.037810929119586945, 0.037810929119586945, 0.037810929119586945, 0.037810929119586945, 0.037810929119586945, 0.037810929119586945, 0.037810929119586945, 0.037810929119586945, 0.037810929119586945, 0.037810929119586945, 0.037810929119586945, 0.037810929119586945, 0.037810929119586945, 0.037810929119586945, 0.037810929119586945, 0.037810929119586945, 0.037810929119586945, 0.037810929119586945, 1154.5350341796875, 841.8186645507812, 345.0428466796875, 323.8313293457031, 317.57794189453125, 109.77135467529297, 109.12771606445312, 105.3954849243164, 41.266273498535156, 38.563621520996094, 34.909942626953125, 23.502836227416992, 0.023519720882177353, 0.023519720882177353, 0.023519720882177353, 0.023519720882177353, 0.023519720882177353, 0.023519720882177353, 0.023519720882177353, 0.023519720882177353, 0.023519720882177353, 0.023519720882177353, 0.023519720882177353, 0.023519720882177353, 0.023519720882177353, 0.023519720882177353, 0.023519720882177353, 0.023519720882177353, 0.023519720882177353, 0.023519720882177353, 0.023519720882177353, 0.023519720882177353, 0.023519720882177353, 0.023519720882177353, 0.023519720882177353, 0.023519720882177353, 0.023519720882177353, 0.023519720882177353, 0.023519720882177353, 0.023519720882177353, 0.023519720882177353, 0.023519720882177353, 0.023519720882177353, 0.023519720882177353, 0.023519720882177353, 0.023519720882177353, 0.023519720882177353, 0.023519720882177353, 759.66455078125, 290.3121337890625, 267.3523864746094, 201.19033813476562, 175.3362579345703, 131.30947875976562, 128.75164794921875, 110.31417846679688, 75.93180847167969, 63.660335540771484, 62.34539794921875, 0.03304315730929375, 0.03304315730929375, 0.03304315730929375, 0.03304315730929375, 0.03304315730929375, 0.03304315730929375, 0.03304315730929375, 0.03304315730929375, 0.03304315730929375, 0.03304315730929375, 0.03304315730929375, 0.03304315730929375, 0.03304315730929375, 0.03304315730929375, 0.03304315730929375, 0.03304315730929375, 0.03304315730929375, 0.03304315730929375, 0.03304315730929375, 0.03304315730929375, 0.03304315730929375, 0.03304315730929375, 0.03304315730929375, 0.03304315730929375, 0.03304315730929375, 0.03304315730929375, 0.03304315730929375, 0.03304315730929375, 0.03304315730929375, 0.03304315730929375, 0.03304315730929375, 0.03304315730929375, 0.03304315730929375, 0.03304315730929375, 0.03304315730929375, 0.03304315730929375, 0.03304315730929375, 1156.0435791015625, 381.54412841796875, 265.56817626953125, 208.50729370117188, 168.35470581054688, 150.24365234375, 64.51433563232422, 64.35172271728516, 37.73075866699219, 0.027621131390333176, 0.027621131390333176, 0.027621131390333176, 0.027621131390333176, 0.027621131390333176, 0.027621131390333176, 0.027621131390333176, 0.027621131390333176, 0.027621131390333176, 0.027621131390333176, 0.027621131390333176, 0.027621131390333176, 0.027621131390333176, 0.027621131390333176, 0.027621131390333176, 0.027621131390333176, 0.027621131390333176, 0.027621131390333176, 0.027621131390333176, 0.027621131390333176, 0.027621131390333176, 0.027621131390333176, 0.027621131390333176, 0.027621131390333176, 0.027621131390333176, 0.027621131390333176, 0.027621131390333176, 0.027621131390333176, 0.027621131390333176, 0.027621131390333176, 0.027621131390333176, 0.027621131390333176, 0.027621131390333176, 0.027621131390333176, 0.027621131390333176, 0.027621131390333176, 0.027621131390333176, 0.027621131390333176, 0.027621131390333176, 0.027621131390333176, 0.027621131390333176, 0.027621131390333176, 251.6264190673828, 162.7256622314453, 128.3889617919922, 76.01014709472656, 72.97634887695312, 0.022292084991931915, 0.022292084991931915, 0.022292084991931915, 0.022292084991931915, 0.022292084991931915, 0.022292084991931915, 0.022292084991931915, 0.022292084991931915, 0.022292084991931915, 0.022292084991931915, 0.022292084991931915, 0.022292084991931915, 0.022292084991931915, 0.022292084991931915, 0.022292084991931915, 0.022292084991931915, 0.022292084991931915, 0.022292084991931915, 0.022292084991931915, 0.022292084991931915, 0.022292084991931915, 0.022292084991931915, 0.022292084991931915, 0.022292084991931915, 0.022292084991931915, 0.022292084991931915, 0.022292084991931915, 0.022292084991931915, 0.022292084991931915, 0.022292084991931915, 0.022292084991931915, 0.022292084991931915, 0.022292084991931915, 0.022292084991931915, 0.022292084991931915, 0.022292084991931915, 0.022292084991931915, 0.022292084991931915, 0.022292084991931915, 0.022292084991931915, 0.022292084991931915, 0.022292084991931915, 0.022292084991931915, 0.022292084991931915, 0.022292084991931915, 0.022292084991931915, 0.022292084991931915, 0.022292084991931915, 0.022292084991931915], \"Term\": [\"activ\", \"network\", \"function\", \"product\", \"model\", \"firm\", \"use\", \"energi\", \"chang\", \"rate\", \"effect\", \"price\", \"group\", \"market\", \"sampl\", \"show\", \"cost\", \"surfac\", \"observ\", \"risk\", \"problem\", \"level\", \"year\", \"data\", \"associ\", \"indic\", \"materi\", \"find\", \"temperatur\", \"increas\", \"model\", \"data\", \"base\", \"paper\", \"gener\", \"provid\", \"estim\", \"approach\", \"method\", \"one\", \"analysi\", \"new\", \"perform\", \"set\", \"inform\", \"first\", \"number\", \"includ\", \"simul\", \"work\", \"transport\", \"valu\", \"case\", \"consid\", \"implement\", \"appli\", \"three\", \"improv\", \"predict\", \"discus\", \"use\", \"time\", \"relat\", \"present\", \"design\", \"applic\", \"report\", \"differ\", \"result\", \"studi\", \"two\", \"system\", \"measur\", \"develop\", \"structur\", \"high\", \"state\", \"condit\", \"investig\", \"depend\", \"control\", \"experi\", \"dynam\", \"low\", \"interact\", \"form\", \"cell\", \"properti\", \"mechan\", \"complex\", \"field\", \"demonstr\", \"intern\", \"quantum\", \"direct\", \"small\", \"physic\", \"rang\", \"variat\", \"flow\", \"induc\", \"respond\", \"experiment\", \"known\", \"local\", \"determin\", \"non\", \"lead\", \"power\", \"show\", \"specif\", \"system\", \"suggest\", \"process\", \"result\", \"addit\", \"also\", \"countri\", \"polici\", \"impact\", \"survey\", \"econom\", \"growth\", \"technolog\", \"project\", \"innov\", \"area\", \"futur\", \"scale\", \"resourc\", \"role\", \"sector\", \"environment\", \"swiss\", \"examin\", \"human\", \"emiss\", \"household\", \"whether\", \"relationship\", \"major\", \"environ\", \"account\", \"organ\", \"co\", \"public\", \"significantli\", \"find\", \"level\", \"increas\", \"import\", \"contribut\", \"evid\", \"research\", \"effect\", \"understand\", \"reduc\", \"posit\", \"ass\", \"develop\", \"factor\", \"switzerland\", \"may\", \"region\", \"period\", \"global\", \"social\", \"popul\", \"pattern\", \"event\", \"day\", \"climat\", \"intens\", \"educ\", \"person\", \"shift\", \"age\", \"least\", \"tempor\", \"background\", \"extent\", \"mix\", \"record\", \"per\", \"worker\", \"trend\", \"right\", \"hous\", \"primari\", \"date\", \"constrain\", \"histor\", \"exercis\", \"observ\", \"locat\", \"lower\", \"spatial\", \"chang\", \"indic\", \"mean\", \"individu\", \"rel\", \"le\", \"suggest\", \"among\", \"similar\", \"cost\", \"problem\", \"effici\", \"optim\", \"comput\", \"algorithm\", \"oper\", \"solut\", \"approxim\", \"space\", \"numer\", \"equat\", \"class\", \"prove\", \"stochast\", \"path\", \"heat\", \"maxim\", \"short\", \"softwar\", \"directli\", \"solv\", \"translat\", \"iter\", \"alter\", \"journey\", \"reproduc\", \"convers\", \"fuel\", \"packag\", \"static\", \"propos\", \"best\", \"group\", \"associ\", \"target\", \"regul\", \"origin\", \"patient\", \"health\", \"progress\", \"diseas\", \"ii\", \"promot\", \"monitor\", \"clinic\", \"medium\", \"coordin\", \"partial\", \"movement\", \"declin\", \"profil\", \"bodi\", \"attract\", \"charg\", \"rais\", \"surviv\", \"iii\", \"six\", \"care\", \"provis\", \"unknown\", \"seek\", \"identifi\", \"reveal\", \"network\", \"function\", \"program\", \"train\", \"equilibrium\", \"traffic\", \"learn\", \"task\", \"via\", \"restrict\", \"molecular\", \"updat\", \"delay\", \"execut\", \"entir\", \"taken\", \"maintain\", \"thermodynam\", \"evolutionari\", \"acquisit\", \"sound\", \"algebra\", \"compil\", \"meta\", \"elementari\", \"dispatch\", \"artifici_neural\", \"philosophi\", \"beneath_northern\", \"mantl_lithospher\", \"underli\", \"typhimurium\", \"marinhet\", \"year\", \"phase\", \"strong\", \"independ\", \"transit\", \"balanc\", \"extract\", \"european\", \"stabil\", \"node\", \"reform\", \"conserv\", \"identif\", \"stronger\", \"near\", \"true\", \"elect\", \"switch\", \"great\", \"resili\", \"pose\", \"fluid\", \"kernel\", \"million\", \"crystal\", \"defens\", \"e\", \"pursu\", \"th\", \"disrupt\", \"product\", \"firm\", \"theori\", \"scheme\", \"format\", \"compani\", \"version\", \"game\", \"weak\", \"promis\", \"histori\", \"variant\", \"ident\", \"mathemat\", \"theorem\", \"draw\", \"regulatori\", \"act\", \"proof\", \"round\", \"profession\", \"geometr\", \"moment\", \"concret\", \"ca\", \"collis\", \"worldwid\", \"incomplet\", \"arrang\", \"ambigu\", \"economi\", \"institut\", \"consum\", \"sequenc\", \"map\", \"famili\", \"whole\", \"return\", \"exposur\", \"offici\", \"alway\", \"player\", \"realiz\", \"administr\", \"anticip\", \"render\", \"edit\", \"block\", \"deliveri\", \"indirect\", \"alon\", \"healthcar\", \"young\", \"shed_light\", \"anti\", \"american\", \"hospit\", \"divid\", \"th_centuri\", \"encourag\", \"activ\", \"converg\", \"incent\", \"diffus\", \"schedul\", \"failur\", \"week\", \"treat\", \"replic\", \"advers\", \"oxygen\", \"superior\", \"recruit\", \"offset\", \"laser\", \"manifold\", \"conting\", \"tomographi\", \"volumetr\", \"reward\", \"heart\", \"horizont\", \"diffus_coeffici\", \"tremend\", \"drill\", \"impuls\", \"z\\u03b3_\\u03bd\\u03bd\", \"alpin_foreland\", \"mucos_inflamm\", \"scan_gate\", \"invalu_tool\", \"homoeostat\", \"fluoresc_dye\", \"atlant_ocean\", \"surfac\", \"materi\", \"temperatur\", \"thermal\", \"strain\", \"curv\", \"resist\", \"deform\", \"stiff\", \"thick\", \"flat\", \"stretch\", \"lamin\", \"morph\", \"angl_ray\", \"continent_crust\", \"herbivor_damag\", \"herbivor\", \"carolinens\", \"disservic\", \"cft\", \"uppermost\", \"mantl_lithospher\", \"hypocent\", \"crustal\", \"continent_lithospher\", \"buoyanc_forc\", \"compression\", \"inbr\", \"beneath_northern\", \"plastic\", \"lum\", \"alpin_foreland\", \"scan_gate\", \"constrict\", \"coronari_arteri\", \"mesonia\", \"mediterranean_sea\", \"marinhet\", \"mesopelag_bathypelag\", \"photic\", \"angiographi\", \"erythrobact\", \"heterotroph_bacteria\", \"atlant_ocean\", \"arctic_ocean\", \"dysplasia\", \"aphot\", \"alteromona\", \"agar_medium\", \"price\", \"market\", \"mass\", \"loss\", \"exhibit\", \"profit\", \"tissu\", \"precipit\", \"ecosystem\", \"occurr\", \"slow\", \"emot\", \"intrins\", \"promin\", \"injuri\", \"undergo\", \"fusion\", \"death\", \"degener\", \"remedi\", \"herbivor\", \"h\\u03b3\", \"solanum\", \"typhimurium_typhimurium\", \"aduloid\", \"bathymodiolu\", \"typhimurium\", \"subspeci_serovar\", \"chemosynthet\", \"chimney\", \"fluoresc_dye\", \"homoeostat\", \"mf_erg\", \"congen\", \"optic_neuriti\", \"biomolecular\", \"invalu_tool\", \"plexiform\", \"photic\", \"mesopelag_bathypelag\", \"long\", \"site\", \"answer\", \"deposit\", \"km\", \"rotat\", \"spread\", \"add\", \"modular\", \"facil\", \"glacier\", \"rock\", \"au\", \"terrestri\", \"strike\", \"list\", \"nuclear\", \"mark\", \"western\", \"prolifer\", \"la\", \"geographi\", \"versatil\", \"onset\", \"latitud\", \"geolog\", \"question_whether\", \"volcan\", \"magmat\", \"coastal\", \"risk\", \"panel\", \"electr\", \"error\", \"gene\", \"conclus\", \"synthesi\", \"summar\", \"unobserv\", \"street\", \"intra\", \"tie\", \"enjoy\", \"herbivor\", \"herbivor_damag\", \"carolinens\", \"herbivori\", \"inbr\", \"disservic\", \"cft\", \"inbreed_depress\", \"uppermost\", \"hz_hz\", \"h\\u03b3\", \"lum\", \"z\\u03b3_\\u03bd\\u03bd\", \"constrict\", \"scan_gate\", \"alpin_foreland\", \"beneath_northern\", \"mediterranean_sea\", \"heterotroph_bacteria\", \"marinhet\", \"tangerang\", \"mesonia\", \"mesopelag_bathypelag\", \"biomolecular\", \"photic\", \"aphot\", \"erythrobact\", \"atlant_ocean\", \"arctic_ocean\", \"congen\", \"alteromona\", \"agar_medium\", \"uth\", \"rqhttp\", \"express\", \"scienc\", \"start\", \"cultur\", \"definit\", \"cooper\", \"claim\", \"ecolog\", \"school\", \"explicit\", \"other\", \"foundat\", \"debat\", \"clearli\", \"union\", \"rare\", \"organis\", \"bring\", \"thought\", \"chapter\", \"disciplin\", \"contradict\", \"late\", \"uptak\", \"hub\", \"anchor\", \"leadership\", \"ac\", \"proceed\", \"utilis\", \"energi\", \"demand\", \"urban\", \"citi\", \"architectur\", \"storag\", \"collabor\", \"energi_consumpt\", \"believ\", \"built\", \"chemistri\", \"complic\", \"sphere\", \"architect\", \"cation\", \"italian\", \"district\", \"workload\", \"supercomput\", \"build\", \"store\", \"power\", \"carolinens\", \"hypocent\", \"lum\", \"z\\u03b3_\\u03bd\\u03bd\", \"constrict\", \"disservic\", \"cft\", \"uppermost\", \"design\", \"biomolecular\", \"mesonia\", \"invalu_tool\", \"coronari_arteri\", \"dysplasia\", \"photic\", \"mesopelag_bathypelag\", \"protocol\", \"bound\", \"linear\", \"dimens\", \"dimension\", \"coupl\", \"contact\", \"home\", \"asymptot\", \"reson\", \"determinist\", \"chain\", \"bi\", \"coher\", \"nm\", \"non_trivial\", \"penalti\", \"ec\", \"coat\", \"prevail\", \"dope\", \"continent_crust\", \"mantl_lithospher\", \"herbivor_damag\", \"herbivor\", \"carolinens\", \"disservic\", \"cft\", \"uppermost\", \"hypocent\", \"marinhet\", \"chest\", \"invalu_tool\", \"pix\", \"biomolecular\", \"photic\", \"mesopelag_bathypelag\", \"mesonia\", \"mediterranean_sea\", \"rate\", \"commun\", \"der\", \"die\", \"und\", \"financi\", \"zero\", \"perceiv\", \"news\", \"go\", \"goe\", \"temper\", \"artifici_intellig\", \"transmitt\", \"mit\", \"continent_lithospher\", \"continent_crust\", \"hypocent\", \"mantl_lithospher\", \"uppermost\", \"crustal\", \"tangerang\", \"cft\", \"buoyanc_forc\", \"beneath_northern\", \"alpin_foreland\", \"scan_gate\", \"constrict\", \"z\\u03b3_\\u03bd\\u03bd\", \"lum\", \"streptomycin_mous\", \"subspeci_serovar\", \"typhimurium\", \"typhimurium_typhimurium\", \"hz_hz\", \"h\\u03b3\", \"homoeostat\", \"fluoresc_dye\", \"congen\", \"invalu_tool\", \"mf_erg\", \"biomolecular\", \"photic\", \"mesopelag_bathypelag\", \"mesonia\", \"outer_retin\", \"mediterranean_sea\", \"marinhet\", \"heterotroph_bacteria\", \"erythrobact\", \"side\", \"everi\", \"mediat\", \"publish\", \"germani\", \"fail\", \"remov\", \"degrad\", \"usag\", \"secondli\", \"firstli\", \"quit\", \"baselin\", \"wealth\", \"intend\", \"enter\", \"ground\", \"clock\", \"mm\", \"neither\", \"doubl\", \"book\", \"pictur\", \"mutual\", \"suppress\", \"wors\", \"observatori\", \"bipolar\", \"geodet\", \"gnss\", \"sampl\", \"random\", \"distanc\", \"actual\", \"normal\", \"rapidli\", \"routin\", \"inconsist\", \"span\", \"hierarchi\", \"join\", \"remot\", \"discrep\", \"partnership\", \"build_block\", \"meanwhil\", \"subspac\", \"embrac\", \"ran\", \"constrict\", \"h\\u03b3\", \"hz_hz\", \"hypocent\", \"typhimurium_typhimurium\", \"crustal\", \"intestin_mucosa\", \"continent_lithospher\", \"typhimurium\", \"continent_crust\", \"mucos_inflamm\", \"optic_neuriti\", \"plexiform\", \"asco\", \"atlant_ocean\", \"mf_erg\", \"outer_retin\", \"mediterranean_sea\", \"homoeostat\", \"erythrobact\", \"mesonia\", \"fluoresc_dye\", \"size\", \"neg\", \"secur\", \"document\", \"seri\", \"fund\", \"digit\", \"crisi\", \"cloud\", \"miss\", \"privaci\", \"trust\", \"feder\", \"confer\", \"archiv\", \"shadow\", \"fourth\", \"expertis\", \"biomed\", \"alpin_foreland\", \"neuschwanstein\", \"okinawa\", \"continent_crust\", \"ot\", \"platifron\", \"compression\", \"buoyanc_forc\", \"beneath_northern\", \"hydrotherm_vent\", \"continent_lithospher\", \"congen\", \"photic\", \"biomolecular\", \"invalu_tool\", \"streptococcu_bovi\", \"fluoresc_dye\", \"mesonia\", \"homoeostat\", \"mf_erg\", \"optic_neuriti\", \"outer_retin\", \"differenti\", \"light\", \"fulli\", \"spectrum\", \"wave\", \"label\", \"im\", \"setup\", \"quantiti\", \"scope\", \"difficulti\", \"word\", \"disadvantag\", \"permiss\", \"drawn\", \"unambigu\", \"fashion\", \"counteract\", \"scholar\", \"beneath_northern\", \"scan_gate\", \"h\\u03b3\", \"lum\", \"herbivor_damag\", \"z\\u03b3_\\u03bd\\u03bd\", \"herbivor\", \"carolinens\", \"constrict\", \"alpin_foreland\", \"disservic\", \"biomolecular\", \"invalu_tool\", \"photic\", \"mesopelag_bathypelag\", \"congen\", \"fluoresc_dye\", \"mesonia\", \"fmd\", \"stenos\", \"mediterranean_sea\", \"sonographi\", \"industri\", \"subject\", \"protect\", \"except\", \"purchas\", \"argument\", \"station\", \"renew\", \"arm\", \"anisotrop\", \"seriou\", \"cast\", \"boost\", \"wherebi\", \"impress\", \"geo\", \"billion\", \"urgent_need\", \"constantli\", \"compression\", \"continent_crust\", \"continent_lithospher\", \"crustal\", \"h\\u03b3\", \"hypocent\", \"buoyanc_forc\", \"streptomycin_mous\", \"uppermost\", \"cft\", \"mantl_lithospher\", \"angiographi\", \"biomolecular\", \"stenos\", \"plexiform\", \"outer_retin\", \"optic_neuriti\", \"mf_erg\", \"homoeostat\", \"fluoresc_dye\", \"vascular_abnorm\", \"congen\", \"cluster\", \"place\", \"migrat\", \"al\", \"engag\", \"statu\", \"student\", \"trace\", \"negoti\", \"see\", \"immigr\", \"china\", \"era\", \"visit\", \"take_place\", \"societ\", \"exactli\", \"pragmat\", \"hypocent\", \"mantl_lithospher\", \"continent_crust\", \"continent_lithospher\", \"compression\", \"crustal\", \"tangerang\", \"beneath_northern\", \"buoyanc_forc\", \"cft\", \"alpin_foreland\", \"scan_gate\", \"biomolecular\", \"photic\", \"agar_medium\", \"rq\", \"congen\", \"fluoresc_dye\", \"homoeostat\", \"recept_field\", \"invalu_tool\", \"mesopelag_bathypelag\", \"rqhttp\", \"alteromona\", \"regim\", \"von\", \"track\", \"earlier\", \"trajectori\", \"motor\", \"uncertain\", \"salient\", \"usa\", \"univers_hospit\", \"constrict\", \"hypocent\", \"continent_lithospher\", \"mantl_lithospher\", \"continent_crust\", \"compression\", \"buoyanc_forc\", \"beneath_northern\", \"alpin_foreland\", \"scan_gate\", \"crustal\", \"h\\u03b3\", \"z\\u03b3_\\u03bd\\u03bd\", \"lum\", \"cft\", \"hz_hz\", \"typhimurium_typhimurium\", \"typhimurium\", \"subspeci_serovar\", \"streptomycin_mous\", \"fluoresc_dye\", \"marinhet\", \"homoeostat\", \"mf_erg\", \"invalu_tool\", \"biomolecular\", \"photic\", \"mesopelag_bathypelag\", \"mesonia\", \"mediterranean_sea\", \"congen\", \"tangerang\", \"heterotroph_bacteria\", \"erythrobact\", \"atlant_ocean\", \"outer_retin\", \"arctic_ocean\", \"aphot\", \"alteromona\", \"agar_medium\", \"govern\", \"polit\", \"eu\", \"domest\", \"europ\", \"melt\", \"art\", \"european_union\", \"giant\", \"uniti\", \"contin\", \"academia\", \"typhimurium_typhimurium\", \"continent_crust\", \"uppermost\", \"mantl_lithospher\", \"hypocent\", \"mucos_inflamm\", \"crustal\", \"streptomycin_mous\", \"continent_lithospher\", \"subspeci_serovar\", \"compression\", \"typhimurium\", \"buoyanc_forc\", \"beneath_northern\", \"alpin_foreland\", \"cft\", \"scan_gate\", \"constrict\", \"invalu_tool\", \"mesopelag_bathypelag\", \"congen\", \"fluoresc_dye\", \"homoeostat\", \"biomolecular\", \"photic\", \"mediterranean_sea\", \"mesonia\", \"optic_neuriti\", \"marinhet\", \"heterotroph_bacteria\", \"erythrobact\", \"atlant_ocean\", \"arctic_ocean\", \"aphot\", \"alteromona\", \"agar_medium\", \"univers\", \"prospect\", \"mortal\", \"gradual\", \"obstacl\", \"align\", \"muscl\", \"eventu\", \"conjunct\", \"interconnect\", \"tag\", \"tangerang\", \"buoyanc_forc\", \"compression\", \"crustal\", \"continent_crust\", \"continent_lithospher\", \"alpin_foreland\", \"hypocent\", \"beneath_northern\", \"lum\", \"scan_gate\", \"constrict\", \"z\\u03b3_\\u03bd\\u03bd\", \"uppermost\", \"h\\u03b3\", \"hz_hz\", \"typhimurium_typhimurium\", \"typhimurium\", \"subspeci_serovar\", \"heterotroph_bacteria\", \"marinhet\", \"mesopelag_bathypelag\", \"mediterranean_sea\", \"mesonia\", \"photic\", \"biomolecular\", \"erythrobact\", \"atlant_ocean\", \"arctic_ocean\", \"congen\", \"aphot\", \"alteromona\", \"agar_medium\", \"uth\", \"rqhttp\", \"rq\", \"recept_field\", \"trade\", \"magnet\", \"partner\", \"cours\", \"sum\", \"enough\", \"front\", \"illumin\", \"assur\", \"ryukyu\", \"beneath_northern\", \"disservic\", \"cft\", \"uppermost\", \"mantl_lithospher\", \"hypocent\", \"crustal\", \"continent_lithospher\", \"continent_crust\", \"compression\", \"cyanobacteri\", \"buoyanc_forc\", \"alpin_foreland\", \"yokosuka\", \"scan_gate\", \"constrict\", \"cyanobacteria\", \"z\\u03b3_\\u03bd\\u03bd\", \"lum\", \"h\\u03b3\", \"rqhttp\", \"mesonia\", \"fluoresc_dye\", \"congen\", \"invalu_tool\", \"biomolecular\", \"ingenu\", \"photic\", \"mesopelag_bathypelag\", \"sqm\", \"chest\", \"pix\", \"recept_field\", \"uth\", \"mediterranean_sea\", \"rq\", \"marinhet\", \"homoeostat\", \"erythrobact\", \"atlant_ocean\", \"arctic_ocean\", \"matter\", \"surprisingli\", \"ci\", \"prime\", \"appar\", \"uppermost\", \"continent_lithospher\", \"crustal\", \"hypocent\", \"mantl_lithospher\", \"cft\", \"compression\", \"disservic\", \"carolinens\", \"herbivor\", \"herbivor_damag\", \"continent_crust\", \"tangerang\", \"herbivori\", \"beneath_northern\", \"alpin_foreland\", \"scan_gate\", \"constrict\", \"z\\u03b3_\\u03bd\\u03bd\", \"lum\", \"h\\u03b3\", \"hz_hz\", \"typhimurium_typhimurium\", \"typhimurium\", \"subspeci_serovar\", \"heterotroph_bacteria\", \"marinhet\", \"mediterranean_sea\", \"mesonia\", \"mesopelag_bathypelag\", \"photic\", \"atlant_ocean\", \"biomolecular\", \"invalu_tool\", \"congen\", \"fluoresc_dye\", \"erythrobact\", \"alteromona\", \"arctic_ocean\", \"aphot\", \"mf_erg\", \"agar_medium\", \"uth\", \"rqhttp\", \"rq\", \"recept_field\", \"pix\", \"chest\", \"sqm\"], \"Total\": [8565.0, 7385.0, 6827.0, 6253.0, 28187.0, 5711.0, 26149.0, 4668.0, 8436.0, 4380.0, 14412.0, 4474.0, 5578.0, 4095.0, 3814.0, 14253.0, 5045.0, 3764.0, 6175.0, 3562.0, 4873.0, 8638.0, 4052.0, 18488.0, 4270.0, 5841.0, 3325.0, 7633.0, 3229.0, 7617.0, 28187.4140625, 18488.306640625, 14184.9931640625, 12499.9794921875, 10712.26171875, 9124.6318359375, 8867.923828125, 8529.197265625, 8194.177734375, 8167.89306640625, 8120.4921875, 7592.6572265625, 7261.7607421875, 7255.2060546875, 7139.58349609375, 6971.39208984375, 5765.58056640625, 5638.55810546875, 5631.32568359375, 5479.23828125, 5095.32080078125, 4765.0048828125, 4675.7109375, 4512.03662109375, 4246.1513671875, 4155.5654296875, 4149.8662109375, 4122.73583984375, 4119.4287109375, 4112.1142578125, 26149.11328125, 11491.7919921875, 5977.5791015625, 8110.767578125, 4864.20068359375, 5339.8291015625, 4959.06884765625, 13540.6376953125, 18347.734375, 15166.5654296875, 9791.1015625, 12577.1513671875, 10157.8759765625, 10273.6953125, 9029.623046875, 7983.14111328125, 7874.017578125, 7458.64306640625, 6759.94091796875, 6505.474609375, 6486.89404296875, 5742.16650390625, 5675.15380859375, 4958.517578125, 4830.7001953125, 4655.08984375, 4498.9794921875, 4276.64990234375, 4253.91357421875, 4195.24267578125, 4077.62744140625, 3914.74951171875, 3598.8193359375, 3506.11767578125, 3438.408935546875, 3372.19677734375, 3370.043212890625, 3122.79345703125, 2786.637939453125, 2612.2470703125, 2583.572509765625, 2327.51953125, 2294.92333984375, 2268.62744140625, 4295.53369140625, 5886.4462890625, 5545.7763671875, 5097.37841796875, 3550.513916015625, 14253.5185546875, 6632.373046875, 12577.1513671875, 5888.6875, 8547.40625, 18347.734375, 5396.79345703125, 9908.861328125, 7294.54052734375, 5953.1298828125, 5858.6171875, 4644.2314453125, 4589.65234375, 4377.9033203125, 4347.57861328125, 3817.623046875, 3768.8271484375, 3592.9150390625, 2935.07666015625, 2930.808837890625, 2913.123291015625, 2699.35595703125, 2691.762939453125, 2611.40380859375, 2593.09716796875, 2590.301513671875, 2542.188720703125, 2521.12109375, 2318.651611328125, 2315.4580078125, 2313.468017578125, 2217.20556640625, 2147.822265625, 2059.367431640625, 1980.812255859375, 1969.5770263671875, 1929.7021484375, 1870.0291748046875, 7633.3974609375, 8638.712890625, 7617.0380859375, 5744.12158203125, 2738.05029296875, 2811.259521484375, 5838.13525390625, 14412.248046875, 2474.42626953125, 4406.34619140625, 4453.181640625, 3469.781982421875, 10273.6953125, 4561.03173828125, 3226.61474609375, 5114.1904296875, 4492.111328125, 4314.01708984375, 3803.23193359375, 3670.921875, 3175.8515625, 2912.628173828125, 2856.4052734375, 2650.85205078125, 2566.752197265625, 2473.096435546875, 2359.97998046875, 1956.3763427734375, 1646.358154296875, 1585.4776611328125, 1353.22802734375, 1303.878662109375, 1287.5673828125, 1240.77490234375, 1191.73486328125, 1182.83447265625, 1172.384765625, 1117.7303466796875, 1025.99755859375, 917.6387939453125, 915.0021362304688, 894.8582763671875, 786.0517578125, 743.4915771484375, 735.9745483398438, 730.8958129882812, 6175.63037109375, 2928.235595703125, 2574.61474609375, 2807.725341796875, 8436.8193359375, 5841.68798828125, 3242.78271484375, 4718.41015625, 3833.3330078125, 2693.216796875, 5888.6875, 2432.69091796875, 2414.45458984375, 5045.76318359375, 4873.35302734375, 4153.62744140625, 4010.079833984375, 3625.516357421875, 3382.752685546875, 3001.98193359375, 2916.8857421875, 2507.56689453125, 2826.267333984375, 1887.8592529296875, 1824.912353515625, 1584.465576171875, 1571.8172607421875, 1350.975341796875, 1230.189453125, 1082.1861572265625, 901.703369140625, 873.8236694335938, 795.0813598632812, 783.02783203125, 771.18017578125, 649.0260620117188, 561.7908935546875, 549.1638793945312, 543.0165405273438, 542.7540283203125, 437.7909240722656, 412.45513916015625, 410.0754699707031, 557.40234375, 5399.07275390625, 1060.7525634765625, 5578.2431640625, 4270.03955078125, 3465.245849609375, 2968.260986328125, 1941.0108642578125, 1924.6690673828125, 1613.53466796875, 1497.7940673828125, 1421.01318359375, 1356.996337890625, 1346.169677734375, 1312.0369873046875, 1283.832275390625, 1242.0936279296875, 1175.134765625, 1061.8294677734375, 1058.112060546875, 1042.0118408203125, 958.5180053710938, 935.222900390625, 856.6019287109375, 797.7002563476562, 788.8524780273438, 772.8981323242188, 707.3448486328125, 693.1773681640625, 633.2074584960938, 590.74658203125, 458.7555236816406, 456.8681945800781, 4238.359375, 2189.24951171875, 7385.7607421875, 6827.41845703125, 2028.9398193359375, 1931.2677001953125, 1920.995361328125, 1722.7789306640625, 1366.2791748046875, 1330.9163818359375, 1326.9654541015625, 1265.79541015625, 894.00927734375, 801.6212768554688, 779.5625610351562, 747.644775390625, 697.452392578125, 580.1082153320312, 522.6557006835938, 422.4398498535156, 414.3256530761719, 378.5486145019531, 357.5649719238281, 297.60308837890625, 287.64788818359375, 258.6164245605469, 165.3933563232422, 113.98375701904297, 46.91780471801758, 38.17439651489258, 1.4378529787063599, 1.4378529787063599, 1338.9661865234375, 1.4378529787063599, 1.4378529787063599, 4052.96923828125, 2332.075927734375, 2082.736328125, 2011.874267578125, 1874.2789306640625, 1373.0699462890625, 1335.05224609375, 1275.277587890625, 1254.1192626953125, 1122.8525390625, 1056.2802734375, 984.0972900390625, 955.6165161132812, 654.2138061523438, 639.4779663085938, 589.145263671875, 556.58056640625, 513.9496459960938, 472.67095947265625, 466.19720458984375, 451.24395751953125, 418.54071044921875, 402.4363098144531, 392.40252685546875, 381.8446350097656, 346.35498046875, 346.1962585449219, 334.6512451171875, 330.50396728515625, 296.2376403808594, 6253.47119140625, 5711.224609375, 3386.272216796875, 2107.7744140625, 1316.5302734375, 1028.99267578125, 952.1030883789062, 862.6610717773438, 651.89404296875, 627.3964233398438, 540.3775634765625, 477.3760070800781, 469.659423828125, 469.6997375488281, 438.9042053222656, 435.7303771972656, 415.87939453125, 415.2042236328125, 401.5975646972656, 368.17083740234375, 326.973388671875, 313.72967529296875, 311.74591064453125, 288.03912353515625, 281.69866943359375, 225.85963439941406, 221.4462890625, 221.19305419921875, 201.8152618408203, 193.47528076171875, 2366.999755859375, 1957.915771484375, 1629.29248046875, 1529.90869140625, 1490.341064453125, 806.0556640625, 747.3282470703125, 625.9913940429688, 576.4359130859375, 545.3947143554688, 506.9662780761719, 455.0498046875, 396.7316589355469, 359.1189880371094, 341.8671569824219, 339.8410339355469, 338.4959716796875, 318.79229736328125, 314.7705383300781, 297.6982727050781, 263.7214660644531, 236.23829650878906, 234.4838104248047, 234.43043518066406, 229.76870727539062, 226.149658203125, 215.3141326904297, 213.61268615722656, 204.15225219726562, 197.6625213623047, 8565.423828125, 1771.6844482421875, 999.3888549804688, 960.6100463867188, 852.2559204101562, 718.6893920898438, 677.1964111328125, 576.0237426757812, 452.4310607910156, 410.93743896484375, 342.2118835449219, 266.5313720703125, 259.7408447265625, 240.42279052734375, 211.62930297851562, 207.7186279296875, 163.99594116210938, 155.20162963867188, 141.45323181152344, 119.40653228759766, 109.09884643554688, 101.4601058959961, 86.61060333251953, 81.16752624511719, 35.384742736816406, 30.616573333740234, 1.4378529787063599, 1.4378529787063599, 1.4378529787063599, 1.4378529787063599, 1.4378529787063599, 1.4378529787063599, 1.4378529787063599, 1.4378529787063599, 3764.317626953125, 3325.86181640625, 3229.0888671875, 1132.3563232421875, 1089.3499755859375, 960.6229248046875, 906.4695434570312, 515.913818359375, 249.1030731201172, 247.4424285888672, 237.42530822753906, 163.11196899414062, 142.38323974609375, 10.359355926513672, 1.4378529787063599, 1.4378529787063599, 1.4378529787063599, 1.4378529787063599, 1.4378529787063599, 1.4378529787063599, 1.4378529787063599, 1.4378529787063599, 1.4378529787063599, 1.4378529787063599, 1.4378529787063599, 1.4378529787063599, 1.4378529787063599, 1.4378529787063599, 1.4378529787063599, 1.4378529787063599, 284.0048828125, 1.4378529787063599, 1.4378529787063599, 1.4378529787063599, 1.4378529787063599, 1.4378529787063599, 1.4378529787063599, 1.4378529787063599, 1.4378529787063599, 1.4378529787063599, 1.4378529787063599, 1.4378529787063599, 1.4378529787063599, 1.4378529787063599, 1.4378529787063599, 1.4378529787063599, 1.4378529787063599, 1.4378529787063599, 1.4378529787063599, 1.4378529787063599, 4474.2548828125, 4095.680908203125, 1556.1708984375, 1499.2913818359375, 916.8723754882812, 727.4881591796875, 632.5429077148438, 489.79345703125, 471.1918029785156, 327.93115234375, 288.8043518066406, 235.6311798095703, 230.44700622558594, 217.1823272705078, 204.1866455078125, 184.31649780273438, 163.3896484375, 109.92031860351562, 92.14684295654297, 89.81761932373047, 1.4378529787063599, 1.4378529787063599, 1.4378529787063599, 1.4378529787063599, 1.4378529787063599, 1.4378529787063599, 1.4378529787063599, 1.4378529787063599, 1.4378529787063599, 1.4378529787063599, 1.4378529787063599, 1.4378529787063599, 1.4378529787063599, 1.4378529787063599, 1.4378529787063599, 1.4378529787063599, 1.4378529787063599, 1.4378529787063599, 1.4378529787063599, 1.4378529787063599, 2248.38134765625, 1902.00537109375, 686.6729125976562, 637.0973510742188, 588.2540283203125, 578.96826171875, 570.013916015625, 520.496826171875, 517.7235107421875, 468.1576232910156, 422.35015869140625, 411.9622497558594, 389.0891418457031, 376.7991638183594, 375.02679443359375, 349.3008117675781, 337.791259765625, 280.2672424316406, 270.6258544921875, 259.6941223144531, 234.06790161132812, 224.76722717285156, 194.07940673828125, 157.81813049316406, 146.12313842773438, 124.92394256591797, 85.76260375976562, 70.99052429199219, 69.96468353271484, 62.61006546020508, 3562.937255859375, 2030.963134765625, 1944.394287109375, 1843.003662109375, 1349.2216796875, 1293.2064208984375, 519.75732421875, 465.4801025390625, 349.5709533691406, 345.6115417480469, 250.4217529296875, 181.7676544189453, 133.93496704101562, 1.4378529787063599, 1.4378529787063599, 1.4378529787063599, 1.4378529787063599, 1.4378529787063599, 1.4378529787063599, 1.4378529787063599, 1.4378529787063599, 1.4378529787063599, 1.4378529787063599, 1.4378529787063599, 1.4378529787063599, 1.4378529787063599, 1.4378529787063599, 1.4378529787063599, 1.4378529787063599, 1.4378529787063599, 1.4378529787063599, 1.4378529787063599, 1.4378529787063599, 1.4378529787063599, 1.4378529787063599, 1.4378529787063599, 1.4378529787063599, 1.4378529787063599, 1.4378529787063599, 1.4378529787063599, 1.4378529787063599, 1.4378529787063599, 1.4378529787063599, 1.4378529787063599, 1.4378529787063599, 1.4378529787063599, 1.4378529787063599, 1463.84619140625, 1248.40478515625, 943.4937133789062, 852.5313110351562, 836.5659790039062, 831.3798217773438, 600.9172973632812, 589.953125, 504.84564208984375, 491.41119384765625, 480.0579528808594, 414.01092529296875, 403.8236083984375, 380.941650390625, 371.7420654296875, 348.7418212890625, 343.1573791503906, 339.49078369140625, 309.2779541015625, 274.1360778808594, 270.3047180175781, 263.6083679199219, 237.00941467285156, 234.71035766601562, 163.505859375, 153.64382934570312, 150.7139129638672, 117.99099731445312, 101.9452896118164, 90.86234283447266, 4668.9765625, 2775.770263671875, 1608.8516845703125, 1259.8125, 1031.357421875, 433.5084228515625, 406.3543701171875, 305.3310852050781, 251.77439880371094, 239.0690155029297, 225.61854553222656, 200.34320068359375, 155.8147430419922, 107.93767547607422, 101.46421813964844, 80.3661880493164, 62.36783218383789, 44.66020584106445, 18.380687713623047, 1924.3292236328125, 359.6695251464844, 3550.513916015625, 1.4378529787063599, 1.4378529787063599, 1.4378529787063599, 1.4378529787063599, 1.4378529787063599, 1.4378529787063599, 1.4378529787063599, 1.4378529787063599, 4864.20068359375, 1.4378529787063599, 1.4378529787063599, 1.4378529787063599, 1.4378529787063599, 1.4378529787063599, 1.4378529787063599, 1.4378529787063599, 1610.1292724609375, 1593.1016845703125, 1533.5673828125, 1404.9073486328125, 1237.141845703125, 1114.1732177734375, 747.6997680664062, 668.4414672851562, 549.3194580078125, 534.9591674804688, 497.1186218261719, 496.0903015136719, 288.84210205078125, 265.0579528808594, 175.09548950195312, 169.6118927001953, 169.20416259765625, 154.44558715820312, 117.56320190429688, 115.60810852050781, 49.02771759033203, 1.4378529787063599, 1.4378529787063599, 1.4378529787063599, 1.4378529787063599, 1.4378529787063599, 1.4378529787063599, 1.4378529787063599, 1.4378529787063599, 1.4378529787063599, 1.4378529787063599, 1.4378529787063599, 1.4378529787063599, 1.4378529787063599, 1.4378529787063599, 1.4378529787063599, 1.4378529787063599, 1.4378529787063599, 1.4378529787063599, 4380.92529296875, 2058.60595703125, 1461.2403564453125, 1403.025634765625, 1292.072509765625, 946.3787841796875, 463.1685791015625, 438.7826843261719, 282.452392578125, 176.0013427734375, 68.54934692382812, 33.01591110229492, 27.22500228881836, 25.054668426513672, 1.4378529787063599, 1.4378529787063599, 1.4378529787063599, 1.4378529787063599, 1.4378529787063599, 1.4378529787063599, 1.4378529787063599, 1.4378529787063599, 1.4378529787063599, 1.4378529787063599, 1.4378529787063599, 1.4378529787063599, 1.4378529787063599, 1.4378529787063599, 1.4378529787063599, 1.4378529787063599, 1.4378529787063599, 1.4378529787063599, 1.4378529787063599, 1.4378529787063599, 1.4378529787063599, 1.4378529787063599, 1.4378529787063599, 1.4378529787063599, 1.4378529787063599, 1.4378529787063599, 1.4378529787063599, 1.4378529787063599, 1.4378529787063599, 1.4378529787063599, 1.4378529787063599, 1.4378529787063599, 1.4378529787063599, 1.4378529787063599, 1.4378529787063599, 1.4378529787063599, 906.276611328125, 826.874267578125, 751.80224609375, 738.428466796875, 646.9315185546875, 501.3423767089844, 487.75982666015625, 482.1527099609375, 479.42279052734375, 471.7456359863281, 465.9339599609375, 456.2841796875, 445.2904357910156, 394.9414367675781, 348.963134765625, 347.2353515625, 342.07330322265625, 302.8758239746094, 284.7730712890625, 279.94775390625, 271.90966796875, 261.5692138671875, 257.2974548339844, 223.842041015625, 223.04405212402344, 88.3856201171875, 41.01306915283203, 14.555113792419434, 13.243073463439941, 8.564130783081055, 3814.1201171875, 2210.47607421875, 1482.2664794921875, 1100.723876953125, 698.2672729492188, 298.0701599121094, 272.24639892578125, 234.69338989257812, 216.1779327392578, 194.42674255371094, 184.2466583251953, 173.65264892578125, 165.09432983398438, 126.23179626464844, 68.54348754882812, 55.87104415893555, 52.1653938293457, 44.95133590698242, 10.97479248046875, 1.4378529787063599, 1.4378529787063599, 1.4378529787063599, 1.4378529787063599, 1.4378529787063599, 1.4378529787063599, 1.4378529787063599, 1.4378529787063599, 1.4378529787063599, 1.4378529787063599, 1.4378529787063599, 1.4378529787063599, 1.4378529787063599, 1.4378529787063599, 1.4378529787063599, 1.4378529787063599, 1.4378529787063599, 1.4378529787063599, 1.4378529787063599, 1.4378529787063599, 1.4378529787063599, 1.4378529787063599, 2763.80810546875, 1978.8299560546875, 1456.99267578125, 927.892578125, 853.8048095703125, 628.6035766601562, 521.3369140625, 486.96929931640625, 354.77056884765625, 312.1752014160156, 254.805419921875, 230.37509155273438, 193.71759033203125, 151.4483642578125, 111.85392761230469, 98.61685180664062, 94.98198699951172, 92.85704040527344, 42.1846923828125, 1.4378529787063599, 1.4378529787063599, 1.4378529787063599, 1.4378529787063599, 1.4378529787063599, 1.4378529787063599, 1.4378529787063599, 1.4378529787063599, 1.4378529787063599, 1.4378529787063599, 1.4378529787063599, 1.4378529787063599, 1.4378529787063599, 1.4378529787063599, 1.4378529787063599, 1.4378529787063599, 1.4378529787063599, 1.4378529787063599, 1.4378529787063599, 1.4378529787063599, 1.4378529787063599, 1.4378529787063599, 1169.4322509765625, 1013.3923950195312, 974.1687622070312, 783.5302124023438, 730.8231201171875, 725.7927856445312, 577.2048950195312, 571.0913696289062, 524.916259765625, 453.93939208984375, 258.7741394042969, 214.51564025878906, 208.8190460205078, 172.3440399169922, 143.2489013671875, 129.10397338867188, 101.77497863769531, 52.303436279296875, 51.48418045043945, 1.4378529787063599, 1.4378529787063599, 1.4378529787063599, 1.4378529787063599, 1.4378529787063599, 1.4378529787063599, 1.4378529787063599, 1.4378529787063599, 1.4378529787063599, 1.4378529787063599, 1.4378529787063599, 1.4378529787063599, 1.4378529787063599, 1.4378529787063599, 1.4378529787063599, 1.4378529787063599, 1.4378529787063599, 1.4378529787063599, 1.4378529787063599, 1.4378529787063599, 1.4378529787063599, 1.4378529787063599, 1676.6268310546875, 1064.8138427734375, 808.6715087890625, 481.2308654785156, 403.0507507324219, 325.0655212402344, 258.4877624511719, 236.70567321777344, 154.7344207763672, 151.24459838867188, 131.74777221679688, 114.24676513671875, 104.4186019897461, 98.21504211425781, 97.4911117553711, 96.52269744873047, 68.12841796875, 62.735435485839844, 48.21928787231445, 1.4378529787063599, 1.4378529787063599, 1.4378529787063599, 1.4378529787063599, 1.4378529787063599, 1.4378529787063599, 1.4378529787063599, 1.4378529787063599, 1.4378529787063599, 1.4378529787063599, 1.4378529787063599, 1.4378529787063599, 1.4378529787063599, 1.4378529787063599, 1.4378529787063599, 1.4378529787063599, 1.4378529787063599, 1.4378529787063599, 1.4378529787063599, 1.4378529787063599, 1.4378529787063599, 1.4378529787063599, 1169.0828857421875, 683.7794799804688, 475.4261474609375, 461.1337585449219, 437.2207336425781, 387.38787841796875, 355.07147216796875, 345.2387390136719, 288.21563720703125, 286.9376220703125, 248.24485778808594, 212.5601806640625, 125.42205047607422, 120.41740417480469, 109.83271026611328, 105.81905364990234, 71.75772094726562, 11.656389236450195, 1.4378529787063599, 1.4378529787063599, 1.4378529787063599, 1.4378529787063599, 1.4378529787063599, 1.4378529787063599, 1.4378529787063599, 1.4378529787063599, 1.4378529787063599, 1.4378529787063599, 1.4378529787063599, 1.4378529787063599, 1.4378529787063599, 1.4378529787063599, 1.4378529787063599, 1.4378529787063599, 1.4378529787063599, 1.4378529787063599, 1.4378529787063599, 1.4378529787063599, 1.4378529787063599, 1.4378529787063599, 1.4378529787063599, 1.4378529787063599, 847.826171875, 630.272705078125, 544.9202880859375, 433.7721252441406, 369.2798156738281, 302.3025207519531, 175.80030822753906, 53.870113372802734, 38.87795639038086, 25.260534286499023, 1.4378529787063599, 1.4378529787063599, 1.4378529787063599, 1.4378529787063599, 1.4378529787063599, 1.4378529787063599, 1.4378529787063599, 1.4378529787063599, 1.4378529787063599, 1.4378529787063599, 1.4378529787063599, 1.4378529787063599, 1.4378529787063599, 1.4378529787063599, 1.4378529787063599, 1.4378529787063599, 1.4378529787063599, 1.4378529787063599, 1.4378529787063599, 1.4378529787063599, 1.4378529787063599, 1.4378529787063599, 1.4378529787063599, 1.4378529787063599, 1.4378529787063599, 1.4378529787063599, 1.4378529787063599, 1.4378529787063599, 1.4378529787063599, 1.4378529787063599, 1.4378529787063599, 1.4378529787063599, 1.4378529787063599, 1.4378529787063599, 1.4378529787063599, 1.4378529787063599, 1.4378529787063599, 1.4378529787063599, 1.4378529787063599, 1.4378529787063599, 1155.949462890625, 843.2329711914062, 346.4571838378906, 325.24566650390625, 318.9922790527344, 111.18568420410156, 110.54204559326172, 106.809814453125, 42.680606842041016, 39.97795486450195, 36.324275970458984, 24.91716766357422, 1.4378529787063599, 1.4378529787063599, 1.4378529787063599, 1.4378529787063599, 1.4378529787063599, 1.4378529787063599, 1.4378529787063599, 1.4378529787063599, 1.4378529787063599, 1.4378529787063599, 1.4378529787063599, 1.4378529787063599, 1.4378529787063599, 1.4378529787063599, 1.4378529787063599, 1.4378529787063599, 1.4378529787063599, 1.4378529787063599, 1.4378529787063599, 1.4378529787063599, 1.4378529787063599, 1.4378529787063599, 1.4378529787063599, 1.4378529787063599, 1.4378529787063599, 1.4378529787063599, 1.4378529787063599, 1.4378529787063599, 1.4378529787063599, 1.4378529787063599, 1.4378529787063599, 1.4378529787063599, 1.4378529787063599, 1.4378529787063599, 1.4378529787063599, 1.4378529787063599, 761.0693969726562, 291.7169189453125, 268.7571716308594, 202.5951385498047, 176.74107360839844, 132.7142791748047, 130.1564483642578, 111.71898651123047, 77.33661651611328, 65.06513977050781, 63.75020980834961, 1.4378529787063599, 1.4378529787063599, 1.4378529787063599, 1.4378529787063599, 1.4378529787063599, 1.4378529787063599, 1.4378529787063599, 1.4378529787063599, 1.4378529787063599, 1.4378529787063599, 1.4378529787063599, 1.4378529787063599, 1.4378529787063599, 1.4378529787063599, 1.4378529787063599, 1.4378529787063599, 1.4378529787063599, 1.4378529787063599, 1.4378529787063599, 1.4378529787063599, 1.4378529787063599, 1.4378529787063599, 1.4378529787063599, 1.4378529787063599, 1.4378529787063599, 1.4378529787063599, 1.4378529787063599, 1.4378529787063599, 1.4378529787063599, 1.4378529787063599, 1.4378529787063599, 1.4378529787063599, 1.4378529787063599, 1.4378529787063599, 1.4378529787063599, 1.4378529787063599, 1.4378529787063599, 1157.453857421875, 382.954345703125, 266.9783935546875, 209.9175262451172, 169.7649383544922, 151.6538848876953, 65.92456817626953, 65.76195526123047, 39.1409912109375, 1.4378529787063599, 1.4378529787063599, 1.4378529787063599, 1.4378529787063599, 1.4378529787063599, 1.4378529787063599, 1.4378529787063599, 1.4378529787063599, 1.4378529787063599, 1.4378529787063599, 1.4378529787063599, 1.4378529787063599, 1.4378529787063599, 1.4378529787063599, 1.4378529787063599, 1.4378529787063599, 1.4378529787063599, 1.4378529787063599, 1.4378529787063599, 1.4378529787063599, 1.4378529787063599, 1.4378529787063599, 1.4378529787063599, 1.4378529787063599, 1.4378529787063599, 1.4378529787063599, 1.4378529787063599, 1.4378529787063599, 1.4378529787063599, 1.4378529787063599, 1.4378529787063599, 1.4378529787063599, 1.4378529787063599, 1.4378529787063599, 1.4378529787063599, 1.4378529787063599, 1.4378529787063599, 1.4378529787063599, 1.4378529787063599, 1.4378529787063599, 1.4378529787063599, 1.4378529787063599, 253.04197692871094, 164.14122009277344, 129.8045196533203, 77.42570495605469, 74.39190673828125, 1.4378529787063599, 1.4378529787063599, 1.4378529787063599, 1.4378529787063599, 1.4378529787063599, 1.4378529787063599, 1.4378529787063599, 1.4378529787063599, 1.4378529787063599, 1.4378529787063599, 1.4378529787063599, 1.4378529787063599, 1.4378529787063599, 1.4378529787063599, 1.4378529787063599, 1.4378529787063599, 1.4378529787063599, 1.4378529787063599, 1.4378529787063599, 1.4378529787063599, 1.4378529787063599, 1.4378529787063599, 1.4378529787063599, 1.4378529787063599, 1.4378529787063599, 1.4378529787063599, 1.4378529787063599, 1.4378529787063599, 1.4378529787063599, 1.4378529787063599, 1.4378529787063599, 1.4378529787063599, 1.4378529787063599, 1.4378529787063599, 1.4378529787063599, 1.4378529787063599, 1.4378529787063599, 1.4378529787063599, 1.4378529787063599, 1.4378529787063599, 1.4378529787063599, 1.4378529787063599, 1.4378529787063599, 1.4378529787063599, 1.4378529787063599, 1.4378529787063599, 1.4378529787063599, 1.4378529787063599, 1.4378529787063599], \"loglift\": [30.0, 29.0, 28.0, 27.0, 26.0, 25.0, 24.0, 23.0, 22.0, 21.0, 20.0, 19.0, 18.0, 17.0, 16.0, 15.0, 14.0, 13.0, 12.0, 11.0, 10.0, 9.0, 8.0, 7.0, 6.0, 5.0, 4.0, 3.0, 2.0, 1.0, 0.9175000190734863, 0.9175000190734863, 0.9174000024795532, 0.9174000024795532, 0.9174000024795532, 0.9174000024795532, 0.9174000024795532, 0.9174000024795532, 0.9174000024795532, 0.9174000024795532, 0.9174000024795532, 0.9174000024795532, 0.9172999858856201, 0.9172999858856201, 0.9172999858856201, 0.9172999858856201, 0.9172999858856201, 0.9172999858856201, 0.9172999858856201, 0.9172999858856201, 0.9172999858856201, 0.9172000288963318, 0.9172000288963318, 0.9172000288963318, 0.9172000288963318, 0.9172000288963318, 0.9172000288963318, 0.9172000288963318, 0.9172000288963318, 0.9172000288963318, 0.9165999889373779, 0.9132000207901001, 0.9172000288963318, 0.9139000177383423, 0.9164999723434448, 0.899399995803833, 0.9049000144004822, 0.7494000196456909, 0.6466000080108643, 0.5934000015258789, 0.7032999992370605, 0.37400001287460327, 0.4724000096321106, 0.40880000591278076, 1.6313999891281128, 1.6313999891281128, 1.6313999891281128, 1.6313999891281128, 1.6313999891281128, 1.6313999891281128, 1.6313999891281128, 1.6312999725341797, 1.6312999725341797, 1.6312999725341797, 1.6312999725341797, 1.6312999725341797, 1.6312999725341797, 1.6312999725341797, 1.6312999725341797, 1.6312999725341797, 1.6311999559402466, 1.6311999559402466, 1.6311999559402466, 1.6311999559402466, 1.6311999559402466, 1.6311999559402466, 1.6311999559402466, 1.631100058555603, 1.631100058555603, 1.631100058555603, 1.631100058555603, 1.63100004196167, 1.63100004196167, 1.63100004196167, 1.6304999589920044, 1.607699990272522, 1.5913000106811523, 1.5913000106811523, 1.6045000553131104, 1.4641000032424927, 1.3727999925613403, 0.7487000226974487, 1.1964000463485718, 0.8776000142097473, 0.19290000200271606, 1.2416000366210938, 0.6717000007629395, 2.038100004196167, 2.038100004196167, 2.038100004196167, 2.0380001068115234, 2.0380001068115234, 2.0380001068115234, 2.0380001068115234, 2.0380001068115234, 2.0380001068115234, 2.037899971008301, 2.037899971008301, 2.037899971008301, 2.037899971008301, 2.0378000736236572, 2.0378000736236572, 2.0378000736236572, 2.0378000736236572, 2.0378000736236572, 2.0378000736236572, 2.0378000736236572, 2.0376999378204346, 2.0376999378204346, 2.0376999378204346, 2.0376999378204346, 2.0376999378204346, 2.0376999378204346, 2.037600040435791, 2.037600040435791, 2.037600040435791, 2.037600040435791, 2.0343000888824463, 2.0322999954223633, 2.0276999473571777, 2.0290000438690186, 2.027400016784668, 2.025899887084961, 1.945199966430664, 1.7872999906539917, 2.0206000804901123, 1.777400016784668, 1.7470999956130981, 1.858199954032898, 1.1186000108718872, 1.6141999959945679, 1.857300043106079, 1.468500018119812, 2.865799903869629, 2.865799903869629, 2.865799903869629, 2.865799903869629, 2.8657000064849854, 2.8657000064849854, 2.8657000064849854, 2.865600109100342, 2.865600109100342, 2.865600109100342, 2.865600109100342, 2.8654000759124756, 2.865299940109253, 2.865299940109253, 2.8650999069213867, 2.8650999069213867, 2.8650999069213867, 2.865000009536743, 2.865000009536743, 2.865000009536743, 2.865000009536743, 2.8649001121520996, 2.864799976348877, 2.8645999431610107, 2.8645999431610107, 2.8645999431610107, 2.8643999099731445, 2.864300012588501, 2.864300012588501, 2.8642001152038574, 2.8557000160217285, 2.8564999103546143, 2.8573999404907227, 2.835900068283081, 2.800800085067749, 2.767400026321411, 2.689199924468994, 2.518399953842163, 2.3605000972747803, 2.3750998973846436, 1.823799967765808, 2.386699914932251, 2.2281999588012695, 3.5606000423431396, 3.5606000423431396, 3.5606000423431396, 3.560499906539917, 3.560499906539917, 3.560499906539917, 3.5604000091552734, 3.5604000091552734, 3.56030011177063, 3.56030011177063, 3.5601999759674072, 3.5601000785827637, 3.559999942779541, 3.559999942779541, 3.5599000453948975, 3.559799909591675, 3.5596001148223877, 3.559299945831299, 3.559299945831299, 3.5590999126434326, 3.5590999126434326, 3.5590999126434326, 3.5587000846862793, 3.5583999156951904, 3.5583999156951904, 3.558300018310547, 3.558300018310547, 3.5576999187469482, 3.557499885559082, 3.557499885559082, 3.5067999362945557, 2.333199977874756, 3.0631000995635986, 3.7683000564575195, 3.768199920654297, 3.7681000232696533, 3.7681000232696533, 3.7678000926971436, 3.7678000926971436, 3.767699956893921, 3.7676000595092773, 3.7676000595092773, 3.7674999237060547, 3.7674999237060547, 3.7674999237060547, 3.7674999237060547, 3.767400026321411, 3.767400026321411, 3.767199993133545, 3.767199993133545, 3.767199993133545, 3.7671000957489014, 3.7671000957489014, 3.766900062561035, 3.7667999267578125, 3.7667999267578125, 3.7667999267578125, 3.7665998935699463, 3.7665998935699463, 3.766400098800659, 3.766200065612793, 3.765500068664551, 3.765500068664551, 2.111799955368042, 2.214600086212158, 4.116300106048584, 4.116300106048584, 4.115799903869629, 4.115799903869629, 4.115799903869629, 4.115699768066406, 4.115499973297119, 4.115499973297119, 4.115499973297119, 4.1153998374938965, 4.114999771118164, 4.114799976348877, 4.114699840545654, 4.114699840545654, 4.114500045776367, 4.114099979400635, 4.113900184631348, 4.1132001876831055, 4.1132001876831055, 4.1128997802734375, 4.112599849700928, 4.1118998527526855, 4.111700057983398, 4.111199855804443, 4.108099937438965, 4.104300022125244, 4.086599826812744, 4.079599857330322, 0.8133999705314636, 0.8133999705314636, -2.187999963760376, 0.8133999705314636, 0.8133999705314636, 4.178899765014648, 4.178699970245361, 4.178599834442139, 4.178599834442139, 4.178500175476074, 4.178199768066406, 4.178199768066406, 4.178199768066406, 4.178100109100342, 4.177999973297119, 4.1778998374938965, 4.177800178527832, 4.177800178527832, 4.17710018157959, 4.17710018157959, 4.1768999099731445, 4.176799774169922, 4.176599979400635, 4.176300048828125, 4.176300048828125, 4.176199913024902, 4.175899982452393, 4.17579984664917, 4.1757001876831055, 4.175600051879883, 4.175300121307373, 4.175300121307373, 4.175099849700928, 4.175099849700928, 4.174600124359131, 4.201000213623047, 4.201000213623047, 4.200799942016602, 4.200500011444092, 4.200099945068359, 4.19980001449585, 4.199699878692627, 4.1996002197265625, 4.199100017547607, 4.198999881744385, 4.198599815368652, 4.198299884796143, 4.198200225830078, 4.198200225830078, 4.197999954223633, 4.197999954223633, 4.197800159454346, 4.197800159454346, 4.197700023651123, 4.197400093078613, 4.196899890899658, 4.196800231933594, 4.196700096130371, 4.196400165557861, 4.196199893951416, 4.195000171661377, 4.194900035858154, 4.194900035858154, 4.194300174713135, 4.193999767303467, 4.626699924468994, 4.626500129699707, 4.626399993896484, 4.626299858093262, 4.626299858093262, 4.625500202178955, 4.625400066375732, 4.625, 4.624800205230713, 4.62470006942749, 4.624499797821045, 4.624199867248535, 4.623700141906738, 4.6234002113342285, 4.623199939727783, 4.6230998039245605, 4.6230998039245605, 4.622900009155273, 4.622799873352051, 4.622600078582764, 4.622000217437744, 4.621300220489502, 4.621300220489502, 4.621300220489502, 4.621200084686279, 4.621099948883057, 4.620800018310547, 4.620699882507324, 4.6203999519348145, 4.620200157165527, 4.678500175476074, 4.6778998374938965, 4.677199840545654, 4.677199840545654, 4.677000045776367, 4.676700115203857, 4.676599979400635, 4.676199913024902, 4.675600051879883, 4.675300121307373, 4.674600124359131, 4.673399925231934, 4.673299789428711, 4.672900199890137, 4.672100067138672, 4.671899795532227, 4.670199871063232, 4.6697001457214355, 4.668799877166748, 4.666999816894531, 4.665900230407715, 4.664899826049805, 4.662499904632568, 4.661399841308594, 4.638700008392334, 4.632299900054932, 1.37090003490448, 1.37090003490448, 1.37090003490448, 1.37090003490448, 1.37090003490448, 1.37090003490448, 1.37090003490448, 1.37090003490448, 4.690499782562256, 4.690499782562256, 4.690400123596191, 4.689700126647949, 4.689599990844727, 4.689499855041504, 4.6894001960754395, 4.688199996948242, 4.685400009155273, 4.685400009155273, 4.685200214385986, 4.682600021362305, 4.681300163269043, 4.551400184631348, 1.9156999588012695, 1.9156999588012695, 1.9156999588012695, 1.9156999588012695, 1.9156999588012695, 1.9156999588012695, 1.9156999588012695, 1.9156999588012695, 1.9156999588012695, 1.9156999588012695, 1.9156999588012695, 1.9156999588012695, 1.9156999588012695, 1.9156999588012695, 1.9156999588012695, 1.9156999588012695, 1.7108999490737915, 1.9156999588012695, 1.9156999588012695, 1.9156999588012695, 1.9156999588012695, 1.9156999588012695, 1.9156999588012695, 1.9156999588012695, 1.9156999588012695, 1.9156999588012695, 1.9156999588012695, 1.9156999588012695, 1.9156999588012695, 1.9156999588012695, 1.9156999588012695, 1.9156999588012695, 1.9156999588012695, 1.9156999588012695, 1.9156999588012695, 1.9156999588012695, 4.752099990844727, 4.752099990844727, 4.7515997886657715, 4.751500129699707, 4.750899791717529, 4.750500202178955, 4.75029993057251, 4.749599933624268, 4.749499797821045, 4.748199939727783, 4.747600078582764, 4.746600151062012, 4.746399879455566, 4.746099948883057, 4.74560022354126, 4.744900226593018, 4.743899822235107, 4.739799976348877, 4.737299919128418, 4.7368998527526855, 1.4371999502182007, 1.4371999502182007, 1.4371999502182007, 1.4371999502182007, 1.4371999502182007, 1.4371999502182007, 1.4371999502182007, 1.4371999502182007, 1.4371999502182007, 1.4371999502182007, 1.4371999502182007, 1.4371999502182007, 1.4371999502182007, 1.4371999502182007, 1.4371999502182007, 1.4371999502182007, 1.4371999502182007, 1.4371999502182007, 1.4371999502182007, 1.4371999502182007, 4.897200107574463, 4.89709997177124, 4.8958001136779785, 4.895699977874756, 4.895500183105469, 4.895400047302246, 4.895400047302246, 4.895199775695801, 4.895199775695801, 4.894899845123291, 4.894599914550781, 4.894499778747559, 4.8942999839782715, 4.894199848175049, 4.894100189208984, 4.893899917602539, 4.893700122833252, 4.892899990081787, 4.8927001953125, 4.892499923706055, 4.891900062561035, 4.89169979095459, 4.890699863433838, 4.889100074768066, 4.888400077819824, 4.8867998123168945, 4.881700038909912, 4.878300189971924, 4.877999782562256, 4.8755998611450195, 4.902599811553955, 4.902299880981445, 4.902299880981445, 4.902299880981445, 4.9019999504089355, 4.901899814605713, 4.900300025939941, 4.900000095367432, 4.89900016784668, 4.89900016784668, 4.897500038146973, 4.895400047302246, 4.892600059509277, 1.5579999685287476, 1.5579999685287476, 1.5579999685287476, 1.5579999685287476, 1.5579999685287476, 1.5579999685287476, 1.5579999685287476, 1.5579999685287476, 1.5579999685287476, 1.5579999685287476, 1.5579999685287476, 1.5579999685287476, 1.5579999685287476, 1.5579999685287476, 1.5579999685287476, 1.5579999685287476, 1.5579999685287476, 1.5579999685287476, 1.5579999685287476, 1.5579999685287476, 1.5579999685287476, 1.5579999685287476, 1.5579999685287476, 1.5579999685287476, 1.5579999685287476, 1.5579999685287476, 1.5579999685287476, 1.5579999685287476, 1.5579999685287476, 1.5579999685287476, 1.5579999685287476, 1.5579999685287476, 1.5579999685287476, 1.5579999685287476, 4.922299861907959, 4.922100067138672, 4.9217000007629395, 4.921599864959717, 4.921599864959717, 4.921500205993652, 4.920899868011475, 4.920899868011475, 4.920499801635742, 4.920400142669678, 4.920300006866455, 4.919899940490723, 4.9197998046875, 4.919600009918213, 4.91949987411499, 4.9191999435424805, 4.9191999435424805, 4.919099807739258, 4.918700218200684, 4.918099880218506, 4.918099880218506, 4.917900085449219, 4.917300224304199, 4.917300224304199, 4.914700031280518, 4.914100170135498, 4.914000034332275, 4.911399841308594, 4.9095001220703125, 4.907800197601318, 4.934100151062012, 4.933899879455566, 4.933499813079834, 4.933300018310547, 4.93310022354126, 4.93120002746582, 4.931000232696533, 4.929800033569336, 4.928800106048584, 4.928500175476074, 4.928199768066406, 4.9274001121521, 4.9253997802734375, 4.921299934387207, 4.920499801635742, 4.916800022125244, 4.9116997718811035, 4.902500152587891, 4.855000019073486, 3.7916998863220215, 2.3864998817443848, 1.2963000535964966, 1.2130999565124512, 1.2130999565124512, 1.2130999565124512, 1.2130999565124512, 1.2130999565124512, 1.2130999565124512, 1.2130999565124512, 1.2130999565124512, -2.2330000400543213, 1.2130999565124512, 1.2130999565124512, 1.2130999565124512, 1.2130999565124512, 1.2130999565124512, 1.2130999565124512, 1.2130999565124512, 4.953400135040283, 4.953400135040283, 4.9532999992370605, 4.9532999992370605, 4.953100204467773, 4.953000068664551, 4.952400207519531, 4.952199935913086, 4.951700210571289, 4.951600074768066, 4.951399803161621, 4.951399803161621, 4.949399948120117, 4.948999881744385, 4.946300029754639, 4.946000099182129, 4.946000099182129, 4.945199966430664, 4.942399978637695, 4.942200183868408, 4.92549991607666, 1.5844000577926636, 1.5844000577926636, 1.5844000577926636, 1.5844000577926636, 1.5844000577926636, 1.5844000577926636, 1.5844000577926636, 1.5844000577926636, 1.5844000577926636, 1.5844000577926636, 1.5844000577926636, 1.5844000577926636, 1.5844000577926636, 1.5844000577926636, 1.5844000577926636, 1.5844000577926636, 1.5844000577926636, 1.5844000577926636, 5.036399841308594, 5.035999774932861, 5.035799980163574, 5.035699844360352, 5.035600185394287, 5.035200119018555, 5.033699989318848, 5.0335001945495605, 5.031799793243408, 5.02869987487793, 5.01609992980957, 4.993299961090088, 4.983799934387207, 4.979100227355957, 1.3233000040054321, 1.3233000040054321, 1.3233000040054321, 1.3233000040054321, 1.3233000040054321, 1.3233000040054321, 1.3233000040054321, 1.3233000040054321, 1.3233000040054321, 1.3233000040054321, 1.3233000040054321, 1.3233000040054321, 1.3233000040054321, 1.3233000040054321, 1.3233000040054321, 1.3233000040054321, 1.3233000040054321, 1.3233000040054321, 1.3233000040054321, 1.3233000040054321, 1.3233000040054321, 1.3233000040054321, 1.3233000040054321, 1.3233000040054321, 1.3233000040054321, 1.3233000040054321, 1.3233000040054321, 1.3233000040054321, 1.3233000040054321, 1.3233000040054321, 1.3233000040054321, 1.3233000040054321, 1.3233000040054321, 1.3233000040054321, 1.3233000040054321, 1.3233000040054321, 5.079599857330322, 5.079400062561035, 5.0792999267578125, 5.07919979095459, 5.078999996185303, 5.0782999992370605, 5.0782999992370605, 5.078199863433838, 5.078199863433838, 5.078199863433838, 5.078100204467773, 5.078100204467773, 5.078000068664551, 5.077600002288818, 5.077099800109863, 5.077099800109863, 5.077000141143799, 5.076499938964844, 5.076200008392334, 5.076099872589111, 5.076000213623047, 5.075799942016602, 5.075699806213379, 5.074900150299072, 5.074900150299072, 5.065299987792969, 5.0467000007629395, 4.981100082397461, 4.970600128173828, 4.904600143432617, 5.087600231170654, 5.087299823760986, 5.086999893188477, 5.086699962615967, 5.085999965667725, 5.0833001136779785, 5.082900047302246, 5.081999778747559, 5.081500053405762, 5.0808000564575195, 5.080399990081787, 5.079899787902832, 5.079500198364258, 5.076900005340576, 5.067500114440918, 5.06279993057251, 5.060999870300293, 5.056600093841553, 4.952700138092041, 1.7249000072479248, 1.7249000072479248, 1.7249000072479248, 1.7249000072479248, 1.7249000072479248, 1.7249000072479248, 1.7249000072479248, 1.7249000072479248, 1.7249000072479248, 1.7249000072479248, 1.7249000072479248, 1.7249000072479248, 1.7249000072479248, 1.7249000072479248, 1.7249000072479248, 1.7249000072479248, 1.7249000072479248, 1.7249000072479248, 1.7249000072479248, 1.7249000072479248, 1.7249000072479248, 1.7249000072479248, 5.111599922180176, 5.111400127410889, 5.111100196838379, 5.110599994659424, 5.110499858856201, 5.109899997711182, 5.109399795532227, 5.1092000007629395, 5.1082000732421875, 5.107600212097168, 5.106599807739258, 5.105999946594238, 5.104899883270264, 5.102799892425537, 5.0995001792907715, 5.097799777984619, 5.097300052642822, 5.09689998626709, 5.078400135040283, 1.5714000463485718, 1.5714000463485718, 1.5714000463485718, 1.5714000463485718, 1.5714000463485718, 1.5714000463485718, 1.5714000463485718, 1.5714000463485718, 1.5714000463485718, 1.5714000463485718, 1.5714000463485718, 1.5714000463485718, 1.5714000463485718, 1.5714000463485718, 1.5714000463485718, 1.5714000463485718, 1.5714000463485718, 1.5714000463485718, 1.5714000463485718, 1.5714000463485718, 1.5714000463485718, 1.5714000463485718, 5.273900032043457, 5.27370023727417, 5.273600101470947, 5.2733001708984375, 5.273200035095215, 5.273099899291992, 5.27269983291626, 5.272600173950195, 5.27239990234375, 5.271999835968018, 5.269700050354004, 5.268599987030029, 5.268400192260742, 5.267000198364258, 5.2652997970581055, 5.2642998695373535, 5.261300086975098, 5.248199939727783, 5.247799873352051, 1.9394999742507935, 1.9394999742507935, 1.9394999742507935, 1.9394999742507935, 1.9394999742507935, 1.9394999742507935, 1.9394999742507935, 1.9394999742507935, 1.9394999742507935, 1.9394999742507935, 1.9394999742507935, 1.9394999742507935, 1.9394999742507935, 1.9394999742507935, 1.9394999742507935, 1.9394999742507935, 1.9394999742507935, 1.9394999742507935, 1.9394999742507935, 1.9394999742507935, 1.9394999742507935, 1.9394999742507935, 5.564199924468994, 5.563700199127197, 5.563300132751465, 5.562099933624268, 5.561500072479248, 5.560699939727783, 5.559599876403809, 5.559100151062012, 5.5559000968933105, 5.555699825286865, 5.5543999671936035, 5.552700042724609, 5.551499843597412, 5.5507001876831055, 5.550600051879883, 5.5503997802734375, 5.544300079345703, 5.542500019073486, 5.535600185394287, 2.0415000915527344, 2.0415000915527344, 2.0415000915527344, 2.0415000915527344, 2.0415000915527344, 2.0415000915527344, 2.0415000915527344, 2.0415000915527344, 2.0415000915527344, 2.0415000915527344, 2.0415000915527344, 2.0415000915527344, 2.0415000915527344, 2.0415000915527344, 2.0415000915527344, 2.0415000915527344, 2.0415000915527344, 2.0415000915527344, 2.0415000915527344, 2.0415000915527344, 2.0415000915527344, 2.0415000915527344, 5.671599864959717, 5.6707000732421875, 5.6697998046875, 5.6697001457214355, 5.669600009918213, 5.669099807739258, 5.668799877166748, 5.668700218200684, 5.667900085449219, 5.667900085449219, 5.667099952697754, 5.666200160980225, 5.661499977111816, 5.661099910736084, 5.659900188446045, 5.65939998626709, 5.6529998779296875, 5.544600009918213, 1.9687999486923218, 1.9687999486923218, 1.9687999486923218, 1.9687999486923218, 1.9687999486923218, 1.9687999486923218, 1.9687999486923218, 1.9687999486923218, 1.9687999486923218, 1.9687999486923218, 1.9687999486923218, 1.9687999486923218, 1.9687999486923218, 1.9687999486923218, 1.9687999486923218, 1.9687999486923218, 1.9687999486923218, 1.9687999486923218, 1.9687999486923218, 1.9687999486923218, 1.9687999486923218, 1.9687999486923218, 1.9687999486923218, 1.9687999486923218, 6.0106000900268555, 6.0100998878479, 6.009699821472168, 6.008999824523926, 6.008500099182129, 6.007599830627441, 6.004300117492676, 5.985899925231934, 5.975599765777588, 5.9552998542785645, 2.374000072479248, 2.374000072479248, 2.374000072479248, 2.374000072479248, 2.374000072479248, 2.374000072479248, 2.374000072479248, 2.374000072479248, 2.374000072479248, 2.374000072479248, 2.374000072479248, 2.374000072479248, 2.374000072479248, 2.374000072479248, 2.374000072479248, 2.374000072479248, 2.374000072479248, 2.374000072479248, 2.374000072479248, 2.374000072479248, 2.374000072479248, 2.374000072479248, 2.374000072479248, 2.374000072479248, 2.374000072479248, 2.374000072479248, 2.374000072479248, 2.374000072479248, 2.374000072479248, 2.374000072479248, 2.374000072479248, 2.374000072479248, 2.374000072479248, 2.374000072479248, 2.374000072479248, 2.374000072479248, 2.374000072479248, 2.374000072479248, 2.374000072479248, 2.374000072479248, 6.169400215148926, 6.169000148773193, 6.166600227355957, 6.166299819946289, 6.166200160980225, 6.157800197601318, 6.157800197601318, 6.157299995422363, 6.136899948120117, 6.1346001625061035, 6.130899906158447, 6.112199783325195, 2.0576000213623047, 2.0576000213623047, 2.0576000213623047, 2.0576000213623047, 2.0576000213623047, 2.0576000213623047, 2.0576000213623047, 2.0576000213623047, 2.0576000213623047, 2.0576000213623047, 2.0576000213623047, 2.0576000213623047, 2.0576000213623047, 2.0576000213623047, 2.0576000213623047, 2.0576000213623047, 2.0576000213623047, 2.0576000213623047, 2.0576000213623047, 2.0576000213623047, 2.0576000213623047, 2.0576000213623047, 2.0576000213623047, 2.0576000213623047, 2.0576000213623047, 2.0576000213623047, 2.0576000213623047, 2.0576000213623047, 2.0576000213623047, 2.0576000213623047, 2.0576000213623047, 2.0576000213623047, 2.0576000213623047, 2.0576000213623047, 2.0576000213623047, 2.0576000213623047, 6.298799991607666, 6.29580020904541, 6.295400142669678, 6.293700218200684, 6.292699813842773, 6.289999961853027, 6.28980016708374, 6.288000106811523, 6.282299995422363, 6.278800010681152, 6.27839994430542, 2.527600049972534, 2.527600049972534, 2.527600049972534, 2.527600049972534, 2.527600049972534, 2.527600049972534, 2.527600049972534, 2.527600049972534, 2.527600049972534, 2.527600049972534, 2.527600049972534, 2.527600049972534, 2.527600049972534, 2.527600049972534, 2.527600049972534, 2.527600049972534, 2.527600049972534, 2.527600049972534, 2.527600049972534, 2.527600049972534, 2.527600049972534, 2.527600049972534, 2.527600049972534, 2.527600049972534, 2.527600049972534, 2.527600049972534, 2.527600049972534, 2.527600049972534, 2.527600049972534, 2.527600049972534, 2.527600049972534, 2.527600049972534, 2.527600049972534, 2.527600049972534, 2.527600049972534, 2.527600049972534, 2.527600049972534, 6.323400020599365, 6.320899963378906, 6.319300174713135, 6.317800045013428, 6.316199779510498, 6.315199851989746, 6.302999973297119, 6.3028998374938965, 6.287899971008301, 2.3722000122070312, 2.3722000122070312, 2.3722000122070312, 2.3722000122070312, 2.3722000122070312, 2.3722000122070312, 2.3722000122070312, 2.3722000122070312, 2.3722000122070312, 2.3722000122070312, 2.3722000122070312, 2.3722000122070312, 2.3722000122070312, 2.3722000122070312, 2.3722000122070312, 2.3722000122070312, 2.3722000122070312, 2.3722000122070312, 2.3722000122070312, 2.3722000122070312, 2.3722000122070312, 2.3722000122070312, 2.3722000122070312, 2.3722000122070312, 2.3722000122070312, 2.3722000122070312, 2.3722000122070312, 2.3722000122070312, 2.3722000122070312, 2.3722000122070312, 2.3722000122070312, 2.3722000122070312, 2.3722000122070312, 2.3722000122070312, 2.3722000122070312, 2.3722000122070312, 2.3722000122070312, 2.3722000122070312, 2.3722000122070312, 2.3722000122070312, 2.3722000122070312, 2.3722000122070312, 7.029900074005127, 7.026899814605713, 7.024600028991699, 7.017099857330322, 7.016300201416016, 2.868799924850464, 2.868799924850464, 2.868799924850464, 2.868799924850464, 2.868799924850464, 2.868799924850464, 2.868799924850464, 2.868799924850464, 2.868799924850464, 2.868799924850464, 2.868799924850464, 2.868799924850464, 2.868799924850464, 2.868799924850464, 2.868799924850464, 2.868799924850464, 2.868799924850464, 2.868799924850464, 2.868799924850464, 2.868799924850464, 2.868799924850464, 2.868799924850464, 2.868799924850464, 2.868799924850464, 2.868799924850464, 2.868799924850464, 2.868799924850464, 2.868799924850464, 2.868799924850464, 2.868799924850464, 2.868799924850464, 2.868799924850464, 2.868799924850464, 2.868799924850464, 2.868799924850464, 2.868799924850464, 2.868799924850464, 2.868799924850464, 2.868799924850464, 2.868799924850464, 2.868799924850464, 2.868799924850464, 2.868799924850464, 2.868799924850464, 2.868799924850464, 2.868799924850464, 2.868799924850464, 2.868799924850464, 2.868799924850464], \"logprob\": [30.0, 29.0, 28.0, 27.0, 26.0, 25.0, 24.0, 23.0, 22.0, 21.0, 20.0, 19.0, 18.0, 17.0, 16.0, 15.0, 14.0, 13.0, 12.0, 11.0, 10.0, 9.0, 8.0, 7.0, 6.0, 5.0, 4.0, 3.0, 2.0, 1.0, -3.500699996948242, -3.922499895095825, -4.1875, -4.313899993896484, -4.468299865722656, -4.628699779510498, -4.657299995422363, -4.696199893951416, -4.736299991607666, -4.739500045776367, -4.745299816131592, -4.8125, -4.857100009918213, -4.857999801635742, -4.874100208282471, -4.897900104522705, -5.087900161743164, -5.110199928283691, -5.111400127410889, -5.138800144195557, -5.21150016784668, -5.278500080108643, -5.297500133514404, -5.333099842071533, -5.393899917602539, -5.41540002822876, -5.416800022125244, -5.423399925231934, -5.424200057983398, -5.425899982452393, -3.5766000747680664, -4.402200222015381, -5.0518999099731445, -4.75, -5.258699893951416, -5.182499885559082, -5.250999927520752, -4.4019999504089355, -4.200900077819824, -4.4446001052856445, -4.772299766540527, -4.851200103759766, -4.966400146484375, -5.018700122833252, -3.925100088119507, -4.048299789428711, -4.062099933624268, -4.116300106048584, -4.214700222015381, -4.2530999183654785, -4.255899906158447, -4.377900123596191, -4.389599800109863, -4.524700164794922, -4.55079984664917, -4.587800025939941, -4.622000217437744, -4.672599792480469, -4.677999973297119, -4.69189977645874, -4.720300197601318, -4.761099815368652, -4.845300197601318, -4.871399879455566, -4.890900135040283, -4.910299777984619, -4.910999774932861, -4.987199783325195, -5.101200103759766, -5.165800094604492, -5.1768999099731445, -5.281300067901611, -5.295400142669678, -5.3069000244140625, -4.669000148773193, -4.376699924468994, -4.4527997970581055, -4.537099838256836, -4.88539981842041, -3.635999917984009, -4.492300033569336, -4.476500034332275, -4.787600040435791, -4.733799934387207, -4.654699802398682, -4.829699993133545, -4.791900157928467, -3.731800079345703, -3.9351000785827637, -3.9511001110076904, -4.1834001541137695, -4.195199966430664, -4.242499828338623, -4.2494001388549805, -4.379499912261963, -4.392300128936768, -4.440199851989746, -4.642499923706055, -4.643899917602539, -4.650000095367432, -4.726200103759766, -4.729100227355957, -4.759399890899658, -4.76639986038208, -4.767499923706055, -4.786300182342529, -4.794600009918213, -4.878399848937988, -4.879700183868408, -4.8805999755859375, -4.923099994659424, -4.954899787902832, -4.997000217437744, -5.035900115966797, -5.041600227355957, -5.062099933624268, -5.093500137329102, -3.6902999877929688, -3.56850004196167, -3.6989998817443848, -3.9798998832702637, -4.722400188446045, -4.697500228881836, -4.047500133514404, -3.3017001152038574, -4.830399990081787, -4.496600151062012, -4.516300201416016, -4.654699802398682, -4.308899879455566, -4.625400066375732, -4.728300094604492, -4.656599998474121, -3.3889000415802, -3.4293999671936035, -3.555500030517578, -3.59089994430542, -3.73580002784729, -3.8224000930786133, -3.841900110244751, -3.916599988937378, -3.9488000869750977, -3.9860000610351562, -4.032899856567383, -4.220600128173828, -4.393199920654297, -4.4309000968933105, -4.5894999504089355, -4.626699924468994, -4.6392998695373535, -4.676300048828125, -4.716700077056885, -4.7241997718811035, -4.733099937438965, -4.780900001525879, -4.866600036621094, -4.978400230407715, -4.981299877166748, -5.003600120544434, -5.133399963378906, -5.189199924468994, -5.199399948120117, -5.206299781799316, -3.0808000564575195, -3.826200008392334, -3.9539999961853027, -3.8887999057769775, -2.823699951171875, -3.224600076675415, -3.891400098800659, -3.6872000694274902, -4.0528998374938965, -4.391300201416016, -4.160299777984619, -4.481400012969971, -4.64739990234375, -2.577899932861328, -2.6126999855041504, -2.7725000381469727, -2.8076999187469482, -2.908600091934204, -2.9779000282287598, -3.097399950027466, -3.1261000633239746, -3.277400016784668, -3.1577999591827393, -3.561500072479248, -3.595400094985962, -3.736799955368042, -3.744800090789795, -3.896399974822998, -3.9902000427246094, -4.118500232696533, -4.301199913024902, -4.332699775695801, -4.427299976348877, -4.442599773406982, -4.457799911499023, -4.6305999755859375, -4.775300025939941, -4.798099994659424, -4.8094000816345215, -4.809899806976318, -5.025400161743164, -5.08519983291626, -5.091000080108643, -4.834700107574463, -3.7376999855041504, -4.635000228881836, -2.26990008354187, -2.5371999740600586, -2.7462000846862793, -2.9010000228881836, -3.3259999752044678, -3.3345000743865967, -3.510999917984009, -3.5855000019073486, -3.6380999088287354, -3.684299945831299, -3.6923000812530518, -3.7179999351501465, -3.739799976348877, -3.772900104522705, -3.8282999992370605, -3.929800033569336, -3.9333999156951904, -3.948699951171875, -4.032299995422363, -4.057000160217285, -4.144899845123291, -4.216300010681152, -4.227499961853027, -4.247900009155273, -4.336699962615967, -4.35699987411499, -4.447700023651123, -4.517199993133545, -4.7708001136779785, -4.774899959564209, -4.201099872589111, -4.758900165557861, -1.6411999464035034, -1.7197999954223633, -2.9337000846862793, -2.983099937438965, -2.9883999824523926, -3.097399950027466, -3.3294999599456787, -3.3557000160217285, -3.3587000370025635, -3.405900001525879, -3.7541000843048096, -3.8633999824523926, -3.891400098800659, -3.933199882507324, -4.002900123596191, -4.1875, -4.291999816894531, -4.505499839782715, -4.525000095367432, -4.615600109100342, -4.672900199890137, -4.8572001457214355, -4.89139986038208, -4.998300075531006, -5.448400020599365, -5.82450008392334, -6.729899883270264, -6.9430999755859375, -13.488300323486328, -13.488300323486328, -9.65310001373291, -13.488300323486328, -13.488300323486328, -2.1786999702453613, -2.7316999435424805, -2.8447999954223633, -2.8794000148773193, -2.9502999782562256, -3.2618000507354736, -3.289900064468384, -3.335700035095215, -3.3524999618530273, -3.463200092315674, -3.524399995803833, -3.5952999591827393, -3.6247000694274902, -4.004300117492676, -4.027100086212158, -4.109300136566162, -4.166299819946289, -4.246099948883057, -4.330100059509277, -4.343900203704834, -4.3765997886657715, -4.452099800109863, -4.491499900817871, -4.5167999267578125, -4.5441999435424805, -4.642099857330322, -4.642600059509277, -4.676599979400635, -4.689199924468994, -4.799099922180176, -1.7230000495910645, -1.8136999607086182, -2.3366000652313232, -2.8108999729156494, -3.281899929046631, -3.528599977493286, -3.6064000129699707, -3.705199956893921, -3.9858999252319336, -4.0243000984191895, -4.173900127410889, -4.2982001304626465, -4.314599990844727, -4.314499855041504, -4.382500171661377, -4.389800071716309, -4.436600208282471, -4.438199996948242, -4.471700191497803, -4.558899879455566, -4.677999973297119, -4.7195000648498535, -4.725900173187256, -4.8053998947143555, -4.8277997970581055, -5.049900054931641, -5.069799900054932, -5.070899963378906, -5.1631999015808105, -5.205699920654297, -2.2688000202178955, -2.458699941635132, -2.6424999237060547, -2.7054998874664307, -2.731800079345703, -3.3471999168395996, -3.4228999614715576, -3.6005001068115234, -3.6830999851226807, -3.738600015640259, -3.8118999004364014, -3.9202001094818115, -4.057799816131592, -4.157800197601318, -4.207200050354004, -4.213200092315674, -4.217199802398682, -4.277400016784668, -4.290200233459473, -4.346199989318848, -4.4679999351501465, -4.578700065612793, -4.58620023727417, -4.586400032043457, -4.606599807739258, -4.622600078582764, -4.671999931335449, -4.679999828338623, -4.725599765777588, -4.7581000328063965, -0.930899977684021, -2.5072999000549316, -3.080399990081787, -3.1201000213623047, -3.2399001121520996, -3.4107000827789307, -3.4702999591827393, -3.632499933242798, -3.8745999336242676, -3.971100091934204, -4.154799938201904, -4.405900001525879, -4.4319000244140625, -4.5096001625061035, -4.637899875640869, -4.656700134277344, -4.894800186157227, -4.950399875640869, -5.044099807739258, -5.2153000831604, -5.306700229644775, -5.380300045013428, -5.540900230407715, -5.606900215148926, -6.45989990234375, -6.611000061035156, -12.930800437927246, -12.930800437927246, -12.930800437927246, -12.930800437927246, -12.930800437927246, -12.930800437927246, -12.930800437927246, -12.930800437927246, -1.7410000562667847, -1.86489999294281, -1.8944000005722046, -2.9430999755859375, -2.9818999767303467, -3.107800006866455, -3.1658999919891357, -3.730600118637085, -4.46150016784668, -4.468299865722656, -4.509799957275391, -4.887800216674805, -5.025000095367432, -7.7754998207092285, -12.38599967956543, -12.38599967956543, -12.38599967956543, -12.38599967956543, -12.38599967956543, -12.38599967956543, -12.38599967956543, -12.38599967956543, -12.38599967956543, -12.38599967956543, -12.38599967956543, -12.38599967956543, -12.38599967956543, -12.38599967956543, -12.38599967956543, -12.38599967956543, -7.304900169372559, -12.38599967956543, -12.38599967956543, -12.38599967956543, -12.38599967956543, -12.38599967956543, -12.38599967956543, -12.38599967956543, -12.38599967956543, -12.38599967956543, -12.38599967956543, -12.38599967956543, -12.38599967956543, -12.38599967956543, -12.38599967956543, -12.38599967956543, -12.38599967956543, -12.38599967956543, -12.38599967956543, -12.38599967956543, -1.506600022315979, -1.5950000286102295, -2.5632998943328857, -2.600600004196167, -3.092900037765503, -3.324700117111206, -3.4647998809814453, -3.7211999893188477, -3.7600998878479004, -4.123799800872803, -4.251399993896484, -4.455999851226807, -4.478400230407715, -4.538000106811523, -4.600200176239014, -4.7032999992370605, -4.82480001449585, -5.225299835205078, -5.404200077056885, -5.430099964141846, -12.864500045776367, -12.864500045776367, -12.864500045776367, -12.864500045776367, -12.864500045776367, -12.864500045776367, -12.864500045776367, -12.864500045776367, -12.864500045776367, -12.864500045776367, -12.864500045776367, -12.864500045776367, -12.864500045776367, -12.864500045776367, -12.864500045776367, -12.864500045776367, -12.864500045776367, -12.864500045776367, -12.864500045776367, -12.864500045776367, -2.0497000217437744, -2.217099905014038, -3.2372000217437744, -3.312299966812134, -3.392199993133545, -3.408099889755249, -3.423799991607666, -3.514899969100952, -3.52020001411438, -3.6212000846862793, -3.724400043487549, -3.7493999004364014, -3.8066999912261963, -3.8389999866485596, -3.8436999320983887, -3.9149999618530273, -3.948699951171875, -4.136199951171875, -4.17140007019043, -4.212800025939941, -4.317299842834473, -4.358099937438965, -4.505899906158447, -4.714300155639648, -4.791999816894531, -4.950399875640869, -5.331600189208984, -5.52400016784668, -5.538899898529053, -5.652299880981445, -1.583899974822998, -2.146199941635132, -2.1898000240325928, -2.2434000968933105, -2.5555999279022217, -2.5980000495910645, -3.5111000537872314, -3.6217000484466553, -3.90910005569458, -3.9205000400543213, -4.244200229644775, -4.566800117492676, -4.874899864196777, -12.74370002746582, -12.74370002746582, -12.74370002746582, -12.74370002746582, -12.74370002746582, -12.74370002746582, -12.74370002746582, -12.74370002746582, -12.74370002746582, -12.74370002746582, -12.74370002746582, -12.74370002746582, -12.74370002746582, -12.74370002746582, -12.74370002746582, -12.74370002746582, -12.74370002746582, -12.74370002746582, -12.74370002746582, -12.74370002746582, -12.74370002746582, -12.74370002746582, -12.74370002746582, -12.74370002746582, -12.74370002746582, -12.74370002746582, -12.74370002746582, -12.74370002746582, -12.74370002746582, -12.74370002746582, -12.74370002746582, -12.74370002746582, -12.74370002746582, -12.74370002746582, -2.453700065612793, -2.613100051879883, -2.8935000896453857, -2.994999885559082, -3.0139999389648438, -3.02020001411438, -3.3454999923706055, -3.3638999462127686, -3.5201001167297363, -3.5471999645233154, -3.5706000328063965, -3.719099998474121, -3.7441000938415527, -3.8025999069213867, -3.827199935913086, -3.8912999629974365, -3.9075000286102295, -3.918299913406372, -4.011899948120117, -4.1331000328063965, -4.147200107574463, -4.172399997711182, -4.279399871826172, -4.2891998291015625, -4.653299808502197, -4.716100215911865, -4.735499858856201, -4.982800006866455, -5.130899906158447, -5.247700214385986, -1.281999945640564, -1.8021999597549438, -2.3480000495910645, -2.5927999019622803, -2.7932000160217285, -3.661799907684326, -3.7267000675201416, -4.013599872589111, -4.207499980926514, -4.2596001625061035, -4.317800045013428, -4.437399864196777, -4.690800189971924, -5.061999797821045, -5.124599933624268, -5.361400127410889, -5.620100021362305, -5.9633002281188965, -6.898499965667725, -3.310800075531006, -6.393099784851074, -5.193699836730957, -13.088600158691406, -13.088600158691406, -13.088600158691406, -13.088600158691406, -13.088600158691406, -13.088600158691406, -13.088600158691406, -13.088600158691406, -8.40820026397705, -13.088600158691406, -13.088600158691406, -13.088600158691406, -13.088600158691406, -13.088600158691406, -13.088600158691406, -13.088600158691406, -2.327399969100952, -2.3380000591278076, -2.3761000633239746, -2.463900089263916, -2.591200113296509, -2.696000099182129, -3.095400094985962, -3.20770001411438, -3.404400110244751, -3.430999994277954, -3.5046000480651855, -3.5065999031066895, -4.049499988555908, -4.135900020599365, -4.553199768066406, -4.585299968719482, -4.587699890136719, -4.679800033569336, -4.95550012588501, -4.972499847412109, -5.84689998626709, -12.717300415039062, -12.717300415039062, -12.717300415039062, -12.717300415039062, -12.717300415039062, -12.717300415039062, -12.717300415039062, -12.717300415039062, -12.717300415039062, -12.717300415039062, -12.717300415039062, -12.717300415039062, -12.717300415039062, -12.717300415039062, -12.717300415039062, -12.717300415039062, -12.717300415039062, -12.717300415039062, -1.243399977684021, -1.9989999532699585, -2.3420000076293945, -2.382699966430664, -2.4651999473571777, -2.776900053024292, -3.493000030517578, -3.547300100326538, -3.9895999431610107, -4.46560001373291, -5.421199798583984, -6.174499988555908, -6.3769001960754395, -6.464700222015381, -12.978400230407715, -12.978400230407715, -12.978400230407715, -12.978400230407715, -12.978400230407715, -12.978400230407715, -12.978400230407715, -12.978400230407715, -12.978400230407715, -12.978400230407715, -12.978400230407715, -12.978400230407715, -12.978400230407715, -12.978400230407715, -12.978400230407715, -12.978400230407715, -12.978400230407715, -12.978400230407715, -12.978400230407715, -12.978400230407715, -12.978400230407715, -12.978400230407715, -12.978400230407715, -12.978400230407715, -12.978400230407715, -12.978400230407715, -12.978400230407715, -12.978400230407715, -12.978400230407715, -12.978400230407715, -12.978400230407715, -12.978400230407715, -12.978400230407715, -12.978400230407715, -12.978400230407715, -12.978400230407715, -2.775899887084961, -2.867799997329712, -2.963099956512451, -2.981100082397461, -3.113600015640259, -3.3691999912261963, -3.3968000411987305, -3.408400058746338, -3.414099931716919, -3.4302000999450684, -3.442699909210205, -3.46370005607605, -3.488100051879883, -3.6085000038146973, -3.732800006866455, -3.7376999855041504, -3.7527999877929688, -3.875, -3.9368999004364014, -3.9540998935699463, -3.9834001064300537, -4.02239990234375, -4.038899898529053, -4.178999900817871, -4.182600021362305, -5.117800235748291, -5.904200077056885, -7.005799770355225, -7.110799789428711, -7.612599849700928, -1.3308000564575195, -1.8765000104904175, -2.2764999866485596, -2.574399948120117, -3.0302999019622803, -3.884200096130371, -3.9753000736236572, -4.124499797821045, -4.207200050354004, -4.314000129699707, -4.368199825286865, -4.427800178527832, -4.478799819946289, -4.749800205230713, -5.369900226593018, -5.578999996185303, -5.649400234222412, -5.802700042724609, -7.316500186920166, -12.576700210571289, -12.576700210571289, -12.576700210571289, -12.576700210571289, -12.576700210571289, -12.576700210571289, -12.576700210571289, -12.576700210571289, -12.576700210571289, -12.576700210571289, -12.576700210571289, -12.576700210571289, -12.576700210571289, -12.576700210571289, -12.576700210571289, -12.576700210571289, -12.576700210571289, -12.576700210571289, -12.576700210571289, -12.576700210571289, -12.576700210571289, -12.576700210571289, -1.6289000511169434, -1.9631999731063843, -2.2695999145507812, -2.721299886703491, -2.8046998977661133, -3.1115000247955322, -3.2990000247955322, -3.3673999309539795, -3.6851999759674072, -3.813699960708618, -4.0177001953125, -4.119100093841553, -4.293600082397461, -4.541800022125244, -4.848100185394287, -4.975800037384033, -5.013899803161621, -5.036799907684326, -5.844299793243408, -12.730299949645996, -12.730299949645996, -12.730299949645996, -12.730299949645996, -12.730299949645996, -12.730299949645996, -12.730299949645996, -12.730299949645996, -12.730299949645996, -12.730299949645996, -12.730299949645996, -12.730299949645996, -12.730299949645996, -12.730299949645996, -12.730299949645996, -12.730299949645996, -12.730299949645996, -12.730299949645996, -12.730299949645996, -12.730299949645996, -12.730299949645996, -12.730299949645996, -2.32669997215271, -2.470099925994873, -2.5095999240875244, -2.7276999950408936, -2.797499895095825, -2.8043999671936035, -3.0339999198913574, -3.0446999073028564, -3.129199981689453, -3.274899959564209, -3.839200019836426, -4.027900218963623, -4.054999828338623, -4.2484002113342285, -4.434899806976318, -4.539999961853027, -4.780700206756592, -5.45959997177124, -5.475800037384033, -12.362199783325195, -12.362199783325195, -12.362199783325195, -12.362199783325195, -12.362199783325195, -12.362199783325195, -12.362199783325195, -12.362199783325195, -12.362199783325195, -12.362199783325195, -12.362199783325195, -12.362199783325195, -12.362199783325195, -12.362199783325195, -12.362199783325195, -12.362199783325195, -12.362199783325195, -12.362199783325195, -12.362199783325195, -12.362199783325195, -12.362199783325195, -12.362199783325195, -1.6761000156402588, -2.1305999755859375, -2.4061999320983887, -2.9263999462127686, -3.1041998863220215, -3.3201000690460205, -3.5504000186920166, -3.6389000415802, -4.067200183868408, -4.090199947357178, -4.229599952697754, -4.373799800872803, -4.464900016784668, -4.5269999504089355, -4.5345001220703125, -4.544600009918213, -4.899099826812744, -4.983399868011475, -5.253399848937988, -12.260199546813965, -12.260199546813965, -12.260199546813965, -12.260199546813965, -12.260199546813965, -12.260199546813965, -12.260199546813965, -12.260199546813965, -12.260199546813965, -12.260199546813965, -12.260199546813965, -12.260199546813965, -12.260199546813965, -12.260199546813965, -12.260199546813965, -12.260199546813965, -12.260199546813965, -12.260199546813965, -12.260199546813965, -12.260199546813965, -12.260199546813965, -12.260199546813965, -1.9292999505996704, -2.4665000438690186, -2.8308000564575195, -2.8613998889923096, -2.914799928665161, -3.03629994392395, -3.123699903488159, -3.151900053024292, -3.333199977874756, -3.3376998901367188, -3.483299970626831, -3.6394999027252197, -4.171599864959717, -4.212800025939941, -4.306000232696533, -4.343699932098389, -4.738500118255615, -6.664400100708008, -12.332900047302246, -12.332900047302246, -12.332900047302246, -12.332900047302246, -12.332900047302246, -12.332900047302246, -12.332900047302246, -12.332900047302246, -12.332900047302246, -12.332900047302246, -12.332900047302246, -12.332900047302246, -12.332900047302246, -12.332900047302246, -12.332900047302246, -12.332900047302246, -12.332900047302246, -12.332900047302246, -12.332900047302246, -12.332900047302246, -12.332900047302246, -12.332900047302246, -12.332900047302246, -12.332900047302246, -1.9114999771118164, -2.2086000442504883, -2.3545000553131104, -2.5833001136779785, -2.744800090789795, -2.9458000659942627, -3.4911999702453613, -4.692299842834473, -5.028800010681152, -5.480299949645996, -11.92770004272461, -11.92770004272461, -11.92770004272461, -11.92770004272461, -11.92770004272461, -11.92770004272461, -11.92770004272461, -11.92770004272461, -11.92770004272461, -11.92770004272461, -11.92770004272461, -11.92770004272461, -11.92770004272461, -11.92770004272461, -11.92770004272461, -11.92770004272461, -11.92770004272461, -11.92770004272461, -11.92770004272461, -11.92770004272461, -11.92770004272461, -11.92770004272461, -11.92770004272461, -11.92770004272461, -11.92770004272461, -11.92770004272461, -11.92770004272461, -11.92770004272461, -11.92770004272461, -11.92770004272461, -11.92770004272461, -11.92770004272461, -11.92770004272461, -11.92770004272461, -11.92770004272461, -11.92770004272461, -11.92770004272461, -11.92770004272461, -11.92770004272461, -11.92770004272461, -1.4427000284194946, -1.7585999965667725, -2.6505000591278076, -2.7139999866485596, -2.7335000038146973, -3.795799970626831, -3.8017001152038574, -3.8364999294281006, -4.774099826812744, -4.841899871826172, -4.941400051116943, -5.337100028991699, -12.244099617004395, -12.244099617004395, -12.244099617004395, -12.244099617004395, -12.244099617004395, -12.244099617004395, -12.244099617004395, -12.244099617004395, -12.244099617004395, -12.244099617004395, -12.244099617004395, -12.244099617004395, -12.244099617004395, -12.244099617004395, -12.244099617004395, -12.244099617004395, -12.244099617004395, -12.244099617004395, -12.244099617004395, -12.244099617004395, -12.244099617004395, -12.244099617004395, -12.244099617004395, -12.244099617004395, -12.244099617004395, -12.244099617004395, -12.244099617004395, -12.244099617004395, -12.244099617004395, -12.244099617004395, -12.244099617004395, -12.244099617004395, -12.244099617004395, -12.244099617004395, -12.244099617004395, -12.244099617004395, -1.7312999963760376, -2.69320011138916, -2.775599956512451, -3.0599000453948975, -3.197499990463257, -3.486599922180176, -3.5062999725341797, -3.660900115966797, -4.03439998626709, -4.210599899291992, -4.231500148773193, -11.774100303649902, -11.774100303649902, -11.774100303649902, -11.774100303649902, -11.774100303649902, -11.774100303649902, -11.774100303649902, -11.774100303649902, -11.774100303649902, -11.774100303649902, -11.774100303649902, -11.774100303649902, -11.774100303649902, -11.774100303649902, -11.774100303649902, -11.774100303649902, -11.774100303649902, -11.774100303649902, -11.774100303649902, -11.774100303649902, -11.774100303649902, -11.774100303649902, -11.774100303649902, -11.774100303649902, -11.774100303649902, -11.774100303649902, -11.774100303649902, -11.774100303649902, -11.774100303649902, -11.774100303649902, -11.774100303649902, -11.774100303649902, -11.774100303649902, -11.774100303649902, -11.774100303649902, -11.774100303649902, -11.774100303649902, -1.287500023841858, -2.3959999084472656, -2.7583999633789062, -3.0002999305725098, -3.214200019836426, -3.328000068664551, -4.173399925231934, -4.175899982452393, -4.709799766540527, -11.929400444030762, -11.929400444030762, -11.929400444030762, -11.929400444030762, -11.929400444030762, -11.929400444030762, -11.929400444030762, -11.929400444030762, -11.929400444030762, -11.929400444030762, -11.929400444030762, -11.929400444030762, -11.929400444030762, -11.929400444030762, -11.929400444030762, -11.929400444030762, -11.929400444030762, -11.929400444030762, -11.929400444030762, -11.929400444030762, -11.929400444030762, -11.929400444030762, -11.929400444030762, -11.929400444030762, -11.929400444030762, -11.929400444030762, -11.929400444030762, -11.929400444030762, -11.929400444030762, -11.929400444030762, -11.929400444030762, -11.929400444030762, -11.929400444030762, -11.929400444030762, -11.929400444030762, -11.929400444030762, -11.929400444030762, -11.929400444030762, -11.929400444030762, -11.929400444030762, -11.929400444030762, -11.929400444030762, -2.1013998985290527, -2.5371999740600586, -2.774199962615967, -3.2983999252319336, -3.339200019836426, -11.43280029296875, -11.43280029296875, -11.43280029296875, -11.43280029296875, -11.43280029296875, -11.43280029296875, -11.43280029296875, -11.43280029296875, -11.43280029296875, -11.43280029296875, -11.43280029296875, -11.43280029296875, -11.43280029296875, -11.43280029296875, -11.43280029296875, -11.43280029296875, -11.43280029296875, -11.43280029296875, -11.43280029296875, -11.43280029296875, -11.43280029296875, -11.43280029296875, -11.43280029296875, -11.43280029296875, -11.43280029296875, -11.43280029296875, -11.43280029296875, -11.43280029296875, -11.43280029296875, -11.43280029296875, -11.43280029296875, -11.43280029296875, -11.43280029296875, -11.43280029296875, -11.43280029296875, -11.43280029296875, -11.43280029296875, -11.43280029296875, -11.43280029296875, -11.43280029296875, -11.43280029296875, -11.43280029296875, -11.43280029296875, -11.43280029296875, -11.43280029296875, -11.43280029296875, -11.43280029296875, -11.43280029296875, -11.43280029296875]}, \"token.table\": {\"Topic\": [16, 27, 3, 7, 9, 11, 21, 14, 1, 2, 10, 11, 4, 25, 7, 5, 28, 10, 1, 2, 3, 5, 10, 9, 10, 1, 4, 1, 16, 24, 14, 10, 10, 30, 1, 1, 2, 1, 5, 17, 17, 22, 3, 24, 24, 9, 27, 19, 7, 1, 3, 6, 29, 18, 6, 14, 4, 8, 1, 20, 17, 3, 5, 18, 24, 22, 20, 10, 6, 20, 24, 18, 16, 1, 17, 21, 17, 9, 6, 1, 24, 17, 2, 18, 3, 4, 16, 6, 17, 25, 30, 17, 16, 5, 16, 4, 6, 20, 22, 25, 3, 14, 18, 18, 17, 9, 19, 9, 7, 2, 17, 5, 15, 9, 2, 22, 28, 8, 1, 24, 4, 10, 18, 27, 11, 16, 2, 3, 2, 11, 5, 16, 6, 5, 23, 3, 18, 29, 22, 8, 16, 12, 1, 4, 4, 13, 16, 6, 8, 16, 12, 13, 20, 7, 10, 17, 2, 2, 14, 19, 1, 17, 1, 2, 18, 1, 3, 19, 1, 2, 3, 4, 23, 23, 11, 11, 22, 18, 18, 2, 5, 23, 16, 21, 1, 6, 7, 8, 21, 17, 10, 22, 27, 18, 20, 9, 23, 11, 2, 8, 26, 18, 16, 3, 10, 13, 10, 4, 2, 3, 5, 8, 15, 7, 21, 3, 13, 10, 17, 17, 25, 15, 29, 20, 7, 3, 3, 5, 7, 25, 15, 1, 27, 27, 8, 27, 4, 28, 20, 3, 4, 7, 25, 3, 24, 7, 4, 13, 2, 2, 22, 16, 10, 16, 4, 8, 14, 2, 3, 20, 11, 10, 23, 22, 2, 19, 1, 3, 9, 1, 20, 12, 2, 8, 2, 9, 16, 22, 29, 5, 23, 7, 22, 13, 3, 9, 15, 1, 24, 20, 14, 14, 9, 20, 27, 14, 4, 20, 19, 19, 27, 28, 8, 20, 6, 3, 6, 10, 11, 5, 21, 2, 4, 9, 18, 11, 10, 4, 3, 16, 3, 9, 8, 1, 3, 6, 6, 6, 29, 23, 25, 3, 1, 1, 3, 24, 1, 11, 11, 1, 9, 21, 2, 3, 8, 1, 2, 4, 10, 1, 3, 4, 2, 24, 1, 13, 3, 10, 20, 4, 2, 28, 2, 15, 13, 2, 17, 5, 21, 5, 8, 14, 2, 14, 23, 12, 11, 16, 14, 1, 2, 4, 1, 2, 16, 7, 4, 1, 3, 23, 18, 14, 2, 3, 1, 4, 14, 13, 2, 1, 4, 14, 29, 7, 3, 11, 10, 14, 13, 13, 12, 9, 30, 5, 2, 3, 1, 4, 21, 1, 2, 2, 20, 6, 27, 7, 1, 25, 8, 22, 4, 20, 1, 14, 7, 9, 6, 12, 28, 26, 6, 28, 20, 8, 22, 25, 20, 7, 1, 19, 18, 8, 1, 2, 18, 21, 14, 1, 5, 2, 4, 20, 28, 13, 10, 11, 1, 14, 5, 5, 3, 16, 6, 16, 11, 5, 15, 1, 6, 29, 21, 5, 6, 4, 18, 4, 19, 1, 4, 23, 4, 8, 7, 2, 20, 25, 2, 12, 10, 3, 27, 4, 8, 2, 3, 2, 17, 25, 13, 1, 1, 2, 18, 13, 4, 30, 22, 5, 16, 1, 2, 9, 9, 6, 13, 7, 6, 3, 14, 13, 9, 6, 9, 2, 1, 5, 28, 24, 18, 5, 1, 6, 3, 20, 24, 8, 23, 2, 14, 20, 6, 21, 21, 2, 21, 16, 19, 10, 4, 11, 2, 3, 8, 26, 4, 6, 9, 1, 2, 3, 4, 1, 6, 3, 13, 21, 20, 10, 24, 11, 1, 6, 5, 1, 3, 8, 12, 18, 3, 2, 7, 1, 2, 10, 1, 4, 6, 11, 4, 15, 14, 3, 14, 9, 21, 26, 21, 3, 11, 9, 23, 16, 16, 23, 20, 3, 22, 25, 6, 10, 22, 24, 1, 23, 22, 10, 4, 5, 1, 2, 20, 3, 1, 4, 1, 14, 6, 22, 13, 2, 4, 25, 5, 5, 5, 7, 5, 21, 1, 3, 4, 1, 2, 3, 23, 17, 14, 8, 16, 2, 4, 5, 24, 25, 12, 5, 17, 1, 17, 12, 15, 12, 14, 8, 8, 2, 25, 1, 2, 3, 24, 21, 2, 4, 29, 15, 17, 11, 20, 12, 30, 3, 6, 3, 8, 3, 4, 15, 1, 2, 5, 28, 25, 7, 6, 7, 3, 19, 12, 4, 14, 8, 10, 9, 9, 12, 7, 12, 16, 1, 15, 1, 2, 13, 11, 25, 26, 29, 7, 7, 26, 8, 5, 19, 1, 11, 11, 4, 8, 22, 1, 2, 23, 26, 19, 13, 1, 7, 1, 3, 16, 27, 28, 26, 6, 15, 7, 16, 17, 24, 26, 20, 1, 2, 16, 1, 9, 2, 14, 9, 7, 25, 14, 11, 26, 23, 9, 20, 11, 14, 24, 3, 10, 23, 1, 4, 17, 9, 20, 8, 10, 19], \"Freq\": [0.9916010499000549, 0.9631913304328918, 0.9993360042572021, 0.9959090948104858, 0.9970996975898743, 0.9998337626457214, 0.9984338879585266, 0.9971242547035217, 0.32278427481651306, 0.6770687103271484, 0.9968840479850769, 0.9977187514305115, 0.999068021774292, 0.9975413680076599, 0.9946133494377136, 0.9994818568229675, 0.9870829582214355, 0.9934723973274231, 0.48047903180122375, 0.3829905390739441, 0.13644352555274963, 0.9978806376457214, 0.9980940222740173, 0.992374837398529, 0.9949163794517517, 0.3802373707294464, 0.6190675497055054, 0.9998162388801575, 0.9893010258674622, 0.9917709827423096, 0.9975637197494507, 0.9923022389411926, 0.9945383667945862, 0.9812895655632019, 0.9996232986450195, 0.9820538759231567, 0.01779083162546158, 0.999859631061554, 0.9993751049041748, 0.9913128018379211, 0.9986838698387146, 0.9834254384040833, 0.9997453093528748, 0.9967221617698669, 0.9887909889221191, 0.9910053014755249, 0.9860501289367676, 0.9550045132637024, 0.9804380536079407, 0.16456365585327148, 0.8352109789848328, 0.9997565746307373, 0.9708492159843445, 0.9975979924201965, 0.9981299042701721, 0.9972007870674133, 0.9987826943397522, 0.9992207884788513, 0.9999299645423889, 0.9971020221710205, 0.9929524064064026, 0.3912316858768463, 0.6080588698387146, 0.9936224818229675, 0.9834368824958801, 0.9719165563583374, 0.893156886100769, 0.994377851486206, 0.9986923933029175, 0.9940007925033569, 0.9864142537117004, 0.9993084669113159, 0.9956087470054626, 0.6802370548248291, 0.3190722167491913, 0.9774816036224365, 0.9955283999443054, 0.9939699172973633, 0.9980931282043457, 0.9996340870857239, 0.9890871047973633, 0.9855691194534302, 0.9997822642326355, 0.997802197933197, 0.06317546963691711, 0.9367274045944214, 0.9958558082580566, 0.997868537902832, 0.9928261637687683, 0.9926600456237793, 0.9860981702804565, 0.9985613226890564, 0.9984735250473022, 0.9990750551223755, 0.997528076171875, 0.9993173480033875, 0.998572826385498, 0.9938066005706787, 0.9950092434883118, 0.9990737438201904, 0.9991993308067322, 0.9742842316627502, 0.9867032766342163, 0.996008574962616, 0.9966670274734497, 0.9917663931846619, 0.9992198944091797, 0.9990352988243103, 0.9942711591720581, 0.9997037649154663, 0.9932954907417297, 0.9995817542076111, 0.9990671277046204, 0.9963924288749695, 0.9997797012329102, 0.9904365539550781, 0.9827169179916382, 0.9988849759101868, 0.9997702836990356, 0.9747136831283569, 0.9979938268661499, 0.9992067217826843, 0.9977266788482666, 0.9635429382324219, 0.9939270615577698, 0.9938986301422119, 0.010226255282759666, 0.9890249371528625, 0.9998621940612793, 0.9990492463111877, 0.9959091544151306, 0.9983403086662292, 0.9990343451499939, 0.9996505379676819, 0.975079357624054, 0.9997888207435608, 0.998947024345398, 0.9956291317939758, 0.9980095028877258, 0.9951691627502441, 0.9982038140296936, 0.9983105659484863, 0.9999293088912964, 0.998661994934082, 0.9993013143539429, 0.9916273951530457, 0.9954841732978821, 0.9990289807319641, 0.996087908744812, 0.9981281161308289, 0.9982287287712097, 0.9875541925430298, 0.9976092576980591, 0.9979956150054932, 0.9943751692771912, 0.9993622303009033, 0.9995530843734741, 0.9997733235359192, 0.9982776045799255, 0.9991511702537537, 0.998930811882019, 0.0008223344921134412, 0.023273805156350136, 0.9764804840087891, 0.9977498054504395, 0.6012442111968994, 0.39859074354171753, 0.9992690086364746, 0.8452334403991699, 0.05361638218164444, 0.09224085509777069, 0.008862212300300598, 0.9987752437591553, 0.9931440353393555, 0.998323917388916, 0.9814040660858154, 0.9974356293678284, 0.9993541836738586, 0.9990770220756531, 0.9995902180671692, 0.9986873865127563, 0.9912889003753662, 0.9951731562614441, 0.9933714866638184, 0.9997290372848511, 0.9992870092391968, 0.9913693070411682, 0.9958221316337585, 0.9991455674171448, 0.9780682921409607, 0.9924504160881042, 0.9979603290557861, 0.9961701035499573, 0.9790380001068115, 0.9966545104980469, 0.9960287809371948, 0.9912816286087036, 0.9608660936355591, 0.9997966885566711, 0.9965445399284363, 0.99591463804245, 0.9906401634216309, 0.998384416103363, 0.9996399879455566, 0.9995776414871216, 0.9974706768989563, 0.9955805540084839, 0.9995847344398499, 0.22189459204673767, 0.7780188322067261, 0.9996081590652466, 0.9971601963043213, 0.9992828965187073, 0.9915754795074463, 0.9788362979888916, 0.9995552897453308, 0.9930773973464966, 0.9915890693664551, 0.9997908473014832, 0.9956405162811279, 0.9972079992294312, 0.9930192232131958, 0.9890943169593811, 0.9964423179626465, 0.9979175925254822, 0.9991515874862671, 0.9994624257087708, 0.999500036239624, 0.9994818568229675, 0.9886618852615356, 0.9994553923606873, 0.9998958110809326, 0.9957940578460693, 0.9968893527984619, 0.9989981651306152, 0.9830557107925415, 0.9995080232620239, 0.984613299369812, 0.9977332949638367, 0.9878134727478027, 0.011738510802388191, 0.9968004822731018, 0.9755047559738159, 0.9994975328445435, 0.9974422454833984, 0.9978000521659851, 0.9987743496894836, 0.9979578852653503, 0.9997968673706055, 0.9995976686477661, 0.9800010919570923, 0.9971283078193665, 0.9975090026855469, 0.9987388253211975, 0.9985695481300354, 0.999211847782135, 0.9975273013114929, 0.345316618680954, 0.6542379260063171, 0.9973224401473999, 0.9976493716239929, 0.9986903071403503, 0.9825598001480103, 0.9911335110664368, 0.999600887298584, 0.9985430836677551, 0.003930097911506891, 0.9958868026733398, 0.9997856020927429, 0.9998003244400024, 0.9979954957962036, 0.993996798992157, 0.9995226263999939, 0.9963188767433167, 0.9997658729553223, 0.9988376498222351, 0.9975582361221313, 0.9896613359451294, 0.9859753847122192, 0.9964720010757446, 0.9988002181053162, 0.999792218208313, 0.9974489808082581, 0.99149489402771, 0.9996331930160522, 0.998074471950531, 0.999094545841217, 0.9998822212219238, 0.9842244386672974, 0.9061340689659119, 0.9921375513076782, 0.9926039576530457, 0.9944867491722107, 0.9985600709915161, 0.9606236219406128, 0.9968032240867615, 0.9996761083602905, 0.8173625469207764, 0.9943106174468994, 0.9773980975151062, 0.9991786479949951, 0.99212646484375, 0.9964648485183716, 0.9968623518943787, 0.9997771382331848, 0.9997936487197876, 0.9990488886833191, 0.9947582483291626, 0.9899279475212097, 0.9989039301872253, 0.9926617741584778, 0.9998570680618286, 0.9986758232116699, 0.9974507093429565, 0.9978435635566711, 0.9856090545654297, 0.9938966631889343, 0.9989047646522522, 0.9992876648902893, 0.9907901883125305, 0.9995324015617371, 0.9964667558670044, 0.9983084201812744, 0.6316123008728027, 0.17742714285850525, 0.19087573885917664, 0.9992657899856567, 0.9980987310409546, 0.9732070565223694, 0.9979125261306763, 0.9949853420257568, 0.9997239708900452, 0.9997288584709167, 0.009052732959389687, 0.9905779361724854, 0.9847051501274109, 0.9995789527893066, 0.9471994042396545, 0.9986103177070618, 0.9997236728668213, 0.9946062564849854, 0.9927846789360046, 0.010371485725045204, 0.9893609285354614, 0.9990683794021606, 0.006162602454423904, 0.08764590322971344, 0.9060737490653992, 0.9942952990531921, 0.27890750765800476, 0.014623569324612617, 0.7063819766044617, 0.9993913173675537, 0.9990296959877014, 0.9997782111167908, 0.9941884279251099, 0.999515175819397, 0.9995322823524475, 0.9972400069236755, 0.9995566606521606, 0.9996480345726013, 0.9836296439170837, 0.9994944334030151, 0.9943225383758545, 0.9937208890914917, 0.9998608231544495, 0.9830004572868347, 0.9968121647834778, 0.9932337403297424, 0.9981279969215393, 0.9964309930801392, 0.9978682398796082, 0.9992826581001282, 0.9954376220703125, 0.9975298643112183, 0.9902850985527039, 0.9923011660575867, 0.9957410097122192, 0.9923137426376343, 0.27662089467048645, 0.11101965606212616, 0.6119076609611511, 0.039235856384038925, 0.9604937434196472, 0.9886280298233032, 0.9990637302398682, 0.9990925192832947, 0.0059036570601165295, 0.9940138459205627, 0.9986259937286377, 0.9989779591560364, 0.9962759613990784, 0.9989445805549622, 0.0006983998464420438, 0.009220569394528866, 0.9903574585914612, 0.9993856549263, 0.9991386532783508, 0.9996939301490784, 0.008156560361385345, 0.991216242313385, 0.9862118363380432, 0.9975079298019409, 0.9968321323394775, 0.9994562864303589, 0.9917261600494385, 0.9991001486778259, 0.9954784512519836, 0.9995895624160767, 0.9992475509643555, 0.9997408986091614, 0.9963812232017517, 0.9958822131156921, 0.9981109499931335, 0.43408629298210144, 0.5656809210777283, 0.1615896075963974, 0.837860643863678, 0.9665113687515259, 0.6406851410865784, 0.35913020372390747, 0.9997852444648743, 0.9976027607917786, 0.9991195201873779, 0.9893360137939453, 0.993749737739563, 0.9998562932014465, 0.9970002770423889, 0.9964258074760437, 0.9962354302406311, 0.9985442757606506, 0.9937737584114075, 0.9999498128890991, 0.9966709613800049, 0.9988710880279541, 0.9943995475769043, 0.9992096424102783, 0.8687798976898193, 0.9934618473052979, 0.9956913590431213, 0.9989489912986755, 0.9911149144172668, 0.9917708039283752, 0.9976887702941895, 0.9990752339363098, 0.995782196521759, 0.9966145157814026, 0.9997615814208984, 0.9997817277908325, 0.994857907295227, 0.9937434792518616, 0.9983501434326172, 0.039309192448854446, 0.9605507850646973, 0.9904965758323669, 0.9981850981712341, 0.9946971535682678, 0.999725878238678, 0.9990151524543762, 0.010201388038694859, 0.9895346164703369, 0.9752988815307617, 0.9901490211486816, 0.9971605539321899, 0.9974427223205566, 0.9940821528434753, 0.9998906850814819, 0.9884795546531677, 0.9996728897094727, 0.9997307062149048, 0.9990850687026978, 0.9966272711753845, 0.9994792342185974, 0.9977961778640747, 0.9964586496353149, 0.9973773956298828, 0.999525785446167, 0.9999216198921204, 0.9982770681381226, 0.9963353276252747, 0.9902417659759521, 0.9990330934524536, 0.9991328120231628, 0.9994409680366516, 0.9928833842277527, 0.9988188743591309, 0.9959372282028198, 0.9997575283050537, 0.9997642636299133, 0.9922013878822327, 0.9992964863777161, 0.9995386600494385, 0.9692360162734985, 0.9996904730796814, 0.9949573874473572, 0.9973976016044617, 0.9436457753181458, 0.04929492622613907, 0.9976930022239685, 0.9998102188110352, 0.9985377788543701, 0.9994170069694519, 0.9972432851791382, 0.25240379571914673, 0.7473308444023132, 0.9733802080154419, 0.026193391531705856, 0.8578985929489136, 0.9963383674621582, 0.999653160572052, 0.9963298439979553, 0.003452200908213854, 0.9860900044441223, 0.9997195601463318, 0.9979233741760254, 0.9815861582756042, 0.9929144978523254, 0.9997223615646362, 0.9907274842262268, 0.5294003486633301, 0.47055211663246155, 0.9997647404670715, 0.9970230460166931, 0.9984163045883179, 0.9979543685913086, 0.9995368123054504, 0.9988021850585938, 0.9995748400688171, 0.9934764504432678, 0.9945560693740845, 0.9977742433547974, 0.9991310834884644, 0.9960219860076904, 0.9996141791343689, 0.7067880034446716, 0.2930132746696472, 0.9941144585609436, 0.997933030128479, 0.999298632144928, 0.9988438487052917, 0.9998211860656738, 0.9970434308052063, 0.999117910861969, 0.9980655312538147, 0.997393012046814, 0.9950657486915588, 0.9982544779777527, 0.9996812343597412, 0.9794479012489319, 0.9971855878829956, 0.9976516962051392, 0.9111789464950562, 0.9993322491645813, 0.9994257092475891, 0.9964097142219543, 0.9950054287910461, 0.999788761138916, 0.9956352114677429, 0.9984490871429443, 0.9932977557182312, 0.2294418066740036, 0.7702527046203613, 0.9987879395484924, 0.9978460669517517, 0.9997525811195374, 0.9995751976966858, 0.9954808950424194, 0.011478262022137642, 0.2937391698360443, 0.09130435436964035, 0.6031304597854614, 0.999568521976471, 0.00016729180060792714, 0.9993654489517212, 0.9797632098197937, 0.9904830455780029, 0.996392011642456, 0.9945826530456543, 0.9927940964698792, 0.9968369603157043, 0.98748379945755, 0.012300696223974228, 0.9967682957649231, 0.0887269601225853, 0.9110785722732544, 0.9974319934844971, 0.9983788132667542, 0.9982070326805115, 0.999614417552948, 0.9993471503257751, 0.99858158826828, 0.7627099752426147, 0.23725000023841858, 0.9984163045883179, 0.5015417337417603, 0.2863995134830475, 0.21148799359798431, 0.9882206320762634, 0.9982141256332397, 0.9997369647026062, 0.997664213180542, 0.999497652053833, 0.9983276128768921, 0.9968198537826538, 0.995421826839447, 0.9652847647666931, 0.9997063279151917, 0.9993827939033508, 0.9985263347625732, 0.9991581439971924, 0.9711720943450928, 0.9963441491127014, 0.9988747239112854, 0.9979305863380432, 0.9962996244430542, 0.999345064163208, 0.9993186593055725, 0.9967322945594788, 0.998099684715271, 0.9994060397148132, 0.9978861808776855, 0.9867339730262756, 0.9998337626457214, 0.9980889558792114, 0.9836047291755676, 0.9938982725143433, 0.9991750717163086, 0.9979130029678345, 0.15413737297058105, 0.845826268196106, 0.9985913634300232, 0.9994496703147888, 0.4709137976169586, 0.5284837484359741, 0.9997645616531372, 0.9994714260101318, 0.9983015060424805, 0.9993457794189453, 0.9937523603439331, 0.9996451139450073, 0.9997488856315613, 0.9828097820281982, 0.9986399412155151, 0.9993535280227661, 0.9984696507453918, 0.9956232309341431, 0.9995515942573547, 0.9945511221885681, 0.028848975896835327, 0.0007123203831724823, 0.9701803922653198, 0.1675116866827011, 0.7719710469245911, 0.0603102371096611, 0.9980470538139343, 0.9883531928062439, 0.998221218585968, 0.9991075396537781, 0.9984168410301208, 0.999870777130127, 0.050233013927936554, 0.9472511410713196, 0.9942443370819092, 0.9964173436164856, 0.9955717921257019, 0.9992780685424805, 0.996520459651947, 0.9175089001655579, 0.07784923911094666, 0.9987607598304749, 0.9953371286392212, 0.9931827783584595, 0.9972620606422424, 0.9991663098335266, 0.9981446266174316, 0.9998202323913574, 0.9969823956489563, 0.7231037020683289, 0.15257245302200317, 0.12422060966491699, 0.9982965588569641, 0.9776596426963806, 0.6471730470657349, 0.35254034399986267, 0.9896036386489868, 0.9968202710151672, 0.9248837828636169, 0.9942544102668762, 0.9953190684318542, 0.9996499419212341, 0.9930473566055298, 0.9997348189353943, 0.998837947845459, 0.9995768666267395, 0.9981522560119629, 0.8343109488487244, 0.16518861055374146, 0.996618926525116, 0.5807356238365173, 0.4136071801185608, 0.005645157303661108, 0.9725458025932312, 0.9833136200904846, 0.998089611530304, 0.9996404647827148, 0.9993114471435547, 0.9996368885040283, 0.9692296385765076, 0.9996628165245056, 0.9993261098861694, 0.9952251315116882, 0.9954494833946228, 0.9943559169769287, 0.9979398846626282, 0.9996243119239807, 0.9988021850585938, 0.9965915679931641, 0.9941706657409668, 0.9958679676055908, 0.9995502829551697, 0.9902752041816711, 0.9956671595573425, 0.004176894202828407, 0.9975607991218567, 0.9922575950622559, 0.996411919593811, 0.9983111619949341, 0.9987438917160034, 0.9989674091339111, 0.9993435740470886, 0.9965342879295349, 0.9993176460266113, 0.9984190464019775, 0.9579052925109863, 0.9997407793998718, 0.9982227683067322, 0.9856158494949341, 0.9990277290344238, 0.9980560541152954, 0.9940310716629028, 0.8071614503860474, 0.1927260160446167, 0.9914489388465881, 0.9897593855857849, 0.9991699457168579, 0.9928573966026306, 0.9970378875732422, 0.001493689720518887, 0.01697363145649433, 0.9824499487876892, 0.9953137636184692, 0.9755376577377319, 0.9985948801040649, 0.9500986933708191, 0.9961732625961304, 0.9955060482025146, 0.9979774951934814, 0.9927129149436951, 0.998849093914032, 0.9723372459411621, 0.9516960978507996, 0.9970322847366333, 0.9990778565406799, 0.0008795709582045674, 0.9795036911964417, 0.9997891187667847, 0.9971175789833069, 0.9994122385978699, 0.9944383502006531, 0.998841404914856, 0.9992724061012268, 0.9882292151451111, 0.986047089099884, 0.9897264242172241, 0.9979807138442993, 0.9975053668022156, 0.998628556728363, 0.9976162910461426, 0.9982332587242126, 0.993992269039154, 0.9876287579536438, 0.9993703365325928, 0.9982226490974426, 0.9929345846176147, 0.9997739791870117, 0.9984518885612488, 0.9628258347511292, 0.9934688806533813, 0.9843230247497559, 0.9997608661651611, 0.9936720132827759, 0.9974769949913025], \"Term\": [\"ac\", \"academia\", \"account\", \"acquisit\", \"act\", \"activ\", \"actual\", \"add\", \"addit\", \"addit\", \"administr\", \"advers\", \"age\", \"al\", \"algebra\", \"algorithm\", \"align\", \"alon\", \"also\", \"also\", \"also\", \"alter\", \"alway\", \"ambigu\", \"american\", \"among\", \"among\", \"analysi\", \"anchor\", \"anisotrop\", \"answer\", \"anti\", \"anticip\", \"appar\", \"appli\", \"applic\", \"applic\", \"approach\", \"approxim\", \"architect\", \"architectur\", \"archiv\", \"area\", \"argument\", \"arm\", \"arrang\", \"art\", \"artifici_intellig\", \"artifici_neural\", \"ass\", \"ass\", \"associ\", \"assur\", \"asymptot\", \"attract\", \"au\", \"background\", \"balanc\", \"base\", \"baselin\", \"believ\", \"best\", \"best\", \"bi\", \"billion\", \"biomed\", \"bipolar\", \"block\", \"bodi\", \"book\", \"boost\", \"bound\", \"bring\", \"build\", \"build\", \"build_block\", \"built\", \"ca\", \"care\", \"case\", \"cast\", \"cation\", \"cell\", \"chain\", \"chang\", \"chang\", \"chapter\", \"charg\", \"chemistri\", \"china\", \"ci\", \"citi\", \"claim\", \"class\", \"clearli\", \"climat\", \"clinic\", \"clock\", \"cloud\", \"cluster\", \"co\", \"coastal\", \"coat\", \"coher\", \"collabor\", \"collis\", \"commun\", \"compani\", \"compil\", \"complex\", \"complic\", \"comput\", \"conclus\", \"concret\", \"condit\", \"confer\", \"conjunct\", \"conserv\", \"consid\", \"constantli\", \"constrain\", \"consum\", \"contact\", \"contin\", \"conting\", \"contradict\", \"contribut\", \"contribut\", \"control\", \"converg\", \"convers\", \"cooper\", \"coordin\", \"cost\", \"counteract\", \"countri\", \"coupl\", \"cours\", \"crisi\", \"crystal\", \"cultur\", \"curv\", \"data\", \"date\", \"day\", \"death\", \"debat\", \"declin\", \"defens\", \"definit\", \"deform\", \"degener\", \"degrad\", \"delay\", \"deliveri\", \"demand\", \"demonstr\", \"depend\", \"deposit\", \"der\", \"design\", \"design\", \"determin\", \"determin\", \"determinist\", \"develop\", \"develop\", \"die\", \"differ\", \"differ\", \"differ\", \"differ\", \"differenti\", \"difficulti\", \"diffus\", \"diffus_coeffici\", \"digit\", \"dimens\", \"dimension\", \"direct\", \"directli\", \"disadvantag\", \"disciplin\", \"discrep\", \"discus\", \"diseas\", \"dispatch\", \"disrupt\", \"distanc\", \"district\", \"divid\", \"document\", \"domest\", \"dope\", \"doubl\", \"draw\", \"drawn\", \"drill\", \"dynam\", \"e\", \"earlier\", \"ec\", \"ecolog\", \"econom\", \"economi\", \"ecosystem\", \"edit\", \"educ\", \"effect\", \"effect\", \"effici\", \"elect\", \"electr\", \"elementari\", \"embrac\", \"emiss\", \"emot\", \"encourag\", \"energi\", \"energi_consumpt\", \"engag\", \"enjoy\", \"enough\", \"enter\", \"entir\", \"environ\", \"environment\", \"equat\", \"equilibrium\", \"era\", \"error\", \"estim\", \"eu\", \"europ\", \"european\", \"european_union\", \"event\", \"eventu\", \"everi\", \"evid\", \"evid\", \"evolutionari\", \"exactli\", \"examin\", \"except\", \"execut\", \"exercis\", \"exhibit\", \"experi\", \"experiment\", \"expertis\", \"explicit\", \"exposur\", \"express\", \"extent\", \"extract\", \"facil\", \"factor\", \"factor\", \"fail\", \"failur\", \"famili\", \"fashion\", \"feder\", \"field\", \"financi\", \"find\", \"find\", \"firm\", \"first\", \"firstli\", \"flat\", \"flow\", \"fluid\", \"form\", \"format\", \"foundat\", \"fourth\", \"front\", \"fuel\", \"fulli\", \"function\", \"fund\", \"fusion\", \"futur\", \"game\", \"gene\", \"gener\", \"geo\", \"geodet\", \"geographi\", \"geolog\", \"geometr\", \"germani\", \"giant\", \"glacier\", \"global\", \"gnss\", \"go\", \"goe\", \"govern\", \"gradual\", \"great\", \"ground\", \"group\", \"growth\", \"health\", \"healthcar\", \"heart\", \"heat\", \"hierarchi\", \"high\", \"histor\", \"histori\", \"home\", \"horizont\", \"hospit\", \"hous\", \"household\", \"hub\", \"human\", \"ident\", \"identif\", \"identifi\", \"identifi\", \"identifi\", \"ii\", \"iii\", \"illumin\", \"im\", \"immigr\", \"impact\", \"implement\", \"import\", \"import\", \"impress\", \"improv\", \"impuls\", \"incent\", \"includ\", \"incomplet\", \"inconsist\", \"increas\", \"increas\", \"independ\", \"indic\", \"indic\", \"indic\", \"indirect\", \"individu\", \"individu\", \"individu\", \"induc\", \"industri\", \"inform\", \"injuri\", \"innov\", \"institut\", \"intend\", \"intens\", \"interact\", \"interconnect\", \"intern\", \"intra\", \"intrins\", \"investig\", \"italian\", \"iter\", \"join\", \"journey\", \"kernel\", \"km\", \"known\", \"la\", \"label\", \"lamin\", \"laser\", \"late\", \"latitud\", \"le\", \"le\", \"le\", \"lead\", \"lead\", \"leadership\", \"learn\", \"least\", \"level\", \"level\", \"light\", \"linear\", \"list\", \"local\", \"local\", \"locat\", \"locat\", \"long\", \"loss\", \"low\", \"lower\", \"lower\", \"magmat\", \"magnet\", \"maintain\", \"major\", \"manifold\", \"map\", \"mark\", \"market\", \"mass\", \"materi\", \"mathemat\", \"matter\", \"maxim\", \"may\", \"may\", \"mean\", \"mean\", \"meanwhil\", \"measur\", \"measur\", \"mechan\", \"mediat\", \"medium\", \"melt\", \"meta\", \"method\", \"migrat\", \"million\", \"miss\", \"mix\", \"mm\", \"model\", \"modular\", \"molecular\", \"moment\", \"monitor\", \"morph\", \"mortal\", \"motor\", \"movement\", \"muscl\", \"mutual\", \"near\", \"neg\", \"negoti\", \"neither\", \"network\", \"new\", \"news\", \"nm\", \"node\", \"non\", \"non\", \"non_trivial\", \"normal\", \"nuclear\", \"number\", \"numer\", \"observ\", \"observ\", \"observatori\", \"obstacl\", \"occurr\", \"offici\", \"offset\", \"one\", \"onset\", \"oper\", \"optim\", \"organ\", \"organis\", \"origin\", \"other\", \"oxygen\", \"packag\", \"panel\", \"paper\", \"partial\", \"partner\", \"partnership\", \"path\", \"patient\", \"pattern\", \"penalti\", \"per\", \"perceiv\", \"perform\", \"period\", \"permiss\", \"person\", \"phase\", \"philosophi\", \"physic\", \"pictur\", \"place\", \"plastic\", \"plastic\", \"player\", \"polici\", \"polit\", \"popul\", \"pose\", \"posit\", \"posit\", \"power\", \"power\", \"pragmat\", \"precipit\", \"predict\", \"present\", \"present\", \"prevail\", \"price\", \"primari\", \"prime\", \"privaci\", \"problem\", \"proceed\", \"process\", \"process\", \"product\", \"profession\", \"profil\", \"profit\", \"program\", \"progress\", \"project\", \"prolifer\", \"promin\", \"promis\", \"promot\", \"proof\", \"properti\", \"propos\", \"propos\", \"prospect\", \"protect\", \"protocol\", \"prove\", \"provid\", \"provis\", \"public\", \"publish\", \"purchas\", \"pursu\", \"quantiti\", \"quantum\", \"question_whether\", \"quit\", \"rais\", \"ran\", \"random\", \"rang\", \"rapidli\", \"rare\", \"rate\", \"realiz\", \"record\", \"recruit\", \"reduc\", \"reduc\", \"reform\", \"regim\", \"region\", \"regul\", \"regulatori\", \"rel\", \"rel\", \"rel\", \"rel\", \"relat\", \"relat\", \"relationship\", \"remedi\", \"remot\", \"remov\", \"render\", \"renew\", \"replic\", \"report\", \"report\", \"reproduc\", \"research\", \"research\", \"resili\", \"resist\", \"reson\", \"resourc\", \"respond\", \"restrict\", \"result\", \"result\", \"return\", \"reveal\", \"reveal\", \"reveal\", \"reward\", \"right\", \"risk\", \"rock\", \"role\", \"rotat\", \"round\", \"routin\", \"salient\", \"sampl\", \"scale\", \"schedul\", \"scheme\", \"scholar\", \"school\", \"scienc\", \"scope\", \"secondli\", \"sector\", \"secur\", \"see\", \"seek\", \"sequenc\", \"seri\", \"seriou\", \"set\", \"setup\", \"shadow\", \"shed_light\", \"shift\", \"short\", \"show\", \"show\", \"side\", \"significantli\", \"similar\", \"similar\", \"simul\", \"site\", \"six\", \"size\", \"slow\", \"small\", \"social\", \"societ\", \"softwar\", \"solut\", \"solv\", \"sound\", \"space\", \"span\", \"spatial\", \"spatial\", \"spatial\", \"specif\", \"specif\", \"specif\", \"spectrum\", \"sphere\", \"spread\", \"stabil\", \"start\", \"state\", \"static\", \"static\", \"station\", \"statu\", \"stiff\", \"stochast\", \"storag\", \"store\", \"store\", \"strain\", \"street\", \"stretch\", \"strike\", \"strong\", \"stronger\", \"structur\", \"student\", \"studi\", \"studi\", \"studi\", \"subject\", \"subspac\", \"suggest\", \"suggest\", \"sum\", \"summar\", \"supercomput\", \"superior\", \"suppress\", \"surfac\", \"surprisingli\", \"survey\", \"surviv\", \"swiss\", \"switch\", \"switzerland\", \"switzerland\", \"synthesi\", \"system\", \"system\", \"system\", \"tag\", \"take_place\", \"taken\", \"target\", \"task\", \"technolog\", \"temper\", \"temperatur\", \"tempor\", \"terrestri\", \"th\", \"th_centuri\", \"theorem\", \"theori\", \"thermal\", \"thermodynam\", \"thick\", \"thought\", \"three\", \"tie\", \"time\", \"time\", \"tissu\", \"tomographi\", \"trace\", \"track\", \"trade\", \"traffic\", \"train\", \"trajectori\", \"transit\", \"translat\", \"transmitt\", \"transport\", \"treat\", \"tremend\", \"trend\", \"true\", \"trust\", \"two\", \"two\", \"unambigu\", \"uncertain\", \"und\", \"undergo\", \"underli\", \"underli\", \"understand\", \"understand\", \"union\", \"uniti\", \"univers\", \"univers_hospit\", \"unknown\", \"unobserv\", \"updat\", \"uptak\", \"urban\", \"urgent_need\", \"usa\", \"usag\", \"use\", \"use\", \"utilis\", \"valu\", \"variant\", \"variat\", \"versatil\", \"version\", \"via\", \"visit\", \"volcan\", \"volumetr\", \"von\", \"wave\", \"weak\", \"wealth\", \"week\", \"western\", \"wherebi\", \"whether\", \"whole\", \"word\", \"work\", \"worker\", \"workload\", \"worldwid\", \"wors\", \"year\", \"young\", \"zero\"]}, \"R\": 30, \"lambda.step\": 0.01, \"plot.opts\": {\"xlab\": \"PC1\", \"ylab\": \"PC2\"}, \"topic.order\": [21, 28, 14, 10, 15, 3, 24, 17, 18, 7, 2, 23, 5, 22, 12, 8, 19, 4, 16, 27, 11, 6, 25, 1, 9, 29, 30, 20, 13, 26]};\n",
       "\n",
       "function LDAvis_load_lib(url, callback){\n",
       "  var s = document.createElement('script');\n",
       "  s.src = url;\n",
       "  s.async = true;\n",
       "  s.onreadystatechange = s.onload = callback;\n",
       "  s.onerror = function(){console.warn(\"failed to load library \" + url);};\n",
       "  document.getElementsByTagName(\"head\")[0].appendChild(s);\n",
       "}\n",
       "\n",
       "if(typeof(LDAvis) !== \"undefined\"){\n",
       "   // already loaded: just create the visualization\n",
       "   !function(LDAvis){\n",
       "       new LDAvis(\"#\" + \"ldavis_el474821266180174805391765043\", ldavis_el474821266180174805391765043_data);\n",
       "   }(LDAvis);\n",
       "}else if(typeof define === \"function\" && define.amd){\n",
       "   // require.js is available: use it to load d3/LDAvis\n",
       "   require.config({paths: {d3: \"https://cdnjs.cloudflare.com/ajax/libs/d3/3.5.5/d3.min\"}});\n",
       "   require([\"d3\"], function(d3){\n",
       "      window.d3 = d3;\n",
       "      LDAvis_load_lib(\"https://cdn.rawgit.com/bmabey/pyLDAvis/files/ldavis.v1.0.0.js\", function(){\n",
       "        new LDAvis(\"#\" + \"ldavis_el474821266180174805391765043\", ldavis_el474821266180174805391765043_data);\n",
       "      });\n",
       "    });\n",
       "}else{\n",
       "    // require.js not available: dynamically load d3 & LDAvis\n",
       "    LDAvis_load_lib(\"https://cdnjs.cloudflare.com/ajax/libs/d3/3.5.5/d3.min.js\", function(){\n",
       "         LDAvis_load_lib(\"https://cdn.rawgit.com/bmabey/pyLDAvis/files/ldavis.v1.0.0.js\", function(){\n",
       "                 new LDAvis(\"#\" + \"ldavis_el474821266180174805391765043\", ldavis_el474821266180174805391765043_data);\n",
       "            })\n",
       "         });\n",
       "}\n",
       "</script>"
      ],
      "text/plain": [
       "PreparedData(topic_coordinates=              x         y  topics  cluster       Freq\n",
       "topic                                                \n",
       "20     0.359128 -0.169791       1        1  39.950188\n",
       "27     0.346707 -0.177051       2        1  19.561975\n",
       "13     0.324727 -0.118371       3        1  13.024547\n",
       "9      0.218189  0.129344       4        1   5.691847\n",
       "14     0.144697  0.261510       5        1   2.841353\n",
       "2      0.069425  0.115727       6        1   2.308596\n",
       "23     0.052589  0.127679       7        1   1.630108\n",
       "16     0.032571  0.093499       8        1   1.531001\n",
       "17     0.063165  0.147320       9        1   1.497753\n",
       "6      0.006521  0.055510      10        1   0.978156\n",
       "1     -0.022196  0.021561      11        1   0.929170\n",
       "22    -0.093182 -0.037678      12        1   0.917876\n",
       "4     -0.031061  0.012371      13        1   0.863051\n",
       "21    -0.077792 -0.027235      14        1   0.746289\n",
       "11    -0.047208 -0.002902      15        1   0.742417\n",
       "7     -0.050701 -0.006160      16        1   0.727573\n",
       "18     0.004140  0.032871      17        1   0.719469\n",
       "3     -0.051020 -0.006330      18        1   0.705343\n",
       "15    -0.015255  0.029374      19        1   0.649496\n",
       "26    -0.075271 -0.025460      20        1   0.621310\n",
       "10    -0.069452 -0.021140      21        1   0.617054\n",
       "5     -0.049197 -0.004716      22        1   0.602343\n",
       "24    -0.096403 -0.039088      23        1   0.511766\n",
       "0     -0.108412 -0.045748      24        1   0.382958\n",
       "8     -0.099892 -0.041101      25        1   0.343833\n",
       "28    -0.143086 -0.060718      26        1   0.244851\n",
       "29    -0.110091 -0.046588      27        1   0.208989\n",
       "19    -0.156759 -0.065007      28        1   0.183512\n",
       "12    -0.142907 -0.060655      29        1   0.179173\n",
       "25    -0.181974 -0.071026      30        1   0.088006, topic_info=      Category          Freq          Term         Total  loglift  logprob\n",
       "565    Default   8565.000000         activ   8565.000000  30.0000  30.0000\n",
       "298    Default   7385.000000       network   7385.000000  29.0000  29.0000\n",
       "36     Default   6827.000000      function   6827.000000  28.0000  28.0000\n",
       "1716   Default   6253.000000       product   6253.000000  27.0000  27.0000\n",
       "297    Default  28187.000000         model  28187.000000  26.0000  26.0000\n",
       "...        ...           ...           ...           ...      ...      ...\n",
       "20415  Topic30      0.022292            rq      1.437853   2.8688 -11.4328\n",
       "20414  Topic30      0.022292  recept_field      1.437853   2.8688 -11.4328\n",
       "20413  Topic30      0.022292           pix      1.437853   2.8688 -11.4328\n",
       "20412  Topic30      0.022292         chest      1.437853   2.8688 -11.4328\n",
       "20411  Topic30      0.022292           sqm      1.437853   2.8688 -11.4328\n",
       "\n",
       "[1239 rows x 6 columns], token_table=      Topic      Freq      Term\n",
       "term                           \n",
       "599      16  0.991601        ac\n",
       "2490     27  0.963191  academia\n",
       "3154      3  0.999336   account\n",
       "3177      7  0.995909  acquisit\n",
       "707       9  0.997100       act\n",
       "...     ...       ...       ...\n",
       "1419      9  0.993469  worldwid\n",
       "1766     20  0.984323      wors\n",
       "3065      8  0.999761      year\n",
       "3045     10  0.993672     young\n",
       "2708     19  0.997477      zero\n",
       "\n",
       "[792 rows x 3 columns], R=30, lambda_step=0.01, plot_opts={'xlab': 'PC1', 'ylab': 'PC2'}, topic_order=[21, 28, 14, 10, 15, 3, 24, 17, 18, 7, 2, 23, 5, 22, 12, 8, 19, 4, 16, 27, 11, 6, 25, 1, 9, 29, 30, 20, 13, 26])"
      ]
     },
     "execution_count": 105,
     "metadata": {},
     "output_type": "execute_result"
    }
   ],
   "source": [
    "pyLDAvis.enable_notebook()\n",
    "vis = pyLDAvis.gensim.prepare(lda_model, corpus, dictionary)\n",
    "vis"
   ]
  },
  {
   "cell_type": "code",
   "execution_count": 112,
   "metadata": {},
   "outputs": [],
   "source": [
    "pyLDAvis.save_html(vis,'thirty_visualisation.html')"
   ]
  },
  {
   "cell_type": "markdown",
   "metadata": {},
   "source": [
    "### 1.5 Build n-grams"
   ]
  },
  {
   "cell_type": "markdown",
   "metadata": {},
   "source": [
    "This seems to be done before lemmatization and stemming in a lot of tutorials"
   ]
  },
  {
   "cell_type": "markdown",
   "metadata": {},
   "source": [
    "Maybe we could also lemmatise keeping only noun, adjective, verb, adverb\n",
    "\n",
    "data_lemmatized = lemmatization(bigrams, allowed_postags=['NOUN', 'ADJ', 'VERB', 'ADV'])"
   ]
  },
  {
   "cell_type": "code",
   "execution_count": 94,
   "metadata": {},
   "outputs": [],
   "source": [
    "# n-grams creationg parameters\n",
    "# min_count (float, optional) – Ignore all words and bigrams with total collected count lower than this value.\n",
    "# threshold (float, optional) – Represent a score threshold for forming the phrases (higher means fewer phrases)\n",
    "# scoring ({'default', 'npmi', function}, optional) –Specify how potential phrases are scored\n",
    "bigram = gensim.models.Phrases(lemmatized, min_count=5, threshold=50) \n",
    "bigram_mod = gensim.models.phrases.Phraser(bigram)\n",
    "bigramed = [bigram_mod[doc] for doc in lemmatized]"
   ]
  },
  {
   "cell_type": "markdown",
   "metadata": {},
   "source": [
    "Two interesting results from the bigram model : "
   ]
  },
  {
   "cell_type": "code",
   "execution_count": 90,
   "metadata": {},
   "outputs": [
    {
     "data": {
      "text/plain": [
       "True"
      ]
     },
     "execution_count": 90,
     "metadata": {},
     "output_type": "execute_result"
    }
   ],
   "source": [
    "# Case 1: no change --> no bigrams found \n",
    "lemmatized[0]==bigram_mod[lemmatized[0]]"
   ]
  },
  {
   "cell_type": "code",
   "execution_count": 91,
   "metadata": {},
   "outputs": [
    {
     "data": {
      "text/plain": [
       "-17"
      ]
     },
     "execution_count": 91,
     "metadata": {},
     "output_type": "execute_result"
    }
   ],
   "source": [
    "# Case 2: some change but we actually lose vocabulary ...\n",
    "len(bigram_mod[lemmatized[110]])-len(lemmatized[110])"
   ]
  },
  {
   "cell_type": "code",
   "execution_count": 92,
   "metadata": {},
   "outputs": [
    {
     "name": "stdout",
     "output_type": "stream",
     "text": [
      "['edit', 'volum', 'inquir', 'use', 'predict', 'intersect', 'polit', 'academia', 'reflect', 'upon', 'implic', 'futur', 'orient', 'polici', 'make', 'across', 'differ', 'field', 'first', 'part', 'book', 'discus', 'differ', 'academ', 'perspect', 'contribut', 'futur', 'orient', 'polici', 'make', 'second', 'part', 'discus', 'role', 'futur', 'knowledg', 'decis_make', 'across', 'differ', 'empir', 'issu', 'climat', 'health', 'financ', 'bio', 'nuclear_weapon', 'civil_war', 'crime', 'analys', 'predict', 'integr', 'public', 'polici', 'govern', 'return', 'govern', 'structur', 'influenc', 'make', 'knowledg', 'futur', 'volum', 'contribut', 'better_understand', 'complex', 'interact', 'feedback_loop', 'process', 'creat', 'knowledg', 'futur', 'applic', 'futur', 'knowledg', 'public', 'polici', 'govern', 'publish', 'websit', 'dieser', 'sammelband', 'untersucht', 'den', 'einsatz', 'von', 'vorhersagen', 'der', 'schnittstel', 'zwischen', 'politik_und', 'wissenschaft', 'und', 'reflektiert', 'uber_die', 'auswirkungen', 'verschiedenen', 'bereichen', 'im_ersten', 'teil', 'de', 'buch', 'werden', 'verschieden', 'akademisch', 'perspektiven', 'und', 'beitrag', 'zur', 'diskutiert', 'im', 'zweiten', 'teil', 'wird_die', 'roll', 'zukunftigen', 'wissen', 'bei_der', 'verschiedenen', 'empirischen', 'bereichen', 'wie', 'klima', 'gesundheit', 'finanzen', 'bio', 'und', 'atomwaffen', 'burgerkrieg', 'und', 'kriminalitat', 'untersucht', 'e', 'wird', 'analysiert', 'wie', 'vorhersagen', 'die', 'offentlich', 'politik_und', 'integriert', 'werden', 'und', 'wie', 'wiederum', 'die', 'da', 'generieren', 'von', 'wissen', 'uber_die', 'zukunft', 'beeinflussen', 'der', 'sammelband', 'tragt', 'zu_einem', 'besseren', 'verstandni', 'der', 'komplexen', 'und', 'zwischen_den', 'prozessen', 'der', 'schaffung', 'von', 'wissen', 'uber_die', 'zukunft', 'und_der', 'anwendung', 'dy', 'wissen', 'politik_und', 'verwaltung', 'bei']\n"
     ]
    }
   ],
   "source": [
    "# MOREOVER, we have german words inside!!\n",
    "print(bigram_mod[lemmatized[110]]) "
   ]
  },
  {
   "cell_type": "code",
   "execution_count": 89,
   "metadata": {},
   "outputs": [],
   "source": [
    "trigram = gensim.models.Phrases(bigram[lemmatized], min_count=5, threshold=5)\n",
    "trigram_mod = gensim.models.phrases.Phraser(trigram)"
   ]
  },
  {
   "cell_type": "code",
   "execution_count": 90,
   "metadata": {
    "scrolled": true
   },
   "outputs": [
    {
     "name": "stdout",
     "output_type": "stream",
     "text": [
      "['relev', 'nuclear_weapon', 'world', 'affair', 'increa_decrea', 'nuclear_power', 'modern', 'arsen', 'may', 'result', 'destabil', 'effect', 'nuclear', 'deterr', 'constel', 'time', 'discrep', 'import', 'arm', 'control', 'necessari', 'supplement', 'nuclear', 'deterr', 'one_hand', 'actual', 'limit', 'role', 'intern', 'affair', 'hand', 'constantli', 'grow', 'order_avoid', 'futur', 'nuclear_war', 'creat', 'strateg', 'stabil', 'renaiss', 'arm', 'control', 'urgent_need']\n"
     ]
    }
   ],
   "source": [
    "# Take a look at some of the trigrams\n",
    "print(trigram_mod[lemmatized[31]])"
   ]
  },
  {
   "cell_type": "code",
   "execution_count": 91,
   "metadata": {},
   "outputs": [],
   "source": [
    "def make_bigrams(texts):\n",
    "    return [bigram_mod[doc] for doc in texts]\n",
    "\n",
    "def make_trigrams(texts):\n",
    "    return [trigram_mod[bigram_mod[doc]] for doc in texts]"
   ]
  },
  {
   "cell_type": "code",
   "execution_count": 92,
   "metadata": {},
   "outputs": [],
   "source": [
    "bigrammed = make_bigrams(lemmatized)\n",
    "cleaned = make_trigrams(bigrammed)"
   ]
  },
  {
   "cell_type": "code",
   "execution_count": 97,
   "metadata": {},
   "outputs": [
    {
     "data": {
      "text/plain": [
       "68689"
      ]
     },
     "execution_count": 97,
     "metadata": {},
     "output_type": "execute_result"
    }
   ],
   "source": [
    "c = []\n",
    "for doc in cleaned: \n",
    "    c+=doc\n",
    "len(set(c))"
   ]
  },
  {
   "cell_type": "markdown",
   "metadata": {},
   "source": [
    "After grouping words that occur commonly together we have / **68689** terms (17,741 more)"
   ]
  },
  {
   "cell_type": "markdown",
   "metadata": {},
   "source": [
    "### 1.6 Analyse the vocabulary"
   ]
  },
  {
   "cell_type": "code",
   "execution_count": 16,
   "metadata": {},
   "outputs": [],
   "source": [
    "flatten = lambda l: [item for sublist in l for item in sublist]"
   ]
  },
  {
   "cell_type": "code",
   "execution_count": 17,
   "metadata": {},
   "outputs": [],
   "source": [
    "wordlist = flatten(cleaned)"
   ]
  },
  {
   "cell_type": "code",
   "execution_count": 18,
   "metadata": {},
   "outputs": [],
   "source": [
    "from collections import Counter\n",
    "counts = Counter(wordlist)"
   ]
  },
  {
   "cell_type": "code",
   "execution_count": 19,
   "metadata": {},
   "outputs": [
    {
     "data": {
      "text/plain": [
       "[('data', 11657),\n",
       " ('model', 10841),\n",
       " ('results', 9409),\n",
       " ('based', 9307),\n",
       " ('using', 8577),\n",
       " ('two', 7303),\n",
       " ('study', 7211),\n",
       " ('high', 7092),\n",
       " ('time', 7025),\n",
       " ('different', 6783)]"
      ]
     },
     "execution_count": 19,
     "metadata": {},
     "output_type": "execute_result"
    }
   ],
   "source": [
    "counts.most_common(10)"
   ]
  },
  {
   "cell_type": "code",
   "execution_count": 20,
   "metadata": {},
   "outputs": [],
   "source": [
    "hist(counts.most_common(10))"
   ]
  },
  {
   "cell_type": "markdown",
   "metadata": {},
   "source": [
    "## 2. Modelling"
   ]
  },
  {
   "cell_type": "markdown",
   "metadata": {},
   "source": [
    "### LDA"
   ]
  },
  {
   "cell_type": "code",
   "execution_count": null,
   "metadata": {},
   "outputs": [],
   "source": [
    "#!pip3.7 install tomotopy"
   ]
  },
  {
   "cell_type": "code",
   "execution_count": 104,
   "metadata": {},
   "outputs": [],
   "source": [
    "import sys\n",
    "import tomotopy as tp"
   ]
  },
  {
   "cell_type": "code",
   "execution_count": 119,
   "metadata": {},
   "outputs": [],
   "source": [
    "# Defining hyperparameters\n",
    "tw = tp.TermWeight.ONE # term weighting scheme in TermWeight. The default value is TermWeight.ONE\n",
    "k = 30 # number of topics...\n",
    "min_cf=3 # minimum collection frequency of words. Words with a smaller collection frequency than min_cf are excluded from the model. The default value is 0, which means no words are excluded.\n",
    "min_df=0 # minimum document frequency of words. Words with a smaller document frequency than min_df are excluded from the model. The default value is 0, which means no words are excluded\n",
    "rm_top=5 # the number of top words to be removed. If you want to remove too common words from model, you can set this value to 1 or more. The default value is 0, which means no top words are removed.\n",
    "alpha = None # hyperparameter of Dirichlet distribution for document-topic\n",
    "eta = None # hyperparameter of Dirichlet distribution for topic-word\n",
    "seed = 41 # random seed\n",
    "model_burn_in = 100 \n",
    "train_updates = 1000\n",
    "train_iter = 10\n",
    "save_path = \"lda_model\""
   ]
  },
  {
   "cell_type": "code",
   "execution_count": 120,
   "metadata": {},
   "outputs": [],
   "source": [
    "# Instantiating the model\n",
    "model = tp.LDAModel(tw=tp.TermWeight.ONE, min_cf=min_cf, rm_top=rm_top, k=k)"
   ]
  },
  {
   "cell_type": "code",
   "execution_count": 121,
   "metadata": {},
   "outputs": [],
   "source": [
    "# adding documents to the model \n",
    "for doc in cleaned: model.add_doc(doc)"
   ]
  },
  {
   "cell_type": "code",
   "execution_count": 122,
   "metadata": {},
   "outputs": [
    {
     "name": "stderr",
     "output_type": "stream",
     "text": [
      "Training...\n"
     ]
    },
    {
     "name": "stdout",
     "output_type": "stream",
     "text": [
      "Num docs: 20494 , Vocab size: 41921 , Num words: 2047104\n",
      "Removed top words: ['use', 'model', 'result', 'studi', 'base']\n",
      "Iteration: 0\n",
      "Iteration: 100\n",
      "Iteration: 200\n",
      "Iteration: 300\n",
      "Iteration: 400\n",
      "Iteration: 500\n",
      "Iteration: 600\n",
      "Iteration: 700\n",
      "Iteration: 800\n",
      "Iteration: 900\n"
     ]
    }
   ],
   "source": [
    "# training**\n",
    "model.burn_in = model_burn_in\n",
    "# initialising \n",
    "model.train(iter=0)\n",
    "print('Num docs:', len(model.docs), ', Vocab size:', len(model.used_vocabs), ', Num words:', model.num_words)\n",
    "print('Removed top words:', model.removed_top_words)\n",
    "print('Training...', file=sys.stderr, flush=True)\n",
    "# actual training \n",
    "time = []\n",
    "LLs = []\n",
    "for i in range(0, train_updates, train_iter):\n",
    "    model.train(train_iter)\n",
    "    if i%100==0:print('Iteration: {}'.format(i))\n",
    "    time.append(i)\n",
    "    LLs.append(model.ll_per_word)"
   ]
  },
  {
   "cell_type": "code",
   "execution_count": 123,
   "metadata": {},
   "outputs": [
    {
     "data": {
      "text/plain": [
       "Text(0.5, 0, 'Iteration')"
      ]
     },
     "execution_count": 123,
     "metadata": {},
     "output_type": "execute_result"
    },
    {
     "data": {
      "image/png": "[encoded data removed]",
      "text/plain": [
       "<Figure size 432x288 with 1 Axes>"
      ]
     },
     "metadata": {
      "needs_background": "light"
     },
     "output_type": "display_data"
    }
   ],
   "source": [
    "import matplotlib.pyplot as plt\n",
    "plt.plot(time,LLs)\n",
    "plt.ylabel('Log-likelihood')\n",
    "plt.xlabel('Iteration')"
   ]
  },
  {
   "cell_type": "code",
   "execution_count": 124,
   "metadata": {},
   "outputs": [
    {
     "name": "stdout",
     "output_type": "stream",
     "text": [
      "<Basic Info>\n",
      "| LDAModel (current version: 0.9.1)\n",
      "| 20494 docs, 2047104 words\n",
      "| Total Vocabs: 68689, Used Vocabs: 41921\n",
      "| Entropy of words: -8.69615\n",
      "| Removed Vocabs: use model result studi base\n",
      "|\n",
      "<Training Info>\n",
      "| Iterations: 1000, Burn-in steps: 100\n",
      "| Optimization Interval: 10\n",
      "| Log-likelihood per word: -8.63168\n",
      "|\n",
      "<Initial Parameters>\n",
      "| tw: TermWeight.ONE\n",
      "| min_cf: 3 (minimum collection frequency of words)\n",
      "| min_df: 0 (minimum document frequency of words)\n",
      "| rm_top: 5 (the number of top words to be removed)\n",
      "| k: 30 (the number of topics between 1 ~ 32767)\n",
      "| alpha: 0.1 (hyperparameter of Dirichlet distribution for document-topic)\n",
      "| eta: 0.01 (hyperparameter of Dirichlet distribution for topic-word)\n",
      "| seed: 413981393 (random seed)\n",
      "| trained in version 0.9.1\n",
      "|\n",
      "<Parameters>\n",
      "| alpha (Dirichlet prior on the per-document topic distributions)\n",
      "|  [0.02115543 0.04057477 0.0473648  0.03881337 0.03060828 0.03408973\n",
      "|   0.04750634 0.02920154 0.03210319 0.03348985 0.14166176 0.02239393\n",
      "|   0.02050162 0.34959254 0.01789482 0.00670509 0.02380325 0.02882896\n",
      "|   0.03361249 0.05521702 0.02625764 0.04729076 0.01606809 0.05106092\n",
      "|   0.03988693 0.01632953 0.01218499 0.02354932 0.05027501 0.1976262 ]\n",
      "| eta (Dirichlet prior on the per-topic word distribution)\n",
      "|  0.01\n",
      "|\n",
      "<Topics>\n",
      "| #0 (30640) : survey activ data particip choic\n",
      "| #1 (58831) : countri polici effect firm product\n",
      "| #2 (70662) : reaction oxid activ water surfac\n",
      "| #3 (53094) : system optim energi design product\n",
      "| #4 (39046) : social group work relat student\n",
      "| #5 (62621) : chang climat region temperatur simul\n",
      "| #6 (69961) : electron magnet measur optic field\n",
      "| #7 (58081) : soil plant speci forest increa\n",
      "| #8 (64799) : gene speci popul genom sequenc\n",
      "| #9 (48734) : algorithm network problem graph show\n",
      "| #10 (149690) : develop research data system process\n",
      "| #11 (48981) : neuron brain activ function connect\n",
      "| #12 (45987) : emiss observ measur co ozon\n",
      "| #13 (280123) : differ effect chang observ howev\n",
      "| #14 (31187) : measur jet present data particl\n",
      "| #15 (13648) : der und die von de\n",
      "| #16 (44626) : bacteria strain bacteri product infect\n",
      "| #17 (38404) : imag seismic map earthquak measur\n",
      "| #18 (75413) : patient as measur group method\n",
      "| #19 (72355) : gener function theori problem approxim\n",
      "| #20 (54735) : sediment water lake river age\n",
      "| #21 (59434) : system control perform sensor design\n",
      "| #22 (35950) : search mass product event standard_model\n",
      "| #23 (70213) : materi structur flow mechan surfac\n",
      "| #24 (88276) : cell express activ induc human\n",
      "| #25 (36433) : particl aerosol cloud measur observ\n",
      "| #26 (17242) : mass observ galaxi detect imag\n",
      "| #27 (35137) : network urban simul citi traffic\n",
      "| #28 (97113) : protein function cell activ complex\n",
      "| #29 (195688) : method data approach measur estim\n",
      "|\n",
      "\n"
     ]
    }
   ],
   "source": [
    "model.summary()"
   ]
  },
  {
   "cell_type": "code",
   "execution_count": 125,
   "metadata": {},
   "outputs": [
    {
     "name": "stderr",
     "output_type": "stream",
     "text": [
      "Saving...\n"
     ]
    }
   ],
   "source": [
    "print('Saving...', file=sys.stderr, flush=True)\n",
    "model.save(save_path, full=True) # If full is True, the model with its all documents and state will be saved. If you want to train more after, use full model. If False, only topic parameters of the model will be saved. This model can be only used for inference of an unseen document."
   ]
  },
  {
   "cell_type": "markdown",
   "metadata": {},
   "source": [
    "Let's have a better look at the results!"
   ]
  },
  {
   "cell_type": "code",
   "execution_count": 126,
   "metadata": {},
   "outputs": [
    {
     "name": "stdout",
     "output_type": "stream",
     "text": [
      "Topic #0\n",
      "\t\tsurvey\t0.013973632827401161\n",
      "\t\tactiv\t0.012106232345104218\n",
      "\t\tdata\t0.011494496837258339\n",
      "\t\tparticip\t0.009594899602234364\n",
      "\t\tchoic\t0.009111951105296612\n",
      "\t\ttime\t0.008822182193398476\n",
      "\t\tperson\t0.007405532523989677\n",
      "\t\thousehold\t0.007180156651884317\n",
      "\t\tbehavior\t0.007147959899157286\n",
      "\t\testim\t0.007147959899157286\n",
      "Topic #1\n",
      "\t\tcountri\t0.01404231321066618\n",
      "\t\tpolici\t0.012152024544775486\n",
      "\t\teffect\t0.011071859858930111\n",
      "\t\tfirm\t0.008573978208005428\n",
      "\t\tproduct\t0.008523344993591309\n",
      "\t\tfind\t0.008287059143185616\n",
      "\t\tmarket\t0.007881997153162956\n",
      "\t\tprice\t0.007240649312734604\n",
      "\t\teconom\t0.006886220537126064\n",
      "\t\tincrea\t0.006126729305833578\n",
      "Topic #2\n",
      "\t\treaction\t0.008497463539242744\n",
      "\t\toxid\t0.00690773269161582\n",
      "\t\tactiv\t0.006767048500478268\n",
      "\t\twater\t0.005782259628176689\n",
      "\t\tsurfac\t0.0055853016674518585\n",
      "\t\tformat\t0.005543096456676722\n",
      "\t\tchemic\t0.005332070402801037\n",
      "\t\tconcentr\t0.005303933285176754\n",
      "\t\tco\t0.005135112442076206\n",
      "\t\tprocess\t0.00483967550098896\n",
      "Topic #3\n",
      "\t\tsystem\t0.01928514428436756\n",
      "\t\toptim\t0.016986647620797157\n",
      "\t\tenergi\t0.015921488404273987\n",
      "\t\tdesign\t0.014090165495872498\n",
      "\t\tproduct\t0.01171691995114088\n",
      "\t\tprocess\t0.011530050076544285\n",
      "\t\toper\t0.010894693434238434\n",
      "\t\tcost\t0.009194178506731987\n",
      "\t\teffici\t0.008129021152853966\n",
      "\t\treduc\t0.007587098516523838\n",
      "Topic #4\n",
      "\t\tsocial\t0.011352024041116238\n",
      "\t\tgroup\t0.008640775457024574\n",
      "\t\twork\t0.008463403210043907\n",
      "\t\trelat\t0.0070190937258303165\n",
      "\t\tstudent\t0.006993754766881466\n",
      "\t\tarchitectur\t0.005574783310294151\n",
      "\t\tcooper\t0.005524105858057737\n",
      "\t\tlearn\t0.005296056624501944\n",
      "\t\tdesign\t0.005194701720029116\n",
      "\t\tconcept\t0.004865297582000494\n",
      "Topic #5\n",
      "\t\tchang\t0.01261115726083517\n",
      "\t\tclimat\t0.012230447493493557\n",
      "\t\tregion\t0.011421440169215202\n",
      "\t\ttemperatur\t0.011246948502957821\n",
      "\t\tsimul\t0.009803425520658493\n",
      "\t\tobserv\t0.008677160367369652\n",
      "\t\tincrea\t0.008328177034854889\n",
      "\t\tprecipit\t0.006662573199719191\n",
      "\t\twater\t0.006646709982305765\n",
      "\t\timpact\t0.006028057541698217\n",
      "Topic #6\n",
      "\t\telectron\t0.008482640609145164\n",
      "\t\tmagnet\t0.008127426728606224\n",
      "\t\tmeasur\t0.008127426728606224\n",
      "\t\toptic\t0.006365567911416292\n",
      "\t\tfield\t0.006266108248382807\n",
      "\t\tsystem\t0.006223482545465231\n",
      "\t\treson\t0.005726183764636517\n",
      "\t\tmateri\t0.005726183764636517\n",
      "\t\texperi\t0.005726183764636517\n",
      "\t\tdevic\t0.005655141081660986\n",
      "Topic #7\n",
      "\t\tsoil\t0.019025743007659912\n",
      "\t\tplant\t0.01878642849624157\n",
      "\t\tspeci\t0.014205248095095158\n",
      "\t\tforest\t0.010871926322579384\n",
      "\t\tincrea\t0.008615524508059025\n",
      "\t\teffect\t0.007162538357079029\n",
      "\t\tproduct\t0.006222371011972427\n",
      "\t\troot\t0.006205277051776648\n",
      "\t\tcrop\t0.006102713290601969\n",
      "\t\tdiffer\t0.005743740126490593\n",
      "Topic #8\n",
      "\t\tgene\t0.01599261909723282\n",
      "\t\tspeci\t0.014167975634336472\n",
      "\t\tpopul\t0.013109988532960415\n",
      "\t\tgenom\t0.012695994228124619\n",
      "\t\tsequenc\t0.00946070160716772\n",
      "\t\tinfect\t0.008080719038844109\n",
      "\t\tgenet\t0.007513392250984907\n",
      "\t\thost\t0.00673140212893486\n",
      "\t\tselect\t0.006225408520549536\n",
      "\t\tassoci\t0.006010744720697403\n",
      "Topic #9\n",
      "\t\talgorithm\t0.013020716607570648\n",
      "\t\tnetwork\t0.012980027124285698\n",
      "\t\tproblem\t0.012288312427699566\n",
      "\t\tgraph\t0.010050411336123943\n",
      "\t\tshow\t0.00876870471984148\n",
      "\t\tset\t0.008015956729650497\n",
      "\t\tnode\t0.006978384684771299\n",
      "\t\tcomput\t0.00632735900580883\n",
      "\t\tprotocol\t0.006144258193671703\n",
      "\t\tsecur\t0.005859434138983488\n",
      "Topic #10\n",
      "\t\tdevelop\t0.013643467798829079\n",
      "\t\tresearch\t0.010259264148771763\n",
      "\t\tdata\t0.008493882603943348\n",
      "\t\tsystem\t0.008453912101686\n",
      "\t\tprocess\t0.006888385396450758\n",
      "\t\tinform\t0.0065286471508443356\n",
      "\t\tprovid\t0.0062421890906989574\n",
      "\t\tapproach\t0.006075643468648195\n",
      "\t\ttechnolog\t0.005822494626045227\n",
      "\t\tinclud\t0.005742552690207958\n",
      "Topic #11\n",
      "\t\tneuron\t0.013299740850925446\n",
      "\t\tbrain\t0.011801771819591522\n",
      "\t\tactiv\t0.008886804804205894\n",
      "\t\tfunction\t0.007125678472220898\n",
      "\t\tconnect\t0.006376693490892649\n",
      "\t\ttask\t0.006376693490892649\n",
      "\t\trelat\t0.005708680488169193\n",
      "\t\tbehavior\t0.005688437260687351\n",
      "\t\tcontrol\t0.005627708975225687\n",
      "\t\tassoci\t0.0055872234515845776\n",
      "Topic #12\n",
      "\t\temiss\t0.014782719314098358\n",
      "\t\tobserv\t0.012649384327232838\n",
      "\t\tmeasur\t0.010709988884627819\n",
      "\t\tco\t0.010494500398635864\n",
      "\t\tozon\t0.008490458130836487\n",
      "\t\tatmosph\t0.008188774809241295\n",
      "\t\tsimul\t0.007951737381517887\n",
      "\t\tregion\t0.007046686485409737\n",
      "\t\tflux\t0.006917393300682306\n",
      "\t\tchang\t0.006895844358950853\n",
      "Topic #13\n",
      "\t\tdiffer\t0.013238685205578804\n",
      "\t\teffect\t0.010921742767095566\n",
      "\t\tchang\t0.009128786623477936\n",
      "\t\tobserv\t0.0077778310514986515\n",
      "\t\thowev\t0.006615795660763979\n",
      "\t\tincrea\t0.006533811800181866\n",
      "\t\tshow\t0.006412617862224579\n",
      "\t\tdynam\t0.006391230504959822\n",
      "\t\ttime\t0.005992003716528416\n",
      "\t\texperi\t0.0058957613073289394\n",
      "Topic #14\n",
      "\t\tmeasur\t0.035562947392463684\n",
      "\t\tjet\t0.011010810732841492\n",
      "\t\tpresent\t0.010694417171180248\n",
      "\t\tdata\t0.009049170650541782\n",
      "\t\tparticl\t0.008669499307870865\n",
      "\t\tcross_section\t0.008637859486043453\n",
      "\t\tevent\t0.008353105746209621\n",
      "\t\tgev\t0.008131629787385464\n",
      "\t\tfunction\t0.008099990896880627\n",
      "\t\tcompar\t0.008005072362720966\n",
      "Topic #15\n",
      "\t\tder\t0.036255236715078354\n",
      "\t\tund\t0.03270087018609047\n",
      "\t\tdie\t0.031065862625837326\n",
      "\t\tvon\t0.014929044060409069\n",
      "\t\tde\t0.014573607593774796\n",
      "\t\tein\t0.012085551396012306\n",
      "\t\tda\t0.010592718608677387\n",
      "\t\tzu\t0.010450543835759163\n",
      "\t\tim\t0.009028797969222069\n",
      "\t\tmit\t0.008389012888073921\n",
      "Topic #16\n",
      "\t\tbacteria\t0.012032577767968178\n",
      "\t\tstrain\t0.009945785626769066\n",
      "\t\tbacteri\t0.008169792592525482\n",
      "\t\tproduct\t0.006882196757942438\n",
      "\t\tinfect\t0.006704597733914852\n",
      "\t\tconcentr\t0.005949800368398428\n",
      "\t\tisol\t0.005927600432187319\n",
      "\t\tcell\t0.005727801006287336\n",
      "\t\tiron\t0.005705601070076227\n",
      "\t\tresist\t0.0056168013252317905\n",
      "Topic #17\n",
      "\t\timag\t0.02931261993944645\n",
      "\t\tseismic\t0.010663981549441814\n",
      "\t\tmap\t0.00891245249658823\n",
      "\t\tearthquak\t0.008242749609053135\n",
      "\t\tmeasur\t0.007624562829732895\n",
      "\t\tarea\t0.006594251375645399\n",
      "\t\tveloc\t0.006491219624876976\n",
      "\t\treconstruct\t0.005873032845556736\n",
      "\t\tdetect\t0.005847275257110596\n",
      "\t\tfault\t0.005641212686896324\n",
      "Topic #18\n",
      "\t\tpatient\t0.01943778246641159\n",
      "\t\tas\t0.010009071789681911\n",
      "\t\tmeasur\t0.009006858803331852\n",
      "\t\tgroup\t0.008189263753592968\n",
      "\t\tmethod\t0.007187051698565483\n",
      "\t\tcompar\t0.006831002421677113\n",
      "\t\tconclu\t0.006712319329380989\n",
      "\t\tperform\t0.0064353919588029385\n",
      "\t\ttest\t0.006079342681914568\n",
      "\t\tinterv\t0.005696919746696949\n",
      "Topic #19\n",
      "\t\tgener\t0.010388433001935482\n",
      "\t\tfunction\t0.008602085523307323\n",
      "\t\ttheori\t0.008189852349460125\n",
      "\t\tproblem\t0.007818841375410557\n",
      "\t\tapproxim\t0.007434089668095112\n",
      "\t\tsolut\t0.007406607270240784\n",
      "\t\tshow\t0.006911926902830601\n",
      "\t\tsystem\t0.00669206865131855\n",
      "\t\tcomput\t0.006293575745075941\n",
      "\t\tderiv\t0.005840118508785963\n",
      "Topic #20\n",
      "\t\tsediment\t0.009518946520984173\n",
      "\t\twater\t0.007760241627693176\n",
      "\t\tlake\t0.006364156026393175\n",
      "\t\triver\t0.0058383578434586525\n",
      "\t\tage\t0.00547573808580637\n",
      "\t\tisotop\t0.005004332400858402\n",
      "\t\tsampl\t0.004859284497797489\n",
      "\t\tcarbon\t0.004406009800732136\n",
      "\t\tsuggest\t0.004351616837084293\n",
      "\t\trecord\t0.004170306958258152\n",
      "Topic #21\n",
      "\t\tsystem\t0.021953877061605453\n",
      "\t\tcontrol\t0.011845814064145088\n",
      "\t\tperform\t0.010776531882584095\n",
      "\t\tsensor\t0.009690540842711926\n",
      "\t\tdesign\t0.008938701823353767\n",
      "\t\ttrain\t0.008270400576293468\n",
      "\t\trobot\t0.007602098397910595\n",
      "\t\ttask\t0.007084164768457413\n",
      "\t\tlearn\t0.006833551451563835\n",
      "\t\tdevic\t0.006733306217938662\n",
      "Topic #22\n",
      "\t\tsearch\t0.013253243640065193\n",
      "\t\tmass\t0.012675832025706768\n",
      "\t\tproduct\t0.012153412215411663\n",
      "\t\tevent\t0.011988437734544277\n",
      "\t\tstandard_model\t0.01196094136685133\n",
      "\t\tobserv\t0.009348842315375805\n",
      "\t\tlimit\t0.009266355074942112\n",
      "\t\tcorrespond_integr_lumino_fb\t0.008166523650288582\n",
      "\t\tdecay\t0.007369145750999451\n",
      "\t\tfinal_state\t0.006874220911413431\n",
      "Topic #23\n",
      "\t\tmateri\t0.012699729762971401\n",
      "\t\tstructur\t0.012614782899618149\n",
      "\t\tflow\t0.009032847359776497\n",
      "\t\tmechan\t0.009004532359540462\n",
      "\t\tsurfac\t0.008240008726716042\n",
      "\t\texperi\t0.006994117982685566\n",
      "\t\ttest\t0.0066118561662733555\n",
      "\t\tmeasur\t0.005776543170213699\n",
      "\t\tdeform\t0.005465070251375437\n",
      "\t\tload\t0.005238545127213001\n",
      "Topic #24\n",
      "\t\tcell\t0.02360905334353447\n",
      "\t\texpress\t0.008185448125004768\n",
      "\t\tactiv\t0.007835935801267624\n",
      "\t\tinduc\t0.007159462198615074\n",
      "\t\thuman\t0.0066972048953175545\n",
      "\t\ttissu\t0.006573184859007597\n",
      "\t\tmous\t0.006156025920063257\n",
      "\t\tincrea\t0.005208962131291628\n",
      "\t\ttreatment\t0.005073667503893375\n",
      "\t\tdevelop\t0.004825626965612173\n",
      "Topic #25\n",
      "\t\tparticl\t0.022604070603847504\n",
      "\t\taerosol\t0.018180999904870987\n",
      "\t\tcloud\t0.016471467912197113\n",
      "\t\tmeasur\t0.01565740630030632\n",
      "\t\tobserv\t0.009226311929523945\n",
      "\t\tconcentr\t0.008819281123578548\n",
      "\t\tsimul\t0.0070283436216413975\n",
      "\t\tatmosph\t0.006811260245740414\n",
      "\t\ttemperatur\t0.006322822533547878\n",
      "\t\twater\t0.00602433318272233\n",
      "Topic #26\n",
      "\t\tmass\t0.013249940238893032\n",
      "\t\tobserv\t0.013023455627262592\n",
      "\t\tgalaxi\t0.01155130285769701\n",
      "\t\tdetect\t0.008267269469797611\n",
      "\t\timag\t0.006738496012985706\n",
      "\t\torbit\t0.006172283552587032\n",
      "\t\tdisk\t0.006002419628202915\n",
      "\t\tstar\t0.005662692245095968\n",
      "\t\tplanet\t0.005322964861989021\n",
      "\t\tgroup\t0.005322964861989021\n",
      "Topic #27\n",
      "\t\tnetwork\t0.016762472689151764\n",
      "\t\turban\t0.015496870502829552\n",
      "\t\tsimul\t0.01515937689691782\n",
      "\t\tciti\t0.013162539340555668\n",
      "\t\ttraffic\t0.00987197458744049\n",
      "\t\tvehicl\t0.009646979160606861\n",
      "\t\tarea\t0.007593891583383083\n",
      "\t\tdemand\t0.007537642493844032\n",
      "\t\ttransport\t0.007481393404304981\n",
      "\t\tplan\t0.0074251447804272175\n",
      "Topic #28\n",
      "\t\tprotein\t0.021623728796839714\n",
      "\t\tfunction\t0.01056071650236845\n",
      "\t\tcell\t0.010345403105020523\n",
      "\t\tactiv\t0.008899726904928684\n",
      "\t\tcomplex\t0.007577086798846722\n",
      "\t\tregul\t0.007402785122394562\n",
      "\t\tinteract\t0.006387735716998577\n",
      "\t\tgene\t0.006254446692764759\n",
      "\t\tstructur\t0.006018626969307661\n",
      "\t\texpress\t0.00585457868874073\n",
      "Topic #29\n",
      "\t\tmethod\t0.02197272516787052\n",
      "\t\tdata\t0.02088148705661297\n",
      "\t\tapproach\t0.01326320506632328\n",
      "\t\tmeasur\t0.01066258642822504\n",
      "\t\testim\t0.00933168176561594\n",
      "\t\tperform\t0.009010428562760353\n",
      "\t\tanalysi\t0.00850050337612629\n",
      "\t\tpredict\t0.00819964800029993\n",
      "\t\tsampl\t0.007949784398078918\n",
      "\t\tdiffer\t0.007597936317324638\n"
     ]
    }
   ],
   "source": [
    "for k in range(model.k):\n",
    "    print('Topic #{}'.format(k))\n",
    "    for word, prob in model.get_topic_words(k):\n",
    "        print('\\t', word, prob, sep='\\t')"
   ]
  },
  {
   "cell_type": "markdown",
   "metadata": {},
   "source": [
    "### Hyperparameter tuning by optimizing log-likelihood  \n",
    "Note: log-likelihood is generally not considered a good measure for topic model performance..."
   ]
  },
  {
   "cell_type": "code",
   "execution_count": 134,
   "metadata": {},
   "outputs": [],
   "source": [
    "def train_LDA(documents, k, min_cf=0, min_df=0, rm_top=0, alpha=0.1, eta=0.01, model_burn_in=100, \n",
    "              train_updates = 1000, train_iter = 10):\n",
    "    \n",
    "    # instantiate\n",
    "    model = tp.LDAModel(tw=tp.TermWeight.ONE, min_cf=min_cf, rm_top=rm_top, k=k)\n",
    "    \n",
    "    # add documents to model\n",
    "    for doc in documents: model.add_doc(doc)\n",
    "    \n",
    "    # training**\n",
    "    model.burn_in = model_burn_in\n",
    "    # initialising \n",
    "    model.train(iter=0)\n",
    "    print('Num docs:', len(model.docs), ', Vocab size:', len(model.used_vocabs), ', Num words:', model.num_words)\n",
    "    print('Removed top words:', model.removed_top_words)\n",
    "    print('Training...', file=sys.stderr, flush=True)\n",
    "    # actual training \n",
    "    time = []\n",
    "    LLs = []\n",
    "    for i in range(0, train_updates, train_iter):\n",
    "        model.train(train_iter)\n",
    "        if i%100==0:print('Iteration: {}'.format(i))\n",
    "        time.append(i)\n",
    "        LLs.append(model.ll_per_word)\n",
    "    \n",
    "    return model, LLs, time"
   ]
  },
  {
   "cell_type": "code",
   "execution_count": null,
   "metadata": {},
   "outputs": [],
   "source": [
    "# simple loop for minimizing perplexity on the training set\n",
    "\n",
    "topics = [10,20,30]\n",
    "perplexity_score = np.array([])\n",
    "for k in topics:\n",
    "    model, LLs, time = train_LDA(cleaned, k = k, train_updates = 600)\n",
    "    perplexity_score = np.append(perplexity_score, model.perplexity)\n",
    "\n",
    "topics[np.argmin(perplexity_score)]"
   ]
  },
  {
   "cell_type": "code",
   "execution_count": 168,
   "metadata": {},
   "outputs": [
    {
     "name": "stdout",
     "output_type": "stream",
     "text": [
      "20494\n"
     ]
    }
   ],
   "source": [
    "# split data in train and test set\n",
    "\n",
    "print(len(cleaned))\n",
    "train_size = int(0.8*len(cleaned))\n",
    "\n",
    "random.shuffle(cleaned)\n",
    "train_docs = cleaned[0:train_size]\n",
    "test_docs = cleaned[train_size:]\n",
    "\n",
    "assert len(train_docs) + len(test_docs) == len(cleaned)"
   ]
  },
  {
   "cell_type": "code",
   "execution_count": 171,
   "metadata": {},
   "outputs": [],
   "source": [
    "def get_test_LL(test_docs, model):\n",
    "    \n",
    "    # make a list of documents of type required by tp\n",
    "    test_set = []\n",
    "    for doc in test_docs:\n",
    "        test_set.append(model.make_doc(doc))\n",
    "    \n",
    "    # return topic distribution and log-likelihood of new documents\n",
    "    topic_dist, likelihood = model.infer(test_set)\n",
    "    \n",
    "    # use mean log-likelihood as performance measure\n",
    "    return np.mean(likelihood)"
   ]
  },
  {
   "cell_type": "code",
   "execution_count": 172,
   "metadata": {},
   "outputs": [
    {
     "name": "stderr",
     "output_type": "stream",
     "text": [
      "Training...\n"
     ]
    },
    {
     "name": "stdout",
     "output_type": "stream",
     "text": [
      "Num docs: 16395 , Vocab size: 62919 , Num words: 1713454\n",
      "Removed top words: []\n",
      "Iteration: 0\n",
      "Iteration: 100\n",
      "Iteration: 200\n",
      "Iteration: 300\n",
      "Iteration: 400\n",
      "Iteration: 500\n",
      "Iteration: 600\n",
      "Iteration: 700\n"
     ]
    },
    {
     "name": "stderr",
     "output_type": "stream",
     "text": [
      "Training...\n"
     ]
    },
    {
     "name": "stdout",
     "output_type": "stream",
     "text": [
      "Num docs: 16395 , Vocab size: 62919 , Num words: 1713454\n",
      "Removed top words: []\n",
      "Iteration: 0\n",
      "Iteration: 100\n",
      "Iteration: 200\n",
      "Iteration: 300\n",
      "Iteration: 400\n",
      "Iteration: 500\n",
      "Iteration: 600\n",
      "Iteration: 700\n"
     ]
    },
    {
     "name": "stderr",
     "output_type": "stream",
     "text": [
      "Training...\n"
     ]
    },
    {
     "name": "stdout",
     "output_type": "stream",
     "text": [
      "Num docs: 16395 , Vocab size: 62919 , Num words: 1713454\n",
      "Removed top words: []\n",
      "Iteration: 0\n",
      "Iteration: 100\n",
      "Iteration: 200\n",
      "Iteration: 300\n",
      "Iteration: 400\n",
      "Iteration: 500\n",
      "Iteration: 600\n",
      "Iteration: 700\n"
     ]
    },
    {
     "data": {
      "text/plain": [
       "30"
      ]
     },
     "execution_count": 172,
     "metadata": {},
     "output_type": "execute_result"
    }
   ],
   "source": [
    "# loop for maximizing mean likelihood of test set\n",
    "\n",
    "topics = [10,20,30]\n",
    "log_likelihoods = np.array([])\n",
    "for k in topics:\n",
    "    model, LLs, time = train_LDA(train_docs, k = k, train_updates = 800)\n",
    "    log_likelihoods = np.append(log_likelihoods, get_test_LL(test_docs, model))\n",
    "\n",
    "topics[np.argmax(log_likelihoods)]"
   ]
  },
  {
   "cell_type": "code",
   "execution_count": 173,
   "metadata": {},
   "outputs": [
    {
     "name": "stdout",
     "output_type": "stream",
     "text": [
      "[-882.05810779 -882.89588814 -879.71187388]\n"
     ]
    }
   ],
   "source": [
    "print(likelihoods)"
   ]
  },
  {
   "cell_type": "code",
   "execution_count": 138,
   "metadata": {},
   "outputs": [],
   "source": [
    "# TODO: use new quality measures"
   ]
  },
  {
   "cell_type": "markdown",
   "metadata": {},
   "source": [
    "## Next up\n",
    "\n",
    "- experimenting with bigrams/trigrams\n",
    "- more solid results on LDA (with other measures and grid-search) \n",
    "- experimenting with CTM\n",
    "- experimenting with Pachinko"
   ]
  },
  {
   "cell_type": "code",
   "execution_count": null,
   "metadata": {},
   "outputs": [],
   "source": []
  }
 ],
 "metadata": {
  "kernelspec": {
   "display_name": "Python 3",
   "language": "python",
   "name": "python3"
  },
  "language_info": {
   "codemirror_mode": {
    "name": "ipython",
    "version": 3
   },
   "file_extension": ".py",
   "mimetype": "text/x-python",
   "name": "python",
   "nbconvert_exporter": "python",
   "pygments_lexer": "ipython3",
   "version": "3.7.4"
  }
 },
 "nbformat": 4,
 "nbformat_minor": 2
}
