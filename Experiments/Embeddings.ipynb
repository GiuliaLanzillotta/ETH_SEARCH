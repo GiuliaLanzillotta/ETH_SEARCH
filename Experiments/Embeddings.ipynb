{
 "cells": [
  {
   "cell_type": "markdown",
   "metadata": {},
   "source": [
    "# Let's play with the embeddings here a bit"
   ]
  },
  {
   "cell_type": "markdown",
   "metadata": {},
   "source": [
    "We will have a look at Bert embeddings here first. "
   ]
  },
  {
   "cell_type": "code",
   "execution_count": null,
   "metadata": {},
   "outputs": [],
   "source": [
    "import torch\n",
    "import pickle \n",
    "import pandas as pd\n",
    "import numpy as np\n",
    "from transformers import DistilBertTokenizerFast, DistilBertModel"
   ]
  },
  {
   "cell_type": "markdown",
   "metadata": {},
   "source": [
    "Loading the embeddings from file. <br>\n",
    "The ones I'm working on here are the result of processing of only 500 randomly sampled documents, filtering out words that are not nouns, and only keeping vectors that have a similarity below 0.9. "
   ]
  },
  {
   "cell_type": "code",
   "execution_count": null,
   "metadata": {},
   "outputs": [],
   "source": [
    "vocab_output_path = \"vocab_etm\"\n",
    "embedding_output_path = \"embedding_etm\"\n",
    "new_collection_output_path = \"new_collection_etm\""
   ]
  },
  {
   "cell_type": "code",
   "execution_count": null,
   "metadata": {},
   "outputs": [],
   "source": [
    "# Loading from binary \n",
    "with open(vocab_output_path, \"rb\") as fp:  \n",
    "    idx2word = pickle.load(fp)\n",
    "with open(embedding_output_path, \"rb\") as fp: \n",
    "    embedding = pickle.load(fp)\n",
    "with open(new_collection_output_path, \"rb\") as fp: \n",
    "    new_token_ids = pickle.load(fp)"
   ]
  },
  {
   "cell_type": "code",
   "execution_count": null,
   "metadata": {},
   "outputs": [],
   "source": [
    "word2idxs = [(word, [position for position, v in enumerate(list(idx2word.values())) if v == word]) for word in set(idx2word.values())]"
   ]
  },
  {
   "cell_type": "code",
   "execution_count": null,
   "metadata": {},
   "outputs": [],
   "source": [
    "word2idxs_df = pd.DataFrame(word2idxs, columns=[\"word\",\"indices\"])"
   ]
  },
  {
   "cell_type": "code",
   "execution_count": null,
   "metadata": {},
   "outputs": [],
   "source": [
    "word2idxs_df.head(10)"
   ]
  },
  {
   "cell_type": "code",
   "execution_count": null,
   "metadata": {},
   "outputs": [],
   "source": [
    "word2idxs_df[\"num_occurrences\"] = word2idxs_df[\"indices\"].apply(lambda x: len(x))\n",
    "word2idxs_df.head()"
   ]
  },
  {
   "cell_type": "code",
   "execution_count": null,
   "metadata": {},
   "outputs": [],
   "source": [
    "word2idxs_sorted = word2idxs_df.sort_values(by=[\"num_occurrences\"],ascending=False)\n",
    "word2idxs_sorted.head(20)"
   ]
  },
  {
   "cell_type": "code",
   "execution_count": null,
   "metadata": {},
   "outputs": [],
   "source": [
    "word2idxs_sorted.tail(20)"
   ]
  },
  {
   "cell_type": "code",
   "execution_count": null,
   "metadata": {},
   "outputs": [],
   "source": [
    "word2idxs_sorted.iloc[297]"
   ]
  },
  {
   "cell_type": "markdown",
   "metadata": {},
   "source": [
    "### And since we all like it, let's add some visualisation to it! "
   ]
  },
  {
   "cell_type": "code",
   "execution_count": null,
   "metadata": {},
   "outputs": [],
   "source": [
    "fig, axes = plt.subplots(nrows=1, ncols=2, figsize=(5, 3))\n",
    "plt.subplot(2, 1, 1)\n",
    "word2idxs_df[\"num_occurrences\"].hist(bins=30,color='steelblue', edgecolor='black', linewidth=1.0,\n",
    "           xlabelsize=8, ylabelsize=8, grid=False)   \n",
    "plt.subplot(2, 1, 2)\n",
    "word2idxs_df[\"num_occurrences\"].hist(bins=100, density=True, cumulative=True, linewidth=1.0)   \n",
    "plt.tight_layout(rect=(0, 0, 1.2, 1.2))  "
   ]
  },
  {
   "cell_type": "code",
   "execution_count": null,
   "metadata": {},
   "outputs": [],
   "source": [
    "from sklearn.datasets import fetch_mldata\n",
    "from sklearn.decomposition import PCA\n",
    "from sklearn.manifold import TSNE\n",
    "%matplotlib inline\n",
    "import matplotlib.pyplot as plt\n",
    "from mpl_toolkits.mplot3d import Axes3D\n",
    "import seaborn as sns"
   ]
  },
  {
   "cell_type": "markdown",
   "metadata": {},
   "source": [
    "Let's select one of the higly contextualised words to visualise"
   ]
  },
  {
   "cell_type": "code",
   "execution_count": null,
   "metadata": {},
   "outputs": [],
   "source": [
    "# all the embeddings for the word 'data'\n",
    "data_emb = embedding[list(word2idxs_df[word2idxs_df[\"word\"]==\"data\"][\"indices\"])[0],:].numpy()"
   ]
  },
  {
   "cell_type": "code",
   "execution_count": null,
   "metadata": {},
   "outputs": [],
   "source": [
    "data_emb_df = pd.DataFrame(data_emb)\n",
    "data_emb_df[\"word\"] = 0\n",
    "data_emb_df.head() # each row is a different \"meaning\" of data"
   ]
  },
  {
   "cell_type": "code",
   "execution_count": null,
   "metadata": {},
   "outputs": [],
   "source": [
    "# all the embeddings for the word 'system', 'model', 'wave', 'user', 'light'\n",
    "system_emb = embedding[list(word2idxs_df[word2idxs_df[\"word\"]==\"system\"][\"indices\"])[0],:].numpy()\n",
    "model_emb = embedding[list(word2idxs_df[word2idxs_df[\"word\"]==\"model\"][\"indices\"])[0],:].numpy()\n",
    "wave_emb = embedding[list(word2idxs_df[word2idxs_df[\"word\"]==\"wave\"][\"indices\"])[0],:].numpy()\n",
    "user_emb = embedding[list(word2idxs_df[word2idxs_df[\"word\"]==\"user\"][\"indices\"])[0],:].numpy()\n",
    "light_emb = embedding[list(word2idxs_df[word2idxs_df[\"word\"]==\"light\"][\"indices\"])[0],:].numpy()\n",
    "# and their respective dataframes \n",
    "system_emb_df = pd.DataFrame(system_emb)\n",
    "system_emb_df[\"word\"] = 1\n",
    "model_emb_df = pd.DataFrame(model_emb)\n",
    "model_emb_df[\"word\"] = 2\n",
    "wave_emb_df = pd.DataFrame(wave_emb)\n",
    "wave_emb_df[\"word\"] = 3\n",
    "user_emb_df = pd.DataFrame(user_emb)\n",
    "user_emb_df[\"word\"] = 4\n",
    "light_emb_df = pd.DataFrame(light_emb)\n",
    "light_emb_df[\"word\"] = 5"
   ]
  },
  {
   "cell_type": "code",
   "execution_count": null,
   "metadata": {},
   "outputs": [],
   "source": [
    "# now stacking all of them \n",
    "frequent_words_df = data_emb_df.append([system_emb_df,model_emb_df,wave_emb_df,user_emb_df,light_emb_df])"
   ]
  },
  {
   "cell_type": "code",
   "execution_count": null,
   "metadata": {},
   "outputs": [],
   "source": [
    "frequent_words_df.dropna()"
   ]
  },
  {
   "cell_type": "code",
   "execution_count": null,
   "metadata": {},
   "outputs": [],
   "source": [
    "# first PCA reduction \n",
    "pca = PCA(n_components=3)\n",
    "pca_result = pca.fit_transform(frequent_words_df.dropna().values)"
   ]
  },
  {
   "cell_type": "code",
   "execution_count": null,
   "metadata": {},
   "outputs": [],
   "source": [
    "print('Explained variation per principal component: {}'.format(pca.explained_variance_ratio_))"
   ]
  },
  {
   "cell_type": "code",
   "execution_count": null,
   "metadata": {},
   "outputs": [],
   "source": [
    "frequent_words_df['pca-one'] = pca_result[:,0]\n",
    "frequent_words_df['pca-two'] = pca_result[:,1] \n",
    "frequent_words_df['pca-three'] = pca_result[:,2]"
   ]
  },
  {
   "cell_type": "code",
   "execution_count": null,
   "metadata": {},
   "outputs": [],
   "source": [
    "ax = plt.figure(figsize=(16,10)).gca(projection='3d')\n",
    "scatter = ax.scatter(\n",
    "    xs=frequent_words_df[\"pca-one\"], \n",
    "    ys=frequent_words_df[\"pca-two\"], \n",
    "    zs=frequent_words_df[\"pca-three\"], \n",
    "    c = frequent_words_df[\"word\"],\n",
    "    cmap='rainbow'\n",
    ")\n",
    "ax.set_xlabel('pca-one')\n",
    "ax.set_ylabel('pca-two')\n",
    "ax.set_zlabel('pca-three')\n",
    "plt.legend(handles=scatter.legend_elements()[0], labels=[ 'wave', 'user', 'light'])\n",
    "\n",
    "plt.show()"
   ]
  },
  {
   "cell_type": "code",
   "execution_count": null,
   "metadata": {},
   "outputs": [],
   "source": [
    "ax = plt.figure(figsize=(16,10)).gca(projection='3d')\n",
    "scatter = ax.scatter(\n",
    "    xs=frequent_words_df[\"pca-one\"], \n",
    "    ys=frequent_words_df[\"pca-two\"], \n",
    "    zs=frequent_words_df[\"pca-three\"], \n",
    "    c = frequent_words_df[\"word\"],\n",
    "    cmap='rainbow'\n",
    ")\n",
    "ax.set_xlabel('pca-one')\n",
    "ax.set_ylabel('pca-two')\n",
    "ax.set_zlabel('pca-three')\n",
    "plt.legend(handles=scatter.legend_elements()[0], labels=[ 'wave', 'user', 'light'])\n",
    "\n",
    "plt.show()"
   ]
  },
  {
   "cell_type": "code",
   "execution_count": null,
   "metadata": {},
   "outputs": [],
   "source": [
    "# plotting only the less frequent words \n",
    "ax = plt.figure(figsize=(16,10)).gca(projection='3d')\n",
    "scatter = ax.scatter(\n",
    "    xs=frequent_words_df[619:][\"pca-one\"], \n",
    "    ys=frequent_words_df[619:][\"pca-two\"], \n",
    "    zs=frequent_words_df[619:][\"pca-three\"], \n",
    "    c = frequent_words_df[619:][\"word\"],\n",
    "    cmap='rainbow'\n",
    ")\n",
    "ax.set_xlabel('pca-one')\n",
    "ax.set_ylabel('pca-two')\n",
    "ax.set_zlabel('pca-three')\n",
    "plt.legend(handles=scatter.legend_elements()[0], labels=[ 'wave', 'user', 'light'])\n",
    "\n",
    "plt.show()"
   ]
  },
  {
   "cell_type": "code",
   "execution_count": null,
   "metadata": {},
   "outputs": [],
   "source": []
  }
 ],
 "metadata": {
  "kernelspec": {
   "display_name": "Python 3",
   "language": "python",
   "name": "python3"
  },
  "language_info": {
   "codemirror_mode": {
    "name": "ipython",
    "version": 3
   },
   "file_extension": ".py",
   "mimetype": "text/x-python",
   "name": "python",
   "nbconvert_exporter": "python",
   "pygments_lexer": "ipython3",
   "version": "3.7.6"
  }
 },
 "nbformat": 4,
 "nbformat_minor": 2
}
