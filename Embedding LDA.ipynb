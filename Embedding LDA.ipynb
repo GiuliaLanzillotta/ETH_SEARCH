{
 "cells": [
  {
   "cell_type": "code",
   "execution_count": 74,
   "metadata": {},
   "outputs": [],
   "source": [
    "import tomotopy as tp\n",
    "import pandas as pd\n",
    "import pickle\n",
    "import numpy as np\n",
    "import sys\n",
    "import nltk\n",
    "from nltk import word_tokenize, RegexpTokenizer,PunktSentenceTokenizer, sent_tokenize\n",
    "from nltk.stem import PorterStemmer\n",
    "from nltk.stem import WordNetLemmatizer\n",
    "from nltk.corpus import stopwords\n",
    "import gensim\n",
    "import gensim.corpora as corpora\n",
    "from gensim.utils import simple_preprocess\n",
    "from gensim.models import CoherenceModel\n",
    "import re"
   ]
  },
  {
   "cell_type": "markdown",
   "metadata": {},
   "source": [
    "# Topics embeddings pipeline \n",
    "Here we implement the embedding pipeline for the topics extracted by the collection. <br>\n",
    "The results will be the following: \n",
    "1. Topic embeddings \n",
    "2. Document embeddings \n",
    "3. Other nodes embeddings? "
   ]
  },
  {
   "cell_type": "markdown",
   "metadata": {},
   "source": [
    "## 1. Loading topic model(s) and collection"
   ]
  },
  {
   "cell_type": "code",
   "execution_count": 75,
   "metadata": {},
   "outputs": [],
   "source": [
    "collection = pickle.load(open( \"collection_cleaned_fullwords.p\", \"rb\" ))"
   ]
  },
  {
   "cell_type": "code",
   "execution_count": 76,
   "metadata": {},
   "outputs": [],
   "source": [
    "num_batches = 4\n",
    "batches = np.array_split(collection, num_batches)"
   ]
  },
  {
   "cell_type": "code",
   "execution_count": 77,
   "metadata": {},
   "outputs": [],
   "source": [
    "def get_batch_indices(batches):\n",
    "    res = []\n",
    "    for i,batch in enumerate(batches):\n",
    "        res += [i]*len(batch)\n",
    "    return res\n",
    "batch_indices = get_batch_indices(batches)"
   ]
  },
  {
   "cell_type": "code",
   "execution_count": 78,
   "metadata": {},
   "outputs": [
    {
     "name": "stdout",
     "output_type": "stream",
     "text": [
      "5124\n",
      "5124\n",
      "5123\n",
      "5123\n"
     ]
    }
   ],
   "source": [
    "# number of docs per batch\n",
    "for b in batches: print(len(b))"
   ]
  },
  {
   "cell_type": "markdown",
   "metadata": {},
   "source": [
    "Batch training models "
   ]
  },
  {
   "cell_type": "code",
   "execution_count": 79,
   "metadata": {},
   "outputs": [],
   "source": [
    "num_topics_per_batch = 125\n",
    "models = []\n",
    "model_names = ['LDA1batch1.bin','LDA1batch2.bin','LDA1batch3.bin','LDA1batch4.bin']\n",
    "for name in model_names:\n",
    "    models.append(tp.LDAModel.load(name))"
   ]
  },
  {
   "cell_type": "markdown",
   "metadata": {},
   "source": [
    "## 2. Extract the topics "
   ]
  },
  {
   "cell_type": "code",
   "execution_count": 80,
   "metadata": {},
   "outputs": [],
   "source": [
    "def get_top_topics(document, model, min_score=0.8):\n",
    "    \"\"\" \n",
    "    Extracting top n topics for each document. \n",
    "    Selects the n most likely topics whose p(topic|document) sum to min_score.\n",
    "    \"\"\"\n",
    "    # inserting the document in the model\n",
    "    new_doc = model.make_doc(document)\n",
    "    _,_ = model.infer(new_doc)\n",
    "    # ordering from most probable topic to least one \n",
    "    dist = new_doc.get_topic_dist()\n",
    "    indices = np.flip(np.argsort(dist))\n",
    "    score = 0\n",
    "    indices_kept = []\n",
    "    probs_kept = []\n",
    "    for index in indices:\n",
    "        if score > min_score: break\n",
    "        score += dist[index]\n",
    "        indices_kept.append(index)\n",
    "        probs_kept.append(dist[index])\n",
    "    return list(zip(indices_kept, probs_kept))"
   ]
  },
  {
   "cell_type": "code",
   "execution_count": 81,
   "metadata": {},
   "outputs": [],
   "source": [
    "# extracting topics for the original collection\n",
    "coll2topics = []\n",
    "# this takes a super long time\n",
    "for model, batch in zip(models,batches):\n",
    "    coll2topics += [get_top_topics(doc, model) for doc in batch]"
   ]
  },
  {
   "cell_type": "code",
   "execution_count": 82,
   "metadata": {},
   "outputs": [
    {
     "data": {
      "text/plain": [
       "20494"
      ]
     },
     "execution_count": 82,
     "metadata": {},
     "output_type": "execute_result"
    }
   ],
   "source": [
    "len(coll2topics)"
   ]
  },
  {
   "cell_type": "code",
   "execution_count": 83,
   "metadata": {},
   "outputs": [],
   "source": [
    "def get_top_words(topic, model, min_score=0.8):\n",
    "    \"\"\"\n",
    "    Extracting top n words for each document. \n",
    "    Selects the n most likely words whose p(word|topic) sum to min_score.\n",
    "    \"\"\"\n",
    "    dist = model.get_topic_word_dist(topic)\n",
    "    indices = np.flip(np.argsort(dist))\n",
    "    score = 0\n",
    "    word_kept = []\n",
    "    word_prob_kept = []\n",
    "    for index in indices:\n",
    "        if score > min_score: break\n",
    "        score += dist[index]\n",
    "        word_kept.append(model.used_vocabs[index])\n",
    "        word_prob_kept.append(dist[index])\n",
    "    return list(zip(word_kept, word_prob_kept))"
   ]
  },
  {
   "cell_type": "code",
   "execution_count": 84,
   "metadata": {},
   "outputs": [],
   "source": [
    "topics2words = []\n",
    "topics2words_batched = [] # saving both topics and their batches \n",
    "for model in models: \n",
    "    # extracting only top 25% of the words\n",
    "    twt = [get_top_words(i, model, min_score=0.5) for i in range(num_topics_per_batch)]\n",
    "    topics2words += twt\n",
    "    topics2words_batched += [twt]"
   ]
  },
  {
   "cell_type": "code",
   "execution_count": 85,
   "metadata": {},
   "outputs": [
    {
     "data": {
      "text/plain": [
       "500"
      ]
     },
     "execution_count": 85,
     "metadata": {},
     "output_type": "execute_result"
    }
   ],
   "source": [
    "len(topics2words)"
   ]
  },
  {
   "cell_type": "code",
   "execution_count": 86,
   "metadata": {},
   "outputs": [
    {
     "data": {
      "text/plain": [
       "4"
      ]
     },
     "execution_count": 86,
     "metadata": {},
     "output_type": "execute_result"
    }
   ],
   "source": [
    "len(topics2words_batched)"
   ]
  },
  {
   "cell_type": "markdown",
   "metadata": {},
   "source": [
    "## 3. Embedding words in topics"
   ]
  },
  {
   "cell_type": "markdown",
   "metadata": {},
   "source": [
    "We will use Glove Embeddings to embed the words in the topics. "
   ]
  },
  {
   "cell_type": "code",
   "execution_count": 87,
   "metadata": {},
   "outputs": [],
   "source": [
    "import pickle \n",
    "import numpy as np \n",
    "import os \n",
    "import time\n",
    "import torch"
   ]
  },
  {
   "cell_type": "code",
   "execution_count": 89,
   "metadata": {},
   "outputs": [],
   "source": [
    "# Loading from binary the glove vocabulary and embedding \n",
    "glove_vocab_path = \"glove_vocab\"\n",
    "glove_embedding_path = \"glove_embedding\"\n",
    "with open(glove_vocab_path, \"rb\") as fp:  \n",
    "    glove_vocab = pickle.load(fp)\n",
    "with open(glove_embedding_path, \"rb\") as fp: \n",
    "    glove_embedding = pickle.load(fp)\n",
    "assert len(glove_vocab)==len(glove_embedding)"
   ]
  },
  {
   "cell_type": "code",
   "execution_count": 92,
   "metadata": {},
   "outputs": [],
   "source": [
    "def get_list_embeddings_topic(topic, vocab, embedding, silence=False):\n",
    "    \"\"\" Topic is represented as a list of tuples (word, word weight)\"\"\"\n",
    "    matched = 0 \n",
    "    total = 0\n",
    "    topic_embeddings = []\n",
    "    topic_weights = []\n",
    "    \n",
    "    start = time.time()\n",
    "    \n",
    "    for item in topic: \n",
    "        word, weight = item\n",
    "        total+=1\n",
    "        #check if the word appears in vocabulary \n",
    "        if word in vocab.values(): \n",
    "            matched+=1\n",
    "            emb = embedding[list(vocab.values()).index(word)]\n",
    "            topic_embeddings += [emb]\n",
    "            topic_weights += [weight]\n",
    "    \n",
    "    end = time.time()\n",
    "    if not silence: \n",
    "        print(\"Total time: \"+str(round(end-start,2))+\" s.\")\n",
    "        print(\"Proportion of matched words: \"+str(round(matched/total,2)))\n",
    "    return topic_embeddings, topic_weights"
   ]
  },
  {
   "cell_type": "code",
   "execution_count": 93,
   "metadata": {},
   "outputs": [
    {
     "name": "stdout",
     "output_type": "stream",
     "text": [
      "Total time: 0.96 s.\n",
      "Proportion of matched words: 0.91\n"
     ]
    }
   ],
   "source": [
    "topic_embeddings, topic_weights = get_list_embeddings_topic(topics2words[0], glove_vocab, glove_embedding)"
   ]
  },
  {
   "cell_type": "markdown",
   "metadata": {},
   "source": [
    "# Embedding nodes - baseline\n",
    "\n",
    "## 4. Embedding topics "
   ]
  },
  {
   "cell_type": "code",
   "execution_count": 94,
   "metadata": {},
   "outputs": [],
   "source": [
    "def get_convex_combination(weights, embeddings):\n",
    "    \"\"\" Obtain an embedding as convex combination of embedding vectors according \n",
    "    to the weights provided.\"\"\"\n",
    "    weight_vec = np.asarray(weights)\n",
    "    emb_vec = np.asarray(embeddings)\n",
    "    normalized_weights = weight_vec / np.sum(np.absolute(weight_vec))\n",
    "    return normalized_weights.transpose().dot(emb_vec)"
   ]
  },
  {
   "cell_type": "code",
   "execution_count": 95,
   "metadata": {},
   "outputs": [],
   "source": [
    "topic_emb = get_convex_combination(topic_weights, topic_embeddings)"
   ]
  },
  {
   "cell_type": "code",
   "execution_count": 96,
   "metadata": {},
   "outputs": [],
   "source": [
    "def get_convex_topics_embeddings(topics_collection, vocab, embedding):\n",
    "    \"\"\" Runs the above function over a whole collection of topics\"\"\"\n",
    "    topics_embs = []\n",
    "    for topic2word in topics_collection:\n",
    "        # extract the emebddings for the words in the topic \n",
    "        topic_embeddings, topic_weights = get_list_embeddings_topic(topic2word, vocab, embedding, silence=True)\n",
    "        # combine the embeddings with a convex sum \n",
    "        topic_emb = get_convex_combination(topic_weights, topic_embeddings)\n",
    "        topics_embs += [topic_emb]\n",
    "    return topics_embs"
   ]
  },
  {
   "cell_type": "code",
   "execution_count": 97,
   "metadata": {},
   "outputs": [],
   "source": [
    "# TODO: look at topic embeddings across batches and measure their similarity"
   ]
  },
  {
   "cell_type": "code",
   "execution_count": 98,
   "metadata": {},
   "outputs": [],
   "source": [
    "# these two also take a while\n",
    "topics_embs = get_convex_topics_embeddings(topics2words, glove_vocab, glove_embedding)"
   ]
  },
  {
   "cell_type": "code",
   "execution_count": 99,
   "metadata": {},
   "outputs": [],
   "source": [
    "topics_embs_batched = [get_convex_topics_embeddings(t2w, glove_vocab, glove_embedding) for t2w in topics2words_batched]"
   ]
  },
  {
   "cell_type": "markdown",
   "metadata": {},
   "source": [
    "Now let's have a look at the results!"
   ]
  },
  {
   "cell_type": "code",
   "execution_count": 100,
   "metadata": {},
   "outputs": [],
   "source": [
    "def nearest_neighbors(this, others):\n",
    "    \"\"\"Returns the most similar vectors among others to the given one \"\"\"\n",
    "    cos = torch.nn.CosineSimilarity(dim = -1)\n",
    "    ranks = cos(torch.tensor(this), torch.tensor(others))\n",
    "    mostSimilar = []\n",
    "    return ranks.numpy().argsort()[::-1] "
   ]
  },
  {
   "cell_type": "code",
   "execution_count": 101,
   "metadata": {},
   "outputs": [],
   "source": [
    "# let's look at the first topic \n",
    "nns_100 = nearest_neighbors(topics_embs[100], topics_embs)"
   ]
  },
  {
   "cell_type": "code",
   "execution_count": 102,
   "metadata": {},
   "outputs": [],
   "source": [
    "def visualise_most_similar_topics(topic_id, batch_id, topics_embs, topics2words,\n",
    "                                  topics_embs_batched, topics2words_batched, n=10):\n",
    "    \"\"\"Prints the words of the topic and its neareast neighbors.\"\"\"\n",
    "    nns = nearest_neighbors(topics_embs_batched[batch_id][topic_id], topics_embs)\n",
    "    print(\"-\"*10)\n",
    "    print(\"Topic \"+ str(topic_id))\n",
    "    print(\" \".join(item[0] for item in topics2words_batched[batch_id][topic_id]))\n",
    "    print(\"-\"*10)\n",
    "    print(str(n)+\" most similar topics\")\n",
    "    for i in range(n):\n",
    "        print(\"Topic \"+str(nns[i+1]))\n",
    "        print(\" \".join(item[0] for item in topics2words[nns[i+1]]))"
   ]
  },
  {
   "cell_type": "code",
   "execution_count": 103,
   "metadata": {},
   "outputs": [
    {
     "name": "stdout",
     "output_type": "stream",
     "text": [
      "----------\n",
      "Topic 35\n",
      "pm soils quartz fr pretreatment soil floodplain pre grid graphite confinement steam lean environment invertebrate transform hillslope anthropogenic ng river freshly ftir caco algal hydrological saplings hydrologic like solid activity tsc hrms termination studied decreased periods rewetting pg inventory plagioclase al areas gc airborne\n",
      "----------\n",
      "3 most similar topics\n",
      "Topic 89\n",
      "soil drought plant biomass organic microbial fluxes ecosystem nutrient co site extreme climatic increased si uptake grassland stable carsharing rates basin sediments highest year gamma responses term feeding balance seasonal ago terrestrial reduced\n",
      "Topic 426\n",
      "soil crisis plants soils restoration biomass communities growth grassland agriculture us wealth release norms mo species ph loss nutrient terrestrial shifting mild actors rossi role terrorism could diverse cultivar inoculation experiences third restriction linked engagement products differentiated\n",
      "Topic 277\n",
      "sediment sediments water sedimentary deep depth basin hypoxia incision mixing catchment vapour geological oxygen geochemical hydrothermal subtilis odd oma hif mediterranean fluxes cal desert landslides japan detrital composition airborne oxygenation sedimentation sidsi intermediate low hpai withdrawal volume events\n"
     ]
    }
   ],
   "source": [
    "visualise_most_similar_topics(35, 1, topics_embs, topics2words,topics_embs_batched, topics2words_batched, n=3)"
   ]
  },
  {
   "cell_type": "markdown",
   "metadata": {},
   "source": [
    "## 5. Documents embeddings"
   ]
  },
  {
   "cell_type": "code",
   "execution_count": 104,
   "metadata": {},
   "outputs": [],
   "source": [
    "abstracts_data = pd.read_csv(\"abstracts_eng.csv\")"
   ]
  },
  {
   "cell_type": "code",
   "execution_count": 105,
   "metadata": {},
   "outputs": [
    {
     "name": "stdout",
     "output_type": "stream",
     "text": [
      "Understanding the principles that govern the assembly of microbial communities across earth’s biomes is a major challenge in modern microbial ecology. This pursuit is complicated by the difficulties of mapping functional roles and interactions onto communities with immense taxonomic diversity and of identifying the scale at which microbes interact [1]. To address this challenge, here, we focused on the bacterial communities that colonize and degrade particulate organic matter in the ocean [2, 3,\n",
      "\n",
      "understanding principles govern assembly microbial communities across earth biomes major challenge modern microbial ecology pursuit complicated difficulties mapping functional roles interactions onto communities immense taxonomic diversity identifying scale microbes interact address challenge focused bacterial communities colonize degrade particulate organic matter ocean show assembly communities simplified linear combination functional modules using\n"
     ]
    }
   ],
   "source": [
    "# checking the ordering by visual inspection \n",
    "n = np.random.randint(len(collection))\n",
    "print(abstracts_data[\"abstract\"][n][0:500]) \n",
    "print(\"\")\n",
    "print(\" \".join(collection[n][0:50]))"
   ]
  },
  {
   "cell_type": "code",
   "execution_count": 106,
   "metadata": {},
   "outputs": [
    {
     "data": {
      "text/html": [
       "<div>\n",
       "<style scoped>\n",
       "    .dataframe tbody tr th:only-of-type {\n",
       "        vertical-align: middle;\n",
       "    }\n",
       "\n",
       "    .dataframe tbody tr th {\n",
       "        vertical-align: top;\n",
       "    }\n",
       "\n",
       "    .dataframe thead th {\n",
       "        text-align: right;\n",
       "    }\n",
       "</style>\n",
       "<table border=\"1\" class=\"dataframe\">\n",
       "  <thead>\n",
       "    <tr style=\"text-align: right;\">\n",
       "      <th></th>\n",
       "      <th>abstract</th>\n",
       "      <th>id</th>\n",
       "      <th>title</th>\n",
       "      <th>topics</th>\n",
       "      <th>batchID</th>\n",
       "    </tr>\n",
       "  </thead>\n",
       "  <tbody>\n",
       "    <tr>\n",
       "      <th>0</th>\n",
       "      <td>The goal of this note is to introduce new clas...</td>\n",
       "      <td>188444.0</td>\n",
       "      <td>Asymptotic versions for operators and operator...</td>\n",
       "      <td>[(60, 0.24186938), (51, 0.10589432), (79, 0.07...</td>\n",
       "      <td>0</td>\n",
       "    </tr>\n",
       "    <tr>\n",
       "      <th>1</th>\n",
       "      <td>We will review a Lemma published by Ran Raz in...</td>\n",
       "      <td>188623.0</td>\n",
       "      <td>Some remarks on a lemma of Ran Raz</td>\n",
       "      <td>[(5, 0.20627172), (40, 0.16780958), (29, 0.108...</td>\n",
       "      <td>0</td>\n",
       "    </tr>\n",
       "    <tr>\n",
       "      <th>2</th>\n",
       "      <td>China’s growing influence in Europe has the po...</td>\n",
       "      <td>346708.0</td>\n",
       "      <td>China as a Stress Test for Europe’s Coherence</td>\n",
       "      <td>[(0, 0.14767313), (14, 0.1092189), (25, 0.0920...</td>\n",
       "      <td>0</td>\n",
       "    </tr>\n",
       "    <tr>\n",
       "      <th>3</th>\n",
       "      <td>Nowhere is China's Belt and Road Initiative (B...</td>\n",
       "      <td>346709.0</td>\n",
       "      <td>On the Belt, on the Road: China’s Pivot to Eur...</td>\n",
       "      <td>[(57, 0.16084893), (0, 0.14146255), (16, 0.098...</td>\n",
       "      <td>0</td>\n",
       "    </tr>\n",
       "    <tr>\n",
       "      <th>4</th>\n",
       "      <td>Passenger transit modes typical of the urban s...</td>\n",
       "      <td>187461.0</td>\n",
       "      <td>Applications and Future Developments: Modellin...</td>\n",
       "      <td>[(14, 0.11849773), (16, 0.07719317), (2, 0.072...</td>\n",
       "      <td>0</td>\n",
       "    </tr>\n",
       "  </tbody>\n",
       "</table>\n",
       "</div>"
      ],
      "text/plain": [
       "                                            abstract        id  \\\n",
       "0  The goal of this note is to introduce new clas...  188444.0   \n",
       "1  We will review a Lemma published by Ran Raz in...  188623.0   \n",
       "2  China’s growing influence in Europe has the po...  346708.0   \n",
       "3  Nowhere is China's Belt and Road Initiative (B...  346709.0   \n",
       "4  Passenger transit modes typical of the urban s...  187461.0   \n",
       "\n",
       "                                               title  \\\n",
       "0  Asymptotic versions for operators and operator...   \n",
       "1                 Some remarks on a lemma of Ran Raz   \n",
       "2      China as a Stress Test for Europe’s Coherence   \n",
       "3  On the Belt, on the Road: China’s Pivot to Eur...   \n",
       "4  Applications and Future Developments: Modellin...   \n",
       "\n",
       "                                              topics  batchID  \n",
       "0  [(60, 0.24186938), (51, 0.10589432), (79, 0.07...        0  \n",
       "1  [(5, 0.20627172), (40, 0.16780958), (29, 0.108...        0  \n",
       "2  [(0, 0.14767313), (14, 0.1092189), (25, 0.0920...        0  \n",
       "3  [(57, 0.16084893), (0, 0.14146255), (16, 0.098...        0  \n",
       "4  [(14, 0.11849773), (16, 0.07719317), (2, 0.072...        0  "
      ]
     },
     "execution_count": 106,
     "metadata": {},
     "output_type": "execute_result"
    }
   ],
   "source": [
    "enriched = abstracts_data\n",
    "enriched[\"topics\"] = coll2topics\n",
    "enriched[\"batchID\"] = batch_indices\n",
    "#enriched=enriched.explode(\"topics\")\n",
    "enriched.head(5)"
   ]
  },
  {
   "cell_type": "code",
   "execution_count": 107,
   "metadata": {},
   "outputs": [],
   "source": [
    "docs2topics = enriched[[\"topics\",\"batchID\"]].values.tolist()"
   ]
  },
  {
   "cell_type": "code",
   "execution_count": 108,
   "metadata": {},
   "outputs": [],
   "source": [
    "def get_list_embeddings_document(doc, topics_embedding, silence=False):\n",
    "    \"\"\" Returns the list of topic embeddings and topic weights for the given document.\n",
    "    The document is represented as the tuple ([(topic_id, topic_weight)], batch_id)\"\"\"\n",
    "    doc_embeddings = []\n",
    "    doc_weights = []\n",
    "    \n",
    "    start = time.time()\n",
    "    \n",
    "    topics, batch_id = doc\n",
    "    \n",
    "    for topic in topics: \n",
    "        topic_id, weight = topic\n",
    "        emb = topics_embedding[batch_id][topic_id]\n",
    "        doc_embeddings += [emb]\n",
    "        doc_weights += [weight]\n",
    "    \n",
    "    end = time.time()\n",
    "    if not silence: \n",
    "        print(\"Total time: \"+str(round(end-start,2))+\" s.\")\n",
    "    return doc_embeddings, doc_weights"
   ]
  },
  {
   "cell_type": "code",
   "execution_count": 109,
   "metadata": {},
   "outputs": [
    {
     "name": "stdout",
     "output_type": "stream",
     "text": [
      "Total time: 0.0 s.\n"
     ]
    },
    {
     "data": {
      "text/plain": [
       "10"
      ]
     },
     "execution_count": 109,
     "metadata": {},
     "output_type": "execute_result"
    }
   ],
   "source": [
    "doc0_embs = get_list_embeddings_document(docs2topics[0], topics_embs_batched)\n",
    "len(doc0_embs[0])"
   ]
  },
  {
   "cell_type": "code",
   "execution_count": 110,
   "metadata": {},
   "outputs": [],
   "source": [
    "# finally documents embeddings \n",
    "def get_convex_docs_embeddings(documents_collection, topics_embedding):\n",
    "    \"\"\" Runs the above function over a whole collection of documents\"\"\"\n",
    "    docs_embs = []\n",
    "    for doc2topics in documents_collection:\n",
    "        # extract the emebddings for the words in the topic \n",
    "        doc_embeddings, doc_weights = get_list_embeddings_document(doc2topics, topics_embedding, silence=True)\n",
    "        # combine the embeddings with a convex sum \n",
    "        doc_emb = get_convex_combination(doc_embeddings, doc_weights)\n",
    "        docs_embs += [doc_emb]\n",
    "    return docs_embs"
   ]
  },
  {
   "cell_type": "code",
   "execution_count": 111,
   "metadata": {},
   "outputs": [],
   "source": [
    "documents_embeddings = get_convex_docs_embeddings(docs2topics, topics_embs_batched)"
   ]
  },
  {
   "cell_type": "code",
   "execution_count": 112,
   "metadata": {},
   "outputs": [],
   "source": [
    "def visualise_most_similar_docs(doc_id, docs_embeddings, docs_collection, n=10):\n",
    "    \"\"\"Prints the words of the topic and its neareast neighbors.\"\"\"\n",
    "    nns = nearest_neighbors(docs_embeddings[doc_id], docs_embeddings)\n",
    "    print(\"Document \"+ str(doc_id))\n",
    "    print((docs_collection[doc_id]).partition(\"||\")[0])\n",
    "    print(\"-\"*10)\n",
    "    print(str(n)+\" most similar documents in the collection\")\n",
    "    for i in range(n):\n",
    "        print(\"\")\n",
    "        print(\"Document \"+str(nns[i+1]))\n",
    "        print((docs_collection[nns[i+1]]).partition(\"||\")[0])"
   ]
  },
  {
   "cell_type": "code",
   "execution_count": 113,
   "metadata": {},
   "outputs": [
    {
     "name": "stdout",
     "output_type": "stream",
     "text": [
      "Document 32\n",
      "This chapter by Alex Bolfrass contrasts the responses of the Obama and Trump administrations to Syria’s use of chemical weapons. Both administrations pursued the same stated aim: to cause the Assad regime to refrain from using chemical munitions in fighting its civil war without the US becoming a combatant. Neither administration achieved this aim in full. Nonetheless, the combined effect of their approaches was a creditable reduction in the chemical munitions available to the Syrian government’s forces and a potentially lasting reduction of their use.\n",
      "----------\n",
      "3 most similar documents in the collection\n",
      "\n",
      "Document 31\n",
      "The relevance of nuclear weapons in world affairs is increasing, not decreasing. All nuclear powers modernize their arsenals. This may result in destabilizing effects on nuclear deterrence constellations. At the same time, the discrepancy between the importance of arms control as a necessary supplement to nuclear deterrence on the one hand and its actual, limited role in international affairs on the other hand is constantly growing. In order to avoid future nuclear wars and to create strategic stability, a renaissance of arms control is urgently needed.\n",
      "\n",
      "Document 105\n",
      "Strategic Trends 2019 offers a concise analysis of major developments in world affairs, with a focus on international security. In the first chapter, Jack Thompson considers the consequences of the Trump administration’s new approach to trade policy. In his view, the United States is powerful enough to extract trade concessions from all of its trading partners, and there may be some short-term advantages in following such a course of action. In the second chapter, Michael Haas examines the shift between the West and non-Western states in the field of defense technologies. He argues that Western policymakers should act on several fronts to slow the process, while also adapting to a world in which they no longer enjoy substantial military-technological superiority. In chapter three, Jeronim Perović considers the emergence of the Eurasian Economic Union (EAEU), a surprisingly robust multilateral organization of post-Soviet states, which is not a Russian puppet, and which cooperates in economic, political, and military matters. Finally, in chapter four, Lisa Watanabe looks as Russia’s re-emergence as a power broker in the Middle East and North Africa, with a focus on countries of particular interest to Europe when it comes to security issues, economic ties, and immigration.\n",
      "\n",
      "Document 86\n",
      "Does nuclear proliferation have stabilizing or destabilizing effects? This question is fascinating for scholars of the nuclear age and highly consequential for practical policy issues. For in order to debate the merits of particular policy choices—such as preventive military strikes against nuclear facilities, grand bargains with potential proliferators, or complete nuclear disarmament—we first need to understand how the spread of nuclear weapons impacts regional and global security. To enhance our understanding of this crucial issue, this chapter engages the empirical literature on the consequences of proliferation, focusing on how the pursuit and acquisition of nuclear weapons by additional states have influenced international stability. It also explores whether some states have been more affected than others, and what measures these states have taken to prevent proliferation or to mitigate its negative consequences.\n"
     ]
    }
   ],
   "source": [
    "visualise_most_similar_docs(32, documents_embeddings, abstracts_data[\"abstract\"], n=3)"
   ]
  },
  {
   "cell_type": "code",
   "execution_count": null,
   "metadata": {},
   "outputs": [],
   "source": []
  },
  {
   "cell_type": "markdown",
   "metadata": {},
   "source": [
    "## 6. Authors embeddings"
   ]
  },
  {
   "cell_type": "code",
   "execution_count": 127,
   "metadata": {},
   "outputs": [],
   "source": [
    "# loading the graph data \n",
    "graph_data = pd.read_csv(\"graph_data_final.csv\")"
   ]
  },
  {
   "cell_type": "code",
   "execution_count": 128,
   "metadata": {},
   "outputs": [
    {
     "data": {
      "text/html": [
       "<div>\n",
       "<style scoped>\n",
       "    .dataframe tbody tr th:only-of-type {\n",
       "        vertical-align: middle;\n",
       "    }\n",
       "\n",
       "    .dataframe tbody tr th {\n",
       "        vertical-align: top;\n",
       "    }\n",
       "\n",
       "    .dataframe thead th {\n",
       "        text-align: right;\n",
       "    }\n",
       "</style>\n",
       "<table border=\"1\" class=\"dataframe\">\n",
       "  <thead>\n",
       "    <tr style=\"text-align: right;\">\n",
       "      <th></th>\n",
       "      <th>index</th>\n",
       "      <th>title</th>\n",
       "      <th>id</th>\n",
       "      <th>author</th>\n",
       "      <th>publication_date</th>\n",
       "      <th>publication_type</th>\n",
       "      <th>abstract</th>\n",
       "      <th>language</th>\n",
       "      <th>journal</th>\n",
       "      <th>organisation_unit_code</th>\n",
       "      <th>organisation</th>\n",
       "      <th>department</th>\n",
       "    </tr>\n",
       "  </thead>\n",
       "  <tbody>\n",
       "    <tr>\n",
       "      <th>0</th>\n",
       "      <td>0</td>\n",
       "      <td>Asymptotic versions for operators and operator...</td>\n",
       "      <td>188444.0</td>\n",
       "      <td>Milman, Vitali</td>\n",
       "      <td>1999.0</td>\n",
       "      <td>Book Chapter</td>\n",
       "      <td>The goal of this note is to introduce new clas...</td>\n",
       "      <td>en</td>\n",
       "      <td>Mathematical Sciences Research Institute Publi...</td>\n",
       "      <td>NaN</td>\n",
       "      <td>NaN</td>\n",
       "      <td>NaN</td>\n",
       "    </tr>\n",
       "  </tbody>\n",
       "</table>\n",
       "</div>"
      ],
      "text/plain": [
       "   index                                              title        id  \\\n",
       "0      0  Asymptotic versions for operators and operator...  188444.0   \n",
       "\n",
       "           author  publication_date publication_type  \\\n",
       "0  Milman, Vitali            1999.0     Book Chapter   \n",
       "\n",
       "                                            abstract language  \\\n",
       "0  The goal of this note is to introduce new clas...       en   \n",
       "\n",
       "                                             journal  organisation_unit_code  \\\n",
       "0  Mathematical Sciences Research Institute Publi...                     NaN   \n",
       "\n",
       "  organisation department  \n",
       "0          NaN        NaN  "
      ]
     },
     "execution_count": 128,
     "metadata": {},
     "output_type": "execute_result"
    }
   ],
   "source": [
    "graph_data = pd.merge(abstracts_data.reset_index(level=0, inplace=False)[[\"index\",\"title\"]], #adding column index, dropping everything else\n",
    "                      graph_data, on=[\"title\"], how=\"inner\")\n",
    "graph_data.head(1)"
   ]
  },
  {
   "cell_type": "markdown",
   "metadata": {},
   "source": [
    "We will first use the metadata data to compute a scoring author-publication that we will then use to combine the publications embeddings "
   ]
  },
  {
   "cell_type": "code",
   "execution_count": 129,
   "metadata": {},
   "outputs": [
    {
     "data": {
      "text/html": [
       "<div>\n",
       "<style scoped>\n",
       "    .dataframe tbody tr th:only-of-type {\n",
       "        vertical-align: middle;\n",
       "    }\n",
       "\n",
       "    .dataframe tbody tr th {\n",
       "        vertical-align: top;\n",
       "    }\n",
       "\n",
       "    .dataframe thead th {\n",
       "        text-align: right;\n",
       "    }\n",
       "</style>\n",
       "<table border=\"1\" class=\"dataframe\">\n",
       "  <thead>\n",
       "    <tr style=\"text-align: right;\">\n",
       "      <th></th>\n",
       "      <th>index</th>\n",
       "      <th>counts</th>\n",
       "      <th>title</th>\n",
       "      <th>author</th>\n",
       "      <th>publication_date</th>\n",
       "      <th>publication_type</th>\n",
       "    </tr>\n",
       "  </thead>\n",
       "  <tbody>\n",
       "    <tr>\n",
       "      <th>0</th>\n",
       "      <td>14835</td>\n",
       "      <td>1</td>\n",
       "      <td>A Follow-Up of the Multicenter Collaborative S...</td>\n",
       "      <td>454 HIV-1 Alpha Study Group</td>\n",
       "      <td>2016.0</td>\n",
       "      <td>Journal Article</td>\n",
       "    </tr>\n",
       "    <tr>\n",
       "      <th>1</th>\n",
       "      <td>8399</td>\n",
       "      <td>1</td>\n",
       "      <td>Dysfunctional Autism Risk Genes Cause Circuit-...</td>\n",
       "      <td>A-Bhaskaran, Arjun</td>\n",
       "      <td>2018.0</td>\n",
       "      <td>Journal Article</td>\n",
       "    </tr>\n",
       "  </tbody>\n",
       "</table>\n",
       "</div>"
      ],
      "text/plain": [
       "   index  counts                                              title  \\\n",
       "0  14835       1  A Follow-Up of the Multicenter Collaborative S...   \n",
       "1   8399       1  Dysfunctional Autism Risk Genes Cause Circuit-...   \n",
       "\n",
       "                        author  publication_date publication_type  \n",
       "0  454 HIV-1 Alpha Study Group            2016.0  Journal Article  \n",
       "1           A-Bhaskaran, Arjun            2018.0  Journal Article  "
      ]
     },
     "execution_count": 129,
     "metadata": {},
     "output_type": "execute_result"
    }
   ],
   "source": [
    "counts_df = graph_data.groupby([\"author\"]).size().reset_index(name='counts')\n",
    "graph_data_prime = pd.merge(counts_df, graph_data, on=[\"author\"], how=\"inner\")\n",
    "graph_data_prime = graph_data_prime[[\"index\",\"counts\",\"title\",\"author\",\"publication_date\",\"publication_type\"]]\n",
    "graph_data_prime.head(2)"
   ]
  },
  {
   "cell_type": "code",
   "execution_count": 130,
   "metadata": {},
   "outputs": [
    {
     "data": {
      "text/html": [
       "<div>\n",
       "<style scoped>\n",
       "    .dataframe tbody tr th:only-of-type {\n",
       "        vertical-align: middle;\n",
       "    }\n",
       "\n",
       "    .dataframe tbody tr th {\n",
       "        vertical-align: top;\n",
       "    }\n",
       "\n",
       "    .dataframe thead th {\n",
       "        text-align: right;\n",
       "    }\n",
       "</style>\n",
       "<table border=\"1\" class=\"dataframe\">\n",
       "  <thead>\n",
       "    <tr style=\"text-align: right;\">\n",
       "      <th></th>\n",
       "      <th>index</th>\n",
       "      <th>counts</th>\n",
       "      <th>title</th>\n",
       "      <th>author</th>\n",
       "      <th>publication_date</th>\n",
       "      <th>publication_type</th>\n",
       "      <th>number_of_authors</th>\n",
       "    </tr>\n",
       "  </thead>\n",
       "  <tbody>\n",
       "    <tr>\n",
       "      <th>0</th>\n",
       "      <td>13030</td>\n",
       "      <td>33</td>\n",
       "      <td>\"Canopy Catalysts\" for Alkyne Metathesis: Moly...</td>\n",
       "      <td>Copéret, Christophe</td>\n",
       "      <td>2020.0</td>\n",
       "      <td>Journal Article</td>\n",
       "      <td>8</td>\n",
       "    </tr>\n",
       "    <tr>\n",
       "      <th>1</th>\n",
       "      <td>13030</td>\n",
       "      <td>1</td>\n",
       "      <td>\"Canopy Catalysts\" for Alkyne Metathesis: Moly...</td>\n",
       "      <td>Fürstner, Alois</td>\n",
       "      <td>2020.0</td>\n",
       "      <td>Journal Article</td>\n",
       "      <td>8</td>\n",
       "    </tr>\n",
       "  </tbody>\n",
       "</table>\n",
       "</div>"
      ],
      "text/plain": [
       "   index  counts                                              title  \\\n",
       "0  13030      33  \"Canopy Catalysts\" for Alkyne Metathesis: Moly...   \n",
       "1  13030       1  \"Canopy Catalysts\" for Alkyne Metathesis: Moly...   \n",
       "\n",
       "                author  publication_date publication_type  number_of_authors  \n",
       "0  Copéret, Christophe            2020.0  Journal Article                  8  \n",
       "1      Fürstner, Alois            2020.0  Journal Article                  8  "
      ]
     },
     "execution_count": 130,
     "metadata": {},
     "output_type": "execute_result"
    }
   ],
   "source": [
    "counts_df2 = graph_data_temp.groupby([\"title\"]).size().reset_index(name ='number_of_authors')\n",
    "graph_data_prime = pd.merge(counts_df2, graph_data_prime, on=[\"title\"], how=\"inner\")\n",
    "graph_data_prime = graph_data_prime[[\"index\",\"counts\",\"title\",\"author\",\"publication_date\",\"publication_type\",\"number_of_authors\"]]\n",
    "graph_data_prime.head(2)"
   ]
  },
  {
   "cell_type": "code",
   "execution_count": 134,
   "metadata": {},
   "outputs": [],
   "source": [
    "def alpha(x, t=20): \n",
    "    \"\"\" Hard thresholding function for number of publications\"\"\"\n",
    "    if x>t: return t\n",
    "    return x\n",
    "\n",
    "# totally arbitrary- can be changed\n",
    "publication_types_scores = {\n",
    "    \"Conference Paper\":10,\n",
    "    \"Journal Article\":9,\n",
    "    \"Book Chapter\":8,\n",
    "    \"Review Article\":7}"
   ]
  },
  {
   "cell_type": "code",
   "execution_count": 121,
   "metadata": {},
   "outputs": [],
   "source": [
    "def score_publication(date, pub_type, number_of_authors, gamma = 0.5):\n",
    "    \"\"\" Scoring function for author-publication pair\"\"\"\n",
    "    #todo/future-work: add \"is_professor\" qualifier to the scoring \n",
    "    date_weight = np.exp(date - (avg_date))\n",
    "    author_weight = (1/number_of_authors)**gamma\n",
    "    pub_type_weight = publication_types_scores.get(pub_type,1)\n",
    "    return pub_type_weight*date_weight*author_weight"
   ]
  },
  {
   "cell_type": "code",
   "execution_count": 131,
   "metadata": {},
   "outputs": [],
   "source": [
    "graph_data_prime[\"score\"] = graph_data_prime.apply(lambda row: score_publication(row[\"publication_date\"], row[\"publication_type\"], row[\"number_of_authors\"]), axis=1)"
   ]
  },
  {
   "cell_type": "code",
   "execution_count": 136,
   "metadata": {},
   "outputs": [
    {
     "data": {
      "text/plain": [
       "2016.0885307318053"
      ]
     },
     "execution_count": 136,
     "metadata": {},
     "output_type": "execute_result"
    }
   ],
   "source": [
    "max_date = max(graph_data_prime[\"publication_date\"])\n",
    "min_date = min(graph_data_prime[\"publication_date\"])\n",
    "avg_date = np.mean(graph_data_prime[\"publication_date\"])\n",
    "avg_date"
   ]
  },
  {
   "cell_type": "code",
   "execution_count": 138,
   "metadata": {},
   "outputs": [
    {
     "name": "stdout",
     "output_type": "stream",
     "text": [
      "(159123, 8)\n",
      "(159123, 8)\n"
     ]
    }
   ],
   "source": [
    "print(graph_data_prime.shape)\n",
    "graph_data_prime = graph_data_prime.drop_duplicates([\"title\",\"author\"])\n",
    "print(graph_data_prime.shape)"
   ]
  },
  {
   "cell_type": "code",
   "execution_count": 139,
   "metadata": {},
   "outputs": [
    {
     "data": {
      "text/html": [
       "<div>\n",
       "<style scoped>\n",
       "    .dataframe tbody tr th:only-of-type {\n",
       "        vertical-align: middle;\n",
       "    }\n",
       "\n",
       "    .dataframe tbody tr th {\n",
       "        vertical-align: top;\n",
       "    }\n",
       "\n",
       "    .dataframe thead th {\n",
       "        text-align: right;\n",
       "    }\n",
       "</style>\n",
       "<table border=\"1\" class=\"dataframe\">\n",
       "  <thead>\n",
       "    <tr style=\"text-align: right;\">\n",
       "      <th></th>\n",
       "      <th>index</th>\n",
       "      <th>counts</th>\n",
       "      <th>title</th>\n",
       "      <th>author</th>\n",
       "      <th>publication_date</th>\n",
       "      <th>publication_type</th>\n",
       "      <th>number_of_authors</th>\n",
       "      <th>score</th>\n",
       "    </tr>\n",
       "  </thead>\n",
       "  <tbody>\n",
       "    <tr>\n",
       "      <th>0</th>\n",
       "      <td>13030</td>\n",
       "      <td>33</td>\n",
       "      <td>\"Canopy Catalysts\" for Alkyne Metathesis: Moly...</td>\n",
       "      <td>Copéret, Christophe</td>\n",
       "      <td>2020.0</td>\n",
       "      <td>Journal Article</td>\n",
       "      <td>8</td>\n",
       "      <td>159.010951</td>\n",
       "    </tr>\n",
       "    <tr>\n",
       "      <th>1</th>\n",
       "      <td>13030</td>\n",
       "      <td>1</td>\n",
       "      <td>\"Canopy Catalysts\" for Alkyne Metathesis: Moly...</td>\n",
       "      <td>Fürstner, Alois</td>\n",
       "      <td>2020.0</td>\n",
       "      <td>Journal Article</td>\n",
       "      <td>8</td>\n",
       "      <td>159.010951</td>\n",
       "    </tr>\n",
       "  </tbody>\n",
       "</table>\n",
       "</div>"
      ],
      "text/plain": [
       "   index  counts                                              title  \\\n",
       "0  13030      33  \"Canopy Catalysts\" for Alkyne Metathesis: Moly...   \n",
       "1  13030       1  \"Canopy Catalysts\" for Alkyne Metathesis: Moly...   \n",
       "\n",
       "                author  publication_date publication_type  number_of_authors  \\\n",
       "0  Copéret, Christophe            2020.0  Journal Article                  8   \n",
       "1      Fürstner, Alois            2020.0  Journal Article                  8   \n",
       "\n",
       "        score  \n",
       "0  159.010951  \n",
       "1  159.010951  "
      ]
     },
     "execution_count": 139,
     "metadata": {},
     "output_type": "execute_result"
    }
   ],
   "source": [
    "graph_data_prime.head(2)"
   ]
  },
  {
   "cell_type": "code",
   "execution_count": 140,
   "metadata": {},
   "outputs": [],
   "source": [
    "graph_data_prime[\"pub\"]=list(zip(graph_data_prime[\"index\"], graph_data_prime[\"score\"]))\n",
    "graph_data_prime = graph_data_prime.groupby([\"author\"])[\"pub\"].apply(list).reset_index(name='pubs')"
   ]
  },
  {
   "cell_type": "code",
   "execution_count": 141,
   "metadata": {},
   "outputs": [],
   "source": [
    "authors2pubs = graph_data_prime.values.tolist()"
   ]
  },
  {
   "cell_type": "code",
   "execution_count": 142,
   "metadata": {},
   "outputs": [
    {
     "data": {
      "text/plain": [
       "2.3179891328098825"
      ]
     },
     "execution_count": 142,
     "metadata": {},
     "output_type": "execute_result"
    }
   ],
   "source": [
    "np.mean([len(l[1]) for l in authors2pubs]) # average number of publications per author"
   ]
  },
  {
   "cell_type": "code",
   "execution_count": 143,
   "metadata": {},
   "outputs": [],
   "source": [
    "# define a threshold function to only take t publications with highest score into account for author embedding\n",
    "def trim_by_threshold(embeddings, weights, t = 20):\n",
    "    if len(embeddings) <= t:\n",
    "        return embeddings, weights\n",
    "    else:\n",
    "        ordered_by_weight = sorted(zip(weights, embeddings), key=lambda pair: pair[0], reverse = True)\n",
    "        ordered_weights = [weight for weight,_ in ordered_by_weight]\n",
    "        ordered_embeddings = [embeddings for _,embeddings in ordered_by_weight]\n",
    "        return ordered_embeddings[:t], ordered_weights[:t]"
   ]
  },
  {
   "cell_type": "code",
   "execution_count": 144,
   "metadata": {},
   "outputs": [],
   "source": [
    "def get_list_embeddings_author(author, documents_embeddings, silence=False):\n",
    "    \"\"\" Returns the list of document embeddings and document weights for the given author.\n",
    "    The author is represented as the list [(pub, score)]\"\"\"\n",
    "    auth_embeddings = []\n",
    "    auth_weights = []\n",
    "    \n",
    "    start = time.time()\n",
    "    \n",
    "    \n",
    "    for item in author[1]: \n",
    "        pub_id, weight = item\n",
    "        emb = documents_embeddings[pub_id-1]\n",
    "        auth_embeddings += [emb]\n",
    "        auth_weights += [weight]\n",
    "    \n",
    "    end = time.time()\n",
    "    if not silence: \n",
    "        print(\"Total time: \"+str(round(end-start,2))+\" s.\")\n",
    "    return auth_embeddings, auth_weights"
   ]
  },
  {
   "cell_type": "code",
   "execution_count": 145,
   "metadata": {},
   "outputs": [],
   "source": [
    "# finally documents embeddings \n",
    "def get_convex_auth_embeddings(authors2pubs, documents_embeddings):\n",
    "    \"\"\" Runs the above function over a whole collection of documents\"\"\"\n",
    "    auths_embs = []\n",
    "    for author in authors2pubs:\n",
    "        # extract the emebddings for the words in the topic \n",
    "        auth_embeddings, auth_weights = get_list_embeddings_author(author, documents_embeddings, silence=True)\n",
    "        # combine the embeddings with a convex sum \n",
    "        # threshold to the most important publications\n",
    "        auth_embeddings_thres, auth_weights_thres = trim_by_threshold(auth_embeddings, auth_weights, t = 20)\n",
    "        auth_emb = get_convex_combination(auth_embeddings_thres, auth_weights_thres)\n",
    "        auths_embs += [auth_emb]\n",
    "    return auths_embs"
   ]
  },
  {
   "cell_type": "code",
   "execution_count": 146,
   "metadata": {},
   "outputs": [],
   "source": [
    "authors_embeddings = get_convex_auth_embeddings(authors2pubs, documents_embeddings)"
   ]
  },
  {
   "cell_type": "code",
   "execution_count": 170,
   "metadata": {},
   "outputs": [],
   "source": [
    "def visualise_most_similar_authors(author_id, authors_embeddings, authors2pubs,  n=10):\n",
    "    \"\"\"Prints the names of the input author and its neareast neighbors.\"\"\"\n",
    "    nns = nearest_neighbors(authors_embeddings[author_id], authors_embeddings)[6:]\n",
    "    print(\"Author \"+ str(author_id))\n",
    "    author = authors2pubs[author_id]\n",
    "    print(\"Name : \"+author[0])\n",
    "    print(\"Some publications:  \\n- \"+\"\\n- \".join([abstracts_data.iloc[item[0]][\"title\"] for item in author[1]]))\n",
    "    print(\"-\"*10)\n",
    "    print(str(n)+\" most similar authors in the collection\")\n",
    "    for i in range(n):\n",
    "        print(\"\")\n",
    "        print(\"Author \"+str(nns[i+1]))\n",
    "        author = authors2pubs[nns[i+1]]\n",
    "        print(\"Name : \"+author[0])\n",
    "        print(\"Some publications:   \\n- \"+\"\\n - \".join([abstracts_data.iloc[item[0]][\"title\"] for item in author[1][0:5]]))"
   ]
  },
  {
   "cell_type": "code",
   "execution_count": 171,
   "metadata": {},
   "outputs": [
    {
     "data": {
      "text/plain": [
       "19795"
      ]
     },
     "execution_count": 171,
     "metadata": {},
     "output_type": "execute_result"
    }
   ],
   "source": [
    "authors2pubs_dict = {name:pubs for name,pubs in authors2pubs}\n",
    "list(authors2pubs_dict.keys()).index(\"Ghaffari, Mohsen\")"
   ]
  },
  {
   "cell_type": "code",
   "execution_count": 172,
   "metadata": {},
   "outputs": [
    {
     "name": "stdout",
     "output_type": "stream",
     "text": [
      "Author 19795\n",
      "Name : Ghaffari, Mohsen\n",
      "Some publications:  \n",
      "- A Massively Parallel Algorithm for Minimum Weight Vertex Cover\n",
      "- A simple parallel and distributed sampling technique: Local glauber dynamics\n",
      "- A tight analysis of the parallel undecided-state dynamics with two colors\n",
      "- Derandomizing distributed algorithms with small messages: Spanners and dominating set\n",
      "- Distributed Algorithms for Low Stretch Spanning Trees\n",
      "- Distributed MST and broadcast with fewer messages, and faster gossiping\n",
      "- Distributed set cover approximation: Primal-dual with optimal locality\n",
      "- Faster Algorithms for Edge Connectivity via Random 2-Out Contractions\n",
      "- Improved distributed degree splitting and edge coloring\n",
      "- Leader Election in Unreliable Radio Networks\n",
      "- Massively Parallel Algorithms for Minimum Cut\n",
      "- Near-Optimal Distributed DFS in Planar Graphs\n",
      "- New distributed algorithms in almost mixing time via transformations from parallel algorithms\n",
      "- Polylogarithmic-time deterministic network decomposition and distributed derandomization\n",
      "- Simple and Near-Optimal Distributed Coloring for Sparse Graphs\n",
      "- Simplified and Space-Optimal Semi-Streaming (2+epsilon)-Approximate Matching\n",
      "- Sublogarithmic distributed algorithms for lovász local lemma, and the complexity hierarchy\n",
      "----------\n",
      "50 most similar authors in the collection\n",
      "\n",
      "Author 57378\n",
      "Name : Stoop, Norbert\n",
      "Some publications:   \n",
      "- Fluid membrane vesicles in confinement\n",
      " - Simulating thin sheets: Buckling, wrinkling, folding and growth\n",
      " - Subdivision shell elements with anisotropic growth\n",
      "\n",
      "Author 33940\n",
      "Name : Leucci, Stefano\n",
      "Some publications:   \n",
      "- An improved algorithm for computing all the best swap edges of a tree spanner\n",
      " - Effcient oracles and routing schemes for replacement paths\n",
      " - On the PSPACE-completeness of Peg Duotaire and other Peg-Jumping Games\n",
      " - On the complexity of two dots for narrow boards and few colors\n",
      " - Optimal Sorting with Persistent Comparison Errors\n",
      "\n",
      "Author 8224\n",
      "Name : Böckenhauer, Hans-Joachim\n",
      "Some publications:   \n",
      "- Constructing Randomized Online Algorithms from Algorithms with Advice\n",
      " - On the Power of Advice and Randomization for the Disjoint Path Allocation Problem\n",
      " - On the advice complexity of the knapsack problem\n",
      " - Online algorithms with advice\n",
      " - Reoptimization of the Shortest Common Superstring Problem\n",
      "\n",
      "Author 34846\n",
      "Name : Liu, Chih-Hung\n",
      "Some publications:   \n",
      "- A nearly optimal algorithm for the geodesic voronoi diagram of points in a simple polygon\n",
      " - Nearly optimal planar k nearest neighbors queries under general distance functions\n",
      " - Optimal Sorting with Persistent Comparison Errors\n",
      " - Optimal dislocation with persistent errors in subquadratic time\n",
      "\n",
      "Author 41090\n",
      "Name : Mustafa, Harun\n",
      "Some publications:   \n",
      "- Communication-Efficient Jaccard similarity for High-Performance Distributed Genome Comparisons\n",
      " - Dynamic compression schemes for graph coloring\n",
      " - Efficient graph-color compression with neighborhood-informed Bloom filters\n",
      " - Global Genetic Cartography of Urban Metagenomes and Anti-Microbial Resistance\n",
      " - Metannot: A succinct data structure for compression of colors in dynamic de Bruijn graphs\n",
      "\n",
      "Author 64263\n",
      "Name : Wermelinger, Martin\n",
      "Some publications:   \n",
      "- Autonomous Mission with a Mobile Manipulator - A Solution to the MBZIRC\n",
      " - Contact-Implicit Trajectory Optimization for Dynamic Object Manipulation\n",
      " - Greedy Stone Tower Creations with a Robotic Arm\n",
      "\n",
      "Author 68267\n",
      "Name : van Strien, Maarten J.\n",
      "Some publications:   \n",
      "- An improved neutral landscape model for recreating real landscapes and generating landscape series for spatial ecological simulations\n",
      " - Combining urban scaling and polycentricity to explain socio-economic status of urban regions\n",
      " - Integrating ecosystem services into spatial planning—A spatial decision support tool\n",
      " - Resilience in social-ecological systems: identifying stable and unstable equilibria with agent-based models\n",
      " - Where do we recreate? Comparison of different methods to determine importance of site characteristics for outdoor recreation\n",
      "\n",
      "Author 62081\n",
      "Name : Vetter, Roman\n",
      "Some publications:   \n",
      "- Aboave-Weaire’s law in epithelia results from an angle constraint in contiguous polygonal lattices\n",
      " - Emergence of active nematics in chaining bacterial biofilms\n",
      " - Simulating thin sheets: Buckling, wrinkling, folding and growth\n",
      " - Subdivision shell elements with anisotropic growth\n",
      "\n",
      "Author 45191\n",
      "Name : Penna, Paolo\n",
      "Some publications:   \n",
      "- Energy-Efficient Delivery by Heterogeneous Mobile Agents\n",
      " - Equilibria of games in networks for local tasks\n",
      " - Local Distributed Algorithms for Selfish Agents\n",
      " - Obviously Strategyproof Mechanisms for Machine Scheduling\n",
      " - Online scheduling of jobs with favorite machines\n",
      "\n",
      "Author 65147\n",
      "Name : Wittel, Falk\n",
      "Some publications:   \n",
      "- Computational analysis of hygromorphic self-shaping wood gridshell structures\n",
      " - Subdivision shell elements with anisotropic growth\n",
      "\n",
      "Author 50747\n",
      "Name : Rätsch, Gunnar\n",
      "Some publications:   \n",
      "- A Bayesian Nonparametric Approach to Discover Clinico-Genetic Associations across Cancer Types\n",
      " - A pan cancer analysis of promoter activity highlights the regulatory role of alternative transcription start sites and their association with noncoding mutations\n",
      " - Accurate detection of differential RNA processing\n",
      " - BRCA Challenge: BRCA Exchange as a global resource for variants in BRCA1 and BRCA2\n",
      " - Building an international consortium for tracking coronavirus health status\n",
      "\n",
      "Author 3270\n",
      "Name : Barhum, Kfir\n",
      "Some publications:   \n",
      "- On the Power of Advice and Randomization for the Disjoint Path Allocation Problem\n",
      " - Tight Bounds for the Advice Complexity of the Online Minimum Steiner Tree Problem\n",
      "\n",
      "Author 54120\n",
      "Name : Seliger, Florian\n",
      "Some publications:   \n",
      "- Geocoding of worldwide patent data\n",
      " - Imitation versus innovation\n",
      " - Knowledge Spillovers and their Impact on Innovation Success - A New Approach Using Patent Backward Citations\n",
      " - Knowledge Spillovers, Competition and Innovation Success\n",
      " - Sources of knowledge flow between developed and developing nations\n",
      "\n",
      "Author 55225\n",
      "Name : Simon, Rüdiger\n",
      "Some publications:   \n",
      "- A Dynamic Model for Stem Cell Homeostasis and Patterning in Arabidopsis Meristems\n",
      "\n",
      "Author 55542\n",
      "Name : Sleiman, Jean-Pierre\n",
      "Some publications:   \n",
      "- Contact-Implicit Trajectory Optimization for Dynamic Object Manipulation\n",
      "\n",
      "Author 55755\n",
      "Name : Smula, Jasmin\n",
      "Some publications:   \n",
      "- Monitoring Churn in Wireless Networks\n",
      " - On the Power of Advice and Randomization for the Disjoint Path Allocation Problem\n",
      " - The String Guessing Problem as a Method to Prove Lower Bounds on the Advice Complexity\n",
      "\n",
      "Author 27895\n",
      "Name : Joudaki, Amir\n",
      "Some publications:   \n",
      "- Sparse Binary Relation Representations for Genome Graph Annotation\n",
      "\n",
      "Author 56823\n",
      "Name : Steffen, Björn\n",
      "Some publications:   \n",
      "- On the Power of Advice and Randomization for the Disjoint Path Allocation Problem\n",
      " - The Steiner tree reoptimization problem with sharpened triangle inequality\n",
      " - The uniform minimum-ones 2SAT problem and its application to haplotype classification\n",
      "\n",
      "Author 24266\n",
      "Name : Herrmann, Hans J.\n",
      "Some publications:   \n",
      "- A comparison of hydrological and topological watersheds\n",
      " - A modeling approach to study the effect of cell polarization on keratinocyte migration\n",
      " - A single touch can provide sufficient mechanical stimulation to trigger Venus flytrap closure\n",
      " - A universal approach for drainage basins\n",
      " - Breathing synchronization in interconnected networks\n",
      "\n",
      "Author 27247\n",
      "Name : Javadzadeh No, Sara\n",
      "Some publications:   \n",
      "- Sparse Binary Relation Representations for Genome Graph Annotation\n",
      "\n",
      "Author 26087\n",
      "Name : Hutter, Marco\n",
      "Some publications:   \n",
      "- A Fully-Integrated Sensing and Control System for High-Accuracy Mobile Robotic Building Construction\n",
      " - ALMA - Articulated Locomotion and Manipulation for a Torque-Controllable Robot\n",
      " - ANYexo: A Versatile and Dynamic Upper-Limb Rehabilitation Robot\n",
      " - Adaptive pulsed laser line extraction for terrain reconstruction using a dynamic vision sensor\n",
      " - Autonomous Mission with a Mobile Manipulator - A Solution to the MBZIRC\n",
      "\n",
      "Author 25537\n",
      "Name : Hromkovič, Juraj\n",
      "Some publications:   \n",
      "- Ambiguity and Communication\n",
      " - On the Power of Advice and Randomization for the Disjoint Path Allocation Problem\n",
      " - The Steiner tree reoptimization problem with sharpened triangle inequality\n",
      " - The String Guessing Problem as a Method to Prove Lower Bounds on the Advice Complexity\n",
      "\n",
      "Author 67628\n",
      "Name : Zitzler, Eckart\n",
      "Some publications:   \n",
      "- A Dynamic Model for Stem Cell Homeostasis and Patterning in Arabidopsis Meristems\n",
      " - Comparison of Biclustering Methods\n",
      " - Evolutionary algorithms for the selection of single nucleotide polymorphisms\n",
      " - HypE\n",
      " - Offline and Online Objective Reduction in Evolutionary Multiobjective Optimization Based on Objective Conflicts\n",
      "\n",
      "Author 25037\n",
      "Name : Hohm, Tim\n",
      "Some publications:   \n",
      "- A Dynamic Model for Stem Cell Homeostasis and Patterning in Arabidopsis Meristems\n",
      " - A new model for deployment coverage and connectivity of Wireless Sensor Networks\n",
      " - Evolutionary pareto-optimization of stably folding peptides\n",
      " - Investigating Coverage and Connectivity Trade-offs in Wireless Sensor Networks\n",
      "\n",
      "Author 21057\n",
      "Name : Grandia, Ruben\n",
      "Some publications:   \n",
      "- Contact Invariant Model Learning for Legged Robot Locomotion\n",
      " - Contact-Implicit Trajectory Optimization for Dynamic Object Manipulation\n",
      " - Locomotion Planning through a Hybrid Bayesian Trajectory Optimization\n",
      " - Tactile Inspection of Concrete Deterioration in Sewers with Legged Robots\n",
      " - Towards autonomous inspection of concrete deterioration in sewers with legged robots\n",
      "\n",
      "Author 17533\n",
      "Name : Forišek, Michael\n",
      "Some publications:   \n",
      "- On the Power of Advice and Randomization for the Disjoint Path Allocation Problem\n",
      "\n",
      "Author 21644\n",
      "Name : Grêt-Regamey, Adrienne\n",
      "Some publications:   \n",
      "- 3-D reconstruction of an urban landscape to assess the influence of vegetation in the radiative budget\n",
      " - 3D Point Clouds and Eye Tracking for Investigating the Perception and Acceptance of Power Lines in Different Landscapes\n",
      " - A backcasting approach for matching regional ecosystem services supply and demand\n",
      " - A conceptual framework to untangle the concept of urban ecosystem services\n",
      " - A tiered approach for mapping ecosystem services\n",
      "\n",
      "Author 19369\n",
      "Name : Gebauer, Heidi\n",
      "Some publications:   \n",
      "- On the Power of Advice and Randomization for the Disjoint Path Allocation Problem\n",
      "\n",
      "Author 19477\n",
      "Name : Geissmann, Barbara\n",
      "Some publications:   \n",
      "- Optimal Sorting with Persistent Comparison Errors\n",
      " - Optimal dislocation with persistent errors in subquadratic time\n",
      " - Routing in stochastic public transit networks\n",
      " - Sort well with energy-constrained comparisons\n",
      "\n",
      "Author 19795\n",
      "Name : Ghaffari, Mohsen\n",
      "Some publications:   \n",
      "- A Massively Parallel Algorithm for Minimum Weight Vertex Cover\n",
      " - A simple parallel and distributed sampling technique: Local glauber dynamics\n",
      " - A tight analysis of the parallel undecided-state dynamics with two colors\n",
      " - Derandomizing distributed algorithms with small messages: Spanners and dominating set\n",
      " - Distributed Algorithms for Low Stretch Spanning Trees\n",
      "\n",
      "Author 2432\n",
      "Name : Avarikioti, Georgia\n",
      "Some publications:   \n",
      "- Algorithmic Channel Design\n",
      " - Bitcoin Security Under Temporary Dishonest Majority\n",
      "\n",
      "Author 31697\n",
      "Name : Kuhn, Fabian\n",
      "Some publications:   \n",
      "- Constant-Time Distributed Dominating Set Approximation\n",
      " - Derandomizing distributed algorithms with small messages: Spanners and dominating set\n",
      " - Distributed MST and broadcast with fewer messages, and faster gossiping\n",
      " - Dynamic Analysis of the Arrow Distributed Protocol\n",
      " - Improved distributed degree splitting and edge coloring\n",
      "\n",
      "Author 39369\n",
      "Name : Mihalopoulos, Nikolaos\n",
      "Some publications:   \n",
      "- A synthesis of cloud condensation nuclei counter (CCNC) measurements within the EUCAARI network\n",
      " - Abundance and sources of atmospheric halocarbons in the Eastern Mediterranean\n",
      " - Collocated observations of cloud condensation nuclei, particle size distributions, and chemical composition\n",
      " - Processing of biomass-burning aerosol in the eastern Mediterranean during summertime\n",
      "\n",
      "Author 43078\n",
      "Name : O'Doherty, Simon\n",
      "Some publications:   \n",
      "- Abundance and sources of atmospheric halocarbons in the Eastern Mediterranean\n",
      " - Global and regional emission estimates for HCFC-22\n",
      " - Historical greenhouse gas concentrations for climate modelling (CMIP6)\n",
      " - Robust extraction of baseline signal of atmospheric trace species using local regression\n",
      " - The recent increase of atmospheric methane from 10 years of ground-based NDACC FTIR observations since 2005\n",
      "\n",
      "Author 56767\n",
      "Name : Stavrou, Marina\n",
      "Some publications:   \n",
      "- Computer-aided Molecular Design of ORC Working Fluids using PC-SAFT\n",
      " - Computer-aided molecular design in the continuous-molecular targeting framework using group-contribution PC-SAFT\n",
      " - Continuous Molecular Targeting : Computer Aided Molecular Design (CoMT-CAMD) for Simultaneous Process and Solvent Design for CO2 Capture\n",
      " - Estimation of the binary interaction parameter kij of the PC-SAFT Equation of State based on pure component parameters using a QSPR method\n",
      " - Holistic design of Organic Rankine Cycles (ORCs): Working Fluid and Process from one Optimization Problem\n",
      "\n",
      "Author 11985\n",
      "Name : D'Ariano, Andrea\n",
      "Some publications:   \n",
      "- An iterative optimization framework for delay management and train scheduling\n",
      " - Assessment of advanced dispatching measures for recovering disrupted railway traffic situations\n",
      " - Centralized versus distributed systems to reschedule trains in two dispatching areas\n",
      " - Comparing the effectiveness of two real-time train rescheduling systems in case of perturbed traffic conditions\n",
      " - Coordination of scheduling decisions in the management of airport airspace and taxiway operations\n",
      "\n",
      "Author 42892\n",
      "Name : Nowicki, Krzysztof\n",
      "Some publications:   \n",
      "- Faster Algorithms for Edge Connectivity via Random 2-Out Contractions\n",
      " - Massively Parallel Algorithms for Minimum Cut\n",
      "\n",
      "Author 63653\n",
      "Name : Wattenhofer, Roger\n",
      "Some publications:   \n",
      "- A General Stabilization Bound for Influence Propagation in Graphs\n",
      " - A Minting Mold for the eFranc: A Policy Paper\n",
      " - A Spoof-Proof GPS Receiver\n",
      " - A Tight Lower Bound for Semi-Synchronous Collaborative Grid Exploration\n",
      " - A Tight Lower Bound for the Capture Time of the Cops and Robbers Game\n",
      "\n",
      "Author 17888\n",
      "Name : Fratzl, Peter\n",
      "Some publications:   \n",
      "- Honeycomb actuators inspired by the unfolding of ice plant seed capsules\n",
      " - Measuring the distribution of cellulose microfibril angles in primary cell walls by small angle X-ray scattering\n",
      " - Tensile forces drive a reversible fibroblast-to-myofibroblast transition during tissue growth in engineered clefts\n",
      " - The small world of osteocytes: connectomics of the lacuno-canalicular network in bone\n",
      " - Wood and the Activity of Dead Tissue\n",
      "\n",
      "Author 6968\n",
      "Name : Breitenstein, Manuel\n",
      "Some publications:   \n",
      "- Scalability Analysis of Legged Robots for Space Exploration\n",
      "\n",
      "Author 10035\n",
      "Name : Chen, Yiru\n",
      "Some publications:   \n",
      "- MLog: Towards declarative in-database machine learning\n",
      "\n",
      "Author 34271\n",
      "Name : Li, Xupeng\n",
      "Some publications:   \n",
      "- MLog: Towards declarative in-database machine learning\n",
      "\n",
      "Author 51361\n",
      "Name : Samà, Marcella\n",
      "Some publications:   \n",
      "- Coordination of scheduling decisions in the management of airport airspace and taxiway operations\n",
      " - Optimal scheduling and routing of free-range AGVs at large scale automated container terminals\n",
      "\n",
      "Author 30946\n",
      "Name : Kouvarakis, Giorgos\n",
      "Some publications:   \n",
      "- Abundance and sources of atmospheric halocarbons in the Eastern Mediterranean\n",
      " - Processing of biomass-burning aerosol in the eastern Mediterranean during summertime\n",
      "\n",
      "Author 37338\n",
      "Name : Marti, Christian M.\n",
      "Some publications:   \n",
      "- Measuring public transport and built environment integration at the neighborhood scale\n",
      " - Transit orientation\n",
      "\n",
      "Author 4789\n",
      "Name : Bertolini, Luca\n",
      "Some publications:   \n",
      "- Measuring public transport and built environment integration at the neighborhood scale\n",
      " - Transit orientation\n",
      "\n",
      "Author 19189\n",
      "Name : Gartner, Georg\n",
      "Some publications:   \n",
      "- Extraction and Visual Analysis of Negative Traffic Events from Weibo Data\n",
      " - Identifying User Tasks in Map Based-Pedestrian Navigation from Eye Tracking Data\n",
      " - Integrating Existing Indoor Navigational Aids into Data Modelling and Route Planning\n",
      " - The Future of Geographic Information Displays from GIScience, Cartographic, and Cognitive Science Perspectives\n",
      "\n",
      "Author 36493\n",
      "Name : Maione, Michela\n",
      "Some publications:   \n",
      "- Abundance and sources of atmospheric halocarbons in the Eastern Mediterranean\n",
      " - Atmospheric Brown Clouds in the Himalayas: first two years of continuous observations at the Nepal Climate Observatory-Pyramid (5079 m)\n",
      " - Global and regional emission estimates for HCFC-22\n",
      "\n",
      "Author 24564\n",
      "Name : Hill, Matthias\n",
      "Some publications:   \n",
      "- Abundance and sources of atmospheric halocarbons in the Eastern Mediterranean\n",
      "\n",
      "Author 53066\n",
      "Name : Schoenenberger, Fabian\n",
      "Some publications:   \n",
      "- Abundance and sources of atmospheric halocarbons in the Eastern Mediterranean\n"
     ]
    }
   ],
   "source": [
    "visualise_most_similar_authors(19795, authors_embeddings, authors2pubs, n=50)"
   ]
  },
  {
   "cell_type": "code",
   "execution_count": 150,
   "metadata": {},
   "outputs": [],
   "source": [
    "def visualise_most_similar_topics_author(author_id, authors_embeddings, \n",
    "                                         topics_embeddings, authors2pubs,topics2words, n=10):\n",
    "    \"\"\"Prints the topics that are closest to the given author in the vector space\"\"\"\n",
    "    nns = nearest_neighbors(authors_embeddings[author_id], topics_embeddings)\n",
    "    print(\"Author \"+ str(author_id))\n",
    "    author = authors2pubs[author_id]\n",
    "    print(\"Name : \"+author[0])\n",
    "    #print(\"Some publications:  \\n- \"+\"\\n- \".join([abstracts_data.iloc[item[0]][\"title\"] for item in author[1]]))\n",
    "    print(\"-\"*10)\n",
    "    print(str(n)+\" most similar topics\")\n",
    "    for i in range(n):\n",
    "        print(\"\")\n",
    "        print(\"Topic \"+str(nns[i+1]))\n",
    "        print(\" \".join(item[0] for item in topics2words[nns[i+1]]))"
   ]
  },
  {
   "cell_type": "code",
   "execution_count": 151,
   "metadata": {
    "scrolled": true
   },
   "outputs": [
    {
     "name": "stdout",
     "output_type": "stream",
     "text": [
      "Author 19795\n",
      "Name : Ghaffari, Mohsen\n",
      "----------\n",
      "10 most similar topics\n",
      "\n",
      "Topic 247\n",
      "landscape graph transport number snp load processes calibration optimization parameters graphs massive travel landscapes sets usage tests demand paper combination samples work linkage stage pools background fact tensor explicit one introduce amf finding floods allele constraints source generation cad method accounts sequenced route increasing depth fleet ii approaches free loads algebra ancient physical estimates complete parameter three linear uncertainties extensively average terms numbers confirm distant often explore signatures identifying affine changing shown foot optimized protocols increasingly gradually world showing ds guide dimensional family greater published match full surgical vertical simulate drift second edges beyond quantified\n",
      "\n",
      "Topic 5\n",
      "number equations space method non al step domain nodes free local efficiently coefficients theory upper node points hand value introduced online series static carried concrete geometry given input difference accuracy algorithm condition round complex obtained solve improve structure show numbers one function matching output arbitrary amount planar bounds class properties chosen shows hospital article form powerful deterministic complete coupling version glass requires several right approximation propose consider efficient modelling well follows landscape larger scanning position combining inside topological since concepts formwork benchmark map additional first cut focus finally\n",
      "\n",
      "Topic 265\n",
      "space solution cost shell problems finite full element distance signal design per equations drivers dynamics interface called shape cardiac parameters hardware technologies metric free choice unprecedented chain points show typically kg trees difference impact timing recovery force bridge spherical dates less amount procedure interactions trap line digital become representative developed part boundary road short carlo accounting architectures core adaptive widely representing scales unique range quantification gives head performance since minimum driver models properties flooding examine macroscopic\n",
      "\n",
      "Topic 359\n",
      "system new methods information systems method algorithm linear computational algorithms learning single dynamic small enables allows features used approach datasets quality behavior accuracy many frequency work input target nonlinear noise applications available scheme domain mapping power statistical analysis terms architecture precision approximation robust scale including one paper fully diverse existing hierarchical principle present biological illustrate models type entropy circuits concept making distributed lead varying tools parametric enabling provides known generation self biology maps use sequence original several large offer elements theories broad communication opportunities control robustness relaxation yet non comprehensive efficiently literature capacity computation powerful apply field pure via leads\n",
      "\n",
      "Topic 285\n",
      "models map time cooperation parameter framework stochastic random design conservation landscape set variables modeling series given measure developed general point rate estimates multiple optimal moreover flows minimal describe theory finally presents identify action critical approach basis available alternative dual formulation nature second capture ads three considering implementation discrete networks base well examples analysis sector home probability basic order dynamics school class ng compare includes history generated review spaces environments dataset automatic quantify tools socio representations graph useful network taking determined recording transportation vr algorithm smooth process knowledge proposes estimate evolutionary address\n",
      "\n",
      "Topic 113\n",
      "framework agent estimation approach mobility decisions estimated multi information scale supply series synthesis solutions variables proposed objective required variability mapping process decision estimate duration real regression alternative algorithm behavior changes mathematical scenario dimensional developed allow typically scheme types rate procedure switzerland approaches modeled methods scenarios computational single used automated able three vector making considered variable forward collected shown influence vehicles system designed derive solution systematic current among weights presents interest shapes need done coupled aggregated applications make application maps regional use formulated varying achieve change\n",
      "\n",
      "Topic 421\n",
      "efficiency theoretical power information series perform general framework reliable point tools properties alternative class losses applied discuss analysis four appropriate real analytical nonlinear first gives existing following allow minimum scheme database examples update field show yet way least simple europe perspective scaling dependent generate quantitative coefficient select evaluation ensembles due efficient studies management flows investigate use atomic extensive silicon need strategies area lack linear optical present far method detect negative system manner nmda dielectric soa received quantity second persistent ex year non signal matrix introduces systematic reserves action true number provide tables shows passenger fields meta frequency\n",
      "\n",
      "Topic 226\n",
      "pp charged reported limb topology reconstruction dimension peak correlations particle functions containing single coefficients stringent studied system reference signal volume stochastic spectrum order difference values width measurement approximately smartphone presented spontaneous operators time ground state minimal assumptions ab transition optimal soft parameter directions deviation relative integrated volumes respectively techniques moving electromagnetic cross generation possible bounds set sequential whereby local extensions medium target depending including discrete approximation examples product range coverage increases dependence points kinematic\n",
      "\n",
      "Topic 350\n",
      "th scaling behaviour functions principles likelihood case composite correlation structure construction emergence loop artificial steel law chosen volatility real defects function gravity algebra operators attention effective arm mode fundamental calculation compute substitution outcome promote ncs thus improve cft consistent three ideal unique position partial framework higher mechanical insights relationship complex contribution embedded significantly changing accelerate naturally diameter asset longitudinal several output su current inter diagram demonstrate roughly despite addressed wearable exploited relative ifi experiments recommendations society level whose bioactive reported desired hypotheses achieved prices labeled produces malignant\n",
      "\n",
      "Topic 11\n",
      "optimization control optimal method design systems problem algorithms order proposed parameters simulation nonlinear fluid error dynamics linear dynamic problems methodology simulations input power models applied approach experiments feedback self simple controller paper programming implemented grid set case general robust signal solution functions extension load performance target complexity speed technique allows one function platform real introduce level interest gain bayesian described far called demonstrated dimensions computer efficiency overall address conditions structural techniques respect datasets structure optimize probabilistic constrained detailed combines computation stability aim illustrate degree run trajectories fluids rely advanced\n"
     ]
    }
   ],
   "source": [
    "visualise_most_similar_topics_author(list(authors2pubs_dict.keys()).index(\"Ghaffari, Mohsen\"), \n",
    "                                     authors_embeddings, topics_embs, authors2pubs, topics2words, n=10)"
   ]
  },
  {
   "cell_type": "markdown",
   "metadata": {},
   "source": [
    "## 7. Embedding a query "
   ]
  },
  {
   "cell_type": "code",
   "execution_count": 152,
   "metadata": {},
   "outputs": [],
   "source": [
    "from nltk.tokenize import word_tokenize "
   ]
  },
  {
   "cell_type": "code",
   "execution_count": 158,
   "metadata": {},
   "outputs": [],
   "source": [
    "def get_list_embeddings_query(query, vocab, embedding, silence=False):\n",
    "    \"\"\" Query is a list of words\"\"\"\n",
    "    matched = 0 \n",
    "    total = 0\n",
    "    query_embeddings = []\n",
    "    \n",
    "    start = time.time()\n",
    "    \n",
    "    for word in word_tokenize(query.lower()): \n",
    "        total+=1\n",
    "        #check if the word appears in vocabulary \n",
    "        if word in vocab.values(): \n",
    "            matched+=1\n",
    "            emb = embedding[list(vocab.values()).index(word)]\n",
    "            query_embeddings += [emb]\n",
    "    \n",
    "    end = time.time()\n",
    "    if not silence: \n",
    "        print(\"Total time: \"+str(round(end-start,2))+\" s.\")\n",
    "        print(\"Proportion of matched words: \"+str(round(matched/total,2)))\n",
    "    return query_embeddings"
   ]
  },
  {
   "cell_type": "code",
   "execution_count": 159,
   "metadata": {},
   "outputs": [],
   "source": [
    "def visualise_most_similar_topics_query(query, query_emb, topics_embeddings, topics2words, n=10):\n",
    "    \"\"\"Prints the topics that are closest to the given author in the vector space\"\"\"\n",
    "    nns = nearest_neighbors(query_emb, topics_embeddings)\n",
    "    print(\"Query: \"+ query)\n",
    "    print(\"-\"*10)\n",
    "    print(str(n)+\" most similar topics\")\n",
    "    for i in range(n):\n",
    "        print(\"\")\n",
    "        print(\"Topic \"+str(nns[i+1]))\n",
    "        print(\" \".join(item[0] for item in topics2words[nns[i+1]]))"
   ]
  },
  {
   "cell_type": "code",
   "execution_count": 160,
   "metadata": {},
   "outputs": [],
   "source": [
    "def visualise_most_similar_authors_query(query, query_emb, authors_embeddings, authors2pubs, n=10):\n",
    "    \"\"\"Prints the authors that are closest to the given author in the vector space\"\"\"\n",
    "    nns = nearest_neighbors(query_emb, authors_embeddings)\n",
    "    print(\"Query: \"+ query)\n",
    "    print(\"-\"*10)\n",
    "    print(str(n)+\" most similar authors in the collection\")\n",
    "    for i in range(n):\n",
    "        print(\"\")\n",
    "        print(\"Author \"+str(nns[i+1]))\n",
    "        author = authors2pubs[nns[i+1]]\n",
    "        print(\"Name : \"+author[0])\n",
    "        print(\"Some publications:   \\n- \"+\"\\n - \".join([abstracts_data.iloc[item[0]][\"title\"] for item in author[1][0:5]]))"
   ]
  },
  {
   "cell_type": "code",
   "execution_count": 161,
   "metadata": {},
   "outputs": [],
   "source": [
    "def visualise_most_similar_docs_query(query, query_emb, docs_embeddings, docs_collection, n=10):\n",
    "    \"\"\"Prints the authors that are closest to the given author in the vector space\"\"\"\n",
    "    nns = nearest_neighbors(query_emb, docs_embeddings)\n",
    "    print(\"Query: \"+ query)\n",
    "    print(\"-\"*10)\n",
    "    print(str(n)+\" most similar documents in the collection\")\n",
    "    for i in range(n):\n",
    "        print(\"\")\n",
    "        print(\"Document \"+str(nns[i+1]))\n",
    "        print((docs_collection[nns[i+1]]).partition(\"||\")[0])"
   ]
  },
  {
   "cell_type": "code",
   "execution_count": 164,
   "metadata": {},
   "outputs": [
    {
     "name": "stdout",
     "output_type": "stream",
     "text": [
      "Total time: 0.03 s.\n",
      "Proportion of matched words: 1.0\n"
     ]
    }
   ],
   "source": [
    "query = \"quantum computing\"\n",
    "query_embs = get_list_embeddings_query(query, glove_vocab, glove_embedding)\n",
    "# aggregating the query embeddings with a mean\n",
    "query_emb = np.mean(query_embs, axis=0)"
   ]
  },
  {
   "cell_type": "code",
   "execution_count": 165,
   "metadata": {
    "scrolled": true
   },
   "outputs": [
    {
     "name": "stdout",
     "output_type": "stream",
     "text": [
      "Query: quantum computing\n",
      "----------\n",
      "10 most similar topics\n",
      "\n",
      "Topic 415\n",
      "quantum theory electron dimensional structure state band energy properties charge materials density states power parameter frequency free relaxation high small description domain terms single fermi one fields amplitude dimensions dipole function excited theories interaction electrons full devices value generated numerical dual experiments particle given algebra leading observations independent gaussian limits respectively ground ultra design film consistent formalism another electrodes distribution measurements lasso instance new head edge\n",
      "\n",
      "Topic 138\n",
      "symmetry quantum chiral mtdna theories spin gravity master general equations security point inp convergence instanton orbifold exact kinetic duality one financial finite markov weak type recession muscle imaged dirac policies incentives bulk correspondence mechanics believe already taylor transitions photovoltaics occupancy crystals charges scs asymptotically way beyond priori hu partition necessary twisted turns cilia extended discuss generality deployment coherent institutional\n",
      "\n",
      "Topic 218\n",
      "quark theory quantum tt loop dual states ads symmetric amplitudes dimensional corrections yangian order ag elliptic conformal arbitrary extension higher loops asymptotic fermions cft space gauge hamiltonian compact participation derive integral yang consider symmetries supergravity coupling box result function field\n",
      "\n",
      "Topic 498\n",
      "finite stochastic linear simulation optimization random method boundary algorithm parameters software estimation approach problem optimal probability integral efficient error space solutions models order second carlo derive consider allows number computing rate network us equivalent quasi design sparse various means state obtain representation certain simple particular conditions full term performance uses length easy constant anisotropic equations obtained way homogeneous infinite garage elliptic underlying spin single establish via involves estimates analyze differential solve\n",
      "\n",
      "Topic 165\n",
      "quantum traits trait disgust dd atf qubits mobility crossover meat states ants stroke gates mex hgt ldg disruptions lb gms abdg mesoscopic decoherence use\n",
      "\n",
      "Topic 51\n",
      "software machine protocols information features code program question polynomial sets representations testing prove computational sparse experimental analysis architectures type tools blockchain library second processing many computing parallel architecture true modern examples relevant new representation visual theoretical numerical random libraries evaluation text noisy without distributed paper apply set art transformation conditional namely leverage matrices parts asymptotic platforms sensitivity matrix counting principles package used widely various ways explicitly able constraints processor inequality application extract yet\n",
      "\n",
      "Topic 30\n",
      "quantum ionization charge cavity laser propagation lasers cascade antenna blue field spectrum tip beliefs disk red ion regime attitudes electric lattice spherical theory antennas symmetry near ramp linear gains excellent regret relativistic ultra gain report temperatures guvs waveguide first vsl solvents experimental infrared resolution indeed losses present\n",
      "\n",
      "Topic 462\n",
      "convergence equations numerical spaces prove approximation space tensor solutions terms problem graph parabolic formula arbitrary bounded respect hp give computation exponential parameter examples variational meshes operator functions domain numbers dimension decomposition version extend non tree case preserving matrix algebraic resulting converge mpa quadrature experiments approximating dirichlet\n",
      "\n",
      "Topic 11\n",
      "optimization control optimal method design systems problem algorithms order proposed parameters simulation nonlinear fluid error dynamics linear dynamic problems methodology simulations input power models applied approach experiments feedback self simple controller paper programming implemented grid set case general robust signal solution functions extension load performance target complexity speed technique allows one function platform real introduce level interest gain bayesian described far called demonstrated dimensions computer efficiency overall address conditions structural techniques respect datasets structure optimize probabilistic constrained detailed combines computation stability aim illustrate degree run trajectories fluids rely advanced\n",
      "\n",
      "Topic 308\n",
      "wave numerical velocity theory non local measurement coefficient acoustic method example separation gauge values correction software dimension poc point flow symmetric source phase show terms solutions relative spectrum streamflow account component string predictions explicitly experimental introduce simulations magnitude derive correlations assumptions radiation operator radius construct angle value utility computed error weighted distributions numerically mean code particular involving equation sets ratio previous light fermi field interest discuss perturbation regime coordinate applying presented recently recent geometry analytical order evaluated\n"
     ]
    }
   ],
   "source": [
    "visualise_most_similar_topics_query(query, query_emb, topics_embs, topics2words)"
   ]
  },
  {
   "cell_type": "code",
   "execution_count": 166,
   "metadata": {
    "scrolled": true
   },
   "outputs": [
    {
     "name": "stdout",
     "output_type": "stream",
     "text": [
      "Query: quantum computing\n",
      "----------\n",
      "50 most similar authors in the collection\n",
      "\n",
      "Author 8930\n",
      "Name : Carius, Jan\n",
      "Some publications:   \n",
      "- Autonomous Mission with a Mobile Manipulator - A Solution to the MBZIRC\n",
      " - Contact-Implicit Trajectory Optimization for Dynamic Object Manipulation\n",
      " - Locomotion Planning through a Hybrid Bayesian Trajectory Optimization\n",
      " - MPC-Net: A First Principles Guided Policy Search\n",
      " - Trajectory Optimization with Implicit Hard Contacts\n",
      "\n",
      "Author 28592\n",
      "Name : Karasikov, Mikhail\n",
      "Some publications:   \n",
      "- Communication-Efficient Jaccard similarity for High-Performance Distributed Genome Comparisons\n",
      " - Dynamic compression schemes for graph coloring\n",
      " - Global Genetic Cartography of Urban Metagenomes and Anti-Microbial Resistance\n",
      " - Metannot: A succinct data structure for compression of colors in dynamic de Bruijn graphs\n",
      " - Sparse Binary Relation Representations for Genome Graph Annotation\n",
      "\n",
      "Author 27355\n",
      "Name : Jenni, Thomas\n",
      "Some publications:   \n",
      "- Subdivision shell elements with anisotropic growth\n",
      "\n",
      "Author 55755\n",
      "Name : Smula, Jasmin\n",
      "Some publications:   \n",
      "- Monitoring Churn in Wireless Networks\n",
      " - On the Power of Advice and Randomization for the Disjoint Path Allocation Problem\n",
      " - The String Guessing Problem as a Method to Prove Lower Bounds on the Advice Complexity\n",
      "\n",
      "Author 45191\n",
      "Name : Penna, Paolo\n",
      "Some publications:   \n",
      "- Energy-Efficient Delivery by Heterogeneous Mobile Agents\n",
      " - Equilibria of games in networks for local tasks\n",
      " - Local Distributed Algorithms for Selfish Agents\n",
      " - Obviously Strategyproof Mechanisms for Machine Scheduling\n",
      " - Online scheduling of jobs with favorite machines\n",
      "\n",
      "Author 55225\n",
      "Name : Simon, Rüdiger\n",
      "Some publications:   \n",
      "- A Dynamic Model for Stem Cell Homeostasis and Patterning in Arabidopsis Meristems\n",
      "\n",
      "Author 28200\n",
      "Name : Kahles, André\n",
      "Some publications:   \n",
      "- Accurate detection of differential RNA processing\n",
      " - Butler enables rapid cloud-based analysis of thousands of human genomes\n",
      " - Dynamic compression schemes for graph coloring\n",
      " - Genomic Rearrangements in Arabidopsis Considered as Quantitative Traits\n",
      " - Genomic basis for RNA alterations in cancer\n",
      "\n",
      "Author 33940\n",
      "Name : Leucci, Stefano\n",
      "Some publications:   \n",
      "- An improved algorithm for computing all the best swap edges of a tree spanner\n",
      " - Effcient oracles and routing schemes for replacement paths\n",
      " - On the PSPACE-completeness of Peg Duotaire and other Peg-Jumping Games\n",
      " - On the complexity of two dots for narrow boards and few colors\n",
      " - Optimal Sorting with Persistent Comparison Errors\n",
      "\n",
      "Author 68016\n",
      "Name : de Rassenfosse, Gaétan\n",
      "Some publications:   \n",
      "- Geocoding of worldwide patent data\n",
      " - Sources of knowledge flow between developed and developing nations\n",
      "\n",
      "Author 27247\n",
      "Name : Javadzadeh No, Sara\n",
      "Some publications:   \n",
      "- Sparse Binary Relation Representations for Genome Graph Annotation\n",
      "\n",
      "Author 19477\n",
      "Name : Geissmann, Barbara\n",
      "Some publications:   \n",
      "- Optimal Sorting with Persistent Comparison Errors\n",
      " - Optimal dislocation with persistent errors in subquadratic time\n",
      " - Routing in stochastic public transit networks\n",
      " - Sort well with energy-constrained comparisons\n",
      "\n",
      "Author 29403\n",
      "Name : Khiali-Miab, Amin\n",
      "Some publications:   \n",
      "- Combining urban scaling and polycentricity to explain socio-economic status of urban regions\n",
      "\n",
      "Author 21644\n",
      "Name : Grêt-Regamey, Adrienne\n",
      "Some publications:   \n",
      "- 3-D reconstruction of an urban landscape to assess the influence of vegetation in the radiative budget\n",
      " - 3D Point Clouds and Eye Tracking for Investigating the Perception and Acceptance of Power Lines in Different Landscapes\n",
      " - A backcasting approach for matching regional ecosystem services supply and demand\n",
      " - A conceptual framework to untangle the concept of urban ecosystem services\n",
      " - A tiered approach for mapping ecosystem services\n",
      "\n",
      "Author 25037\n",
      "Name : Hohm, Tim\n",
      "Some publications:   \n",
      "- A Dynamic Model for Stem Cell Homeostasis and Patterning in Arabidopsis Meristems\n",
      " - A new model for deployment coverage and connectivity of Wireless Sensor Networks\n",
      " - Evolutionary pareto-optimization of stably folding peptides\n",
      " - Investigating Coverage and Connectivity Trade-offs in Wireless Sensor Networks\n",
      "\n",
      "Author 25537\n",
      "Name : Hromkovič, Juraj\n",
      "Some publications:   \n",
      "- Ambiguity and Communication\n",
      " - On the Power of Advice and Randomization for the Disjoint Path Allocation Problem\n",
      " - The Steiner tree reoptimization problem with sharpened triangle inequality\n",
      " - The String Guessing Problem as a Method to Prove Lower Bounds on the Advice Complexity\n",
      "\n",
      "Author 57378\n",
      "Name : Stoop, Norbert\n",
      "Some publications:   \n",
      "- Fluid membrane vesicles in confinement\n",
      " - Simulating thin sheets: Buckling, wrinkling, folding and growth\n",
      " - Subdivision shell elements with anisotropic growth\n",
      "\n",
      "Author 21057\n",
      "Name : Grandia, Ruben\n",
      "Some publications:   \n",
      "- Contact Invariant Model Learning for Legged Robot Locomotion\n",
      " - Contact-Implicit Trajectory Optimization for Dynamic Object Manipulation\n",
      " - Locomotion Planning through a Hybrid Bayesian Trajectory Optimization\n",
      " - Tactile Inspection of Concrete Deterioration in Sewers with Legged Robots\n",
      " - Towards autonomous inspection of concrete deterioration in sewers with legged robots\n",
      "\n",
      "Author 41090\n",
      "Name : Mustafa, Harun\n",
      "Some publications:   \n",
      "- Communication-Efficient Jaccard similarity for High-Performance Distributed Genome Comparisons\n",
      " - Dynamic compression schemes for graph coloring\n",
      " - Efficient graph-color compression with neighborhood-informed Bloom filters\n",
      " - Global Genetic Cartography of Urban Metagenomes and Anti-Microbial Resistance\n",
      " - Metannot: A succinct data structure for compression of colors in dynamic de Bruijn graphs\n",
      "\n",
      "Author 3270\n",
      "Name : Barhum, Kfir\n",
      "Some publications:   \n",
      "- On the Power of Advice and Randomization for the Disjoint Path Allocation Problem\n",
      " - Tight Bounds for the Advice Complexity of the Online Minimum Steiner Tree Problem\n",
      "\n",
      "Author 54120\n",
      "Name : Seliger, Florian\n",
      "Some publications:   \n",
      "- Geocoding of worldwide patent data\n",
      " - Imitation versus innovation\n",
      " - Knowledge Spillovers and their Impact on Innovation Success - A New Approach Using Patent Backward Citations\n",
      " - Knowledge Spillovers, Competition and Innovation Success\n",
      " - Sources of knowledge flow between developed and developing nations\n",
      "\n",
      "Author 31463\n",
      "Name : Krug, Sacha\n",
      "Some publications:   \n",
      "- On the Power of Advice and Randomization for the Disjoint Path Allocation Problem\n",
      " - The String Guessing Problem as a Method to Prove Lower Bounds on the Advice Complexity\n",
      "\n",
      "Author 56823\n",
      "Name : Steffen, Björn\n",
      "Some publications:   \n",
      "- On the Power of Advice and Randomization for the Disjoint Path Allocation Problem\n",
      " - The Steiner tree reoptimization problem with sharpened triangle inequality\n",
      " - The uniform minimum-ones 2SAT problem and its application to haplotype classification\n",
      "\n",
      "Author 55542\n",
      "Name : Sleiman, Jean-Pierre\n",
      "Some publications:   \n",
      "- Contact-Implicit Trajectory Optimization for Dynamic Object Manipulation\n",
      "\n",
      "Author 34846\n",
      "Name : Liu, Chih-Hung\n",
      "Some publications:   \n",
      "- A nearly optimal algorithm for the geodesic voronoi diagram of points in a simple polygon\n",
      " - Nearly optimal planar k nearest neighbors queries under general distance functions\n",
      " - Optimal Sorting with Persistent Comparison Errors\n",
      " - Optimal dislocation with persistent errors in subquadratic time\n",
      "\n",
      "Author 50747\n",
      "Name : Rätsch, Gunnar\n",
      "Some publications:   \n",
      "- A Bayesian Nonparametric Approach to Discover Clinico-Genetic Associations across Cancer Types\n",
      " - A pan cancer analysis of promoter activity highlights the regulatory role of alternative transcription start sites and their association with noncoding mutations\n",
      " - Accurate detection of differential RNA processing\n",
      " - BRCA Challenge: BRCA Exchange as a global resource for variants in BRCA1 and BRCA2\n",
      " - Building an international consortium for tracking coronavirus health status\n",
      "\n",
      "Author 24266\n",
      "Name : Herrmann, Hans J.\n",
      "Some publications:   \n",
      "- A comparison of hydrological and topological watersheds\n",
      " - A modeling approach to study the effect of cell polarization on keratinocyte migration\n",
      " - A single touch can provide sufficient mechanical stimulation to trigger Venus flytrap closure\n",
      " - A universal approach for drainage basins\n",
      " - Breathing synchronization in interconnected networks\n",
      "\n",
      "Author 62081\n",
      "Name : Vetter, Roman\n",
      "Some publications:   \n",
      "- Aboave-Weaire’s law in epithelia results from an angle constraint in contiguous polygonal lattices\n",
      " - Emergence of active nematics in chaining bacterial biofilms\n",
      " - Simulating thin sheets: Buckling, wrinkling, folding and growth\n",
      " - Subdivision shell elements with anisotropic growth\n",
      "\n",
      "Author 68267\n",
      "Name : van Strien, Maarten J.\n",
      "Some publications:   \n",
      "- An improved neutral landscape model for recreating real landscapes and generating landscape series for spatial ecological simulations\n",
      " - Combining urban scaling and polycentricity to explain socio-economic status of urban regions\n",
      " - Integrating ecosystem services into spatial planning—A spatial decision support tool\n",
      " - Resilience in social-ecological systems: identifying stable and unstable equilibria with agent-based models\n",
      " - Where do we recreate? Comparison of different methods to determine importance of site characteristics for outdoor recreation\n",
      "\n",
      "Author 8224\n",
      "Name : Böckenhauer, Hans-Joachim\n",
      "Some publications:   \n",
      "- Constructing Randomized Online Algorithms from Algorithms with Advice\n",
      " - On the Power of Advice and Randomization for the Disjoint Path Allocation Problem\n",
      " - On the advice complexity of the knapsack problem\n",
      " - Online algorithms with advice\n",
      " - Reoptimization of the Shortest Common Superstring Problem\n",
      "\n",
      "Author 19369\n",
      "Name : Gebauer, Heidi\n",
      "Some publications:   \n",
      "- On the Power of Advice and Randomization for the Disjoint Path Allocation Problem\n",
      "\n",
      "Author 26087\n",
      "Name : Hutter, Marco\n",
      "Some publications:   \n",
      "- A Fully-Integrated Sensing and Control System for High-Accuracy Mobile Robotic Building Construction\n",
      " - ALMA - Articulated Locomotion and Manipulation for a Torque-Controllable Robot\n",
      " - ANYexo: A Versatile and Dynamic Upper-Limb Rehabilitation Robot\n",
      " - Adaptive pulsed laser line extraction for terrain reconstruction using a dynamic vision sensor\n",
      " - Autonomous Mission with a Mobile Manipulator - A Solution to the MBZIRC\n",
      "\n",
      "Author 65147\n",
      "Name : Wittel, Falk\n",
      "Some publications:   \n",
      "- Computational analysis of hygromorphic self-shaping wood gridshell structures\n",
      " - Subdivision shell elements with anisotropic growth\n",
      "\n",
      "Author 67628\n",
      "Name : Zitzler, Eckart\n",
      "Some publications:   \n",
      "- A Dynamic Model for Stem Cell Homeostasis and Patterning in Arabidopsis Meristems\n",
      " - Comparison of Biclustering Methods\n",
      " - Evolutionary algorithms for the selection of single nucleotide polymorphisms\n",
      " - HypE\n",
      " - Offline and Online Objective Reduction in Evolutionary Multiobjective Optimization Based on Objective Conflicts\n",
      "\n",
      "Author 17533\n",
      "Name : Forišek, Michael\n",
      "Some publications:   \n",
      "- On the Power of Advice and Randomization for the Disjoint Path Allocation Problem\n",
      "\n",
      "Author 27895\n",
      "Name : Joudaki, Amir\n",
      "Some publications:   \n",
      "- Sparse Binary Relation Representations for Genome Graph Annotation\n",
      "\n",
      "Author 38916\n",
      "Name : Mereiter, Stefan\n",
      "Some publications:   \n",
      "- HACE1 Prevents Lung Carcinogenesis via Inhibition of RAC-Family GTPases\n",
      "\n",
      "Author 33864\n",
      "Name : Leopoldi, Alexandra\n",
      "Some publications:   \n",
      "- HACE1 Prevents Lung Carcinogenesis via Inhibition of RAC-Family GTPases\n",
      "\n",
      "Author 64828\n",
      "Name : Williams, David A.\n",
      "Some publications:   \n",
      "- HACE1 Prevents Lung Carcinogenesis via Inhibition of RAC-Family GTPases\n",
      "\n",
      "Author 60300\n",
      "Name : Trent, Jeffrey M.\n",
      "Some publications:   \n",
      "- HACE1 Prevents Lung Carcinogenesis via Inhibition of RAC-Family GTPases\n",
      "\n",
      "Author 18984\n",
      "Name : Gapp, Bianca V.\n",
      "Some publications:   \n",
      "- HACE1 Prevents Lung Carcinogenesis via Inhibition of RAC-Family GTPases\n",
      "\n",
      "Author 12362\n",
      "Name : Daugaard, Mads\n",
      "Some publications:   \n",
      "- HACE1 Prevents Lung Carcinogenesis via Inhibition of RAC-Family GTPases\n",
      "\n",
      "Author 47953\n",
      "Name : Rao, Bianca V.\n",
      "Some publications:   \n",
      "- HACE1 Prevents Lung Carcinogenesis via Inhibition of RAC-Family GTPases\n",
      "\n",
      "Author 42605\n",
      "Name : Nitsch, Roberto\n",
      "Some publications:   \n",
      "- HACE1 Prevents Lung Carcinogenesis via Inhibition of RAC-Family GTPases\n",
      "\n",
      "Author 15346\n",
      "Name : El-Naggar, Amal M.\n",
      "Some publications:   \n",
      "- HACE1 Prevents Lung Carcinogenesis via Inhibition of RAC-Family GTPases\n",
      "\n",
      "Author 61076\n",
      "Name : Uribesalgo, Iris\n",
      "Some publications:   \n",
      "- HACE1 Prevents Lung Carcinogenesis via Inhibition of RAC-Family GTPases\n",
      "\n",
      "Author 56102\n",
      "Name : Sorensen, Poul H.\n",
      "Some publications:   \n",
      "- HACE1 Prevents Lung Carcinogenesis via Inhibition of RAC-Family GTPases\n",
      "\n",
      "Author 41998\n",
      "Name : Negri, Gian L.\n",
      "Some publications:   \n",
      "- HACE1 Prevents Lung Carcinogenesis via Inhibition of RAC-Family GTPases\n",
      "\n",
      "Author 60097\n",
      "Name : Tortora, Davide\n",
      "Some publications:   \n",
      "- HACE1 Prevents Lung Carcinogenesis via Inhibition of RAC-Family GTPases\n",
      "\n",
      "Author 28877\n",
      "Name : Kavirayani, Anoop M.\n",
      "Some publications:   \n",
      "- HACE1 Prevents Lung Carcinogenesis via Inhibition of RAC-Family GTPases\n",
      "\n",
      "Author 26459\n",
      "Name : Ikeda, Fumiyo\n",
      "Some publications:   \n",
      "- HACE1 Prevents Lung Carcinogenesis via Inhibition of RAC-Family GTPases\n"
     ]
    }
   ],
   "source": [
    "visualise_most_similar_authors_query(query, query_emb, authors_embeddings, authors2pubs, n=50)"
   ]
  },
  {
   "cell_type": "code",
   "execution_count": 167,
   "metadata": {},
   "outputs": [
    {
     "name": "stdout",
     "output_type": "stream",
     "text": [
      "Query: quantum computing\n",
      "----------\n",
      "10 most similar documents in the collection\n",
      "\n",
      "Document 12819\n",
      "Discretisation errors in two-flavour lattice QCD with Wilson quarks and DBW2 gauge action are investigated by comparing numerical simulation data at two values of the bare gauge coupling. Both non-zero- and zero-twisted-mass values are considered. The results, including also data from simulations using the Wilson plaquette gauge action, are compared to next-to-leading order chiral perturbation theory formulas.\n",
      "\n",
      "Document 6008\n",
      "Thegraviton1-loop partition function in Euclidean topologically massivegravity (TMG) is calculated using heat kernel techniques. The partition function does not factorize holomorphically, and at the chiral point it has the structure expected from a logarithmic conformal field theory. This gives strong evidence for the proposal that the dual conformal field theory to TMG at the chiral point is indeed logarithmic. We also generalize our results to new massive gravity.\n",
      "\n",
      "Document 6075\n",
      "It is natural to believe that the free symmetric product orbifold CFT is dual to the tensionless limit of string theory on AdS3 × S3 × T4. At this point in moduli space, string theory is expected to contain a Vasiliev higher spin theory as a subsector. We confirm this picture explicitly by showing that the large level limit of the N =4 cosets of arXiv:1305.4181, that are dual to a higher spin theory on AdS3, indeed describe a closed subsector of the symmetric product orbifold. Furthermore, we reorganise the full partition function of the symmetric product orbifold in terms of representations of the higher spin algebra (or rather its W∞ extension). In particular, the unbroken stringy symmetries of the tensionless limit are captured by a large chiral algebra which we can describe explicitly in terms of an infinite sum of W∞ representations, thereby exhibiting a vast extension of the conventional higher spin symmetry.\n",
      "\n",
      "Document 19733\n",
      "We consider the uniform random d-regular graph on N vertices, with d∈[Nα,N2/3−α] for arbitrary α>0. We prove that in the bulk of the spectrum the local eigenvalue correlation functions and the distribution of the gaps between consecutive eigenvalues coincide with those of the Gaussian Orthogonal Ensemble.\n",
      "\n",
      "Document 14076\n",
      "In high energy experiments such as active beam dump searches for rare decays and missing energy events, the beam purity is a crucial parameter. In this paper we present a technique to reject heavy charged particle contamination in the 100 GeV electron beam of the H4 beam line at CERN SPS. The method is based on the detection with BGO scintillators of the synchrotron radiation emitted by the electrons passing through a bending dipole magnet. A 100 GeV pi- beam is used to test the method in the NA64 experiment resulting in a suppression factor of 10−5 while the efficiency for electron detection is 95%. The spectra and the rejection factors are in very good agreement with the Monte Carlo simulation. The reported suppression factors are significantly better than previously achieved.\n",
      "\n",
      "Document 6114\n",
      "A holographic correspondence has been recently developed between higher spin theories in three-dimensional anti-de Sitter space (AdS3) and two-dimensional Conformal Field Theories (CFTs) with extended symmetries. A class of such dualities involves SL(N, R) × SL(N, R) Chern-Simons gauge theories in the (2 + 1)-dimensional bulk space-time, and CFTs with WN symmetry algebras on the (1 + 1)-dimensional boundary. The topological character of the bulk theory forces one to reconsider standard geometric notions such as black hole horizons and entropy, as well as the usual holographic dictionary. Motivated by this challenge, in this note we present a proposal to compute entanglement entropy in the WN CFTs via holographic methods. In particular, we introduce a functional constructed from Wilson lines in the bulk Chern-Simons theory that captures the entanglement entropy in the CFTs dual to standard AdS3 gravity, corresponding to SL(2, R) × SL(2, R) gauge group, and admits an immediate generalization to the higher spin case. We explicitly evaluate this functional for several known solutions of the bulk theory, including charged black holes dual to thermal CFT states carrying higher spin charge, and show that it reproduces expected features of entanglement entropy, study whether it obeys strong subadditivity, and moreover show that it reduces to the thermal entropy in the appropriate limit.\n",
      "\n",
      "Document 19027\n",
      "We consider nonlinear systems of ordinary differential equations (ODEs) on a Banach state space S over R or C, where the right hand side depends affinely linear on a parameter vector y = (yj)j_1, normalized such that |yj | _ 1. Under suitable analyticity assumptions on the ODEs, we prove that the solution {X(t; y) : 0 _ t _ T} of the corresponding IVP depends holomorphically on the parameter vector y, as a mapping from the infinite- dimensional parameter domain U = (−1, 1)N into a suitable function space in [0, T] × S. Such affined parameter dependence of the ODE arises, among others, in mass action models in computational biology (see, e.g. [11]). Using this regularity result, we prove summability theorems for coefficient sequences of polynomial chaos (pc) expansions of the parametric solutions {X(•; y)}y2U with respect to tensor product orthogonal polynomial bases of L2(U). We give sufficient conditions on the ODEs for N-term truncations of these expansions to converge on the entire parameter space with efficiency (i.e. accuracy versus complexity) being independent of the number of parameters viz. the dimension of the parameter space U.\n",
      "\n",
      "Document 5348\n",
      "Two-dimensional conformal field theories with extended W-symmetry algebras have dual descriptions in terms of weakly coupled higher spin gravity in AdS3 at large central charge. Observables that can be computed and compared in the two descriptions include Rényi and entanglement entropies, and correlation functions of local operators. We develop techniques for computing these, in a manner that sheds light on when and why one can expect agreement between such quantities on each side of the duality. We set up the computation of excited state Rényi entropies in the bulk in terms of Chern-Simons connections, and show how this directly parallels the CFT computation of correlation functions. More generally, we consider the vacuum conformal block for general operators with Δ ∼ c. When two of the operators obey Δc≪1, we show by explicit computation that the vacuum conformal block is computed by a bulk Wilson line probing an asymptotically AdS3 background with higher spin fields excited, the latter emerging as the effective bulk description of the excited state produced by the heavy operators. Among other things, this puts a previous proposal for computing higher spin entanglement entropy via Wilson lines on firmer footing, and clarifies its relation to CFT. We also study the corresponding computation in Toda theory and find that this provides yet another independent way to arrive at the same result.\n",
      "\n",
      "Document 7445\n",
      "In this work we consider colour-ordered correlation functions of the fields in integrable planar gauge theories such as N=4 supersymmetric Yang-Mills theory with the aim to establish Ward-Takahashi identities corresponding to Yangian symmetries. To this end, we discuss the Yangian algebra relations and discover a novel set of bi-local gauge symmetries for planar gauge theories. We fix the gauge, introduce local and bi-local BRST symmetries and propose Slavnov-Taylor identities corresponding to the various bi-local symmetries. We then verify the validity of these identities for several correlation functions at tree and loop level. Finally, we comment on the possibility of quantum anomalies for Yangian symmetry.\n",
      "\n",
      "Document 18899\n",
      "Ranks and explicit structure of some matrices in the Quantics Tensor Train format, which allows representation with logarithmic complexity in many cases, are investigated. The matrices under consideration are Laplace operator with various boundary conditions in D dimensions and inverse Laplace operator with Dirichlet and Dirichlet-Neumann boundary conditions in one dimension. The minimal-rank explicit QTT representations of these matrices presented are suitable for any high mode sizes and, in the multi-dimensional case, for any high dimensions.\n"
     ]
    }
   ],
   "source": [
    "visualise_most_similar_docs_query(query, query_emb, documents_embeddings,abstracts_data[\"abstract\"] , n=10)"
   ]
  },
  {
   "cell_type": "markdown",
   "metadata": {},
   "source": [
    "## 8. Clustering nodes "
   ]
  },
  {
   "cell_type": "code",
   "execution_count": null,
   "metadata": {
    "collapsed": true
   },
   "outputs": [],
   "source": []
  },
  {
   "cell_type": "markdown",
   "metadata": {},
   "source": [
    "# Visualisation"
   ]
  },
  {
   "cell_type": "code",
   "execution_count": 344,
   "metadata": {},
   "outputs": [],
   "source": [
    "# first we have to select a subset of topics and their words \n",
    "tn = 10 \n",
    "pn = 5 # number of words to plot per topic\n",
    "topics = topics_embs[0:tn]\n",
    "# collect the vocabulary for the selected topics -------------\n",
    "# and save the embeddings of their words \n",
    "words = []\n",
    "word_embs = []\n",
    "for item in topics2words[0:tn]: \n",
    "    for t2w in item[0:pn]: \n",
    "        word, _ = t2w\n",
    "        if word not in words: \n",
    "            try: \n",
    "                emb = glove_embedding[list(glove_vocab.values()).index(word)]\n",
    "                words +=[word]\n",
    "                word_embs +=[emb]\n",
    "            except: pass"
   ]
  },
  {
   "cell_type": "code",
   "execution_count": 345,
   "metadata": {},
   "outputs": [
    {
     "data": {
      "text/plain": [
       "48"
      ]
     },
     "execution_count": 345,
     "metadata": {},
     "output_type": "execute_result"
    }
   ],
   "source": [
    "len(words)"
   ]
  },
  {
   "cell_type": "code",
   "execution_count": 203,
   "metadata": {},
   "outputs": [],
   "source": [
    "from sklearn.decomposition import PCA"
   ]
  },
  {
   "cell_type": "code",
   "execution_count": 347,
   "metadata": {},
   "outputs": [],
   "source": [
    "# PCA to 2 dimensions \n",
    "pca = PCA(n_components=2)\n",
    "topics_embeddings_df = pd.DataFrame(topics)\n",
    "word_embeddings_df = pd.DataFrame(word_embs)\n",
    "pca_topics = pca.fit_transform(topics_embeddings_df.values)\n",
    "pca_words = pca.fit_transform(word_embeddings_df.values)"
   ]
  },
  {
   "cell_type": "code",
   "execution_count": 349,
   "metadata": {},
   "outputs": [
    {
     "data": {
      "image/png": "[encoded data removed]",
      "text/plain": [
       "<Figure size 936x504 with 1 Axes>"
      ]
     },
     "metadata": {
      "needs_background": "light"
     },
     "output_type": "display_data"
    }
   ],
   "source": [
    "import matplotlib.pyplot as plt\n",
    "plt.figure(figsize=(13,7))\n",
    "plt.scatter(pca_topics[:,0], pca_topics[:,1],linewidths=1,color='red')\n",
    "for i, _ in enumerate(topics):\n",
    "    plt.annotate(\"Topic \"+str(i),xy=(pca_topics[i,0],pca_topics[i,1]))\n",
    "plt.xlabel(\"PC1\",size=15)\n",
    "plt.ylabel(\"PC2\",size=15)\n",
    "plt.title(\"Word Embedding Space\",size=20)\n",
    "plt.scatter(pca_words[:,0], pca_words[:,1],linewidths=1,color='blue')\n",
    "for i, word in enumerate(words):\n",
    "    plt.annotate(word,xy=(pca_words[i,0],pca_words[i,1]))"
   ]
  },
  {
   "cell_type": "markdown",
   "metadata": {},
   "source": [
    "---"
   ]
  },
  {
   "cell_type": "code",
   "execution_count": null,
   "metadata": {},
   "outputs": [],
   "source": [
    "#!pip3.7 install umap-learn"
   ]
  },
  {
   "cell_type": "code",
   "execution_count": 237,
   "metadata": {},
   "outputs": [],
   "source": [
    "# Plotting authors embeddings by department \n",
    "# We import sklearn and TSNE.\n",
    "import sklearn\n",
    "from sklearn.manifold import TSNE\n",
    "from sklearn.datasets import load_digits\n",
    "from sklearn.preprocessing import scale\n",
    "\n",
    "import umap.umap_ as umap\n",
    "\n",
    "\n",
    "# We'll hack a bit with the t-SNE code in sklearn.\n",
    "from sklearn.metrics.pairwise import pairwise_distances\n",
    "from sklearn.manifold.t_sne import (_joint_probabilities,\n",
    "                                    _kl_divergence)"
   ]
  },
  {
   "cell_type": "code",
   "execution_count": 92,
   "metadata": {},
   "outputs": [],
   "source": [
    "# We'll use matplotlib for graphics.\n",
    "import matplotlib.pyplot as plt\n",
    "import matplotlib.patheffects as PathEffects\n",
    "import matplotlib\n",
    "%matplotlib inline\n",
    "# We import seaborn to make nice plots.\n",
    "import seaborn as sns\n",
    "sns.set_style('darkgrid')\n",
    "sns.set_palette('muted')\n",
    "sns.set_context(\"notebook\", font_scale=1.5,\n",
    "                rc={\"lines.linewidth\": 2.5})"
   ]
  },
  {
   "cell_type": "code",
   "execution_count": 162,
   "metadata": {},
   "outputs": [],
   "source": [
    "# get authors embeddings and labels (aka departments)\n",
    "auths2dept = graph_data.drop_duplicates([\"author\",\"department\"])[[\"author\",\"department\"]].dropna()\n",
    "auths2dept[\"department\"] = auths2dept.department.astype(\"category\")\n",
    "auths2dept[\"department_id\"] = pd.factorize(auths2dept[\"department\"])[0]\n",
    "authors_list = auths2dept[\"author\"].tolist()\n",
    "authors_labels = auths2dept[\"department\"].tolist()\n",
    "authors_labels_ids = auths2dept[\"department_id\"].tolist()\n",
    "authors_list_embs = [authors_embeddings[list(authors2pubs_dict.keys()).index(name)] for name in authors_list]"
   ]
  },
  {
   "cell_type": "code",
   "execution_count": 175,
   "metadata": {},
   "outputs": [],
   "source": [
    "num_dept = max(auths2dept[\"department_id\"]) +1"
   ]
  },
  {
   "cell_type": "code",
   "execution_count": 163,
   "metadata": {},
   "outputs": [
    {
     "data": {
      "text/plain": [
       "(460, 300)"
      ]
     },
     "execution_count": 163,
     "metadata": {},
     "output_type": "execute_result"
    }
   ],
   "source": [
    "authors_list_embs = np.asarray(authors_list_embs)\n",
    "rows_to_keep = ~np.isnan(authors_list_embs).any(axis=1)\n",
    "authors_list_embs = authors_list_embs[rows_to_keep]\n",
    "authors_labels = np.asarray(authors_labels)[rows_to_keep]\n",
    "authors_labels_ids = np.asarray(authors_labels_ids)[rows_to_keep]\n",
    "authors_list = np.asarray(authors_list)[rows_to_keep]\n",
    "authors_list_embs.shape"
   ]
  },
  {
   "cell_type": "code",
   "execution_count": 205,
   "metadata": {},
   "outputs": [],
   "source": [
    "auths_projected = TSNE(random_state=25111993).fit_transform(authors_list_embs)"
   ]
  },
  {
   "cell_type": "code",
   "execution_count": 206,
   "metadata": {},
   "outputs": [],
   "source": [
    "pca = PCA(n_components=2)\n",
    "auths_projected_pca = pca.fit_transform(authors_list_embs)"
   ]
  },
  {
   "cell_type": "code",
   "execution_count": 238,
   "metadata": {},
   "outputs": [],
   "source": [
    "reducer = umap.UMAP()\n",
    "auths_projected_umap = reducer.fit_transform(authors_list_embs)"
   ]
  },
  {
   "cell_type": "code",
   "execution_count": 224,
   "metadata": {},
   "outputs": [],
   "source": [
    "def scatter(x, colors, labels_list, labels=False):\n",
    "    # We choose a color palette with seaborn.\n",
    "    palette = np.array(sns.color_palette(\"hls\", num_dept))\n",
    "\n",
    "    # We create a scatter plot.\n",
    "    f = plt.figure(figsize=(15, 7))\n",
    "    ax = plt.subplot(aspect='equal')\n",
    "    sc = ax.scatter(x[:,0], x[:,1], lw=0, s=100,\n",
    "                    c=palette[colors.astype(np.int)])\n",
    "    ax.axis('on')\n",
    "    ax.axis('tight')\n",
    "\n",
    "    txts = []\n",
    "    if labels: \n",
    "    # We add the labels for each digit.\n",
    "        for i in range(11):\n",
    "            # Position of each label.\n",
    "            xtext, ytext = np.median(x[colors == i, :], axis=0)\n",
    "            txt = ax.text(xtext, ytext, str(labels_list[i]), fontsize=50)\n",
    "            txt.set_path_effects([\n",
    "                PathEffects.Stroke(linewidth=5, foreground=\"w\"),\n",
    "                PathEffects.Normal()])\n",
    "            txts.append(txt)\n",
    "\n",
    "    return f, ax, sc, txts"
   ]
  },
  {
   "cell_type": "code",
   "execution_count": 239,
   "metadata": {},
   "outputs": [
    {
     "name": "stdout",
     "output_type": "stream",
     "text": [
      "{'PHYS', 'INFK', 'USYS', 'ARCH', 'GESS', 'BIOL', 'HEST', 'ERDW', 'BAUG', 'MATH', 'BSSE', 'ITET', 'MAVT', 'CHAB', 'MATL', 'MTEC'}\n"
     ]
    },
    {
     "data": {
      "image/png": "[encoded data removed]",
      "text/plain": [
       "<Figure size 1152x72 with 1 Axes>"
      ]
     },
     "metadata": {},
     "output_type": "display_data"
    },
    {
     "data": {
      "image/png": "[encoded data removed]",
      "text/plain": [
       "<Figure size 1080x504 with 1 Axes>"
      ]
     },
     "metadata": {},
     "output_type": "display_data"
    }
   ],
   "source": [
    "print(set(authors_labels))\n",
    "sns.palplot(np.array(sns.color_palette(\"hls\", num_dept)))\n",
    "scatter(auths_projected_umap, authors_labels_ids, authors_labels)\n",
    "pass\n",
    "#plt.savefig('tsne-generated_18_clust_48_100.png', dpi=120)"
   ]
  },
  {
   "cell_type": "code",
   "execution_count": null,
   "metadata": {},
   "outputs": [],
   "source": []
  },
  {
   "cell_type": "code",
   "execution_count": null,
   "metadata": {},
   "outputs": [],
   "source": []
  },
  {
   "cell_type": "markdown",
   "metadata": {},
   "source": [
    "## 5. Embedding topics - representation learning "
   ]
  },
  {
   "cell_type": "code",
   "execution_count": 27,
   "metadata": {
    "collapsed": true
   },
   "outputs": [],
   "source": [
    "# Idea: a simple autoencoder to reconstruct topics embeddings\n",
    "# The autoencoder takes as input the topic 2 word distribution and finds \n",
    "# a representation of the topic able to reconstruct it (+ idea: add noise in the input)\n",
    "# We will enforce similarity with the topic words by applying a regulariser that measures \n",
    "# the non-similarity with the topic words "
   ]
  },
  {
   "cell_type": "code",
   "execution_count": 28,
   "metadata": {
    "collapsed": true
   },
   "outputs": [],
   "source": [
    "import torch \n",
    "from torch import nn"
   ]
  },
  {
   "cell_type": "code",
   "execution_count": 29,
   "metadata": {
    "collapsed": true
   },
   "outputs": [
    {
     "ename": "SyntaxError",
     "evalue": "invalid syntax (<ipython-input-29-6036a234a8c6>, line 17)",
     "output_type": "error",
     "traceback": [
      "\u001b[1;36m  File \u001b[1;32m\"<ipython-input-29-6036a234a8c6>\"\u001b[1;36m, line \u001b[1;32m17\u001b[0m\n\u001b[1;33m    total loss =\u001b[0m\n\u001b[1;37m             ^\u001b[0m\n\u001b[1;31mSyntaxError\u001b[0m\u001b[1;31m:\u001b[0m invalid syntax\n"
     ]
    }
   ],
   "source": [
    "class topicsLoss(nn.Module):\n",
    "    def __init__(self, **kwargs):\n",
    "        super().__init__()\n",
    "        self.mse = nn.MSELoss()\n",
    "        \n",
    "    def topic_words_dissimilarity(self, hidden, topicwords_embs, topicwords_weights):\n",
    "        \"\"\" \n",
    "        topicwords_embs: torch tensor of size BATCH x NUM_WORDS x EMB_DIM \n",
    "        topicwords_weights: torch tensor of size BATCH x NUM_WORDS \n",
    "        \n",
    "        \"\"\"\n",
    "        # 1. normalise the weights \n",
    "        normalized_weights = weight_vec / np.sqrt(np.sum(weight_vec**2))\n",
    "        # 2. compute hidden - embeddings distances\n",
    "        distances = torch.cdist(topicwords_embs,hidden) # B x W\n",
    "        # 3. dot product of weights and distances \n",
    "        total loss = \n",
    "        return total_loss \n",
    "    \n",
    "    def forward(self, outputs, targets, hidden, topicswords_embs, topicswords_weights):\n",
    "        loss = self.mse(outputs,targets) + self.topic_words_dissimilarity(hidden, topicswords_embs, topicswords_weights)\n",
    "        return loss \n",
    "        \n",
    "    \n",
    "class topicsAE(nn.Module):\n",
    "    def __init__(self, **kwargs):\n",
    "        super().__init__()\n",
    "        \"\"\" \n",
    "        simply 4 shrinking linear layers with relu non linearities \n",
    "         - words2topic max -----> 150 \n",
    "         - 150 -----> 300\n",
    "         - 300 -----> 150\n",
    "         - 150 -----> words2topic max\n",
    "        \"\"\"\n",
    "        self.encoder_hidden_layer = nn.Linear(in_features=kwargs[\"input_shape\"], out_features=150)\n",
    "        self.encoder_output_layer = nn.Linear(in_features=150, out_features=300)\n",
    "        self.decoder_hidden_layer = nn.Linear(in_features=300, out_features=150)\n",
    "        self.decoder_output_layer = nn.Linear(in_features=150, out_features=kwargs[\"input_shape\"])\n",
    "\n",
    "    def forward(self, features):\n",
    "        activation = self.encoder_hidden_layer(features)\n",
    "        activation = torch.relu(activation)\n",
    "        code = self.encoder_output_layer(activation)\n",
    "        code = torch.relu(code)\n",
    "        activation = self.decoder_hidden_layer(code)\n",
    "        activation = torch.relu(activation)\n",
    "        activation = self.decoder_output_layer(activation)\n",
    "        reconstructed = torch.relu(activation)\n",
    "        return reconstructed\n",
    "    "
   ]
  },
  {
   "cell_type": "code",
   "execution_count": 166,
   "metadata": {
    "collapsed": true
   },
   "outputs": [
    {
     "data": {
      "text/plain": [
       "torch.Size([100, 100, 50])"
      ]
     },
     "execution_count": 166,
     "metadata": {},
     "output_type": "execute_result"
    }
   ],
   "source": [
    "torch.cdist(c, a).size()"
   ]
  },
  {
   "cell_type": "code",
   "execution_count": 163,
   "metadata": {
    "collapsed": true
   },
   "outputs": [
    {
     "data": {
      "text/plain": [
       "torch.Size([100, 300, 1])"
      ]
     },
     "execution_count": 163,
     "metadata": {},
     "output_type": "execute_result"
    }
   ],
   "source": [
    "torch.matmul(a.transpose(1,2),b.unsqueeze(2)).size()"
   ]
  },
  {
   "cell_type": "code",
   "execution_count": 154,
   "metadata": {
    "collapsed": true
   },
   "outputs": [],
   "source": [
    "# input data \n",
    "# the input to the model is a set of words_indices vectors \n",
    "def get_input_data(topics2words, vocab, max_len):\n",
    "    \"\"\" Returns a list of word indices for each of the topics \n",
    "    given as input. \"\"\"\n",
    "    words_idxs=[]\n",
    "    topics_embs=[]\n",
    "    topics_weights=[]\n",
    "    for topic in topics2words: \n",
    "        twi = [0]*max_len\n",
    "        topic_embeddings, topic_weights = get_list_embeddings_topic(topic, glove_vocab, glove_embedding, silence=True)\n",
    "        # padding the vectors before adding them to the list \n",
    "        topics_embs += [F.pad(torch.tensor(topic_embeddings, requires_grad=False), [0,0,0,max_len-len(topic_embeddings)])] \n",
    "        topics_weights += [F.pad(torch.tensor(topic_weights,  requires_grad=False), \n",
    "                                 [0,max_len-len(topic_weights)])]\n",
    "        for i,item in enumerate(topic): \n",
    "            word = item[0]\n",
    "            try: # could fail if word not in the vocabulary\n",
    "                twi[i] = list(vocab.values()).index(word)\n",
    "            except Exception as e: pass\n",
    "        words_idxs += [twi] \n",
    "    return words_idxs, topics_embs, topics_weights"
   ]
  },
  {
   "cell_type": "code",
   "execution_count": 130,
   "metadata": {
    "collapsed": true
   },
   "outputs": [],
   "source": [
    "MAX_INPUT_LEN = 50\n",
    "input_data, topics_embs, topics_weights = get_input_data(topics2words, glove_vocab, MAX_INPUT_LEN)"
   ]
  },
  {
   "cell_type": "code",
   "execution_count": 141,
   "metadata": {
    "collapsed": true
   },
   "outputs": [],
   "source": [
    "EPOCHS = 20\n",
    "NUM_TRAIN_BATCHES = 5 # 100 topics in 1 batch ---> 5 batches training \n",
    "train_batches = np.array_split(list(range(len(input_data))), NUM_TRAIN_BATCHES)\n",
    "LR = 1e-3"
   ]
  },
  {
   "cell_type": "code",
   "execution_count": 71,
   "metadata": {
    "collapsed": true
   },
   "outputs": [],
   "source": [
    "device = torch.device(\"cuda\" if torch.cuda.is_available() else \"cpu\")\n",
    "net = topicsAE(input_shape=MAX_INPUT_LEN).to(device)\n",
    "optimizer = torch.optim.Adam(net.parameters(), lr=LR)\n",
    "criterion = topicsLoss()"
   ]
  },
  {
   "cell_type": "code",
   "execution_count": null,
   "metadata": {
    "collapsed": true
   },
   "outputs": [],
   "source": [
    "# training \n",
    "for epoch in range(epochs):\n",
    "    loss = 0\n",
    "    for batch in train_batch_data:\n",
    "        # collecting input data\n",
    "        model_input = torch.tensor(input_data[batch[0]:batch[-1]], dtype=torch.float)\n",
    "        batch_topics_embs = torch.tensor(topics_embs[batch[0]:batch[-1]], requires_grad=False)\n",
    "        batch_topics_weights = torch.tensor(topics_weights[batch[0]:batch[-1]],  requires_grad=False)\n",
    "        \n",
    "        optimizer.zero_grad()\n",
    "        outputs = net(model_input)\n",
    "        # get tensor embedding from the autoencoder \n",
    "        activation = net.encoder_hidden_layer(model_input)\n",
    "        activation = torch.relu(activation)\n",
    "        code = net.encoder_output_layer(activation)\n",
    "        tensor_emb = torch.relu(code)\n",
    "        # finally pass everything into the loss \n",
    "        train_loss = criterion(outputs, batch_features)\n",
    "        train_loss.backward()\n",
    "        optimizer.step()\n",
    "        loss += train_loss.item()\n",
    "    loss = loss / len(train_loader)\n",
    "    print(\"epoch : {}/{}, loss = {:.6f}\".format(epoch + 1, epochs, loss))"
   ]
  },
  {
   "cell_type": "code",
   "execution_count": null,
   "metadata": {
    "collapsed": true
   },
   "outputs": [],
   "source": []
  }
 ],
 "metadata": {
  "kernelspec": {
   "display_name": "Python 3",
   "language": "python",
   "name": "python3"
  },
  "language_info": {
   "codemirror_mode": {
    "name": "ipython",
    "version": 3
   },
   "file_extension": ".py",
   "mimetype": "text/x-python",
   "name": "python",
   "nbconvert_exporter": "python",
   "pygments_lexer": "ipython3",
   "version": "3.7.5"
  }
 },
 "nbformat": 4,
 "nbformat_minor": 2
}
