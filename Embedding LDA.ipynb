{
 "cells": [
  {
   "cell_type": "code",
   "execution_count": 1,
   "metadata": {},
   "outputs": [],
   "source": [
    "import tomotopy as tp\n",
    "import pandas as pd\n",
    "import pickle\n",
    "import numpy as np\n",
    "import sys\n",
    "import nltk\n",
    "from nltk import word_tokenize, RegexpTokenizer,PunktSentenceTokenizer, sent_tokenize\n",
    "from nltk.stem import PorterStemmer\n",
    "from nltk.stem import WordNetLemmatizer\n",
    "from nltk.corpus import stopwords\n",
    "import gensim\n",
    "import gensim.corpora as corpora\n",
    "from gensim.utils import simple_preprocess\n",
    "from gensim.models import CoherenceModel\n",
    "import re"
   ]
  },
  {
   "cell_type": "markdown",
   "metadata": {},
   "source": [
    "# Topics embeddings pipeline \n",
    "Here we implement the embedding pipeline for the topics extracted by the collection. <br>\n",
    "The results will be the following: \n",
    "1. Topic embeddings \n",
    "2. Document embeddings \n",
    "3. Other nodes embeddings? "
   ]
  },
  {
   "cell_type": "markdown",
   "metadata": {},
   "source": [
    "## 1. Loading topic model(s) and collection"
   ]
  },
  {
   "cell_type": "code",
   "execution_count": 2,
   "metadata": {},
   "outputs": [],
   "source": [
    "collection = pickle.load(open( \"collection_cleaned_fullwords.p\", \"rb\" ))"
   ]
  },
  {
   "cell_type": "code",
   "execution_count": 3,
   "metadata": {},
   "outputs": [],
   "source": [
    "num_batches = 4\n",
    "batches = np.array_split(collection, num_batches)"
   ]
  },
  {
   "cell_type": "code",
   "execution_count": 61,
   "metadata": {},
   "outputs": [],
   "source": [
    "def get_batch_indices(batches):\n",
    "    res = []\n",
    "    for i,batch in enumerate(batches):\n",
    "        res += [i]*len(batch)\n",
    "    return res\n",
    "batch_indices = get_batch_indices(batches)"
   ]
  },
  {
   "cell_type": "code",
   "execution_count": 4,
   "metadata": {},
   "outputs": [
    {
     "name": "stdout",
     "output_type": "stream",
     "text": [
      "5124\n",
      "5124\n",
      "5123\n",
      "5123\n"
     ]
    }
   ],
   "source": [
    "# number of docs per batch\n",
    "for b in batches: print(len(b))"
   ]
  },
  {
   "cell_type": "markdown",
   "metadata": {},
   "source": [
    "Batch training models "
   ]
  },
  {
   "cell_type": "code",
   "execution_count": 192,
   "metadata": {},
   "outputs": [],
   "source": [
    "num_topics_per_batch = 125\n",
    "models = []\n",
    "model_names = ['LDA1batch1.bin','LDA1batch2.bin','LDA1batch3.bin','LDA1batch4.bin']\n",
    "for name in model_names:\n",
    "    models.append(tp.LDAModel.load(name))"
   ]
  },
  {
   "cell_type": "markdown",
   "metadata": {},
   "source": [
    "## 2. Extract the topics "
   ]
  },
  {
   "cell_type": "code",
   "execution_count": 193,
   "metadata": {},
   "outputs": [],
   "source": [
    "def get_top_topics(document, model, min_score=0.8):\n",
    "    \"\"\" \n",
    "    Extracting top n topics for each document. \n",
    "    Selects the n most likely topics whose p(topic|document) sum to min_score.\n",
    "    \"\"\"\n",
    "    # inserting the document in the model\n",
    "    new_doc = model.make_doc(document)\n",
    "    _,_ = model.infer(new_doc)\n",
    "    # ordering from most probable topic to least one \n",
    "    dist = new_doc.get_topic_dist()\n",
    "    indices = np.flip(np.argsort(dist))\n",
    "    score = 0\n",
    "    indices_kept = []\n",
    "    probs_kept = []\n",
    "    for index in indices:\n",
    "        if score > min_score: break\n",
    "        score += dist[index]\n",
    "        indices_kept.append(index)\n",
    "        probs_kept.append(dist[index])\n",
    "    return list(zip(indices_kept, probs_kept))"
   ]
  },
  {
   "cell_type": "code",
   "execution_count": 194,
   "metadata": {},
   "outputs": [],
   "source": [
    "# extracting topics for the original collection\n",
    "coll2topics = []\n",
    "# this takes a super long time\n",
    "for model, batch in zip(models,batches):\n",
    "    coll2topics += [get_top_topics(doc, model) for doc in batch]"
   ]
  },
  {
   "cell_type": "code",
   "execution_count": 195,
   "metadata": {},
   "outputs": [
    {
     "data": {
      "text/plain": [
       "20494"
      ]
     },
     "execution_count": 195,
     "metadata": {},
     "output_type": "execute_result"
    }
   ],
   "source": [
    "len(coll2topics)"
   ]
  },
  {
   "cell_type": "code",
   "execution_count": 196,
   "metadata": {},
   "outputs": [],
   "source": [
    "def get_top_words(topic, model, min_score=0.8):\n",
    "    \"\"\"\n",
    "    Extracting top n words for each document. \n",
    "    Selects the n most likely words whose p(word|topic) sum to min_score.\n",
    "    \"\"\"\n",
    "    dist = model.get_topic_word_dist(topic)\n",
    "    indices = np.flip(np.argsort(dist))\n",
    "    score = 0\n",
    "    word_kept = []\n",
    "    word_prob_kept = []\n",
    "    for index in indices:\n",
    "        if score > min_score: break\n",
    "        score += dist[index]\n",
    "        word_kept.append(model.used_vocabs[index])\n",
    "        word_prob_kept.append(dist[index])\n",
    "    return list(zip(word_kept, word_prob_kept))"
   ]
  },
  {
   "cell_type": "code",
   "execution_count": 197,
   "metadata": {},
   "outputs": [],
   "source": [
    "topics2words = []\n",
    "topics2words_batched = [] # saving both topics and their batches \n",
    "for model in models: \n",
    "    # extracting only top 25% of the words\n",
    "    twt = [get_top_words(i, model, min_score=0.25) for i in range(num_topics_per_batch)]\n",
    "    topics2words += twt\n",
    "    topics2words_batched += [twt]"
   ]
  },
  {
   "cell_type": "code",
   "execution_count": 198,
   "metadata": {},
   "outputs": [
    {
     "data": {
      "text/plain": [
       "500"
      ]
     },
     "execution_count": 198,
     "metadata": {},
     "output_type": "execute_result"
    }
   ],
   "source": [
    "len(topics2words)"
   ]
  },
  {
   "cell_type": "code",
   "execution_count": 199,
   "metadata": {},
   "outputs": [
    {
     "data": {
      "text/plain": [
       "4"
      ]
     },
     "execution_count": 199,
     "metadata": {},
     "output_type": "execute_result"
    }
   ],
   "source": [
    "len(topics2words_batched)"
   ]
  },
  {
   "cell_type": "markdown",
   "metadata": {},
   "source": [
    "## 3. Embedding words in topics"
   ]
  },
  {
   "cell_type": "markdown",
   "metadata": {},
   "source": [
    "We will use Glove Embeddings to embed the words in the topics. "
   ]
  },
  {
   "cell_type": "code",
   "execution_count": 200,
   "metadata": {},
   "outputs": [],
   "source": [
    "import pickle \n",
    "import numpy as np \n",
    "import os \n",
    "import time\n",
    "import torch"
   ]
  },
  {
   "cell_type": "code",
   "execution_count": 201,
   "metadata": {},
   "outputs": [],
   "source": [
    "# Loading from binary the glove vocabulary and embedding \n",
    "glove_vocab_path = \"glove_vocab\"\n",
    "glove_embedding_path = \"glove_embedding\"\n",
    "with open(glove_vocab_path, \"rb\") as fp:  \n",
    "    glove_vocab = pickle.load(fp)\n",
    "with open(glove_embedding_path, \"rb\") as fp: \n",
    "    glove_embedding = pickle.load(fp)"
   ]
  },
  {
   "cell_type": "code",
   "execution_count": 202,
   "metadata": {},
   "outputs": [],
   "source": [
    "def get_list_embeddings_topic(topic, vocab, embedding, silence=False):\n",
    "    \"\"\" Topic is represented as a list of tuples (word, word weight)\"\"\"\n",
    "    matched = 0 \n",
    "    total = 0\n",
    "    topic_embeddings = []\n",
    "    topic_weights = []\n",
    "    \n",
    "    start = time.time()\n",
    "    \n",
    "    for item in topic: \n",
    "        word, weight = item\n",
    "        total+=1\n",
    "        #check if the word appears in vocabulary \n",
    "        if word in vocab.values(): \n",
    "            matched+=1\n",
    "            emb = embedding[list(vocab.values()).index(word)]\n",
    "            topic_embeddings += [emb.numpy()]\n",
    "            topic_weights += [weight]\n",
    "    \n",
    "    end = time.time()\n",
    "    if not silence: \n",
    "        print(\"Total time: \"+str(round(end-start,2))+\" s.\")\n",
    "        print(\"Proportion of matched words: \"+str(round(matched/total,2)))\n",
    "    return topic_embeddings, topic_weights"
   ]
  },
  {
   "cell_type": "code",
   "execution_count": 203,
   "metadata": {},
   "outputs": [
    {
     "name": "stdout",
     "output_type": "stream",
     "text": [
      "Total time: 0.25 s.\n",
      "Proportion of matched words: 0.96\n"
     ]
    }
   ],
   "source": [
    "topic_embeddings, topic_weights = get_list_embeddings_topic(topics2words[0], glove_vocab, glove_embedding)"
   ]
  },
  {
   "cell_type": "markdown",
   "metadata": {},
   "source": [
    "# Embedding nodes - baseline\n",
    "\n",
    "## 4. Embedding topics "
   ]
  },
  {
   "cell_type": "code",
   "execution_count": 204,
   "metadata": {},
   "outputs": [],
   "source": [
    "def get_convex_combination(weights, embeddings):\n",
    "    \"\"\" Obtain an embedding as convex combination of embedding vectors according \n",
    "    to the weights provided.\"\"\"\n",
    "    weight_vec = np.asarray(weights)\n",
    "    emb_vec = np.asarray(embeddings)\n",
    "    normalized_weights = weight_vec / np.sqrt(np.sum(weight_vec**2))\n",
    "    return normalized_weights.transpose().dot(emb_vec)"
   ]
  },
  {
   "cell_type": "code",
   "execution_count": 205,
   "metadata": {},
   "outputs": [],
   "source": [
    "topic_emb = get_convex_combination(topic_weights, topic_embeddings)"
   ]
  },
  {
   "cell_type": "code",
   "execution_count": 209,
   "metadata": {},
   "outputs": [],
   "source": [
    "def get_convex_topics_embeddings(topics_collection, vocab, embedding):\n",
    "    \"\"\" Runs the above function over a whole collection of topics\"\"\"\n",
    "    topics_embs = []\n",
    "    for topic2word in topics_collection:\n",
    "        # extract the emebddings for the words in the topic \n",
    "        topic_embeddings, topic_weights = get_list_embeddings_topic(topic2word, vocab, embedding, silence=True)\n",
    "        # combine the embeddings with a convex sum \n",
    "        topic_emb = get_convex_combination(topic_weights, topic_embeddings)\n",
    "        topics_embs += [topic_emb]\n",
    "    return topics_embs"
   ]
  },
  {
   "cell_type": "code",
   "execution_count": 207,
   "metadata": {},
   "outputs": [],
   "source": [
    "# TODO: look at topic embeddings across batches and measure their similarity"
   ]
  },
  {
   "cell_type": "code",
   "execution_count": 210,
   "metadata": {},
   "outputs": [],
   "source": [
    "topics_embs = get_convex_topics_embeddings(topics2words, glove_vocab, glove_embedding)"
   ]
  },
  {
   "cell_type": "code",
   "execution_count": 211,
   "metadata": {},
   "outputs": [],
   "source": [
    "topics_embs_batched = [get_convex_topics_embeddings(t2w, glove_vocab, glove_embedding) for t2w in topics2words_batched]"
   ]
  },
  {
   "cell_type": "markdown",
   "metadata": {},
   "source": [
    "Now let's have a look at the results!"
   ]
  },
  {
   "cell_type": "code",
   "execution_count": 212,
   "metadata": {},
   "outputs": [],
   "source": [
    "def nearest_neighbors(this, others):\n",
    "    \"\"\"Returns the most similar vectors among others to the given one \"\"\"\n",
    "    cos = torch.nn.CosineSimilarity(dim = -1)\n",
    "    ranks = cos(torch.tensor(this), torch.tensor(others))\n",
    "    mostSimilar = []\n",
    "    return ranks.numpy().argsort()[::-1] "
   ]
  },
  {
   "cell_type": "code",
   "execution_count": 24,
   "metadata": {},
   "outputs": [],
   "source": [
    "# let's look at the first topic \n",
    "nns_100 = nearest_neighbors(topics_embs[100], topics_embs)"
   ]
  },
  {
   "cell_type": "code",
   "execution_count": 213,
   "metadata": {},
   "outputs": [],
   "source": [
    "def visualise_most_similar_topics(topic_id, batch_id, topics_embs, topics2words,\n",
    "                                  topics_embs_batched, topics2words_batched, n=10):\n",
    "    \"\"\"Prints the words of the topic and its neareast neighbors.\"\"\"\n",
    "    nns = nearest_neighbors(topics_embs_batched[batch_id][topic_id], topics_embs)\n",
    "    print(\"-\"*10)\n",
    "    print(\"Topic \"+ str(topic_id))\n",
    "    print(\" \".join(item[0] for item in topics2words_batched[batch_id][topic_id]))\n",
    "    print(\"-\"*10)\n",
    "    print(str(n)+\" most similar topics\")\n",
    "    for i in range(n):\n",
    "        print(\"Topic \"+str(nns[i+1]))\n",
    "        print(\" \".join(item[0] for item in topics2words[nns[i+1]]))"
   ]
  },
  {
   "cell_type": "code",
   "execution_count": 214,
   "metadata": {},
   "outputs": [
    {
     "name": "stdout",
     "output_type": "stream",
     "text": [
      "----------\n",
      "Topic 35\n",
      "pm soils quartz fr pretreatment soil floodplain pre grid graphite confinement steam lean environment\n",
      "----------\n",
      "3 most similar topics\n",
      "Topic 426\n",
      "soil crisis plants soils restoration biomass communities growth\n",
      "Topic 89\n",
      "soil drought plant biomass organic microbial fluxes ecosystem nutrient\n",
      "Topic 277\n",
      "sediment sediments water sedimentary deep depth basin hypoxia incision mixing catchment\n"
     ]
    }
   ],
   "source": [
    "visualise_most_similar_topics(35, 1, topics_embs, topics2words,topics_embs_batched, topics2words_batched, n=3)"
   ]
  },
  {
   "cell_type": "markdown",
   "metadata": {},
   "source": [
    "## 5. Documents embeddings"
   ]
  },
  {
   "cell_type": "code",
   "execution_count": 215,
   "metadata": {},
   "outputs": [],
   "source": [
    "abstracts_data = pd.read_csv(\"abstracts_eng.csv\")"
   ]
  },
  {
   "cell_type": "code",
   "execution_count": 216,
   "metadata": {},
   "outputs": [
    {
     "name": "stdout",
     "output_type": "stream",
     "text": [
      "Uncertainty shapes the trajectory of business cycles and remains a central research topic in Macroeconomics. When studying the impact of uncertainty on the economy, economists use different uncertainty measures. While all indicators approximate uncertainty along some certain dimension, none of the indicators directly captures Knightian Uncertainty. According to Knight, uncertainty represents a situation in which it is no longer possible to form expectations about the future. In this study, we pr\n",
      "\n",
      "uncertainty shapes trajectory business cycles remains central research topic macroeconomics studying impact uncertainty economy economists use different uncertainty measures indicators approximate uncertainty along certain dimension none indicators directly captures knightian uncertainty according knight uncertainty represents situation longer possible form expectations future study propose method directly measure knightian uncertainty approach relies\n"
     ]
    }
   ],
   "source": [
    "# checking the ordering by visual inspection \n",
    "n = np.random.randint(len(collection))\n",
    "print(abstracts_data[\"abstract\"][n][0:500]) \n",
    "print(\"\")\n",
    "print(\" \".join(collection[n][0:50]))"
   ]
  },
  {
   "cell_type": "code",
   "execution_count": 217,
   "metadata": {},
   "outputs": [
    {
     "data": {
      "text/html": [
       "<div>\n",
       "<style scoped>\n",
       "    .dataframe tbody tr th:only-of-type {\n",
       "        vertical-align: middle;\n",
       "    }\n",
       "\n",
       "    .dataframe tbody tr th {\n",
       "        vertical-align: top;\n",
       "    }\n",
       "\n",
       "    .dataframe thead th {\n",
       "        text-align: right;\n",
       "    }\n",
       "</style>\n",
       "<table border=\"1\" class=\"dataframe\">\n",
       "  <thead>\n",
       "    <tr style=\"text-align: right;\">\n",
       "      <th></th>\n",
       "      <th>abstract</th>\n",
       "      <th>id</th>\n",
       "      <th>title</th>\n",
       "      <th>topics</th>\n",
       "      <th>batchID</th>\n",
       "    </tr>\n",
       "  </thead>\n",
       "  <tbody>\n",
       "    <tr>\n",
       "      <th>0</th>\n",
       "      <td>The goal of this note is to introduce new clas...</td>\n",
       "      <td>188444.0</td>\n",
       "      <td>Asymptotic versions for operators and operator...</td>\n",
       "      <td>[(60, 0.24186938), (51, 0.10589432), (79, 0.07...</td>\n",
       "      <td>0</td>\n",
       "    </tr>\n",
       "    <tr>\n",
       "      <th>1</th>\n",
       "      <td>We will review a Lemma published by Ran Raz in...</td>\n",
       "      <td>188623.0</td>\n",
       "      <td>Some remarks on a lemma of Ran Raz</td>\n",
       "      <td>[(5, 0.20627172), (40, 0.16780958), (29, 0.108...</td>\n",
       "      <td>0</td>\n",
       "    </tr>\n",
       "    <tr>\n",
       "      <th>2</th>\n",
       "      <td>China’s growing influence in Europe has the po...</td>\n",
       "      <td>346708.0</td>\n",
       "      <td>China as a Stress Test for Europe’s Coherence</td>\n",
       "      <td>[(0, 0.14767313), (14, 0.1092189), (25, 0.0920...</td>\n",
       "      <td>0</td>\n",
       "    </tr>\n",
       "    <tr>\n",
       "      <th>3</th>\n",
       "      <td>Nowhere is China's Belt and Road Initiative (B...</td>\n",
       "      <td>346709.0</td>\n",
       "      <td>On the Belt, on the Road: China’s Pivot to Eur...</td>\n",
       "      <td>[(57, 0.16084893), (0, 0.14146255), (16, 0.098...</td>\n",
       "      <td>0</td>\n",
       "    </tr>\n",
       "    <tr>\n",
       "      <th>4</th>\n",
       "      <td>Passenger transit modes typical of the urban s...</td>\n",
       "      <td>187461.0</td>\n",
       "      <td>Applications and Future Developments: Modellin...</td>\n",
       "      <td>[(14, 0.11849773), (16, 0.07719317), (2, 0.072...</td>\n",
       "      <td>0</td>\n",
       "    </tr>\n",
       "  </tbody>\n",
       "</table>\n",
       "</div>"
      ],
      "text/plain": [
       "                                            abstract        id  \\\n",
       "0  The goal of this note is to introduce new clas...  188444.0   \n",
       "1  We will review a Lemma published by Ran Raz in...  188623.0   \n",
       "2  China’s growing influence in Europe has the po...  346708.0   \n",
       "3  Nowhere is China's Belt and Road Initiative (B...  346709.0   \n",
       "4  Passenger transit modes typical of the urban s...  187461.0   \n",
       "\n",
       "                                               title  \\\n",
       "0  Asymptotic versions for operators and operator...   \n",
       "1                 Some remarks on a lemma of Ran Raz   \n",
       "2      China as a Stress Test for Europe’s Coherence   \n",
       "3  On the Belt, on the Road: China’s Pivot to Eur...   \n",
       "4  Applications and Future Developments: Modellin...   \n",
       "\n",
       "                                              topics  batchID  \n",
       "0  [(60, 0.24186938), (51, 0.10589432), (79, 0.07...        0  \n",
       "1  [(5, 0.20627172), (40, 0.16780958), (29, 0.108...        0  \n",
       "2  [(0, 0.14767313), (14, 0.1092189), (25, 0.0920...        0  \n",
       "3  [(57, 0.16084893), (0, 0.14146255), (16, 0.098...        0  \n",
       "4  [(14, 0.11849773), (16, 0.07719317), (2, 0.072...        0  "
      ]
     },
     "execution_count": 217,
     "metadata": {},
     "output_type": "execute_result"
    }
   ],
   "source": [
    "enriched = abstracts_data\n",
    "enriched[\"topics\"] = coll2topics\n",
    "enriched[\"batchID\"] = batch_indices\n",
    "#enriched=enriched.explode(\"topics\")\n",
    "enriched.head(5)"
   ]
  },
  {
   "cell_type": "code",
   "execution_count": 218,
   "metadata": {},
   "outputs": [],
   "source": [
    "docs2topics = enriched[[\"topics\",\"batchID\"]].values.tolist()"
   ]
  },
  {
   "cell_type": "code",
   "execution_count": 219,
   "metadata": {},
   "outputs": [],
   "source": [
    "def get_list_embeddings_document(doc, topics_embedding, silence=False):\n",
    "    \"\"\" Returns the list of topic embeddings and topic weights for the given document.\n",
    "    The document is represented as the tuple ([(topic_id, topic_weight)], batch_id)\"\"\"\n",
    "    doc_embeddings = []\n",
    "    doc_weights = []\n",
    "    \n",
    "    start = time.time()\n",
    "    \n",
    "    topics, batch_id = doc\n",
    "    \n",
    "    for topic in topics: \n",
    "        topic_id, weight = topic\n",
    "        emb = topics_embedding[batch_id][topic_id]\n",
    "        doc_embeddings += [emb]\n",
    "        doc_weights += [weight]\n",
    "    \n",
    "    end = time.time()\n",
    "    if not silence: \n",
    "        print(\"Total time: \"+str(round(end-start,2))+\" s.\")\n",
    "    return doc_embeddings, doc_weights"
   ]
  },
  {
   "cell_type": "code",
   "execution_count": 220,
   "metadata": {},
   "outputs": [
    {
     "name": "stdout",
     "output_type": "stream",
     "text": [
      "Total time: 0.0 s.\n"
     ]
    },
    {
     "data": {
      "text/plain": [
       "10"
      ]
     },
     "execution_count": 220,
     "metadata": {},
     "output_type": "execute_result"
    }
   ],
   "source": [
    "doc0_embs = get_list_embeddings_document(docs2topics[0], topics_embs_batched)\n",
    "len(doc0_embs[0])"
   ]
  },
  {
   "cell_type": "code",
   "execution_count": 221,
   "metadata": {},
   "outputs": [],
   "source": [
    "# finally documents embeddings \n",
    "def get_convex_docs_embeddings(documents_collection, topics_embedding):\n",
    "    \"\"\" Runs the above function over a whole collection of documents\"\"\"\n",
    "    docs_embs = []\n",
    "    for doc2topics in documents_collection:\n",
    "        # extract the emebddings for the words in the topic \n",
    "        doc_embeddings, doc_weights = get_list_embeddings_document(doc2topics, topics_embedding, silence=True)\n",
    "        # combine the embeddings with a convex sum \n",
    "        doc_emb = get_convex_combination(doc_embeddings, doc_weights)\n",
    "        docs_embs += [doc_emb]\n",
    "    return docs_embs"
   ]
  },
  {
   "cell_type": "code",
   "execution_count": 222,
   "metadata": {},
   "outputs": [],
   "source": [
    "documents_embeddings = get_convex_docs_embeddings(docs2topics, topics_embs_batched)"
   ]
  },
  {
   "cell_type": "code",
   "execution_count": 223,
   "metadata": {},
   "outputs": [],
   "source": [
    "def visualise_most_similar_docs(doc_id, docs_embeddings, docs_collection, n=10):\n",
    "    \"\"\"Prints the words of the topic and its neareast neighbors.\"\"\"\n",
    "    nns = nearest_neighbors(docs_embeddings[doc_id], docs_embeddings)\n",
    "    print(\"Document \"+ str(doc_id))\n",
    "    print((docs_collection[doc_id]).partition(\"||\")[0])\n",
    "    print(\"-\"*10)\n",
    "    print(str(n)+\" most similar documents in the collection\")\n",
    "    for i in range(n):\n",
    "        print(\"\")\n",
    "        print(\"Document \"+str(nns[i+1]))\n",
    "        print((docs_collection[nns[i+1]]).partition(\"||\")[0])"
   ]
  },
  {
   "cell_type": "code",
   "execution_count": 224,
   "metadata": {
    "scrolled": false
   },
   "outputs": [
    {
     "name": "stdout",
     "output_type": "stream",
     "text": [
      "Document 5\n",
      "As the strategic rivalry between the US and China intensifies, militarized crises are becoming more likely and a major military conflict is no longer as remote as it once seemed. The far-reaching modernization of its armed forces has already led China to embrace a more sanguine view of how such a conflict might play out. Meanwhile, the United States is struggling to formulate a coherent response to a potential Chinese attempt to recast the regional order by force. Although war remains unlikely, the need to get real about the possibility is now more urgent than at any point in recent decades.\n",
      "----------\n",
      "10 most similar documents in the collection\n",
      "\n",
      "Document 6\n",
      "US-Chinese rivalry is becoming the prime mover of global affairs. Though the long-term trajectory of this critical relationship is uncertain, several salient factors are already apparent: pernicious variations of nationalism on both sides; foreign policies that are increasingly shaped by domestic problems; and a growing tendency to allow expectations of future competition to drive the development of grand strategy. If current trends continue, the dynamics of the US-China relationship will further imperil the rules-based international order, with far-reaching consequences well beyond East Asia.\n",
      "\n",
      "Document 105\n",
      "Strategic Trends 2019 offers a concise analysis of major developments in world affairs, with a focus on international security. In the first chapter, Jack Thompson considers the consequences of the Trump administration’s new approach to trade policy. In his view, the United States is powerful enough to extract trade concessions from all of its trading partners, and there may be some short-term advantages in following such a course of action. In the second chapter, Michael Haas examines the shift between the West and non-Western states in the field of defense technologies. He argues that Western policymakers should act on several fronts to slow the process, while also adapting to a world in which they no longer enjoy substantial military-technological superiority. In chapter three, Jeronim Perović considers the emergence of the Eurasian Economic Union (EAEU), a surprisingly robust multilateral organization of post-Soviet states, which is not a Russian puppet, and which cooperates in economic, political, and military matters. Finally, in chapter four, Lisa Watanabe looks as Russia’s re-emergence as a power broker in the Middle East and North Africa, with a focus on countries of particular interest to Europe when it comes to security issues, economic ties, and immigration.\n",
      "\n",
      "Document 1516\n",
      "During the last four and half decades of physical urbanization, Muscat, the capital city of Oman, has received a massive influx of local and international migrants. Based on the National Centre of Statistics and Information (NCSI) in April 2016, Oman’s population was recorded at 4,441,448 with the population of Muscat Governorate forming more than half of Oman’s total population (2,395,412). According the NCSI statistics in 2010, Muscat represents the highest rate of urban population in Oman by 97.44% (almost 36% of the total urban population in Oman). This swift demographic change has reshaped the overall urban fabric of the city.  On a spatial level, although Muscat Governorate represents merely 1.3% of Oman’s total area, the suitable areas for development have been nearly exploited. Horizontal develop- ment based on villa residences has largely influenced the rapid consumption of land. The physical terrains in Muscat such as mountains, creeks, and valleys also limit the amount of proper land for urban development.  Urban growth in Muscat has endured a long history of political and socio-economic variables. Obviously, these variables have largely affected the entire urban pattern at every period of time. Unfortunately, the various governmental institutions responsible for urban management since the early seventies created imbalanced attitudes between the availability of natural resources and the rate of consumption. Urban governance based on centralized decision-making has widened the urban issues. The land distribution system has largely contributed of rapid consumption of land. For instance, despite its limited area and large population, Muscat’s residential plot size is equivalent to those in other areas throughout Oman. The land granting system that is based on random lottery has largely contributed to the emergence of low-density, scattered territory in Muscat and many areas in Oman. Land for investment that could enhance the economy or that provides jobs has become scarce. Furthermore, huge areas have been consumed for automobile-based use. Obviously, the sharp increase of population in Muscat, which has quadrupled several times during the past four decades according to the NCSI statistics, has largely contributed on the depletion of available natural resources. As Muscat serves as the headquarters for most of governmental offices and companies, it has been the focus of internal migration thus receiving the highest number of job seekers. Meanwhile, as Muscat serves as the centre for major government and investment, it received the bulk of the expatriate population both in terms of “white collar” and “blue collar” workers. Horizontal low-density areas have been developed to house the influx of those immigrants. With increases in traffic and in the absence of a viable public transport system, huge areas in Muscat have been asphalted for vehicular use.  This paper intends to visualize the transformation of socioeconomic conditions and their impacts on the current urban patterns. It attempts to focus on the negative consequences that might be encountered if the current urban management persists as Oman moves toward a post-oil period. Meanwhile, it provides indicators to urban governors and deci- sion-makers as to the need of urgent intervention towards resource saving, and socially- and economically-balanced utilization of limited resources.\n",
      "\n",
      "Document 126\n",
      "Strategic Trends 2020 offers a concise analysis of major developments in world affairs, with a primary focus on international security. In the first chapter, Jack Thompson explores the main domestic determinants of the US-China rivalry and their implications at the international level. In the second chapter, Michael Haas and Niklas Masuhr show that a military conflict between the US and China is no longer as remote as it once seemed and that both sides are now very actively planning for the eventuality of a major war in the next decade or two. In Chapter 3, Henrik Larsen and Linda Maduz address the implications of China’s targeted influence attempts and of its Belt and Road initiative (BRI) for Europe. In the final chapter, Benno Zogg explores the BRI and its potential effectiveness from a regional perspective, focusing on China’s potential Eurasian zone of influence.\n",
      "\n",
      "Document 2823\n",
      "We propose a new set of stylized facts quantifying the structure of financial markets. The key idea is to study the combined structure of both investment strategies and prices in order to open a qualitatively new level of understanding of financial and economic markets. We study the detailed order flow on the Shenzhen Stock Exchange of China for the whole year of 2003. This enormous dataset allows us to compare (i) a closed national market (A-shares) with an international market (B-shares), (ii) individuals and institutions, and (iii) real traders to random strategies with respect to timing that share otherwise all other characteristics. We find in general that more trading results in smaller net return due to trading frictions, with the exception that the net return is independent of the trading frequency for A-share individual traders. We unveiled quantitative power laws with non-trivial exponents, that quantify the deterioration of performance with frequency and with holding period of the strategies used by traders. Random strategies are found to perform much better than real ones, both for winners and losers. Surprising large arbitrage opportunities exist, especially when using zero-intelligence strategies. This is a diagnostic of possible inefficiencies of these financial markets.\n",
      "\n",
      "Document 4720\n",
      "Ecosystems provide life-sustaining services upon which human civilization depends, but their degradation largely continues unabated. Spatially explicit information on ecosystem services (ES) provision is required to better guide decision making, particularly for mountain systems, which are characterized by vertical gradients and isolation with high topographic complexity, making them particularly sensitive to global change. But while spatially explicit ES quantification and valuation allows the identification of areas of abundant or limited supply of and demand for ES, the accuracy and usefulness of the information varies considerably depending on the scale and methods used. Using four case studies from mountainous regions in Europe and the U.S., we quantify information gains and losses when mapping five ES - carbon sequestration, flood regulation, agricultural production, timber harvest, and scenic beauty - at coarse and fine resolution (250 m vs. 25 m in Europe and 300 m vs. 30 m in the U.S.). We analyze the effects of scale on ES estimates and their spatial pattern and show how these effects are related to different ES, terrain structure and model properties. ES estimates differ substantially between the fine and coarse resolution analyses in all case studies and across all services. This scale effect is not equally strong for all ES. We show that spatially explicit information about non-clustered, isolated ES tends to be lost at coarse resolution and against expectation, mainly in less rugged terrain, which calls for finer resolution assessments in such contexts. The effect of terrain ruggedness is also related to model properties such as dependency on land use-land cover data. We close with recommendations for mapping ES to make the resulting maps more comparable, and suggest a four-step approach to address the issue of scale when mapping ES that can deliver information to support ES-based decision making with greater accuracy and reliability.\n",
      "\n",
      "Document 1966\n",
      "Understanding  customer  mobility  patterns  to  com-mercial  districts  is  crucial  for  urban  planning,  facility  manage-ment,  and  business  strategies.  Trade  areas  are  a  widely  appliedmeasure  to  quantify  where  the  visitors  are  from.  Traditionaltrade area analysis is limited to small-scale or store-level studiesbecause  information  such  as  visits  to  competitor  commercialentities  and  place  of  residence  is  collected  by  labour-intensivequestionnaires or heavily biased location-based social media data.In  this  paper,  we  propose  CellTradeMap,  a  novel  district-leveltrade area analysis framework using mobile flow records (MFRs),a  type  of  fine-grained  cellular  network  data.  CellTradeMap  ex-tracts robust location information from the irregularly sampled,noisy  MFRs,  adapts  the  generic  trade  area  analysis  frameworkto incorporate cellular data, and enhances the original trade areamodel with cellular-based features. We evaluate CellTradeMap ona large-scale cellular network dataset covering 3.5 million mobilephone users in a metropolis in China. Experimental results showthat the trade areas extracted by CellTradeMap are aligned withdomain  knowledge  and  CellTradeMap  can  model  trade  areaswith  a  high  predictive  accuracy.\n",
      "\n",
      "Document 57\n",
      "The chapter seeks to demonstrate how governing and managing the uncertain future has become an increasingly important reference point in individual and global public health. It is argued that both domains – while building upon different methodologies and tools – are driven by a growing ‘anticipative medicalization’: they are shaped by attempts to implement comprehensive and all-encompassing networks of diagnostics and disease surveillance that allow fewer and fewer risks to our wellbeing – from defective genes to newly emerging pathogens – to go unnoticed. This development has largely been enabled by the unprecedented progress in digital health technologies and artificial intelligence and by the accumulation of massive amounts of health-related data. Yet, while we currently witness an almost unfettered optimism in technological feasibility and the benefits of these advances, many fundamental ethical and political-regulatory questions remain unsolved.\n",
      "\n",
      "Document 485\n",
      "Android app repacking allows malicious actors to modify apps, bundle them with malware or steal revenue. Current detection mechanisms of app distribution services are questionable in their effectiveness, and other proposed repackaging protection schemes do not have the necessary protection against circumvention. We propose a repackaging protection architecture that verifies the app’s integrity at runtime. We make use of encrypted sections of bytecode that can be decrypted with a key derived at runtime. The method partially relies on native code, and as such is difficult to circumvent. We show that our implementation provides a practical integration in the workflow of an app developer.\n",
      "\n",
      "Document 3053\n",
      "Ongoing conflict resolution in Colombia brings an opportunity for economic development of impoverished communities and a conservation threat of deforestation in newly accessible rural areas. Ecotourism is often proposed as a “win–win” solution for developing countries to meet both economic and conservation needs. With the highest number of bird species of any country, including 443 rare species highly valued by bird-watchers, Colombia has a unique opportunity to develop a lucrative and conservation-friendly bird-watching tourism industry in postconflict areas. Through geospatial analysis of conflict zones, bird distributions, protected areas, forest cover, and bird-watching activity, we identify areas of Colombia with unrealized bird-watching potential that are ripe for the development of synergistic conservation-ecotourism projects. An investment in ecotourism infrastructure and training by the Colombian government may be a conservation-friendly alternative to natural resource extraction that could alleviate poverty without degrading natural capital in postconflict Colombia.\n"
     ]
    }
   ],
   "source": [
    "visualise_most_similar_docs(5, documents_embeddings, abstracts_data[\"abstract\"], n=10)"
   ]
  },
  {
   "cell_type": "code",
   "execution_count": null,
   "metadata": {},
   "outputs": [],
   "source": []
  },
  {
   "cell_type": "markdown",
   "metadata": {},
   "source": [
    "## 6. Authors embeddings"
   ]
  },
  {
   "cell_type": "code",
   "execution_count": 133,
   "metadata": {},
   "outputs": [],
   "source": [
    "# loading the graph data \n",
    "graph_data = pd.read_csv(\"graph_data_final.csv\")\n",
    "# author2doc\n",
    "# org2people"
   ]
  },
  {
   "cell_type": "code",
   "execution_count": null,
   "metadata": {},
   "outputs": [],
   "source": []
  },
  {
   "cell_type": "markdown",
   "metadata": {},
   "source": [
    "## 5. Embedding topics - representation learning "
   ]
  },
  {
   "cell_type": "code",
   "execution_count": 27,
   "metadata": {},
   "outputs": [],
   "source": [
    "# Idea: a simple autoencoder to reconstruct topics embeddings\n",
    "# The autoencoder takes as input the topic 2 word distribution and finds \n",
    "# a representation of the topic able to reconstruct it (+ idea: add noise in the input)\n",
    "# We will enforce similarity with the topic words by applying a regulariser that measures \n",
    "# the non-similarity with the topic words "
   ]
  },
  {
   "cell_type": "code",
   "execution_count": 28,
   "metadata": {},
   "outputs": [],
   "source": [
    "import torch \n",
    "from torch import nn"
   ]
  },
  {
   "cell_type": "code",
   "execution_count": 29,
   "metadata": {},
   "outputs": [
    {
     "ename": "SyntaxError",
     "evalue": "invalid syntax (<ipython-input-29-6036a234a8c6>, line 17)",
     "output_type": "error",
     "traceback": [
      "\u001b[1;36m  File \u001b[1;32m\"<ipython-input-29-6036a234a8c6>\"\u001b[1;36m, line \u001b[1;32m17\u001b[0m\n\u001b[1;33m    total loss =\u001b[0m\n\u001b[1;37m             ^\u001b[0m\n\u001b[1;31mSyntaxError\u001b[0m\u001b[1;31m:\u001b[0m invalid syntax\n"
     ]
    }
   ],
   "source": [
    "class topicsLoss(nn.Module):\n",
    "    def __init__(self, **kwargs):\n",
    "        super().__init__()\n",
    "        self.mse = nn.MSELoss()\n",
    "        \n",
    "    def topic_words_dissimilarity(self, hidden, topicwords_embs, topicwords_weights):\n",
    "        \"\"\" \n",
    "        topicwords_embs: torch tensor of size BATCH x NUM_WORDS x EMB_DIM \n",
    "        topicwords_weights: torch tensor of size BATCH x NUM_WORDS \n",
    "        \n",
    "        \"\"\"\n",
    "        # 1. normalise the weights \n",
    "        normalized_weights = weight_vec / np.sqrt(np.sum(weight_vec**2))\n",
    "        # 2. compute hidden - embeddings distances\n",
    "        distances = torch.cdist(topicwords_embs,hidden) # B x W\n",
    "        # 3. dot product of weights and distances \n",
    "        total loss = \n",
    "        return total_loss \n",
    "    \n",
    "    def forward(self, outputs, targets, hidden, topicswords_embs, topicswords_weights):\n",
    "        loss = self.mse(outputs,targets) + self.topic_words_dissimilarity(hidden, topicswords_embs, topicswords_weights)\n",
    "        return loss \n",
    "        \n",
    "    \n",
    "class topicsAE(nn.Module):\n",
    "    def __init__(self, **kwargs):\n",
    "        super().__init__()\n",
    "        \"\"\" \n",
    "        simply 4 shrinking linear layers with relu non linearities \n",
    "         - words2topic max -----> 150 \n",
    "         - 150 -----> 300\n",
    "         - 300 -----> 150\n",
    "         - 150 -----> words2topic max\n",
    "        \"\"\"\n",
    "        self.encoder_hidden_layer = nn.Linear(in_features=kwargs[\"input_shape\"], out_features=150)\n",
    "        self.encoder_output_layer = nn.Linear(in_features=150, out_features=300)\n",
    "        self.decoder_hidden_layer = nn.Linear(in_features=300, out_features=150)\n",
    "        self.decoder_output_layer = nn.Linear(in_features=150, out_features=kwargs[\"input_shape\"])\n",
    "\n",
    "    def forward(self, features):\n",
    "        activation = self.encoder_hidden_layer(features)\n",
    "        activation = torch.relu(activation)\n",
    "        code = self.encoder_output_layer(activation)\n",
    "        code = torch.relu(code)\n",
    "        activation = self.decoder_hidden_layer(code)\n",
    "        activation = torch.relu(activation)\n",
    "        activation = self.decoder_output_layer(activation)\n",
    "        reconstructed = torch.relu(activation)\n",
    "        return reconstructed\n",
    "    "
   ]
  },
  {
   "cell_type": "code",
   "execution_count": 166,
   "metadata": {},
   "outputs": [
    {
     "data": {
      "text/plain": [
       "torch.Size([100, 100, 50])"
      ]
     },
     "execution_count": 166,
     "metadata": {},
     "output_type": "execute_result"
    }
   ],
   "source": [
    "torch.cdist(c, a).size()"
   ]
  },
  {
   "cell_type": "code",
   "execution_count": 163,
   "metadata": {},
   "outputs": [
    {
     "data": {
      "text/plain": [
       "torch.Size([100, 300, 1])"
      ]
     },
     "execution_count": 163,
     "metadata": {},
     "output_type": "execute_result"
    }
   ],
   "source": [
    "torch.matmul(a.transpose(1,2),b.unsqueeze(2)).size()"
   ]
  },
  {
   "cell_type": "code",
   "execution_count": 154,
   "metadata": {},
   "outputs": [],
   "source": [
    "# input data \n",
    "# the input to the model is a set of words_indices vectors \n",
    "def get_input_data(topics2words, vocab, max_len):\n",
    "    \"\"\" Returns a list of word indices for each of the topics \n",
    "    given as input. \"\"\"\n",
    "    words_idxs=[]\n",
    "    topics_embs=[]\n",
    "    topics_weights=[]\n",
    "    for topic in topics2words: \n",
    "        twi = [0]*max_len\n",
    "        topic_embeddings, topic_weights = get_list_embeddings_topic(topic, glove_vocab, glove_embedding, silence=True)\n",
    "        # padding the vectors before adding them to the list \n",
    "        topics_embs += [F.pad(torch.tensor(topic_embeddings, requires_grad=False), [0,0,0,max_len-len(topic_embeddings)])] \n",
    "        topics_weights += [F.pad(torch.tensor(topic_weights,  requires_grad=False), \n",
    "                                 [0,max_len-len(topic_weights)])]\n",
    "        for i,item in enumerate(topic): \n",
    "            word = item[0]\n",
    "            try: # could fail if word not in the vocabulary\n",
    "                twi[i] = list(vocab.values()).index(word)\n",
    "            except Exception as e: pass\n",
    "        words_idxs += [twi] \n",
    "    return words_idxs, topics_embs, topics_weights"
   ]
  },
  {
   "cell_type": "code",
   "execution_count": 130,
   "metadata": {},
   "outputs": [],
   "source": [
    "MAX_INPUT_LEN = 50\n",
    "input_data, topics_embs, topics_weights = get_input_data(topics2words, glove_vocab, MAX_INPUT_LEN)"
   ]
  },
  {
   "cell_type": "code",
   "execution_count": 141,
   "metadata": {},
   "outputs": [],
   "source": [
    "EPOCHS = 20\n",
    "NUM_TRAIN_BATCHES = 5 # 100 topics in 1 batch ---> 5 batches training \n",
    "train_batches = np.array_split(list(range(len(input_data))), NUM_TRAIN_BATCHES)\n",
    "LR = 1e-3"
   ]
  },
  {
   "cell_type": "code",
   "execution_count": 71,
   "metadata": {},
   "outputs": [],
   "source": [
    "device = torch.device(\"cuda\" if torch.cuda.is_available() else \"cpu\")\n",
    "net = topicsAE(input_shape=MAX_INPUT_LEN).to(device)\n",
    "optimizer = torch.optim.Adam(net.parameters(), lr=LR)\n",
    "criterion = topicsLoss()"
   ]
  },
  {
   "cell_type": "code",
   "execution_count": null,
   "metadata": {},
   "outputs": [],
   "source": [
    "# training \n",
    "for epoch in range(epochs):\n",
    "    loss = 0\n",
    "    for batch in train_batch_data:\n",
    "        # collecting input data\n",
    "        model_input = torch.tensor(input_data[batch[0]:batch[-1]], dtype=torch.float)\n",
    "        batch_topics_embs = torch.tensor(topics_embs[batch[0]:batch[-1]], requires_grad=False)\n",
    "        batch_topics_weights = torch.tensor(topics_weights[batch[0]:batch[-1]],  requires_grad=False)\n",
    "        \n",
    "        optimizer.zero_grad()\n",
    "        outputs = net(model_input)\n",
    "        # get tensor embedding from the autoencoder \n",
    "        activation = net.encoder_hidden_layer(model_input)\n",
    "        activation = torch.relu(activation)\n",
    "        code = net.encoder_output_layer(activation)\n",
    "        tensor_emb = torch.relu(code)\n",
    "        # finally pass everything into the loss \n",
    "        train_loss = criterion(outputs, batch_features)\n",
    "        train_loss.backward()\n",
    "        optimizer.step()\n",
    "        loss += train_loss.item()\n",
    "    loss = loss / len(train_loader)\n",
    "    print(\"epoch : {}/{}, loss = {:.6f}\".format(epoch + 1, epochs, loss))"
   ]
  },
  {
   "cell_type": "markdown",
   "metadata": {},
   "source": [
    "# Visualisation"
   ]
  },
  {
   "cell_type": "code",
   "execution_count": 107,
   "metadata": {},
   "outputs": [],
   "source": [
    "# first we have to select a subset of topics and their words \n",
    "tn = 10 \n",
    "pn = 5 # number of words to plot per topic\n",
    "topics = topics_embs[0:tn]\n",
    "# collect the vocabulary for the selected topics -------------\n",
    "# and save the embeddings of their words \n",
    "words = []\n",
    "word_embs = []\n",
    "for item in topics2words[0:tn]: \n",
    "    for t2w in item[0:pn]: \n",
    "        word, _ = t2w\n",
    "        if word not in words: \n",
    "            try: \n",
    "                emb = glove_embedding[list(glove_vocab.values()).index(word)]\n",
    "                words +=[word]\n",
    "                word_embs +=[emb]\n",
    "            except: pass"
   ]
  },
  {
   "cell_type": "code",
   "execution_count": 108,
   "metadata": {},
   "outputs": [
    {
     "data": {
      "text/plain": [
       "49"
      ]
     },
     "execution_count": 108,
     "metadata": {},
     "output_type": "execute_result"
    }
   ],
   "source": [
    "len(words)"
   ]
  },
  {
   "cell_type": "code",
   "execution_count": 109,
   "metadata": {},
   "outputs": [],
   "source": [
    "from sklearn.decomposition import PCA"
   ]
  },
  {
   "cell_type": "code",
   "execution_count": 110,
   "metadata": {},
   "outputs": [],
   "source": [
    "# PCA to 2 dimensions \n",
    "pca = PCA(n_components=2)\n",
    "topics_embeddings_df = pd.DataFrame(topics)\n",
    "word_embeddings_df = pd.DataFrame(word_embs)\n",
    "pca_topics = pca.fit_transform(topics_embeddings_df.values)\n",
    "pca_words = pca.fit_transform(word_embeddings_df.values)"
   ]
  },
  {
   "cell_type": "code",
   "execution_count": 111,
   "metadata": {},
   "outputs": [
    {
     "data": {
      "image/png": "[encoded data removed]",
      "text/plain": [
       "<Figure size 936x504 with 1 Axes>"
      ]
     },
     "metadata": {
      "needs_background": "light"
     },
     "output_type": "display_data"
    }
   ],
   "source": [
    "import matplotlib.pyplot as plt\n",
    "plt.figure(figsize=(13,7))\n",
    "plt.scatter(pca_topics[:,0], pca_topics[:,1],linewidths=1,color='red')\n",
    "for i, _ in enumerate(topics):\n",
    "    plt.annotate(\"Topic \"+str(i),xy=(pca_topics[i,0],pca_topics[i,1]))\n",
    "plt.xlabel(\"PC1\",size=15)\n",
    "plt.ylabel(\"PC2\",size=15)\n",
    "plt.title(\"Word Embedding Space\",size=20)\n",
    "plt.scatter(pca_words[:,0], pca_words[:,1],linewidths=1,color='blue')\n",
    "for i, word in enumerate(words):\n",
    "    plt.annotate(word,xy=(pca_words[i,0],pca_words[i,1]))"
   ]
  },
  {
   "cell_type": "markdown",
   "metadata": {},
   "source": [
    "## 3. Documents embeddings"
   ]
  },
  {
   "cell_type": "code",
   "execution_count": null,
   "metadata": {},
   "outputs": [],
   "source": []
  }
 ],
 "metadata": {
  "kernelspec": {
   "display_name": "Python 3",
   "language": "python",
   "name": "python3"
  },
  "language_info": {
   "codemirror_mode": {
    "name": "ipython",
    "version": 3
   },
   "file_extension": ".py",
   "mimetype": "text/x-python",
   "name": "python",
   "nbconvert_exporter": "python",
   "pygments_lexer": "ipython3",
   "version": "3.7.5"
  }
 },
 "nbformat": 4,
 "nbformat_minor": 2
}
