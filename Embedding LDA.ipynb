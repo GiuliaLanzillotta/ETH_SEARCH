{
 "cells": [
  {
   "cell_type": "code",
   "execution_count": 1,
   "metadata": {
    "scrolled": true
   },
   "outputs": [],
   "source": [
    "import tomotopy as tp\n",
    "import pandas as pd\n",
    "import pickle\n",
    "import numpy as np\n",
    "import sys\n",
    "import nltk\n",
    "from nltk import word_tokenize, RegexpTokenizer,PunktSentenceTokenizer, sent_tokenize\n",
    "from nltk.stem import PorterStemmer\n",
    "from nltk.stem import WordNetLemmatizer\n",
    "from nltk.corpus import stopwords\n",
    "import gensim\n",
    "import gensim.corpora as corpora\n",
    "from gensim.utils import simple_preprocess\n",
    "from gensim.models import CoherenceModel\n",
    "import re"
   ]
  },
  {
   "cell_type": "markdown",
   "metadata": {},
   "source": [
    "# Topics embeddings pipeline \n",
    "Here we implement the embedding pipeline for the topics extracted by the collection. <br>\n",
    "The results will be the following: \n",
    "1. Topic embeddings \n",
    "2. Document embeddings \n",
    "3. Other nodes embeddings? "
   ]
  },
  {
   "cell_type": "markdown",
   "metadata": {},
   "source": [
    "## 1. Loading topic model(s) and collection"
   ]
  },
  {
   "cell_type": "code",
   "execution_count": 2,
   "metadata": {
    "scrolled": true
   },
   "outputs": [],
   "source": [
    "collection = pickle.load(open( \"collection_cleaned_fullwords.p\", \"rb\" ))"
   ]
  },
  {
   "cell_type": "code",
   "execution_count": 3,
   "metadata": {
    "scrolled": true
   },
   "outputs": [],
   "source": [
    "num_batches = 4\n",
    "batches = np.array_split(collection, num_batches)"
   ]
  },
  {
   "cell_type": "code",
   "execution_count": 4,
   "metadata": {
    "scrolled": true
   },
   "outputs": [],
   "source": [
    "def get_batch_indices(batches):\n",
    "    res = []\n",
    "    for i,batch in enumerate(batches):\n",
    "        res += [i]*len(batch)\n",
    "    return res\n",
    "batch_indices = get_batch_indices(batches)"
   ]
  },
  {
   "cell_type": "code",
   "execution_count": 5,
   "metadata": {
    "scrolled": true
   },
   "outputs": [
    {
     "name": "stdout",
     "output_type": "stream",
     "text": [
      "5124\n",
      "5124\n",
      "5123\n",
      "5123\n"
     ]
    }
   ],
   "source": [
    "# number of docs per batch\n",
    "for b in batches: print(len(b))"
   ]
  },
  {
   "cell_type": "markdown",
   "metadata": {},
   "source": [
    "Batch training models "
   ]
  },
  {
   "cell_type": "code",
   "execution_count": 6,
   "metadata": {
    "scrolled": true
   },
   "outputs": [],
   "source": [
    "num_topics_per_batch = 125\n",
    "models = []\n",
    "model_names = ['LDA1batch1.bin','LDA1batch2.bin','LDA1batch3.bin','LDA1batch4.bin']\n",
    "for name in model_names:\n",
    "    models.append(tp.LDAModel.load(name))"
   ]
  },
  {
   "cell_type": "markdown",
   "metadata": {},
   "source": [
    "## 2. Extract the topics "
   ]
  },
  {
   "cell_type": "code",
   "execution_count": 7,
   "metadata": {
    "scrolled": true
   },
   "outputs": [],
   "source": [
    "def get_top_topics(document, model, min_score=0.8):\n",
    "    \"\"\" \n",
    "    Extracting top n topics for each document. \n",
    "    Selects the n most likely topics whose p(topic|document) sum to min_score.\n",
    "    \"\"\"\n",
    "    # inserting the document in the model\n",
    "    new_doc = model.make_doc(document)\n",
    "    _,_ = model.infer(new_doc)\n",
    "    # ordering from most probable topic to least one \n",
    "    dist = new_doc.get_topic_dist()\n",
    "    indices = np.flip(np.argsort(dist))\n",
    "    score = 0\n",
    "    indices_kept = []\n",
    "    probs_kept = []\n",
    "    for index in indices:\n",
    "        if score > min_score: break\n",
    "        score += dist[index]\n",
    "        indices_kept.append(index)\n",
    "        probs_kept.append(dist[index])\n",
    "    return list(zip(indices_kept, probs_kept))"
   ]
  },
  {
   "cell_type": "code",
   "execution_count": 8,
   "metadata": {
    "scrolled": true
   },
   "outputs": [],
   "source": [
    "# extracting topics for the original collection\n",
    "coll2topics = []\n",
    "# this takes a super long time\n",
    "for model, batch in zip(models,batches):\n",
    "    coll2topics += [get_top_topics(doc, model) for doc in batch]"
   ]
  },
  {
   "cell_type": "code",
   "execution_count": 9,
   "metadata": {
    "scrolled": true
   },
   "outputs": [
    {
     "data": {
      "text/plain": [
       "20494"
      ]
     },
     "execution_count": 9,
     "metadata": {},
     "output_type": "execute_result"
    }
   ],
   "source": [
    "len(coll2topics)"
   ]
  },
  {
   "cell_type": "code",
   "execution_count": 10,
   "metadata": {
    "scrolled": true
   },
   "outputs": [],
   "source": [
    "def get_top_words(topic, model, min_score=0.8):\n",
    "    \"\"\"\n",
    "    Extracting top n words for each document. \n",
    "    Selects the n most likely words whose p(word|topic) sum to min_score.\n",
    "    \"\"\"\n",
    "    dist = model.get_topic_word_dist(topic)\n",
    "    indices = np.flip(np.argsort(dist))\n",
    "    score = 0\n",
    "    word_kept = []\n",
    "    word_prob_kept = []\n",
    "    for index in indices:\n",
    "        if score > min_score: break\n",
    "        score += dist[index]\n",
    "        word_kept.append(model.used_vocabs[index])\n",
    "        word_prob_kept.append(dist[index])\n",
    "    return list(zip(word_kept, word_prob_kept))"
   ]
  },
  {
   "cell_type": "code",
   "execution_count": 11,
   "metadata": {
    "scrolled": true
   },
   "outputs": [],
   "source": [
    "topics2words = []\n",
    "topics2words_batched = [] # saving both topics and their batches \n",
    "for model in models: \n",
    "    # extracting only top 25% of the words\n",
    "    twt = [get_top_words(i, model, min_score=0.25) for i in range(num_topics_per_batch)]\n",
    "    topics2words += twt\n",
    "    topics2words_batched += [twt]"
   ]
  },
  {
   "cell_type": "code",
   "execution_count": 12,
   "metadata": {
    "scrolled": true
   },
   "outputs": [
    {
     "data": {
      "text/plain": [
       "500"
      ]
     },
     "execution_count": 12,
     "metadata": {},
     "output_type": "execute_result"
    }
   ],
   "source": [
    "len(topics2words)"
   ]
  },
  {
   "cell_type": "code",
   "execution_count": 13,
   "metadata": {
    "scrolled": true
   },
   "outputs": [
    {
     "data": {
      "text/plain": [
       "4"
      ]
     },
     "execution_count": 13,
     "metadata": {},
     "output_type": "execute_result"
    }
   ],
   "source": [
    "len(topics2words_batched)"
   ]
  },
  {
   "cell_type": "markdown",
   "metadata": {},
   "source": [
    "## 3. Embedding words in topics"
   ]
  },
  {
   "cell_type": "markdown",
   "metadata": {},
   "source": [
    "We will use Glove Embeddings to embed the words in the topics. "
   ]
  },
  {
   "cell_type": "code",
   "execution_count": 14,
   "metadata": {
    "scrolled": true
   },
   "outputs": [],
   "source": [
    "import pickle \n",
    "import numpy as np \n",
    "import os \n",
    "import time\n",
    "import torch"
   ]
  },
  {
   "cell_type": "code",
   "execution_count": 15,
   "metadata": {
    "scrolled": true
   },
   "outputs": [],
   "source": [
    "# Loading from binary the glove vocabulary and embedding \n",
    "glove_vocab_path = \"glove_vocab\"\n",
    "glove_embedding_path = \"glove_embedding\"\n",
    "with open(glove_vocab_path, \"rb\") as fp:  \n",
    "    glove_vocab = pickle.load(fp)\n",
    "with open(glove_embedding_path, \"rb\") as fp: \n",
    "    glove_embedding = pickle.load(fp)"
   ]
  },
  {
   "cell_type": "code",
   "execution_count": 16,
   "metadata": {
    "scrolled": true
   },
   "outputs": [],
   "source": [
    "def get_list_embeddings_topic(topic, vocab, embedding, silence=False):\n",
    "    \"\"\" Topic is represented as a list of tuples (word, word weight)\"\"\"\n",
    "    matched = 0 \n",
    "    total = 0\n",
    "    topic_embeddings = []\n",
    "    topic_weights = []\n",
    "    \n",
    "    start = time.time()\n",
    "    \n",
    "    for item in topic: \n",
    "        word, weight = item\n",
    "        total+=1\n",
    "        #check if the word appears in vocabulary \n",
    "        if word in vocab.values(): \n",
    "            matched+=1\n",
    "            emb = embedding[list(vocab.values()).index(word)]\n",
    "            topic_embeddings += [emb.numpy()]\n",
    "            topic_weights += [weight]\n",
    "    \n",
    "    end = time.time()\n",
    "    if not silence: \n",
    "        print(\"Total time: \"+str(round(end-start,2))+\" s.\")\n",
    "        print(\"Proportion of matched words: \"+str(round(matched/total,2)))\n",
    "    return topic_embeddings, topic_weights"
   ]
  },
  {
   "cell_type": "code",
   "execution_count": 17,
   "metadata": {
    "scrolled": true
   },
   "outputs": [
    {
     "name": "stdout",
     "output_type": "stream",
     "text": [
      "Total time: 0.43 s.\n",
      "Proportion of matched words: 0.96\n"
     ]
    }
   ],
   "source": [
    "topic_embeddings, topic_weights = get_list_embeddings_topic(topics2words[0], glove_vocab, glove_embedding)"
   ]
  },
  {
   "cell_type": "markdown",
   "metadata": {},
   "source": [
    "# Embedding nodes - baseline\n",
    "\n",
    "## 4. Embedding topics "
   ]
  },
  {
   "cell_type": "code",
   "execution_count": 18,
   "metadata": {
    "scrolled": true
   },
   "outputs": [],
   "source": [
    "def get_convex_combination(weights, embeddings):\n",
    "    \"\"\" Obtain an embedding as convex combination of embedding vectors according \n",
    "    to the weights provided.\"\"\"\n",
    "    weight_vec = np.asarray(weights)\n",
    "    emb_vec = np.asarray(embeddings)\n",
    "    normalized_weights = weight_vec / np.sqrt(np.sum(weight_vec**2))\n",
    "    return normalized_weights.transpose().dot(emb_vec)"
   ]
  },
  {
   "cell_type": "code",
   "execution_count": 19,
   "metadata": {
    "scrolled": true
   },
   "outputs": [],
   "source": [
    "topic_emb = get_convex_combination(topic_weights, topic_embeddings)"
   ]
  },
  {
   "cell_type": "code",
   "execution_count": 20,
   "metadata": {
    "scrolled": true
   },
   "outputs": [],
   "source": [
    "def get_convex_topics_embeddings(topics_collection, vocab, embedding):\n",
    "    \"\"\" Runs the above function over a whole collection of topics\"\"\"\n",
    "    topics_embs = []\n",
    "    for topic2word in topics_collection:\n",
    "        # extract the emebddings for the words in the topic \n",
    "        topic_embeddings, topic_weights = get_list_embeddings_topic(topic2word, vocab, embedding, silence=True)\n",
    "        # combine the embeddings with a convex sum \n",
    "        topic_emb = get_convex_combination(topic_weights, topic_embeddings)\n",
    "        topics_embs += [topic_emb]\n",
    "    return topics_embs"
   ]
  },
  {
   "cell_type": "code",
   "execution_count": 21,
   "metadata": {
    "scrolled": true
   },
   "outputs": [],
   "source": [
    "# TODO: look at topic embeddings across batches and measure their similarity"
   ]
  },
  {
   "cell_type": "code",
   "execution_count": 22,
   "metadata": {
    "scrolled": true
   },
   "outputs": [],
   "source": [
    "topics_embs = get_convex_topics_embeddings(topics2words, glove_vocab, glove_embedding)"
   ]
  },
  {
   "cell_type": "code",
   "execution_count": 23,
   "metadata": {
    "scrolled": true
   },
   "outputs": [],
   "source": [
    "topics_embs_batched = [get_convex_topics_embeddings(t2w, glove_vocab, glove_embedding) for t2w in topics2words_batched]"
   ]
  },
  {
   "cell_type": "markdown",
   "metadata": {},
   "source": [
    "Now let's have a look at the results!"
   ]
  },
  {
   "cell_type": "code",
   "execution_count": 24,
   "metadata": {
    "scrolled": true
   },
   "outputs": [],
   "source": [
    "def nearest_neighbors(this, others):\n",
    "    \"\"\"Returns the most similar vectors among others to the given one \"\"\"\n",
    "    cos = torch.nn.CosineSimilarity(dim = -1)\n",
    "    ranks = cos(torch.tensor(this), torch.tensor(others))\n",
    "    mostSimilar = []\n",
    "    return ranks.numpy().argsort()[::-1] "
   ]
  },
  {
   "cell_type": "code",
   "execution_count": 25,
   "metadata": {
    "scrolled": true
   },
   "outputs": [],
   "source": [
    "# let's look at the first topic \n",
    "nns_100 = nearest_neighbors(topics_embs[100], topics_embs)"
   ]
  },
  {
   "cell_type": "code",
   "execution_count": 26,
   "metadata": {
    "scrolled": true
   },
   "outputs": [],
   "source": [
    "def visualise_most_similar_topics(topic_id, batch_id, topics_embs, topics2words,\n",
    "                                  topics_embs_batched, topics2words_batched, n=10):\n",
    "    \"\"\"Prints the words of the topic and its neareast neighbors.\"\"\"\n",
    "    nns = nearest_neighbors(topics_embs_batched[batch_id][topic_id], topics_embs)\n",
    "    print(\"-\"*10)\n",
    "    print(\"Topic \"+ str(topic_id))\n",
    "    print(\" \".join(item[0] for item in topics2words_batched[batch_id][topic_id]))\n",
    "    print(\"-\"*10)\n",
    "    print(str(n)+\" most similar topics\")\n",
    "    for i in range(n):\n",
    "        print(\"Topic \"+str(nns[i+1]))\n",
    "        print(\" \".join(item[0] for item in topics2words[nns[i+1]]))"
   ]
  },
  {
   "cell_type": "code",
   "execution_count": 27,
   "metadata": {
    "scrolled": true
   },
   "outputs": [
    {
     "name": "stdout",
     "output_type": "stream",
     "text": [
      "----------\n",
      "Topic 35\n",
      "pm soils quartz fr pretreatment soil floodplain pre grid graphite confinement steam lean environment\n",
      "----------\n",
      "3 most similar topics\n",
      "Topic 426\n",
      "soil crisis plants soils restoration biomass communities growth\n",
      "Topic 89\n",
      "soil drought plant biomass organic microbial fluxes ecosystem nutrient\n",
      "Topic 277\n",
      "sediment sediments water sedimentary deep depth basin hypoxia incision mixing catchment\n"
     ]
    }
   ],
   "source": [
    "visualise_most_similar_topics(35, 1, topics_embs, topics2words,topics_embs_batched, topics2words_batched, n=3)"
   ]
  },
  {
   "cell_type": "markdown",
   "metadata": {},
   "source": [
    "## 5. Documents embeddings"
   ]
  },
  {
   "cell_type": "code",
   "execution_count": 52,
   "metadata": {
    "scrolled": true
   },
   "outputs": [],
   "source": [
    "abstracts_data = pd.read_csv(\"abstracts_eng.csv\")"
   ]
  },
  {
   "cell_type": "code",
   "execution_count": 29,
   "metadata": {
    "scrolled": true
   },
   "outputs": [
    {
     "name": "stdout",
     "output_type": "stream",
     "text": [
      "We defend a methodology of discounting, for the evaluation of the long-term effects of climate policies, which relies on a social welfare objective, against the view that the market rate of return should be used for that purpose. We also show that in the long run, the discount rate for such policies should focus on the worst-case scenario for the most disadvantaged populations. As a consequence, it is likely that the appropriate discount rate for climate policies should be negative, implying a h\n",
      "\n",
      "defend methodology discounting evaluation long term effects climate policies relies social welfare objective view market rate return used purpose show long run discount rate policies focus worst case scenario disadvantaged populations consequence likely appropriate discount rate climate policies negative implying high priority future\n"
     ]
    }
   ],
   "source": [
    "# checking the ordering by visual inspection \n",
    "n = np.random.randint(len(collection))\n",
    "print(abstracts_data[\"abstract\"][n][0:500]) \n",
    "print(\"\")\n",
    "print(\" \".join(collection[n][0:50]))"
   ]
  },
  {
   "cell_type": "code",
   "execution_count": 30,
   "metadata": {
    "scrolled": true
   },
   "outputs": [
    {
     "data": {
      "text/html": [
       "<div>\n",
       "<style scoped>\n",
       "    .dataframe tbody tr th:only-of-type {\n",
       "        vertical-align: middle;\n",
       "    }\n",
       "\n",
       "    .dataframe tbody tr th {\n",
       "        vertical-align: top;\n",
       "    }\n",
       "\n",
       "    .dataframe thead th {\n",
       "        text-align: right;\n",
       "    }\n",
       "</style>\n",
       "<table border=\"1\" class=\"dataframe\">\n",
       "  <thead>\n",
       "    <tr style=\"text-align: right;\">\n",
       "      <th></th>\n",
       "      <th>abstract</th>\n",
       "      <th>id</th>\n",
       "      <th>title</th>\n",
       "      <th>topics</th>\n",
       "      <th>batchID</th>\n",
       "    </tr>\n",
       "  </thead>\n",
       "  <tbody>\n",
       "    <tr>\n",
       "      <th>0</th>\n",
       "      <td>The goal of this note is to introduce new clas...</td>\n",
       "      <td>188444.0</td>\n",
       "      <td>Asymptotic versions for operators and operator...</td>\n",
       "      <td>[(60, 0.24186938), (51, 0.10589432), (79, 0.07...</td>\n",
       "      <td>0</td>\n",
       "    </tr>\n",
       "    <tr>\n",
       "      <th>1</th>\n",
       "      <td>We will review a Lemma published by Ran Raz in...</td>\n",
       "      <td>188623.0</td>\n",
       "      <td>Some remarks on a lemma of Ran Raz</td>\n",
       "      <td>[(5, 0.20627172), (40, 0.16780958), (29, 0.108...</td>\n",
       "      <td>0</td>\n",
       "    </tr>\n",
       "    <tr>\n",
       "      <th>2</th>\n",
       "      <td>China’s growing influence in Europe has the po...</td>\n",
       "      <td>346708.0</td>\n",
       "      <td>China as a Stress Test for Europe’s Coherence</td>\n",
       "      <td>[(0, 0.14767313), (14, 0.1092189), (25, 0.0920...</td>\n",
       "      <td>0</td>\n",
       "    </tr>\n",
       "    <tr>\n",
       "      <th>3</th>\n",
       "      <td>Nowhere is China's Belt and Road Initiative (B...</td>\n",
       "      <td>346709.0</td>\n",
       "      <td>On the Belt, on the Road: China’s Pivot to Eur...</td>\n",
       "      <td>[(57, 0.16084893), (0, 0.14146255), (16, 0.098...</td>\n",
       "      <td>0</td>\n",
       "    </tr>\n",
       "    <tr>\n",
       "      <th>4</th>\n",
       "      <td>Passenger transit modes typical of the urban s...</td>\n",
       "      <td>187461.0</td>\n",
       "      <td>Applications and Future Developments: Modellin...</td>\n",
       "      <td>[(14, 0.11849773), (16, 0.07719317), (2, 0.072...</td>\n",
       "      <td>0</td>\n",
       "    </tr>\n",
       "  </tbody>\n",
       "</table>\n",
       "</div>"
      ],
      "text/plain": [
       "                                            abstract        id  \\\n",
       "0  The goal of this note is to introduce new clas...  188444.0   \n",
       "1  We will review a Lemma published by Ran Raz in...  188623.0   \n",
       "2  China’s growing influence in Europe has the po...  346708.0   \n",
       "3  Nowhere is China's Belt and Road Initiative (B...  346709.0   \n",
       "4  Passenger transit modes typical of the urban s...  187461.0   \n",
       "\n",
       "                                               title  \\\n",
       "0  Asymptotic versions for operators and operator...   \n",
       "1                 Some remarks on a lemma of Ran Raz   \n",
       "2      China as a Stress Test for Europe’s Coherence   \n",
       "3  On the Belt, on the Road: China’s Pivot to Eur...   \n",
       "4  Applications and Future Developments: Modellin...   \n",
       "\n",
       "                                              topics  batchID  \n",
       "0  [(60, 0.24186938), (51, 0.10589432), (79, 0.07...        0  \n",
       "1  [(5, 0.20627172), (40, 0.16780958), (29, 0.108...        0  \n",
       "2  [(0, 0.14767313), (14, 0.1092189), (25, 0.0920...        0  \n",
       "3  [(57, 0.16084893), (0, 0.14146255), (16, 0.098...        0  \n",
       "4  [(14, 0.11849773), (16, 0.07719317), (2, 0.072...        0  "
      ]
     },
     "execution_count": 30,
     "metadata": {},
     "output_type": "execute_result"
    }
   ],
   "source": [
    "enriched = abstracts_data\n",
    "enriched[\"topics\"] = coll2topics\n",
    "enriched[\"batchID\"] = batch_indices\n",
    "#enriched=enriched.explode(\"topics\")\n",
    "enriched.head(5)"
   ]
  },
  {
   "cell_type": "code",
   "execution_count": 31,
   "metadata": {
    "scrolled": true
   },
   "outputs": [],
   "source": [
    "docs2topics = enriched[[\"topics\",\"batchID\"]].values.tolist()"
   ]
  },
  {
   "cell_type": "code",
   "execution_count": 32,
   "metadata": {
    "scrolled": true
   },
   "outputs": [],
   "source": [
    "def get_list_embeddings_document(doc, topics_embedding, silence=False):\n",
    "    \"\"\" Returns the list of topic embeddings and topic weights for the given document.\n",
    "    The document is represented as the tuple ([(topic_id, topic_weight)], batch_id)\"\"\"\n",
    "    doc_embeddings = []\n",
    "    doc_weights = []\n",
    "    \n",
    "    start = time.time()\n",
    "    \n",
    "    topics, batch_id = doc\n",
    "    \n",
    "    for topic in topics: \n",
    "        topic_id, weight = topic\n",
    "        emb = topics_embedding[batch_id][topic_id]\n",
    "        doc_embeddings += [emb]\n",
    "        doc_weights += [weight]\n",
    "    \n",
    "    end = time.time()\n",
    "    if not silence: \n",
    "        print(\"Total time: \"+str(round(end-start,2))+\" s.\")\n",
    "    return doc_embeddings, doc_weights"
   ]
  },
  {
   "cell_type": "code",
   "execution_count": 33,
   "metadata": {
    "scrolled": true
   },
   "outputs": [
    {
     "name": "stdout",
     "output_type": "stream",
     "text": [
      "Total time: 0.0 s.\n"
     ]
    },
    {
     "data": {
      "text/plain": [
       "10"
      ]
     },
     "execution_count": 33,
     "metadata": {},
     "output_type": "execute_result"
    }
   ],
   "source": [
    "doc0_embs = get_list_embeddings_document(docs2topics[0], topics_embs_batched)\n",
    "len(doc0_embs[0])"
   ]
  },
  {
   "cell_type": "code",
   "execution_count": 34,
   "metadata": {
    "scrolled": true
   },
   "outputs": [],
   "source": [
    "# finally documents embeddings \n",
    "def get_convex_docs_embeddings(documents_collection, topics_embedding):\n",
    "    \"\"\" Runs the above function over a whole collection of documents\"\"\"\n",
    "    docs_embs = []\n",
    "    for doc2topics in documents_collection:\n",
    "        # extract the emebddings for the words in the topic \n",
    "        doc_embeddings, doc_weights = get_list_embeddings_document(doc2topics, topics_embedding, silence=True)\n",
    "        # combine the embeddings with a convex sum \n",
    "        doc_emb = get_convex_combination(doc_embeddings, doc_weights)\n",
    "        docs_embs += [doc_emb]\n",
    "    return docs_embs"
   ]
  },
  {
   "cell_type": "code",
   "execution_count": 35,
   "metadata": {
    "scrolled": true
   },
   "outputs": [],
   "source": [
    "documents_embeddings = get_convex_docs_embeddings(docs2topics, topics_embs_batched)"
   ]
  },
  {
   "cell_type": "code",
   "execution_count": 36,
   "metadata": {
    "scrolled": true
   },
   "outputs": [],
   "source": [
    "def visualise_most_similar_docs(doc_id, docs_embeddings, docs_collection, n=10):\n",
    "    \"\"\"Prints the words of the topic and its neareast neighbors.\"\"\"\n",
    "    nns = nearest_neighbors(docs_embeddings[doc_id], docs_embeddings)\n",
    "    print(\"Document \"+ str(doc_id))\n",
    "    print((docs_collection[doc_id]).partition(\"||\")[0])\n",
    "    print(\"-\"*10)\n",
    "    print(str(n)+\" most similar documents in the collection\")\n",
    "    for i in range(n):\n",
    "        print(\"\")\n",
    "        print(\"Document \"+str(nns[i+1]))\n",
    "        print((docs_collection[nns[i+1]]).partition(\"||\")[0])"
   ]
  },
  {
   "cell_type": "code",
   "execution_count": 40,
   "metadata": {
    "scrolled": true
   },
   "outputs": [
    {
     "name": "stdout",
     "output_type": "stream",
     "text": [
      "Document 32\n",
      "This chapter by Alex Bolfrass contrasts the responses of the Obama and Trump administrations to Syria’s use of chemical weapons. Both administrations pursued the same stated aim: to cause the Assad regime to refrain from using chemical munitions in fighting its civil war without the US becoming a combatant. Neither administration achieved this aim in full. Nonetheless, the combined effect of their approaches was a creditable reduction in the chemical munitions available to the Syrian government’s forces and a potentially lasting reduction of their use.\n",
      "----------\n",
      "3 most similar documents in the collection\n",
      "\n",
      "Document 105\n",
      "Strategic Trends 2019 offers a concise analysis of major developments in world affairs, with a focus on international security. In the first chapter, Jack Thompson considers the consequences of the Trump administration’s new approach to trade policy. In his view, the United States is powerful enough to extract trade concessions from all of its trading partners, and there may be some short-term advantages in following such a course of action. In the second chapter, Michael Haas examines the shift between the West and non-Western states in the field of defense technologies. He argues that Western policymakers should act on several fronts to slow the process, while also adapting to a world in which they no longer enjoy substantial military-technological superiority. In chapter three, Jeronim Perović considers the emergence of the Eurasian Economic Union (EAEU), a surprisingly robust multilateral organization of post-Soviet states, which is not a Russian puppet, and which cooperates in economic, political, and military matters. Finally, in chapter four, Lisa Watanabe looks as Russia’s re-emergence as a power broker in the Middle East and North Africa, with a focus on countries of particular interest to Europe when it comes to security issues, economic ties, and immigration.\n",
      "\n",
      "Document 86\n",
      "Does nuclear proliferation have stabilizing or destabilizing effects? This question is fascinating for scholars of the nuclear age and highly consequential for practical policy issues. For in order to debate the merits of particular policy choices—such as preventive military strikes against nuclear facilities, grand bargains with potential proliferators, or complete nuclear disarmament—we first need to understand how the spread of nuclear weapons impacts regional and global security. To enhance our understanding of this crucial issue, this chapter engages the empirical literature on the consequences of proliferation, focusing on how the pursuit and acquisition of nuclear weapons by additional states have influenced international stability. It also explores whether some states have been more affected than others, and what measures these states have taken to prevent proliferation or to mitigate its negative consequences.\n",
      "\n",
      "Document 2027\n",
      "Cutting tool development is still driven by trial and error and therefore requires various prototypes and modifications. The normal manufacturing process for carbide cutting inserts includes die production, pressing, sintering, grinding and coating. A laser can provide an easy and economical way to make modifications and prototypes out of pressed inserts. The paper compares a normal pressed and ground insert with the same geometry using various laser manufacturing options. The insert features a wiper geometry for high feed per revolution and a chip breaker. As performance criteria the cutting forces and the machined surface quality were measured and analysed. It was found that the cutting edge and surface quality of the insert depends on the laser strategy and thus influences the cutting force and the workpiece quality. No difference was discovered comparing ground and laser machined inserts showing the potential for prototyping.\n"
     ]
    }
   ],
   "source": [
    "visualise_most_similar_docs(32, documents_embeddings, abstracts_data[\"abstract\"], n=3)"
   ]
  },
  {
   "cell_type": "code",
   "execution_count": null,
   "metadata": {
    "scrolled": true
   },
   "outputs": [],
   "source": []
  },
  {
   "cell_type": "markdown",
   "metadata": {},
   "source": [
    "## 6. Authors embeddings"
   ]
  },
  {
   "cell_type": "code",
   "execution_count": 98,
   "metadata": {
    "scrolled": true
   },
   "outputs": [],
   "source": [
    "# loading the graph data \n",
    "graph_data = pd.read_csv(\"graph_data_final.csv\")"
   ]
  },
  {
   "cell_type": "code",
   "execution_count": 210,
   "metadata": {
    "scrolled": true
   },
   "outputs": [
    {
     "data": {
      "text/html": [
       "<div>\n",
       "<style scoped>\n",
       "    .dataframe tbody tr th:only-of-type {\n",
       "        vertical-align: middle;\n",
       "    }\n",
       "\n",
       "    .dataframe tbody tr th {\n",
       "        vertical-align: top;\n",
       "    }\n",
       "\n",
       "    .dataframe thead th {\n",
       "        text-align: right;\n",
       "    }\n",
       "</style>\n",
       "<table border=\"1\" class=\"dataframe\">\n",
       "  <thead>\n",
       "    <tr style=\"text-align: right;\">\n",
       "      <th></th>\n",
       "      <th>index</th>\n",
       "      <th>title</th>\n",
       "      <th>abstract_x</th>\n",
       "      <th>id_x</th>\n",
       "      <th>abstract_y</th>\n",
       "      <th>id_y</th>\n",
       "      <th>abstract_x</th>\n",
       "      <th>id_x</th>\n",
       "      <th>id_y</th>\n",
       "      <th>author</th>\n",
       "      <th>publication_date</th>\n",
       "      <th>publication_type</th>\n",
       "      <th>abstract_y</th>\n",
       "      <th>language</th>\n",
       "      <th>journal</th>\n",
       "      <th>organisation_unit_code</th>\n",
       "      <th>organisation</th>\n",
       "      <th>department</th>\n",
       "    </tr>\n",
       "  </thead>\n",
       "  <tbody>\n",
       "    <tr>\n",
       "      <th>0</th>\n",
       "      <td>0</td>\n",
       "      <td>Asymptotic versions for operators and operator...</td>\n",
       "      <td>The goal of this note is to introduce new clas...</td>\n",
       "      <td>188444.0</td>\n",
       "      <td>The goal of this note is to introduce new clas...</td>\n",
       "      <td>188444.0</td>\n",
       "      <td>The goal of this note is to introduce new clas...</td>\n",
       "      <td>188444.0</td>\n",
       "      <td>188444.0</td>\n",
       "      <td>Milman, Vitali</td>\n",
       "      <td>1999.0</td>\n",
       "      <td>Book Chapter</td>\n",
       "      <td>The goal of this note is to introduce new clas...</td>\n",
       "      <td>en</td>\n",
       "      <td>Mathematical Sciences Research Institute Publi...</td>\n",
       "      <td>NaN</td>\n",
       "      <td>NaN</td>\n",
       "      <td>NaN</td>\n",
       "    </tr>\n",
       "  </tbody>\n",
       "</table>\n",
       "</div>"
      ],
      "text/plain": [
       "   index                                              title  \\\n",
       "0      0  Asymptotic versions for operators and operator...   \n",
       "\n",
       "                                          abstract_x      id_x  \\\n",
       "0  The goal of this note is to introduce new clas...  188444.0   \n",
       "\n",
       "                                          abstract_y      id_y  \\\n",
       "0  The goal of this note is to introduce new clas...  188444.0   \n",
       "\n",
       "                                          abstract_x      id_x      id_y  \\\n",
       "0  The goal of this note is to introduce new clas...  188444.0  188444.0   \n",
       "\n",
       "           author  publication_date publication_type  \\\n",
       "0  Milman, Vitali            1999.0     Book Chapter   \n",
       "\n",
       "                                          abstract_y language  \\\n",
       "0  The goal of this note is to introduce new clas...       en   \n",
       "\n",
       "                                             journal  organisation_unit_code  \\\n",
       "0  Mathematical Sciences Research Institute Publi...                     NaN   \n",
       "\n",
       "  organisation department  \n",
       "0          NaN        NaN  "
      ]
     },
     "execution_count": 210,
     "metadata": {},
     "output_type": "execute_result"
    }
   ],
   "source": [
    "graph_data = pd.merge(abstracts_data.reset_index(level=0, inplace=False)[[\"index\",\"title\"]], #adding column index, dropping everything else\n",
    "                      graph_data, on=[\"title\"], how=\"inner\")\n",
    "graph_data.head(1)"
   ]
  },
  {
   "cell_type": "markdown",
   "metadata": {},
   "source": [
    "We will first use the metadata data to compute a scoring author-publication that we will then use to combine the publications embeddings "
   ]
  },
  {
   "cell_type": "code",
   "execution_count": 282,
   "metadata": {
    "scrolled": true
   },
   "outputs": [
    {
     "data": {
      "text/html": [
       "<div>\n",
       "<style scoped>\n",
       "    .dataframe tbody tr th:only-of-type {\n",
       "        vertical-align: middle;\n",
       "    }\n",
       "\n",
       "    .dataframe tbody tr th {\n",
       "        vertical-align: top;\n",
       "    }\n",
       "\n",
       "    .dataframe thead th {\n",
       "        text-align: right;\n",
       "    }\n",
       "</style>\n",
       "<table border=\"1\" class=\"dataframe\">\n",
       "  <thead>\n",
       "    <tr style=\"text-align: right;\">\n",
       "      <th></th>\n",
       "      <th>index</th>\n",
       "      <th>counts</th>\n",
       "      <th>title</th>\n",
       "      <th>author</th>\n",
       "      <th>publication_date</th>\n",
       "      <th>publication_type</th>\n",
       "    </tr>\n",
       "  </thead>\n",
       "  <tbody>\n",
       "    <tr>\n",
       "      <th>0</th>\n",
       "      <td>14835</td>\n",
       "      <td>1</td>\n",
       "      <td>A Follow-Up of the Multicenter Collaborative S...</td>\n",
       "      <td>454 HIV-1 Alpha Study Group</td>\n",
       "      <td>2016.0</td>\n",
       "      <td>Journal Article</td>\n",
       "    </tr>\n",
       "    <tr>\n",
       "      <th>1</th>\n",
       "      <td>8399</td>\n",
       "      <td>1</td>\n",
       "      <td>Dysfunctional Autism Risk Genes Cause Circuit-...</td>\n",
       "      <td>A-Bhaskaran, Arjun</td>\n",
       "      <td>2018.0</td>\n",
       "      <td>Journal Article</td>\n",
       "    </tr>\n",
       "  </tbody>\n",
       "</table>\n",
       "</div>"
      ],
      "text/plain": [
       "   index  counts                                              title  \\\n",
       "0  14835       1  A Follow-Up of the Multicenter Collaborative S...   \n",
       "1   8399       1  Dysfunctional Autism Risk Genes Cause Circuit-...   \n",
       "\n",
       "                        author  publication_date publication_type  \n",
       "0  454 HIV-1 Alpha Study Group            2016.0  Journal Article  \n",
       "1           A-Bhaskaran, Arjun            2018.0  Journal Article  "
      ]
     },
     "execution_count": 282,
     "metadata": {},
     "output_type": "execute_result"
    }
   ],
   "source": [
    "counts_df = graph_data.groupby([\"author\"]).size().reset_index(name='counts')\n",
    "graph_data_prime = pd.merge(counts_df, graph_data, on=[\"author\"], how=\"inner\")\n",
    "graph_data_prime = graph_data_prime[[\"index\",\"counts\",\"title\",\"author\",\"publication_date\",\"publication_type\"]]\n",
    "graph_data_prime.head(2)"
   ]
  },
  {
   "cell_type": "code",
   "execution_count": 284,
   "metadata": {
    "scrolled": true
   },
   "outputs": [
    {
     "data": {
      "text/plain": [
       "2017.0432397787386"
      ]
     },
     "execution_count": 284,
     "metadata": {},
     "output_type": "execute_result"
    }
   ],
   "source": [
    "max_date = max(graph_data_prime[\"publication_date\"])\n",
    "min_date = min(graph_data_prime[\"publication_date\"])\n",
    "avg_date = np.mean(graph_data_prime[\"publication_date\"])\n",
    "avg_date"
   ]
  },
  {
   "cell_type": "code",
   "execution_count": 285,
   "metadata": {
    "scrolled": true
   },
   "outputs": [],
   "source": [
    "def alpha(x, t=20): \n",
    "    \"\"\" Hard thresholding function for number of publications\"\"\"\n",
    "    if x>t: return t\n",
    "    return x\n",
    "\n",
    "# totally arbitrary- can be changed\n",
    "publication_types_scores = {\n",
    "    \"Conference Paper\":10,\n",
    "    \"Journal Article\":9,\n",
    "    \"Book Chapter\":8,\n",
    "    \"Review Article\":7}"
   ]
  },
  {
   "cell_type": "code",
   "execution_count": 286,
   "metadata": {
    "scrolled": true
   },
   "outputs": [],
   "source": [
    "def score_publication(date, count, pub_type):\n",
    "    \"\"\" Scoring function for author-publication pair\"\"\"\n",
    "    #todo/future-work: add \"is_professor\" qualifier to the scoring \n",
    "    date_weight = np.exp(date - (avg_date))\n",
    "    pub_count_dumped = alpha(int(count))\n",
    "    pub_type_weight = publication_types_scores.get(pub_type,1)\n",
    "    return pub_type_weight*date_weight*pub_count_dumped"
   ]
  },
  {
   "cell_type": "code",
   "execution_count": 287,
   "metadata": {
    "scrolled": true
   },
   "outputs": [],
   "source": [
    "graph_data_prime[\"score\"] = graph_data_prime.apply(lambda row: score_publication(row[\"publication_date\"], row[\"counts\"], row[\"publication_type\"]), axis=1)"
   ]
  },
  {
   "cell_type": "code",
   "execution_count": 295,
   "metadata": {
    "scrolled": true
   },
   "outputs": [],
   "source": [
    "graph_data_prime[\"pub\"]=list(zip(graph_data_prime[\"index\"], graph_data_prime[\"score\"]))\n",
    "graph_data_prime = graph_data_prime.groupby([\"author\"])[\"pub\"].apply(list).reset_index(name='pubs')"
   ]
  },
  {
   "cell_type": "code",
   "execution_count": 296,
   "metadata": {
    "scrolled": true
   },
   "outputs": [],
   "source": [
    "authors2pubs = graph_data_prime.values.tolist()"
   ]
  },
  {
   "cell_type": "code",
   "execution_count": 306,
   "metadata": {
    "scrolled": true
   },
   "outputs": [
    {
     "data": {
      "text/plain": [
       "6.294858863599819"
      ]
     },
     "execution_count": 306,
     "metadata": {},
     "output_type": "execute_result"
    }
   ],
   "source": [
    "np.mean([len(l[1]) for l in authors2pubs]) # average number of publications per author"
   ]
  },
  {
   "cell_type": "code",
   "execution_count": 300,
   "metadata": {
    "scrolled": true
   },
   "outputs": [],
   "source": [
    "def get_list_embeddings_author(author, documents_embeddings, silence=False):\n",
    "    \"\"\" Returns the list of document embeddings and document weights for the given author.\n",
    "    The author is represented as the list [(pub, score)]\"\"\"\n",
    "    auth_embeddings = []\n",
    "    auth_weights = []\n",
    "    \n",
    "    start = time.time()\n",
    "    \n",
    "    \n",
    "    for item in author[1]: \n",
    "        pub_id, weight = item\n",
    "        emb = documents_embeddings[pub_id-1]\n",
    "        auth_embeddings += [emb]\n",
    "        auth_weights += [weight]\n",
    "    \n",
    "    end = time.time()\n",
    "    if not silence: \n",
    "        print(\"Total time: \"+str(round(end-start,2))+\" s.\")\n",
    "    return auth_embeddings, auth_weights"
   ]
  },
  {
   "cell_type": "code",
   "execution_count": 301,
   "metadata": {
    "scrolled": true
   },
   "outputs": [],
   "source": [
    "# finally documents embeddings \n",
    "def get_convex_auth_embeddings(authors2pubs, documents_embeddings):\n",
    "    \"\"\" Runs the above function over a whole collection of documents\"\"\"\n",
    "    auths_embs = []\n",
    "    for author in authors2pubs:\n",
    "        # extract the emebddings for the words in the topic \n",
    "        auth_embeddings, auth_weights = get_list_embeddings_author(author, documents_embeddings, silence=True)\n",
    "        # combine the embeddings with a convex sum \n",
    "        auth_emb = get_convex_combination(auth_embeddings, auth_weights)\n",
    "        auths_embs += [auth_emb]\n",
    "    return auths_embs"
   ]
  },
  {
   "cell_type": "code",
   "execution_count": 302,
   "metadata": {
    "scrolled": true
   },
   "outputs": [],
   "source": [
    "authors_embeddings = get_convex_auth_embeddings(authors2pubs, documents_embeddings)"
   ]
  },
  {
   "cell_type": "code",
   "execution_count": 331,
   "metadata": {
    "scrolled": true
   },
   "outputs": [],
   "source": [
    "def visualise_most_similar_authors(author_id, authors_embeddings, authors2pubs,  n=10):\n",
    "    \"\"\"Prints the names of the input author and its neareast neighbors.\"\"\"\n",
    "    nns = nearest_neighbors(authors_embeddings[author_id], authors_embeddings)[7:]\n",
    "    print(\"Author \"+ str(author_id))\n",
    "    author = authors2pubs[author_id]\n",
    "    print(\"Name : \"+author[0])\n",
    "    print(\"Publications: \"+\"\\n\".join([abstracts_data.iloc[item[0]][\"title\"] for item in author[1]]))\n",
    "    print(\"-\"*10)\n",
    "    print(str(n)+\" most similar authors in the collection\")\n",
    "    for i in range(n):\n",
    "        print(\"\")\n",
    "        print(\"Author \"+str(nns[i+1]))\n",
    "        author = authors2pubs[nns[i+1]]\n",
    "        print(\"Name : \"+author[0])\n",
    "        print(\"Publications: \"+\"\\n\".join([abstracts_data.iloc[item[0]][\"title\"] for item in author[1]]))"
   ]
  },
  {
   "cell_type": "code",
   "execution_count": 341,
   "metadata": {
    "scrolled": true
   },
   "outputs": [
    {
     "data": {
      "text/plain": [
       "31043"
      ]
     },
     "execution_count": 341,
     "metadata": {},
     "output_type": "execute_result"
    }
   ],
   "source": [
    "authors2pubs_dict = {name:pubs for name,pubs in authors2pubs}\n",
    "list(authors2pubs_dict.keys()).index(\"Krause, Andreas\")"
   ]
  },
  {
   "cell_type": "code",
   "execution_count": 343,
   "metadata": {
    "collapsed": true
   },
   "outputs": [
    {
     "name": "stdout",
     "output_type": "stream",
     "text": [
      "Author 31043\n",
      "Name : Krause, Andreas\n",
      "Publications: Efficiently Learning Fourier Sparse Set Functions\n",
      "A domain agnostic measure for monitoring and evaluating GANs\n",
      "Fully autonomous focused exploration for robotic environmental monitoring\n",
      "Bounding Inefficiency of Equilibria in Continuous Actions Games using Submodularity and Curvature\n",
      "Safe Convex Learning under Uncertain Constraints\n",
      "Information Directed Sampling and Bandits with Heteroscedastic Noise\n",
      "Online Variance Reduction for Stochastic Optimization\n",
      "Hierarchical Image Classification using Entailment Cone Embeddings\n",
      "Calibration of agent based transport simulations with multi-fidelity Bayesian optimization\n",
      "Training Gaussian mixture models at scale via coresets\n",
      "A protocol for an intercomparison of biodiversity and ecosystem services models using harmonized land-use and climate scenarios\n",
      "Multi-Player Bandits: The Adversarial Case\n",
      "Community Seismic Network\n",
      "Adaptive Submodular Optimization under Matroid Constraints\n",
      "----------\n",
      "10 most similar authors in the collection\n",
      "\n",
      "Author 51454\n",
      "Name : Saranovac, Tamara\n",
      "Publications: Gate Recess Etch Sensitivity of Thick and Highly-Doped GaInAs Cap Layer in InP HEMT Fabrication\n",
      "Impact Ionization Control in 50 nm Low-Noise High-Speed InP HEMTs with InAs Channel Insets\n",
      "Impact of Reduced Gate‐to‐Source Spacing on InP HEMT Performance\n",
      "Low-Noise Microwave Performance of 30 nm GaInAs MOS-HEMTs: Comparison to Low-Noise HEMTs\n",
      "\n",
      "Author 41220\n",
      "Name : Müller, Ingo\n",
      "Publications: Reproducible Floating-Point Aggregation in RDBMSs\n",
      "Pay One, Get Hundreds for Free: Reducing Cloud Costs through Shared Query Execution\n",
      "Distributed join algorithms on thousands of cores\n",
      "The Collection Virtual Machine: An Abstraction for Multi-Frontend Multi-Backend Data Analysis\n",
      "Strong consistency is not hard to get: Two-Phase Locking and Two-Phase Commit on Thousands of Cores\n",
      "Lambada: Interactive Data Analytics on Cold Data Using Serverless Cloud Infrastructure\n",
      "Lambada: Interactive Data Analytics on Cold Data Using Serverless Cloud Infrastructure [Poster]\n",
      "Serverless Clusters: The Missing Piece for Interactive Batch Applications?\n",
      "\n",
      "Author 3506\n",
      "Name : Basin, David\n",
      "Publications: Dispute Resolution in Voting\n",
      "Exploring Website Location as a Security Indicator\n",
      "Runtime Monitoring of Metric First-order Temporal Properties\n",
      "Data Node Encrypted File System\n",
      "Refining Key Establishment\n",
      "FAST: An Efficient Decision Procedure for Deduction and Static Equivalence\n",
      "Failure-aware Runtime Verification of Distributed Systems\n",
      "User Account Access Graphs\n",
      "From Natural Projection to Partial Model Checking and Back\n",
      "A Formal Analysis of 5G Authentication\n",
      "Decentralized Composite Access Control\n",
      "Natural Projection as Partial Model Checking\n",
      "Cardinality Estimators do Not Preserve Privacy\n",
      "From Dolev-Yao to Strong Adaptive Corruption: Analyzing Security in the Presence of Compromising Adversaries\n",
      "Access Control Synthesis for Physical Spaces\n",
      "Evaluation of ISO/IEC 9798 Protocols\n",
      "Formalizing and Analyzing Sender Invariance\n",
      "Algebraic Intruder Deductions\n",
      "Specifying and Verifying Hysteresis Signature System with HOL-Z\n",
      "Specifying Access Control in Event-B\n",
      "A formal analysis of 5G authentication\n",
      "\n",
      "Author 1135\n",
      "Name : Alonso, Gustavo\n",
      "Publications: Shuhai: Benchmarking High Bandwidth Memory on FPGAS\n",
      "SwissQM: Next Generation Data Processing in Sensor Networks\n",
      "Reproducible Floating-Point Aggregation in RDBMSs\n",
      "Pay One, Get Hundreds for Free: Reducing Cloud Costs through Shared Query Execution\n",
      "Distributed join algorithms on thousands of cores\n",
      "Caribou: Intelligent distributed storage\n",
      "The Collection Virtual Machine: An Abstraction for Multi-Frontend Multi-Backend Data Analysis\n",
      "Strong consistency is not hard to get: Two-Phase Locking and Two-Phase Commit on Thousands of Cores\n",
      "Lambada: Interactive Data Analytics on Cold Data Using Serverless Cloud Infrastructure\n",
      "Making Search Engines Faster by Lowering the Cost of Querying Business Rules Through FPGAs\n",
      "SymPhone\n",
      "doppioDB 2.0: Hardware Techniques for Improved Integration of Machine Learning into Databases\n",
      "Lowering the Latency of Data Processing Pipelines Through FPGA based Hardware Acceleration\n",
      "Lambada: Interactive Data Analytics on Cold Data Using Serverless Cloud Infrastructure [Poster]\n",
      "Serverless Clusters: The Missing Piece for Interactive Batch Applications?\n",
      "Eventizing Applications in an Adaptive Middleware Platform\n",
      "Databases on Future Hardware\n",
      "Controlled, systematic, and efficient code replacement for running Java programs\n",
      "Improving the efficiency of adaptive middleware based on dynamic AOP\n",
      "A Dynamic AOPEngine for .NET\n",
      "Database replication based on group communication\n",
      "ASAP Adaptive QoS Support with Reduced Reservation Overhead in MANETs\n",
      "A dynamic lightweight Architecture for Ad-hoc Infrastructures\n",
      "Shared queries in sensor networks for multi-user support\n",
      "E-Cast\n",
      "Main-Memory Hash Joins on Multi-Core CPUs\n",
      "\n",
      "Author 20947\n",
      "Name : Gramazio, Fabio\n",
      "Publications: Smart Dynamic Casting\n",
      "A Fully-Integrated Sensing and Control System for High-Accuracy Mobile Robotic Building Construction\n",
      "Accurate and Adaptive In situ Fabrication of an Undulated Wall using an On-Board Visual Sensing System\n",
      "Computational Design of Robotically Assembled Spatial Structures\n",
      "Greedy Stone Tower Creations with a Robotic Arm\n",
      "Adaptive Control System for Smart Dynamic Casting\n",
      "Robotic AeroCrete – A novel robotic spraying and surface treatment technology for the production of slender reinforced concrete elements\n",
      "Design and Fabrication of a Non-standard, Structural Concrete Column Using Eggshell: Ultra-Thin, 3D Printed Formwork\n",
      "Processing of Set on Demand Solutions for Digital Fabrication in Architecture\n",
      "Digital Concrete: Opportunities and Challenges\n",
      "Eggshell: Ultra-Thin Three-Dimensional Printed Formwork for Concrete Structures\n",
      "Disarmed Strategies: New Machines and Techniques for an Era of Computational Contextualism in Architecture\n",
      "Designing Robotically‐Constructed Metal Frame Structures\n",
      "Mastering yield stress evolution and formwork friction for smart dynamic casting\n",
      "\n",
      "Author 577\n",
      "Name : Ahnen, Max Ludwig\n",
      "Publications: Measuring the Optical Point Spread Function of FACT Using the Cherenkov Camera\n",
      "Single Photon Extraction for FACT’s SiPMs allows for Novel IACT Event Representation\n",
      "FACT – Performance of the First Cherenkov Telescope Observing with SiPMs\n",
      "Higher Order Temperature Dependence of SiPM used in FACT\n",
      "FACT - Highlights from more than Five Years of Unbiased Monitoring at TeV Energies\n",
      "FACT - Searching for periodicity in five-year light-curves of Active Galactic Nuclei\n",
      "FACT - Time-resolved blazar SEDs\n",
      "Using Charged Cosmic Ray Particles to Monitor the Data Quality of FACT\n",
      "\n",
      "Author 36273\n",
      "Name : Mahlke, Max\n",
      "Publications: Measuring the Optical Point Spread Function of FACT Using the Cherenkov Camera\n",
      "Single Photon Extraction for FACT’s SiPMs allows for Novel IACT Event Representation\n",
      "FACT – Performance of the First Cherenkov Telescope Observing with SiPMs\n",
      "Higher Order Temperature Dependence of SiPM used in FACT\n",
      "FACT - Highlights from more than Five Years of Unbiased Monitoring at TeV Energies\n",
      "FACT - Searching for periodicity in five-year light-curves of Active Galactic Nuclei\n",
      "FACT - Time-resolved blazar SEDs\n",
      "Using Charged Cosmic Ray Particles to Monitor the Data Quality of FACT\n",
      "\n",
      "Author 31760\n",
      "Name : Kunz, Andreas\n",
      "Publications: Data driven value creation in AEC along the building lifecycle\n",
      "Virtual Navigation Environment for Blind and Low Vision People\n",
      "Immersive Environment for Distributed Creative Collaboration\n",
      "Designing Virtual Training Environments: Does Immersion increase Task Performance?\n",
      "Gain Compensation in Redirected Walking\n",
      "Workplace to support the teamwork in the early stages of the product development process\n",
      "Human-Robot Collaboration in Decentralized Manufacturing Systems: An Approach for Simulation-based Evaluation of Future Intelligent Production\n",
      "Effect of Sense of Embodiment on Curvature Redirected Walking Thresholds\n",
      "Efficient motion analysis of IT support for information retrieval at manual workplaces\n",
      "Preliminary Environment Mapping for Redirected Walking\n",
      "Effect of Environment Size on Curvature Redirected Walking Thresholds\n",
      "Visual Capture of Gait in Redirected Walking\n",
      "Potentials of IT-supported Assistive Systems: Comparison of two User Studies in the Manufacturing Industry\n",
      "GazeLens: Guiding Attention to Improve Gaze Interpretation in Hub-Satellite Collaboration\n",
      "Virtual reality based time and motion study with support for real walking\n",
      "Condition-based Maintenance: Model vs. Statistics A Performance Comparison\n",
      "Virtual Learning Environment for an Industrial Assembly Task\n",
      "Accessible Multimodal Tool Support for Brainstorming Meetings\n",
      "Accessibility of Non-verbal Communication: Making Spatial Information Accessible to People with Disabilities\n",
      "Eye Gaze Tracking for Detecting Non-verbal Communication in Meeting Environments\n",
      "Real-time Wall Outline Extraction for Redirected Walking\n",
      "Approaching data driven services in the built environment\n",
      "Stress generation and non-intrusive measurement in virtual environments using eye tracking\n",
      "Optimizing human–robot task allocation using a simulation tool based on standardized work descriptions\n",
      "An interactive whiteboard for immersive telecollaboration\n",
      "Visual capture of gait during redirected walking\n",
      "Construction of a three-sides immersive telecollaboration system\n",
      "Walking through virtual mazes: Spontaneous alternation behaviour in human adults\n",
      "\n",
      "Author 7916\n",
      "Name : Burla, Maurizio\n",
      "Publications: Plasmonics for terahertz microwave photonics\n",
      "Novel applications of plasmonics and photonics devices to sub-THz wireless\n",
      "Exploiting Material Resonances to Reduce Losses in Plasmonic Modulators\n",
      "The Path towards 100 Gbit/s Wireless Communications\n",
      "Wideband dynamic microwave frequency identification system using a low-power ultracompact silicon photonic chip\n",
      "Towards on-chip photonic-assisted radio-frequency spectral measurement and monitoring\n",
      "Reconfigurable photonic generation of broadband chirped waveforms using a single CW laser and low-frequency electronics\n",
      "500 GHz plasmonic Mach-Zehnder modulator enabling sub-THz microwave photonics\n",
      "Programmable optical processor chips: toward photonic RF filters with DSP-level flexibility and MHz-band selectivity\n",
      "\n",
      "Author 21408\n",
      "Name : Gross, Markus\n",
      "Publications: Gradient-Based Attribution Methods\n",
      "StoryPrint: an Interactive Visualization of Stories\n",
      "Efﬁcient Feature Embeddings for Student Classiﬁcation with Variational Auto-encoders\n",
      "A Network Architecture for Point Cloud Classification via Automatic Depth Images Generation\n",
      "Monocular RGB Hand Pose Inference from Unsupervised Refinable Nest\n",
      "A unified view of gradient-based attribution methods for Deep Neural Networks\n",
      "Disentangled Dynamic Representations from Unordered Data\n",
      "Towards better understanding of gradient-based attribution methods for Deep Neural Networks\n",
      "Visualization of Clouds and Atmospheric Air Flows\n",
      "Affective State Prediction in a Mobile Setting using Wearable Biometric Sensors and Stylus\n",
      "Generating Animations from Screenplays\n",
      "How to Refine 3D Hand Pose Estimation from Unlabelled Depth Data ?\n",
      "Affective State Prediction Based on Semi-Supervised Learning from Smartphone Touch Data\n",
      "Data-driven extraction and composition of secondary dynamics in facial performance capture\n",
      "An FPGA-based processing pipeline for high-definition stereo video\n",
      "Design and evaluation of the computer-based training program Calcularis for enhancing numerical cognition\n",
      "Interactive Sculpting of Digital Faces Using an Anatomical Modeling Paradigm\n",
      "Phase Space Projection of Dynamical Systems\n",
      "Accurate markerless jaw tracking for facial performance capture\n",
      "Fourier Opacity Optimization for Scalable Exploration\n",
      "Deep Fluids: A Generative Network for Parameterized Fluid Simulations\n",
      "Lagrangian neural style transfer for fluids\n",
      "Progressive Monte Carlo rendering of atmospheric flow features across scales\n",
      "Advanced Tools and Framework for Digital Film Restoration\n",
      "Spatially Adaptive Photographic Flash\n",
      "Ten Years of Research on Intelligent Educational Games for Learning Spelling and Mathematics\n",
      "Neural Importance Sampling\n"
     ]
    }
   ],
   "source": [
    "visualise_most_similar_authors(31043, authors_embeddings, authors2pubs, n=10)"
   ]
  },
  {
   "cell_type": "code",
   "execution_count": null,
   "metadata": {},
   "outputs": [],
   "source": []
  },
  {
   "cell_type": "markdown",
   "metadata": {},
   "source": [
    "## 7. Embedding a query "
   ]
  },
  {
   "cell_type": "code",
   "execution_count": null,
   "metadata": {},
   "outputs": [],
   "source": []
  },
  {
   "cell_type": "code",
   "execution_count": null,
   "metadata": {},
   "outputs": [],
   "source": []
  },
  {
   "cell_type": "markdown",
   "metadata": {},
   "source": [
    "## 8. Clustering nodes "
   ]
  },
  {
   "cell_type": "code",
   "execution_count": null,
   "metadata": {},
   "outputs": [],
   "source": []
  },
  {
   "cell_type": "markdown",
   "metadata": {},
   "source": [
    "# Visualisation"
   ]
  },
  {
   "cell_type": "code",
   "execution_count": 344,
   "metadata": {
    "collapsed": true
   },
   "outputs": [],
   "source": [
    "# first we have to select a subset of topics and their words \n",
    "tn = 10 \n",
    "pn = 5 # number of words to plot per topic\n",
    "topics = topics_embs[0:tn]\n",
    "# collect the vocabulary for the selected topics -------------\n",
    "# and save the embeddings of their words \n",
    "words = []\n",
    "word_embs = []\n",
    "for item in topics2words[0:tn]: \n",
    "    for t2w in item[0:pn]: \n",
    "        word, _ = t2w\n",
    "        if word not in words: \n",
    "            try: \n",
    "                emb = glove_embedding[list(glove_vocab.values()).index(word)]\n",
    "                words +=[word]\n",
    "                word_embs +=[emb]\n",
    "            except: pass"
   ]
  },
  {
   "cell_type": "code",
   "execution_count": 345,
   "metadata": {
    "collapsed": true
   },
   "outputs": [
    {
     "data": {
      "text/plain": [
       "48"
      ]
     },
     "execution_count": 345,
     "metadata": {},
     "output_type": "execute_result"
    }
   ],
   "source": [
    "len(words)"
   ]
  },
  {
   "cell_type": "code",
   "execution_count": 346,
   "metadata": {
    "collapsed": true
   },
   "outputs": [],
   "source": [
    "from sklearn.decomposition import PCA"
   ]
  },
  {
   "cell_type": "code",
   "execution_count": 347,
   "metadata": {
    "collapsed": true
   },
   "outputs": [],
   "source": [
    "# PCA to 2 dimensions \n",
    "pca = PCA(n_components=2)\n",
    "topics_embeddings_df = pd.DataFrame(topics)\n",
    "word_embeddings_df = pd.DataFrame(word_embs)\n",
    "pca_topics = pca.fit_transform(topics_embeddings_df.values)\n",
    "pca_words = pca.fit_transform(word_embeddings_df.values)"
   ]
  },
  {
   "cell_type": "code",
   "execution_count": 349,
   "metadata": {
    "collapsed": true
   },
   "outputs": [
    {
     "data": {
      "image/png": "[encoded data removed]",
      "text/plain": [
       "<Figure size 936x504 with 1 Axes>"
      ]
     },
     "metadata": {
      "needs_background": "light"
     },
     "output_type": "display_data"
    }
   ],
   "source": [
    "import matplotlib.pyplot as plt\n",
    "plt.figure(figsize=(13,7))\n",
    "plt.scatter(pca_topics[:,0], pca_topics[:,1],linewidths=1,color='red')\n",
    "for i, _ in enumerate(topics):\n",
    "    plt.annotate(\"Topic \"+str(i),xy=(pca_topics[i,0],pca_topics[i,1]))\n",
    "plt.xlabel(\"PC1\",size=15)\n",
    "plt.ylabel(\"PC2\",size=15)\n",
    "plt.title(\"Word Embedding Space\",size=20)\n",
    "plt.scatter(pca_words[:,0], pca_words[:,1],linewidths=1,color='blue')\n",
    "for i, word in enumerate(words):\n",
    "    plt.annotate(word,xy=(pca_words[i,0],pca_words[i,1]))"
   ]
  },
  {
   "cell_type": "code",
   "execution_count": null,
   "metadata": {
    "collapsed": true
   },
   "outputs": [],
   "source": []
  },
  {
   "cell_type": "code",
   "execution_count": null,
   "metadata": {
    "collapsed": true
   },
   "outputs": [],
   "source": []
  },
  {
   "cell_type": "markdown",
   "metadata": {},
   "source": [
    "## 5. Embedding topics - representation learning "
   ]
  },
  {
   "cell_type": "code",
   "execution_count": 27,
   "metadata": {
    "scrolled": true
   },
   "outputs": [],
   "source": [
    "# Idea: a simple autoencoder to reconstruct topics embeddings\n",
    "# The autoencoder takes as input the topic 2 word distribution and finds \n",
    "# a representation of the topic able to reconstruct it (+ idea: add noise in the input)\n",
    "# We will enforce similarity with the topic words by applying a regulariser that measures \n",
    "# the non-similarity with the topic words "
   ]
  },
  {
   "cell_type": "code",
   "execution_count": 28,
   "metadata": {
    "scrolled": true
   },
   "outputs": [],
   "source": [
    "import torch \n",
    "from torch import nn"
   ]
  },
  {
   "cell_type": "code",
   "execution_count": 29,
   "metadata": {
    "scrolled": true
   },
   "outputs": [
    {
     "ename": "SyntaxError",
     "evalue": "invalid syntax (<ipython-input-29-6036a234a8c6>, line 17)",
     "output_type": "error",
     "traceback": [
      "\u001b[1;36m  File \u001b[1;32m\"<ipython-input-29-6036a234a8c6>\"\u001b[1;36m, line \u001b[1;32m17\u001b[0m\n\u001b[1;33m    total loss =\u001b[0m\n\u001b[1;37m             ^\u001b[0m\n\u001b[1;31mSyntaxError\u001b[0m\u001b[1;31m:\u001b[0m invalid syntax\n"
     ]
    }
   ],
   "source": [
    "class topicsLoss(nn.Module):\n",
    "    def __init__(self, **kwargs):\n",
    "        super().__init__()\n",
    "        self.mse = nn.MSELoss()\n",
    "        \n",
    "    def topic_words_dissimilarity(self, hidden, topicwords_embs, topicwords_weights):\n",
    "        \"\"\" \n",
    "        topicwords_embs: torch tensor of size BATCH x NUM_WORDS x EMB_DIM \n",
    "        topicwords_weights: torch tensor of size BATCH x NUM_WORDS \n",
    "        \n",
    "        \"\"\"\n",
    "        # 1. normalise the weights \n",
    "        normalized_weights = weight_vec / np.sqrt(np.sum(weight_vec**2))\n",
    "        # 2. compute hidden - embeddings distances\n",
    "        distances = torch.cdist(topicwords_embs,hidden) # B x W\n",
    "        # 3. dot product of weights and distances \n",
    "        total loss = \n",
    "        return total_loss \n",
    "    \n",
    "    def forward(self, outputs, targets, hidden, topicswords_embs, topicswords_weights):\n",
    "        loss = self.mse(outputs,targets) + self.topic_words_dissimilarity(hidden, topicswords_embs, topicswords_weights)\n",
    "        return loss \n",
    "        \n",
    "    \n",
    "class topicsAE(nn.Module):\n",
    "    def __init__(self, **kwargs):\n",
    "        super().__init__()\n",
    "        \"\"\" \n",
    "        simply 4 shrinking linear layers with relu non linearities \n",
    "         - words2topic max -----> 150 \n",
    "         - 150 -----> 300\n",
    "         - 300 -----> 150\n",
    "         - 150 -----> words2topic max\n",
    "        \"\"\"\n",
    "        self.encoder_hidden_layer = nn.Linear(in_features=kwargs[\"input_shape\"], out_features=150)\n",
    "        self.encoder_output_layer = nn.Linear(in_features=150, out_features=300)\n",
    "        self.decoder_hidden_layer = nn.Linear(in_features=300, out_features=150)\n",
    "        self.decoder_output_layer = nn.Linear(in_features=150, out_features=kwargs[\"input_shape\"])\n",
    "\n",
    "    def forward(self, features):\n",
    "        activation = self.encoder_hidden_layer(features)\n",
    "        activation = torch.relu(activation)\n",
    "        code = self.encoder_output_layer(activation)\n",
    "        code = torch.relu(code)\n",
    "        activation = self.decoder_hidden_layer(code)\n",
    "        activation = torch.relu(activation)\n",
    "        activation = self.decoder_output_layer(activation)\n",
    "        reconstructed = torch.relu(activation)\n",
    "        return reconstructed\n",
    "    "
   ]
  },
  {
   "cell_type": "code",
   "execution_count": 166,
   "metadata": {
    "scrolled": true
   },
   "outputs": [
    {
     "data": {
      "text/plain": [
       "torch.Size([100, 100, 50])"
      ]
     },
     "execution_count": 166,
     "metadata": {},
     "output_type": "execute_result"
    }
   ],
   "source": [
    "torch.cdist(c, a).size()"
   ]
  },
  {
   "cell_type": "code",
   "execution_count": 163,
   "metadata": {
    "scrolled": true
   },
   "outputs": [
    {
     "data": {
      "text/plain": [
       "torch.Size([100, 300, 1])"
      ]
     },
     "execution_count": 163,
     "metadata": {},
     "output_type": "execute_result"
    }
   ],
   "source": [
    "torch.matmul(a.transpose(1,2),b.unsqueeze(2)).size()"
   ]
  },
  {
   "cell_type": "code",
   "execution_count": 154,
   "metadata": {
    "scrolled": true
   },
   "outputs": [],
   "source": [
    "# input data \n",
    "# the input to the model is a set of words_indices vectors \n",
    "def get_input_data(topics2words, vocab, max_len):\n",
    "    \"\"\" Returns a list of word indices for each of the topics \n",
    "    given as input. \"\"\"\n",
    "    words_idxs=[]\n",
    "    topics_embs=[]\n",
    "    topics_weights=[]\n",
    "    for topic in topics2words: \n",
    "        twi = [0]*max_len\n",
    "        topic_embeddings, topic_weights = get_list_embeddings_topic(topic, glove_vocab, glove_embedding, silence=True)\n",
    "        # padding the vectors before adding them to the list \n",
    "        topics_embs += [F.pad(torch.tensor(topic_embeddings, requires_grad=False), [0,0,0,max_len-len(topic_embeddings)])] \n",
    "        topics_weights += [F.pad(torch.tensor(topic_weights,  requires_grad=False), \n",
    "                                 [0,max_len-len(topic_weights)])]\n",
    "        for i,item in enumerate(topic): \n",
    "            word = item[0]\n",
    "            try: # could fail if word not in the vocabulary\n",
    "                twi[i] = list(vocab.values()).index(word)\n",
    "            except Exception as e: pass\n",
    "        words_idxs += [twi] \n",
    "    return words_idxs, topics_embs, topics_weights"
   ]
  },
  {
   "cell_type": "code",
   "execution_count": 130,
   "metadata": {
    "scrolled": true
   },
   "outputs": [],
   "source": [
    "MAX_INPUT_LEN = 50\n",
    "input_data, topics_embs, topics_weights = get_input_data(topics2words, glove_vocab, MAX_INPUT_LEN)"
   ]
  },
  {
   "cell_type": "code",
   "execution_count": 141,
   "metadata": {
    "scrolled": true
   },
   "outputs": [],
   "source": [
    "EPOCHS = 20\n",
    "NUM_TRAIN_BATCHES = 5 # 100 topics in 1 batch ---> 5 batches training \n",
    "train_batches = np.array_split(list(range(len(input_data))), NUM_TRAIN_BATCHES)\n",
    "LR = 1e-3"
   ]
  },
  {
   "cell_type": "code",
   "execution_count": 71,
   "metadata": {
    "scrolled": true
   },
   "outputs": [],
   "source": [
    "device = torch.device(\"cuda\" if torch.cuda.is_available() else \"cpu\")\n",
    "net = topicsAE(input_shape=MAX_INPUT_LEN).to(device)\n",
    "optimizer = torch.optim.Adam(net.parameters(), lr=LR)\n",
    "criterion = topicsLoss()"
   ]
  },
  {
   "cell_type": "code",
   "execution_count": null,
   "metadata": {
    "scrolled": true
   },
   "outputs": [],
   "source": [
    "# training \n",
    "for epoch in range(epochs):\n",
    "    loss = 0\n",
    "    for batch in train_batch_data:\n",
    "        # collecting input data\n",
    "        model_input = torch.tensor(input_data[batch[0]:batch[-1]], dtype=torch.float)\n",
    "        batch_topics_embs = torch.tensor(topics_embs[batch[0]:batch[-1]], requires_grad=False)\n",
    "        batch_topics_weights = torch.tensor(topics_weights[batch[0]:batch[-1]],  requires_grad=False)\n",
    "        \n",
    "        optimizer.zero_grad()\n",
    "        outputs = net(model_input)\n",
    "        # get tensor embedding from the autoencoder \n",
    "        activation = net.encoder_hidden_layer(model_input)\n",
    "        activation = torch.relu(activation)\n",
    "        code = net.encoder_output_layer(activation)\n",
    "        tensor_emb = torch.relu(code)\n",
    "        # finally pass everything into the loss \n",
    "        train_loss = criterion(outputs, batch_features)\n",
    "        train_loss.backward()\n",
    "        optimizer.step()\n",
    "        loss += train_loss.item()\n",
    "    loss = loss / len(train_loader)\n",
    "    print(\"epoch : {}/{}, loss = {:.6f}\".format(epoch + 1, epochs, loss))"
   ]
  },
  {
   "cell_type": "code",
   "execution_count": null,
   "metadata": {
    "scrolled": true
   },
   "outputs": [],
   "source": []
  }
 ],
 "metadata": {
  "kernelspec": {
   "display_name": "Python 3",
   "language": "python",
   "name": "python3"
  },
  "language_info": {
   "codemirror_mode": {
    "name": "ipython",
    "version": 3
   },
   "file_extension": ".py",
   "mimetype": "text/x-python",
   "name": "python",
   "nbconvert_exporter": "python",
   "pygments_lexer": "ipython3",
   "version": "3.7.5"
  }
 },
 "nbformat": 4,
 "nbformat_minor": 2
}
