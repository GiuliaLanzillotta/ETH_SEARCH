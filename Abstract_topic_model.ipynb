{
 "cells": [
  {
   "cell_type": "markdown",
   "metadata": {},
   "source": [
    "# Topic modeling on abstracts"
   ]
  },
  {
   "cell_type": "markdown",
   "metadata": {},
   "source": [
    "## 1. Preprocessing"
   ]
  },
  {
   "cell_type": "code",
   "execution_count": 29,
   "metadata": {},
   "outputs": [],
   "source": [
    "import pandas as pd\n",
    "import os \n",
    "import numpy as np\n",
    "import re"
   ]
  },
  {
   "cell_type": "code",
   "execution_count": 30,
   "metadata": {},
   "outputs": [],
   "source": [
    "import nltk\n",
    "from nltk import word_tokenize, RegexpTokenizer,PunktSentenceTokenizer, sent_tokenize\n",
    "from nltk.stem import PorterStemmer\n",
    "from nltk.stem import WordNetLemmatizer\n",
    "from nltk.corpus import stopwords"
   ]
  },
  {
   "cell_type": "code",
   "execution_count": null,
   "metadata": {},
   "outputs": [],
   "source": [
    "#!pip install gensim"
   ]
  },
  {
   "cell_type": "code",
   "execution_count": 31,
   "metadata": {},
   "outputs": [],
   "source": [
    "import gensim\n",
    "import gensim.corpora as corpora\n",
    "from gensim.utils import simple_preprocess\n",
    "from gensim.models import CoherenceModel"
   ]
  },
  {
   "cell_type": "markdown",
   "metadata": {},
   "source": [
    "### 1.1 Load the data "
   ]
  },
  {
   "cell_type": "code",
   "execution_count": 32,
   "metadata": {
    "scrolled": true
   },
   "outputs": [],
   "source": [
    "abstracts = pd.read_csv(\"abstracts.csv\")"
   ]
  },
  {
   "cell_type": "code",
   "execution_count": 33,
   "metadata": {
    "scrolled": true
   },
   "outputs": [
    {
     "data": {
      "text/html": [
       "<div>\n",
       "<style scoped>\n",
       "    .dataframe tbody tr th:only-of-type {\n",
       "        vertical-align: middle;\n",
       "    }\n",
       "\n",
       "    .dataframe tbody tr th {\n",
       "        vertical-align: top;\n",
       "    }\n",
       "\n",
       "    .dataframe thead th {\n",
       "        text-align: right;\n",
       "    }\n",
       "</style>\n",
       "<table border=\"1\" class=\"dataframe\">\n",
       "  <thead>\n",
       "    <tr style=\"text-align: right;\">\n",
       "      <th></th>\n",
       "      <th>abstract</th>\n",
       "      <th>id</th>\n",
       "    </tr>\n",
       "  </thead>\n",
       "  <tbody>\n",
       "    <tr>\n",
       "      <th>0</th>\n",
       "      <td>The goal of this note is to introduce new clas...</td>\n",
       "      <td>188444.0</td>\n",
       "    </tr>\n",
       "    <tr>\n",
       "      <th>1</th>\n",
       "      <td>We will review a Lemma published by Ran Raz in...</td>\n",
       "      <td>188623.0</td>\n",
       "    </tr>\n",
       "    <tr>\n",
       "      <th>2</th>\n",
       "      <td>China’s growing influence in Europe has the po...</td>\n",
       "      <td>346708.0</td>\n",
       "    </tr>\n",
       "    <tr>\n",
       "      <th>3</th>\n",
       "      <td>Nowhere is China's Belt and Road Initiative (B...</td>\n",
       "      <td>346709.0</td>\n",
       "    </tr>\n",
       "    <tr>\n",
       "      <th>4</th>\n",
       "      <td>The chapter examines to what extent Alison and...</td>\n",
       "      <td>359017.0</td>\n",
       "    </tr>\n",
       "  </tbody>\n",
       "</table>\n",
       "</div>"
      ],
      "text/plain": [
       "                                            abstract        id\n",
       "0  The goal of this note is to introduce new clas...  188444.0\n",
       "1  We will review a Lemma published by Ran Raz in...  188623.0\n",
       "2  China’s growing influence in Europe has the po...  346708.0\n",
       "3  Nowhere is China's Belt and Road Initiative (B...  346709.0\n",
       "4  The chapter examines to what extent Alison and...  359017.0"
      ]
     },
     "execution_count": 33,
     "metadata": {},
     "output_type": "execute_result"
    }
   ],
   "source": [
    "abstracts.head()"
   ]
  },
  {
   "cell_type": "code",
   "execution_count": 34,
   "metadata": {},
   "outputs": [],
   "source": [
    "abs_list = list(abstracts['abstract'])"
   ]
  },
  {
   "cell_type": "code",
   "execution_count": 35,
   "metadata": {},
   "outputs": [
    {
     "data": {
      "text/plain": [
       "21421"
      ]
     },
     "execution_count": 35,
     "metadata": {},
     "output_type": "execute_result"
    }
   ],
   "source": [
    "len(abs_list)"
   ]
  },
  {
   "cell_type": "markdown",
   "metadata": {},
   "source": [
    "**21421** abstracts in total"
   ]
  },
  {
   "cell_type": "markdown",
   "metadata": {},
   "source": [
    "### 1.2 Step 1 \n",
    "- tokenization \n",
    "- punctuation removal \n",
    "- lowercasing"
   ]
  },
  {
   "cell_type": "code",
   "execution_count": 36,
   "metadata": {},
   "outputs": [
    {
     "name": "stdout",
     "output_type": "stream",
     "text": [
      "4003032 tokens created\n"
     ]
    }
   ],
   "source": [
    "tokenised = []\n",
    "count = 0\n",
    "for abstract in abs_list:\n",
    "    raw = abstract\n",
    "    tokens = gensim.utils.simple_preprocess(str(raw), deacc=True)\n",
    "    tokenised.append(tokens)\n",
    "    count += len(tokens)\n",
    "print(str(count)+\" tokens created\")"
   ]
  },
  {
   "cell_type": "code",
   "execution_count": 41,
   "metadata": {},
   "outputs": [
    {
     "data": {
      "text/plain": [
       "83831"
      ]
     },
     "execution_count": 41,
     "metadata": {},
     "output_type": "execute_result"
    }
   ],
   "source": [
    "c = []\n",
    "for doc in tokenised: \n",
    "    c+=doc\n",
    "len(set(c))"
   ]
  },
  {
   "cell_type": "markdown",
   "metadata": {},
   "source": [
    "So we have **83831** unique words in the beginning"
   ]
  },
  {
   "cell_type": "markdown",
   "metadata": {},
   "source": [
    "### 1.3 Step 2 \n",
    "- removing stopwords \n",
    "- (removing other words based on different strategies - like word length thresholding) "
   ]
  },
  {
   "cell_type": "code",
   "execution_count": 42,
   "metadata": {},
   "outputs": [],
   "source": [
    "stop_words = stopwords.words('english')\n",
    "cleaned = [[word for word in doc if word not in stop_words] for doc in tokenised]"
   ]
  },
  {
   "cell_type": "code",
   "execution_count": null,
   "metadata": {},
   "outputs": [],
   "source": [
    "# Consider extending the stopwords ...\n",
    "# stop_words.extend(['from', 'subject', 're', 'edu', 'use'])"
   ]
  },
  {
   "cell_type": "code",
   "execution_count": null,
   "metadata": {},
   "outputs": [],
   "source": [
    "# Consider removing words with less than [x] characters "
   ]
  },
  {
   "cell_type": "code",
   "execution_count": 44,
   "metadata": {},
   "outputs": [
    {
     "data": {
      "text/plain": [
       "83695"
      ]
     },
     "execution_count": 44,
     "metadata": {},
     "output_type": "execute_result"
    }
   ],
   "source": [
    "c = []\n",
    "for doc in cleaned: \n",
    "    c+=doc\n",
    "len(set(c))"
   ]
  },
  {
   "cell_type": "markdown",
   "metadata": {},
   "source": [
    "Now after stopwords removal we have **83695** terms (136 less)"
   ]
  },
  {
   "cell_type": "markdown",
   "metadata": {},
   "source": [
    "### 1.4 Step 3 \n",
    "- stemming \n",
    "- lemmatizing "
   ]
  },
  {
   "cell_type": "code",
   "execution_count": 23,
   "metadata": {},
   "outputs": [],
   "source": [
    "#nltk.download('wordnet')"
   ]
  },
  {
   "cell_type": "code",
   "execution_count": 45,
   "metadata": {},
   "outputs": [],
   "source": [
    "word_stemmer = PorterStemmer()\n",
    "lemmatiser = WordNetLemmatizer()\n",
    "cleaned = [[lemmatiser.lemmatize(word_stemmer.stem(word)) for word in doc] for doc in cleaned]"
   ]
  },
  {
   "cell_type": "code",
   "execution_count": 47,
   "metadata": {},
   "outputs": [
    {
     "data": {
      "text/plain": [
       "61182"
      ]
     },
     "execution_count": 47,
     "metadata": {},
     "output_type": "execute_result"
    }
   ],
   "source": [
    "c = []\n",
    "for doc in cleaned: \n",
    "    c+=doc\n",
    "len(set(c))"
   ]
  },
  {
   "cell_type": "markdown",
   "metadata": {},
   "source": [
    "And after stemming and lemmatization we have **61182** terms (22,513 less)"
   ]
  },
  {
   "cell_type": "markdown",
   "metadata": {},
   "source": [
    "### 1.5 Build n-grams"
   ]
  },
  {
   "cell_type": "code",
   "execution_count": null,
   "metadata": {},
   "outputs": [],
   "source": [
    "bigram = gensim.models.Phrases(tokenised, min_count=5, threshold=100) # higher threshold fewer phrases."
   ]
  },
  {
   "cell_type": "code",
   "execution_count": null,
   "metadata": {},
   "outputs": [],
   "source": [
    "trigram = gensim.models.Phrases(bigram[data_words], threshold=100)"
   ]
  },
  {
   "cell_type": "markdown",
   "metadata": {},
   "source": [
    "### 1.6 Analyse the vocabulary"
   ]
  },
  {
   "cell_type": "code",
   "execution_count": 48,
   "metadata": {},
   "outputs": [],
   "source": [
    "flatten = lambda l: [item for sublist in l for item in sublist]"
   ]
  },
  {
   "cell_type": "code",
   "execution_count": 49,
   "metadata": {},
   "outputs": [],
   "source": [
    "wordlist = flatten(cleaned)"
   ]
  },
  {
   "cell_type": "code",
   "execution_count": 51,
   "metadata": {},
   "outputs": [],
   "source": [
    "from collections import Counter\n",
    "counts = Counter(wordlist)"
   ]
  },
  {
   "cell_type": "code",
   "execution_count": 53,
   "metadata": {},
   "outputs": [
    {
     "data": {
      "text/plain": [
       "[('use', 20320),\n",
       " ('model', 18903),\n",
       " ('result', 12794),\n",
       " ('studi', 12169),\n",
       " ('data', 11853),\n",
       " ('differ', 10236),\n",
       " ('base', 9886),\n",
       " ('system', 9371),\n",
       " ('measur', 8956),\n",
       " ('show', 8800)]"
      ]
     },
     "execution_count": 53,
     "metadata": {},
     "output_type": "execute_result"
    }
   ],
   "source": [
    "counts.most_common(10)"
   ]
  },
  {
   "cell_type": "code",
   "execution_count": 56,
   "metadata": {},
   "outputs": [],
   "source": [
    "hist(counts.most_common(10))"
   ]
  },
  {
   "cell_type": "markdown",
   "metadata": {},
   "source": [
    "## 2. Modelling"
   ]
  },
  {
   "cell_type": "markdown",
   "metadata": {},
   "source": [
    "### LDA"
   ]
  },
  {
   "cell_type": "code",
   "execution_count": 59,
   "metadata": {},
   "outputs": [],
   "source": [
    "#!pip3.7 install tomotopy"
   ]
  },
  {
   "cell_type": "code",
   "execution_count": 60,
   "metadata": {},
   "outputs": [],
   "source": [
    "import sys\n",
    "import tomotopy as tp"
   ]
  },
  {
   "cell_type": "code",
   "execution_count": 77,
   "metadata": {},
   "outputs": [],
   "source": [
    "# Defining hyperparameters\n",
    "tw = tp.TermWeight.ONE # term weighting scheme in TermWeight. The default value is TermWeight.ONE\n",
    "k = 20 # number of topics...\n",
    "min_cf=3 # minimum collection frequency of words. Words with a smaller collection frequency than min_cf are excluded from the model. The default value is 0, which means no words are excluded.\n",
    "min_df=0 # minimum document frequency of words. Words with a smaller document frequency than min_df are excluded from the model. The default value is 0, which means no words are excluded\n",
    "rm_top=5 # the number of top words to be removed. If you want to remove too common words from model, you can set this value to 1 or more. The default value is 0, which means no top words are removed.\n",
    "alpha = None # hyperparameter of Dirichlet distribution for document-topic\n",
    "eta = None # hyperparameter of Dirichlet distribution for topic-word\n",
    "seed = 41 # random seed\n",
    "model_burn_in = 100 \n",
    "train_updates = 1000\n",
    "train_iter = 10\n",
    "save_path = \"lda_model\""
   ]
  },
  {
   "cell_type": "code",
   "execution_count": 69,
   "metadata": {},
   "outputs": [],
   "source": [
    "# Instantiating the model\n",
    "model = tp.LDAModel(tw=tp.TermWeight.ONE, min_cf=min_cf, rm_top=rm_top, k=k)"
   ]
  },
  {
   "cell_type": "code",
   "execution_count": 70,
   "metadata": {},
   "outputs": [],
   "source": [
    "# adding documents to the model \n",
    "for doc in cleaned: model.add_doc(doc)"
   ]
  },
  {
   "cell_type": "code",
   "execution_count": 71,
   "metadata": {},
   "outputs": [
    {
     "name": "stderr",
     "output_type": "stream",
     "text": [
      "Training...\n"
     ]
    },
    {
     "name": "stdout",
     "output_type": "stream",
     "text": [
      "Num docs: 21421 , Vocab size: 28212 , Num words: 2494300\n",
      "Removed top words: ['use', 'model', 'result', 'studi', 'data']\n",
      "Iteration: 0\n",
      "Iteration: 100\n",
      "Iteration: 200\n",
      "Iteration: 300\n",
      "Iteration: 400\n",
      "Iteration: 500\n",
      "Iteration: 600\n",
      "Iteration: 700\n",
      "Iteration: 800\n",
      "Iteration: 900\n"
     ]
    }
   ],
   "source": [
    "# training**\n",
    "model.burn_in = model_burn_in\n",
    "# initialising \n",
    "model.train(iter=0)\n",
    "print('Num docs:', len(model.docs), ', Vocab size:', len(model.used_vocabs), ', Num words:', model.num_words)\n",
    "print('Removed top words:', model.removed_top_words)\n",
    "print('Training...', file=sys.stderr, flush=True)\n",
    "# actual training \n",
    "time = []\n",
    "LLs = []\n",
    "for i in range(0, train_updates, train_iter):\n",
    "    model.train(train_iter)\n",
    "    if i%100==0:print('Iteration: {}'.format(i))\n",
    "    time.append(i)\n",
    "    LLs.append(model.ll_per_word)"
   ]
  },
  {
   "cell_type": "code",
   "execution_count": 74,
   "metadata": {},
   "outputs": [
    {
     "data": {
      "text/plain": [
       "Text(0.5, 0, 'Iteration')"
      ]
     },
     "execution_count": 74,
     "metadata": {},
     "output_type": "execute_result"
    },
    {
     "data": {
      "image/png": "[encoded data removed]",
      "text/plain": [
       "<Figure size 432x288 with 1 Axes>"
      ]
     },
     "metadata": {
      "needs_background": "light"
     },
     "output_type": "display_data"
    }
   ],
   "source": [
    "import matplotlib.pyplot as plt\n",
    "plt.plot(time,LLs)\n",
    "plt.ylabel('Log-likelihood')\n",
    "plt.xlabel('Iteration')"
   ]
  },
  {
   "cell_type": "code",
   "execution_count": 75,
   "metadata": {},
   "outputs": [
    {
     "name": "stdout",
     "output_type": "stream",
     "text": [
      "<Basic Info>\n",
      "| LDAModel (current version: 0.9.1)\n",
      "| 21421 docs, 2494300 words\n",
      "| Total Vocabs: 61182, Used Vocabs: 28212\n",
      "| Entropy of words: -8.15075\n",
      "| Removed Vocabs: use model result studi data\n",
      "|\n",
      "<Training Info>\n",
      "| Iterations: 1000, Burn-in steps: 100\n",
      "| Optimization Interval: 10\n",
      "| Log-likelihood per word: -8.02214\n",
      "|\n",
      "<Initial Parameters>\n",
      "| tw: TermWeight.ONE\n",
      "| min_cf: 3 (minimum collection frequency of words)\n",
      "| min_df: 0 (minimum document frequency of words)\n",
      "| rm_top: 5 (the number of top words to be removed)\n",
      "| k: 20 (the number of topics between 1 ~ 32767)\n",
      "| alpha: 0.1 (hyperparameter of Dirichlet distribution for document-topic)\n",
      "| eta: 0.01 (hyperparameter of Dirichlet distribution for topic-word)\n",
      "| seed: 1443100946 (random seed)\n",
      "| trained in version 0.9.1\n",
      "|\n",
      "<Parameters>\n",
      "| alpha (Dirichlet prior on the per-document topic distributions)\n",
      "|  [0.048902   0.03391528 0.12352751 0.06520332 0.05332191 0.06061967\n",
      "|   0.04910828 0.02443163 0.01074238 0.03457771 0.04973521 0.03293201\n",
      "|   0.02537197 0.02245571 0.02719605 0.04939524 0.04720613 0.04535511\n",
      "|   0.0417501  0.15704785]\n",
      "| eta (Dirichlet prior on the per-topic word distribution)\n",
      "|  0.01\n",
      "|\n",
      "<Topics>\n",
      "| #0 (171310) : cell protein express activ gene\n",
      "| #1 (113071) : gene genom sequenc popul genet\n",
      "| #2 (201911) : research develop design new process\n",
      "| #3 (149143) : countri polici effect social find\n",
      "| #4 (125862) : electron field magnet state quantum\n",
      "| #5 (120819) : network system control base perform\n",
      "| #6 (179451) : climat chang observ region temperatur\n",
      "| #7 (99121) : mass proton measur tev product\n",
      "| #8 (98614) : die der und de von\n",
      "| #9 (106263) : soil plant speci forest water\n",
      "| #10 (103342) : problem theori show algorithm gener\n",
      "| #11 (122878) : activ patient function control effect\n",
      "| #12 (76570) : patient tissu cell cancer tumor\n",
      "| #13 (65601) : food effect iron increas exposur\n",
      "| #14 (86869) : particl aerosol cloud ice concentr\n",
      "| #15 (113464) : flow structur mechan materi surfac\n",
      "| #16 (113584) : structur reaction activ chemic product\n",
      "| #17 (113233) : energi transport urban system travel\n",
      "| #18 (83271) : imag measur method resolut high\n",
      "| #19 (249923) : method base approach predict time\n",
      "|\n",
      "\n"
     ]
    }
   ],
   "source": [
    "model.summary()"
   ]
  },
  {
   "cell_type": "code",
   "execution_count": 78,
   "metadata": {},
   "outputs": [
    {
     "name": "stderr",
     "output_type": "stream",
     "text": [
      "Saving...\n"
     ]
    }
   ],
   "source": [
    "print('Saving...', file=sys.stderr, flush=True)\n",
    "model.save(save_path, full=True) # If full is True, the model with its all documents and state will be saved. If you want to train more after, use full model. If False, only topic parameters of the model will be saved. This model can be only used for inference of an unseen document."
   ]
  },
  {
   "cell_type": "markdown",
   "metadata": {},
   "source": [
    "Let's have a better look at the results!"
   ]
  },
  {
   "cell_type": "code",
   "execution_count": 80,
   "metadata": {},
   "outputs": [
    {
     "name": "stdout",
     "output_type": "stream",
     "text": [
      "Topic #0\n",
      "\t\tcell\t0.036528538912534714\n",
      "\t\tprotein\t0.016236234456300735\n",
      "\t\texpress\t0.011620637960731983\n",
      "\t\tactiv\t0.009825684130191803\n",
      "\t\tgene\t0.009126351214945316\n",
      "\t\tregul\t0.008444502018392086\n",
      "\t\tfunction\t0.007646096870303154\n",
      "\t\tsignal\t0.006393125746399164\n",
      "\t\ttranscript\t0.005687965080142021\n",
      "\t\trespons\t0.005652998574078083\n",
      "Topic #1\n",
      "\t\tgene\t0.018455689772963524\n",
      "\t\tgenom\t0.014132915064692497\n",
      "\t\tsequenc\t0.0132948262616992\n",
      "\t\tpopul\t0.011398098431527615\n",
      "\t\tgenet\t0.010471790097653866\n",
      "\t\tspeci\t0.010092443786561489\n",
      "\t\thost\t0.007983989082276821\n",
      "\t\tresist\t0.006704800296574831\n",
      "\t\tselect\t0.006651868112385273\n",
      "\t\tdiffer\t0.006484250538051128\n",
      "Topic #2\n",
      "\t\tresearch\t0.01288377121090889\n",
      "\t\tdevelop\t0.011311017908155918\n",
      "\t\tdesign\t0.007463211193680763\n",
      "\t\tnew\t0.007379133254289627\n",
      "\t\tprocess\t0.00724065164104104\n",
      "\t\tprovid\t0.00709227891638875\n",
      "\t\tsystem\t0.0064048171043396\n",
      "\t\tapproach\t0.006078396458178759\n",
      "\t\tinform\t0.005930023733526468\n",
      "\t\tdiscus\t0.005865728482604027\n",
      "Topic #3\n",
      "\t\tcountri\t0.00958346202969551\n",
      "\t\tpolici\t0.009576769545674324\n",
      "\t\teffect\t0.009175230748951435\n",
      "\t\tsocial\t0.007977306842803955\n",
      "\t\tfind\t0.007348228711634874\n",
      "\t\trisk\t0.007287997752428055\n",
      "\t\teconom\t0.006551843136548996\n",
      "\t\tfirm\t0.005333842243999243\n",
      "\t\tmarket\t0.005320457275956869\n",
      "\t\tlevel\t0.005307072773575783\n",
      "Topic #4\n",
      "\t\telectron\t0.010297824628651142\n",
      "\t\tfield\t0.009100780822336674\n",
      "\t\tmagnet\t0.009053216315805912\n",
      "\t\tstate\t0.007721406407654285\n",
      "\t\tquantum\t0.007229905109852552\n",
      "\t\tphase\t0.006770113483071327\n",
      "\t\thigh\t0.006476798560470343\n",
      "\t\toptic\t0.006405451335012913\n",
      "\t\ttemperatur\t0.006191410589963198\n",
      "\t\tenergi\t0.005810893140733242\n",
      "Topic #5\n",
      "\t\tnetwork\t0.01776209846138954\n",
      "\t\tsystem\t0.016795964911580086\n",
      "\t\tcontrol\t0.010264232754707336\n",
      "\t\tbase\t0.008876961655914783\n",
      "\t\tperform\t0.008075978606939316\n",
      "\t\tcomput\t0.0074484036304056644\n",
      "\t\tapplic\t0.007159389089792967\n",
      "\t\ttime\t0.006853859405964613\n",
      "\t\tpresent\t0.006597874686121941\n",
      "\t\tlearn\t0.006498783826828003\n",
      "Topic #6\n",
      "\t\tclimat\t0.013347622938454151\n",
      "\t\tchang\t0.011639535427093506\n",
      "\t\tobserv\t0.008941089734435081\n",
      "\t\tregion\t0.008440347388386726\n",
      "\t\ttemperatur\t0.008067572489380836\n",
      "\t\tglobal\t0.008034189231693745\n",
      "\t\tsurfac\t0.007221874315291643\n",
      "\t\twater\t0.00716623617336154\n",
      "\t\tsimul\t0.006671057548373938\n",
      "\t\tincreas\t0.006136932410299778\n",
      "Topic #7\n",
      "\t\tmass\t0.02288670651614666\n",
      "\t\tproton\t0.01590503379702568\n",
      "\t\tmeasur\t0.015633413568139076\n",
      "\t\ttev\t0.015080111101269722\n",
      "\t\tproduct\t0.014949330128729343\n",
      "\t\tjet\t0.014496628195047379\n",
      "\t\tdecay\t0.014144526794552803\n",
      "\t\tcollis\t0.014003685675561428\n",
      "\t\tboson\t0.013440323062241077\n",
      "\t\tsection\t0.01320894155651331\n",
      "Topic #8\n",
      "\t\tdie\t0.049304358661174774\n",
      "\t\tder\t0.04752471297979355\n",
      "\t\tund\t0.03830292075872421\n",
      "\t\tde\t0.024824129417538643\n",
      "\t\tvon\t0.014742843806743622\n",
      "\t\tein\t0.014621504582464695\n",
      "\t\tden\t0.011921701952815056\n",
      "\t\tfur\t0.011709357611835003\n",
      "\t\tzu\t0.011608241125941277\n",
      "\t\tim\t0.011335227638483047\n",
      "Topic #9\n",
      "\t\tsoil\t0.020939579233527184\n",
      "\t\tplant\t0.015280005522072315\n",
      "\t\tspeci\t0.014651164412498474\n",
      "\t\tforest\t0.010070945136249065\n",
      "\t\twater\t0.009620431810617447\n",
      "\t\tchang\t0.009320089593529701\n",
      "\t\teffect\t0.009160532616078854\n",
      "\t\tecosystem\t0.009047904051840305\n",
      "\t\tcommun\t0.00874756183475256\n",
      "\t\tgrowth\t0.007705749943852425\n",
      "Topic #10\n",
      "\t\tproblem\t0.01163831353187561\n",
      "\t\ttheori\t0.008907289244234562\n",
      "\t\tshow\t0.008453726768493652\n",
      "\t\talgorithm\t0.008434426970779896\n",
      "\t\tgener\t0.008308973163366318\n",
      "\t\tbound\t0.007672055624425411\n",
      "\t\tapproxim\t0.007536951918154955\n",
      "\t\tspace\t0.0072860452346503735\n",
      "\t\tfunction\t0.007170242257416248\n",
      "\t\tsolut\t0.006774581503123045\n",
      "Topic #11\n",
      "\t\tactiv\t0.011359278112649918\n",
      "\t\tpatient\t0.00880163162946701\n",
      "\t\tfunction\t0.0075755855068564415\n",
      "\t\tcontrol\t0.006893546786159277\n",
      "\t\teffect\t0.006844829767942429\n",
      "\t\tbrain\t0.006552527192980051\n",
      "\t\tgroup\t0.006495690438896418\n",
      "\t\tsubject\t0.0062602246180176735\n",
      "\t\ttrain\t0.006252105347812176\n",
      "\t\tparticip\t0.006114073563367128\n",
      "Topic #12\n",
      "\t\tpatient\t0.01398803386837244\n",
      "\t\ttissu\t0.011242501437664032\n",
      "\t\tcell\t0.009589976631104946\n",
      "\t\tcancer\t0.009225640445947647\n",
      "\t\ttumor\t0.0078854039311409\n",
      "\t\tclinic\t0.0078854039311409\n",
      "\t\ttreatment\t0.007846368476748466\n",
      "\t\tmouse\t0.0072608282789587975\n",
      "\t\tdiseas\t0.006909504067152739\n",
      "\t\tneuron\t0.006454084068536758\n",
      "Topic #13\n",
      "\t\tfood\t0.00925897341221571\n",
      "\t\teffect\t0.00871255062520504\n",
      "\t\tiron\t0.007862560451030731\n",
      "\t\tincreas\t0.007725954987108707\n",
      "\t\texposur\t0.007058105897158384\n",
      "\t\ttreatment\t0.006390256341546774\n",
      "\t\thealth\t0.0063295429572463036\n",
      "\t\thuman\t0.0062081157229840755\n",
      "\t\tinfect\t0.005950083024799824\n",
      "\t\tdiseas\t0.005859012715518475\n",
      "Topic #14\n",
      "\t\tparticl\t0.018783580511808395\n",
      "\t\taerosol\t0.017005059868097305\n",
      "\t\tcloud\t0.013413597829639912\n",
      "\t\tice\t0.010728606022894382\n",
      "\t\tconcentr\t0.010223736055195332\n",
      "\t\tmeasur\t0.00893861148506403\n",
      "\t\twater\t0.008135409094393253\n",
      "\t\ttemperatur\t0.007733807899057865\n",
      "\t\tisotop\t0.007412527222186327\n",
      "\t\torgan\t0.0070912460796535015\n",
      "Topic #15\n",
      "\t\tflow\t0.01182466745376587\n",
      "\t\tstructur\t0.009283921681344509\n",
      "\t\tmechan\t0.008791596628725529\n",
      "\t\tmateri\t0.007762990426272154\n",
      "\t\tsurfac\t0.006620094180107117\n",
      "\t\tseismic\t0.006382723338901997\n",
      "\t\tstress\t0.006356348749250174\n",
      "\t\ttest\t0.006329974625259638\n",
      "\t\tforc\t0.006154144182801247\n",
      "\t\tpressur\t0.005389282945543528\n",
      "Topic #16\n",
      "\t\tstructur\t0.00872085615992546\n",
      "\t\treaction\t0.008422259241342545\n",
      "\t\tactiv\t0.0070873587392270565\n",
      "\t\tchemic\t0.006902931723743677\n",
      "\t\tproduct\t0.006613117642700672\n",
      "\t\tacid\t0.0058578443713486195\n",
      "\t\tprotein\t0.005743675399571657\n",
      "\t\toxid\t0.005726110655814409\n",
      "\t\tco\t0.0056382883340120316\n",
      "\t\tsurfac\t0.005049878265708685\n",
      "Topic #17\n",
      "\t\tenergi\t0.020217658951878548\n",
      "\t\ttransport\t0.012394913472235203\n",
      "\t\turban\t0.010976599529385567\n",
      "\t\tsystem\t0.009972328320145607\n",
      "\t\ttravel\t0.009567095898091793\n",
      "\t\ttime\t0.009188291616737843\n",
      "\t\tdemand\t0.008122354745864868\n",
      "\t\tcost\t0.007822834886610508\n",
      "\t\ttraffic\t0.007681884337216616\n",
      "\t\tbase\t0.007214986253529787\n",
      "Topic #18\n",
      "\t\timag\t0.025696348398923874\n",
      "\t\tmeasur\t0.016289159655570984\n",
      "\t\tmethod\t0.0117770591750741\n",
      "\t\tresolut\t0.01069989986717701\n",
      "\t\thigh\t0.00988604687154293\n",
      "\t\tdetect\t0.009778331033885479\n",
      "\t\ttime\t0.007624012418091297\n",
      "\t\tmap\t0.007624012418091297\n",
      "\t\tbase\t0.007169212214648724\n",
      "\t\tsampl\t0.0068700010888278484\n",
      "Topic #19\n",
      "\t\tmethod\t0.015835046768188477\n",
      "\t\tbase\t0.012721601873636246\n",
      "\t\tapproach\t0.011806352995336056\n",
      "\t\tpredict\t0.009987845085561275\n",
      "\t\ttime\t0.00961215328425169\n",
      "\t\testim\t0.009484258480370045\n",
      "\t\tparamet\t0.0080374451354146\n",
      "\t\tdiffer\t0.007869582623243332\n",
      "\t\tperform\t0.007721704430878162\n",
      "\t\toptim\t0.007262081373482943\n"
     ]
    }
   ],
   "source": [
    "for k in range(model.k):\n",
    "    print('Topic #{}'.format(k))\n",
    "    for word, prob in model.get_topic_words(k):\n",
    "        print('\\t', word, prob, sep='\\t')"
   ]
  },
  {
   "cell_type": "code",
   "execution_count": 81,
   "metadata": {},
   "outputs": [],
   "source": [
    "# TODO: implement grid-search for best k (choose based on LL)\n",
    "# + other hyperparameters tuning"
   ]
  },
  {
   "cell_type": "code",
   "execution_count": null,
   "metadata": {},
   "outputs": [],
   "source": [
    "# TODO: use new quality measures"
   ]
  },
  {
   "cell_type": "markdown",
   "metadata": {},
   "source": [
    "## Next up\n",
    "\n",
    "- experimenting with bigrams/trigrams\n",
    "- more solid results on LDA (with other measures and grid-search) \n",
    "- experimenting with CTM\n",
    "- experimenting with Pachinko"
   ]
  },
  {
   "cell_type": "code",
   "execution_count": null,
   "metadata": {},
   "outputs": [],
   "source": []
  }
 ],
 "metadata": {
  "kernelspec": {
   "display_name": "Python 3",
   "language": "python",
   "name": "python3"
  },
  "language_info": {
   "codemirror_mode": {
    "name": "ipython",
    "version": 3
   },
   "file_extension": ".py",
   "mimetype": "text/x-python",
   "name": "python",
   "nbconvert_exporter": "python",
   "pygments_lexer": "ipython3",
   "version": "3.7.5"
  }
 },
 "nbformat": 4,
 "nbformat_minor": 2
}
