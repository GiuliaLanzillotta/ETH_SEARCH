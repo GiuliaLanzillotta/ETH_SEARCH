{
 "cells": [
  {
   "cell_type": "markdown",
   "metadata": {},
   "source": [
    "# Topic modeling on abstracts"
   ]
  },
  {
   "cell_type": "markdown",
   "metadata": {},
   "source": [
    "## 1. Preprocessing"
   ]
  },
  {
   "cell_type": "code",
   "execution_count": 1,
   "metadata": {},
   "outputs": [],
   "source": [
    "import pandas as pd\n",
    "import os \n",
    "import numpy as np\n",
    "import re\n",
    "import random"
   ]
  },
  {
   "cell_type": "code",
   "execution_count": 2,
   "metadata": {},
   "outputs": [],
   "source": [
    "import nltk\n",
    "from nltk import word_tokenize, RegexpTokenizer,PunktSentenceTokenizer, sent_tokenize\n",
    "from nltk.stem import PorterStemmer\n",
    "from nltk.stem import WordNetLemmatizer\n",
    "from nltk.corpus import stopwords\n",
    "#nltk.download('stopwords')"
   ]
  },
  {
   "cell_type": "code",
   "execution_count": 3,
   "metadata": {},
   "outputs": [],
   "source": [
    "#!pip install gensim"
   ]
  },
  {
   "cell_type": "code",
   "execution_count": 4,
   "metadata": {},
   "outputs": [],
   "source": [
    "import gensim\n",
    "import gensim.corpora as corpora\n",
    "from gensim.utils import simple_preprocess\n",
    "from gensim.models import CoherenceModel"
   ]
  },
  {
   "cell_type": "markdown",
   "metadata": {},
   "source": [
    "### 1.1 Load the data "
   ]
  },
  {
   "cell_type": "code",
   "execution_count": 16,
   "metadata": {
    "scrolled": true
   },
   "outputs": [],
   "source": [
    "#abstracts = pd.read_csv(\"abstracts.csv\")\n",
    "abstracts = pd.read_csv(\"abstracts_eng.csv\")"
   ]
  },
  {
   "cell_type": "code",
   "execution_count": 17,
   "metadata": {
    "scrolled": true
   },
   "outputs": [
    {
     "data": {
      "text/html": [
       "<div>\n",
       "<style scoped>\n",
       "    .dataframe tbody tr th:only-of-type {\n",
       "        vertical-align: middle;\n",
       "    }\n",
       "\n",
       "    .dataframe tbody tr th {\n",
       "        vertical-align: top;\n",
       "    }\n",
       "\n",
       "    .dataframe thead th {\n",
       "        text-align: right;\n",
       "    }\n",
       "</style>\n",
       "<table border=\"1\" class=\"dataframe\">\n",
       "  <thead>\n",
       "    <tr style=\"text-align: right;\">\n",
       "      <th></th>\n",
       "      <th>abstract</th>\n",
       "      <th>id</th>\n",
       "    </tr>\n",
       "  </thead>\n",
       "  <tbody>\n",
       "    <tr>\n",
       "      <th>0</th>\n",
       "      <td>The goal of this note is to introduce new clas...</td>\n",
       "      <td>188444.0</td>\n",
       "    </tr>\n",
       "    <tr>\n",
       "      <th>1</th>\n",
       "      <td>We will review a Lemma published by Ran Raz in...</td>\n",
       "      <td>188623.0</td>\n",
       "    </tr>\n",
       "    <tr>\n",
       "      <th>2</th>\n",
       "      <td>China’s growing influence in Europe has the po...</td>\n",
       "      <td>346708.0</td>\n",
       "    </tr>\n",
       "    <tr>\n",
       "      <th>3</th>\n",
       "      <td>Nowhere is China's Belt and Road Initiative (B...</td>\n",
       "      <td>346709.0</td>\n",
       "    </tr>\n",
       "    <tr>\n",
       "      <th>4</th>\n",
       "      <td>Passenger transit modes typical of the urban s...</td>\n",
       "      <td>187461.0</td>\n",
       "    </tr>\n",
       "  </tbody>\n",
       "</table>\n",
       "</div>"
      ],
      "text/plain": [
       "                                            abstract        id\n",
       "0  The goal of this note is to introduce new clas...  188444.0\n",
       "1  We will review a Lemma published by Ran Raz in...  188623.0\n",
       "2  China’s growing influence in Europe has the po...  346708.0\n",
       "3  Nowhere is China's Belt and Road Initiative (B...  346709.0\n",
       "4  Passenger transit modes typical of the urban s...  187461.0"
      ]
     },
     "execution_count": 17,
     "metadata": {},
     "output_type": "execute_result"
    }
   ],
   "source": [
    "abstracts.head()"
   ]
  },
  {
   "cell_type": "code",
   "execution_count": 18,
   "metadata": {},
   "outputs": [],
   "source": [
    "abs_list = list(abstracts['abstract'])"
   ]
  },
  {
   "cell_type": "code",
   "execution_count": 19,
   "metadata": {},
   "outputs": [
    {
     "data": {
      "text/plain": [
       "20494"
      ]
     },
     "execution_count": 19,
     "metadata": {},
     "output_type": "execute_result"
    }
   ],
   "source": [
    "len(abs_list)"
   ]
  },
  {
   "cell_type": "markdown",
   "metadata": {},
   "source": [
    "**21421** abstracts in total  \n",
    "**20494** abstracts in english"
   ]
  },
  {
   "cell_type": "markdown",
   "metadata": {},
   "source": [
    "### 1.2 Step 1 \n",
    "- tokenization \n",
    "- punctuation removal \n",
    "- lowercasing"
   ]
  },
  {
   "cell_type": "code",
   "execution_count": 20,
   "metadata": {},
   "outputs": [
    {
     "name": "stdout",
     "output_type": "stream",
     "text": [
      "3855522 tokens created\n"
     ]
    }
   ],
   "source": [
    "tokenised = []\n",
    "count = 0\n",
    "for abstract in abs_list:\n",
    "    raw = abstract\n",
    "    tokens = gensim.utils.simple_preprocess(str(raw), deacc=True)\n",
    "    tokenised.append(tokens)\n",
    "    count += len(tokens)\n",
    "print(str(count)+\" tokens created\")"
   ]
  },
  {
   "cell_type": "code",
   "execution_count": 21,
   "metadata": {},
   "outputs": [
    {
     "data": {
      "text/plain": [
       "71429"
      ]
     },
     "execution_count": 21,
     "metadata": {},
     "output_type": "execute_result"
    }
   ],
   "source": [
    "c = []\n",
    "for doc in tokenised: \n",
    "    c+=doc\n",
    "len(set(c))"
   ]
  },
  {
   "cell_type": "markdown",
   "metadata": {},
   "source": [
    "So we have **83831** / **71429** (de/en) unique words in the beginning"
   ]
  },
  {
   "cell_type": "markdown",
   "metadata": {},
   "source": [
    "### 1.3 Step 2 \n",
    "- removing stopwords \n",
    "- (removing other words based on different strategies - like word length thresholding) "
   ]
  },
  {
   "cell_type": "code",
   "execution_count": 22,
   "metadata": {},
   "outputs": [],
   "source": [
    "stop_words = stopwords.words('english')\n",
    "cleaned = [[word for word in doc if word not in stop_words] for doc in tokenised]"
   ]
  },
  {
   "cell_type": "code",
   "execution_count": 23,
   "metadata": {},
   "outputs": [],
   "source": [
    "# Consider extending the stopwords ...\n",
    "# stop_words.extend(['from', 'subject', 're', 'edu', 'use'])"
   ]
  },
  {
   "cell_type": "code",
   "execution_count": 24,
   "metadata": {},
   "outputs": [],
   "source": [
    "# Consider removing words with less than [x] characters "
   ]
  },
  {
   "cell_type": "code",
   "execution_count": 25,
   "metadata": {},
   "outputs": [
    {
     "data": {
      "text/plain": [
       "71293"
      ]
     },
     "execution_count": 25,
     "metadata": {},
     "output_type": "execute_result"
    }
   ],
   "source": [
    "c = []\n",
    "for doc in cleaned: \n",
    "    c+=doc\n",
    "len(set(c))"
   ]
  },
  {
   "cell_type": "markdown",
   "metadata": {},
   "source": [
    "Now after stopwords removal we have **83695** / **71293** terms (136 less)"
   ]
  },
  {
   "cell_type": "markdown",
   "metadata": {},
   "source": [
    "### 1.4 Step 3 \n",
    "- stemming \n",
    "- lemmatizing "
   ]
  },
  {
   "cell_type": "code",
   "execution_count": 26,
   "metadata": {},
   "outputs": [],
   "source": [
    "#nltk.download('wordnet')"
   ]
  },
  {
   "cell_type": "code",
   "execution_count": 27,
   "metadata": {},
   "outputs": [],
   "source": [
    "word_stemmer = PorterStemmer()\n",
    "lemmatiser = WordNetLemmatizer()\n",
    "lemmatized = [[lemmatiser.lemmatize(word_stemmer.stem(word)) for word in doc] for doc in cleaned]"
   ]
  },
  {
   "cell_type": "code",
   "execution_count": 28,
   "metadata": {},
   "outputs": [
    {
     "data": {
      "text/plain": [
       "50948"
      ]
     },
     "execution_count": 28,
     "metadata": {},
     "output_type": "execute_result"
    }
   ],
   "source": [
    "c = []\n",
    "for doc in lemmatized: \n",
    "    c+=doc\n",
    "len(set(c))"
   ]
  },
  {
   "cell_type": "markdown",
   "metadata": {},
   "source": [
    "And after stemming and lemmatization we have **61182** / **50948** terms (22,513 less)"
   ]
  },
  {
   "cell_type": "markdown",
   "metadata": {},
   "source": [
    "Maybe we could also lemmatise keeping only noun, adjective, verb, adverb\n",
    "\n",
    "data_lemmatized = lemmatization(bigrams, allowed_postags=['NOUN', 'ADJ', 'VERB', 'ADV'])"
   ]
  },
  {
   "cell_type": "code",
   "execution_count": 29,
   "metadata": {
    "scrolled": false
   },
   "outputs": [
    {
     "ename": "NameError",
     "evalue": "name 'abstract_clean' is not defined",
     "output_type": "error",
     "traceback": [
      "\u001b[0;31m---------------------------------------------------------------------------\u001b[0m",
      "\u001b[0;31mNameError\u001b[0m                                 Traceback (most recent call last)",
      "\u001b[0;32m<ipython-input-29-150d3d7c6cba>\u001b[0m in \u001b[0;36m<module>\u001b[0;34m\u001b[0m\n\u001b[0;32m----> 1\u001b[0;31m \u001b[0mabstract_clean\u001b[0m\u001b[0;34m[\u001b[0m\u001b[0;36m23\u001b[0m\u001b[0;34m]\u001b[0m\u001b[0;34m\u001b[0m\u001b[0;34m\u001b[0m\u001b[0m\n\u001b[0m",
      "\u001b[0;31mNameError\u001b[0m: name 'abstract_clean' is not defined"
     ]
    }
   ],
   "source": [
    "abstract_clean[23]"
   ]
  },
  {
   "cell_type": "markdown",
   "metadata": {},
   "source": [
    "### 1.5 Build n-grams"
   ]
  },
  {
   "cell_type": "markdown",
   "metadata": {},
   "source": [
    "This seems to be done before lemmatization and stemming in a lot of tutorials"
   ]
  },
  {
   "cell_type": "code",
   "execution_count": null,
   "metadata": {},
   "outputs": [],
   "source": [
    "# n-grams creation hyperparameters \n",
    "# leaving here the hyperparameters so that we can tune them properly\n",
    "# min_count (float, optional) – Ignore all words and bigrams with total collected count lower than this value.\n",
    "b_min_c = 5 \n",
    "t_min_c = 5\n",
    "# threshold (float, optional) – Represent a score threshold for forming the phrases (higher means fewer phrases)\n",
    "b_thre = 50\n",
    "t_thre = 5\n",
    "# scoring ({'default', 'npmi', function}, optional) –Specify how potential phrases are scored\n",
    "# for now we go with default storing"
   ]
  },
  {
   "cell_type": "code",
   "execution_count": null,
   "metadata": {},
   "outputs": [],
   "source": [
    "bigram = gensim.models.Phrases(lemmatized, min_count=b_min_c, threshold=b_thre) \n",
    "bigram_mod = gensim.models.phrases.Phraser(bigram)"
   ]
  },
  {
   "cell_type": "markdown",
   "metadata": {},
   "source": [
    "\n",
    "Two interesting results from the bigram model : "
   ]
  },
  {
   "cell_type": "code",
   "execution_count": null,
   "metadata": {},
   "outputs": [],
   "source": [
    "# Case 1: no change --> no bigrams found \n",
    "lemmatized[0]==bigram_mod[lemmatized[0]]"
   ]
  },
  {
   "cell_type": "code",
   "execution_count": null,
   "metadata": {},
   "outputs": [],
   "source": [
    "# Case 2: some change but we actually lose vocabulary ...\n",
    "len(bigram_mod[lemmatized[110]])-len(lemmatized[110])"
   ]
  },
  {
   "cell_type": "code",
   "execution_count": null,
   "metadata": {},
   "outputs": [],
   "source": [
    "# MOREOVER, we have german words inside!!\n",
    "print(bigram_mod[lemmatized[110]]) "
   ]
  },
  {
   "cell_type": "code",
   "execution_count": null,
   "metadata": {},
   "outputs": [],
   "source": [
    "trigram = gensim.models.Phrases(bigram[lemmatized], min_count=t_min_c, threshold=t_thre)\n",
    "trigram_mod = gensim.models.phrases.Phraser(trigram)"
   ]
  },
  {
   "cell_type": "code",
   "execution_count": null,
   "metadata": {
    "scrolled": true
   },
   "outputs": [],
   "source": [
    "# Take a look at some of the trigrams\n",
    "print(trigram_mod[lemmatized[31]])"
   ]
  },
  {
   "cell_type": "code",
   "execution_count": null,
   "metadata": {},
   "outputs": [],
   "source": [
    "def make_bigrams(texts):\n",
    "    return [bigram_mod[doc] for doc in texts]\n",
    "\n",
    "def make_trigrams(texts):\n",
    "    return [trigram_mod[bigram_mod[doc]] for doc in texts]"
   ]
  },
  {
   "cell_type": "code",
   "execution_count": null,
   "metadata": {},
   "outputs": [],
   "source": [
    "c"
   ]
  },
  {
   "cell_type": "code",
   "execution_count": null,
   "metadata": {},
   "outputs": [],
   "source": [
    "c = []\n",
    "for doc in bigrammed: \n",
    "    c+=doc\n",
    "len(set(c))"
   ]
  },
  {
   "cell_type": "markdown",
   "metadata": {},
   "source": [
    "**5470** bigrams"
   ]
  },
  {
   "cell_type": "code",
   "execution_count": null,
   "metadata": {},
   "outputs": [],
   "source": [
    "c = []\n",
    "for doc in trigrammed: \n",
    "    c+=doc\n",
    "len(set(c))"
   ]
  },
  {
   "cell_type": "markdown",
   "metadata": {},
   "source": [
    "**12894** trigrams"
   ]
  },
  {
   "cell_type": "markdown",
   "metadata": {},
   "source": [
    "After grouping words that occur commonly together we have 69312 / **69312** terms (17,741 more)"
   ]
  },
  {
   "cell_type": "markdown",
   "metadata": {},
   "source": [
    "### 1.6 Analyse the vocabulary"
   ]
  },
  {
   "cell_type": "code",
   "execution_count": null,
   "metadata": {},
   "outputs": [],
   "source": [
    "cleaned = trigrammed"
   ]
  },
  {
   "cell_type": "code",
   "execution_count": null,
   "metadata": {},
   "outputs": [],
   "source": [
    "flatten = lambda l: [item for sublist in l for item in sublist]"
   ]
  },
  {
   "cell_type": "code",
   "execution_count": null,
   "metadata": {},
   "outputs": [],
   "source": [
    "wordlist = flatten(cleaned)"
   ]
  },
  {
   "cell_type": "code",
   "execution_count": null,
   "metadata": {},
   "outputs": [],
   "source": [
    "from collections import Counter\n",
    "counts = Counter(wordlist)"
   ]
  },
  {
   "cell_type": "code",
   "execution_count": null,
   "metadata": {},
   "outputs": [],
   "source": [
    "counts.most_common(20)"
   ]
  },
  {
   "cell_type": "code",
   "execution_count": 20,
   "metadata": {},
   "outputs": [],
   "source": [
    "hist(counts.most_common(10))"
   ]
  },
  {
   "cell_type": "markdown",
   "metadata": {},
   "source": [
    "## 2. Modelling"
   ]
  },
  {
   "cell_type": "markdown",
   "metadata": {},
   "source": [
    "## 2.1 LDA"
   ]
  },
  {
   "cell_type": "code",
   "execution_count": null,
   "metadata": {},
   "outputs": [],
   "source": [
    "#!pip3.7 install tomotopy"
   ]
  },
  {
   "cell_type": "code",
   "execution_count": 7,
   "metadata": {},
   "outputs": [],
   "source": [
    "import sys\n",
    "import tomotopy as tp"
   ]
  },
  {
   "cell_type": "markdown",
   "metadata": {},
   "source": [
    "### 2.1.1 Training example\n",
    "\n",
    "----\n"
   ]
  },
  {
   "cell_type": "code",
   "execution_count": 32,
   "metadata": {},
   "outputs": [],
   "source": [
    "# Defining hyperparameters\n",
    "tw = tp.TermWeight.ONE # term weighting scheme in TermWeight. The default value is TermWeight.ONE\n",
    "k = 150 # number of topics...\n",
    "min_cf=3 # minimum collection frequency of words. Words with a smaller collection frequency than min_cf are excluded from the model. The default value is 0, which means no words are excluded.\n",
    "min_df=0 # minimum document frequency of words. Words with a smaller document frequency than min_df are excluded from the model. The default value is 0, which means no words are excluded\n",
    "rm_top=5 # the number of top words to be removed. If you want to remove too common words from model, you can set this value to 1 or more. The default value is 0, which means no top words are removed.\n",
    "alpha = None # hyperparameter of Dirichlet distribution for document-topic\n",
    "eta = None # hyperparameter of Dirichlet distribution for topic-word\n",
    "seed = 41 # random seed\n",
    "model_burn_in = 100 \n",
    "train_updates = 1000\n",
    "train_iter = 10\n",
    "save_path = \"lda_model150.bin\" #.bin format"
   ]
  },
  {
   "cell_type": "code",
   "execution_count": 34,
   "metadata": {},
   "outputs": [],
   "source": [
    "# Instantiating the model\n",
    "model = tp.LDAModel(tw=tp.TermWeight.ONE, min_cf=min_cf, rm_top=rm_top, k=k)"
   ]
  },
  {
   "cell_type": "code",
   "execution_count": 35,
   "metadata": {},
   "outputs": [],
   "source": [
    "# adding documents to the model \n",
    "for doc in cleaned: model.add_doc(doc)"
   ]
  },
  {
   "cell_type": "code",
   "execution_count": 36,
   "metadata": {},
   "outputs": [
    {
     "name": "stderr",
     "output_type": "stream",
     "text": [
      "Training...\n"
     ]
    },
    {
     "name": "stdout",
     "output_type": "stream",
     "text": [
      "Num docs: 20494 , Vocab size: 42219 , Num words: 2045097\n",
      "Removed top words: ['use', 'model', 'result', 'studi', 'base']\n",
      "Iteration: 0\n",
      "Iteration: 100\n",
      "Iteration: 200\n",
      "Iteration: 300\n",
      "Iteration: 400\n",
      "Iteration: 500\n",
      "Iteration: 600\n",
      "Iteration: 700\n",
      "Iteration: 800\n",
      "Iteration: 900\n"
     ]
    }
   ],
   "source": [
    "# training**\n",
    "model.burn_in = model_burn_in\n",
    "# initialising \n",
    "model.train(iter=0)\n",
    "print('Num docs:', len(model.docs), ', Vocab size:', len(model.used_vocabs), ', Num words:', model.num_words)\n",
    "print('Removed top words:', model.removed_top_words)\n",
    "print('Training...', file=sys.stderr, flush=True)\n",
    "# actual training \n",
    "time = []\n",
    "LLs = []\n",
    "for i in range(0, train_updates, train_iter):\n",
    "    model.train(train_iter)\n",
    "    if i%100==0:print('Iteration: {}'.format(i))\n",
    "    time.append(i)\n",
    "    LLs.append(model.ll_per_word)"
   ]
  },
  {
   "cell_type": "code",
   "execution_count": null,
   "metadata": {},
   "outputs": [],
   "source": [
    "import matplotlib.pyplot as plt"
   ]
  },
  {
   "cell_type": "code",
   "execution_count": 37,
   "metadata": {},
   "outputs": [
    {
     "data": {
      "text/plain": [
       "Text(0.5, 0, 'Iteration')"
      ]
     },
     "execution_count": 37,
     "metadata": {},
     "output_type": "execute_result"
    },
    {
     "data": {
      "image/png": "[encoded data removed]",
      "text/plain": [
       "<Figure size 432x288 with 1 Axes>"
      ]
     },
     "metadata": {
      "needs_background": "light"
     },
     "output_type": "display_data"
    }
   ],
   "source": [
    "plt.plot(time,LLs)\n",
    "plt.ylabel('Log-likelihood')\n",
    "plt.xlabel('Iteration')"
   ]
  },
  {
   "cell_type": "code",
   "execution_count": 59,
   "metadata": {},
   "outputs": [],
   "source": [
    "#loading a model\n",
    "model1000 = tp.LDAModel.load(\"./lda1000.bin\")"
   ]
  },
  {
   "cell_type": "code",
   "execution_count": 61,
   "metadata": {},
   "outputs": [],
   "source": [
    "model = tp.LDAModel.load(\"./lda_model150.bin\")"
   ]
  },
  {
   "cell_type": "code",
   "execution_count": 60,
   "metadata": {},
   "outputs": [
    {
     "name": "stdout",
     "output_type": "stream",
     "text": [
      "<Basic Info>\n",
      "| LDAModel (current version: 0.9.1)\n",
      "| 12296 docs, 1282721 words\n",
      "| Total Vocabs: 56507, Used Vocabs: 56507\n",
      "| Entropy of words: -8.71197\n",
      "| Removed Vocabs: <NA>\n",
      "|\n",
      "<Training Info>\n",
      "| Iterations: 500, Burn-in steps: 100\n",
      "| Optimization Interval: 10\n",
      "| Log-likelihood per word: -8.81762\n",
      "|\n",
      "<Initial Parameters>\n",
      "| tw: TermWeight.ONE\n",
      "| min_cf: 0 (minimum collection frequency of words)\n",
      "| min_df: 0 (minimum document frequency of words)\n",
      "| rm_top: 0 (the number of top words to be removed)\n",
      "| k: 1000 (the number of topics between 1 ~ 32767)\n",
      "| alpha: 0.1 (hyperparameter of Dirichlet distribution for document-topic)\n",
      "| eta: 0.01 (hyperparameter of Dirichlet distribution for topic-word)\n",
      "| seed: 1545481725 (random seed)\n",
      "| trained in version 0.9.1\n",
      "|\n",
      "<Parameters>\n",
      "| alpha (Dirichlet prior on the per-document topic distributions)\n",
      "|  [9.35984426e-05 5.93639503e-04 4.68380895e-04 7.04644388e-03\n",
      "|   4.99611895e-04 1.24803584e-04 2.57593412e-02 1.20428018e-03\n",
      "|   7.11180363e-03 7.34896306e-03 9.99999975e-06 5.57324942e-03\n",
      "|   4.90432000e-03 7.18597090e-04 6.23953092e-05 6.23933956e-05\n",
      "|   2.99522723e-03 9.99999975e-06 3.12386946e-05 6.23934902e-05\n",
      "|   1.35816133e-03 1.87211437e-04 3.07094127e-01 3.12224118e-04\n",
      "|   1.81346297e-01 8.75046710e-04 8.75210797e-04 1.56057504e-04\n",
      "|   5.89038571e-03 3.12192074e-04 6.24745386e-04 6.23883316e-05\n",
      "|   5.62397065e-04 1.74039733e-02 3.12385164e-05 3.54012754e-03\n",
      "|   8.43734189e-04 1.02812406e-02 2.49705801e-04 6.23951855e-05\n",
      "|   7.32836826e-03 9.35985809e-05 3.43419582e-04 6.95701968e-03\n",
      "|   9.36036085e-05 1.78499185e-02 3.12199816e-04 7.18816591e-04\n",
      "|   6.15981407e-03 8.38832092e-03 1.22018124e-03 8.63991678e-03\n",
      "|   6.36231154e-03 8.43915564e-04 7.07821874e-03 6.54326286e-03\n",
      "|   7.77742965e-03 1.14078983e-03 2.18474481e-04 1.04144309e-03\n",
      "|   1.27405852e-01 7.34590646e-03 1.07919762e-03 4.05991887e-04\n",
      "|   5.28772129e-03 1.56056733e-04 9.35996213e-05 2.18491361e-04\n",
      "|   3.08469590e-03 4.46706964e-03 1.29564581e-02 6.48489268e-03\n",
      "|   1.87247148e-04 4.93005151e-03 1.56022710e-04 1.31595077e-03\n",
      "|   5.07298764e-03 9.99999975e-06 2.26344079e-01 1.24818005e-04\n",
      "|   5.93614473e-04 2.80907552e-04 1.07889008e-02 2.18446570e-04\n",
      "|   6.61835028e-03 2.22141258e-02 5.62246831e-04 8.83008633e-03\n",
      "|   3.74666706e-04 7.67165888e-03 1.01331696e-02 1.56060079e-04\n",
      "|   8.64539575e-03 1.87255282e-04 1.06750301e-03 9.99999975e-06\n",
      "|   1.26832677e-03 2.80997716e-04 3.43441119e-04 3.85769270e-02\n",
      "|   3.12385164e-05 7.15764053e-03 6.23957822e-05 9.36033757e-05\n",
      "|   3.74743424e-04 2.80887150e-04 6.23924134e-05 6.81115175e-03\n",
      "|   1.06261915e-03 4.37110692e-04 8.02942272e-03 2.49696488e-04\n",
      "|   3.12211021e-04 1.87249476e-04 8.75225989e-04 2.49720702e-04\n",
      "|   6.23862798e-05 9.99999975e-06 1.02556206e-03 1.05015831e-02\n",
      "|   6.01862604e-03 2.49659410e-04 7.37277465e-03 3.12389275e-05\n",
      "|   3.43523367e-04 1.56026334e-04 3.12167598e-04 4.99613176e-04\n",
      "|   8.53127427e-03 1.87226906e-04 3.74685973e-04 2.80972075e-04\n",
      "|   7.10619800e-03 2.49720673e-04 3.43405409e-04 6.87449879e-04\n",
      "|   8.12695711e-04 1.24799422e-04 1.19458558e-03 9.66582820e-03\n",
      "|   4.69996501e-03 4.05845640e-04 1.56052673e-04 3.74667638e-04\n",
      "|   1.20403683e-02 2.18457033e-04 5.62282512e-04 9.99999975e-06\n",
      "|   4.99694492e-04 3.12368793e-05 6.53912034e-03 3.74680792e-04\n",
      "|   3.12147662e-04 7.64128799e-03 3.12148331e-04 2.80936569e-04\n",
      "|   7.39517482e-03 4.99671209e-04 2.80949462e-04 4.37167590e-04\n",
      "|   3.12392367e-05 6.23925298e-05 2.18484784e-04 3.43391934e-04\n",
      "|   8.12796643e-04 9.99999975e-06 1.02892360e-02 1.24828905e-04\n",
      "|   4.37065144e-04 3.74629075e-04 1.24806946e-04 4.05939238e-04\n",
      "|   9.99999975e-06 6.23966262e-05 3.12128919e-04 2.92677968e-03\n",
      "|   6.23959859e-05 8.00283439e-03 1.24790662e-04 1.56053226e-04\n",
      "|   8.26882757e-03 6.55990909e-04 1.43719220e-03 1.56066031e-04\n",
      "|   5.94522478e-03 8.12505779e-04 3.43413587e-04 2.49714038e-04\n",
      "|   1.05577167e-02 9.38037934e-04 8.00784770e-03 1.16887921e-02\n",
      "|   7.99687393e-03 1.87214930e-04 4.05356009e-03 7.62152486e-03\n",
      "|   1.24809929e-04 1.45278173e-03 3.12380180e-05 6.47007395e-03\n",
      "|   1.87261103e-04 2.49684876e-04 3.12388365e-05 2.18479501e-04\n",
      "|   1.56050868e-04 6.23865126e-05 2.18476533e-04 9.35998614e-05\n",
      "|   4.99746588e-04 9.64268204e-03 4.37004637e-04 7.87498150e-03\n",
      "|   7.36722024e-03 4.37083800e-04 6.23947417e-05 1.87275306e-04\n",
      "|   1.70165617e-02 1.11390054e-02 6.23984088e-05 8.73445440e-03\n",
      "|   6.23955202e-05 2.37746793e-03 1.06209442e-02 3.43432417e-04\n",
      "|   7.72972219e-03 9.36037832e-05 1.03361616e-02 5.20184124e-03\n",
      "|   6.39595650e-03 9.22312122e-03 6.23982487e-05 2.49755889e-04\n",
      "|   7.81964697e-03 6.56116172e-04 8.04901309e-03 7.47339986e-03\n",
      "|   6.41969359e-03 6.23948727e-05 6.23900196e-05 3.15131410e-03\n",
      "|   9.99999975e-06 7.72213656e-03 3.43422143e-04 4.99524293e-04\n",
      "|   1.87240163e-04 3.77484178e-03 1.24805156e-04 1.11327656e-02\n",
      "|   8.68587662e-03 1.87244121e-04 2.18476707e-04 4.68345417e-04\n",
      "|   9.10567492e-03 1.87262674e-04 1.51306242e-01 1.56063354e-04\n",
      "|   8.28022789e-03 8.12844664e-04 2.22838204e-02 9.99999975e-06\n",
      "|   1.36761751e-03 1.83116216e-02 4.68392129e-04 3.59105458e-03\n",
      "|   1.35975098e-03 2.80975597e-04 4.27781185e-03 6.24868379e-04\n",
      "|   5.31227561e-04 9.31013096e-03 3.12126940e-04 6.23932719e-05\n",
      "|   1.32194936e-01 5.30934718e-04 5.34423860e-03 6.41403254e-03\n",
      "|   3.12178017e-04 5.62249741e-04 6.23947635e-05 6.23957312e-05\n",
      "|   4.04654909e-03 7.99901038e-03 6.50819438e-03 1.60210337e-02\n",
      "|   4.06060310e-04 2.49687146e-04 3.12393458e-05 2.49664125e-04\n",
      "|   1.61759686e-02 9.36020442e-05 1.06312465e-02 3.12384473e-05\n",
      "|   4.05939005e-04 1.56042035e-04 1.65217835e-02 5.62330126e-04\n",
      "|   1.41833583e-03 2.18424044e-04 8.12598038e-04 1.56037131e-04\n",
      "|   4.68525337e-04 7.53599079e-03 6.23936794e-05 2.32025795e-03\n",
      "|   1.87257057e-04 3.12398806e-05 6.23937885e-05 1.18123889e-02\n",
      "|   6.23969245e-05 4.37158742e-04 1.56034701e-04 1.87204423e-04\n",
      "|   7.55177205e-03 6.09797938e-03 5.92475990e-03 2.80959532e-04\n",
      "|   3.12178512e-04 2.81032815e-04 6.23961387e-05 3.43439810e-04\n",
      "|   2.49687349e-04 1.87231490e-04 6.23894957e-05 5.62090101e-03\n",
      "|   6.23938031e-05 9.35973367e-05 2.13349331e-03 1.12554524e-03\n",
      "|   1.55131950e-03 2.80899345e-04 8.57929606e-03 4.37093637e-04\n",
      "|   2.18453803e-04 9.99999975e-06 1.87240381e-04 4.68383194e-04\n",
      "|   1.24810569e-04 3.74661875e-04 5.60104894e-03 3.12395168e-05\n",
      "|   6.23929009e-05 8.70617200e-03 5.60907135e-03 5.19332150e-03\n",
      "|   6.32726215e-03 6.42597489e-03 1.24802638e-04 3.12386364e-05\n",
      "|   2.54080057e-01 4.54905909e-03 8.50374345e-03 4.99746820e-04\n",
      "|   1.87239348e-04 8.74791481e-03 2.18470712e-04 1.04937842e-02\n",
      "|   1.62519887e-03 9.99999975e-06 3.12197692e-04 1.10479727e-01\n",
      "|   3.12385164e-05 8.12352751e-04 5.62316505e-04 3.43405700e-04\n",
      "|   7.18812575e-04 8.75244557e-04 3.12387419e-05 1.24810467e-04\n",
      "|   6.23882370e-05 6.98534632e-03 9.35964854e-05 2.49682082e-04\n",
      "|   1.56021066e-04 6.23862798e-05 3.12379016e-05 6.23977830e-05\n",
      "|   1.87240454e-04 4.36383635e-01 7.04924949e-03 4.37173527e-04\n",
      "|   2.43203691e-03 6.89081056e-03 1.87246842e-04 9.99999975e-06\n",
      "|   2.49698292e-04 5.91482269e-03 2.76751250e-01 3.12394259e-05\n",
      "|   7.13091437e-03 6.23982778e-05 9.35901990e-05 1.56038790e-04\n",
      "|   6.86243689e-03 1.56028458e-04 1.87256883e-04 2.80917448e-04\n",
      "|   4.37171955e-04 1.56038543e-04 7.18645635e-04 4.73761605e-03\n",
      "|   4.61001396e-01 7.38037601e-02 4.68357699e-04 9.35899297e-05\n",
      "|   7.53532350e-03 3.12389275e-05 3.43332649e-04 9.36012802e-05\n",
      "|   9.35909047e-05 2.18468354e-04 1.87207785e-04 1.56644417e-03\n",
      "|   1.18645979e-03 9.46541727e-02 4.05896135e-04 1.03288293e-02\n",
      "|   3.74796306e-04 1.56058653e-04 2.80877255e-04 4.05992265e-04\n",
      "|   4.37259470e-04 7.78292194e-02 4.99808288e-04 5.31171274e-04\n",
      "|   2.49693578e-04 7.69121200e-03 7.18727126e-04 6.23961168e-05\n",
      "|   7.81397452e-04 7.18714495e-04 7.30387168e-03 2.18458605e-04\n",
      "|   3.43367661e-04 1.87254176e-04 6.95542619e-03 1.04884449e-02\n",
      "|   8.12606141e-03 2.49677076e-04 1.56038426e-04 1.87252313e-04\n",
      "|   4.99554095e-04 2.49699573e-04 1.55376317e-02 7.18452036e-04\n",
      "|   9.29970108e-03 5.36485109e-03 1.24790182e-04 3.74818657e-04\n",
      "|   1.08730011e-02 9.99999975e-06 1.24815953e-04 2.80933920e-04\n",
      "|   8.62837117e-03 2.75521656e-03 2.27154456e-02 4.73102042e-03\n",
      "|   6.39576418e-03 9.99999975e-06 3.12389275e-05 3.74685187e-04\n",
      "|   1.24817438e-04 8.37675110e-03 1.56063659e-04 1.52070606e-02\n",
      "|   1.33603846e-03 9.09762550e-03 1.79379724e-03 7.33380578e-03\n",
      "|   1.56023030e-04 9.35956341e-05 2.18466477e-04 1.22700691e-01\n",
      "|   3.12390803e-05 9.99999975e-06 1.24794795e-04 4.53020725e-03\n",
      "|   6.25912566e-03 1.21109532e-02 4.96465340e-03 1.87236554e-04\n",
      "|   5.04831923e-03 5.96801750e-03 9.99999975e-06 6.47782162e-03\n",
      "|   1.24806742e-04 3.74658179e-04 4.37200681e-04 7.81147333e-04\n",
      "|   1.50628136e-02 9.89558268e-03 4.68261482e-04 9.35899006e-05\n",
      "|   7.81493087e-04 3.74685129e-04 6.24965702e-04 4.37301787e-04\n",
      "|   6.26985729e-03 9.99999975e-06 1.24805316e-04 3.74691619e-04\n",
      "|   5.93443750e-04 1.60293169e-02 2.80932814e-04 8.91491491e-03\n",
      "|   1.24821076e-04 9.35995267e-05 1.25113199e-03 3.43479100e-04\n",
      "|   5.32405917e-03 4.05963132e-04 9.36027209e-05 3.12198739e-04\n",
      "|   6.56095042e-04 9.35968710e-05 3.12395168e-05 9.36049328e-05\n",
      "|   7.24200998e-03 9.99999975e-06 2.18424742e-04 1.64795970e-03\n",
      "|   3.12140182e-04 5.62428089e-04 9.56363417e-03 1.56043505e-04\n",
      "|   1.04053691e-02 1.31885344e-02 1.19640693e-01 7.18875963e-04\n",
      "|   4.24350472e-03 3.63300622e-01 1.56032096e-04 1.79769993e-02\n",
      "|   1.16242864e-03 6.25058368e-04 6.56066171e-04 1.50568876e-02\n",
      "|   7.49958737e-04 4.99797869e-04 1.55681942e-03 1.37397274e-03\n",
      "|   7.03395437e-03 7.60177383e-03 3.12181015e-04 1.27016837e-02\n",
      "|   1.87250669e-04 2.12408789e-03 5.21098031e-03 6.88840682e-03\n",
      "|   6.56246615e-04 1.87229307e-04 2.18484769e-04 2.18485016e-04\n",
      "|   3.93282389e-03 1.56049078e-04 6.74882485e-03 8.31358973e-03\n",
      "|   3.16999969e-03 1.56036098e-04 9.35936187e-05 3.12399752e-05\n",
      "|   6.75881002e-03 1.24816928e-04 2.18481233e-04 1.87229234e-04\n",
      "|   7.50212348e-04 9.36016950e-05 6.92696124e-03 2.80899025e-04\n",
      "|   1.24808648e-04 8.44033726e-04 1.05239246e-02 1.56034905e-04\n",
      "|   1.59566733e-03 1.45318871e-03 5.93740901e-04 2.49713281e-04\n",
      "|   6.23993255e-05 2.72471923e-02 9.99999975e-06 2.49698816e-04\n",
      "|   1.70216449e-02 2.16914453e-02 9.99999975e-06 2.49682722e-04\n",
      "|   1.24811428e-04 2.49684032e-04 1.87222919e-04 6.23954329e-05\n",
      "|   2.80929846e-04 1.08267358e-02 8.43730639e-04 2.18481626e-04\n",
      "|   4.68300976e-04 1.87274039e-04 4.68534447e-04 4.04558796e-03\n",
      "|   1.24802697e-04 7.50027946e-04 2.18451765e-04 3.43423279e-04\n",
      "|   2.49677250e-04 5.31275233e-04 1.87249258e-04 1.42827816e-02\n",
      "|   5.31173660e-04 1.69110356e-03 6.87407330e-04 2.41750968e-03\n",
      "|   1.56064445e-04 9.99999975e-06 1.56032474e-04 2.41121370e-03\n",
      "|   9.99999975e-06 9.35979115e-05 9.35986027e-05 9.99999975e-06\n",
      "|   4.68548911e-04 5.61959576e-03 9.36095676e-05 3.12380180e-05\n",
      "|   7.81562936e-04 5.68230869e-03 9.26137622e-03 4.52101277e-03\n",
      "|   1.56034046e-04 1.56042181e-04 8.07392783e-03 6.23934029e-05\n",
      "|   8.91596973e-02 2.18484201e-04 4.93165255e-02 3.63307111e-02\n",
      "|   1.31508010e-03 3.71799199e-03 6.56088232e-04 6.23911910e-05\n",
      "|   9.99999975e-06 2.49699049e-04 1.24794518e-04 4.05477267e-03\n",
      "|   6.14242489e-03 3.94741213e-03 1.24807018e-04 1.76404063e-02\n",
      "|   6.52261171e-03 7.81233713e-04 6.23940286e-05 9.35828284e-05\n",
      "|   2.49717443e-04 4.26862538e-02 7.36043677e-02 2.43476965e-02\n",
      "|   3.12379016e-05 2.18467467e-04 2.80938635e-04 1.24812330e-04\n",
      "|   2.53312662e-03 3.12152464e-04 5.30927093e-04 3.12181830e-04\n",
      "|   5.30975172e-04 5.62153349e-04 6.50440855e-03 4.37149924e-04\n",
      "|   2.80984212e-04 3.80673707e-02 1.87261743e-04 1.06608458e-02\n",
      "|   6.16582576e-03 1.87250771e-04 7.50121940e-03 9.36157521e-05\n",
      "|   9.99999975e-06 2.82929912e-02 5.93703298e-04 5.31068188e-04\n",
      "|   2.18536647e-04 1.24804224e-04 3.76032316e-03 7.15220952e-03\n",
      "|   7.18605355e-04 2.18491652e-04 2.49716075e-04 1.87245620e-04\n",
      "|   1.29067572e-03 1.20814855e-03 3.38099641e-03 1.87256432e-04\n",
      "|   5.80817694e-03 1.55863836e-02 2.18455461e-04 9.36014476e-05\n",
      "|   7.06581259e-03 8.06327816e-03 1.56043185e-04 7.99624901e-03\n",
      "|   8.43797170e-04 9.99999975e-06 3.08746123e-03 9.36019642e-05\n",
      "|   9.35973076e-05 1.72065534e-02 9.11042280e-03 1.56055772e-04\n",
      "|   4.05938103e-04 5.93577744e-04 2.49720411e-04 3.43432534e-04\n",
      "|   6.09047431e-03 7.18523515e-04 4.06818874e-02 1.24792641e-04\n",
      "|   5.06219082e-03 1.56040784e-04 3.12167220e-04 4.37183247e-04\n",
      "|   6.99383952e-03 2.80916051e-04 7.62642873e-03 1.26019761e-03\n",
      "|   5.31013065e-04 2.18523594e-04 9.73606855e-03 2.80941051e-04\n",
      "|   2.80974258e-04 1.24793805e-04 9.99999975e-06 8.12686048e-04\n",
      "|   5.93480188e-04 1.41227013e-03 4.37109033e-04 5.95316244e-03\n",
      "|   4.96649696e-03 2.18471221e-04 9.35976495e-05 7.18632306e-04\n",
      "|   2.80853244e-04 3.12400261e-05 1.87229904e-04 9.35986463e-05\n",
      "|   1.24804777e-04 7.26643950e-03 8.36444832e-03 2.98416335e-03\n",
      "|   3.74641211e-04 4.02383599e-03 1.41729601e-02 6.62506511e-03\n",
      "|   6.72548683e-03 3.12216813e-04 1.56053982e-04 1.56050839e-04\n",
      "|   2.18502973e-04 3.68818664e-03 1.87244746e-04 1.24817569e-04\n",
      "|   3.12388838e-05 3.12388838e-05 1.24798957e-04 6.23944870e-05\n",
      "|   4.37137089e-04 9.22428351e-03 1.56039328e-04 4.05958446e-04\n",
      "|   2.18441768e-04 5.31069818e-04 2.81006243e-04 8.12936050e-04\n",
      "|   6.23591756e-03 2.80976557e-04 6.23884043e-05 4.68479207e-04\n",
      "|   3.12387892e-05 1.54984486e-03 9.06552479e-04 3.74634634e-04\n",
      "|   1.08308101e-03 9.99999975e-06 6.59545977e-03 2.80938752e-04\n",
      "|   7.81268289e-04 2.18450092e-04 2.80900946e-04 1.25574255e-02\n",
      "|   3.12184595e-04 6.28127391e-03 9.36004581e-05 8.74465448e-04\n",
      "|   6.24137372e-02 1.87208600e-04 3.12383781e-05 6.23962915e-05\n",
      "|   8.75034835e-04 8.80342908e-03 3.12230521e-04 7.78139941e-03\n",
      "|   3.74693045e-04 7.93356355e-03 3.74651398e-04 9.36042270e-05\n",
      "|   4.37164388e-04 3.74639785e-04 4.68471262e-04 7.64175784e-03\n",
      "|   9.99999975e-06 9.12753120e-03 1.99341234e-02 3.74731782e-04\n",
      "|   6.38650544e-03 6.65645907e-03 3.12387892e-05 3.94900702e-03\n",
      "|   3.12260730e-04 1.01811625e-02 6.23930755e-05 5.78208733e-03\n",
      "|   1.07188104e-02 7.50166713e-04 1.37703225e-03 3.12403499e-05\n",
      "|   4.61906707e-03 4.52679163e-03 3.12182063e-04 5.30937978e-04\n",
      "|   3.12184129e-04 3.74713272e-04 6.23948727e-05 6.23867236e-05\n",
      "|   5.30976220e-04 6.34542108e-02 9.36001379e-05 2.18503759e-04\n",
      "|   2.81010172e-04 3.12385782e-05 4.37115523e-04 6.55889802e-04\n",
      "|   3.12097487e-04 2.80926120e-04 6.23935412e-05 1.56087903e-04\n",
      "|   9.99999975e-06 1.09967692e-02 6.23889428e-05 4.37146024e-04\n",
      "|   6.94375066e-03 3.93738318e-03 3.12219374e-04 1.40546365e-02\n",
      "|   4.76947092e-02 8.01117159e-03 5.62391069e-04 1.56051348e-04\n",
      "|   2.78149312e-03 6.91709481e-03 5.93701727e-04 3.12182441e-04\n",
      "|   1.24803570e-04 8.44337221e-04 9.36007564e-05 1.87239391e-04\n",
      "|   5.93194319e-03 3.12395387e-05 6.56724814e-03 6.23985325e-05\n",
      "|   3.27723147e-03 9.36024735e-05 5.45606669e-03 9.99999975e-06\n",
      "|   6.67342357e-03 3.12392076e-05 1.87218393e-04 3.12389275e-05\n",
      "|   7.70523818e-03 9.09763575e-03 1.40420562e-02 6.62764069e-03\n",
      "|   2.18474597e-04 7.49889237e-04 3.12385782e-05 6.27399003e-03\n",
      "|   4.32890095e-03 3.43405263e-04 3.12382144e-05 9.95883252e-03\n",
      "|   7.43653625e-03 1.56071634e-04 3.74711701e-04 8.12839018e-04\n",
      "|   3.12381162e-05 1.24817918e-04 5.28189819e-03 3.12174410e-02\n",
      "|   3.43469292e-04 9.35941134e-05 4.92947102e-02 4.06869454e-03\n",
      "|   1.24801751e-04 1.66906677e-02 3.73827037e-03 6.23932938e-05\n",
      "|   2.63186591e-03 3.12392076e-05 1.24793078e-04 7.42041925e-03\n",
      "|   9.35894277e-05 9.99999975e-06 3.11780404e-02 4.06035659e-04\n",
      "|   4.97971289e-03 2.80984852e-04 1.24815822e-04 3.52660171e-03\n",
      "|   3.12381162e-05 4.19536373e-03 8.17568973e-03 1.87224330e-04\n",
      "|   7.84466043e-03 7.18451396e-04 1.08077917e-02 3.35872010e-03\n",
      "|   3.66572826e-03 4.05994389e-04 7.18622934e-04 2.18438610e-04\n",
      "|   5.05365385e-03 7.18715892e-04 6.23961096e-05 8.12317827e-04\n",
      "|   8.75347410e-04 2.73711719e-02 6.87491731e-04 3.43511172e-04\n",
      "|   7.18922878e-04 9.99999975e-06 7.49605708e-03 7.82322418e-03\n",
      "|   9.35984062e-05 9.99999975e-06 2.49628472e-04 6.23939559e-05\n",
      "|   3.12381162e-05 2.49702862e-04 3.43444175e-04 9.35963108e-05\n",
      "|   1.87234691e-04 3.12169082e-04 2.18450557e-04 1.45051228e-02\n",
      "|   4.99675050e-04 6.97963685e-03 2.49686389e-04 2.80994980e-04\n",
      "|   1.56061316e-04 3.50932665e-02 8.71530175e-03 1.42992409e-02\n",
      "|   6.87187072e-04 5.77995693e-03 2.80996872e-04 6.74768025e-03\n",
      "|   2.18456131e-04 7.68067408e-03 6.36948943e-02 3.12384473e-05\n",
      "|   8.12640879e-04 6.23913365e-05 1.31646190e-02 4.53902688e-03\n",
      "|   1.87247089e-04 7.75409266e-02 4.37167299e-04 3.65349208e-03\n",
      "|   3.12168064e-04 6.23933302e-05 1.87848061e-02 1.24809594e-04\n",
      "|   7.28911534e-03 1.24803846e-04 1.07401600e-02 1.59360431e-02\n",
      "|   9.99999975e-06 9.44345072e-03 9.99999975e-06 3.51603213e-03\n",
      "|   5.62380126e-04 5.30988560e-04 9.35088471e-03 7.74408272e-03\n",
      "|   3.12371922e-05 9.35961434e-05 2.49672245e-04 2.32349732e-03\n",
      "|   7.07115978e-03 3.12150922e-04 1.07880998e-02 4.37026814e-04\n",
      "|   1.24802798e-04 3.78727657e-03 8.68246704e-03 1.32028153e-03]\n",
      "| eta (Dirichlet prior on the per-topic word distribution)\n",
      "|  0.01\n",
      "|\n",
      "<Topics>\n",
      "| #0 (42) : termin itt port irt move\n",
      "| #1 (239) : job tr schedul machin machin_tool\n",
      "| #2 (186) : tm gr al_qaeda gut_lumin lisa\n",
      "| #3 (479) : adapt rd metallifer_soil focal endogen\n",
      "| #4 (164) : prefer monoton inertia snout social_prefer\n",
      "| #5 (88) : plasma petit infus syring flow_rate\n",
      "| #6 (6348) : comput implement perform system applic\n",
      "| #7 (255) : test gui ultim given weak\n",
      "| #8 (964) : user content popular internet onlin\n",
      "| #9 (1088) : seed maiz gm cultiv transgen\n",
      "| #10 (0) : use model result studi base\n",
      "| #11 (1913) : architectur concept architect design histori\n",
      "| #12 (303) : mobil plateau human_mobil continuum electron_gase\n",
      "| #13 (304) : mpl mission gdm gdl ga_diffus\n",
      "| #14 (51) : circular_dna hxt ar lb fj\n",
      "| #15 (34) : vertebr darwinian somat circuitri shotgun\n",
      "| #16 (1228) : microtubul spindl cenp chromosom kinetochor\n",
      "| #17 (0) : use model result studi base\n",
      "| #18 (18) : plushi toy plush winch highli_versatil\n",
      "| #19 (30) : leaf_unfold spatial_varianc gddreq orchide decidu_tree\n",
      "| #20 (471) : compound breath profil breath_analysi ion\n",
      "| #21 (42) : tg ch_mole_fraction downward_trend cell_surviv lo_gato_research\n",
      "| #22 (44977) : increas reduc effect decreas use\n",
      "| #23 (241) : ub dub fair burial elev\n",
      "| #24 (23703) : observ show larg dynam variat\n",
      "| #25 (284) : et_al phi mccg ferromagnet nizk\n",
      "| #26 (306) : sar insar ice_shelf psi sub\n",
      "| #27 (167) : drive mse bti lsph mosquito\n",
      "| #28 (3645) : galaxi mass disk star ga\n",
      "| #29 (152) : strain crack dic dyssynchroni sdi\n",
      "| #30 (213) : si steflux nadw si_signatur flexpart_lagranto\n",
      "| #31 (24) : amplif oscc hoxc leukoplakia eif\n",
      "| #32 (455) : product vesicl pani_e templat reaction\n",
      "| #33 (870) : lymphat lec vegf ln lymphat_vessel\n",
      "| #34 (15) : retir_plan retir twofold_first across_disciplin life_expect\n",
      "| #35 (320) : updat residu edmf methodolog floor\n",
      "| #36 (253) : pa gestur person_network act photoacoust\n",
      "| #37 (722) : valv implant surgeri surgic fm\n",
      "| #38 (138) : paint lead_white oil lead_white_pigment date\n",
      "| #39 (63) : chapter test_specimen stub_slender_column elev_temperatur appendix\n",
      "| #40 (556) : phase oscil phaseless_reconstruct earli_phase daq\n",
      "| #41 (43) : dispens self_dispens pharmaci physician googl\n",
      "| #42 (181) : allerg allergen dog cathepsin dla\n",
      "| #43 (608) : nois filter corrupt annoy hz\n",
      "| #44 (74) : idd tgr usi temozolomid panetta\n",
      "| #45 (339) : oper lifetim agil de ψπ\n",
      "| #46 (239) : fragment hyperacusi tinnitu registr ldl\n",
      "| #47 (459) : lactat infant aminoglycosid secretor lub\n",
      "| #48 (1721) : servic demand transport vehicl oper\n",
      "| #49 (643) : ga gase ar insul liquid\n",
      "| #50 (408) : compress oma infer beast ortholog\n"
     ]
    },
    {
     "name": "stdout",
     "output_type": "stream",
     "text": [
      "| #51 (2549) : model mass search event momentum\n",
      "| #52 (1693) : imag uptak tb kidney pet\n",
      "| #53 (299) : effici persist ked transient compani\n",
      "| #54 (991) : postur angl posit marker segment\n",
      "| #55 (544) : migrat immigr migrant skill migratori\n",
      "| #56 (956) : leaf canopi leav transpir plant\n",
      "| #57 (494) : th polyploid meiotic crossov diploid\n",
      "| #58 (99) : descriptor burn ash jatropha_curca prw\n",
      "| #59 (201) : metric standard technolog_aid metrolog avian\n",
      "| #60 (16844) : data use inform analysi sampl\n",
      "| #61 (1688) : forecast indic predict real_time period\n",
      "| #62 (393) : ec n_ oc carbonac_aerosol elf\n",
      "| #63 (197) : histon chromatin ptm cac nucleosom\n",
      "| #64 (757) : growth grow growth_rate situ hypocotyl\n",
      "| #65 (88) : sirna trna p orn fragment\n",
      "| #66 (61) : salari doctor_student erdw rdt soe\n",
      "| #67 (154) : trade flow versu telecoupl negoti\n",
      "| #68 (1236) : neuromorph neural learn spike brain\n",
      "| #69 (707) : mr gaba magnitud glutam brain\n",
      "| #70 (4499) : imag camera accuraci sensor point\n",
      "| #71 (276) : lat amino_acid microgrid invert untreat\n",
      "| #72 (122) : hfo cell_fusion seizur epilepsi_surgeri hfo_area\n",
      "| #73 (1480) : anim popul cattl breed qtl\n",
      "| #74 (33) : peer_peer peer veto serial incent\n",
      "| #75 (362) : databas sib curat queri jaspar\n",
      "| #76 (805) : resili disast commun event crowd\n",
      "| #77 (0) : use model result studi base\n",
      "| #78 (32463) : develop research discus includ current\n",
      "| #79 (98) : gshp uv bhe depa hp\n",
      "| #80 (335) : lbp ivd degener osmot disc\n",
      "| #81 (121) : conflict misi intrast onset arm\n",
      "| #82 (2939) : magnet spin field magnet_field phase\n",
      "| #83 (135) : maa pt bike_share season_ticket mobil_servic_maa\n",
      "| #84 (1364) : reson frequenc respons vibrat excit\n",
      "| #85 (5130) : imag resolut contrast techniqu detect\n",
      "| #86 (351) : evapor heat_transfer gw tube binari\n",
      "| #87 (445) : start di tion expertis veloc\n",
      "| #88 (199) : view radiant_cool breast_densiti obliqu globe\n",
      "| #89 (2527) : speci plant commun diver grassland\n",
      "| #90 (917) : data privaci share ethic israd\n",
      "| #91 (124) : caviti pre han dbp bovin_respiratori_syncyti_viru\n",
      "| #92 (3618) : glacier ice surfac mass_balanc melt\n",
      "| #93 (222) : edta dfob fe_ii ligand dissolut\n",
      "| #94 (315) : substrat dsm pha col kpa\n",
      "| #95 (0) : use model result studi base\n",
      "| #96 (258) : recoveri recov prr secondari_forest stroke\n",
      "| #97 (250) : spore inactiv germin hp sd_spore\n",
      "| #98 (178) : cut ham_sandwich bisect simultan_bisect hyperplan\n",
      "| #99 (11589) : protein bind structur interact complex\n",
      "| #100 (15) : cpeb cpb germ_cell missens spermatogenesi\n",
      "| #101 (1126) : intestin colon mouse gut commens\n",
      "| #102 (54) : tag limit rfid markov_process reader\n",
      "| #103 (111) : solut cq_relationship cq_behavior concentr long_term\n",
      "| #104 (249) : vector phytoplasma_infect infect_plant cranberri tick\n",
      "| #105 (123) : fiber tendon fascicl tw solubl\n",
      "| #106 (27) : tripl junction ew enigmat imping\n",
      "| #107 (622) : uncertainti stochast uncertain robust uncertain_paramet\n",
      "| #108 (536) : fish chemic zebrafish agnp toxic\n",
      "| #109 (193) : mi dimens mit chronic_lbp cynic\n",
      "| #110 (2150) : fractur rock permeabl inject geolog\n",
      "| #111 (140) : crc uri ccw hfq perceiv_health\n",
      "| #112 (204) : adhd nf child attent_deficit_hyperact_disord parent\n",
      "| #113 (124) : malt lymphoma gim traf mammographi\n",
      "| #114 (375) : ai topographi uplift incis topograph\n",
      "| #115 (128) : disc bar stir udg baryon\n",
      "| #116 (9) : ue_activ dimuon_invari_mass muonic balbu model\n",
      "| #117 (0) : use model result studi base\n",
      "| #118 (200) : valu line_evid alm unreport μh\n",
      "| #119 (2791) : social individu disord relat associ\n",
      "| #120 (1151) : aβ ad brain patholog diseas\n",
      "| #121 (132) : cocain_user cocain cocain_use social_cognit chronic_cocain_user\n",
      "| #122 (814) : time tempor time_depend trajectori delay\n",
      "| #123 (23) : en_valu ft en nitrogen monthli_mean\n",
      "| #124 (350) : week rabbit atf immobil adhes\n",
      "| #125 (61) : wind_speed ship frp hnl distort\n",
      "| #126 (174) : cf sputum creatin cough ffrt\n",
      "| #127 (153) : rbc red_blood_cell roadmap blood rbc_membran\n",
      "| #128 (2682) : topolog state electron band materi\n",
      "| #129 (58) : rotor lossi_data bear slotless rotat_speed\n",
      "| #130 (248) : read child reader vot charact\n",
      "| #131 (204) : rpc height prism compens arm_weight\n",
      "| #132 (1106) : membran lipid vesicl cholesterol mechan\n",
      "| #133 (167) : mix floodplain horn pom kafu_flat\n",
      "| #134 (166) : edc smb estrogen eemian androgen\n",
      "| #135 (376) : offspr matern gener phenotyp mhfd\n",
      "| #136 (440) : thermodynam ceasefir thermal state bath\n",
      "| #137 (55) : herna heasc hypertrophi smg open_read_frame\n",
      "| #138 (439) : biofilm ep morpholog bath_toy biofilm_format\n",
      "| #139 (2170) : drug target compound treatment inhibitor\n",
      "| #140 (1537) : exercis physic_activ exergam particip activ\n",
      "| #141 (97) : design_rule verif sc member clt\n",
      "| #142 (149) : famili_risk tspo opac hydroxytyrosol oliv\n",
      "| #143 (158) : transit first_last_mile par_clip ridership mucoromycotina\n",
      "| #144 (3918) : metabol strain enzym metabolit glucos\n",
      "| #145 (98) : composit excit_lepton_mass excit_lepton gravel artefact\n",
      "| #146 (208) : pi crisi caffein crise parapleg\n",
      "| #147 (0) : use model result studi base\n",
      "| #148 (249) : cl ppi apomorphin ecl dhp\n",
      "| #149 (3) : anal syng reentrant result studi\n",
      "| #150 (427) : variabl tempor_variabl threshold bia_adjust patholog\n",
      "| #151 (227) : bp correl cbfv rbp rtpj\n",
      "| #152 (135) : methyl dkk_methyl matern_rna wif cpg_site\n",
      "| #153 (2406) : soil extract pool soc dynam\n",
      "| #154 (118) : valley messinian spuriou km_resolut valley_wind\n",
      "| #155 (167) : stem ptttrhb genus sorghum sapwood_biomass\n",
      "| #156 (1574) : exposur chemic expo popul concentr\n",
      "| #157 (211) : island hmc tet anoli corsica\n",
      "| #158 (173) : pathway lem ldg pafbc dna_damag\n",
      "| #159 (226) : storm foehn wind lwc circul_type\n",
      "| #160 (32) : 주신 연구 포항지진과 지열발전의 연관성\n",
      "| #161 (23) : geograph_scale spatial_configur canin_cancer_incid opinion isovist\n",
      "| #162 (128) : stuxnet iran iranian tenocyt unit\n",
      "| #163 (327) : transport forecast demand rp sp\n",
      "| #164 (378) : phosphoryl mapk surg erk phosphoryl_site\n",
      "| #165 (0) : use model result studi base\n",
      "| #166 (3118) : neuron brain behavior mouse synapt\n",
      "| #167 (230) : δ²hwax bloom_filter habitat form growth\n",
      "| #168 (182) : msc prp chondrogenesi semidirect_effect aerosol_cloud_radi\n",
      "| #169 (118) : count acetaldehyd lppl quantil_regress tiller\n",
      "| #170 (90) : pu pu_pu fallout plutonium nwt\n",
      "| #171 (147) : bike basic_research sender_invari micromobl bike_share_util\n",
      "| #172 (0) : use model result studi base\n",
      "| #173 (67) : ala ton epp uranium fech\n",
      "| #174 (112) : correct ceilomet chm cal cbl\n",
      "| #175 (712) : land_use land deforest sustain expans\n",
      "| #176 (61) : daphnia ephippia stabl_isotop_composit law kleiber\n",
      "| #177 (3206) : popul genet speci marker individu\n",
      "| #178 (38) : movement feedback_mechan yerevan armenia protest\n",
      "| #179 (130) : reservoir cover evapor_loss rubisco posit_select\n",
      "| #180 (3349) : catchment discharg hydrolog flow runoff\n",
      "| #181 (263) : grid caspas voltag cleavag pnazym\n",
      "| #182 (343) : polar vapour_pressur bi agw factor\n",
      "| #183 (123) : glycogen ke nsf subregion crispatu_strain\n",
      "| #184 (861) : frequenc oscil synchron hz music\n",
      "| #185 (376) : storag thermal_energi energi_storag temperatur adsorpt_thermal\n",
      "| #186 (209) : loop domain gff gaussian_free boundari\n",
      "| #187 (152) : poi ammonium fog suppress anammox\n",
      "| #188 (394) : block bat ee pkd cit\n",
      "| #189 (537) : inp dust feldspar inp_concentr desert\n",
      "| #190 (760) : event frame latenc motion camera\n",
      "| #191 (5268) : connect activ process brain function\n",
      "| #192 (877) : speci rang nich distribut plant\n",
      "| #193 (75) : confin burst lifetim pyrolysi rdx\n",
      "| #194 (573) : surrog surrog_model pce uncertainti_quantif gp\n",
      "| #195 (636) : object static class infer type\n",
      "| #196 (116) : hallii fima pd nte fucos\n",
      "| #197 (360) : covid ifn plp covid_pandem nib\n",
      "| #198 (9) : dlt use model result studi\n",
      "| #199 (602) : region transfer lead converg northern\n",
      "| #200 (194) : chrcc sha aptian fn classic\n",
      "| #201 (91) : format popul_iii_star mv tv enrich\n",
      "| #202 (21) : intercultur doctor_student volunt mgud forefront\n",
      "| #203 (165) : global local local_global sustain chain\n",
      "| #204 (97) : ed deterior yali nisyro effus_explos\n",
      "| #205 (10) : ifitm transmembran_protein dengu kaha oikonom\n",
      "| #206 (109) : hybrid ident pse json parser\n",
      "| #207 (53) : litter poster nutrient_content face_face anti\n",
      "| #208 (279) : coordin team psm central surgic\n",
      "| #209 (4011) : flux ecosystem co observ site\n",
      "| #210 (166) : extinct nt tracksit haematobium viabil\n",
      "| #211 (552) : agent behaviour osn emerg agent_base\n",
      "| #212 (2015) : jet compar predict gener calcul\n",
      "| #213 (262) : eb aa deposit_rate miner amount\n",
      "| #214 (49) : biowast wast formul nfc bsfl_treatment\n",
      "| #215 (176) : mc knee_injuri cyanobacteri microcystin bloom\n",
      "| #216 (2888) : network node connect structur topolog\n",
      "| #217 (4774) : transport measur atmospher air_mass layer\n",
      "| #218 (108) : apocrin_gland h acid potassium heart_failur\n",
      "| #219 (2897) : tumor cancer patient cell breast_cancer\n",
      "| #220 (50) : represent space hermitian psl lie_group\n",
      "| #221 (1002) : abstract semant languag program verif\n",
      "| #222 (753) : circuit design synthet engin synthet_biolog\n",
      "| #223 (177) : extract coffe tannin alkylamin polysaccharid\n",
      "| #224 (917) : cell_wall cellulos solid lignin pretreat\n",
      "| #225 (78) : integu shark outer bull_shark ovul\n",
      "| #226 (3322) : firm innov industri activ invest\n",
      "| #227 (687) : ph acid buffer solut stabil\n",
      "| #228 (452) : signal tidal non_linear overlap recent\n",
      "| #229 (951) : ii iii iv decomposit net\n",
      "| #230 (153) : doubl_low svg chile mn soc\n",
      "| #231 (243) : prion fcc_hh prpc pipelight aru\n",
      "| #232 (443) : line cabl ig supercrit_water dielectr\n",
      "| #233 (305) : lunar ssp moon terrestri slr\n",
      "| #234 (2933) : seismic earthquak fault veloc slip\n",
      "| #235 (2750) : integr correct comput loop amplitud\n",
      "| #236 (1173) : design relat new car unit_state\n",
      "| #237 (43) : self_injuri recurr schist silgara sc\n",
      "| #238 (23) : condens formaldehyd thf methylen deleteri\n",
      "| #239 (850) : erupt volcan_erupt volcan stratospher_aerosol aerosol\n",
      "| #240 (0) : use model result studi base\n",
      "| #241 (794) : sensor sen monitor low_cost deploy\n",
      "| #242 (179) : mediat peac peac_process busi_actor treatment_depress\n",
      "| #243 (173) : curvatur doubl self gaussian_curvatur bilay\n",
      "| #244 (139) : plaqu refund stabl jup initi_fee\n",
      "| #245 (732) : flight fli airport drone path\n",
      "| #246 (79) : spmi palli_care wp_sgd sgd dtd\n",
      "| #247 (2916) : speci lineag phylogenet evolut infer\n",
      "| #248 (716) : strategi releas hunt anti coher\n",
      "| #249 (81) : bargain chlor_alkali_electrolysi odc chlor_alkali payoff\n",
      "| #250 (270) : aw solut quartz microclin thet\n",
      "| #251 (173) : patent technolog trl nanotechnolog qualiti\n",
      "| #252 (3371) : theori symmetri algebra gener cft\n",
      "| #253 (130) : pnep pvm transloc neutralis export\n",
      "| #254 (31763) : inform develop integr commun manag\n",
      "| #255 (115) : factor bite nmvoc fix_multi avoid_burden\n",
      "| #256 (3492) : particl ice cloud temperatur ice_nucleat\n",
      "| #257 (511) : myelin axon sc mtorc schwann_cell\n",
      "| #258 (2548) : system integr compon safeti level\n",
      "| #259 (0) : use model result studi base\n",
      "| #260 (770) : pco pg_yr sea_air interannu_variabl co_flux\n",
      "| #261 (4721) : deform load strain mechan materi\n",
      "| #262 (207) : degrad crm biodegrad pah beta_glucan\n",
      "| #263 (1163) : rna bitcoin blockchain ago small_rna\n",
      "| #264 (426) : dom lokomat semg patient_cooper mode\n",
      "| #265 (193) : crime ow_ob grk rkip bv\n",
      "| #266 (1016) : isotop sourc isotop_composit sampl trace\n",
      "| #267 (288) : rat fusion_protein vegfc fibronectin ap\n",
      "| #268 (395) : insect bee bumblebe honeybe pollin\n",
      "| #269 (2127) : surfac droplet liquid water interfac\n",
      "| #270 (84) : charg_transfer fd conjug_polym do intermolecular\n",
      "| #271 (39) : controversi spillov technolog energi research_agenda\n",
      "| #272 (16747) : effect studi experi use posit\n",
      "| #273 (229) : profil phe stigma wet_refract radiosond\n",
      "| #274 (457) : aggreg microscop nucleat molecular_chaperon synuclein\n",
      "| #275 (303) : area ev sea_ice overlap greater_jakarta\n",
      "| #276 (145) : execut_function cu numer_skill cbt fine_motor_skill\n",
      "| #277 (266) : gf fl folat vhr forsat\n"
     ]
    },
    {
     "name": "stdout",
     "output_type": "stream",
     "text": [
      "| #278 (44) : o_ ppp south_africa pas remain_rel\n",
      "| #279 (60) : narr local_scale silicen restor forest_restor\n",
      "| #280 (708) : mutant defect mutat cell_wall tsc\n",
      "| #281 (2296) : pathogen isol fungal resist infect\n",
      "| #282 (1615) : network wireless commun protocol deploy\n",
      "| #283 (3743) : flow fluid veloc viscos transport\n",
      "| #284 (237) : peptid adp_ribosyl kdac self_assembl_peptid_hydrogel kat\n",
      "| #285 (102) : redistribut critic_task demand mix_critic task_overrun\n",
      "| #286 (36) : eccdna pigeon breast nucleu repetit_element\n",
      "| #287 (132) : matroid pea diffus_light gcm pep\n",
      "| #288 (443) : tunnel face ground stabil reinforc\n",
      "| #289 (64) : na glyr io satellit anion\n",
      "| #290 (302) : medium born phenomenon complementari admitt\n",
      "| #291 (14) : meat_altern previou_find escalop model result\n",
      "| #292 (204) : mdr pgp gelatin lta galactos\n",
      "| #293 (118) : lg snowb_speci pizzo_mondello newark norian\n",
      "| #294 (3768) : compound reaction synthesi acid format\n",
      "| #295 (227) : imf condition world_bank loan countri\n",
      "| #296 (501) : al aluminum mgo ab cao\n",
      "| #297 (135) : rodent ahn tempor hippocamp septal\n",
      "| #298 (353) : spectrum absorpt nm spectral bar\n",
      "| #299 (52) : vortex vortic vortex_core arch roi\n",
      "| #300 (392) : ingest column placebo lactulos iqr\n",
      "| #301 (1735) : root plant starch leav arabidopsi\n",
      "| #302 (31) : blank logist kipni tryout identif\n",
      "| #303 (369) : label point_cloud unlabel edit point\n",
      "| #304 (164) : supplier opportunist dh startup buyer\n",
      "| #305 (63) : egfr kfrt slope metabolit dkd\n",
      "| #306 (32) : cafa mmsa top_perform sar clearanc\n",
      "| #307 (4116) : bacteria microbi microbiota bacteri microbi_commun\n",
      "| #308 (86) : jlca nwb hka wb dlr\n",
      "| #309 (192) : camp pka sirk qsk hcn\n",
      "| #310 (62) : emo corpor_sustain pareto_set multiobject_optim evolutionari\n",
      "| #311 (39) : epilepsi seizur epilept bap scalp_eeg\n",
      "| #312 (1090) : male femal mate sex male_femal\n",
      "| #313 (697) : adhes forc substrat integrin surfac\n",
      "| #314 (1122) : bond concret reinforc structur strengthen\n",
      "| #315 (171) : assembl polish λb mitoribosom pacbio\n",
      "| #316 (159) : dot lle aha task amci\n",
      "| #317 (385) : viral_load spvl viru herit cell\n",
      "| #318 (60) : twin slb sct basal bai\n",
      "| #319 (210) : hcl ftir evapor pure entangl_entropi\n",
      "| #320 (108) : reform energi_price green_innov bicycl_share euro\n",
      "| #321 (105) : pattern ham_distanc l__distanc spall equival\n",
      "| #322 (18) : ela ahlmann concis take_form earli_th_centuri\n",
      "| #323 (488) : orient align draw taxonomi pneumophila\n",
      "| #324 (44) : idh sperm egg coral spawn\n",
      "| #325 (36) : brgdgt branch_glycerol_dialkyl insensit lugano predomin\n",
      "| #326 (1076) : sleep wake rem_sleep state night\n",
      "| #327 (262) : fa screen taspas sirna axl\n",
      "| #328 (320) : europ chv refuge chestnut european\n",
      "| #329 (114) : nh nh_cluster haze ctc dimer\n",
      "| #330 (2115) : polit vote govern polici rule\n",
      "| #331 (135) : displac prd_method dinsar instabl gb\n",
      "| #332 (138) : rf_emf whole_brain side_inform rf_emf_dose mobil_phone\n",
      "| #333 (0) : use model result studi base\n",
      "| #334 (100) : p_dna lsc duplex renal_arteri semiclass\n",
      "| #335 (223) : sr burnout mass_fraction rm sr_isotop\n",
      "| #336 (64) : cne dewat faecal_sludg talen sludg\n",
      "| #337 (178) : wetland methan_emiss ntcf co_emiss hbl\n",
      "| #338 (713) : point bound number triangul upper_bound\n",
      "| #339 (43) : rbr met gametophyt sporophyt cell_fate\n",
      "| #340 (28) : subalpina inventori phialocephala enrich_analysi fortinii\n",
      "| #341 (4014) : ozon atmospher stratospher simul chemistri_climat_model\n",
      "| #342 (1464) : extrem heat_wave event soil_moistur extrem_event\n",
      "| #343 (507) : human rodent apathi anim_model macaqu\n",
      "| #344 (2189) : antibodi hiv antigen cell vaccin\n",
      "| #345 (2038) : antibiot resist strain isol plasmid\n",
      "| #346 (73) : dri_rewet sozial nfa ambigu egozentrischen\n",
      "| #347 (17) : bto lno broad_spectral mie glass_fibr\n",
      "| #348 (33717) : use perform differ base compar\n",
      "| #349 (479) : layer depth radiu disk ac\n",
      "| #350 (2604) : age ka record reconstruct deposit\n",
      "| #351 (279) : hydrogel indent crosslink bioprint av\n",
      "| #352 (72) : propriocept svg sulphenyl simlin autom\n",
      "| #353 (1569) : detect assay monitor diagnost platform\n",
      "| #354 (130) : mortar corner arizona meniscus arc\n",
      "| #355 (645) : trend time_seri pcb declin long_term_trend\n",
      "| #356 (390) : chain tau payment tile phosphoryl\n",
      "| #357 (0) : use model result studi base\n",
      "| #358 (191) : invers spatial_domain synthet exhum_rate nlte_effect\n",
      "| #359 (31472) : activ regul function cell express\n",
      "| #360 (15) : dcvn dynam_coval junction rheometri rearrang\n",
      "| #361 (267) : percept stimulu cube ambigu perceptu\n",
      "| #362 (313) : ch_emiss ch product enter_ch sf\n",
      "| #363 (133) : salt osmot_stress oxygen_consumpt alum counterion\n",
      "| #364 (444) : igf poli nrf dilp growth_factor\n",
      "| #365 (325) : frozen percol timber freez glt_beam\n",
      "| #366 (19) : complier noncompli taker necessari_understand letter\n",
      "| #367 (135) : report mysm reaction eye icsr\n",
      "| #368 (23) : beamform fasnet time_domain low_latenc reverber\n",
      "| #369 (773) : stress adapt pul respons stress_respons\n",
      "| #370 (46) : flap surf dfuk jump lagrangian\n",
      "| #371 (125) : speech speaker attend decod listen\n",
      "| #372 (38) : consensu nakamoto upper_extrem commgen enigma\n",
      "| #373 (9) : uorf grow_number becom_essenti repres_major use\n",
      "| #374 (8) : stixel scene_represent geometr_accuraci use model\n",
      "| #375 (108) : lv dyssynchroni necrosi edema thalam_segment\n",
      "| #376 (96) : hf zno_nanoparticl hsv tk pyrimidin\n",
      "| #377 (60242) : differ studi use compar result\n",
      "| #378 (717) : pain er fear substrat neuropath_pain\n",
      "| #379 (200) : pt pefc surfac_evapor stf pt_ni\n",
      "| #380 (458) : china chine ssr decad japan\n",
      "| #381 (679) : site site_specif transcript_start analog near_surfac\n",
      "| #382 (149) : class cwd decay gst larch\n",
      "| #383 (0) : use model result studi base\n",
      "| #384 (122) : dataset et swbm pet anthrop\n",
      "| #385 (977) : hif hypoxia embryo pregnanc day\n",
      "| #386 (36787) : process system complex dynam control\n",
      "| #387 (39) : amp daptomycin kd bacitracin polymyxin\n",
      "| #388 (3052) : sourc aerosol pm concentr emiss\n",
      "| #389 (122) : asp dota dota_nap_amid dechlorin msh\n",
      "| #390 (36) : ifitm open_sourc_hardwar amphob iav prepar\n",
      "| #391 (57) : pmssm dark interpol com ηb\n",
      "| #392 (704) : matrix matric eigenvalu vector entri\n",
      "| #393 (41) : rostania gpt foggi arriv extend\n",
      "| #394 (149) : ebv ebna ebv_gene cell_line ptld\n",
      "| #395 (148) : field ridg vent brillianc belong\n",
      "| #396 (277) : lb bam co event nd\n",
      "| #397 (51) : feed hay sweep fricdiff concentr_gradient\n",
      "| #398 (327) : oh sf ktoe isopren ah\n",
      "| #399 (5610) : der und die von zu\n",
      "| #400 (66256) : use base method approach system\n",
      "| #401 (12828) : optim algorithm problem constraint comput\n",
      "| #402 (167) : rt g thioredoxin trx reductas\n",
      "| #403 (19) : polarimetr tokyo show_signific agreement notch\n",
      "| #404 (1673) : environment sustain optim environment_impact suppli_chain\n",
      "| #405 (23) : higg goldston temperatur_depend hat soften\n",
      "| #406 (95) : sm ssc curv pbrc vpd\n",
      "| #407 (128) : argo psf late_succession ruder float\n",
      "| #408 (54) : tdirof ammonia bdd cod ac\n",
      "| #409 (87) : separ cartridg af infil permeat\n",
      "| #410 (46) : literaci rfid_badg interpol relat_financi_literaci face_face\n",
      "| #411 (787) : variant genotyp refer wg imput\n",
      "| #412 (379) : instrument dd balloon cryogen enso_variabl\n",
      "| #413 (14756) : region area locat data local\n",
      "| #414 (181) : fruit morpholog darpin plant_speci lmrcd\n",
      "| #415 (2071) : season winter summer day spring\n",
      "| #416 (334) : nematod defens insp glycan fungi\n",
      "| #417 (121) : filterbank bic_strategi mci fft ace\n",
      "| #418 (81) : termin ilf_extern extern interview dsm\n",
      "| #419 (446) : slime mucin hagfish exud hydrogel\n",
      "| #420 (388) : planet stem_cell zll stem_cell_mainten earth\n",
      "| #421 (12282) : estim model data base variabl\n",
      "| #422 (293) : observ oscil algaa resist high_mobil_gaa\n",
      "| #423 (444) : rack ethic fish head_loss hydropow_plant\n",
      "| #424 (156) : sp da mz ceratobasidium white\n",
      "| #425 (624) : interact inclus strength rest hi\n",
      "| #426 (328) : gpp ex glp nep sun\n",
      "| #427 (59) : prokaryot_commun brunneum formul pot_experi barley\n",
      "| #428 (467) : hippocampu sonic rat lesion anesthet\n",
      "| #429 (358) : cr cr_cr cr_iii cr_vi seed_locat\n",
      "| #430 (974) : algorithm random lower_bound round onlin_algorithm\n",
      "| #431 (170) : affili incom_shift stallion job_hous ex_post\n",
      "| #432 (194) : secret sand dune sv dune_field\n",
      "| #433 (128) : fsh lh follicl dso ecg\n",
      "| #434 (1570) : electron ioniz delay ion attosecond\n",
      "| #435 (672) : park search park_price decis street_garag_park\n",
      "| #436 (3341) : measur particl event observ compar\n",
      "| #437 (95) : queri pop satay cloud treebas\n",
      "| #438 (56) : equilibrium moistur_content fnh thermostat alv\n",
      "| #439 (163) : genipin stage merozoit inject degener_tendon\n",
      "| #440 (219) : swcnt dp buckypap bipolar_disord copula\n",
      "| #441 (179) : pfass pfa essenti chemic categor\n",
      "| #442 (540) : peak imprecis la bomb fit\n",
      "| #443 (177) : stream toler aptam lowland montan\n",
      "| #444 (2784) : movement task subject motor hand\n",
      "| #445 (1614) : mode choic experi valu travel_time\n",
      "| #446 (26) : bisect content microst toru ob\n",
      "| #447 (413) : monkey lesion chitin ccm function_recoveri\n",
      "| #448 (652) : pore poros reform pre permeabl\n",
      "| #449 (0) : use model result studi base\n",
      "| #450 (135) : pgc sirt pemf_treatment prdm alpha\n",
      "| #451 (105) : fibr fn inotrop volum_fraction relax\n",
      "| #452 (1942) : intervent group particip effect trial\n",
      "| #453 (562) : car mobil resid ownership mobil_tool\n",
      "| #454 (6272) : quantum state interact system theori\n",
      "| #455 (441) : state kinemat switch high_level ttf\n",
      "| #456 (1321) : wave propag acoust medium sound\n",
      "| #457 (0) : use model result studi base\n",
      "| #458 (23) : aop food_intak ssri pyrethroid apic\n",
      "| #459 (200) : employ labor_market wage qol social_expenditur\n",
      "| #460 (98) : intercomparison descent epp_indirect_effect wake karlsruh\n",
      "| #461 (546) : mass heavi flavor baryon mn\n",
      "| #462 (134) : ob gastric postprandi lrygb satiat\n",
      "| #463 (367) : distanc align filter tree glenoid\n",
      "| #464 (263) : e busi compani es busi_model\n",
      "| #465 (2144) : emiss co co_emiss global mitig\n",
      "| #466 (581) : protein ccmk proteom secretom metaproteom\n",
      "| #467 (1309) : farmer agricultur farm product pesticid\n",
      "| #468 (64) : subsampl pi csp matsoni gamma\n",
      "| #469 (38) : lo inpati psychopatholog length_stay explain_variat\n",
      "| #470 (131) : azol green sterol_alpha_demethylas magnu aromatas\n",
      "| #471 (15415) : result use analysi identifi detect\n",
      "| #472 (27) : cavit interphas ua denot forc_field\n",
      "| #473 (0) : use model result studi base\n",
      "| #474 (37) : expert competitor fraud custom reput\n",
      "| #475 (373) : error regress lasso graphic aogcm\n",
      "| #476 (1130) : equat process pde parabol space_time\n",
      "| #477 (3353) : laser pul optic emiss wavelength\n",
      "| #478 (862) : household hous demand villag incom\n",
      "| #479 (95) : asymmetri mesa xeol ssl gabilan\n",
      "| #480 (804) : nanoparticl nanocomposit silver toxic etch\n",
      "| #481 (1307) : learn memori train task perform\n",
      "| #482 (0) : use model result studi base\n",
      "| #483 (1802) : cardiac heart cmr patient myocardi\n",
      "| #484 (93) : phase_tensor mt quasi_electr autarki tensor\n",
      "| #485 (312) : territori assemblag tschumi deleuz disjunct\n",
      "| #486 (232) : fault fault_detect branch_coverag fault_toler wind_turbin\n",
      "| #487 (408) : br ctip region cmssm_nuhm constraint\n",
      "| #488 (3216) : cell singl_cell cellular surfac popul\n",
      "| #489 (901) : studi review report systemat_review search\n",
      "| #490 (166) : bridg foundat diver pier segpho\n",
      "| #491 (36) : seed_sourc miss ring proven northernmost\n",
      "| #492 (496) : retin retina axon rout test_run\n",
      "| #493 (254) : branch branch_morphogenesi pattern lung_kidney ligand_receptor_base\n",
      "| #494 (455) : garnet zircon element trace_element peridotit\n",
      "| #495 (310) : epr nitroxid pul spin_label distanc\n"
     ]
    },
    {
     "name": "stdout",
     "output_type": "stream",
     "text": [
      "| #496 (371) : neg quarter compani news mutual\n",
      "| #497 (0) : use model result studi base\n",
      "| #498 (48) : nanoplatelet inductor babi downhol fea\n",
      "| #499 (276) : db stn stimul tremor deep_brain\n",
      "| #500 (196) : loss gan core inductor power_densiti\n",
      "| #501 (3761) : softwar tool packag user pipelin\n",
      "| #502 (144) : suicid om appar rdp degrad\n",
      "| #503 (844) : ligand complex coordin bond nmr\n",
      "| #504 (129) : apo cobinamid spo pwv sdb\n",
      "| #505 (50) : ad ad_icc_ci lexa orthogon er\n",
      "| #506 (284) : free_energi transit_state metadynam molecular_dynam atomist\n",
      "| #507 (248) : islet insulin lim diabet vapor_pressur\n",
      "| #508 (450) : resourc manag sustain regul intervent\n",
      "| #509 (300) : arc current disconnector voltag ocean_plateau\n",
      "| #510 (67) : lnk chico sh inr adaptor\n",
      "| #511 (187) : vet hoxb educ vpa satisfact\n",
      "| #512 (213) : bubbl foam pulsat burst coalesc\n",
      "| #513 (34) : sio silanol_content butanol gigapasc stiffer\n",
      "| #514 (43) : effort dlpfc exert fatigu endur\n",
      "| #515 (91) : coil_coil sclerit lz retro zipper\n",
      "| #516 (570) : cycl bicycl simul cyclist facil\n",
      "| #517 (0) : use model result studi base\n",
      "| #518 (74) : pump prototyp step spillway agil\n",
      "| #519 (710) : bone implant osteoporosi bone_format hr_pqct\n",
      "| #520 (142) : efsa csc mesyl benztropin legisl\n",
      "| #521 (415) : psc observ lidar nat rn\n",
      "| #522 (1126) : mouse brain mous vascular csf\n",
      "| #523 (111) : explos reoptim air_pressur procur point_explos\n",
      "| #524 (2821) : urban citi singapor area develop\n",
      "| #525 (3279) : devic integr power signal switch\n",
      "| #526 (17752) : measur use method valu determin\n",
      "| #527 (419) : vocal song auditori sensori stimulus\n",
      "| #528 (354) : activ engag igaco util reserv\n",
      "| #529 (44414) : two one show result first\n",
      "| #530 (97) : te rnase retrovirus give_u endosirna\n",
      "| #531 (381) : domain shg lrr ferroic share\n",
      "| #532 (488) : repertoir diver clone immun_repertoir immunolog\n",
      "| #533 (467) : canopi veget nighttim plant tree\n",
      "| #534 (267) : ro immobilis hcho dcf reactiv_oxygen_speci\n",
      "| #535 (4340) : speci ecolog diver commun habitat\n",
      "| #536 (221) : curvatur hug immers riemannian_manifold willmor\n",
      "| #537 (348) : soot soot_particl black atmospher_age diesel\n",
      "| #538 (729) : dam reservoir hydropow sbt sediment\n",
      "| #539 (360) : sea ocean marin ucyn inland\n",
      "| #540 (1577) : crystal nanocryst nc phase solut\n",
      "| #541 (445) : project br deliver famili instruct\n",
      "| #542 (180) : sd hdl adduct cholesterol sr_bi\n",
      "| #543 (1504) : high concentr low cm rang\n",
      "| #544 (146) : deposit cu hfac icl campaign\n",
      "| #545 (846) : parasit host infect accid polygyru\n",
      "| #546 (406) : altitud cyanobacteria phototroph sulfur cyanobacteri\n",
      "| #547 (666) : group subgroup cluster classif embed\n",
      "| #548 (372) : genotyp recombin breed host_parasit coevolut\n",
      "| #549 (58) : real_world virtual_realiti_train neurosci replay underli_theori\n",
      "| #550 (152) : ocd flox drn csr exon\n",
      "| #551 (175) : pol antivir_activ pol_ii aryl eld\n",
      "| #552 (329) : mm hn slip_rate abf routin_use\n",
      "| #553 (88) : colour ramsey_number virosom bipartit mono\n",
      "| #554 (1853) : diet food dietari protein supplement\n",
      "| #555 (1304) : fact observ telescop flux oper\n",
      "| #556 (1734) : exercis min v perform con\n",
      "| #557 (93) : bunch beam mu transvers wall\n",
      "| #558 (55) : inject bacteriuria prophylaxi intradetrusor precursor\n",
      "| #559 (70) : rca replac mixtur fraction sand\n",
      "| #560 (1432) : film coat layer deposit thin_film\n",
      "| #561 (128) : water_uptak depth shallow_root pratens pcwu\n",
      "| #562 (124) : term definit eustress nutriti sovereignti\n",
      "| #563 (54) : causal margin mln liquid_film plr\n",
      "| #564 (713) : parasitoid aphid symbiont host defensa\n",
      "| #565 (73) : catenin bcl tbx oncogen colorect_cancer\n",
      "| #566 (1559) : reliabl icc ass test agreement\n",
      "| #567 (104) : damag blade compressor vibrat hemoglobin\n",
      "| #568 (193) : teamwork m² lcz patient_safeti emot_exhaust\n",
      "| #569 (423) : hous facil school clean mvpa\n",
      "| #570 (2449) : select fit evolut popul adapt\n",
      "| #571 (88) : δcyab tusc gyroid glucos_uptak insulin_stimul\n",
      "| #572 (576) : mitochondri dr mtdna mitochondrion lifespan\n",
      "| #573 (525) : text word video sentiment sentenc\n",
      "| #574 (379) : bc lame drosophila dbc rmssd\n",
      "| #575 (160) : mpa proteasom pup actinobacteria degrad\n",
      "| #576 (138) : ncr intern beziehungen realismu realism\n",
      "| #577 (6681) : train featur data predict method\n",
      "| #578 (0) : use model result studi base\n",
      "| #579 (133) : cam ptx δtm rit ovarian_cancer\n",
      "| #580 (6413) : model simul temperatur project climat\n",
      "| #581 (274) : moholi_nagi tion strap aalto bauhau\n",
      "| #582 (0) : use model result studi base\n",
      "| #583 (83) : failur dtm netdic sti shallow_landslid\n",
      "| #584 (68) : powder sl pbt l gelsight\n",
      "| #585 (133) : ra extrem satur halophil north_caucasu\n",
      "| #586 (77) : differenti cdp lt_hsc pdc gadd\n",
      "| #587 (49) : acriia orthosi anti_crispr air_fill ntd\n",
      "| #588 (191) : ch glacier_forefield calcar ch_concentr nbl\n",
      "| #589 (1288) : train cognit perform function older_adult\n",
      "| #590 (208) : function facet concav membership envelop\n",
      "| #591 (134) : incom_inequ globalis incom_redistribut incom_distribut econom_freedom\n",
      "| #592 (99) : co_kgaa_weinheim wiley_vch_verlag_gmbh kirigami acylboron outsol\n",
      "| #593 (300) : preval ehec infect child sth\n",
      "| #594 (262) : mri skin uvi pacemak implant\n",
      "| #595 (862) : drosophila signal prolifer egfr torc\n",
      "| #596 (67) : gz pure_spinor six insul skin_temperatur\n",
      "| #597 (365) : fe iron dust solubl uptak\n",
      "| #598 (115) : io_tabl dbt clot pparγ blood\n",
      "| #599 (133) : densiti depolar one_nucleu circular nucleus\n",
      "| #600 (111) : acc viabl vae tractiv rbm\n",
      "| #601 (424) : graze pastur fertilis livestock clover\n",
      "| #602 (180) : worm life_span dem syringolin glcn\n",
      "| #603 (1564) : cluster nest pollen cushion behaviour\n",
      "| #604 (351) : nsc notch_signal neurogenesi notch svz\n",
      "| #605 (705) : mirna mir microrna microrna_mirna target\n",
      "| #606 (246) : decoupl entropi term evolut criterion\n",
      "| #607 (335) : input output input_output hawk hawk_process\n",
      "| #608 (139) : receiv broadcast share secret udsss\n",
      "| #609 (0) : use model result studi base\n",
      "| #610 (49) : first_stage second_stage balanc_vote catalyst_particl two_stage\n",
      "| #611 (632) : np gap nanoparticl_np dispers cuo\n",
      "| #612 (0) : use model result studi base\n",
      "| #613 (41) : neurofeedback code cyberthreat counterfeit rt_fmri\n",
      "| #614 (43) : xyotta liverwort ipo broad ration\n",
      "| #615 (0) : use model result studi base\n",
      "| #616 (313) : assign nmr worker chemic_shift autom\n",
      "| #617 (791) : map atla cartograph element themat\n",
      "| #618 (150) : rotor purg_flow endwal turbin purg_air\n",
      "| #619 (9) : ball bin use model result\n",
      "| #620 (446) : cyber cyberspac conflict threat pakistan\n",
      "| #621 (932) : concret corros cement formwork materi\n",
      "| #622 (2802) : co product process environment_impact technolog\n",
      "| #623 (1405) : train railway disrupt passeng oper\n",
      "| #624 (51) : iav crop_yield pandem luciferas detrend\n",
      "| #625 (79) : qualiti liver_segment reput ire unimpact\n",
      "| #626 (1145) : engin fuel combust ignit oper\n",
      "| #627 (37) : big_box_cluster autofocus imag_score traditionellen zentren\n",
      "| #628 (13469) : model simul dynam base distribut\n",
      "| #629 (210) : incid signatur forens aorto_pulmonari scan\n",
      "| #630 (730) : region ocean upwel eddi nearshor\n",
      "| #631 (4376) : associ origin studi may within\n",
      "| #632 (410) : avalanch event closur rock_avalanch runout\n",
      "| #633 (308) : protect preserv lr symplect grid\n",
      "| #634 (304) : asd ant abid fc pitcher\n",
      "| #635 (41) : larva tdf grandi satiat starv\n",
      "| #636 (0) : use model result studi base\n",
      "| #637 (173) : grain meteorit spectral_solver crystal_plastic agb_star\n",
      "| #638 (33) : scn lukpq eq suprachiasmat clock_gene\n",
      "| #639 (374) : local carrier sigma_martingal capsul client\n",
      "| #640 (1407) : water north_atlant circul southern_ocean atlant\n",
      "| #641 (889) : inflat shock interest_rate monetari_polici disagr\n",
      "| #642 (150) : asthma max healthcar_provid famili_member lesson\n",
      "| #643 (656) : groundwat mine aquif groundwat_qualiti groundwat_level\n",
      "| #644 (1801) : plant flower pollin herbivor feed\n",
      "| #645 (423) : cad segment dcmr stress auc\n",
      "| #646 (35) : noaa tccon metop eumetsat tropomi\n",
      "| #647 (28) : dendro_provenanc nn proven proxim nearest_neighbor\n",
      "| #648 (210) : mercuri hg ng total_mercuri thg\n",
      "| #649 (5854) : rate averag total time higher\n",
      "| #650 (10219) : model predict paramet data observ\n",
      "| #651 (6142) : materi composit properti design process\n",
      "| #652 (8) : megaphon unmodifi api vari_amount use\n",
      "| #653 (111) : ta iap short_channel gdap scalp_hemodynam\n",
      "| #654 (205) : coupl exempt support among dm\n",
      "| #655 (102) : ic epo ulcer eric bladder\n",
      "| #656 (946) : dna replic repair recombin brca\n",
      "| #657 (125) : vr broadcast dag authent_channel spar\n",
      "| #658 (144) : pb dhh inelast_interact vtb ckm_matrix_element\n",
      "| #659 (150) : suppress leader nascent emerg emot\n",
      "| #660 (208) : fire timber thermocoupl du en\n",
      "| #661 (184) : inform lie interpret transpar actor\n",
      "| #662 (1551) : iron vitamin iron_defici child anaemia\n",
      "| #663 (161) : joint turkish remitt goniomet drawup\n",
      "| #664 (189) : rr ft sr_wbv hz_nois breath_min\n",
      "| #665 (400) : emot posit_neg ami opinion neutral\n",
      "| #666 (209) : interplay_effect gate rebat motion fraction\n",
      "| #667 (3710) : cell tissu vitro collagen cultur\n",
      "| #668 (1523) : process optim design work_fluid integr\n",
      "| #669 (123) : veloc hit_set vc_dimens coccolith settl\n",
      "| #670 (1932) : channel capac rate achiev commun\n",
      "| #671 (446) : auf fichten buchen war verpflanzten\n",
      "| #672 (0) : use model result studi base\n",
      "| #673 (16371) : use standard_model result search event\n",
      "| #674 (446) : cartilag chondrocyt gel viabil biomateri\n",
      "| #675 (214) : paramet_estim ode system_biolog reaction time_seri\n",
      "| #676 (359) : sii sbsec dairi adhes cj\n",
      "| #677 (41) : barrel connector pentamer bama icmsw\n",
      "| #678 (998) : polym polymer gel chain graft\n",
      "| #679 (1430) : user design devic virtual usabl\n",
      "| #680 (292) : conform prolin enamin lo tgt\n",
      "| #681 (136) : activin lean skin offic dfab\n",
      "| #682 (240) : hb stimul fnir hb_synthesi clbp\n",
      "| #683 (185) : sa piglet infect diarrhea score\n",
      "| #684 (405) : c pl n ste edg\n",
      "| #685 (242) : ml la_volum gaze c machin_learn_ml\n",
      "| #686 (932) : enzym htra substrat activ coa\n",
      "| #687 (158) : zinc antimicrobi zinc_intak broiler flock\n",
      "| #688 (1268) : event precipit cloud front dri\n",
      "| #689 (3524) : particip behavior person peopl perceiv\n",
      "| #690 (102) : rainfal heavi_rainfal rain_gaug lem cox\n",
      "| #691 (84) : illudin acylfulven benzoat genotox ta\n",
      "| #692 (764) : sampl contamin extract section specimen\n",
      "| #693 (1979) : build occup construct energi heat\n",
      "| #694 (89) : garden soil_qualiti nematod_commun food_web urban_garden\n",
      "| #695 (683) : cost scenario profit price incur\n",
      "| #696 (333) : mg covari templat geogam rf\n",
      "| #697 (0) : use model result studi base\n",
      "| #698 (676) : behavior individu punish promis group\n",
      "| #699 (62) : dox indsub doxorubicin madam biolog_tissu\n",
      "| #700 (108) : excelsior hymenoscyphu ash_dieback albidu ash\n",
      "| #701 (537) : snow snowpack snow_cover snowmelt densiti\n",
      "| #702 (3431) : cloud surfac aerosol radiat observ\n",
      "| #703 (199) : botan graminearum fhb mustard mulch\n",
      "| #704 (139) : access fhe transport_infrastructur buckwheat marbl\n",
      "| #705 (355) : vaccin hors equin cat toxin\n",
      "| #706 (159) : qiim microbiom longitudin hafc icytre\n",
      "| #707 (307) : africa eff annual global_carbon_budget socean\n",
      "| #708 (718) : choic attribut altern decis prefer\n",
      "| #709 (212) : recommend criterion evalu mcda transmiss_line\n",
      "| #710 (396) : food ip food_contact oea cart\n",
      "| #711 (78) : denud_rate syntaxi spr mm_yr abras\n",
      "| #712 (523) : fixat recycl materi gaze flow\n",
      "| #713 (87) : m eds proglaci_area diseas_burden morbid\n"
     ]
    },
    {
     "name": "stdout",
     "output_type": "stream",
     "text": [
      "| #714 (144) : sox replic pole xx cnvr\n",
      "| #715 (284) : associ cardiac midkin smoke ream\n",
      "| #716 (3408) : melt crystal composit rock magma\n",
      "| #717 (154) : vulgari oad oxomalon microalga biomass\n",
      "| #718 (990) : cooper competit social exploit natur\n",
      "| #719 (798) : cow milk bell dairi_cow farmer\n",
      "| #720 (227) : light dark vortex_tube photosynthesi disrupt\n",
      "| #721 (652) : de la et le une\n",
      "| #722 (3382) : detector experi beam neutrino energi\n",
      "| #723 (154) : lesion tp mountain chlorothalonil high_altitud\n",
      "| #724 (168) : mainten util underground reliabl underground_util\n",
      "| #725 (31) : roa nullspac pc_expans individu_claim shuttl\n",
      "| #726 (0) : use model result studi base\n",
      "| #727 (614) : iodin iodin_defici pe pregnant_woman pregnanc\n",
      "| #728 (187) : rank eo primari mutual_exclus coup\n",
      "| #729 (609) : adsorb adsorpt adsorpt_chiller mof dynam\n",
      "| #730 (127) : harvest wearabl acquisit_setup semg biopotenti\n",
      "| #731 (880) : polici commit target implement support\n",
      "| #732 (767) : consum consumpt food product meat\n",
      "| #733 (143) : proq calam aerotaxi symptomat cala\n",
      "| #734 (41) : inar intrud limb granular_medium drag_forc\n",
      "| #735 (226) : modul cmc intramc corticospin mach\n",
      "| #736 (55) : ff fw wheel glmmtmb bar\n",
      "| #737 (74) : cyp yellowbeak wild_type bird ketocarotenoid\n",
      "| #738 (72) : dmso lt omz co_solvent hp\n",
      "| #739 (42) : ecb ex_combat reintegr confer nowaday\n",
      "| #740 (41) : hierarchi supervisor filament multi_level hematopoiesi\n",
      "| #741 (1305) : diffus mixtur water diffus_coeffici liquid\n",
      "| #742 (1764) : drought water tree site dri\n",
      "| #743 (853) : alloy ni microstructur size si\n",
      "| #744 (187) : energi_system long_term oper time_seri_aggreg coupl\n",
      "| #745 (533) : digit transform box adc tabl\n",
      "| #746 (482) : ca target crispr_ca engin genom_edit\n",
      "| #747 (1067) : treatment dose therapi plan ct\n",
      "| #748 (304) : bia bias maxim subdomain congruent\n",
      "| #749 (195) : self sap shrinkag rel_humid intern\n",
      "| #750 (144) : arm udder_health iop mmhg kohnstamm\n",
      "| #751 (135) : fastidiosa oliv xf matrix_element leccino\n",
      "| #752 (187) : thread linear_chain ring termin handprint\n",
      "| #753 (439) : scheme delta conserv balanc collaps\n",
      "| #754 (114) : unload artc self_fertilis stair_negoti sainfoin\n",
      "| #755 (92) : predictor igb glm mascot nag\n",
      "| #756 (22) : galnac pglh udp ruler bac\n",
      "| #757 (22) : dnef ubifsec flash ubif secur_delet\n",
      "| #758 (95) : gsr phyr phyt sdrg ecfg\n",
      "| #759 (40) : warranti envidat wsl complimentari registr\n",
      "| #760 (201) : compact avr avidin biotin_bind bbp\n",
      "| #761 (3076) : activ travel trip time transport\n",
      "| #762 (104) : ng_cspg shp heat_pul foetal isoform\n",
      "| #763 (172) : tip afm cantilev polym_cantilev kfm\n",
      "| #764 (85) : fine_tune fnn mainten_calibr aft nn\n",
      "| #765 (223) : reprogram ipsc naiv pluripot hpsc\n",
      "| #766 (267) : thunderstorm retriev nox anvil hector\n",
      "| #767 (406) : methan fluid archaeal methan_oxid hydrotherm\n",
      "| #768 (829) : age young age_relat old older\n",
      "| #769 (165) : shop store onlin_shop dynam_aop good\n",
      "| #770 (25) : tasa subtili endospor suitabl_candid mcherri\n",
      "| #771 (288) : rhodopsin arrestin gpcr retin opsin\n",
      "| #772 (20) : glnk glnb ammonium knock time_vari\n",
      "| #773 (621) : machin cut workpiec tool wear\n",
      "| #774 (537) : pigment qualiti_control idp databas metadata\n",
      "| #775 (163) : coral coral_commun cold_water pearl_river estuari\n",
      "| #776 (412) : flood flood_event flood_frequenc landscap flood_risk\n",
      "| #777 (0) : use model result studi base\n",
      "| #778 (692) : color node clock synchron stabil\n",
      "| #779 (232) : review manuscript editor peer_review rate\n",
      "| #780 (350) : host tuberculosi rv mtbc mycobacterium_tuberculosi\n",
      "| #781 (93) : quantiz byte qnn blake risc\n",
      "| #782 (130) : tl boulder plant_height cytoqc atfl\n",
      "| #783 (2788) : scientif scientist univers research public\n",
      "| #784 (128) : fcd hpv ldd data_sourc probe\n",
      "| #785 (2893) : particl aerosol measur concentr nucleat\n",
      "| #786 (67) : micro_organ acar encount_rate sink_particl smart_citi\n",
      "| #787 (151) : index weight highli frida adjuv_chemotherapi\n",
      "| #788 (12075) : approxim solut function problem linear\n",
      "| #789 (63) : gmo safeti contradictori refere proprietari\n",
      "| #790 (13) : weinberg asymptot_symmetri emerg priori celebr\n",
      "| #791 (67) : ipt coil exceed magnet_field newborn\n",
      "| #792 (273) : popul demograph fertil censu disaggreg\n",
      "| #793 (1083) : motion foot trajectori dynam jump\n",
      "| #794 (232) : hcfc hfc mglu remo_ham halocarbon\n",
      "| #795 (718) : survey respons respond non mode\n",
      "| #796 (265) : predat egf photoperiod vpc prey\n",
      "| #797 (1129) : risk insur hazard risk_ass index\n",
      "| #798 (170) : ratt wr mwr wr_boson vat\n",
      "| #799 (123) : hing usu pli platelet buckl\n",
      "| #800 (253) : nspc speed_limit fao spot vsl\n",
      "| #801 (144) : outlier mig hxk ci lav\n",
      "| #802 (272) : se emi_shield conduct ed din\n",
      "| #803 (2018) : secur protocol attack messag authent\n",
      "| #804 (0) : use model result studi base\n",
      "| #805 (2362) : simul matsim scenario agent_base model\n",
      "| #806 (5054) : energi electr oper power technolog\n",
      "| #807 (369) : art museum plato artist object\n",
      "| #808 (1462) : market price risk portfolio trade\n",
      "| #809 (785) : contract muscl skelet_muscl hd fiber\n",
      "| #810 (20) : repeat_instabl instabl colorect significantli_le microsatellit\n",
      "| #811 (646) : mrna translat decay ribosom ire\n",
      "| #812 (229) : appl molesta fruit orchard monilinia\n",
      "| #813 (1529) : countri switzerland swiss nation european\n",
      "| #814 (30) : lsm mammal herbivor gross tortois\n",
      "| #815 (1791) : electrod anod cell electrochem cathod\n",
      "| #816 (561) : pre translat rrna ribosom factor\n",
      "| #817 (450) : navig landmark rout trem particip\n",
      "| #818 (506) : cd zn ocean carbon_isotop tei\n",
      "| #819 (104) : cation clinopyroxen partit lattic strain\n",
      "| #820 (1399) : protein proteom peptid quantit biomark\n",
      "| #821 (1357) : transmiss epidem spread diseas outbreak\n",
      "| #822 (162) : tdp evolutionari_histori argument enkf phenotyp_diver\n",
      "| #823 (182) : cc lm zone tst cc_cc\n",
      "| #824 (259) : strength psr gnp inelast yield_displac\n",
      "| #825 (249) : hsc methanobactin self_renew vnn gata\n",
      "| #826 (43) : uc strike union bpi incid\n",
      "| #827 (11) : multifract_volatil low_volatil help reveal_fundament mc\n",
      "| #828 (214) : app apl asthma health_profession thcb\n",
      "| #829 (10768) : gener set result prove show\n",
      "| #830 (54) : xco nile_delta integr_crop_livestock icl food_safeti\n",
      "| #831 (253) : cassava cmd resist cbsv cultivar\n",
      "| #832 (229) : rf cervic earthworm grm hg\n",
      "| #833 (16) : nexu wef aral hurdl avenu\n",
      "| #834 (140) : ict crisi commun_technolog_ict hospit vulner\n",
      "| #835 (156) : disturb patch undisturb metacommun multirotor\n",
      "| #836 (66) : contextu inconsist impl frame tomograph\n",
      "| #837 (137) : ship perturb ship_emiss doubl look\n",
      "| #838 (36) : pin ain mavoglur hypothalamu hunger\n",
      "| #839 (366) : steroid mixtur clo regul glucocorticoid\n",
      "| #840 (0) : use model result studi base\n",
      "| #841 (557) : glass wt composit bioactiv_glass filler\n",
      "| #842 (33) : einsatz hohlprofilen querschnitt generalis skeptic\n",
      "| #843 (233) : ag ww pp ale ufm\n",
      "| #844 (812) : dynam state system bifurc stabl\n",
      "| #845 (578) : health rural death medic coverag\n",
      "| #846 (229) : ce ree anthropogen_ce xoxf hydroxid\n",
      "| #847 (4435) : graph problem algorithm edg set\n",
      "| #848 (14622) : patient ass clinic studi conclus\n",
      "| #849 (1383) : particl shape nanoparticl suspens aerosol\n",
      "| #850 (320) : section zone u abschnitt riparian\n",
      "| #851 (98) : cross tic hb impetiginosa railroad\n",
      "| #852 (502) : gradient direct encod epi gradient_descent\n",
      "| #853 (909) : reconstruct phantom acquisit scanner acquir\n",
      "| #854 (370) : tuber potato drill amylopectin three\n",
      "| #855 (174) : reduct iron_oxid fe ferrihydrit goethit\n",
      "| #856 (72) : apex space_weather radio_burst radianc cosmic_ray\n",
      "| #857 (524) : geotherm well eg inject induc_seismic\n",
      "| #858 (53) : traa ome refer_gene rt_qpcr commonli_use\n",
      "| #859 (134) : cave tritium mct del cclm\n",
      "| #860 (878) : infer belief comput frame learn\n",
      "| #861 (44) : isoquercitrin rhoa neurit rho_gtpase ng\n",
      "| #862 (878) : water contamin filter water_suppli water_qualiti\n",
      "| #863 (115) : epidot calcul zuse incl ep\n",
      "| #864 (334) : program verif weak rust closur\n",
      "| #865 (78) : nr tranc reactiv_nitrogen nh oxidis\n",
      "| #866 (1290) : seed epigenet dna_methyl prc genom\n",
      "| #867 (0) : use model result studi base\n",
      "| #868 (1614) : obes mouse metabol fat liver\n",
      "| #869 (31) : lin tribut intellectu bernard elisa\n",
      "| #870 (97) : fatigu interocept homeostat monitor_system cancer_relat\n",
      "| #871 (23) : iceberg iceberg_tsunami graviti_domin buoyanc_domin overturn\n",
      "| #872 (520) : trace alcohol drink mobil_phone risk\n",
      "| #873 (3897) : il macrophag inflamm mouse induc\n",
      "| #874 (2064) : temperatur thermal heat cool warm\n",
      "| #875 (994) : child parent movement aot ul\n",
      "| #876 (131) : asv dhi carri side asiii\n",
      "| #877 (325) : tree trait stand cone_product pcm\n",
      "| #878 (16) : geba peer_review arm supplementari histor_record\n",
      "| #879 (633) : visual cue eye_movement eye scene\n",
      "| #880 (856) : molecul molecular chemic natur scaffold\n",
      "| #881 (122) : r fef lrp sundu cadhd\n",
      "| #882 (11) : upsampl multi_scale network_gan nd ssim\n",
      "| #883 (909) : bacteria toxin bacteri cell_cycl surfac\n",
      "| #884 (433) : contact mix repetit contact_transmiss random\n",
      "| #885 (229) : udca adenoma colorect_adenoma evid risk\n",
      "| #886 (289) : pd load dialysi handl reader\n",
      "| #887 (472) : landslid csn ubiquitin cul ubiquityl\n",
      "| #888 (10) : bare_ice_albedo albedo_feedback mean_annual albedo darken\n",
      "| #889 (94) : inter_intra_firm indoor ict stoneman battisti\n",
      "| #890 (1220) : mesh discret numer_experi boundari_condit mlmc\n",
      "| #891 (8078) : surfac optic electron materi devic\n",
      "| #892 (188) : formula atgrp sat satisfi claus\n",
      "| #893 (63) : garment bodi rfr kg rehabilit\n",
      "| #894 (6231) : structur function shape connect form\n",
      "| #895 (849) : arctic permafrost degrad thaw oc\n",
      "| #896 (64) : sentiment charact en tv_news tv\n",
      "| #897 (767) : record electrod array signal neuron\n",
      "| #898 (419) : diffus adopt technolog agent_base peer_effect\n",
      "| #899 (28) : pxr kra krasg affin_bind prenyl\n",
      "| #900 (365) : distribut tail cascad_size inhomogen log_normal\n"
     ]
    },
    {
     "name": "stdout",
     "output_type": "stream",
     "text": [
      "| #901 (31) : clone llnicad ir nicad syntact\n",
      "| #902 (112) : techniqu graft tech_group loop doubl\n",
      "| #903 (1052) : trait phenotyp organ reproduct growth\n",
      "| #904 (35) : cap sex_hormon mcc pneumonia rho\n",
      "| #905 (0) : use model result studi base\n",
      "| #906 (8231) : countri price effect polici econom\n",
      "| #907 (239) : methanol mcmc crfr pnipam methanol_emiss\n",
      "| #908 (1038) : conserv biodivers threat protect_area collis\n",
      "| #909 (154) : miner cave mineralog speleothem mushroom\n",
      "| #910 (105) : hbm tmp cn penetr disrupt_scenario\n",
      "| #911 (834) : satellit orbit gp mission gnss\n",
      "| #912 (10) : poncelet nonisomorph near_field pascal miniquaternion\n",
      "| #913 (365) : pressur high_pressur mpa kbar minimum\n",
      "| #914 (1097) : walk gait walk_speed paramet pedestrian\n",
      "| #915 (85) : fit amrz brace filament_phage denv\n",
      "| #916 (1982) : forest tree manag tree_speci log\n",
      "| #917 (296) : mortal surviv sever dvm die\n",
      "| #918 (3700) : network vehicl traffic travel_time car\n",
      "| #919 (571) : game player equilibrium price_anarchi nash_equilibrium\n",
      "| #920 (908) : cancer mutat alter tumour somat\n",
      "| #921 (297) : cilium interfaci axonem bleach lb_rhamnosu\n",
      "| #922 (220) : magnetoelectr ferroelectr switch multiferro roost\n",
      "| #923 (70) : sigma lir gamma ha cp\n",
      "| #924 (602) : product industri produc factori purif\n",
      "| #925 (423) : georgia ethnic mit azerbaijan variabilitat\n",
      "| #926 (59) : ann bssfp igrf relax_time miracl\n",
      "| #927 (215) : stabil mozaic instabl match sond\n",
      "| #928 (496) : aid donor ngo countri alloc\n",
      "| #929 (9048) : gene genom associ identifi sequenc\n",
      "| #930 (304) : interfac ceo ysz contact cement\n",
      "| #931 (355) : glycerol reuterin vip acrolein phip\n",
      "| #932 (476) : nodul symbiosi nitrogen_fixat root_nodul bradyrhizobium\n",
      "| #933 (0) : use model result studi base\n",
      "| #934 (1863) : concentr remov treatment chlorin nutrient\n",
      "| #935 (1962) : oxid reaction reactiv oxygen kinet\n",
      "| #936 (54) : settl marin_snow rod collis coagul\n",
      "| #937 (0) : use model result studi base\n",
      "| #938 (70) : imit radiologist name first_person rememb\n",
      "| #939 (35) : promisor keep_promis legal lock enforc\n",
      "| #940 (10) : pollen_tube ovari fluoresc_microscop journey mechanosens\n",
      "| #941 (152) : microwel congruenc rigid facet surfac_area\n",
      "| #942 (209) : surfac_ocean version biom ocean nwl\n",
      "| #943 (39) : shop_behaviour facil acknowledg thank exogen_variabl\n",
      "| #944 (161) : et data_set evapor forc merg\n",
      "| #945 (129) : gfp ul vp hsp green_fluoresc_protein\n",
      "| #946 (84) : compon grasshopp glide waam lmp\n",
      "| #947 (3918) : robot control forc actuat movement\n",
      "| #948 (196) : tc mmp iodin_intak mmp_activ matrix_mmp\n",
      "| #949 (842) : reward dopamin behaviour action impuls\n",
      "| #950 (101) : mathemat text algebra semiot metaphor\n",
      "| #951 (194) : rrm sad ptb gelotophobia face\n",
      "| #952 (174) : exchang dbf vertic permeabl na\n",
      "| #953 (7976) : chang region climat global climat_chang\n",
      "| #954 (2447) : sequenc genom read assembl dna\n",
      "| #955 (6024) : sediment river basin flux carbon\n",
      "| #956 (211) : barrier cp aunp denatur gsh\n",
      "| #957 (2238) : tecton subduct plate fault mantl\n",
      "| #958 (339) : name applianc fuel_price chf type\n",
      "| #959 (731) : carbon graphit biom savanna calcit\n",
      "| #960 (146) : nb rdr esport nanobodi glun\n",
      "| #961 (2198) : crop yield field manag wheat\n",
      "| #962 (7871) : respons chang effect mechan measur\n",
      "| #963 (14) : frost_risk tree_shrub frost climat_warm earli_late\n",
      "| #964 (345) : languag pld emot_recognit recognit facial\n",
      "| #965 (18) : raini_season mathcal wet_dri shorten crucial_import\n",
      "| #966 (1031) : charg ev penetr dual batteri\n",
      "| #967 (2223) : load implant knee hip stabil\n",
      "| #968 (158) : pollin exact_solut sad graviti_gradient floral\n",
      "| #969 (9666) : show find may suggest howev\n",
      "| #970 (244) : wine grape vineyard pet fsg\n",
      "| #971 (913) : earthquak sc hazard ground_motion seismic\n",
      "| #972 (132) : option sor smartphon_addict cmip_ozon path_depend\n",
      "| #973 (40) : charcoal microscop lake_sediment ice_core spearman_rank_correl\n",
      "| #974 (6570) : catalyst activ surfac co reaction\n",
      "| #975 (55) : ue dmrg nevpt multirefer pdft\n",
      "| #976 (502) : would u billion could current\n",
      "| #977 (71) : wind_turbin turbin tbrppx real_time baz\n",
      "| #978 (3003) : infect pathogen host viru viral\n",
      "| #979 (5675) : measur cross_section product function present\n",
      "| #980 (0) : use model result studi base\n",
      "| #981 (1259) : cell cd_cell infect viral nk_cell\n",
      "| #982 (0) : use model result studi base\n",
      "| #983 (691) : woman gender men career femal\n",
      "| #984 (422) : chees smear surfac dairi aureu\n",
      "| #985 (227) : track nmda_receptor sleeper tqi angl\n",
      "| #986 (1717) : control system mpc dynam model_predict\n",
      "| #987 (1693) : phytoplankton biomass diatom ocean plankton\n",
      "| #988 (4) : chasm model result studi base\n",
      "| #989 (72) : matuyama_brunh bartonella bid bepe bepebh\n",
      "| #990 (152) : eif covert_infect vpg initi bryozoan\n",
      "| #991 (724) : liver microtissu chip cultur organ\n",
      "| #992 (1406) : student educ learn teach cours\n",
      "| #993 (124) : tf resist run transcript_factor_tf mtorc_signal\n",
      "| #994 (961) : lake lake_sediment fred edna river\n",
      "| #995 (124) : mc gli limb_bud hand shh\n",
      "| #996 (37) : complianc audit letter nitrooxyl compli\n",
      "| #997 (728) : phage viabl bacteriophag listeria serovar\n",
      "| #998 (2387) : russia polit russian state intern\n",
      "| #999 (626) : score item scale valid food_disgust_sensit\n",
      "|\n",
      "\n"
     ]
    }
   ],
   "source": [
    "model1000.summary()"
   ]
  },
  {
   "cell_type": "code",
   "execution_count": 39,
   "metadata": {
    "scrolled": false
   },
   "outputs": [
    {
     "name": "stdout",
     "output_type": "stream",
     "text": [
      "<Basic Info>\n",
      "| LDAModel (current version: 0.9.1)\n",
      "| 20494 docs, 2045097 words\n",
      "| Total Vocabs: 69312, Used Vocabs: 42219\n",
      "| Entropy of words: -8.71136\n",
      "| Removed Vocabs: use model result studi base\n",
      "|\n",
      "<Training Info>\n",
      "| Iterations: 1000, Burn-in steps: 100\n",
      "| Optimization Interval: 10\n",
      "| Log-likelihood per word: -8.55467\n",
      "|\n",
      "<Initial Parameters>\n",
      "| tw: TermWeight.ONE\n",
      "| min_cf: 3 (minimum collection frequency of words)\n",
      "| min_df: 0 (minimum document frequency of words)\n",
      "| rm_top: 5 (the number of top words to be removed)\n",
      "| k: 150 (the number of topics between 1 ~ 32767)\n",
      "| alpha: 0.1 (hyperparameter of Dirichlet distribution for document-topic)\n",
      "| eta: 0.01 (hyperparameter of Dirichlet distribution for topic-word)\n",
      "| seed: 2701034930 (random seed)\n",
      "| trained in version 0.9.1\n",
      "|\n",
      "<Parameters>\n",
      "| alpha (Dirichlet prior on the per-document topic distributions)\n",
      "|  [0.01444488 0.01288824 0.00593498 0.00734891 0.00831222 0.00687317\n",
      "|   0.01133983 0.01438276 0.00715053 0.01548557 0.00768358 0.01446925\n",
      "|   0.02497297 0.00721639 0.0930562  0.14429504 0.00354534 0.00916718\n",
      "|   0.1661452  0.0063295  0.00890967 0.01067876 0.00616242 0.00559862\n",
      "|   0.00810251 0.00697247 0.01340006 0.00718507 0.00926919 0.02902338\n",
      "|   0.01340468 0.00795899 0.00730153 0.00926991 0.00786414 0.01239375\n",
      "|   0.01142352 0.01066962 0.02966771 0.00736497 0.00389716 0.00848073\n",
      "|   0.00939287 0.0154581  0.12834997 0.00730386 0.00604577 0.00531486\n",
      "|   0.01463096 0.01245702 0.01357389 0.00571984 0.03309016 0.00866474\n",
      "|   0.00621029 0.01224814 0.01180511 0.0103858  0.00864296 0.01535407\n",
      "|   0.02092144 0.01223167 0.20904462 0.00766754 0.19302674 0.00928986\n",
      "|   0.009318   0.018539   0.01704009 0.00409874 0.00772196 0.00533136\n",
      "|   0.01794034 0.07672864 0.00796596 0.0064056  0.02337425 0.00736075\n",
      "|   0.01738303 0.00819563 0.00932518 0.00896507 0.0503589  0.00825256\n",
      "|   0.00567178 0.00441041 0.00498339 0.00792549 0.00731252 0.00648239\n",
      "|   0.00603749 0.00707262 0.20321395 0.01802561 0.00831868 0.00766254\n",
      "|   0.01677676 0.01238628 0.01495996 0.01119702 0.01445193 0.00818403\n",
      "|   0.01140716 0.00736152 0.0117657  0.03422954 0.02244049 0.01243218\n",
      "|   0.00846361 0.00716779 0.00702046 0.01803076 0.00586359 0.00679084\n",
      "|   0.00851053 0.0082817  0.00505497 0.01463828 0.02377825 0.01437566\n",
      "|   0.02185391 0.11427178 0.02669116 0.00635043 0.0102813  0.00560075\n",
      "|   0.00963189 0.00699016 0.00856978 0.00671457 0.05836393 0.00890413\n",
      "|   0.01125161 0.00420164 0.00827095 0.00958648 0.01236738 0.0033589\n",
      "|   0.00644652 0.01018046 0.00730315 0.00645658 0.00705965 0.00792221\n",
      "|   0.01325418 0.01124483 0.00762725 0.00927377 0.00539687 0.00730984]\n",
      "| eta (Dirichlet prior on the per-topic word distribution)\n",
      "|  0.01\n",
      "|\n",
      "<Topics>\n",
      "| #0 (10725) : flow fluid transport pressur veloc\n",
      "| #1 (7010) : frequenc nois signal oscil pul\n",
      "| #2 (2416) : tc spectrum peak ce ab\n",
      "| #3 (6616) : integr comput loop order correct\n",
      "| #4 (4861) : channel capac receiv sourc input\n",
      "| #5 (6029) : observ imag detect planet orbit\n",
      "| #6 (12276) : gene express transcript gene_express specif\n",
      "| #7 (7205) : network node connect structur topolog\n",
      "| #8 (7902) : cell antibodi vaccin immun antigen\n",
      "| #9 (15847) : popul speci adapt select evolut\n",
      "| #10 (7029) : test load implant concret corros\n",
      "| #11 (11370) : control robot system motion dynam\n",
      "| #12 (25618) : protein structur bind complex interact\n",
      "| #13 (2652) : tree sampl fragment size branch\n",
      "| #14 (44703) : valu differ averag measur high\n",
      "| #15 (90124) : develop research discus process approach\n",
      "| #16 (1870) : cc transit mn crc screen\n",
      "| #17 (9478) : respons stimul stimulus visual sensori\n",
      "| #18 (77739) : differ two analysi type identifi\n",
      "| #19 (5187) : dna cancer mutat tumor gene\n",
      "| #20 (6820) : reaction oxid format oh compound\n",
      "| #21 (7571) : program languag code abstract implement\n",
      "| #22 (2617) : group languag member found sm\n",
      "| #23 (5780) : neuron process spike synaps network\n",
      "| #24 (10968) : der und die von ein\n",
      "| #25 (4865) : diffus water mixtur solvent system\n",
      "| #26 (10859) : market price risk polici trade\n",
      "| #27 (6720) : age mitochondri ro mouse increas\n",
      "| #28 (8598) : survey respond car respons report\n",
      "| #29 (16903) : detect sampl method monitor measur\n",
      "| #30 (11813) : comput system memori perform implement\n",
      "| #31 (8004) : measur observ instrument station day\n",
      "| #32 (11314) : melt rock miner magma composit\n",
      "| #33 (11260) : intervent particip effect physic_activ group\n",
      "| #34 (10094) : flux observ estim site global\n",
      "| #35 (10822) : fractur stress deform strain rock\n",
      "| #36 (11425) : speci forest conserv biodivers landscap\n",
      "| #37 (8793) : materi process structur design print\n",
      "| #38 (29843) : activ regul cell signal pathway\n",
      "| #39 (9622) : tumor cd target treatment specif\n",
      "| #40 (4077) : mrna rna translat ribosom export\n",
      "| #41 (6827) : student educ work learn gender\n",
      "| #42 (4432) : region spatial local gradient pattern\n",
      "| #43 (15345) : genom sequenc gene speci isol\n",
      "| #44 (64743) : measur method differ perform data\n",
      "| #45 (6798) : river sediment flood stream catchment\n",
      "| #46 (3852) : landslid avalanch slope crime event\n",
      "| #47 (2081) : bp trace af cave record\n",
      "| #48 (14927) : solut approxim problem discret equat\n",
      "| #49 (7067) : error measur estim correct bia\n",
      "| #50 (19866) : measur jet event function gev\n",
      "| #51 (2198) : growth sc growth_rate mixtur ar\n",
      "| #52 (18260) : surfac structur shape polar field\n",
      "| #53 (9672) : plant growth drought leaf tree\n",
      "| #54 (6707) : exercis muscl pa min v\n",
      "| #55 (10824) : imag tissu reconstruct method bone\n",
      "| #56 (11554) : commun speci diver abund ecolog\n",
      "| #57 (8153) : enzym synthesi reaction activ peptid\n",
      "| #58 (11038) : sediment carbon oxygen sourc cr\n",
      "| #59 (17341) : surfac catalyst activ materi oxid\n",
      "| #60 (7253) : variabl ii iii differ variat\n",
      "| #61 (12941) : activ time mobil travel simul\n",
      "| #62 (91727) : one show gener howev also\n",
      "| #63 (8284) : infect viru viral hiv transmiss\n",
      "| #64 (95972) : effect increas chang reduc differ\n",
      "| #65 (9167) : imag map data point sensor\n",
      "| #66 (12699) : seismic earthquak fault tecton region\n",
      "| #67 (16821) : energi product polici sustain environment\n",
      "| #68 (13715) : cell singl_cell differenti cultur express\n",
      "| #69 (4612) : parasit host infect aphid immun\n",
      "| #70 (10922) : cloud aerosol simul concentr scheme\n",
      "| #71 (2840) : light retin eye visual rhodopsin\n",
      "| #72 (32714) : search standard_model mass event product\n",
      "| #73 (35974) : time event chang period observ\n",
      "| #74 (7963) : soil root manag plant fertil\n",
      "| #75 (3566) : lake water fish temperatur hydropow\n",
      "| #76 (24310) : magnet electron state observ spin\n",
      "| #77 (7961) : sourc aerosol concentr emiss se\n",
      "| #78 (16462) : firm effect product innov countri\n",
      "| #79 (6702) : exposur chemic toxic drug concentr\n",
      "| #80 (10464) : simul transport atmospher event region\n",
      "| #81 (10883) : particl temperatur droplet activ water\n",
      "| #82 (29850) : estim data method approach distribut\n",
      "| #83 (6422) : emiss co ch sourc atmospher\n",
      "| #84 (1899) : ml mc cap volum tempor\n",
      "| #85 (4369) : skin lymphat angiogenesi vegf vascular\n",
      "| #86 (4774) : product strain hb activ produc\n",
      "| #87 (4607) : risk resili damag vulner disast\n",
      "| #88 (5884) : forecast indic inflat index variabl\n",
      "| #89 (4517) : membran phage lipid glycan vesicl\n",
      "| #90 (4732) : reliabl ass pain score test\n",
      "| #91 (3412) : map data et_al compress inform\n",
      "| #92 (100713) : system develop design applic effici\n",
      "| #93 (18902) : climat chang project temperatur region\n",
      "| #94 (7031) : secur protocol attack privaci applic\n",
      "| #95 (5758) : wood pore materi poros dri\n",
      "| #96 (7910) : system state dynam stabil stochast\n",
      "| #97 (11909) : polym np particl nanoparticl surfac\n",
      "| #98 (14457) : quantum theori state gener oper\n",
      "| #99 (10730) : metabol metabolit glucos enzym strain\n",
      "| #100 (10658) : individu agent social behavior cooper\n",
      "| #101 (8468) : architectur design architect citi concept\n",
      "| #102 (10228) : energi system oper cost electr\n",
      "| #103 (5830) : engin voltag oper current loss\n",
      "| #104 (12629) : bacteria infect pathogen strain resist\n",
      "| #105 (23660) : function gener set show prove\n",
      "| #106 (17457) : optim design problem method approach\n",
      "| #107 (14422) : network vehicl traffic servic simul\n",
      "| #108 (8715) : crop yield farmer agricultur farm\n",
      "| #109 (4778) : choic decis prefer behavior particip\n",
      "| #110 (8235) : variant genotyp popul associ phenotyp\n",
      "| #111 (15824) : polit polici govern countri intern\n",
      "| #112 (2905) : art sp date line paint\n",
      "| #113 (6006) : plant flower insect herbivor pollin\n",
      "| #114 (11781) : ocean water region marin global\n",
      "| #115 (8672) : water catchment snow discharg precipit\n",
      "| #116 (4978) : galaxi mass find ga sampl\n",
      "| #117 (10869) : user inform data commun share\n",
      "| #118 (16693) : data train method featur predict\n",
      "| #119 (13185) : patient treatment clinic diseas hospit\n",
      "| #120 (19610) : devic optic materi demonstr fabric\n",
      "| #121 (53904) : process interact dynam structur mechan\n",
      "| #122 (18031) : data databas provid dataset tool\n",
      "| #123 (2586) : product produc activ process releas\n",
      "| #124 (12798) : neuron brain mouse behavior myelin\n",
      "| #125 (9183) : ozon observ simul trend stratospher\n",
      "| #126 (13185) : connect process activ control function\n",
      "| #127 (1993) : cluster ep nf lm poi\n",
      "| #128 (8171) : detector beam experi neutrino measur\n",
      "| #129 (7208) : plant mirna mir arabidopsi starch\n",
      "| #130 (29570) : simul predict dynam paramet method\n",
      "| #131 (13225) : train movement perform task improv\n",
      "| #132 (7051) : research swiss institut scientif public\n",
      "| #133 (5737) : cardiac patient cmr heart myocardi\n",
      "| #134 (8030) : concentr water treatment fe remov\n",
      "| #135 (8614) : protein proteom identifi target screen\n",
      "| #136 (13922) : algorithm graph problem time edg\n",
      "| #137 (3007) : sleep wake state rem_sleep night\n",
      "| #138 (4952) : stress associ pd symptom depress\n",
      "| #139 (8408) : structur complex molecular ligand activ\n",
      "| #140 (8844) : child iron woman age associ\n",
      "| #141 (4638) : structur design respons system bridg\n",
      "| #142 (7277) : joint load knee angl hip\n",
      "| #143 (8641) : food diet milk anim cow\n",
      "| #144 (10262) : object track camera imag video\n",
      "| #145 (12475) : il induc mouse inflamm activ\n",
      "| #146 (8549) : glacier ice surfac melt temperatur\n",
      "| #147 (7723) : urban citi build area singapor\n",
      "| #148 (6801) : de tissu adhes cell mechan\n",
      "| #149 (5771) : co product process technolog hydrogen\n",
      "|\n",
      "\n"
     ]
    }
   ],
   "source": [
    "model.summary()"
   ]
  },
  {
   "cell_type": "code",
   "execution_count": 38,
   "metadata": {},
   "outputs": [
    {
     "name": "stderr",
     "output_type": "stream",
     "text": [
      "Saving...\n"
     ]
    }
   ],
   "source": [
    "print('Saving...', file=sys.stderr, flush=True)\n",
    "model.save(save_path, full=True) # If full is True, the model with its all documents and state will be saved. If you want to train more after, use full model. If False, only topic parameters of the model will be saved. This model can be only used for inference of an unseen document."
   ]
  },
  {
   "cell_type": "markdown",
   "metadata": {},
   "source": [
    "Let's have a better look at the results!"
   ]
  },
  {
   "cell_type": "code",
   "execution_count": 126,
   "metadata": {
    "scrolled": true
   },
   "outputs": [
    {
     "name": "stdout",
     "output_type": "stream",
     "text": [
      "Topic #0\n",
      "\t\tsurvey\t0.013973632827401161\n",
      "\t\tactiv\t0.012106232345104218\n",
      "\t\tdata\t0.011494496837258339\n",
      "\t\tparticip\t0.009594899602234364\n",
      "\t\tchoic\t0.009111951105296612\n",
      "\t\ttime\t0.008822182193398476\n",
      "\t\tperson\t0.007405532523989677\n",
      "\t\thousehold\t0.007180156651884317\n",
      "\t\tbehavior\t0.007147959899157286\n",
      "\t\testim\t0.007147959899157286\n",
      "Topic #1\n",
      "\t\tcountri\t0.01404231321066618\n",
      "\t\tpolici\t0.012152024544775486\n",
      "\t\teffect\t0.011071859858930111\n",
      "\t\tfirm\t0.008573978208005428\n",
      "\t\tproduct\t0.008523344993591309\n",
      "\t\tfind\t0.008287059143185616\n",
      "\t\tmarket\t0.007881997153162956\n",
      "\t\tprice\t0.007240649312734604\n",
      "\t\teconom\t0.006886220537126064\n",
      "\t\tincrea\t0.006126729305833578\n",
      "Topic #2\n",
      "\t\treaction\t0.008497463539242744\n",
      "\t\toxid\t0.00690773269161582\n",
      "\t\tactiv\t0.006767048500478268\n",
      "\t\twater\t0.005782259628176689\n",
      "\t\tsurfac\t0.0055853016674518585\n",
      "\t\tformat\t0.005543096456676722\n",
      "\t\tchemic\t0.005332070402801037\n",
      "\t\tconcentr\t0.005303933285176754\n",
      "\t\tco\t0.005135112442076206\n",
      "\t\tprocess\t0.00483967550098896\n",
      "Topic #3\n",
      "\t\tsystem\t0.01928514428436756\n",
      "\t\toptim\t0.016986647620797157\n",
      "\t\tenergi\t0.015921488404273987\n",
      "\t\tdesign\t0.014090165495872498\n",
      "\t\tproduct\t0.01171691995114088\n",
      "\t\tprocess\t0.011530050076544285\n",
      "\t\toper\t0.010894693434238434\n",
      "\t\tcost\t0.009194178506731987\n",
      "\t\teffici\t0.008129021152853966\n",
      "\t\treduc\t0.007587098516523838\n",
      "Topic #4\n",
      "\t\tsocial\t0.011352024041116238\n",
      "\t\tgroup\t0.008640775457024574\n",
      "\t\twork\t0.008463403210043907\n",
      "\t\trelat\t0.0070190937258303165\n",
      "\t\tstudent\t0.006993754766881466\n",
      "\t\tarchitectur\t0.005574783310294151\n",
      "\t\tcooper\t0.005524105858057737\n",
      "\t\tlearn\t0.005296056624501944\n",
      "\t\tdesign\t0.005194701720029116\n",
      "\t\tconcept\t0.004865297582000494\n",
      "Topic #5\n",
      "\t\tchang\t0.01261115726083517\n",
      "\t\tclimat\t0.012230447493493557\n",
      "\t\tregion\t0.011421440169215202\n",
      "\t\ttemperatur\t0.011246948502957821\n",
      "\t\tsimul\t0.009803425520658493\n",
      "\t\tobserv\t0.008677160367369652\n",
      "\t\tincrea\t0.008328177034854889\n",
      "\t\tprecipit\t0.006662573199719191\n",
      "\t\twater\t0.006646709982305765\n",
      "\t\timpact\t0.006028057541698217\n",
      "Topic #6\n",
      "\t\telectron\t0.008482640609145164\n",
      "\t\tmagnet\t0.008127426728606224\n",
      "\t\tmeasur\t0.008127426728606224\n",
      "\t\toptic\t0.006365567911416292\n",
      "\t\tfield\t0.006266108248382807\n",
      "\t\tsystem\t0.006223482545465231\n",
      "\t\treson\t0.005726183764636517\n",
      "\t\tmateri\t0.005726183764636517\n",
      "\t\texperi\t0.005726183764636517\n",
      "\t\tdevic\t0.005655141081660986\n",
      "Topic #7\n",
      "\t\tsoil\t0.019025743007659912\n",
      "\t\tplant\t0.01878642849624157\n",
      "\t\tspeci\t0.014205248095095158\n",
      "\t\tforest\t0.010871926322579384\n",
      "\t\tincrea\t0.008615524508059025\n",
      "\t\teffect\t0.007162538357079029\n",
      "\t\tproduct\t0.006222371011972427\n",
      "\t\troot\t0.006205277051776648\n",
      "\t\tcrop\t0.006102713290601969\n",
      "\t\tdiffer\t0.005743740126490593\n",
      "Topic #8\n",
      "\t\tgene\t0.01599261909723282\n",
      "\t\tspeci\t0.014167975634336472\n",
      "\t\tpopul\t0.013109988532960415\n",
      "\t\tgenom\t0.012695994228124619\n",
      "\t\tsequenc\t0.00946070160716772\n",
      "\t\tinfect\t0.008080719038844109\n",
      "\t\tgenet\t0.007513392250984907\n",
      "\t\thost\t0.00673140212893486\n",
      "\t\tselect\t0.006225408520549536\n",
      "\t\tassoci\t0.006010744720697403\n",
      "Topic #9\n",
      "\t\talgorithm\t0.013020716607570648\n",
      "\t\tnetwork\t0.012980027124285698\n",
      "\t\tproblem\t0.012288312427699566\n",
      "\t\tgraph\t0.010050411336123943\n",
      "\t\tshow\t0.00876870471984148\n",
      "\t\tset\t0.008015956729650497\n",
      "\t\tnode\t0.006978384684771299\n",
      "\t\tcomput\t0.00632735900580883\n",
      "\t\tprotocol\t0.006144258193671703\n",
      "\t\tsecur\t0.005859434138983488\n",
      "Topic #10\n",
      "\t\tdevelop\t0.013643467798829079\n",
      "\t\tresearch\t0.010259264148771763\n",
      "\t\tdata\t0.008493882603943348\n",
      "\t\tsystem\t0.008453912101686\n",
      "\t\tprocess\t0.006888385396450758\n",
      "\t\tinform\t0.0065286471508443356\n",
      "\t\tprovid\t0.0062421890906989574\n",
      "\t\tapproach\t0.006075643468648195\n",
      "\t\ttechnolog\t0.005822494626045227\n",
      "\t\tinclud\t0.005742552690207958\n",
      "Topic #11\n",
      "\t\tneuron\t0.013299740850925446\n",
      "\t\tbrain\t0.011801771819591522\n",
      "\t\tactiv\t0.008886804804205894\n",
      "\t\tfunction\t0.007125678472220898\n",
      "\t\tconnect\t0.006376693490892649\n",
      "\t\ttask\t0.006376693490892649\n",
      "\t\trelat\t0.005708680488169193\n",
      "\t\tbehavior\t0.005688437260687351\n",
      "\t\tcontrol\t0.005627708975225687\n",
      "\t\tassoci\t0.0055872234515845776\n",
      "Topic #12\n",
      "\t\temiss\t0.014782719314098358\n",
      "\t\tobserv\t0.012649384327232838\n",
      "\t\tmeasur\t0.010709988884627819\n",
      "\t\tco\t0.010494500398635864\n",
      "\t\tozon\t0.008490458130836487\n",
      "\t\tatmosph\t0.008188774809241295\n",
      "\t\tsimul\t0.007951737381517887\n",
      "\t\tregion\t0.007046686485409737\n",
      "\t\tflux\t0.006917393300682306\n",
      "\t\tchang\t0.006895844358950853\n",
      "Topic #13\n",
      "\t\tdiffer\t0.013238685205578804\n",
      "\t\teffect\t0.010921742767095566\n",
      "\t\tchang\t0.009128786623477936\n",
      "\t\tobserv\t0.0077778310514986515\n",
      "\t\thowev\t0.006615795660763979\n",
      "\t\tincrea\t0.006533811800181866\n",
      "\t\tshow\t0.006412617862224579\n",
      "\t\tdynam\t0.006391230504959822\n",
      "\t\ttime\t0.005992003716528416\n",
      "\t\texperi\t0.0058957613073289394\n",
      "Topic #14\n",
      "\t\tmeasur\t0.035562947392463684\n",
      "\t\tjet\t0.011010810732841492\n",
      "\t\tpresent\t0.010694417171180248\n",
      "\t\tdata\t0.009049170650541782\n",
      "\t\tparticl\t0.008669499307870865\n",
      "\t\tcross_section\t0.008637859486043453\n",
      "\t\tevent\t0.008353105746209621\n",
      "\t\tgev\t0.008131629787385464\n",
      "\t\tfunction\t0.008099990896880627\n",
      "\t\tcompar\t0.008005072362720966\n",
      "Topic #15\n",
      "\t\tder\t0.036255236715078354\n",
      "\t\tund\t0.03270087018609047\n",
      "\t\tdie\t0.031065862625837326\n",
      "\t\tvon\t0.014929044060409069\n",
      "\t\tde\t0.014573607593774796\n",
      "\t\tein\t0.012085551396012306\n",
      "\t\tda\t0.010592718608677387\n",
      "\t\tzu\t0.010450543835759163\n",
      "\t\tim\t0.009028797969222069\n",
      "\t\tmit\t0.008389012888073921\n",
      "Topic #16\n",
      "\t\tbacteria\t0.012032577767968178\n",
      "\t\tstrain\t0.009945785626769066\n",
      "\t\tbacteri\t0.008169792592525482\n",
      "\t\tproduct\t0.006882196757942438\n",
      "\t\tinfect\t0.006704597733914852\n",
      "\t\tconcentr\t0.005949800368398428\n",
      "\t\tisol\t0.005927600432187319\n",
      "\t\tcell\t0.005727801006287336\n",
      "\t\tiron\t0.005705601070076227\n",
      "\t\tresist\t0.0056168013252317905\n",
      "Topic #17\n",
      "\t\timag\t0.02931261993944645\n",
      "\t\tseismic\t0.010663981549441814\n",
      "\t\tmap\t0.00891245249658823\n",
      "\t\tearthquak\t0.008242749609053135\n",
      "\t\tmeasur\t0.007624562829732895\n",
      "\t\tarea\t0.006594251375645399\n",
      "\t\tveloc\t0.006491219624876976\n",
      "\t\treconstruct\t0.005873032845556736\n",
      "\t\tdetect\t0.005847275257110596\n",
      "\t\tfault\t0.005641212686896324\n",
      "Topic #18\n",
      "\t\tpatient\t0.01943778246641159\n",
      "\t\tas\t0.010009071789681911\n",
      "\t\tmeasur\t0.009006858803331852\n",
      "\t\tgroup\t0.008189263753592968\n",
      "\t\tmethod\t0.007187051698565483\n",
      "\t\tcompar\t0.006831002421677113\n",
      "\t\tconclu\t0.006712319329380989\n",
      "\t\tperform\t0.0064353919588029385\n",
      "\t\ttest\t0.006079342681914568\n",
      "\t\tinterv\t0.005696919746696949\n",
      "Topic #19\n",
      "\t\tgener\t0.010388433001935482\n",
      "\t\tfunction\t0.008602085523307323\n",
      "\t\ttheori\t0.008189852349460125\n",
      "\t\tproblem\t0.007818841375410557\n",
      "\t\tapproxim\t0.007434089668095112\n",
      "\t\tsolut\t0.007406607270240784\n",
      "\t\tshow\t0.006911926902830601\n",
      "\t\tsystem\t0.00669206865131855\n",
      "\t\tcomput\t0.006293575745075941\n",
      "\t\tderiv\t0.005840118508785963\n",
      "Topic #20\n",
      "\t\tsediment\t0.009518946520984173\n",
      "\t\twater\t0.007760241627693176\n",
      "\t\tlake\t0.006364156026393175\n",
      "\t\triver\t0.0058383578434586525\n",
      "\t\tage\t0.00547573808580637\n",
      "\t\tisotop\t0.005004332400858402\n",
      "\t\tsampl\t0.004859284497797489\n",
      "\t\tcarbon\t0.004406009800732136\n",
      "\t\tsuggest\t0.004351616837084293\n",
      "\t\trecord\t0.004170306958258152\n",
      "Topic #21\n",
      "\t\tsystem\t0.021953877061605453\n",
      "\t\tcontrol\t0.011845814064145088\n",
      "\t\tperform\t0.010776531882584095\n",
      "\t\tsensor\t0.009690540842711926\n",
      "\t\tdesign\t0.008938701823353767\n",
      "\t\ttrain\t0.008270400576293468\n",
      "\t\trobot\t0.007602098397910595\n",
      "\t\ttask\t0.007084164768457413\n",
      "\t\tlearn\t0.006833551451563835\n",
      "\t\tdevic\t0.006733306217938662\n",
      "Topic #22\n",
      "\t\tsearch\t0.013253243640065193\n",
      "\t\tmass\t0.012675832025706768\n",
      "\t\tproduct\t0.012153412215411663\n",
      "\t\tevent\t0.011988437734544277\n",
      "\t\tstandard_model\t0.01196094136685133\n",
      "\t\tobserv\t0.009348842315375805\n",
      "\t\tlimit\t0.009266355074942112\n",
      "\t\tcorrespond_integr_lumino_fb\t0.008166523650288582\n",
      "\t\tdecay\t0.007369145750999451\n",
      "\t\tfinal_state\t0.006874220911413431\n",
      "Topic #23\n",
      "\t\tmateri\t0.012699729762971401\n",
      "\t\tstructur\t0.012614782899618149\n",
      "\t\tflow\t0.009032847359776497\n",
      "\t\tmechan\t0.009004532359540462\n",
      "\t\tsurfac\t0.008240008726716042\n",
      "\t\texperi\t0.006994117982685566\n",
      "\t\ttest\t0.0066118561662733555\n",
      "\t\tmeasur\t0.005776543170213699\n",
      "\t\tdeform\t0.005465070251375437\n",
      "\t\tload\t0.005238545127213001\n",
      "Topic #24\n",
      "\t\tcell\t0.02360905334353447\n",
      "\t\texpress\t0.008185448125004768\n",
      "\t\tactiv\t0.007835935801267624\n",
      "\t\tinduc\t0.007159462198615074\n",
      "\t\thuman\t0.0066972048953175545\n",
      "\t\ttissu\t0.006573184859007597\n",
      "\t\tmous\t0.006156025920063257\n",
      "\t\tincrea\t0.005208962131291628\n",
      "\t\ttreatment\t0.005073667503893375\n",
      "\t\tdevelop\t0.004825626965612173\n",
      "Topic #25\n",
      "\t\tparticl\t0.022604070603847504\n",
      "\t\taerosol\t0.018180999904870987\n",
      "\t\tcloud\t0.016471467912197113\n",
      "\t\tmeasur\t0.01565740630030632\n",
      "\t\tobserv\t0.009226311929523945\n",
      "\t\tconcentr\t0.008819281123578548\n",
      "\t\tsimul\t0.0070283436216413975\n",
      "\t\tatmosph\t0.006811260245740414\n",
      "\t\ttemperatur\t0.006322822533547878\n",
      "\t\twater\t0.00602433318272233\n",
      "Topic #26\n",
      "\t\tmass\t0.013249940238893032\n",
      "\t\tobserv\t0.013023455627262592\n",
      "\t\tgalaxi\t0.01155130285769701\n",
      "\t\tdetect\t0.008267269469797611\n",
      "\t\timag\t0.006738496012985706\n",
      "\t\torbit\t0.006172283552587032\n",
      "\t\tdisk\t0.006002419628202915\n",
      "\t\tstar\t0.005662692245095968\n",
      "\t\tplanet\t0.005322964861989021\n",
      "\t\tgroup\t0.005322964861989021\n",
      "Topic #27\n",
      "\t\tnetwork\t0.016762472689151764\n",
      "\t\turban\t0.015496870502829552\n",
      "\t\tsimul\t0.01515937689691782\n",
      "\t\tciti\t0.013162539340555668\n",
      "\t\ttraffic\t0.00987197458744049\n",
      "\t\tvehicl\t0.009646979160606861\n",
      "\t\tarea\t0.007593891583383083\n",
      "\t\tdemand\t0.007537642493844032\n",
      "\t\ttransport\t0.007481393404304981\n",
      "\t\tplan\t0.0074251447804272175\n",
      "Topic #28\n",
      "\t\tprotein\t0.021623728796839714\n",
      "\t\tfunction\t0.01056071650236845\n",
      "\t\tcell\t0.010345403105020523\n",
      "\t\tactiv\t0.008899726904928684\n",
      "\t\tcomplex\t0.007577086798846722\n",
      "\t\tregul\t0.007402785122394562\n",
      "\t\tinteract\t0.006387735716998577\n",
      "\t\tgene\t0.006254446692764759\n",
      "\t\tstructur\t0.006018626969307661\n",
      "\t\texpress\t0.00585457868874073\n",
      "Topic #29\n",
      "\t\tmethod\t0.02197272516787052\n",
      "\t\tdata\t0.02088148705661297\n",
      "\t\tapproach\t0.01326320506632328\n",
      "\t\tmeasur\t0.01066258642822504\n",
      "\t\testim\t0.00933168176561594\n",
      "\t\tperform\t0.009010428562760353\n",
      "\t\tanalysi\t0.00850050337612629\n",
      "\t\tpredict\t0.00819964800029993\n",
      "\t\tsampl\t0.007949784398078918\n",
      "\t\tdiffer\t0.007597936317324638\n"
     ]
    }
   ],
   "source": [
    "for k in range(model.k):\n",
    "    print('Topic #{}'.format(k))\n",
    "    for word, prob in model.get_topic_words(k):\n",
    "        print('\\t', word, prob, sep='\\t')"
   ]
  },
  {
   "cell_type": "markdown",
   "metadata": {},
   "source": [
    "### 2.1.2 Hyperparameter tuning by optimizing log-likelihood  \n",
    "\n",
    "---\n",
    "\n",
    "Note: log-likelihood is generally not considered a good measure for topic model performance..."
   ]
  },
  {
   "cell_type": "code",
   "execution_count": 27,
   "metadata": {},
   "outputs": [],
   "source": [
    "def train_LDA(documents, k, min_cf=0, min_df=0, rm_top=0, alpha=0.1, eta=0.01, model_burn_in=100, \n",
    "              train_updates = 1000, train_iter = 10):\n",
    "    \n",
    "    # instantiate\n",
    "    model = tp.LDAModel(tw=tp.TermWeight.ONE, min_df=min_df, min_cf=min_cf, rm_top=rm_top, k=k, alpha = alpha, \n",
    "                        eta = eta)\n",
    "    \n",
    "    # add documents to model\n",
    "    for doc in documents: model.add_doc(doc)\n",
    "    \n",
    "    # training**\n",
    "    model.burn_in = model_burn_in\n",
    "    # initialising \n",
    "    model.train(iter=0)\n",
    "    print('Num docs:', len(model.docs), ', Vocab size:', len(model.used_vocabs), ', Num words:', model.num_words)\n",
    "    print('Removed top words:', model.removed_top_words)\n",
    "    print('Training...', file=sys.stderr, flush=True)\n",
    "    # actual training \n",
    "    time = []\n",
    "    LLs = []\n",
    "    for i in range(0, train_updates, train_iter):\n",
    "        model.train(train_iter)\n",
    "        if i%100==0:print('Iteration: {}'.format(i))\n",
    "        time.append(i)\n",
    "        LLs.append(model.ll_per_word)\n",
    "    \n",
    "    return model, LLs, time"
   ]
  },
  {
   "cell_type": "code",
   "execution_count": 39,
   "metadata": {},
   "outputs": [
    {
     "name": "stderr",
     "output_type": "stream",
     "text": [
      "Training...\n"
     ]
    },
    {
     "name": "stdout",
     "output_type": "stream",
     "text": [
      "Num docs: 20494 , Vocab size: 69312 , Num words: 2141113\n",
      "Removed top words: []\n",
      "Iteration: 0\n",
      "Iteration: 100\n",
      "Iteration: 200\n",
      "Iteration: 300\n",
      "Iteration: 400\n",
      "Iteration: 500\n"
     ]
    },
    {
     "name": "stderr",
     "output_type": "stream",
     "text": [
      "Training...\n"
     ]
    },
    {
     "name": "stdout",
     "output_type": "stream",
     "text": [
      "Num docs: 20494 , Vocab size: 69312 , Num words: 2141113\n",
      "Removed top words: []\n",
      "Iteration: 0\n",
      "Iteration: 100\n",
      "Iteration: 200\n",
      "Iteration: 300\n",
      "Iteration: 400\n",
      "Iteration: 500\n"
     ]
    },
    {
     "name": "stderr",
     "output_type": "stream",
     "text": [
      "Training...\n"
     ]
    },
    {
     "name": "stdout",
     "output_type": "stream",
     "text": [
      "Num docs: 20494 , Vocab size: 69312 , Num words: 2141113\n",
      "Removed top words: []\n",
      "Iteration: 0\n",
      "Iteration: 100\n",
      "Iteration: 200\n",
      "Iteration: 300\n",
      "Iteration: 400\n",
      "Iteration: 500\n"
     ]
    },
    {
     "data": {
      "text/plain": [
       "30"
      ]
     },
     "execution_count": 39,
     "metadata": {},
     "output_type": "execute_result"
    }
   ],
   "source": [
    "# simple loop for minimizing perplexity on the training set\n",
    "\n",
    "topics = [10,20,30]\n",
    "perplexity_score = np.array([])\n",
    "for k in topics:\n",
    "    print(\"Training for \"+str(k)+\" topics\")\n",
    "    model, LLs, time = train_LDA(cleaned, k = k, train_updates = 600)\n",
    "    perplexity_score = np.append(perplexity_score, model.perplexity)\n",
    "    print(\"Perplexity = \"+str(model.perplexity))\n",
    "\n",
    "topics[np.argmin(perplexity_score)]"
   ]
  },
  {
   "cell_type": "code",
   "execution_count": 42,
   "metadata": {},
   "outputs": [
    {
     "data": {
      "text/plain": [
       "Text(0.5, 0, 'Number of topics')"
      ]
     },
     "execution_count": 42,
     "metadata": {},
     "output_type": "execute_result"
    },
    {
     "data": {
      "image/png": "[encoded data removed]",
      "text/plain": [
       "<Figure size 432x288 with 1 Axes>"
      ]
     },
     "metadata": {
      "needs_background": "light"
     },
     "output_type": "display_data"
    }
   ],
   "source": [
    "plt.plot(topics,perplexity_score)\n",
    "plt.ylabel('Perplexity')\n",
    "plt.xlabel('Number of topics')"
   ]
  },
  {
   "cell_type": "code",
   "execution_count": 168,
   "metadata": {},
   "outputs": [
    {
     "name": "stdout",
     "output_type": "stream",
     "text": [
      "20494\n"
     ]
    }
   ],
   "source": [
    "# split data in train and test set\n",
    "\n",
    "print(len(cleaned))\n",
    "train_size = int(0.8*len(cleaned))\n",
    "\n",
    "random.shuffle(cleaned)\n",
    "train_docs = cleaned[0:train_size]\n",
    "test_docs = cleaned[train_size:]\n",
    "\n",
    "assert len(train_docs) + len(test_docs) == len(cleaned)"
   ]
  },
  {
   "cell_type": "code",
   "execution_count": 30,
   "metadata": {},
   "outputs": [],
   "source": [
    "def get_test_LL(test_docs, model):\n",
    "    \n",
    "    # make a list of documents of type required by tp\n",
    "    test_set = []\n",
    "    for doc in test_docs:\n",
    "        test_set.append(model.make_doc(doc))\n",
    "    \n",
    "    # return topic distribution and log-likelihood of new documents\n",
    "    topic_dist, likelihood = model.infer(test_set)\n",
    "    \n",
    "    # use mean log-likelihood as performance measure\n",
    "    return np.mean(likelihood)"
   ]
  },
  {
   "cell_type": "code",
   "execution_count": 172,
   "metadata": {},
   "outputs": [
    {
     "name": "stderr",
     "output_type": "stream",
     "text": [
      "Training...\n"
     ]
    },
    {
     "name": "stdout",
     "output_type": "stream",
     "text": [
      "Num docs: 16395 , Vocab size: 62919 , Num words: 1713454\n",
      "Removed top words: []\n",
      "Iteration: 0\n",
      "Iteration: 100\n",
      "Iteration: 200\n",
      "Iteration: 300\n",
      "Iteration: 400\n",
      "Iteration: 500\n",
      "Iteration: 600\n",
      "Iteration: 700\n"
     ]
    },
    {
     "name": "stderr",
     "output_type": "stream",
     "text": [
      "Training...\n"
     ]
    },
    {
     "name": "stdout",
     "output_type": "stream",
     "text": [
      "Num docs: 16395 , Vocab size: 62919 , Num words: 1713454\n",
      "Removed top words: []\n",
      "Iteration: 0\n",
      "Iteration: 100\n",
      "Iteration: 200\n",
      "Iteration: 300\n",
      "Iteration: 400\n",
      "Iteration: 500\n",
      "Iteration: 600\n",
      "Iteration: 700\n"
     ]
    },
    {
     "name": "stderr",
     "output_type": "stream",
     "text": [
      "Training...\n"
     ]
    },
    {
     "name": "stdout",
     "output_type": "stream",
     "text": [
      "Num docs: 16395 , Vocab size: 62919 , Num words: 1713454\n",
      "Removed top words: []\n",
      "Iteration: 0\n",
      "Iteration: 100\n",
      "Iteration: 200\n",
      "Iteration: 300\n",
      "Iteration: 400\n",
      "Iteration: 500\n",
      "Iteration: 600\n",
      "Iteration: 700\n"
     ]
    },
    {
     "data": {
      "text/plain": [
       "30"
      ]
     },
     "execution_count": 172,
     "metadata": {},
     "output_type": "execute_result"
    }
   ],
   "source": [
    "# loop for maximizing mean likelihood of test set\n",
    "\n",
    "topics = [10,20,30]\n",
    "log_likelihoods = np.array([])\n",
    "for k in topics:\n",
    "    print(\"Training for \"+str(k)+\" topics\")\n",
    "    model, LLs, time = train_LDA(train_docs, k = k, train_updates = 800)\n",
    "    log_likelihoods = np.append(log_likelihoods, get_test_LL(test_docs, model))\n",
    "    print(\"Log likelihood = \"+str(get_test_LL(test_docs, model)))\n",
    "\n",
    "topics[np.argmax(log_likelihoods)]"
   ]
  },
  {
   "cell_type": "code",
   "execution_count": null,
   "metadata": {},
   "outputs": [],
   "source": [
    "plt.plot(topics,log_likelihoods)\n",
    "plt.ylabel('Likelihood')\n",
    "plt.xlabel('Number of topics')"
   ]
  },
  {
   "cell_type": "code",
   "execution_count": 173,
   "metadata": {},
   "outputs": [
    {
     "name": "stdout",
     "output_type": "stream",
     "text": [
      "[-882.05810779 -882.89588814 -879.71187388]\n"
     ]
    }
   ],
   "source": [
    "print(likelihoods)"
   ]
  },
  {
   "cell_type": "markdown",
   "metadata": {},
   "source": [
    "### 2.1.3 Topic coherence \n",
    "\n",
    "---\n",
    "\n",
    "Topic Coherence measures score a single topic by measuring the degree of semantic similarity between high scoring words in the topic. These measurements help distinguish between topics that are semantically interpretable topics and topics that are artifacts of statistical inference."
   ]
  },
  {
   "cell_type": "code",
   "execution_count": 58,
   "metadata": {},
   "outputs": [],
   "source": [
    "num_topics = 10"
   ]
  },
  {
   "cell_type": "code",
   "execution_count": 59,
   "metadata": {},
   "outputs": [
    {
     "ename": "Exception",
     "evalue": "must topic_id < K",
     "output_type": "error",
     "traceback": [
      "\u001b[0;31m---------------------------------------------------------------------------\u001b[0m",
      "\u001b[0;31mException\u001b[0m                                 Traceback (most recent call last)",
      "\u001b[0;32m<ipython-input-59-fee8030a708d>\u001b[0m in \u001b[0;36m<module>\u001b[0;34m\u001b[0m\n\u001b[1;32m      1\u001b[0m \u001b[0mextract_word\u001b[0m \u001b[0;34m=\u001b[0m \u001b[0;32mlambda\u001b[0m \u001b[0mx\u001b[0m\u001b[0;34m:\u001b[0m \u001b[0mx\u001b[0m\u001b[0;34m[\u001b[0m\u001b[0;36m0\u001b[0m\u001b[0;34m]\u001b[0m \u001b[0;31m# get_topic_words returns both the word and its probability in the topic\u001b[0m\u001b[0;34m\u001b[0m\u001b[0;34m\u001b[0m\u001b[0m\n\u001b[0;32m----> 2\u001b[0;31m \u001b[0mtopics\u001b[0m \u001b[0;34m=\u001b[0m \u001b[0;34m[\u001b[0m\u001b[0;34m[\u001b[0m\u001b[0mextract_word\u001b[0m\u001b[0;34m(\u001b[0m\u001b[0mtw\u001b[0m\u001b[0;34m)\u001b[0m \u001b[0;32mfor\u001b[0m \u001b[0mtw\u001b[0m \u001b[0;32min\u001b[0m \u001b[0mmodel\u001b[0m\u001b[0;34m.\u001b[0m\u001b[0mget_topic_words\u001b[0m\u001b[0;34m(\u001b[0m\u001b[0mk\u001b[0m\u001b[0;34m,\u001b[0m \u001b[0;36m20\u001b[0m\u001b[0;34m)\u001b[0m\u001b[0;34m]\u001b[0m \u001b[0;32mfor\u001b[0m \u001b[0mk\u001b[0m \u001b[0;32min\u001b[0m \u001b[0mrange\u001b[0m\u001b[0;34m(\u001b[0m\u001b[0;36m1\u001b[0m\u001b[0;34m,\u001b[0m\u001b[0mnum_topics\u001b[0m\u001b[0;34m)\u001b[0m\u001b[0;34m]\u001b[0m\u001b[0;34m\u001b[0m\u001b[0;34m\u001b[0m\u001b[0m\n\u001b[0m",
      "\u001b[0;32m<ipython-input-59-fee8030a708d>\u001b[0m in \u001b[0;36m<listcomp>\u001b[0;34m(.0)\u001b[0m\n\u001b[1;32m      1\u001b[0m \u001b[0mextract_word\u001b[0m \u001b[0;34m=\u001b[0m \u001b[0;32mlambda\u001b[0m \u001b[0mx\u001b[0m\u001b[0;34m:\u001b[0m \u001b[0mx\u001b[0m\u001b[0;34m[\u001b[0m\u001b[0;36m0\u001b[0m\u001b[0;34m]\u001b[0m \u001b[0;31m# get_topic_words returns both the word and its probability in the topic\u001b[0m\u001b[0;34m\u001b[0m\u001b[0;34m\u001b[0m\u001b[0m\n\u001b[0;32m----> 2\u001b[0;31m \u001b[0mtopics\u001b[0m \u001b[0;34m=\u001b[0m \u001b[0;34m[\u001b[0m\u001b[0;34m[\u001b[0m\u001b[0mextract_word\u001b[0m\u001b[0;34m(\u001b[0m\u001b[0mtw\u001b[0m\u001b[0;34m)\u001b[0m \u001b[0;32mfor\u001b[0m \u001b[0mtw\u001b[0m \u001b[0;32min\u001b[0m \u001b[0mmodel\u001b[0m\u001b[0;34m.\u001b[0m\u001b[0mget_topic_words\u001b[0m\u001b[0;34m(\u001b[0m\u001b[0mk\u001b[0m\u001b[0;34m,\u001b[0m \u001b[0;36m20\u001b[0m\u001b[0;34m)\u001b[0m\u001b[0;34m]\u001b[0m \u001b[0;32mfor\u001b[0m \u001b[0mk\u001b[0m \u001b[0;32min\u001b[0m \u001b[0mrange\u001b[0m\u001b[0;34m(\u001b[0m\u001b[0;36m1\u001b[0m\u001b[0;34m,\u001b[0m\u001b[0mnum_topics\u001b[0m\u001b[0;34m)\u001b[0m\u001b[0;34m]\u001b[0m\u001b[0;34m\u001b[0m\u001b[0;34m\u001b[0m\u001b[0m\n\u001b[0m",
      "\u001b[0;31mException\u001b[0m: must topic_id < K"
     ]
    }
   ],
   "source": [
    "extract_word = lambda x: x[0] # get_topic_words returns both the word and its probability in the topic\n",
    "topics = [[extract_word(tw) for tw in model.get_topic_words(k, 20)] for k in range(1,num_topics)]"
   ]
  },
  {
   "cell_type": "code",
   "execution_count": 59,
   "metadata": {
    "scrolled": true
   },
   "outputs": [
    {
     "data": {
      "text/plain": [
       "['infect',\n",
       " 'strain',\n",
       " 'bacteria',\n",
       " 'host',\n",
       " 'resist',\n",
       " 'bacteri',\n",
       " 'pathogen',\n",
       " 'cell',\n",
       " 'use',\n",
       " 'viru',\n",
       " 'vaccin',\n",
       " 'isol',\n",
       " 'antibiot',\n",
       " 'product',\n",
       " 'iron',\n",
       " 'viral',\n",
       " 'microbiota',\n",
       " 'specif',\n",
       " 'diseas',\n",
       " 'phage']"
      ]
     },
     "execution_count": 59,
     "metadata": {},
     "output_type": "execute_result"
    }
   ],
   "source": [
    "topics[0]"
   ]
  },
  {
   "cell_type": "code",
   "execution_count": 28,
   "metadata": {},
   "outputs": [],
   "source": [
    "from gensim.corpora import Dictionary"
   ]
  },
  {
   "cell_type": "code",
   "execution_count": 39,
   "metadata": {},
   "outputs": [],
   "source": [
    "dictionary = Dictionary(cleaned)\n",
    "BoW_corpus = [dictionary.doc2bow(doc, allow_update=True) for doc in cleaned] # bag of words corpus "
   ]
  },
  {
   "cell_type": "code",
   "execution_count": 66,
   "metadata": {},
   "outputs": [
    {
     "data": {
      "text/plain": [
       "[(0, 1),\n",
       " (1, 1),\n",
       " (2, 1),\n",
       " (3, 1),\n",
       " (4, 2),\n",
       " (5, 1),\n",
       " (6, 1),\n",
       " (7, 1),\n",
       " (8, 1),\n",
       " (9, 1),\n",
       " (10, 1),\n",
       " (11, 1),\n",
       " (12, 1),\n",
       " (13, 1),\n",
       " (14, 1),\n",
       " (15, 1),\n",
       " (16, 2),\n",
       " (17, 1),\n",
       " (18, 1),\n",
       " (19, 1),\n",
       " (20, 1)]"
      ]
     },
     "execution_count": 66,
     "metadata": {},
     "output_type": "execute_result"
    }
   ],
   "source": [
    "BoW_corpus[0]"
   ]
  },
  {
   "cell_type": "code",
   "execution_count": 50,
   "metadata": {},
   "outputs": [],
   "source": [
    "# saving the coherence preprocessing operations into two functions\n",
    "extract_word = lambda x: x[0] # get_topic_words returns both the word and its probability in the topic\n",
    "\n",
    "def get_topics(model, num_topics):\n",
    "    return [[extract_word(tw) for tw in model.get_topic_words(k, 20)] for k in range(num_topics)]\n",
    "\n",
    "def get_corpus(dictionary, texts):\n",
    "    return [dictionary.doc2bow(doc, allow_update=True) for doc in texts]"
   ]
  },
  {
   "cell_type": "code",
   "execution_count": 70,
   "metadata": {},
   "outputs": [
    {
     "data": {
      "text/plain": [
       "0.49646788489478966"
      ]
     },
     "execution_count": 70,
     "metadata": {},
     "output_type": "execute_result"
    }
   ],
   "source": [
    "# topics (list of list of str, optional) – List of tokenized topics\n",
    "# texts (list of list of str, optional) – Tokenized texts, needed for coherence models that use sliding window based (i.e. coherence=`c_something`) probability estimator .\n",
    "# corpus (iterable of list of (int, number), optional) – Corpus in BoW format.\n",
    "# dictionary (Dictionary, optional) – Gensim dictionary mapping of id word to create corpus. If model.id2word is present, this is not needed. If both are provided, passed dictionary will be used.\n",
    "# window_size (int, optional) – Is the size of the window to be used for coherence measures using boolean sliding window as their probability estimator. For ‘u_mass’ this doesn’t matter. If None - the default window sizes are used which are: ‘c_v’ - 110, ‘c_uci’ - 10, ‘c_npmi’ - 10.\n",
    "# coherence ({'u_mass', 'c_v', 'c_uci', 'c_npmi'}, optional) – Coherence measure to be used. Fastest method - ‘u_mass’, ‘c_uci’ also known as c_pmi. For ‘u_mass’ corpus should be provided, if texts is provided, it will be converted to corpus using the dictionary. For ‘c_v’, ‘c_uci’ and ‘c_npmi’ texts should be provided (corpus isn’t needed)\n",
    "# topn (int, optional) – Integer corresponding to the number of top words to be extracted from each topic.\n",
    "cm = CoherenceModel(topics=topics, corpus=BoW_corpus, dictionary=dictionary, texts=cleaned, coherence='c_v')\n",
    "coherence = cm.get_coherence()  # get coherence value\n",
    "coherence"
   ]
  },
  {
   "cell_type": "code",
   "execution_count": null,
   "metadata": {},
   "outputs": [],
   "source": [
    "# Note: there are different types of coherence measures, we need to decide which to use!"
   ]
  },
  {
   "cell_type": "markdown",
   "metadata": {},
   "source": [
    "###  2.1.4 Complete grid search \n",
    "\n",
    "---"
   ]
  },
  {
   "cell_type": "code",
   "execution_count": 18,
   "metadata": {},
   "outputs": [],
   "source": [
    "random.seed = 11"
   ]
  },
  {
   "cell_type": "code",
   "execution_count": 20,
   "metadata": {},
   "outputs": [
    {
     "name": "stdout",
     "output_type": "stream",
     "text": [
      "20494\n"
     ]
    },
    {
     "data": {
      "text/plain": [
       "True"
      ]
     },
     "execution_count": 20,
     "metadata": {},
     "output_type": "execute_result"
    }
   ],
   "source": [
    "# split data in train, test and validation set\n",
    "print(len(cleaned))\n",
    "train_size = int(0.7*len(cleaned)) #70% for training\n",
    "test_size = int(0.3*len(cleaned)) #30% for testing \n",
    "\n",
    "random.shuffle(cleaned)\n",
    "\n",
    "train_docs = cleaned[0:train_size]\n",
    "test_docs = cleaned[train_size:]\n",
    "\n",
    "len(train_docs) + len(test_docs) == len(cleaned)"
   ]
  },
  {
   "cell_type": "code",
   "execution_count": 21,
   "metadata": {},
   "outputs": [],
   "source": [
    "# Defining the grid\n",
    "\n",
    "ks = [50, 100, 150, 200, 300, 350, 450]\n",
    "#alpha = [1/k, 10/k, 0.1/k, None]\n",
    "#eta = [1/w, 10/w, 0.1/w, None]"
   ]
  },
  {
   "cell_type": "code",
   "execution_count": 33,
   "metadata": {},
   "outputs": [],
   "source": [
    "def compute_test_pp(ll, docs):\n",
    "    \"\"\" pp = exp(-ll/ct)\"\"\"\n",
    "    ct = sum([len(docs) for doc in docs])\n",
    "    pp = np.exp(-1*ll/ct)\n",
    "    return pp"
   ]
  },
  {
   "cell_type": "code",
   "execution_count": 29,
   "metadata": {
    "scrolled": false
   },
   "outputs": [
    {
     "name": "stdout",
     "output_type": "stream",
     "text": [
      "K= 50, alpha = 0.02, eta=1.671541997492687e-05 -----------------------------\n"
     ]
    },
    {
     "name": "stderr",
     "output_type": "stream",
     "text": [
      "Training...\n"
     ]
    },
    {
     "name": "stdout",
     "output_type": "stream",
     "text": [
      "Num docs: 14345 , Vocab size: 59825 , Num words: 1740123\n",
      "Removed top words: []\n",
      "Iteration: 0\n",
      "Iteration: 100\n",
      "Iteration: 200\n",
      "Iteration: 300\n",
      "Iteration: 400\n",
      "Iteration: 500\n",
      "Iteration: 600\n",
      "Iteration: 700\n",
      "Iteration: 800\n",
      "Iteration: 900\n"
     ]
    },
    {
     "ename": "NameError",
     "evalue": "name 'get_test_LL' is not defined",
     "output_type": "error",
     "traceback": [
      "\u001b[1;31m---------------------------------------------------------------------------\u001b[0m",
      "\u001b[1;31mNameError\u001b[0m                                 Traceback (most recent call last)",
      "\u001b[1;32m<ipython-input-29-b4ab182d65e2>\u001b[0m in \u001b[0;36m<module>\u001b[1;34m\u001b[0m\n\u001b[0;32m     33\u001b[0m \u001b[1;33m\u001b[0m\u001b[0m\n\u001b[0;32m     34\u001b[0m             \u001b[1;31m# LL\u001b[0m\u001b[1;33m\u001b[0m\u001b[1;33m\u001b[0m\u001b[1;33m\u001b[0m\u001b[0m\n\u001b[1;32m---> 35\u001b[1;33m             \u001b[0mll\u001b[0m \u001b[1;33m=\u001b[0m \u001b[0mget_test_LL\u001b[0m\u001b[1;33m(\u001b[0m\u001b[0mtest_docs\u001b[0m\u001b[1;33m,\u001b[0m \u001b[0mmodel\u001b[0m\u001b[1;33m)\u001b[0m\u001b[1;33m\u001b[0m\u001b[1;33m\u001b[0m\u001b[0m\n\u001b[0m\u001b[0;32m     36\u001b[0m             \u001b[1;31m## PP\u001b[0m\u001b[1;33m\u001b[0m\u001b[1;33m\u001b[0m\u001b[1;33m\u001b[0m\u001b[0m\n\u001b[0;32m     37\u001b[0m             \u001b[1;31m# TODO: obtain perplexity on the test set\u001b[0m\u001b[1;33m\u001b[0m\u001b[1;33m\u001b[0m\u001b[1;33m\u001b[0m\u001b[0m\n",
      "\u001b[1;31mNameError\u001b[0m: name 'get_test_LL' is not defined"
     ]
    }
   ],
   "source": [
    "# Grid search of best topic number (this needs to run for a while)\n",
    "# We collect LL, perplexity and coherence scores, saving them in variables \n",
    "\n",
    "import time\n",
    "\n",
    "pps = []\n",
    "best_models = []\n",
    "# number of words in our vocabulary\n",
    "c = []\n",
    "for doc in train_docs: \n",
    "    c+=doc\n",
    "w = len(set(c))\n",
    "\n",
    "# define training parameters \n",
    "model_burn_in=250\n",
    "train_updates = 1000\n",
    "train_iter = 10\n",
    "\n",
    "for k in ks:\n",
    "    \n",
    "    start = time.time()\n",
    "\n",
    "    for alpha in [1/k, 10/k, 0.1/k, None]:      \n",
    "        for eta in [1/w, 10/w, 0.1/w, None]:\n",
    "    \n",
    "            print(\"K= \"+str(k)+\", alpha = \"+str(alpha)+\", eta=\"+str(eta)+\" -----------------------------\")\n",
    "            model, LLs, _ = train_LDA(train_docs, k, \n",
    "                                      alpha=alpha,\n",
    "                                      eta=eta, \n",
    "                                      model_burn_in=model_burn_in,\n",
    "                                      train_updates = train_updates, \n",
    "                                      train_iter = train_iter)\n",
    "\n",
    "            # LL\n",
    "            ll = get_test_LL(test_docs, model)\n",
    "            ## PP\n",
    "            # TODO: obtain perplexity on the test set\n",
    "            pp = compute_test_pp(ll, test_docs)\n",
    "            pps += [pp]\n",
    "            print(\"Test perplexity = \"+str(pp))\n",
    "\n",
    "            \n",
    "            end = time.time()\n",
    "\n",
    "            print(\"Time elapsed: \"+ str(round(end - start,1))+\" s\")"
   ]
  },
  {
   "cell_type": "code",
   "execution_count": 51,
   "metadata": {},
   "outputs": [
    {
     "data": {
      "text/plain": [
       "Text(0.5, 1.0, 'Train coherence')"
      ]
     },
     "execution_count": 51,
     "metadata": {},
     "output_type": "execute_result"
    },
    {
     "data": {
      "image/png": "[encoded data removed]",
      "text/plain": [
       "<Figure size 720x864 with 3 Axes>"
      ]
     },
     "metadata": {
      "needs_background": "light"
     },
     "output_type": "display_data"
    }
   ],
   "source": [
    "# plotting the results\n",
    "fig, axs = plt.subplots(3, 1, figsize=(10,12))\n",
    "axs[0].plot(ks,log_likelihoods)\n",
    "axs[1].plot(ks,perplexities)\n",
    "axs[2].plot(ks,coherences)\n",
    "axs[0].set_title(\"Test log-likelihood\")\n",
    "axs[1].set_title(\"Train perplexity\")\n",
    "axs[2].set_title(\"Train coherence\")"
   ]
  },
  {
   "cell_type": "code",
   "execution_count": null,
   "metadata": {},
   "outputs": [],
   "source": [
    "# savin big model \n",
    "model.save(\"lda1000.bin\", full=True)"
   ]
  },
  {
   "cell_type": "code",
   "execution_count": null,
   "metadata": {},
   "outputs": [],
   "source": [
    "# Looking at the biggest model a bit"
   ]
  },
  {
   "cell_type": "code",
   "execution_count": 64,
   "metadata": {},
   "outputs": [
    {
     "data": {
      "text/plain": [
       "0.400896904940071"
      ]
     },
     "execution_count": 64,
     "metadata": {},
     "output_type": "execute_result"
    }
   ],
   "source": [
    "topics = get_topics(model, k)\n",
    "corpus = get_corpus(dictionary, train_docs)\n",
    "cm = CoherenceModel(topics=topics, corpus=corpus, dictionary=dictionary, texts=train_docs, coherence='c_v')\n",
    "cm.get_coherence()"
   ]
  },
  {
   "cell_type": "code",
   "execution_count": 66,
   "metadata": {},
   "outputs": [
    {
     "name": "stdout",
     "output_type": "stream",
     "text": [
      "Topic #10\n",
      "\t\tuse\t1.7696922441245988e-05\n",
      "\t\tmodel\t1.7696922441245988e-05\n",
      "\t\tresult\t1.7696922441245988e-05\n",
      "\t\tstudi\t1.7696922441245988e-05\n",
      "\t\tbase\t1.7696922441245988e-05\n",
      "\t\tdiffer\t1.7696922441245988e-05\n",
      "\t\tmeasur\t1.7696922441245988e-05\n",
      "\t\tdata\t1.7696922441245988e-05\n",
      "\t\tsystem\t1.7696922441245988e-05\n",
      "\t\teffect\t1.7696922441245988e-05\n",
      "Topic #11\n",
      "\t\tarchitectur\t0.06618456542491913\n",
      "\t\tconcept\t0.016145627945661545\n",
      "\t\tarchitect\t0.015338548459112644\n",
      "\t\tdesign\t0.01049607153981924\n",
      "\t\thistori\t0.01049607153981924\n",
      "\t\tform\t0.01049607153981924\n",
      "\t\tamerican\t0.01049607153981924\n",
      "\t\tunderstand\t0.010092531330883503\n",
      "\t\tciti\t0.00968899205327034\n",
      "\t\tnotion\t0.009285451844334602\n",
      "Topic #12\n",
      "\t\tmobil\t0.14631308615207672\n",
      "\t\tplateau\t0.024203117936849594\n",
      "\t\thuman_mobil\t0.011531327851116657\n",
      "\t\tcontinuum\t0.0046194433234632015\n",
      "\t\telectron_gase\t0.0046194433234632015\n",
      "\t\tkey_factor\t0.003467462258413434\n",
      "\t\tsupersolid\t0.003467462258413434\n",
      "\t\ttmb\t0.003467462258413434\n",
      "\t\timplicitli\t0.00231548142619431\n",
      "\t\tfrozen\t0.00231548142619431\n",
      "Topic #13\n",
      "\t\tmpl\t0.017271336168050766\n",
      "\t\tmission\t0.014970025978982449\n",
      "\t\tgdm\t0.014970025978982449\n",
      "\t\tgdl\t0.013819370418787003\n",
      "\t\tga_diffus\t0.012668714858591557\n",
      "\t\twrap\t0.01151805929839611\n",
      "\t\tspace\t0.01036740466952324\n",
      "\t\tcrack\t0.01036740466952324\n",
      "\t\tpegyl\t0.008066093549132347\n",
      "\t\teuclid\t0.008066093549132347\n",
      "Topic #14\n",
      "\t\tcircular_dna\t0.009755385108292103\n",
      "\t\thxt\t0.008132193237543106\n",
      "\t\tar\t0.006509000901132822\n",
      "\t\tlb\t0.006509000901132822\n",
      "\t\tfj\t0.004885808564722538\n",
      "\t\tlf\t0.004885808564722538\n",
      "\t\tspinal\t0.004885808564722538\n",
      "\t\tpll\t0.004885808564722538\n",
      "\t\tfacet\t0.003262616228312254\n",
      "\t\tcircular\t0.003262616228312254\n",
      "Topic #15\n",
      "\t\tvertebr\t0.016709232702851295\n",
      "\t\tdarwinian\t0.011701471172273159\n",
      "\t\tsomat\t0.006693708710372448\n",
      "\t\tcircuitri\t0.0033552004024386406\n",
      "\t\tshotgun\t0.0033552004024386406\n",
      "\t\trdd\t0.0033552004024386406\n",
      "\t\tlamarckian\t0.0033552004024386406\n",
      "\t\tsafe\t0.0016859464813023806\n",
      "\t\tliter\t0.0016859464813023806\n",
      "\t\trna_dna\t0.0016859464813023806\n",
      "Topic #16\n",
      "\t\tmicrotubul\t0.023429088294506073\n",
      "\t\tspindl\t0.01952517032623291\n",
      "\t\tcenp\t0.016736658290028572\n",
      "\t\tchromosom\t0.015063549391925335\n",
      "\t\tkinetochor\t0.012275036424398422\n",
      "\t\tkar\t0.010044225491583347\n",
      "\t\tmitosi\t0.010044225491583347\n",
      "\t\tcentrosom\t0.009486522525548935\n",
      "\t\tmitot\t0.009486522525548935\n",
      "\t\texport\t0.008928820490837097\n",
      "Topic #17\n",
      "\t\tuse\t1.7696922441245988e-05\n",
      "\t\tmodel\t1.7696922441245988e-05\n",
      "\t\tresult\t1.7696922441245988e-05\n",
      "\t\tstudi\t1.7696922441245988e-05\n",
      "\t\tbase\t1.7696922441245988e-05\n",
      "\t\tdiffer\t1.7696922441245988e-05\n",
      "\t\tmeasur\t1.7696922441245988e-05\n",
      "\t\tdata\t1.7696922441245988e-05\n",
      "\t\tsystem\t1.7696922441245988e-05\n",
      "\t\teffect\t1.7696922441245988e-05\n",
      "Topic #18\n",
      "\t\tplushi\t0.008592450991272926\n",
      "\t\ttoy\t0.005162330344319344\n",
      "\t\tplush\t0.005162330344319344\n",
      "\t\twinch\t0.0034472704865038395\n",
      "\t\thighli_versatil\t0.0017322105122730136\n",
      "\t\tactiv_pattern\t0.0017322105122730136\n",
      "\t\tmechan_drive\t0.0017322105122730136\n",
      "\t\trealiz\t0.0017322105122730136\n",
      "\t\thydrostat\t0.0017322105122730136\n",
      "\t\tstudi\t1.7150598068838008e-05\n",
      "Topic #19\n",
      "\t\tleaf_unfold\t0.010099652223289013\n",
      "\t\tspatial_varianc\t0.006738703232258558\n",
      "\t\tgddreq\t0.006738703232258558\n",
      "\t\torchide\t0.006738703232258558\n",
      "\t\tdecidu_tree\t0.0033777537755668163\n",
      "\t\tbeech_forest\t0.0033777537755668163\n",
      "\t\tweather_regim\t0.0033777537755668163\n",
      "\t\thess\t0.0033777537755668163\n",
      "\t\tlight_avail\t0.001697279280051589\n",
      "\t\ttightli_constrain\t0.001697279280051589\n"
     ]
    }
   ],
   "source": [
    "for k in range(10,20):\n",
    "    print('Topic #{}'.format(k))\n",
    "    for word, prob in model.get_topic_words(k):\n",
    "        print('\\t', word, prob, sep='\\t')"
   ]
  },
  {
   "cell_type": "code",
   "execution_count": null,
   "metadata": {},
   "outputs": [],
   "source": [
    "# TODO: evaluate the model on the validation set "
   ]
  },
  {
   "cell_type": "code",
   "execution_count": null,
   "metadata": {},
   "outputs": [],
   "source": [
    "get_test_coherence(model, test_docs, dictionary):\n",
    "    \"\"\" Get topics over test set and compute coherence\"\"\"\n",
    "    pass"
   ]
  },
  {
   "cell_type": "code",
   "execution_count": null,
   "metadata": {},
   "outputs": [],
   "source": []
  },
  {
   "cell_type": "markdown",
   "metadata": {},
   "source": [
    "#### Nice visualisation \n",
    "\n",
    "--- "
   ]
  },
  {
   "cell_type": "code",
   "execution_count": 36,
   "metadata": {},
   "outputs": [],
   "source": [
    "#!pip3.7 install pyLDAvis"
   ]
  },
  {
   "cell_type": "code",
   "execution_count": 42,
   "metadata": {},
   "outputs": [],
   "source": [
    "import pyLDAvis\n",
    "pyLDAvis.enable_notebook()"
   ]
  },
  {
   "cell_type": "markdown",
   "metadata": {},
   "source": [
    "**Note**: you need to have trained a model to use the following code "
   ]
  },
  {
   "cell_type": "code",
   "execution_count": 43,
   "metadata": {},
   "outputs": [],
   "source": [
    "topic_term_dists = np.stack([model.get_topic_word_dist(k) for k in range(model.k)])\n",
    "doc_topic_dists = np.stack([doc.get_topic_dist() for doc in model.docs])\n",
    "doc_lengths = np.array([len(doc.words) for doc in model.docs])\n",
    "vocab = list(model.used_vocabs)\n",
    "term_frequency = model.used_vocab_freq"
   ]
  },
  {
   "cell_type": "code",
   "execution_count": 44,
   "metadata": {},
   "outputs": [
    {
     "name": "stderr",
     "output_type": "stream",
     "text": [
      "c:\\users\\giulia\\appdata\\local\\programs\\python\\python37\\lib\\site-packages\\pyLDAvis\\_prepare.py:257: FutureWarning: Sorting because non-concatenation axis is not aligned. A future version\n",
      "of pandas will change to not sort by default.\n",
      "\n",
      "To accept the future behavior, pass 'sort=False'.\n",
      "\n",
      "To retain the current behavior and silence the warning, pass 'sort=True'.\n",
      "\n",
      "  return pd.concat([default_term_info] + list(topic_dfs))\n"
     ]
    }
   ],
   "source": [
    "# doesn't work ...\n",
    "doc = pyLDAvis.prepare(\n",
    "    topic_term_dists, \n",
    "    doc_topic_dists, \n",
    "    doc_lengths, \n",
    "    vocab, \n",
    "    term_frequency)"
   ]
  },
  {
   "cell_type": "markdown",
   "metadata": {},
   "source": [
    "## 2.2 CTM"
   ]
  },
  {
   "cell_type": "markdown",
   "metadata": {},
   "source": [
    "### 2.2.1 Training example"
   ]
  },
  {
   "cell_type": "code",
   "execution_count": 88,
   "metadata": {},
   "outputs": [],
   "source": [
    "# Define the hyperparameters\n",
    "tw = tp.TermWeight.ONE # term weighting scheme in TermWeight. The default value is TermWeight.ONE\n",
    "k = 5 # number of topics\n",
    "min_cf=3 # minimum collection frequency of words. Words with a smaller collection frequency than min_cf are excluded from the model. The default value is 0, which means no words are excluded.\n",
    "rm_top=5 # the number of top words to be removed. If you want to remove too common words from model, you can set this value to 1 or more. The default value is 0, which means no top words are removed.\n",
    "alpha = None # hyperparameter of Dirichlet distribution for document-topic\n",
    "eta = None # hyperparameter of Dirichlet distribution for topic-word\n",
    "seed = 41 # random seed\n",
    "model_burn_in = 100 \n",
    "train_updates = 500\n",
    "train_iter = 10\n",
    "save_path = \"ctm_model.bin\" #.bin format"
   ]
  },
  {
   "cell_type": "code",
   "execution_count": 40,
   "metadata": {},
   "outputs": [],
   "source": [
    "def train_CTM(documents, k, min_cf=0, rm_top=0, smoothing_alpha=0.1, eta=0.01, model_burn_in=100, \n",
    "              train_updates = 1000, train_iter = 10):\n",
    "    \n",
    "    # instantiate\n",
    "    model = tp.CTModel(tw=tp.TermWeight.ONE, min_cf=min_cf, rm_top=rm_top, k=k, smoothing_alpha = smoothing_alpha,\n",
    "                      eta = eta)\n",
    "    \n",
    "    # add documents to model\n",
    "    for doc in documents: model.add_doc(doc)\n",
    "    \n",
    "    # training**\n",
    "    model.burn_in = model_burn_in\n",
    "    # initialising \n",
    "    model.train(iter=0)\n",
    "    print('Num docs:', len(model.docs), ', Vocab size:', len(model.used_vocabs), ', Num words:', model.num_words)\n",
    "    print('Removed top words:', model.removed_top_words)\n",
    "    print('Training...', file=sys.stderr, flush=True)\n",
    "    # actual training \n",
    "    time = []\n",
    "    LLs = []\n",
    "    for i in range(0, train_updates, train_iter):\n",
    "        model.train(train_iter)\n",
    "        if i%100==0:print('Iteration: {}'.format(i))\n",
    "        time.append(i)\n",
    "        LLs.append(model.ll_per_word)\n",
    "    \n",
    "    return model, LLs, time"
   ]
  },
  {
   "cell_type": "code",
   "execution_count": 92,
   "metadata": {
    "scrolled": true
   },
   "outputs": [
    {
     "name": "stderr",
     "output_type": "stream",
     "text": [
      "Training...\n"
     ]
    },
    {
     "name": "stdout",
     "output_type": "stream",
     "text": [
      "Num docs: 20494 , Vocab size: 42219 , Num words: 2045097\n",
      "Removed top words: ['use', 'model', 'result', 'studi', 'base']\n",
      "Iteration: 0\n",
      "Iteration: 100\n",
      "Iteration: 200\n",
      "Iteration: 300\n",
      "Iteration: 400\n",
      "Time elapsed: 154.8 s\n"
     ]
    }
   ],
   "source": [
    "import time\n",
    "start = time.time()\n",
    "model, LLs, _ = train_CTM(cleaned, k=k, min_cf=min_cf, rm_top=rm_top, smoothing_alpha=alpha, \n",
    "                                 eta=eta, model_burn_in=model_burn_in, \n",
    "                                 train_updates = train_updates, train_iter = train_iter)\n",
    "end = time.time()\n",
    "print(\"Time elapsed: \"+ str(round(end - start,1))+\" s\")"
   ]
  },
  {
   "cell_type": "code",
   "execution_count": 95,
   "metadata": {},
   "outputs": [
    {
     "name": "stderr",
     "output_type": "stream",
     "text": [
      "Training...\n"
     ]
    },
    {
     "name": "stdout",
     "output_type": "stream",
     "text": [
      "Num docs: 20494 , Vocab size: 42219 , Num words: 2045097\n",
      "Removed top words: ['use', 'model', 'result', 'studi', 'base']\n",
      "Iteration: 0\n",
      "Iteration: 100\n",
      "Iteration: 200\n",
      "Iteration: 300\n",
      "Iteration: 400\n",
      "Time elapsed: 13.7 s\n"
     ]
    }
   ],
   "source": [
    "# compare time to LDA with same hyperparameters\n",
    "\n",
    "start = time.time()\n",
    "train_LDA(cleaned, k=k, min_cf=min_cf, rm_top=rm_top, alpha=alpha, \n",
    "                                 eta=eta, model_burn_in=model_burn_in, \n",
    "                                 train_updates = train_updates, train_iter = train_iter)\n",
    "end = time.time()\n",
    "print(\"Time elapsed: \"+ str(round(end - start,1))+\" s\")"
   ]
  },
  {
   "cell_type": "code",
   "execution_count": 48,
   "metadata": {},
   "outputs": [
    {
     "name": "stdout",
     "output_type": "stream",
     "text": [
      "Topic #0\n",
      "\t\tmodel\t0.02911013923585415\n",
      "\t\tprocess\t0.008280729874968529\n",
      "\t\tone\t0.008222708478569984\n",
      "\t\tdynam\t0.007234036922454834\n",
      "\t\tsystem\t0.006990350317209959\n",
      "\t\tsampl\t0.006723455153405666\n",
      "\t\tmeasur\t0.0062407236546278\n",
      "\t\tresult\t0.006233761087059975\n",
      "\t\tappli\t0.005887958221137524\n",
      "\t\tparamet\t0.005788162816315889\n",
      "Topic #1\n",
      "\t\tuse\t0.012448491528630257\n",
      "\t\tperform\t0.012123850174248219\n",
      "\t\tstructur\t0.011803880333900452\n",
      "\t\tfunction\t0.010138634592294693\n",
      "\t\tdata\t0.00976494699716568\n",
      "\t\talso\t0.00917171873152256\n",
      "\t\tmethod\t0.009150698781013489\n",
      "\t\tbase\t0.008919479325413704\n",
      "\t\tmeasur\t0.00791752990335226\n",
      "\t\tgener\t0.007546177599579096\n",
      "Topic #2\n",
      "\t\tuse\t0.022704770788550377\n",
      "\t\tshow\t0.00995029229670763\n",
      "\t\tcontrol\t0.00987785030156374\n",
      "\t\tstudi\t0.008840292692184448\n",
      "\t\tdesign\t0.008013051003217697\n",
      "\t\ttest\t0.007232546340674162\n",
      "\t\texperi\t0.007017557043582201\n",
      "\t\tdata\t0.0066530099138617516\n",
      "\t\tapproach\t0.0066389888525009155\n",
      "\t\tproduct\t0.006552525795996189\n",
      "Topic #3\n",
      "\t\tstudi\t0.012134483084082603\n",
      "\t\tincreas\t0.011137831956148148\n",
      "\t\tchang\t0.010765252634882927\n",
      "\t\tdevelop\t0.01020871102809906\n",
      "\t\thigh\t0.00830855406820774\n",
      "\t\tcombin\t0.008108292706310749\n",
      "\t\tidentifi\t0.007833515293896198\n",
      "\t\trespons\t0.007796257268637419\n",
      "\t\tpotenti\t0.007710097823292017\n",
      "\t\tfind\t0.007458606734871864\n",
      "Topic #4\n",
      "\t\tdiffer\t0.015804635360836983\n",
      "\t\teffect\t0.01162868645042181\n",
      "\t\tcell\t0.008480376563966274\n",
      "\t\tbase\t0.0084476787596941\n",
      "\t\tcompar\t0.007863793522119522\n",
      "\t\tpredict\t0.007160795386880636\n",
      "\t\tsimul\t0.006348026916384697\n",
      "\t\taddit\t0.0062873028218746185\n",
      "\t\tspecif\t0.005871576257050037\n",
      "\t\testim\t0.005845885258167982\n"
     ]
    }
   ],
   "source": [
    "for k in range(model.k):\n",
    "    print('Topic #{}'.format(k))\n",
    "    for word, prob in model.get_topic_words(k):\n",
    "        print('\\t', word, prob, sep='\\t')"
   ]
  },
  {
   "cell_type": "code",
   "execution_count": 50,
   "metadata": {},
   "outputs": [
    {
     "data": {
      "text/plain": [
       "array([[ 1.        ,  0.22246677,  0.11326577, -0.01405197,  0.13137358],\n",
       "       [ 0.22246677,  1.        ,  0.15056095, -0.00279401,  0.13987428],\n",
       "       [ 0.11326577,  0.15056095,  1.        ,  0.18342696,  0.15434065],\n",
       "       [-0.01405197, -0.00279401,  0.18342696,  1.        ,  0.15774994],\n",
       "       [ 0.13137358,  0.13987428,  0.15434065,  0.15774994,  1.        ]],\n",
       "      dtype=float32)"
      ]
     },
     "execution_count": 50,
     "metadata": {},
     "output_type": "execute_result"
    }
   ],
   "source": [
    "# Look at topic correlations\n",
    "model.get_correlations()"
   ]
  },
  {
   "cell_type": "code",
   "execution_count": null,
   "metadata": {},
   "outputs": [],
   "source": [
    "#!pip3.7 install pyvis"
   ]
  },
  {
   "cell_type": "code",
   "execution_count": 57,
   "metadata": {},
   "outputs": [
    {
     "name": "stdout",
     "output_type": "stream",
     "text": [
      "Topic #0 model process one dynam system sampl\n",
      "Topic #1 use perform structur function data also\n",
      "Topic #2 use show control studi design test\n",
      "Topic #3 studi increas chang develop high combin\n",
      "Topic #4 differ effect cell base compar predict\n"
     ]
    }
   ],
   "source": [
    "# visualization tool for topic correlations\n",
    "\n",
    "from pyvis.network import Network\n",
    "\n",
    "g = Network(width=800, height=800, font_color=\"#333\")\n",
    "correl = model.get_correlations().reshape([-1])\n",
    "correl.sort()\n",
    "top_tenth = model.k * (model.k - 1) // 10\n",
    "top_tenth = correl[-model.k - top_tenth]\n",
    "\n",
    "for k in range(model.k):\n",
    "    label = \"#{}\".format(k)\n",
    "    title= ' '.join(word for word, _ in model.get_topic_words(k, top_n=6))\n",
    "    print('Topic', label, title)\n",
    "    g.add_node(k, label=label, title=title, shape='ellipse')\n",
    "    for l, correlation in zip(range(k - 1), model.get_correlations(k)):\n",
    "        if correlation < top_tenth: continue\n",
    "        g.add_edge(k, l, value=float(correlation), title='{:.02}'.format(correlation))\n",
    "\n",
    "g.barnes_hut(gravity=-1000, spring_length=20)\n",
    "g.show_buttons()\n",
    "g.show(\"topic_network.html\")"
   ]
  },
  {
   "cell_type": "markdown",
   "metadata": {},
   "source": [
    "### 2.2.2 Complete grid search"
   ]
  },
  {
   "cell_type": "code",
   "execution_count": 45,
   "metadata": {},
   "outputs": [],
   "source": [
    "# helper functions \n",
    "\n",
    "def get_test_LL(test_docs, model):\n",
    "    \n",
    "    # make a list of documents of type required by tp\n",
    "    test_set = []\n",
    "    for doc in test_docs:\n",
    "        test_set.append(model.make_doc(doc))\n",
    "    \n",
    "    # return topic distribution and log-likelihood of new documents\n",
    "    topic_dist, likelihood = model.infer(test_set)\n",
    "    \n",
    "    # use mean log-likelihood as performance measure\n",
    "    return np.mean(likelihood)\n",
    "\n",
    "def compute_test_pp(ll, docs):\n",
    "    \"\"\" pp = exp(-ll/ct)\"\"\"\n",
    "    ct = sum([len(docs) for doc in docs])\n",
    "    pp = np.exp(-1*ll/ct)\n",
    "    return pp"
   ]
  },
  {
   "cell_type": "code",
   "execution_count": 30,
   "metadata": {},
   "outputs": [],
   "source": [
    "random.seed = 11"
   ]
  },
  {
   "cell_type": "code",
   "execution_count": 31,
   "metadata": {},
   "outputs": [
    {
     "name": "stdout",
     "output_type": "stream",
     "text": [
      "20494\n"
     ]
    },
    {
     "data": {
      "text/plain": [
       "True"
      ]
     },
     "execution_count": 31,
     "metadata": {},
     "output_type": "execute_result"
    }
   ],
   "source": [
    "# split data in train, test and validation set\n",
    "print(len(cleaned))\n",
    "train_size = int(0.7*len(cleaned)) #70% for training\n",
    "test_size = int(0.3*len(cleaned)) #30% for testing \n",
    "\n",
    "random.shuffle(cleaned)\n",
    "\n",
    "train_docs = cleaned[0:train_size]\n",
    "test_docs = cleaned[train_size:]\n",
    "\n",
    "len(train_docs) + len(test_docs) == len(cleaned)"
   ]
  },
  {
   "cell_type": "code",
   "execution_count": 41,
   "metadata": {},
   "outputs": [],
   "source": [
    "# Defining the grid\n",
    "\n",
    "c = []\n",
    "for doc in train_docs: \n",
    "    c+=doc\n",
    "w = len(set(c))\n",
    "\n",
    "ks = [50, 100, 150, 200, 300, 350, 450]\n",
    "etas = [1/w, 10/w, 0.1/w, None]"
   ]
  },
  {
   "cell_type": "code",
   "execution_count": 46,
   "metadata": {},
   "outputs": [
    {
     "name": "stdout",
     "output_type": "stream",
     "text": [
      "K= 1, eta=1.67484549550304e-05 -----------------------------\n"
     ]
    },
    {
     "name": "stderr",
     "output_type": "stream",
     "text": [
      "Training...\n"
     ]
    },
    {
     "name": "stdout",
     "output_type": "stream",
     "text": [
      "Num docs: 14345 , Vocab size: 59707 , Num words: 1736816\n",
      "Removed top words: []\n",
      "Iteration: 0\n",
      "Iteration: 100\n",
      "Iteration: 200\n",
      "Iteration: 300\n",
      "Iteration: 400\n",
      "Iteration: 500\n",
      "Iteration: 600\n",
      "Iteration: 700\n",
      "Iteration: 800\n",
      "Iteration: 900\n",
      "Test perplexity = 1.0000326501379062\n",
      "Time elapsed: 67.5 s\n",
      "K= 1, eta=0.000167484549550304 -----------------------------\n"
     ]
    },
    {
     "name": "stderr",
     "output_type": "stream",
     "text": [
      "Training...\n"
     ]
    },
    {
     "name": "stdout",
     "output_type": "stream",
     "text": [
      "Num docs: 14345 , Vocab size: 59707 , Num words: 1736816\n",
      "Removed top words: []\n",
      "Iteration: 0\n",
      "Iteration: 100\n",
      "Iteration: 200\n"
     ]
    },
    {
     "ename": "KeyboardInterrupt",
     "evalue": "",
     "output_type": "error",
     "traceback": [
      "\u001b[0;31m---------------------------------------------------------------------------\u001b[0m",
      "\u001b[0;31mKeyboardInterrupt\u001b[0m                         Traceback (most recent call last)",
      "\u001b[0;32m<ipython-input-46-85fe48287652>\u001b[0m in \u001b[0;36m<module>\u001b[0;34m\u001b[0m\n\u001b[1;32m     24\u001b[0m                                   \u001b[0mmodel_burn_in\u001b[0m\u001b[0;34m=\u001b[0m\u001b[0mmodel_burn_in\u001b[0m\u001b[0;34m,\u001b[0m\u001b[0;34m\u001b[0m\u001b[0;34m\u001b[0m\u001b[0m\n\u001b[1;32m     25\u001b[0m                                   \u001b[0mtrain_updates\u001b[0m \u001b[0;34m=\u001b[0m \u001b[0mtrain_updates\u001b[0m\u001b[0;34m,\u001b[0m\u001b[0;34m\u001b[0m\u001b[0;34m\u001b[0m\u001b[0m\n\u001b[0;32m---> 26\u001b[0;31m                                   train_iter = train_iter)\n\u001b[0m\u001b[1;32m     27\u001b[0m \u001b[0;34m\u001b[0m\u001b[0m\n\u001b[1;32m     28\u001b[0m         \u001b[0;31m# LL\u001b[0m\u001b[0;34m\u001b[0m\u001b[0;34m\u001b[0m\u001b[0;34m\u001b[0m\u001b[0m\n",
      "\u001b[0;32m<ipython-input-40-5de506dffe38>\u001b[0m in \u001b[0;36mtrain_CTM\u001b[0;34m(documents, k, min_cf, rm_top, smoothing_alpha, eta, model_burn_in, train_updates, train_iter)\u001b[0m\n\u001b[1;32m     20\u001b[0m     \u001b[0mLLs\u001b[0m \u001b[0;34m=\u001b[0m \u001b[0;34m[\u001b[0m\u001b[0;34m]\u001b[0m\u001b[0;34m\u001b[0m\u001b[0;34m\u001b[0m\u001b[0m\n\u001b[1;32m     21\u001b[0m     \u001b[0;32mfor\u001b[0m \u001b[0mi\u001b[0m \u001b[0;32min\u001b[0m \u001b[0mrange\u001b[0m\u001b[0;34m(\u001b[0m\u001b[0;36m0\u001b[0m\u001b[0;34m,\u001b[0m \u001b[0mtrain_updates\u001b[0m\u001b[0;34m,\u001b[0m \u001b[0mtrain_iter\u001b[0m\u001b[0;34m)\u001b[0m\u001b[0;34m:\u001b[0m\u001b[0;34m\u001b[0m\u001b[0;34m\u001b[0m\u001b[0m\n\u001b[0;32m---> 22\u001b[0;31m         \u001b[0mmodel\u001b[0m\u001b[0;34m.\u001b[0m\u001b[0mtrain\u001b[0m\u001b[0;34m(\u001b[0m\u001b[0mtrain_iter\u001b[0m\u001b[0;34m)\u001b[0m\u001b[0;34m\u001b[0m\u001b[0;34m\u001b[0m\u001b[0m\n\u001b[0m\u001b[1;32m     23\u001b[0m         \u001b[0;32mif\u001b[0m \u001b[0mi\u001b[0m\u001b[0;34m%\u001b[0m\u001b[0;36m100\u001b[0m\u001b[0;34m==\u001b[0m\u001b[0;36m0\u001b[0m\u001b[0;34m:\u001b[0m\u001b[0mprint\u001b[0m\u001b[0;34m(\u001b[0m\u001b[0;34m'Iteration: {}'\u001b[0m\u001b[0;34m.\u001b[0m\u001b[0mformat\u001b[0m\u001b[0;34m(\u001b[0m\u001b[0mi\u001b[0m\u001b[0;34m)\u001b[0m\u001b[0;34m)\u001b[0m\u001b[0;34m\u001b[0m\u001b[0;34m\u001b[0m\u001b[0m\n\u001b[1;32m     24\u001b[0m         \u001b[0mtime\u001b[0m\u001b[0;34m.\u001b[0m\u001b[0mappend\u001b[0m\u001b[0;34m(\u001b[0m\u001b[0mi\u001b[0m\u001b[0;34m)\u001b[0m\u001b[0;34m\u001b[0m\u001b[0;34m\u001b[0m\u001b[0m\n",
      "\u001b[0;31mKeyboardInterrupt\u001b[0m: "
     ]
    }
   ],
   "source": [
    "# Grid search of best topic number (this needs to run for a while)\n",
    "# We collect LL, perplexity and coherence scores, saving them in variables \n",
    "\n",
    "import time\n",
    "\n",
    "pps = []\n",
    "best_models = []\n",
    "# number of words in our vocabulary\n",
    "\n",
    "# define training parameters \n",
    "model_burn_in=250\n",
    "train_updates = 1000\n",
    "train_iter = 10\n",
    "\n",
    "for k in ks:\n",
    "    \n",
    "    start = time.time()\n",
    "      \n",
    "    for eta in etas:\n",
    "\n",
    "        print(\"K= \"+str(k)+\", eta=\"+str(eta)+\" -----------------------------\")\n",
    "        model, LLs, _ = train_CTM(train_docs, k,\n",
    "                                  eta=eta, \n",
    "                                  model_burn_in=model_burn_in,\n",
    "                                  train_updates = train_updates, \n",
    "                                  train_iter = train_iter)\n",
    "\n",
    "        # LL\n",
    "        ll = get_test_LL(test_docs, model)\n",
    "        ## PP\n",
    "        pp = compute_test_pp(ll, test_docs)\n",
    "        pps += [pp]\n",
    "        print(\"Test perplexity = \"+str(pp))\n",
    "\n",
    "\n",
    "        end = time.time()\n",
    "\n",
    "        print(\"Time elapsed: \"+ str(round(end - start,1))+\" s\")"
   ]
  },
  {
   "cell_type": "markdown",
   "metadata": {},
   "source": [
    "## 2.3 Pachinko"
   ]
  },
  {
   "cell_type": "markdown",
   "metadata": {},
   "source": [
    "### 2.3.1 Training example"
   ]
  },
  {
   "cell_type": "code",
   "execution_count": 96,
   "metadata": {},
   "outputs": [],
   "source": [
    "# Hyperparameters\n",
    "tw = tp.TermWeight.ONE # term weighting scheme in TermWeight. The default value is TermWeight.ONE\n",
    "k1 = 1 # the number of super topics \n",
    "k2 = 5 # the number of sub topics\n",
    "min_cf=3 # minimum collection frequency of words. Words with a smaller collection frequency than min_cf are excluded from the model. The default value is 0, which means no words are excluded.\n",
    "rm_top=5 # the number of top words to be removed. If you want to remove too common words from model, you can set this value to 1 or more. The default value is 0, which means no top words are removed.\n",
    "alpha = None # hyperparameter of Dirichlet distribution for document-topic\n",
    "eta = None # hyperparameter of Dirichlet distribution for topic-word\n",
    "seed = 41 # random seed\n",
    "model_burn_in = 100 \n",
    "train_updates = 500\n",
    "train_iter = 10\n",
    "save_path = \"pachinko_model.bin\" #.bin format"
   ]
  },
  {
   "cell_type": "code",
   "execution_count": null,
   "metadata": {},
   "outputs": [],
   "source": [
    "# Note: only possible to have two layers in topic tree??"
   ]
  },
  {
   "cell_type": "code",
   "execution_count": 53,
   "metadata": {},
   "outputs": [],
   "source": [
    "def train_PA(documents, k1, k2, min_cf=0, rm_top=0, alpha=0.1, eta=0.01, model_burn_in=100, \n",
    "              train_updates = 1000, train_iter = 10):\n",
    "    \n",
    "    # instantiate\n",
    "    model = tp.PAModel(tw=tp.TermWeight.ONE, min_cf=min_cf, rm_top=rm_top, k1=k1, k2=k2, alpha = alpha, eta = eta)\n",
    "    \n",
    "    # add documents to model\n",
    "    for doc in documents: model.add_doc(doc)\n",
    "    \n",
    "    # training**\n",
    "    model.burn_in = model_burn_in\n",
    "    # initialising \n",
    "    model.train(iter=0)\n",
    "    print('Num docs:', len(model.docs), ', Vocab size:', len(model.used_vocabs), ', Num words:', model.num_words)\n",
    "    print('Removed top words:', model.removed_top_words)\n",
    "    print('Training...', file=sys.stderr, flush=True)\n",
    "    # actual training \n",
    "    time = []\n",
    "    LLs = []\n",
    "    for i in range(0, train_updates, train_iter):\n",
    "        model.train(train_iter)\n",
    "        if i%100==0:print('Iteration: {}'.format(i))\n",
    "        time.append(i)\n",
    "        LLs.append(model.ll_per_word)\n",
    "    \n",
    "    return model, LLs, time"
   ]
  },
  {
   "cell_type": "code",
   "execution_count": 98,
   "metadata": {},
   "outputs": [
    {
     "name": "stderr",
     "output_type": "stream",
     "text": [
      "Training...\n"
     ]
    },
    {
     "name": "stdout",
     "output_type": "stream",
     "text": [
      "Num docs: 20494 , Vocab size: 42219 , Num words: 2045097\n",
      "Removed top words: ['use', 'model', 'result', 'studi', 'base']\n",
      "Iteration: 0\n",
      "Iteration: 100\n",
      "Iteration: 200\n",
      "Iteration: 300\n",
      "Iteration: 400\n",
      "Time elapsed: 34.8 s\n"
     ]
    }
   ],
   "source": [
    "import time\n",
    "start = time.time()\n",
    "model, LLs, iters = train_PA(cleaned, k1=k1, k2=k2, min_cf=min_cf, rm_top=rm_top, alpha=alpha, \n",
    "                                 eta=eta, model_burn_in=model_burn_in, \n",
    "                                 train_updates = train_updates, train_iter = train_iter)\n",
    "end = time.time()\n",
    "print(\"Time elapsed: \"+ str(round(end - start,1))+\" s\")"
   ]
  },
  {
   "cell_type": "code",
   "execution_count": 68,
   "metadata": {},
   "outputs": [
    {
     "name": "stdout",
     "output_type": "stream",
     "text": [
      "Topic #0\n",
      "\t\tcell\t0.014766634441912174\n",
      "\t\tprotein\t0.009470165707170963\n",
      "\t\tactiv\t0.007640558294951916\n",
      "\t\tfunction\t0.0064909025095403194\n",
      "\t\texpress\t0.005806477274745703\n",
      "\t\tregul\t0.0049341702833771706\n",
      "\t\tspecif\t0.004621034488081932\n",
      "\t\tshow\t0.004616560880094767\n",
      "\t\tinduc\t0.0038516151253134012\n",
      "\t\thuman\t0.0036861004773527384\n",
      "Topic #1\n",
      "\t\tspeci\t0.010506151244044304\n",
      "\t\tplant\t0.0069759683683514595\n",
      "\t\tdiffer\t0.006193359848111868\n",
      "\t\tgene\t0.006097645033150911\n",
      "\t\tpopul\t0.005810501053929329\n",
      "\t\teffect\t0.004999741446226835\n",
      "\t\tgenom\t0.004858984611928463\n",
      "\t\tinfect\t0.004082006402313709\n",
      "\t\tsequenc\t0.0038173834327608347\n",
      "\t\ttwo\t0.0037272991612553596\n",
      "Topic #2\n",
      "\t\tchang\t0.008071597665548325\n",
      "\t\tobserv\t0.007896021008491516\n",
      "\t\tregion\t0.006300773471593857\n",
      "\t\tsimul\t0.006215493194758892\n",
      "\t\tincreas\t0.00568876089528203\n",
      "\t\tdiffer\t0.004675427917391062\n",
      "\t\testim\t0.004555031657218933\n",
      "\t\ttemperatur\t0.004359388258308172\n",
      "\t\tclimat\t0.004334305878728628\n",
      "\t\tmeasur\t0.004284140653908253\n",
      "Topic #3\n",
      "\t\tpatient\t0.009599465876817703\n",
      "\t\teffect\t0.006192108616232872\n",
      "\t\tass\t0.005967257544398308\n",
      "\t\tmeasur\t0.005932664964348078\n",
      "\t\tcompar\t0.005609801970422268\n",
      "\t\tgroup\t0.0051946924068033695\n",
      "\t\tdiffer\t0.005177396349608898\n",
      "\t\tperform\t0.005039026495069265\n",
      "\t\tmethod\t0.004768052138388157\n",
      "\t\tactiv\t0.004554731771349907\n",
      "Topic #4\n",
      "\t\tstructur\t0.007656652480363846\n",
      "\t\tmateri\t0.0060310824774205685\n",
      "\t\tmeasur\t0.004829256795346737\n",
      "\t\tsurfac\t0.0046904440969228745\n",
      "\t\teffect\t0.004580855369567871\n",
      "\t\tsystem\t0.004361677449196577\n",
      "\t\thigh\t0.0037260614335536957\n",
      "\t\tshow\t0.003594554727897048\n",
      "\t\tprocess\t0.003444783156737685\n",
      "\t\tmechan\t0.003441130043938756\n",
      "Topic #5\n",
      "\t\tconcentr\t0.007701004855334759\n",
      "\t\tmeasur\t0.007625257596373558\n",
      "\t\twater\t0.005586402025073767\n",
      "\t\tsoil\t0.005409658886492252\n",
      "\t\tco\t0.005226603709161282\n",
      "\t\tprocess\t0.005150856915861368\n",
      "\t\tparticl\t0.005100358743220568\n",
      "\t\tsampl\t0.005043548531830311\n",
      "\t\tdiffer\t0.004936240613460541\n",
      "\t\tobserv\t0.004406011663377285\n",
      "Topic #6\n",
      "\t\teffect\t0.0051991259679198265\n",
      "\t\tdiffer\t0.004820952657610178\n",
      "\t\tdevelop\t0.0045381165109574795\n",
      "\t\tresearch\t0.0044999816454946995\n",
      "\t\tdata\t0.0043474407866597176\n",
      "\t\tproduct\t0.0037468119990080595\n",
      "\t\tinform\t0.0034639760851860046\n",
      "\t\tfind\t0.0034321967978030443\n",
      "\t\tlevel\t0.0034163070376962423\n",
      "\t\tpolici\t0.0034131291322410107\n",
      "Topic #7\n",
      "\t\tmethod\t0.010523601435124874\n",
      "\t\tsystem\t0.0100721949711442\n",
      "\t\tdata\t0.009247558191418648\n",
      "\t\tapproach\t0.00753019517287612\n",
      "\t\tperform\t0.006120495032519102\n",
      "\t\tnetwork\t0.005838050507009029\n",
      "\t\tgener\t0.005268118344247341\n",
      "\t\tapplic\t0.005084024742245674\n",
      "\t\tprocess\t0.0050588068552315235\n",
      "\t\tdesign\t0.004713316448032856\n",
      "Topic #8\n",
      "\t\tmeasur\t0.011963363736867905\n",
      "\t\tpresent\t0.005989320110529661\n",
      "\t\tobserv\t0.00596651853993535\n",
      "\t\tevent\t0.005730901379138231\n",
      "\t\tfunction\t0.005654895678162575\n",
      "\t\ttwo\t0.0055560884065926075\n",
      "\t\tproduct\t0.005457280669361353\n",
      "\t\tmass\t0.005419278051704168\n",
      "\t\tgener\t0.00513805728405714\n",
      "\t\tdata\t0.004917640704661608\n"
     ]
    }
   ],
   "source": [
    "for k1 in range(model.k1):\n",
    "    print('Topic #{}'.format(k1))\n",
    "    for word, prob in model.get_topic_words(k1):\n",
    "        print('\\t', word, prob, sep='\\t')"
   ]
  },
  {
   "cell_type": "code",
   "execution_count": 87,
   "metadata": {},
   "outputs": [
    {
     "name": "stdout",
     "output_type": "stream",
     "text": [
      "[(7, 0.19549831748008728), (6, 0.14660409092903137), (4, 0.1354740858078003), (0, 0.10939498990774155), (2, 0.10065411031246185), (1, 0.08707132935523987), (3, 0.08386807143688202), (5, 0.07651862502098083), (8, 0.06491642445325851)] \n",
      "\n",
      "[(7, 0.19231653213500977), (6, 0.15459945797920227), (4, 0.1308623105287552), (0, 0.10955480486154556), (3, 0.09222950041294098), (1, 0.09066661447286606), (2, 0.08886031806468964), (5, 0.0755067840218544), (8, 0.06540369987487793)] \n",
      "\n",
      "[(7, 0.19326603412628174), (6, 0.15959884226322174), (4, 0.13457950949668884), (0, 0.10837731510400772), (2, 0.10211817175149918), (1, 0.08232462406158447), (5, 0.07967150211334229), (3, 0.07793819159269333), (8, 0.06212577968835831)]\n"
     ]
    }
   ],
   "source": [
    "print(model.get_sub_topics(super_topic_id = 0), \"\\n\") # this returns an ordered list of the probabilities of the sub-topics\n",
    "print(model.get_sub_topics(super_topic_id = 1), \"\\n\")\n",
    "print(model.get_sub_topics(super_topic_id = 2))\n",
    "\n",
    "# super topics have more or less same prob for sub topics => requires tuning"
   ]
  },
  {
   "cell_type": "markdown",
   "metadata": {},
   "source": [
    "### 2.3.2 Complete grid search"
   ]
  },
  {
   "cell_type": "code",
   "execution_count": null,
   "metadata": {},
   "outputs": [],
   "source": [
    "# helper functions \n",
    "\n",
    "def get_test_LL(test_docs, model):\n",
    "    \n",
    "    # make a list of documents of type required by tp\n",
    "    test_set = []\n",
    "    for doc in test_docs:\n",
    "        test_set.append(model.make_doc(doc))\n",
    "    \n",
    "    # return topic distribution and log-likelihood of new documents\n",
    "    topic_dist, likelihood = model.infer(test_set)\n",
    "    \n",
    "    # use mean log-likelihood as performance measure\n",
    "    return np.mean(likelihood)\n",
    "\n",
    "def compute_test_pp(ll, docs):\n",
    "    \"\"\" pp = exp(-ll/ct)\"\"\"\n",
    "    ct = sum([len(docs) for doc in docs])\n",
    "    pp = np.exp(-1*ll/ct)\n",
    "    return pp"
   ]
  },
  {
   "cell_type": "code",
   "execution_count": 48,
   "metadata": {},
   "outputs": [],
   "source": [
    "random.seed = 11"
   ]
  },
  {
   "cell_type": "code",
   "execution_count": 50,
   "metadata": {},
   "outputs": [
    {
     "name": "stdout",
     "output_type": "stream",
     "text": [
      "20494\n"
     ]
    },
    {
     "data": {
      "text/plain": [
       "True"
      ]
     },
     "execution_count": 50,
     "metadata": {},
     "output_type": "execute_result"
    }
   ],
   "source": [
    "# split data in train, test and validation set\n",
    "print(len(cleaned))\n",
    "train_size = int(0.7*len(cleaned)) #70% for training\n",
    "test_size = int(0.3*len(cleaned)) #30% for testing \n",
    "\n",
    "random.shuffle(cleaned)\n",
    "\n",
    "train_docs = cleaned[0:train_size]\n",
    "test_docs = cleaned[train_size:]\n",
    "\n",
    "len(train_docs) + len(test_docs) == len(cleaned)"
   ]
  },
  {
   "cell_type": "code",
   "execution_count": 56,
   "metadata": {},
   "outputs": [],
   "source": [
    "# Defining the grid\n",
    "\n",
    "c = []\n",
    "for doc in train_docs: \n",
    "    c+=doc\n",
    "w = len(set(c))\n",
    "\n",
    "k2s = [50, 100, 150, 200, 300, 350, 450]\n",
    "etas = [1/w, 10/w, 0.1/w, None]"
   ]
  },
  {
   "cell_type": "code",
   "execution_count": 57,
   "metadata": {},
   "outputs": [
    {
     "name": "stdout",
     "output_type": "stream",
     "text": [
      "K1= 1, K2= 5, alpha = 1.0, eta=1.6729681801452137e-05 -----------------------------\n"
     ]
    },
    {
     "name": "stderr",
     "output_type": "stream",
     "text": [
      "Training...\n"
     ]
    },
    {
     "name": "stdout",
     "output_type": "stream",
     "text": [
      "Num docs: 14345 , Vocab size: 59774 , Num words: 1736829\n",
      "Removed top words: []\n",
      "Iteration: 0\n",
      "Iteration: 100\n",
      "Iteration: 200\n",
      "Iteration: 300\n",
      "Iteration: 400\n",
      "Iteration: 500\n",
      "Iteration: 600\n",
      "Iteration: 700\n",
      "Iteration: 800\n",
      "Iteration: 900\n",
      "Test perplexity = 1.0000291501703582\n",
      "Time elapsed: 92.4 s\n",
      "K1= 1, K2= 5, alpha = 1.0, eta=0.00016729681801452137 -----------------------------\n"
     ]
    },
    {
     "name": "stderr",
     "output_type": "stream",
     "text": [
      "Training...\n"
     ]
    },
    {
     "name": "stdout",
     "output_type": "stream",
     "text": [
      "Num docs: 14345 , Vocab size: 59774 , Num words: 1736829\n",
      "Removed top words: []\n",
      "Iteration: 0\n"
     ]
    },
    {
     "ename": "KeyboardInterrupt",
     "evalue": "",
     "output_type": "error",
     "traceback": [
      "\u001b[0;31m---------------------------------------------------------------------------\u001b[0m",
      "\u001b[0;31mKeyboardInterrupt\u001b[0m                         Traceback (most recent call last)",
      "\u001b[0;32m<ipython-input-57-9fc795afbd31>\u001b[0m in \u001b[0;36m<module>\u001b[0;34m\u001b[0m\n\u001b[1;32m     31\u001b[0m                                           \u001b[0mmodel_burn_in\u001b[0m\u001b[0;34m=\u001b[0m\u001b[0mmodel_burn_in\u001b[0m\u001b[0;34m,\u001b[0m\u001b[0;34m\u001b[0m\u001b[0;34m\u001b[0m\u001b[0m\n\u001b[1;32m     32\u001b[0m                                           \u001b[0mtrain_updates\u001b[0m \u001b[0;34m=\u001b[0m \u001b[0mtrain_updates\u001b[0m\u001b[0;34m,\u001b[0m\u001b[0;34m\u001b[0m\u001b[0;34m\u001b[0m\u001b[0m\n\u001b[0;32m---> 33\u001b[0;31m                                           train_iter = train_iter)\n\u001b[0m\u001b[1;32m     34\u001b[0m \u001b[0;34m\u001b[0m\u001b[0m\n\u001b[1;32m     35\u001b[0m                 \u001b[0;31m# LL\u001b[0m\u001b[0;34m\u001b[0m\u001b[0;34m\u001b[0m\u001b[0;34m\u001b[0m\u001b[0m\n",
      "\u001b[0;32m<ipython-input-53-7863d6000077>\u001b[0m in \u001b[0;36mtrain_PA\u001b[0;34m(documents, k1, k2, min_cf, rm_top, alpha, eta, model_burn_in, train_updates, train_iter)\u001b[0m\n\u001b[1;32m     19\u001b[0m     \u001b[0mLLs\u001b[0m \u001b[0;34m=\u001b[0m \u001b[0;34m[\u001b[0m\u001b[0;34m]\u001b[0m\u001b[0;34m\u001b[0m\u001b[0;34m\u001b[0m\u001b[0m\n\u001b[1;32m     20\u001b[0m     \u001b[0;32mfor\u001b[0m \u001b[0mi\u001b[0m \u001b[0;32min\u001b[0m \u001b[0mrange\u001b[0m\u001b[0;34m(\u001b[0m\u001b[0;36m0\u001b[0m\u001b[0;34m,\u001b[0m \u001b[0mtrain_updates\u001b[0m\u001b[0;34m,\u001b[0m \u001b[0mtrain_iter\u001b[0m\u001b[0;34m)\u001b[0m\u001b[0;34m:\u001b[0m\u001b[0;34m\u001b[0m\u001b[0;34m\u001b[0m\u001b[0m\n\u001b[0;32m---> 21\u001b[0;31m         \u001b[0mmodel\u001b[0m\u001b[0;34m.\u001b[0m\u001b[0mtrain\u001b[0m\u001b[0;34m(\u001b[0m\u001b[0mtrain_iter\u001b[0m\u001b[0;34m)\u001b[0m\u001b[0;34m\u001b[0m\u001b[0;34m\u001b[0m\u001b[0m\n\u001b[0m\u001b[1;32m     22\u001b[0m         \u001b[0;32mif\u001b[0m \u001b[0mi\u001b[0m\u001b[0;34m%\u001b[0m\u001b[0;36m100\u001b[0m\u001b[0;34m==\u001b[0m\u001b[0;36m0\u001b[0m\u001b[0;34m:\u001b[0m\u001b[0mprint\u001b[0m\u001b[0;34m(\u001b[0m\u001b[0;34m'Iteration: {}'\u001b[0m\u001b[0;34m.\u001b[0m\u001b[0mformat\u001b[0m\u001b[0;34m(\u001b[0m\u001b[0mi\u001b[0m\u001b[0;34m)\u001b[0m\u001b[0;34m)\u001b[0m\u001b[0;34m\u001b[0m\u001b[0;34m\u001b[0m\u001b[0m\n\u001b[1;32m     23\u001b[0m         \u001b[0mtime\u001b[0m\u001b[0;34m.\u001b[0m\u001b[0mappend\u001b[0m\u001b[0;34m(\u001b[0m\u001b[0mi\u001b[0m\u001b[0;34m)\u001b[0m\u001b[0;34m\u001b[0m\u001b[0;34m\u001b[0m\u001b[0m\n",
      "\u001b[0;31mKeyboardInterrupt\u001b[0m: "
     ]
    }
   ],
   "source": [
    "# Grid search of best topic number (this needs to run for a while)\n",
    "# We collect LL, perplexity and coherence scores, saving them in variables \n",
    "\n",
    "import time\n",
    "\n",
    "pps = []\n",
    "best_models = []\n",
    "# number of words in our vocabulary\n",
    "c = []\n",
    "for doc in train_docs: \n",
    "    c+=doc\n",
    "w = len(set(c))\n",
    "\n",
    "# define training parameters \n",
    "model_burn_in=250\n",
    "train_updates = 1000\n",
    "train_iter = 10\n",
    "\n",
    "for k2 in k2s:\n",
    "    for k1 in [int(k2/5), int(k2/10), int(k2/20)]:\n",
    "    \n",
    "        start = time.time()\n",
    "\n",
    "        for alpha in [1/k1, 0.1/k1, 0.01/k1]:      \n",
    "            for eta in etas:\n",
    "\n",
    "                print(\"K1= \"+str(k1)+ \", K2= \" + str(k2) + \", alpha = \"+str(alpha)+\", eta=\"+str(eta)+\" -----------------------------\")\n",
    "                model, LLs, _ = train_PA(train_docs, k1 = k1, k2 = k2, \n",
    "                                          alpha=alpha,\n",
    "                                          eta=eta, \n",
    "                                          model_burn_in=model_burn_in,\n",
    "                                          train_updates = train_updates, \n",
    "                                          train_iter = train_iter)\n",
    "\n",
    "                # LL\n",
    "                ll = get_test_LL(test_docs, model)\n",
    "                ## PP\n",
    "                pp = compute_test_pp(ll, test_docs)\n",
    "                pps += [pp]\n",
    "                print(\"Test perplexity = \"+str(pp))\n",
    "\n",
    "\n",
    "                end = time.time()\n",
    "\n",
    "                print(\"Time elapsed: \"+ str(round(end - start,1))+\" s\")"
   ]
  },
  {
   "cell_type": "markdown",
   "metadata": {},
   "source": [
    "## 3. Enriching the data\n",
    "\n",
    "In this section we merge the data extracted from the topic modeling back into the original dataset. "
   ]
  },
  {
   "cell_type": "code",
   "execution_count": null,
   "metadata": {},
   "outputs": [],
   "source": [
    "dictionary = Dictionary(cleaned)\n",
    "topics = get_topics(model, k)\n",
    "corpus = get_corpus(dictionary, cleaned)\n",
    "cm = CoherenceModel(topics=topics, corpus=cleaned, dictionary=dictionary, texts=cleaned, coherence='c_v')\n",
    "cm.get_coherence()"
   ]
  },
  {
   "cell_type": "code",
   "execution_count": 43,
   "metadata": {},
   "outputs": [],
   "source": [
    "topic2words = [model.get_topic_word_dist(k) for k in range(model.k)]\n",
    "doc2topics = [doc.get_topic_dist() for doc in model.docs]"
   ]
  },
  {
   "cell_type": "code",
   "execution_count": null,
   "metadata": {},
   "outputs": [],
   "source": [
    "dictionary[]"
   ]
  },
  {
   "cell_type": "code",
   "execution_count": 48,
   "metadata": {},
   "outputs": [
    {
     "data": {
      "text/plain": [
       "[('sequenc', 0.05762949213385582),\n",
       " ('genom', 0.046666838228702545),\n",
       " ('dna', 0.027408117428421974),\n",
       " ('read', 0.017926903441548347),\n",
       " ('assembl', 0.014519591815769672),\n",
       " ('variant', 0.009927128441631794),\n",
       " ('align', 0.009334552101790905),\n",
       " ('librari', 0.00903826393187046),\n",
       " ('bp', 0.008445687592029572),\n",
       " ('mutat', 0.008149400353431702)]"
      ]
     },
     "execution_count": 48,
     "metadata": {},
     "output_type": "execute_result"
    }
   ],
   "source": [
    "model.get_topic_words(2)"
   ]
  }
 ],
 "metadata": {
  "kernelspec": {
   "display_name": "Python 3",
   "language": "python",
   "name": "python3"
  },
  "language_info": {
   "codemirror_mode": {
    "name": "ipython",
    "version": 3
   },
   "file_extension": ".py",
   "mimetype": "text/x-python",
   "name": "python",
   "nbconvert_exporter": "python",
   "pygments_lexer": "ipython3",
   "version": "3.7.4"
  }
 },
 "nbformat": 4,
 "nbformat_minor": 2
}
